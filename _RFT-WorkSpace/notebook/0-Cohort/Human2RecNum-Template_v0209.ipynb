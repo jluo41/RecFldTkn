{
 "cells": [
  {
   "cell_type": "markdown",
   "id": "5ab3f242",
   "metadata": {},
   "source": [
    "# Space"
   ]
  },
  {
   "cell_type": "code",
   "execution_count": null,
   "id": "80023bfe",
   "metadata": {},
   "outputs": [],
   "source": [
    "import os\n",
    "import logging\n",
    "import pandas as pd \n",
    "from IPython.display import display, HTML\n",
    "KEY = 'WorkSpace'\n",
    "WORKSPACE_PATH = os.getcwd().split(KEY)[0] + KEY\n",
    "print(WORKSPACE_PATH)\n",
    "os.chdir(WORKSPACE_PATH)\n",
    "\n",
    "import sys\n",
    "sys.path.append(WORKSPACE_PATH)\n",
    "from proj_space import PROJECT, TaskName, SPACE\n",
    "SPACE['WORKSPACE_PATH'] = WORKSPACE_PATH\n",
    "sys.path.append(SPACE['CODE_FN'])\n",
    "\n",
    "recfldtkn_config_path = os.path.join(SPACE['CODE_FN'], 'config_recfldtkn/')\n",
    "\n",
    "logger = logging.getLogger(__name__)\n",
    "logging.basicConfig(level=logging.INFO, format='[%(levelname)s:%(asctime)s:(%(filename)s@%(lineno)d %(name)s)]: %(message)s')"
   ]
  },
  {
   "cell_type": "code",
   "execution_count": null,
   "id": "07aaed23",
   "metadata": {},
   "outputs": [],
   "source": [
    "from recfldtkn.configfn import load_cohort_args\n",
    "\n",
    "cohort_args = load_cohort_args(recfldtkn_config_path, SPACE)"
   ]
  },
  {
   "cell_type": "code",
   "execution_count": null,
   "id": "134e78df",
   "metadata": {},
   "outputs": [],
   "source": [
    "from recfldtkn.configfn import get_rec_related_size\n",
    "\n",
    "P2RecNumName = cohort_args['RecName']\n",
    "RFT_GROUP_SIZE, idx_group_size, usebucket = get_rec_related_size(P2RecNumName, cohort_args)\n",
    "print(RFT_GROUP_SIZE, idx_group_size, usebucket)"
   ]
  },
  {
   "cell_type": "markdown",
   "id": "e6322cf4-8fe3-4235-bb43-3f5a5b04ff20",
   "metadata": {},
   "source": [
    "# Cohort: Pick A Cohort"
   ]
  },
  {
   "cell_type": "code",
   "execution_count": null,
   "id": "cb1b42c8",
   "metadata": {},
   "outputs": [],
   "source": [
    "import argparse\n",
    "my_parser = argparse.ArgumentParser(description='Process Input.')\n",
    "\n",
    "my_parser.add_argument('--cohort_name',\n",
    "                    metavar='cohort_name',\n",
    "                    default = None, \n",
    "                    type=str,\n",
    "                    help='the cohort_name to process')\n",
    "\n",
    "my_parser.add_argument('--cohort_label',\n",
    "                    metavar='cohort_label',\n",
    "                    default = None, \n",
    "                    type=str,\n",
    "                    help='the label for cohort_name to process')"
   ]
  },
  {
   "cell_type": "code",
   "execution_count": null,
   "id": "e333daf2",
   "metadata": {},
   "outputs": [],
   "source": [
    "################### in notebook ###################\n",
    "args_information = ['--cohort_label', '1']\n",
    "\n",
    "args = my_parser.parse_args(args_information)\n",
    "###################################################"
   ]
  },
  {
   "cell_type": "markdown",
   "id": "4d95f1c3-2ef7-4558-8f99-69d671fea6bb",
   "metadata": {},
   "source": [
    "# Helper Function"
   ]
  },
  {
   "cell_type": "code",
   "execution_count": null,
   "id": "03f2abed",
   "metadata": {},
   "outputs": [],
   "source": [
    "######################### You many want to change these functions to make it run.\n",
    "selected_source_file_suffix_list = ['csv']\n",
    "excluded_cols = [] # excluding raw_record_names. \n",
    "#########################"
   ]
  },
  {
   "cell_type": "code",
   "execution_count": null,
   "id": "57c6ba15",
   "metadata": {},
   "outputs": [],
   "source": [
    "import inspect\n",
    "\n",
    "#########################\n",
    "def get_id_column(columns):\n",
    "    if 'patient_id_encoded' in columns: \n",
    "        id_column = 'patient_id_encoded' \n",
    "    return id_column\n",
    "\n",
    "get_id_column.fn_string = inspect.getsource(get_id_column)\n",
    "#########################"
   ]
  },
  {
   "cell_type": "code",
   "execution_count": null,
   "id": "cded7769",
   "metadata": {},
   "outputs": [],
   "source": [
    "#########################\n",
    "def get_tablename_from_file(file_path):\n",
    "    name = file_path.split('/')[-1].split('_df_')[0]\n",
    "    return name\n",
    "\n",
    "get_tablename_from_file.fn_string = inspect.getsource(get_tablename_from_file)\n",
    "#########################"
   ]
  },
  {
   "cell_type": "code",
   "execution_count": null,
   "id": "edbc98ff",
   "metadata": {},
   "outputs": [],
   "source": [
    "from recfldtkn.loadtools import convert_variables_to_pystirng, load_module_variables\n",
    "\n",
    "prefix = ['import pandas as pd', 'import numpy as np']\n",
    "iterative_variables = [selected_source_file_suffix_list, excluded_cols]\n",
    "fn_variables = [get_id_column, get_tablename_from_file]\n",
    "pycode = convert_variables_to_pystirng(iterative_variables = iterative_variables, \n",
    "                                       fn_variables = fn_variables, \n",
    "                                       prefix = prefix)\n",
    "pypath = cohort_args['pypath']\n",
    "# print(pypath)\n",
    "with open(pypath, 'w') as file: file.write(pycode)\n",
    "# Create a HTML link and display it\n",
    "full_path = os.path.join(WORKSPACE_PATH, pypath)\n",
    "display(HTML(f'{pypath} <a href=\"{full_path}\" target=\"_blank\">Open File</a>'))"
   ]
  },
  {
   "cell_type": "markdown",
   "id": "262266b9",
   "metadata": {},
   "source": [
    "# Process dfHumanRec"
   ]
  },
  {
   "cell_type": "code",
   "execution_count": null,
   "id": "e82c065f",
   "metadata": {},
   "outputs": [],
   "source": [
    "from recfldtkn.pipeline_record import get_cohort_level_record_number_counts\n",
    "\n",
    "cohort_label = int(args.cohort_label)\n",
    "cohort_name = [v for k, v in cohort_args['CohortInfo'].items() \n",
    "               if v['cohort_label'] == cohort_label][0]['cohort_name']\n",
    "\n",
    "print(f'=============== {cohort_name}: {cohort_label} ======================')\n",
    "print(cohort_name, cohort_label)\n",
    "\n",
    "df_Human = get_cohort_level_record_number_counts(cohort_name, cohort_label, cohort_args)\n",
    "df_Human"
   ]
  },
  {
   "cell_type": "code",
   "execution_count": null,
   "id": "a7d9f904",
   "metadata": {},
   "outputs": [],
   "source": [
    "import datasets\n",
    "ds_HumanRec = datasets.Dataset.from_pandas(df_Human)\n",
    "print(ds_HumanRec)"
   ]
  },
  {
   "cell_type": "code",
   "execution_count": null,
   "id": "12b947e6",
   "metadata": {},
   "outputs": [],
   "source": [
    "cohort_args['RecName']"
   ]
  },
  {
   "cell_type": "code",
   "execution_count": null,
   "id": "deed8f5a",
   "metadata": {},
   "outputs": [],
   "source": [
    "print(SPACE['DATA_RFT'])\n",
    "\n",
    "full_cohort_name = f'{cohort_label}-{cohort_name}'\n",
    "print(full_cohort_name)\n",
    "# ------------------------------------------------------------------------- # \n",
    "path = os.path.join(SPACE['DATA_RFT'], full_cohort_name, cohort_args['RecName'] + '_data')\n",
    "print(path)\n",
    "ds_HumanRec.save_to_disk(path)\n",
    "print(ds_HumanRec)"
   ]
  },
  {
   "cell_type": "markdown",
   "id": "711585b7",
   "metadata": {},
   "source": [
    "# Select Patients with PID"
   ]
  },
  {
   "cell_type": "code",
   "execution_count": null,
   "id": "515dbdf5",
   "metadata": {},
   "outputs": [],
   "source": [
    "from recfldtkn.loadtools import load_ds_rec_and_info\n",
    "ds_Human, _ = load_ds_rec_and_info(cohort_args['RecName'], cohort_args)\n",
    "df_Human = ds_Human.to_pandas()\n",
    "df_Human"
   ]
  },
  {
   "cell_type": "code",
   "execution_count": null,
   "id": "e3a45c23",
   "metadata": {},
   "outputs": [],
   "source": [
    "RootID = cohort_args['RootID']\n",
    "RawRootID = cohort_args['RawRootID']\n",
    "PID_list = [1013405, 1002538, 1022279, 1004432, 1016032, 1032308, 1031363, 1001133, 1007343, 1026067]\n",
    "print(PID_list)"
   ]
  },
  {
   "cell_type": "code",
   "execution_count": null,
   "id": "1e7f2a88",
   "metadata": {},
   "outputs": [],
   "source": [
    "def get_patient_records_Ri(RawRootID_sample, RawRootID, cohort_args):\n",
    "    d = {}\n",
    "    cohort_config = cohort_args['CohortInfo'][cohort_name]\n",
    "    FolderPath = cohort_config['FolderPath']\n",
    "    chunk_size = 100000\n",
    "\n",
    "    file_list = sorted(os.listdir(FolderPath))\n",
    "    file_list = [i for i in file_list if 'csv' in i]\n",
    "    for file in file_list:\n",
    "        full_file = os.path.join(FolderPath, file)\n",
    "        li = [chunk[chunk[RawRootID] == RawRootID_sample] \n",
    "              for chunk in pd.read_csv(full_file, chunksize=chunk_size, low_memory=False)]\n",
    "        result = pd.concat(li)\n",
    "        logger.info(f'{result.shape}: {file}')\n",
    "        if len(result) == 0: continue\n",
    "        d[file] = result\n",
    "        \n",
    "    return d"
   ]
  },
  {
   "cell_type": "code",
   "execution_count": null,
   "id": "30a9978b",
   "metadata": {},
   "outputs": [],
   "source": [
    "for PID_sample in PID_list:\n",
    "    print('\\n======== PID_sample:', PID_sample, '========')\n",
    "    PIDInfo_dict = df_Human[df_Human[RootID] == PID_sample].iloc[0].to_dict()\n",
    "    RawRootID_sample = PIDInfo_dict[RawRootID]\n",
    "    d = get_patient_records_Ri(RawRootID_sample, RawRootID, cohort_args)\n",
    "    folder = os.path.join(SPACE['DATA_RAW'], 'patient_sample', str(PID_sample))\n",
    "    if os.path.exists(folder) == False: os.makedirs(folder)\n",
    "    for file, df in d.items():\n",
    "        df.to_csv(os.path.join(folder, file), index = False)\n",
    "        print(file, df.shape)"
   ]
  }
 ],
 "metadata": {
  "kernelspec": {
   "display_name": "Python 3 (ipykernel)",
   "language": "python",
   "name": "python3"
  },
  "language_info": {
   "codemirror_mode": {
    "name": "ipython",
    "version": 3
   },
   "file_extension": ".py",
   "mimetype": "text/x-python",
   "name": "python",
   "nbconvert_exporter": "python",
   "pygments_lexer": "ipython3",
   "version": "3.11.7"
  },
  "toc": {
   "base_numbering": 1,
   "nav_menu": {},
   "number_sections": true,
   "sideBar": true,
   "skip_h1_title": false,
   "title_cell": "Table of Contents",
   "title_sidebar": "Contents",
   "toc_cell": false,
   "toc_position": {},
   "toc_section_display": true,
   "toc_window_display": true
  }
 },
 "nbformat": 4,
 "nbformat_minor": 5
}
