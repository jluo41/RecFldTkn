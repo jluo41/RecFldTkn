{
 "cells": [
  {
   "cell_type": "markdown",
   "id": "5ab3f242",
   "metadata": {},
   "source": [
    "# Space"
   ]
  },
  {
   "cell_type": "code",
   "execution_count": null,
   "id": "80023bfe",
   "metadata": {},
   "outputs": [],
   "source": [
    "import os\n",
    "import logging\n",
    "import pandas as pd \n",
    "from IPython.display import display, HTML\n",
    "KEY = 'WorkSpace'\n",
    "WORKSPACE_PATH = os.getcwd().split(KEY)[0] + KEY\n",
    "print(WORKSPACE_PATH)\n",
    "os.chdir(WORKSPACE_PATH)\n",
    "\n",
    "import sys\n",
    "sys.path.append(WORKSPACE_PATH)\n",
    "from proj_space import PROJECT, TaskName, SPACE\n",
    "SPACE['WORKSPACE_PATH'] = WORKSPACE_PATH\n",
    "sys.path.append(SPACE['CODE_FN'])\n",
    "\n",
    "recfldtkn_config_path = os.path.join(SPACE['CODE_FN'], 'config_recfldtkn/')\n",
    "\n",
    "logger = logging.getLogger(__name__)\n",
    "logging.basicConfig(level=logging.INFO, format='[%(levelname)s:%(asctime)s:(%(filename)s@%(lineno)d %(name)s)]: %(message)s')"
   ]
  },
  {
   "cell_type": "markdown",
   "id": "704eb394",
   "metadata": {},
   "source": [
    "# [Part 1]: develop fn_humanrec.py\n",
    " \n",
    " we want to calculate how many records each patient has under different columns. "
   ]
  },
  {
   "cell_type": "markdown",
   "id": "ffff287a",
   "metadata": {},
   "source": [
    "## [Step 1]: Create Cohort Yaml\n",
    "\n",
    "Motivation: To create a Cohort Yaml file to preprare for next steps.\n",
    "\n",
    "Insturction: To run the following code. "
   ]
  },
  {
   "cell_type": "code",
   "execution_count": null,
   "id": "11053dc8",
   "metadata": {},
   "outputs": [],
   "source": [
    "# Create a HTML link and display it\n",
    "path = os.path.join(recfldtkn_config_path, 'Cohort.yaml')\n",
    "full_path = os.path.join(WORKSPACE_PATH, path)\n",
    "display(HTML(f'{path} <a href=\"{full_path}\" target=\"_blank\">Open File</a>'))"
   ]
  },
  {
   "cell_type": "markdown",
   "id": "a98cad1a",
   "metadata": {},
   "source": [
    "## [Step 2]: Update Cohort Yaml\n",
    "Motivation: \n",
    "We want to store the Cohort information for future development. \n",
    "\n",
    "Aim:\n",
    "To store Chort raw data path and also specify RawRootID and RoodID\n",
    "\n",
    "Input: \n",
    "CohortInfo, RawRootID and RootID\n",
    "\n",
    "Output:\n",
    "Updated Yaml file\n",
    "\n",
    "Instruction: \n",
    "\n",
    "We only need to change the following part of Cohort Yaml file, \n",
    "1. ChortInfo: This folder where we save the raw data \n",
    "2. RawRootID: HumanID in Raw Data, for WellDoc project, this is Patient, for MedStar Project, this Pid_ms\n",
    "3. RootID: this si HumanID in RFT Data, in WellDoc project, this is PID\n",
    "\n"
   ]
  },
  {
   "cell_type": "markdown",
   "id": "b03d4744",
   "metadata": {},
   "source": [
    "**Template**\n",
    "\n",
    "```yaml\n",
    "# %%%%%%%%%%%%%%%%%%%%%%%%%%%%%%  the folders where to save the data\n",
    "CohortInfo:\n",
    "  COHORT_NAME_XXXXXX: # <---- change this.\n",
    "    cohort_label: 1\n",
    "    FolderPath: $DATA_RAW$/COHORT_NAME_XXXXXX\n",
    "\n",
    "# %%%%%%%%%%%%%%%%%%%%%%%%%%%%%%  where to get the raw Human data.\n",
    "RawRootID: 'XXXXXXXXX' # <--- HumanID in Raw Data. \n",
    "RootID:  'XXXXXXXXX'        # <--- HumanID in RFT Data. \n",
    "```"
   ]
  },
  {
   "cell_type": "markdown",
   "id": "30909ab8",
   "metadata": {},
   "source": [
    "**Update and Copy Your Yaml**\n",
    "\n",
    "\n",
    "```yaml\n",
    "# %%%%%%%%%%%%%%%%%%%%%%%%%%%%%%  the folders where to save the data\n",
    "CohortInfo:\n",
    "  RawData2022_CGM:\n",
    "    cohort_label: 1\n",
    "    FolderPath: $DATA_RAW$/RawData2022_CGM/\n",
    "    \n",
    "  RawData2023_CVSTDCAug:\n",
    "    cohort_label: 2\n",
    "    FolderPath: $DATA_RAW$/RawData2023_CVSTDCAug/\n",
    "    \n",
    "  RawData2023_CVSDeRxAug:\n",
    "    cohort_label: 3\n",
    "    FolderPath: $DATA_RAW$/RawData2023_CVSDeRxAug/\n",
    "\n",
    "# %%%%%%%%%%%%%%%%%%%%%%%%%%%%%%  where to get the raw Human data.\n",
    "RawRootID: 'PatientID' # <--- HumanID in Raw Data. \n",
    "RootID:  'PID'         # <--- HumanID in RFT Data. \n",
    "```"
   ]
  },
  {
   "cell_type": "code",
   "execution_count": null,
   "id": "27f10d0f",
   "metadata": {},
   "outputs": [],
   "source": [
    "display(HTML(f'{path} <a href=\"{full_path}\" target=\"_blank\">Open File</a>'))"
   ]
  },
  {
   "cell_type": "markdown",
   "id": "e6322cf4-8fe3-4235-bb43-3f5a5b04ff20",
   "metadata": {},
   "source": [
    "## [Step 3] Cohort: Pick OneCohort\n",
    "\n",
    "Motivation: We want to choose one cohort and test our code in this one cohort.\n",
    "\n",
    "Aim: Specify a cohort\n",
    "\n",
    "Input: Cohort Yaml\n",
    "\n",
    "Output: Cohort name and Cohort label of the cohort we want to choose.\n",
    "\n",
    "Instruction: Change ```args_information = ['--cohort_label', '1'] ```"
   ]
  },
  {
   "cell_type": "code",
   "execution_count": null,
   "id": "41d3b97b",
   "metadata": {},
   "outputs": [],
   "source": [
    "recfldtkn_config_path"
   ]
  },
  {
   "cell_type": "code",
   "execution_count": null,
   "id": "69d89fc7",
   "metadata": {},
   "outputs": [],
   "source": [
    "################### in notebook ###################  \n",
    "args_information = ['--cohort_label', '1'] # < ------- change here\n",
    "###################################################"
   ]
  },
  {
   "cell_type": "code",
   "execution_count": null,
   "id": "cb1b42c8",
   "metadata": {},
   "outputs": [],
   "source": [
    "import argparse\n",
    "from recfldtkn.configfn import load_cohort_args\n",
    "\n",
    "cohort_args = load_cohort_args(recfldtkn_config_path, SPACE)\n",
    "\n",
    "\n",
    "my_parser = argparse.ArgumentParser(description='Process Input.')\n",
    "\n",
    "my_parser.add_argument('--cohort_name',\n",
    "                    metavar='cohort_name',\n",
    "                    default = None, \n",
    "                    type=str,\n",
    "                    help='the cohort_name to process')\n",
    "\n",
    "my_parser.add_argument('--cohort_label',\n",
    "                    metavar='cohort_label',\n",
    "                    default = None, \n",
    "                    type=str,\n",
    "                    help='the label for cohort_name to process')\n",
    "\n",
    "args = my_parser.parse_args(args_information)\n",
    "\n",
    "cohort_label = int(args.cohort_label)\n",
    "cohort_name = [v for k, v in cohort_args['CohortInfo'].items() \n",
    "               if v['cohort_label'] == cohort_label][0]['cohort_name']\n",
    "\n",
    "print(f'=============== {cohort_name}: {cohort_label} ======================')\n",
    "print(cohort_name, cohort_label)\n"
   ]
  },
  {
   "cell_type": "markdown",
   "id": "b194cb80",
   "metadata": {},
   "source": [
    "## [Step 4] OneCohort_Args\n",
    "Motivation: We want to check one cohort information \n",
    "\n",
    "Aim: Display one Cohort informaiton\n",
    "\n",
    "Input: cohort_arges\n",
    "\n",
    "Output: NA\n",
    "\n",
    "Instruction: Run following code.\n"
   ]
  },
  {
   "cell_type": "code",
   "execution_count": null,
   "id": "bf45f50e",
   "metadata": {},
   "outputs": [],
   "source": [
    "OneCohort_Args = cohort_args['CohortInfo'][cohort_name]\n",
    "OneCohort_Args"
   ]
  },
  {
   "cell_type": "code",
   "execution_count": null,
   "id": "d71823fa",
   "metadata": {},
   "outputs": [],
   "source": [
    "os.listdir(OneCohort_Args['FolderPath'])"
   ]
  },
  {
   "cell_type": "markdown",
   "id": "4d95f1c3-2ef7-4558-8f99-69d671fea6bb",
   "metadata": {},
   "source": [
    "## [Step 5] selected_source_file_suffix_list\n",
    "Motivation:  we select file suffixes relates to the varied data storage formats used across different projects. For instance, in the WellDoc project, our data is stored in CSV format. By specifying file suffixes, we can accurately identify or filter files with particular extensions.\n",
    "\n",
    "Aim: Ensures that our processing or analysis workflows interact only with the relevant types of files\n",
    "\n",
    "Input: selected_source_file_suffix_list = ['csv']\n",
    "\n",
    "Output: selected_file_list\n",
    "\n",
    "Instruction: Based on the project, choose selected_source_file_suffix_list and then run following code\n",
    "\n"
   ]
  },
  {
   "cell_type": "code",
   "execution_count": null,
   "id": "916dc035",
   "metadata": {},
   "outputs": [],
   "source": [
    "#########################\n",
    "selected_source_file_suffix_list = ['csv']\n",
    "#########################\n",
    "\n",
    "\n",
    "# this step will be conducted within the pipeline\n",
    "selected_file_list = [file for file in os.listdir(OneCohort_Args['FolderPath']) \n",
    "                      if file.endswith(tuple(selected_source_file_suffix_list))]\n",
    "print(len(selected_file_list))"
   ]
  },
  {
   "cell_type": "code",
   "execution_count": null,
   "id": "d9f0be23",
   "metadata": {},
   "outputs": [],
   "source": [
    "selected_file_list[:10]"
   ]
  },
  {
   "cell_type": "markdown",
   "id": "0e9331d2",
   "metadata": {},
   "source": [
    "## [Step 6] Map Raw Table file to Raw Table name\n",
    "\n",
    "Motivation: Associating each file's data with its name as the column header can help in efficiently organizing and identifying data sourced from multiple files. \n",
    "\n",
    "Aim:  '05_12_2022_PatientCGMDeviceDetail.csv' to 'PatientCGMDeviceDetail'\n",
    "\n",
    "Input: selected_file_list from last step \n",
    "\n",
    "Output: Raw Table name\n",
    "\n",
    "Instruction: Run following code \n",
    "\n"
   ]
  },
  {
   "cell_type": "code",
   "execution_count": null,
   "id": "7d30fa88",
   "metadata": {},
   "outputs": [],
   "source": [
    "import inspect\n",
    "#########################\n",
    "def get_tablename_from_raw_filename(file_path):\n",
    "    # name = file_path.split('/')[-1].split('_df_')[0]\n",
    "    tablename = file_path.split('_')[-1].split('.')[0]\n",
    "    return tablename\n",
    "\n",
    "get_tablename_from_raw_filename.fn_string = inspect.getsource(get_tablename_from_raw_filename)\n",
    "#########################"
   ]
  },
  {
   "cell_type": "code",
   "execution_count": null,
   "id": "2a289a28",
   "metadata": {},
   "outputs": [],
   "source": [
    "file_path = selected_file_list[0]\n",
    "\n",
    "tablename = get_tablename_from_raw_filename(file_path)\n",
    "print(file_path)\n",
    "print(tablename)"
   ]
  },
  {
   "cell_type": "code",
   "execution_count": null,
   "id": "b47e40c5",
   "metadata": {},
   "outputs": [],
   "source": [
    "# loop the selected_file_list\n",
    "l = []\n",
    "for i in selected_file_list:\n",
    "    tablename = get_tablename_from_raw_filename(i)\n",
    "    l.append(tablename)\n",
    "raw_table_name_list = l "
   ]
  },
  {
   "cell_type": "markdown",
   "id": "851737e1",
   "metadata": {},
   "source": [
    "## [Step 7]: get_rawrootid_column\n",
    "\n",
    "Motivation: We want to get the identifier columns as ```rawrootid```By identifying the correct identifier column name, subsequent data processing or analysis steps can use a consistent reference, regardless of the specific naming convention used in the raw data.\n",
    "\n",
    "Aim: Get ```rawrootid```\n",
    "\n",
    "Input: selected_file_list\n",
    "\n",
    "Output: rawrootid for files in selected_file_list\n",
    "\n",
    "Instruction: Change the following part according to different projects since rawrootid is different for different project group. \n",
    "```def get_rawrootid_from_raw_table_column(raw_table_columns):\n",
    "    if 'PatientID' in raw_table_columns: \n",
    "        rawrootid = 'PatientID' \n",
    "    if 'UserID' in raw_table_columns:\n",
    "        rawrootid = 'UserID'\n",
    "    if 'PatientId' in raw_table_columns: \n",
    "        rawrootid = 'PatientId' \n",
    "    return rawrootid```"
   ]
  },
  {
   "cell_type": "code",
   "execution_count": null,
   "id": "9acac515",
   "metadata": {},
   "outputs": [],
   "source": [
    "##################################################\n",
    "def get_rawrootid_from_raw_table_column(raw_table_columns):\n",
    "    if 'PatientID' in raw_table_columns: \n",
    "        rawrootid = 'PatientID' \n",
    "    if 'UserID' in raw_table_columns:\n",
    "        rawrootid = 'UserID'\n",
    "    if 'PatientId' in raw_table_columns: \n",
    "        rawrootid = 'PatientId' \n",
    "    return rawrootid\n",
    "\n",
    "get_rawrootid_from_raw_table_column.fn_string = inspect.getsource(get_rawrootid_from_raw_table_column)\n",
    "##################################################\n"
   ]
  },
  {
   "cell_type": "code",
   "execution_count": null,
   "id": "e99b0b6e",
   "metadata": {},
   "outputs": [],
   "source": [
    "# Iterate through each file in the selected file list.\n",
    "for file_path in selected_file_list:\n",
    "    print('\\n') # Print a newline for clearer output separation.\n",
    "     # Construct the full path to the file using the base folder path and the file name.\n",
    "    full_path = os.path.join(OneCohort_Args['FolderPath'], file_path)\n",
    "    # Check if the file is a CSV file.\n",
    "    if full_path.endswith('.csv'):\n",
    "        print(file_path, '<--- file_path')\n",
    "        df = pd.read_csv(full_path, nrows=5)\n",
    "        raw_table_columns = df.columns.tolist()\n",
    "        print(raw_table_columns, '<--- raw_table_columns')\n",
    "        # Identify the key identifier column from the column names list using a predefined function.\n",
    "        rawrootid = get_rawrootid_from_raw_table_column(raw_table_columns)\n",
    "        print(rawrootid, '<--- rawrootid')# Print the identified key identifier column name.\n",
    "     # Check if the file is a Pickle file and raise an error if so, as it's not supported.\n",
    "    elif full_path.endswith('.p'):\n",
    "        raise ValueError(f'.p is not supported: {full_path}')\n",
    "     # Raise an error for any file type that is not CSV or Pickle, indicating unsupported file type.\n",
    "    else:\n",
    "        raise ValueError(f'file type not supported: {full_path}')"
   ]
  },
  {
   "cell_type": "markdown",
   "id": "0f0a3d4e",
   "metadata": {},
   "source": [
    "## [Step 8]: Exclude Raw Table when we select the Patients.\n",
    "\n",
    "Motivation: \n",
    "We only focus on the patients who have at least one records. Also, some table we don't want to consider it. For example, Patient Table. \n",
    "\n",
    "Aim: \n",
    "patient A: PatientTable 1, ATable 0, BTable 0, CTable 0. \n",
    "\n",
    "patient B: PatientTable 1, ATable 1, BTable 0, CTable 0\n",
    "\n",
    "We don't want A because A's total record number except PatientTable is 0. \n",
    "We want B because B's total  record number except PatientTable is larger than 0.\n",
    "\n",
    "So we put `PatientTable` into `excluded_raw_table_name`.\n",
    "\n",
    "Instruciton: \n",
    "1. Initially, we set the list as empty\n",
    "2. Based on excluded_raw_table_name is empty, we will get the df_Human (df_Human2RawRecNum) at the end of this notebook.\n",
    "3. Then, we will check the df_Human, and see if there is any table that we want to exclude. If there is, we will add the table name to the excluded_raw_table_name list."
   ]
  },
  {
   "cell_type": "code",
   "execution_count": null,
   "id": "03f2abed",
   "metadata": {},
   "outputs": [],
   "source": [
    "# How to get the list. \n",
    "\n",
    "# initially, the list is empty\n",
    "# based on excluded_raw_table_name is empty\n",
    "# we will get the df_Human (df_Human2RawRecNum) at the end of this notebook.\n",
    "# Then, we will check the df_Human, and see if there is any table that we want to exclude.\n",
    "# if there is, we will add the table name to the excluded_raw_table_name list.\n",
    "\n",
    "#########################\n",
    "# excluded_raw_table_names = [] \n",
    "excluded_raw_table_names = ['UserDetail', 'Patient', \n",
    "                           'QuestionResponse', 'PatientBloodGlucoseTargets', \n",
    "                           'Rx', 'PatientObservationSummary', \n",
    "                           'PatientTargetSegment', 'TDC']\n",
    "#########################"
   ]
  },
  {
   "cell_type": "markdown",
   "id": "cded7769",
   "metadata": {},
   "source": [
    "## [Step 9]: Save the above tools into the pipeline folder\n",
    "Motivation: creating a more dynamic, efficient, and customizable workflow that can adapt to various data processing needs, automate repetitive tasks, and enhance the overall data analysis and handling process.\n",
    "\n",
    "Instruction: Run the following code.\n"
   ]
  },
  {
   "cell_type": "code",
   "execution_count": null,
   "id": "edbc98ff",
   "metadata": {},
   "outputs": [],
   "source": [
    "from recfldtkn.loadtools import convert_variables_to_pystirng, load_module_variables\n",
    "\n",
    "prefix = ['import pandas as pd', 'import numpy as np']\n",
    "iterative_variables = [selected_source_file_suffix_list, excluded_raw_table_names]\n",
    "fn_variables = [get_tablename_from_raw_filename, get_rawrootid_from_raw_table_column]\n",
    "pycode = convert_variables_to_pystirng(iterative_variables = iterative_variables, \n",
    "                                       fn_variables = fn_variables, \n",
    "                                       prefix = prefix)\n",
    "pypath = cohort_args['pypath']\n",
    "# print(pypath)\n",
    "with open(pypath, 'w') as file: file.write(pycode)\n",
    "# Create a HTML link and display it\n",
    "full_path = os.path.join(WORKSPACE_PATH, pypath)\n",
    "display(HTML(f'{pypath} <a href=\"{full_path}\" target=\"_blank\">Open File</a>'))"
   ]
  },
  {
   "cell_type": "markdown",
   "id": "262266b9",
   "metadata": {},
   "source": [
    "# [Part 2] Process dfHumanRec with Pipeline\n",
    "\n",
    "\n",
    "Given ../pipeline/fn_humanrec/humanrec.py  is ready. \n",
    "\n",
    "We have a pipeline tool: get_cohort_level_record_number_counts\n",
    "\n",
    "This will call this humanrec.py internally, to process our records. "
   ]
  },
  {
   "cell_type": "code",
   "execution_count": null,
   "id": "e6e5dd94",
   "metadata": {},
   "outputs": [],
   "source": [
    "cohort_args['pypath']"
   ]
  },
  {
   "cell_type": "markdown",
   "id": "c713ae6a",
   "metadata": {},
   "source": [
    "## [Step 1]: Call Pipeline to get df_Human\n",
    "Motivation: To calculate rec_num\n",
    "\n",
    "Aim: \n",
    "\n",
    "Input: ```cohort_name, cohort_label, cohort_args```\n",
    "\n",
    "Output: ```df_Human```\n",
    "\n",
    "Instruction: \n",
    "1. Here we have a pipeline function `get_cohort_level_record_number_counts` to get the df_Human.\n",
    "\n",
    "2. It will load the tools from '../pipeline/fn_humanrec/humanrec.py' to do the process.\n",
    "\n",
    "If you want to know the details of the pipeline_fn, you can go to the unpacking notebook to understand it more. "
   ]
  },
  {
   "cell_type": "code",
   "execution_count": null,
   "id": "e82c065f",
   "metadata": {},
   "outputs": [],
   "source": [
    "from recfldtkn.pipeline_record import get_cohort_level_record_number_counts\n",
    "df_Human = get_cohort_level_record_number_counts(cohort_name, cohort_label, cohort_args)\n",
    "df_Human"
   ]
  },
  {
   "cell_type": "markdown",
   "id": "38ad11f6",
   "metadata": {},
   "source": [
    "# [Step 2] Check and Update excluded_raw_table_names\n",
    "Motivation: Delect unnessary columns????"
   ]
  },
  {
   "cell_type": "code",
   "execution_count": null,
   "id": "ae619043",
   "metadata": {},
   "outputs": [],
   "source": [
    "df_Human"
   ]
  },
  {
   "cell_type": "markdown",
   "id": "3b411f7b",
   "metadata": {},
   "source": [
    "# [Step 3] Save ds_Human as HFDS"
   ]
  },
  {
   "cell_type": "code",
   "execution_count": null,
   "id": "a7d9f904",
   "metadata": {},
   "outputs": [],
   "source": [
    "import datasets\n",
    "ds_HumanRec = datasets.Dataset.from_pandas(df_Human)\n",
    "print(ds_HumanRec)"
   ]
  },
  {
   "cell_type": "code",
   "execution_count": null,
   "id": "12b947e6",
   "metadata": {},
   "outputs": [],
   "source": [
    "cohort_args['RecName']"
   ]
  },
  {
   "cell_type": "code",
   "execution_count": null,
   "id": "deed8f5a",
   "metadata": {},
   "outputs": [],
   "source": [
    "print(SPACE['DATA_RFT'])\n",
    "\n",
    "full_cohort_name = f'{cohort_label}-{cohort_name}'\n",
    "print(full_cohort_name)\n",
    "# ------------------------------------------------------------------------- # \n",
    "path = os.path.join(SPACE['DATA_RFT'], full_cohort_name, cohort_args['RecName'] + '_data')\n",
    "print(path)\n",
    "ds_HumanRec.save_to_disk(path)\n",
    "print(ds_HumanRec)"
   ]
  },
  {
   "cell_type": "markdown",
   "id": "711585b7",
   "metadata": {},
   "source": [
    "# [Part 3] Select Patients with PID"
   ]
  },
  {
   "cell_type": "code",
   "execution_count": null,
   "id": "515dbdf5",
   "metadata": {},
   "outputs": [],
   "source": [
    "# from recfldtkn.loadtools import load_ds_rec_and_info\n",
    "# ds_Human, _ = load_ds_rec_and_info(cohort_args['RecName'], cohort_args)\n",
    "# df_Human = ds_Human.to_pandas()\n",
    "# df_Human\n",
    "# RootID = cohort_args['RootID']\n",
    "# RawRootID = cohort_args['RawRootID']\n",
    "# PID_list = [1013405, 1002538, 1022279, 1004432, 1016032, 1032308, 1031363, 1001133, 1007343, 1026067]\n",
    "# print(PID_list)\n",
    "# def get_patient_records_Ri(RawRootID_sample, RawRootID, cohort_args):\n",
    "#     d = {}\n",
    "#     cohort_config = cohort_args['CohortInfo'][cohort_name]\n",
    "#     FolderPath = cohort_config['FolderPath']\n",
    "#     chunk_size = 100000\n",
    "\n",
    "#     file_list = sorted(os.listdir(FolderPath))\n",
    "#     file_list = [i for i in file_list if 'csv' in i]\n",
    "#     for file in file_list:\n",
    "#         full_file = os.path.join(FolderPath, file)\n",
    "#         li = [chunk[chunk[RawRootID] == RawRootID_sample] \n",
    "#               for chunk in pd.read_csv(full_file, chunksize=chunk_size, low_memory=False)]\n",
    "#         result = pd.concat(li)\n",
    "#         logger.info(f'{result.shape}: {file}')\n",
    "#         if len(result) == 0: continue\n",
    "#         d[file] = result\n",
    "        \n",
    "#     return d\n",
    "\n",
    "# for PID_sample in PID_list:\n",
    "#     print('\\n======== PID_sample:', PID_sample, '========')\n",
    "#     PIDInfo_dict = df_Human[df_Human[RootID] == PID_sample].iloc[0].to_dict()\n",
    "#     RawRootID_sample = PIDInfo_dict[RawRootID]\n",
    "#     d = get_patient_records_Ri(RawRootID_sample, RawRootID, cohort_args)\n",
    "#     folder = os.path.join(SPACE['DATA_RAW'], 'patient_sample', str(PID_sample))\n",
    "#     if os.path.exists(folder) == False: os.makedirs(folder)\n",
    "#     for file, df in d.items():\n",
    "#         df.to_csv(os.path.join(folder, file), index = False)\n",
    "#         print(file, df.shape)"
   ]
  }
 ],
 "metadata": {
  "kernelspec": {
   "display_name": "Python 3 (ipykernel)",
   "language": "python",
   "name": "python3"
  },
  "language_info": {
   "codemirror_mode": {
    "name": "ipython",
    "version": 3
   },
   "file_extension": ".py",
   "mimetype": "text/x-python",
   "name": "python",
   "nbconvert_exporter": "python",
   "pygments_lexer": "ipython3",
   "version": "3.8.8"
  },
  "toc": {
   "base_numbering": 1,
   "nav_menu": {},
   "number_sections": true,
   "sideBar": true,
   "skip_h1_title": false,
   "title_cell": "Table of Contents",
   "title_sidebar": "Contents",
   "toc_cell": false,
   "toc_position": {},
   "toc_section_display": true,
   "toc_window_display": true
  }
 },
 "nbformat": 4,
 "nbformat_minor": 5
}
