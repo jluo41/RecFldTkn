{
 "cells": [
  {
   "cell_type": "markdown",
   "id": "6c938bf1",
   "metadata": {},
   "source": [
    "# Space"
   ]
  },
  {
   "cell_type": "code",
   "execution_count": null,
   "id": "1c872edd",
   "metadata": {},
   "outputs": [],
   "source": [
    "import os\n",
    "import logging\n",
    "import pandas as pd \n",
    "from IPython.display import display, HTML\n",
    "KEY = 'WorkSpace'\n",
    "WORKSPACE_PATH = os.getcwd().split(KEY)[0] + KEY\n",
    "# print(WORKSPACE_PATH)\n",
    "os.chdir(WORKSPACE_PATH)\n",
    "import sys\n",
    "from proj_space import PROJECT, TaskName, SPACE\n",
    "sys.path.append(SPACE['CODE_FN'])\n",
    "SPACE['WORKSPACE_PATH'] = WORKSPACE_PATH\n",
    "recfldtkn_config_path = os.path.join(SPACE['CODE_RFT'], 'config_recfldtkn')\n",
    "\n",
    "logger = logging.getLogger(__name__)\n",
    "logging.basicConfig(level=logging.INFO, format='[%(levelname)s:%(asctime)s:(%(filename)s@%(lineno)d %(name)s)]: %(message)s')\n"
   ]
  },
  {
   "cell_type": "markdown",
   "id": "d817dae8",
   "metadata": {},
   "source": [
    "# Args"
   ]
  },
  {
   "cell_type": "code",
   "execution_count": null,
   "id": "44ff3b00-c0db-4944-8fb3-01e95be33c79",
   "metadata": {
    "tags": []
   },
   "outputs": [],
   "source": [
    "###########################\n",
    "RecName = 'TODO'# <-------- select your yaml file name\n",
    "###########################"
   ]
  },
  {
   "cell_type": "code",
   "execution_count": null,
   "id": "0b628bb7-b6ac-43d9-a6d3-f4e4400348f2",
   "metadata": {
    "tags": []
   },
   "outputs": [],
   "source": [
    "from recfldtkn.configfn import load_cohort_args\n",
    "from recfldtkn.configfn import load_record_args\n",
    "\n",
    "cohort_args = load_cohort_args(recfldtkn_config_path, SPACE)\n",
    "RootIDLength = cohort_args['RootIDLength']\n",
    "RootID = cohort_args['RootID']\n",
    "\n",
    "rec_folder = cohort_args['rec_folder']\n",
    "RawRootID = cohort_args['RawRootID'] \n",
    "record_args = load_record_args(RecName, cohort_args)"
   ]
  },
  {
   "cell_type": "markdown",
   "id": "b995c670",
   "metadata": {},
   "source": [
    "## [Updating Yaml File]"
   ]
  },
  {
   "cell_type": "code",
   "execution_count": null,
   "id": "7fcd10bd",
   "metadata": {},
   "outputs": [],
   "source": [
    "\n",
    "# Create a HTML link and display it\n",
    "path = record_args['yaml_file_path']\n",
    "full_path = os.path.join(WORKSPACE_PATH, path)\n",
    "display(HTML(f'{path} <a href=\"{full_path}\" target=\"_blank\">Open File</a>'))"
   ]
  },
  {
   "cell_type": "markdown",
   "id": "c767c897-3025-4b9f-899a-65d190fec78c",
   "metadata": {},
   "source": [
    "## [Select A Cohort]"
   ]
  },
  {
   "cell_type": "code",
   "execution_count": null,
   "id": "dd3d175b-de7d-48e4-b8cb-49c528a12081",
   "metadata": {
    "tags": []
   },
   "outputs": [],
   "source": [
    "import argparse\n",
    "my_parser = argparse.ArgumentParser(description='Process Input.')\n",
    "\n",
    "# Add the arguments\n",
    "my_parser.add_argument('--cohort_name',\n",
    "                    metavar='cohort_name',\n",
    "                    default = None, \n",
    "                    type=str,\n",
    "                    help='the cohort_name to process')\n",
    "\n",
    "my_parser.add_argument('--cohort_label',\n",
    "                    metavar='cohort_label',\n",
    "                    default = None, \n",
    "                    type=str,\n",
    "                    help='the label for cohort_name to process')\n",
    "\n",
    "################### in notebook ###################\n",
    "args_information = ['--cohort_label', '1']\n",
    "args = my_parser.parse_args(args_information)\n",
    "###################################################\n",
    "\n",
    "cohort_label = int(args.cohort_label)\n",
    "cohort_config = [v for k, v in cohort_args['CohortInfo'].items() if v['cohort_label'] == cohort_label][0]\n",
    "cohort_name = cohort_config['cohort_name']\n",
    "print('\\n========== cohort_config ==========')\n",
    "# print(cohort_config)\n",
    "print(cohort_label, cohort_name)"
   ]
  },
  {
   "cell_type": "markdown",
   "metadata": {},
   "source": [
    "# df_Human, df_Prt"
   ]
  },
  {
   "cell_type": "code",
   "execution_count": null,
   "metadata": {},
   "outputs": [],
   "source": [
    "from recfldtkn.loadtools import filter_with_cohort_label, load_ds_rec_and_info\n",
    "from recfldtkn.pipeline_record import get_parent_record_information\n",
    "\n",
    "cohort_label_list = [cohort_label]\n",
    "ds_Human, _ = load_ds_rec_and_info(cohort_args['RecName'], cohort_args, cohort_label_list = cohort_label_list)\n",
    "df_Human = ds_Human.to_pandas()\n",
    "prt_record_args, df_Prt, df_Human = get_parent_record_information(record_args, cohort_args, df_Human)\n",
    "df_Prt = filter_with_cohort_label(df_Prt, cohort_label, cohort_args)\n",
    "df_Human = df_Human[df_Human[RootID].isin(df_Prt[RootID].to_list())].reset_index(drop = True)\n",
    "record_args['df_Prt'] = df_Prt\n",
    "record_args['prt_record_args'] = prt_record_args"
   ]
  },
  {
   "cell_type": "markdown",
   "metadata": {},
   "source": [
    "# OneCohortRec_args"
   ]
  },
  {
   "cell_type": "code",
   "execution_count": null,
   "metadata": {},
   "outputs": [],
   "source": [
    "source_path_not_existence_flag = 0\n",
    "OneCohortRec_args = record_args['CohortInfo'][cohort_name]\n",
    "OneCohortRec_args['cohort_name'] = cohort_name  \n",
    "OneCohortRec_args['cohort_label'] = cohort_label\n",
    "\n",
    "for tablename, tableinfo in OneCohortRec_args.items():\n",
    "    if tablename in ['cohort_name', 'cohort_label']: continue\n",
    "    filename = tableinfo['raw_data_path']\n",
    "    print(filename)\n",
    "    if not os.path.exists(filename): source_path_not_existence_flag += 1\n",
    "\n",
    "if source_path_not_existence_flag > 0:\n",
    "    print(f'=== source_path_not_existence_flag: {source_path_not_existence_flag}')\n",
    "\n",
    "OneCohortRec_args = record_args['CohortInfo'][cohort_name]\n",
    "print('\\n========== OneCohortRec_args ==========')\n",
    "print(OneCohortRec_args)"
   ]
  },
  {
   "cell_type": "markdown",
   "id": "b39df674-65c3-4307-a81b-97e2a0180454",
   "metadata": {},
   "source": [
    "#  HumanRecRaw"
   ]
  },
  {
   "cell_type": "code",
   "execution_count": null,
   "id": "0bcc1bc5",
   "metadata": {},
   "outputs": [],
   "source": [
    "print([tablename for tablename in OneCohortRec_args])"
   ]
  },
  {
   "cell_type": "code",
   "execution_count": null,
   "id": "25efa1ff",
   "metadata": {},
   "outputs": [],
   "source": [
    "from recfldtkn.pipeline_record import get_df_HumanSelected_from_OneCohortRecArgs\n",
    "from recfldtkn.pipeline_record import get_HumanRawRec_for_HumanGroup\n",
    "\n",
    "df_HumanSelected = get_df_HumanSelected_from_OneCohortRecArgs(df_Human, record_args, OneCohortRec_args, cohort_args)\n",
    "logger.info(f'{df_HumanSelected.shape} === df_HumanSelected <-- df_Human: selected from in CohortLabel {cohort_label}: {cohort_name} and with RecordNum > 0')\n",
    "\n",
    "######################\n",
    "filepath_to_rawdf = {}\n",
    "######################\n",
    "\n",
    "for index_group, df_HumanGroup in df_HumanSelected.groupby('index_group'): \n",
    "    logger.info(f'current index_group: {index_group} ...')\n",
    "\n",
    "    # ---------------------- this is the core part of the pipeline ----------------------\n",
    "    # 7.1 get the df_HumanRawRec\n",
    "    #     this function can be used independently to get the raw df_HumanRawRec. \n",
    "    df_HumanRawRec = get_HumanRawRec_for_HumanGroup(df_HumanGroup, OneCohortRec_args, RawRootID, filepath_to_rawdf)\n",
    "    index = df_HumanRawRec[RawRootID].isin(df_HumanSelected[RawRootID].to_list())\n",
    "    df_HumanRawRec = df_HumanRawRec[index].reset_index(drop = True)\n",
    "    logger.info(f'current df_HumanRawRec: {df_HumanRawRec.shape} ...')\n",
    "\n",
    "    break"
   ]
  },
  {
   "cell_type": "markdown",
   "id": "13cf407f-4864-406a-a79e-2e538fced9c7",
   "metadata": {},
   "source": [
    "# HumanRecFld"
   ]
  },
  {
   "cell_type": "code",
   "execution_count": null,
   "id": "ca5d4676",
   "metadata": {},
   "outputs": [],
   "source": [
    "# Create a HTML link and display it\n",
    "path = record_args['pypath']\n",
    "full_path = os.path.join(WORKSPACE_PATH, path)\n",
    "link = f'{path} <a href=\"{full_path}\" target=\"_blank\">Open File</a>'\n",
    "display(HTML(link))"
   ]
  },
  {
   "cell_type": "markdown",
   "id": "63069d9c-effa-4108-b2c4-9f5358123e79",
   "metadata": {},
   "source": [
    "## RawRec_to_RecAttr Code"
   ]
  },
  {
   "cell_type": "code",
   "execution_count": null,
   "id": "5529f0f8-6047-438b-8764-a94c47b95c0b",
   "metadata": {
    "tags": []
   },
   "outputs": [],
   "source": [
    "#-------------------\n",
    "df = df_HumanRawRec\n",
    "\n",
    "# -. filter out the records we don't need (optional) \n",
    "\n",
    "# -. create a new column for raw record id (optional)\n",
    "\n",
    "# -. have a check that the raw record id is unique\n",
    "\n",
    "# -. update datetime columns\n",
    "   \n",
    "# -. select a DT. TODO: you might need to localize the datetime to local timezone. \n",
    "\n",
    "# -. merge with the parent record (a must except Human Records)\n",
    "\n",
    "# -. sort the table by Parent IDs and DT\n",
    "\n",
    "# -. create a new column for RecID\n",
    "\n",
    "df = df \n",
    "#-------------------"
   ]
  },
  {
   "cell_type": "markdown",
   "id": "3bdae773-21fc-46bb-8c85-ffd9d65f00e0",
   "metadata": {},
   "source": [
    "## Pin Down and Attr Cols"
   ]
  },
  {
   "cell_type": "code",
   "execution_count": null,
   "id": "109ea819",
   "metadata": {},
   "outputs": [],
   "source": [
    "# Create a HTML link and display it\n",
    "path = record_args['yaml_file_path']\n",
    "full_path = os.path.join(WORKSPACE_PATH, path)\n",
    "link = f'{path} <a href=\"{full_path}\" target=\"_blank\">Open File</a>'\n",
    "display(HTML(link))"
   ]
  },
  {
   "cell_type": "code",
   "execution_count": null,
   "id": "c8e2fb8b-9425-454a-8060-fe4ab08713a2",
   "metadata": {
    "tags": []
   },
   "outputs": [],
   "source": [
    "attr_cols = [\n",
    "\n",
    "###################################\n",
    "# ---- TOADD ATTRIBUTE COLUMNS ----\n",
    "###################################\n",
    "\n",
    "]\n",
    "for i in attr_cols: print('-', i)\n",
    "\n",
    "df[attr_cols].head()"
   ]
  },
  {
   "cell_type": "markdown",
   "id": "1456139b-7023-44a3-ae7c-74c82af01f75",
   "metadata": {},
   "source": [
    "## RawRec_to_RecAttr_fn"
   ]
  },
  {
   "cell_type": "code",
   "execution_count": null,
   "id": "be842e5b-d113-48c6-b0cf-f87874345834",
   "metadata": {
    "tags": []
   },
   "outputs": [],
   "source": [
    "from recfldtkn.loadtools import convert_variables_to_pystirng, load_module_variables\n",
    "import inspect\n",
    "\n",
    "###########################\n",
    "def RawRec_to_RecAttr_fn(df_HumanRawRec, df_Human, cohort_args, record_args, fld_cols):\n",
    "    \n",
    "    #-------------------\n",
    "    df = df_HumanRawRec\n",
    "\n",
    "    # -. filter out the records we don't need (optional) \n",
    "\n",
    "    # -. create a new column for raw record id (optional)\n",
    "\n",
    "    # -. have a check that the raw record id is unique\n",
    "\n",
    "    # -. update datetime columns\n",
    "    \n",
    "    # -. select a DT. TODO: you might need to localize the datetime to local timezone. \n",
    "\n",
    "    # -. merge with the parent record (a must except Human Records)\n",
    "\n",
    "    # -. sort the table by Parent IDs and DT\n",
    "\n",
    "    # -. create a new column for RecID\n",
    "\n",
    "    df = df \n",
    "    #-------------------\n",
    "\n",
    "    df_HumanRecFld = df[fld_cols].reset_index(drop = True)\n",
    "    return df_HumanRecFld\n",
    "###########################\n",
    "\n",
    "RawRec_to_RecAttr_fn.fn_string = inspect.getsource(RawRec_to_RecAttr_fn)\n"
   ]
  },
  {
   "cell_type": "code",
   "execution_count": null,
   "id": "1c3fe922-f168-4545-abf4-2c7b3fac9ba3",
   "metadata": {},
   "outputs": [],
   "source": [
    "prefix = ['import pandas as pd', 'import numpy as np']\n",
    "pycode = convert_variables_to_pystirng(fn_variables = [RawRec_to_RecAttr_fn], prefix = prefix)\n",
    "RecName = record_args['RecName']\n",
    "pypath = record_args['pypath']\n",
    "print(pypath)\n",
    "if not os.path.exists(os.path.dirname(pypath)): os.makedirs(os.path.dirname(pypath))\n",
    "with open(pypath, 'w') as file: file.write(pycode)\n",
    "\n",
    "RecName = record_args['RecName']\n",
    "pypath = record_args['pypath']\n",
    "module = load_module_variables(pypath)\n",
    "RawRec_to_RecAttr_fn = module.MetaDict['RawRec_to_RecAttr_fn']"
   ]
  },
  {
   "cell_type": "code",
   "execution_count": null,
   "id": "55ca5dbf",
   "metadata": {},
   "outputs": [],
   "source": [
    "\n",
    "df_HumanRecAttr = RawRec_to_RecAttr_fn(df_HumanRawRec, df_Human, cohort_args, record_args, attr_cols)\n",
    "df_HumanRecAttr"
   ]
  }
 ],
 "metadata": {
  "kernelspec": {
   "display_name": "Python 3 (ipykernel)",
   "language": "python",
   "name": "python3"
  },
  "language_info": {
   "codemirror_mode": {
    "name": "ipython",
    "version": 3
   },
   "file_extension": ".py",
   "mimetype": "text/x-python",
   "name": "python",
   "nbconvert_exporter": "python",
   "pygments_lexer": "ipython3",
   "version": "3.11.7"
  },
  "toc": {
   "base_numbering": 1,
   "nav_menu": {},
   "number_sections": true,
   "sideBar": true,
   "skip_h1_title": false,
   "title_cell": "Table of Contents",
   "title_sidebar": "Contents",
   "toc_cell": false,
   "toc_position": {
    "height": "calc(100% - 180px)",
    "left": "10px",
    "top": "150px",
    "width": "165px"
   },
   "toc_section_display": true,
   "toc_window_display": true
  },
  "toc-autonumbering": true
 },
 "nbformat": 4,
 "nbformat_minor": 5
}
