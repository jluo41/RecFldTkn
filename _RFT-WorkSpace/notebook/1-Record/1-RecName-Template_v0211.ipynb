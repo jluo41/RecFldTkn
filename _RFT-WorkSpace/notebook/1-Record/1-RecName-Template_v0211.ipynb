{
 "cells": [
  {
   "cell_type": "markdown",
   "id": "6c938bf1",
   "metadata": {},
   "source": [
    "# Space"
   ]
  },
  {
   "cell_type": "code",
   "execution_count": null,
   "id": "1c872edd",
   "metadata": {},
   "outputs": [],
   "source": [
    "import os\n",
    "import logging\n",
    "import pandas as pd \n",
    "from IPython.display import display, HTML\n",
    "KEY = 'WorkSpace'\n",
    "WORKSPACE_PATH = os.getcwd().split(KEY)[0] + KEY\n",
    "# print(WORKSPACE_PATH)\n",
    "os.chdir(WORKSPACE_PATH)\n",
    "import sys\n",
    "from proj_space import PROJECT, TaskName, SPACE\n",
    "sys.path.append(SPACE['CODE_FN'])\n",
    "SPACE['WORKSPACE_PATH'] = WORKSPACE_PATH\n",
    "recfldtkn_config_path = os.path.join(SPACE['CODE_RFT'], 'config_recfldtkn')\n",
    "\n",
    "logger = logging.getLogger(__name__)\n",
    "logging.basicConfig(level=logging.INFO, format='[%(levelname)s:%(asctime)s:(%(filename)s@%(lineno)d %(name)s)]: %(message)s')\n"
   ]
  },
  {
   "cell_type": "markdown",
   "id": "84480a8d",
   "metadata": {},
   "source": [
    "# Part 1: Prepare Record Yaml\n",
    "\n",
    "Expected outcome:\n",
    "\n",
    "You will understand the raw data\n",
    "\n",
    "You will get a record yaml file. "
   ]
  },
  {
   "cell_type": "markdown",
   "id": "d817dae8",
   "metadata": {},
   "source": [
    "## [Step 1]: assign RecName\n",
    "\n",
    "Motivation: We utilize a yaml file to store information pertaining to our records or recommendations ('Rec'). In order to efficiently link our 'Rec' with the corresponding yaml file, it is necessary to assign a descriptive RecName. This name serves as an identifier, allowing for easy association and retrieval of information. Please select an appropriate RecName for this purpose.\n",
    "\n",
    "Aim: assign RecName\n",
    "\n",
    "Input: yaml file names \n",
    "\n",
    "Output: RecName\n",
    "\n",
    "Instruction: \n",
    "change RecName for specific Rec :```RecName = 'P'# <-------- select your yaml file name```"
   ]
  },
  {
   "cell_type": "code",
   "execution_count": null,
   "id": "44ff3b00-c0db-4944-8fb3-01e95be33c79",
   "metadata": {
    "tags": []
   },
   "outputs": [],
   "source": [
    "###########################\n",
    "RecName = 'P'# <-------- select your yaml file name\n",
    "###########################"
   ]
  },
  {
   "cell_type": "markdown",
   "id": "8377255b",
   "metadata": {},
   "source": [
    "## [Step 2] Get Necessary Args\n",
    "Motivation: Prepare necessary Args for future development.\n",
    "\n",
    "Aim: get cohort_args and record_args\n",
    "\n",
    "Input: ```recfldtkn_config_path, SPACE,RecName, cohort_args```\n",
    "\n",
    "Output: ```cohort_args,record_args```\n",
    "\n",
    "Instruction: \n",
    "Run following code.\n",
    "\n"
   ]
  },
  {
   "cell_type": "code",
   "execution_count": null,
   "id": "0b628bb7-b6ac-43d9-a6d3-f4e4400348f2",
   "metadata": {
    "tags": []
   },
   "outputs": [],
   "source": [
    "from recfldtkn.configfn import load_cohort_args\n",
    "from recfldtkn.configfn import load_record_args\n",
    "\n",
    "cohort_args = load_cohort_args(recfldtkn_config_path, SPACE)\n",
    "record_args = load_record_args(RecName, cohort_args)"
   ]
  },
  {
   "cell_type": "markdown",
   "id": "b995c670",
   "metadata": {},
   "source": [
    "## [Step 3] Create and Update Record Yaml\n",
    "Motivation: To store configuration and information.\n",
    "\n",
    "Aim: create Yaml file for rec\n",
    "\n",
    "Input: informations about data_path, RawRoodID, RecNumColunm and raw_columms\n",
    "\n",
    "Output: Yaml file\n",
    "\n",
    "Instruction: \n",
    "1. change COHORT_NAME_XXXXXX\n",
    "2. change raw_data_path\n",
    "3. change RawRootID\n",
    "4. change raw_columns\n",
    "\n"
   ]
  },
  {
   "cell_type": "markdown",
   "id": "2db713a4",
   "metadata": {},
   "source": [
    "**template**\n",
    "\n",
    "```yaml\n",
    "# %%%%%%%%%%%%%%%%%%%%%%%%%%%%%% TableBase sources from different cohorts.\n",
    "CohortInfo: # Cohort\n",
    "  COHORT_NAME_XXXXXX: # <---- change this.\n",
    "    TABLE1: \n",
    "      raw_data_path: $DATA_RAW$/Cohort_Folder_XXXXXXX/raw_table_file_name1_XXXXXXXXX.csv\n",
    "      RawRootID: XXXXXXXXX\n",
    "      RecNumColumn: XXXXXXXXX # in Human2RecNum, the related raw table name\n",
    "      raw_columns: \n",
    "        - XXXXX # <--- to update during RecAttr \n",
    "        - XXXXX\n",
    "\n",
    "    TABLE2:  # <-------- IN MOST OF THE TIME, WE DON'T NEED TABLE2.\n",
    "      raw_data_path: $DATA_RAW$/Cohort_Folder_XXXXXXX/raw_table_file_name2_XXXXXXXXX.csv\n",
    "      RawRootID: XXXXXXXXX\n",
    "      RecNumColumn: XXXXXXXXX # in Human2RecNum, the related raw table name\n",
    "      raw_columns: \n",
    "        - XXXXX # <--- to update during RecAttr \n",
    "        - XXXXX\n",
    "```"
   ]
  },
  {
   "cell_type": "markdown",
   "id": "f5e0f910",
   "metadata": {},
   "source": [
    "**write and update your own yaml**\n",
    "\n",
    "\n",
    "```yaml\n",
    "# %%%%%%%%%%%%%%%%%%%%%%%%%%%%%% TableBase sources from different cohorts.\n",
    "CohortInfo: # Cohort\n",
    "  \n",
    "  RawData2022_CGM:\n",
    "    TableFile1: \n",
    "      raw_data_path: '$DATA_RAW$/RawData2022_CGM/05_02_2022_Patient.csv'\n",
    "      RawRootID: 'PatientID'  # for merging purpose\n",
    "      RecNumColumn: 'Patient' # Column in PRawRecNum\n",
    "      raw_columns: \n",
    "    TableFile2: \n",
    "      raw_data_path: '$DATA_RAW$/RawData2022_CGM/05_02_2022_UserDetail.csv'\n",
    "      RawRootID: 'UserID'\n",
    "      RecNumColumn: 'UserDetail'\n",
    "      raw_columns: \n",
    "\n",
    "          \n",
    "  RawData2023_CVSTDCAug:\n",
    "    TableFile1: \n",
    "      raw_data_path: '$DATA_RAW$/RawData2023_CVSTDCAug/08_23_2023_Patient.csv'\n",
    "      RawRootID: 'PatientID'\n",
    "      RecNumColumn: 'Patient' # Column in PRawRecNum\n",
    "      raw_columns: \n",
    "    TableFile2: \n",
    "      raw_data_path: '$DATA_RAW$/RawData2023_CVSTDCAug/08_23_2023_UserDetail.csv'\n",
    "      RawRootID: 'UserID'\n",
    "      RecNumColumn: 'UserDetail'\n",
    "      raw_columns: \n",
    "\n",
    "\n",
    "  RawData2023_CVSDeRxAug:\n",
    "    TableFile1: \n",
    "      raw_data_path: '$DATA_RAW$/RawData2023_CVSDeRxAug/08_23_2023_Patient.csv'\n",
    "      RawRootID: 'PatientID'\n",
    "      RecNumColumn: 'Patient' # Column in PRawRecNum\n",
    "      raw_columns: \n",
    "    TableFile2: \n",
    "      raw_data_path: '$DATA_RAW$/RawData2023_CVSDeRxAug/08_23_2023_UserDetail.csv'\n",
    "      RawRootID: 'UserID'\n",
    "      RecNumColumn: 'UserDetail'\n",
    "      raw_columns: \n",
    "```"
   ]
  },
  {
   "cell_type": "code",
   "execution_count": null,
   "id": "7fcd10bd",
   "metadata": {},
   "outputs": [],
   "source": [
    "# Create a HTML link and display it\n",
    "path = record_args['yaml_file_path']\n",
    "full_path = os.path.join(WORKSPACE_PATH, path)\n",
    "display(HTML(f'{path} <a href=\"{full_path}\" target=\"_blank\">Open File</a>'))"
   ]
  },
  {
   "cell_type": "markdown",
   "id": "06b9da46",
   "metadata": {},
   "source": [
    "## [Step 4] Update Yaml for record's Meta\n"
   ]
  },
  {
   "cell_type": "code",
   "execution_count": null,
   "id": "f6e3b067",
   "metadata": {},
   "outputs": [],
   "source": [
    "# Create a HTML link and display it\n",
    "path = record_args['yaml_file_path']\n",
    "full_path = os.path.join(WORKSPACE_PATH, path)\n",
    "display(HTML(f'{path} <a href=\"{full_path}\" target=\"_blank\">Open File</a>'))"
   ]
  },
  {
   "cell_type": "markdown",
   "id": "77e58371",
   "metadata": {},
   "source": [
    "**template**\n",
    "\n",
    "```yaml\n",
    "# %%%%%%%%%%%%%%%%%%%%%%%%%%%%%% \n",
    "RecName: XXX    # name of the record.\n",
    "RecID: XXX   # ID of the record. not necessary to be like this: RecID = RecName + 'ID'.\n",
    "RawRecID: \n",
    "  - XXX\n",
    "RecIDChain: \n",
    "  - XXX\n",
    "ParentRecName:  # if no parent record, set it to empty. \n",
    "RecDT:          # if no RecDT, set it to empty. \n",
    "```"
   ]
  },
  {
   "cell_type": "markdown",
   "id": "42d47ee5",
   "metadata": {},
   "source": [
    "**your yaml**\n",
    "\n",
    "```yaml\n",
    "# %%%%%%%%%%%%%%%%%%%%%%%%%%%%%% \n",
    "RecName: P    # name of the record.\n",
    "RecID: PID   # ID of the record. not necessary to be like this: RecID = RecName + 'ID'.\n",
    "RawRecID: \n",
    "  - PatientID\n",
    "RecIDChain: \n",
    "  - P\n",
    "  - PatientID\n",
    "ParentRecName:  # if no parent record, set it to empty. \n",
    "RecDT:          # if no RecDT, set it to empty. \n",
    "```"
   ]
  },
  {
   "cell_type": "markdown",
   "id": "5529bb30",
   "metadata": {},
   "source": [
    "## [Step 5] Select One Cohort\n",
    "\n",
    "Motivation: We want to choose one cohort and test our code in this one cohort.\n",
    "\n",
    "Aim: Specify a cohort\n",
    "\n",
    "Input: Cohort Yaml\n",
    "\n",
    "Output: Cohort name and Cohort label of the cohort we want to choose.\n",
    "\n",
    "Instruction: Change ```args_information = ['--cohort_label', '1'] ```"
   ]
  },
  {
   "cell_type": "code",
   "execution_count": null,
   "id": "22f64f2d",
   "metadata": {},
   "outputs": [],
   "source": [
    "################### in notebook ###################\n",
    "args_information = ['--cohort_label', '1']\n",
    "###################################################\n",
    "\n",
    "import argparse\n",
    "my_parser = argparse.ArgumentParser(description='Process Input.')\n",
    "\n",
    "# Add the arguments\n",
    "my_parser.add_argument('--cohort_name',\n",
    "                    metavar='cohort_name',\n",
    "                    default = None, \n",
    "                    type=str,\n",
    "                    help='the cohort_name to process')\n",
    "\n",
    "my_parser.add_argument('--cohort_label',\n",
    "                    metavar='cohort_label',\n",
    "                    default = None, \n",
    "                    type=str,\n",
    "                    help='the label for cohort_name to process')\n",
    "\n",
    "\n",
    "\n",
    "args = my_parser.parse_args(args_information)\n",
    "cohort_label = int(args.cohort_label)\n",
    "cohort_config = [v for k, v in cohort_args['CohortInfo'].items() if v['cohort_label'] == cohort_label][0]\n",
    "cohort_name = cohort_config['cohort_name']\n",
    "print('\\n========== cohort_config ==========')\n",
    "# print(cohort_config)\n",
    "print(cohort_label, cohort_name)"
   ]
  },
  {
   "cell_type": "markdown",
   "metadata": {},
   "source": [
    "## [Step 6] df_Human, df_Prt and Save them in record_args for the selected OneCohort\n",
    "Motivation: ????\n",
    "\n",
    "Aim: Update record_args\n",
    "\n",
    "Input:\n",
    "\n",
    "Output: record_args['df_Prt'], \n",
    "\n",
    "Instruction:\n",
    "1. Remember to restart the notebook to fully load the updated yaml files.\n",
    "2. Run following code "
   ]
  },
  {
   "cell_type": "code",
   "execution_count": null,
   "id": "bb69e937",
   "metadata": {},
   "outputs": [],
   "source": [
    "#######################\n",
    "cohort_label_list = [cohort_label]\n",
    "#######################"
   ]
  },
  {
   "cell_type": "code",
   "execution_count": null,
   "metadata": {},
   "outputs": [],
   "source": [
    "from recfldtkn.loadtools import filter_with_cohort_label, load_ds_rec_and_info\n",
    "from recfldtkn.pipeline_record import get_parent_record_information\n",
    "\n",
    "RootID = cohort_args['RootID']\n",
    "\n",
    "ds_Human, _ = load_ds_rec_and_info(cohort_args['RecName'], cohort_args, cohort_label_list = cohort_label_list)\n",
    "df_Human = ds_Human.to_pandas()\n",
    "\n",
    "#########--------\n",
    "try:\n",
    "    ds_P, _ = load_ds_rec_and_info('P', cohort_args, cohort_label_list = cohort_label_list)\n",
    "    print(ds_P)\n",
    "    df_P = ds_P.to_pandas()[[RootID, 'UserTimeZoneOffset']].rename(columns = {'UserTimeZoneOffset': 'user_tz'})\n",
    "    df_Human = pd.merge(df_Human, df_P, how = 'left', on = RootID)\n",
    "    print('SUCCESS ------> user_tz is available')\n",
    "except:\n",
    "    print(\"No user_timezone available\")\n",
    "#########--------\n",
    "    \n",
    "prt_record_args, df_Prt, df_Human = get_parent_record_information(record_args, cohort_args, df_Human)\n",
    "df_Prt = filter_with_cohort_label(df_Prt, cohort_label, cohort_args)\n",
    "df_Human = df_Human[df_Human[RootID].isin(df_Prt[RootID].to_list())].reset_index(drop = True)\n",
    "record_args['df_Prt'] = df_Prt\n",
    "record_args['prt_record_args'] = prt_record_args"
   ]
  },
  {
   "cell_type": "code",
   "execution_count": null,
   "id": "566b18c2",
   "metadata": {},
   "outputs": [],
   "source": [
    "df_Human.head()"
   ]
  },
  {
   "cell_type": "code",
   "execution_count": null,
   "id": "569a3f27",
   "metadata": {},
   "outputs": [],
   "source": [
    "df_Prt.head()"
   ]
  },
  {
   "cell_type": "markdown",
   "metadata": {},
   "source": [
    "## [Step 7] OneCohortRec_args"
   ]
  },
  {
   "cell_type": "code",
   "execution_count": null,
   "id": "dea1ca1b",
   "metadata": {},
   "outputs": [],
   "source": [
    "print(cohort_name)\n",
    "OneCohortRec_args = record_args['CohortInfo'][cohort_name]\n",
    "OneCohortRec_args['cohort_name'] = cohort_name  \n",
    "OneCohortRec_args['cohort_label'] = cohort_label\n",
    "OneCohortRec_args"
   ]
  },
  {
   "cell_type": "code",
   "execution_count": null,
   "metadata": {},
   "outputs": [],
   "source": [
    "source_path_not_existence_flag = 0\n",
    "for tablename, tableinfo in OneCohortRec_args.items():\n",
    "    if tablename in ['cohort_name', 'cohort_label']: continue\n",
    "    filename = tableinfo['raw_data_path']\n",
    "    print(filename)\n",
    "    if not os.path.exists(filename): \n",
    "        source_path_not_existence_flag += 1\n",
    "    else:\n",
    "        if filename.endswith('.csv'):\n",
    "            df = pd.read_csv(filename, nrows=0)\n",
    "            raw_tables_columns = list(df.columns)\n",
    "            print('\\n=======================')\n",
    "            print(filename)\n",
    "            for i in raw_tables_columns:\n",
    "                print('-', i)\n",
    "            print('=======================\\n\\n')\n",
    "        elif filename.endswith('.p'):\n",
    "            df = pd.read_pickle(filename)\n",
    "            raw_tables_columns = list(df.columns)\n",
    "            print('\\n=======================')\n",
    "            print(filename)\n",
    "            for i in raw_tables_columns:\n",
    "                print('-', i)\n",
    "            print('=======================\\n\\n')\n",
    "\n",
    "if source_path_not_existence_flag > 0:\n",
    "    print(f'=== source_path_not_existence_flag: {source_path_not_existence_flag}')\n",
    "\n",
    "OneCohortRec_args = record_args['CohortInfo'][cohort_name]\n",
    "print('\\n========== OneCohortRec_args ==========')\n",
    "print(OneCohortRec_args)"
   ]
  },
  {
   "cell_type": "markdown",
   "id": "3d75a3ca",
   "metadata": {},
   "source": []
  },
  {
   "cell_type": "markdown",
   "id": "e8919728",
   "metadata": {},
   "source": [
    "## [Step 8] **Important** Select useful Raw Columns\n",
    "\n",
    "Motivation: Based on understanding of the data, choose useful Raw Columns\n",
    "\n",
    "AIM: Select useful Raw Columns\n",
    "\n",
    "Input: ```raw_data_path```\n",
    "\n",
    "Output:```raw_columns```\n",
    "\n",
    "Instruciton: Run following code and choose raw_columns based on specific project."
   ]
  },
  {
   "cell_type": "code",
   "execution_count": null,
   "id": "aff9ac9c",
   "metadata": {},
   "outputs": [],
   "source": [
    "for tablename, tableinfo in OneCohortRec_args.items():\n",
    "    if tablename in ['cohort_name', 'cohort_label']: continue\n",
    "    print(tablename)\n",
    "    print(tableinfo)\n",
    "    print('\\n')"
   ]
  },
  {
   "cell_type": "code",
   "execution_count": null,
   "id": "ecb22e4e",
   "metadata": {},
   "outputs": [],
   "source": [
    "tablename_list =  [i for i in OneCohortRec_args if i not in ['cohort_name', 'cohort_label']]\n",
    "tablename_list"
   ]
  },
  {
   "cell_type": "code",
   "execution_count": null,
   "id": "fa8069f7",
   "metadata": {},
   "outputs": [],
   "source": [
    "tablename = tablename_list[0]\n",
    "tableinfo = OneCohortRec_args[tablename]\n",
    "raw_data_path = tableinfo['raw_data_path']\n",
    "print(raw_data_path)"
   ]
  },
  {
   "cell_type": "code",
   "execution_count": null,
   "id": "ab18508f",
   "metadata": {},
   "outputs": [],
   "source": [
    "# After checking the columns, you will find some useful raw columns\n",
    "###########################################################\n",
    "df = pd.read_csv(raw_data_path, low_memory=False, nrows = 10)\n",
    "\n",
    "######################## <- you need to test this\n",
    "raw_columns = []\n",
    "########################\n",
    "\n",
    "for i in raw_columns:\n",
    "    print('-', i)\n",
    "###########################################################"
   ]
  },
  {
   "cell_type": "code",
   "execution_count": null,
   "id": "7aedefb5",
   "metadata": {},
   "outputs": [],
   "source": [
    "tablename = tablename_list[1]\n",
    "tableinfo = OneCohortRec_args[tablename]\n",
    "raw_data_path = tableinfo['raw_data_path']\n",
    "print(raw_data_path)"
   ]
  },
  {
   "cell_type": "code",
   "execution_count": null,
   "id": "7c4ef7bc",
   "metadata": {},
   "outputs": [],
   "source": [
    "# After checking the columns, you will find some useful raw columns\n",
    "###########################################################\n",
    "df = pd.read_csv(raw_data_path, low_memory=False, nrows = 10)\n",
    "\n",
    "print(df.columns)\n",
    "######################## <- you need to test this\n",
    "raw_columns = [\n",
    "    # TOADD raw columns here. \n",
    "]\n",
    "########################\n",
    "\n",
    "for i in raw_columns:\n",
    "    print('-', i)\n",
    "###########################################################"
   ]
  },
  {
   "cell_type": "markdown",
   "id": "005c39f4",
   "metadata": {},
   "source": [
    "## [Step 9] Update Yaml: OneCohort's Table raw_columns\n",
    "Motivation: update Yaml file\n",
    "\n",
    "Instruciton: Copy the above raw_columns to the corresponding raw column attributes\n",
    "\n"
   ]
  },
  {
   "cell_type": "code",
   "execution_count": null,
   "id": "c3d99a11",
   "metadata": {},
   "outputs": [],
   "source": [
    "# Create a HTML link and display it\n",
    "path = record_args['yaml_file_path']\n",
    "full_path = os.path.join(WORKSPACE_PATH, path)\n",
    "display(HTML(f'{path} <a href=\"{full_path}\" target=\"_blank\">Open File</a>'))"
   ]
  },
  {
   "cell_type": "markdown",
   "id": "b32b9509",
   "metadata": {},
   "source": [
    "**example**\n",
    "\n",
    "```yaml\n",
    "RawData2022_CGM:\n",
    "    TableFile1: \n",
    "      raw_data_path: '$DATA_RAW$/RawData2022_CGM/05_02_2022_Patient.csv'\n",
    "      RawRootID: 'PatientID'  # for merging purpose\n",
    "      RecNumColumn: 'Patient' # Column in PRawRecNum\n",
    "      raw_columns: \n",
    "        - PatientID\n",
    "        - MaritalStatusID\n",
    "        - RaceID\n",
    "        - EthinicityID\n",
    "        - LevelOfEducationID\n",
    "        - MRSegmentID\n",
    "        - MRSegmentModifiedDateTime\n",
    "        - DiseaseType\n",
    "        - DiseaseCombinationID\n",
    "        - PAPEligibility\n",
    "        - PAPStatus\n",
    "        - PAPStatusReason\n",
    "```"
   ]
  },
  {
   "cell_type": "markdown",
   "id": "b39df674-65c3-4307-a81b-97e2a0180454",
   "metadata": {},
   "source": [
    "# [Part 2] Load HumanRecRaw\n",
    "\n",
    "\n",
    "We have a pipeline fn to do it. \n",
    "\n",
    "If you have interests in understanding this pipeline. \n",
    "\n",
    "These pipeline functions: `get_df_HumanSelected_from_OneCohortRecArgs` and `get_HumanRawRec_for_HumanGroup`\n",
    "\n",
    "It will take the `record.yaml` within the function and then load the data as the `dfHumanRecRaw`.\n",
    "\n",
    "Before this part, you must make your yaml file ready. "
   ]
  },
  {
   "cell_type": "code",
   "execution_count": null,
   "id": "0bcc1bc5",
   "metadata": {},
   "outputs": [],
   "source": [
    "print([tablename for tablename in OneCohortRec_args])"
   ]
  },
  {
   "cell_type": "markdown",
   "id": "890695c8",
   "metadata": {},
   "source": [
    "## [Step 1] Load the df_HuamnRawRec\n",
    "Motivation:\n",
    "\n",
    "Input:\n",
    "\n",
    "Output:\n",
    "\n",
    "Instruction:"
   ]
  },
  {
   "cell_type": "code",
   "execution_count": null,
   "id": "25efa1ff",
   "metadata": {},
   "outputs": [],
   "source": [
    "from recfldtkn.pipeline_record import get_df_HumanSelected_from_OneCohortRecArgs\n",
    "from recfldtkn.pipeline_record import get_HumanRawRec_for_HumanGroup\n",
    "\n",
    "df_HumanSelected = get_df_HumanSelected_from_OneCohortRecArgs(df_Human, record_args, OneCohortRec_args, cohort_args)\n",
    "logger.info(f'{df_HumanSelected.shape} === df_HumanSelected <-- df_Human: selected from in CohortLabel {cohort_label}: {cohort_name} and with RecordNum > 0')\n",
    "\n",
    "######################\n",
    "filepath_to_rawdf = {}\n",
    "######################\n",
    "\n",
    "RawRootID = cohort_args['RawRootID']\n",
    "for index_group, df_HumanGroup in df_HumanSelected.groupby('index_group'): \n",
    "    logger.info(f'current index_group: {index_group} ...')\n",
    "\n",
    "    # ---------------------- this is the core part of the pipeline ----------------------\n",
    "    # 7.1 get the df_HumanRawRec\n",
    "    #     this function can be used independently to get the raw df_HumanRawRec. \n",
    "    df_HumanRawRec = get_HumanRawRec_for_HumanGroup(df_HumanGroup, OneCohortRec_args, RawRootID, filepath_to_rawdf)\n",
    "    index = df_HumanRawRec[RawRootID].isin(df_HumanSelected[RawRootID].to_list())\n",
    "    df_HumanRawRec = df_HumanRawRec[index].reset_index(drop = True)\n",
    "    logger.info(f'current df_HumanRawRec: {df_HumanRawRec.shape} ...')\n",
    "\n",
    "    break"
   ]
  },
  {
   "cell_type": "markdown",
   "id": "00a138d7",
   "metadata": {},
   "source": [
    "## [Step 2] Display df_HumanRawRec"
   ]
  },
  {
   "cell_type": "code",
   "execution_count": null,
   "id": "82801379",
   "metadata": {},
   "outputs": [],
   "source": [
    "df_HumanRawRec"
   ]
  },
  {
   "cell_type": "markdown",
   "id": "13cf407f-4864-406a-a79e-2e538fced9c7",
   "metadata": {},
   "source": [
    "# [Part 3] HumanRecAttr"
   ]
  },
  {
   "cell_type": "code",
   "execution_count": null,
   "id": "ca5d4676",
   "metadata": {},
   "outputs": [],
   "source": [
    "# Create a HTML link and display it\n",
    "path = record_args['pypath']\n",
    "full_path = os.path.join(WORKSPACE_PATH, path)\n",
    "link = f'{path} <a href=\"{full_path}\" target=\"_blank\">Open File</a>'\n",
    "display(HTML(link))"
   ]
  },
  {
   "cell_type": "markdown",
   "id": "63069d9c-effa-4108-b2c4-9f5358123e79",
   "metadata": {},
   "source": [
    "## [Step 1] **Important** RawRec_to_RecAttr Code\n",
    "\n",
    "Motivation: To prepare and organize the raw data into a structured format that is suitable for further analysis or processing.\n",
    "\n",
    "AIM: This determine how do you map the raw_columns to clean attr_columns.\n",
    "\n",
    "Input: df_Prt and df_HumanRawRec from last step\n",
    "\n",
    "Output: df with clean attribute\n",
    "\n",
    "Instruction: Depend on specific project, usually we will need the lase three steps.\n",
    "Refer to the Welldoc example below.\n",
    "\n",
    "\n"
   ]
  },
  {
   "cell_type": "code",
   "execution_count": null,
   "id": "5529f0f8-6047-438b-8764-a94c47b95c0b",
   "metadata": {
    "tags": []
   },
   "outputs": [],
   "source": [
    "#------------------- Template\n",
    "# df = df_HumanRawRec\n",
    "\n",
    "# -. filter out the records we don't need (optional) \n",
    "\n",
    "# -. create a new column for raw record id (optional)\n",
    "\n",
    "# -. have a check that the raw record id is unique\n",
    "\n",
    "# -. update datetime columns\n",
    "   \n",
    "# -. select a DT. TODO: you might need to localize the datetime to local timezone. \n",
    "\n",
    "# -. merge with the parent record (a must except Human Records)\n",
    "\n",
    "# -. sort the table by Parent IDs and DT\n",
    "\n",
    "# -. create a new column for RecID\n",
    "\n",
    "# df = df \n",
    "#-------------------"
   ]
  },
  {
   "cell_type": "code",
   "execution_count": null,
   "id": "5f085e44",
   "metadata": {},
   "outputs": [],
   "source": [
    "#-------------------\n",
    "df = df_HumanRawRec\n",
    "\n",
    "# 1. filter out the records we don't need (optional) \n",
    "\n",
    "# 2. create a new column for raw record id (optional)\n",
    "\n",
    "# 3. update datetime columns \n",
    "column = 'ActivationDate'\n",
    "df[column] = pd.to_datetime(df[column], format='mixed')\n",
    "column = 'MRSegmentModifiedDateTime'\n",
    "df[column] = pd.to_datetime(df[column], format = 'mixed')\n",
    "\n",
    "# 4. select a DT as the RecDT\n",
    "\n",
    "# 5. merge with the parent record \n",
    "print(df.shape)\n",
    "df_Prt = record_args['df_Prt']\n",
    "print(df_Prt.shape)\n",
    "prt_record_args = record_args['prt_record_args']\n",
    "df_merged = pd.merge(df_Prt, df, how = 'inner', on = prt_record_args['RawRecID'])\n",
    "print(df_merged.shape)\n",
    "df = df_merged\n",
    "\n",
    "# 6. sort the table by RootID and RecDT\n",
    "# version 1\n",
    "RootID = cohort_args['RootID']\n",
    "df = df.sort_values(RootID).reset_index(drop = True)\n",
    "# version 2\n",
    "# RootID = cohort_args['RootID']\n",
    "# RecDT = record_args['RecDT']\n",
    "# sorted_cols = [RootID, RecDT]\n",
    "# df = df.sort_values(sorted_cols).reset_index(drop = True)\n",
    "\n",
    "\n",
    "#-------------------\n",
    "df"
   ]
  },
  {
   "cell_type": "markdown",
   "id": "3bdae773-21fc-46bb-8c85-ffd9d65f00e0",
   "metadata": {},
   "source": [
    "## [Step 2] Pin Down and Attr Cols and Update it to Yaml\n",
    "\n",
    "Motivation: Choose the final attr cols \n",
    "\n",
    "Aim:Update final attr cols to Yaml file\n",
    "\n",
    "Input: attr_cols\n",
    "\n",
    "Output: Yaml file\n",
    "\n",
    "Instruction: change the following code regarding to a specific project."
   ]
  },
  {
   "cell_type": "markdown",
   "id": "1873fd1f",
   "metadata": {},
   "source": [
    "**example**\n",
    "\n",
    "```yaml\n",
    "attr_cols:\n",
    "  - PID\n",
    "  - PatientID\n",
    "  - YearOfBirth\n",
    "  - ActivationDate\n",
    "  - MRSegmentModifiedDateTime\n",
    "  - UserTimeZone\n",
    "  - UserTimeZoneOffset\n",
    "  - Gender\n",
    "  - MRSegmentID\n",
    "  - DiseaseType\n",
    "```"
   ]
  },
  {
   "cell_type": "code",
   "execution_count": null,
   "id": "109ea819",
   "metadata": {},
   "outputs": [],
   "source": [
    "# Create a HTML link and display it\n",
    "path = record_args['yaml_file_path']\n",
    "full_path = os.path.join(WORKSPACE_PATH, path)\n",
    "link = f'{path} <a href=\"{full_path}\" target=\"_blank\">Open File</a>'\n",
    "display(HTML(link))"
   ]
  },
  {
   "cell_type": "code",
   "execution_count": null,
   "id": "c8e2fb8b-9425-454a-8060-fe4ab08713a2",
   "metadata": {
    "tags": []
   },
   "outputs": [],
   "source": [
    "# attr_cols = [\n",
    "\n",
    "# ###################################\n",
    "# # ---- TOADD ATTRIBUTE COLUMNS ----\n",
    "# ###################################\n",
    "\n",
    "# ]\n",
    "\n",
    "attr_cols = [\n",
    "# RID\n",
    "# 'PID', 'PatientID', \n",
    " \n",
    "# # DT\n",
    "# 'YearOfBirth', 'ActivationDate',\n",
    "# 'MRSegmentModifiedDateTime', \n",
    "# 'UserTimeZone', 'UserTimeZoneOffset', # fields\n",
    "    \n",
    "# # Values\n",
    "# 'Gender',  'MRSegmentID', 'DiseaseType', \n",
    "# # 'BPMeterConnected', 'WeightMeterConnected', 'PatientMeterConnected',\n",
    "\n",
    "]\n",
    "\n",
    "for i in attr_cols: print('-', i)\n",
    "\n",
    "df[attr_cols].head()"
   ]
  },
  {
   "cell_type": "markdown",
   "id": "1456139b-7023-44a3-ae7c-74c82af01f75",
   "metadata": {},
   "source": [
    "## [Step 3] Write down RawRec_to_RecAttr_fn\n",
    "\n",
    "Movivation: saving such a RawRec_to_RecAttr_fn is to create clean, efficient, and maintainable code that can be easily shared and reused.\n",
    "\n",
    "Aim: Save RawRec_RecAttr_fn\n",
    "\n",
    "Input: df_HumanRawRec, df_Human, cohort_args, record_args, attr_cols\n",
    "\n",
    "output: RawRec_RecAttr_fn\n",
    "\n",
    "Instruction: Copy the code from above and run it."
   ]
  },
  {
   "cell_type": "code",
   "execution_count": null,
   "id": "be842e5b-d113-48c6-b0cf-f87874345834",
   "metadata": {
    "tags": []
   },
   "outputs": [],
   "source": [
    "from recfldtkn.loadtools import convert_variables_to_pystirng, load_module_variables\n",
    "import inspect\n",
    "\n",
    "###########################\n",
    "def RawRec_to_RecAttr_fn(df_HumanRawRec, df_Human, cohort_args, record_args, attr_cols):\n",
    "    #-------------------\n",
    "    df = df_HumanRawRec\n",
    "\n",
    "    # 1. filter out the records we don't need (optional) \n",
    "\n",
    "    # 2. create a new column for raw record id (optional)\n",
    "\n",
    "    # 3. update datetime columns \n",
    "    column = 'ActivationDate'\n",
    "    df[column] = pd.to_datetime(df[column], format='mixed')\n",
    "    column = 'MRSegmentModifiedDateTime'\n",
    "    df[column] = pd.to_datetime(df[column], format = 'mixed')\n",
    "\n",
    "    # 4. select a DT as the RecDT\n",
    "\n",
    "    # 5. merge with the parent record \n",
    "    df_Prt = record_args['df_Prt']\n",
    "    prt_record_args = record_args['prt_record_args']\n",
    "    df_merged = pd.merge(df_Prt, df, how = 'inner', on = prt_record_args['RawRecID'])\n",
    "    df = df_merged\n",
    "\n",
    "    # 6. sort the table by RootID and RecDT\n",
    "    RootID = cohort_args['RootID']\n",
    "    df = df.sort_values(RootID).reset_index(drop = True)\n",
    "    #-------------------\n",
    "\n",
    "    df_HumanRecAttr = df[attr_cols].reset_index(drop = True)\n",
    "    return df_HumanRecAttr\n",
    "###########################\n",
    "\n",
    "RawRec_to_RecAttr_fn.fn_string = inspect.getsource(RawRec_to_RecAttr_fn)"
   ]
  },
  {
   "cell_type": "markdown",
   "id": "ceb99f4a",
   "metadata": {},
   "source": [
    "## [Step 4] Save as the pipeline fn"
   ]
  },
  {
   "cell_type": "markdown",
   "id": "a93b4291",
   "metadata": {},
   "source": [
    "Instruction:  Run the following code.\n"
   ]
  },
  {
   "cell_type": "code",
   "execution_count": null,
   "id": "1c3fe922-f168-4545-abf4-2c7b3fac9ba3",
   "metadata": {},
   "outputs": [],
   "source": [
    "prefix = ['import pandas as pd', 'import numpy as np']\n",
    "pycode = convert_variables_to_pystirng(fn_variables = [RawRec_to_RecAttr_fn], prefix = prefix)\n",
    "RecName = record_args['RecName']\n",
    "pypath = record_args['pypath']\n",
    "print(pypath)\n",
    "if not os.path.exists(os.path.dirname(pypath)): os.makedirs(os.path.dirname(pypath))\n",
    "with open(pypath, 'w') as file: file.write(pycode)\n",
    "\n",
    "RecName = record_args['RecName']\n",
    "pypath = record_args['pypath']\n",
    "module = load_module_variables(pypath)\n",
    "RawRec_to_RecAttr_fn = module.MetaDict['RawRec_to_RecAttr_fn']"
   ]
  },
  {
   "cell_type": "markdown",
   "id": "0e502f78",
   "metadata": {},
   "source": [
    "## [Step 5] Test the save pipeline fn"
   ]
  },
  {
   "cell_type": "code",
   "execution_count": null,
   "id": "55ca5dbf",
   "metadata": {},
   "outputs": [],
   "source": [
    "\n",
    "df_HumanRecAttr = RawRec_to_RecAttr_fn(df_HumanRawRec, df_Human, cohort_args, record_args, attr_cols)\n",
    "df_HumanRecAttr"
   ]
  },
  {
   "cell_type": "code",
   "execution_count": null,
   "id": "407e11a1",
   "metadata": {},
   "outputs": [],
   "source": []
  }
 ],
 "metadata": {
  "kernelspec": {
   "display_name": "Python 3 (ipykernel)",
   "language": "python",
   "name": "python3"
  },
  "language_info": {
   "codemirror_mode": {
    "name": "ipython",
    "version": 3
   },
   "file_extension": ".py",
   "mimetype": "text/x-python",
   "name": "python",
   "nbconvert_exporter": "python",
   "pygments_lexer": "ipython3",
   "version": "3.10.9"
  },
  "toc": {
   "base_numbering": 1,
   "nav_menu": {},
   "number_sections": true,
   "sideBar": true,
   "skip_h1_title": false,
   "title_cell": "Table of Contents",
   "title_sidebar": "Contents",
   "toc_cell": false,
   "toc_position": {
    "height": "calc(100% - 180px)",
    "left": "10px",
    "top": "150px",
    "width": "165px"
   },
   "toc_section_display": true,
   "toc_window_display": true
  },
  "toc-autonumbering": true
 },
 "nbformat": 4,
 "nbformat_minor": 5
}
