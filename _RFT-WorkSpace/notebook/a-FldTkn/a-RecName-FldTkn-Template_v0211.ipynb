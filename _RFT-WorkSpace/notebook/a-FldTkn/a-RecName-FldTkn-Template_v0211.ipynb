{
 "cells": [
  {
   "cell_type": "markdown",
   "id": "6c938bf1",
   "metadata": {},
   "source": [
    "# Space\n",
    "\n",
    "\n",
    "version: 2024-02-11"
   ]
  },
  {
   "cell_type": "code",
   "execution_count": 1,
   "id": "1c872edd",
   "metadata": {},
   "outputs": [
    {
     "name": "stdout",
     "output_type": "stream",
     "text": [
      "/Users/xiruihan/Library/CloudStorage/GoogleDrive-rui.han.cdhai@gmail.com/Shared drives/CDHAI-WellDoc/2024-WellDocTest-SPACE/_RFT-WorkSpace\n"
     ]
    }
   ],
   "source": [
    "import os\n",
    "import sys \n",
    "import pandas as pd \n",
    "from IPython.display import display, HTML\n",
    "KEY = 'WorkSpace'\n",
    "WORKSPACE_PATH = os.getcwd().split(KEY)[0] + KEY\n",
    "print(WORKSPACE_PATH)\n",
    "os.chdir(WORKSPACE_PATH)\n",
    "sys.path.append(WORKSPACE_PATH)\n",
    "import sys\n",
    "from proj_space import PROJECT, TaskName, SPACE\n",
    "SPACE['WORKSPACE_PATH'] = WORKSPACE_PATH\n",
    "sys.path.append(SPACE['CODE_FN'])\n",
    "recfldtkn_config_path = os.path.join(SPACE['CODE_RFT'], 'config_recfldtkn')"
   ]
  },
  {
   "cell_type": "markdown",
   "id": "35aca990",
   "metadata": {},
   "source": [
    "# [Part 1] Load dfHumanRecAttr"
   ]
  },
  {
   "cell_type": "markdown",
   "id": "d817dae8",
   "metadata": {},
   "source": [
    "## [Step 1]** Create FldTknName\n",
    "\n",
    "Motivation: To provide a flexible way to handle different types of configuration files or data records\n",
    "\n",
    "Aim: FldTknName is set to the name of a file ('Food-NutriN2CTkn' in this case); FldType is set to 'N2C' in this case.\n",
    "\n",
    "Input:\n",
    "\n",
    "Output:FldTknName and FldType\n",
    "\n",
    "\n",
    "\n",
    "<span style=\"color:red;\">Instruction:</span>\n",
    "1. change 'P-DemoCateTkn', in this example: P is rec name and DemoCateTkn is a specific tkn name\n",
    "2. change FldType. In general, we have a few different types."
   ]
  },
  {
   "cell_type": "code",
   "execution_count": 2,
   "id": "44ff3b00-c0db-4944-8fb3-01e95be33c79",
   "metadata": {
    "tags": []
   },
   "outputs": [
    {
     "name": "stdout",
     "output_type": "stream",
     "text": [
      "P\n"
     ]
    }
   ],
   "source": [
    "###########################\n",
    "FldTknName = 'P-DemoCateTkn' # <-------- select your yaml file name\n",
    "FldType = 'Cate'\n",
    "###########################\n",
    "\n",
    "FLD_TYPE_LIST = ['Cate', 'N2C', 'Nume', 'External']\n",
    "assert FldType in FLD_TYPE_LIST\n",
    "RecName = FldTknName.split('-')[0]\n",
    "print(RecName)"
   ]
  },
  {
   "cell_type": "markdown",
   "id": "023e52ea",
   "metadata": {},
   "source": [
    "## [Step 2] Open  Rec yaml file \n"
   ]
  },
  {
   "cell_type": "code",
   "execution_count": 3,
   "id": "a81f8979",
   "metadata": {},
   "outputs": [
    {
     "data": {
      "text/html": [
       "../pipeline/config_recfldtkn/Record/P.yaml <a href=\"/Users/xiruihan/Library/CloudStorage/GoogleDrive-rui.han.cdhai@gmail.com/Shared drives/CDHAI-WellDoc/2024-WellDocTest-SPACE/_RFT-WorkSpace/../pipeline/config_recfldtkn/Record/P.yaml\" target=\"_blank\">Open File</a>"
      ],
      "text/plain": [
       "<IPython.core.display.HTML object>"
      ]
     },
     "metadata": {},
     "output_type": "display_data"
    }
   ],
   "source": [
    "import pandas as pd\n",
    "from recfldtkn.configfn import load_cohort_args, load_record_args, load_fldtkn_args\n",
    "\n",
    "# step 1: create the FldTkn yaml file in recfldtkn_config_path\n",
    "cohort_args = load_cohort_args(recfldtkn_config_path, SPACE)\n",
    "record_args = load_record_args(RecName, cohort_args)\n",
    "fldtkn_args = load_fldtkn_args(RecName, FldTknName, cohort_args)\n",
    "\n",
    "# Create a HTML link and display it\n",
    "path = record_args['yaml_file_path']\n",
    "full_path = os.path.join(WORKSPACE_PATH, path)\n",
    "display(HTML(f'{path} <a href=\"{full_path}\" target=\"_blank\">Open File</a>'))"
   ]
  },
  {
   "cell_type": "markdown",
   "id": "18b6de5f",
   "metadata": {},
   "source": [
    "## [Step 3]**: Add FldTknInfo to Record Yaml\n",
    "\n",
    "``` yaml\n",
    "FldTknInfo:\n",
    "  # <---- uodated information >\n",
    "  P-DemoCateTkn:  # RecName-FldTkn \n",
    "    value_cols:   # value columns\n",
    "      - Gender\n",
    "      - DiseaseType\n",
    "      - MRSegmentID\n",
    "  # <--------------------->\n",
    "```\n"
   ]
  },
  {
   "cell_type": "markdown",
   "id": "28ba03a5",
   "metadata": {},
   "source": [
    "## [Step 4] Load FldTkn Args (from Record yaml's FldTkn part)"
   ]
  },
  {
   "cell_type": "code",
   "execution_count": 4,
   "id": "6529980b",
   "metadata": {},
   "outputs": [
    {
     "name": "stdout",
     "output_type": "stream",
     "text": [
      "['Gender', 'DiseaseType', 'MRSegmentID']\n",
      "['PID', 'PatientID', 'Gender', 'DiseaseType', 'MRSegmentID']\n"
     ]
    }
   ],
   "source": [
    "from recfldtkn.loadtools import load_ds_rec_and_info\n",
    "# load fldtkn_args\n",
    "fldtkn_args = load_fldtkn_args(RecName, FldTknName, cohort_args)\n",
    "fldtkn_args['attr_cols']\n",
    "\n",
    "# load dfHumanRecAttr\n",
    "value_cols = fldtkn_args['value_cols']\n",
    "attr_cols  = fldtkn_args['attr_cols'] # record_args['RecIDChain'] + value_cols\n",
    "\n",
    "print(value_cols)\n",
    "print(attr_cols)"
   ]
  },
  {
   "cell_type": "markdown",
   "id": "a4f9c83b",
   "metadata": {},
   "source": [
    "## [Step 5] Prepare dfHumanRecAttr"
   ]
  },
  {
   "cell_type": "code",
   "execution_count": 5,
   "id": "2be11acf",
   "metadata": {},
   "outputs": [
    {
     "name": "stdout",
     "output_type": "stream",
     "text": [
      "(7296, 5)\n"
     ]
    },
    {
     "data": {
      "text/html": [
       "<div>\n",
       "<style scoped>\n",
       "    .dataframe tbody tr th:only-of-type {\n",
       "        vertical-align: middle;\n",
       "    }\n",
       "\n",
       "    .dataframe tbody tr th {\n",
       "        vertical-align: top;\n",
       "    }\n",
       "\n",
       "    .dataframe thead th {\n",
       "        text-align: right;\n",
       "    }\n",
       "</style>\n",
       "<table border=\"1\" class=\"dataframe\">\n",
       "  <thead>\n",
       "    <tr style=\"text-align: right;\">\n",
       "      <th></th>\n",
       "      <th>PID</th>\n",
       "      <th>PatientID</th>\n",
       "      <th>Gender</th>\n",
       "      <th>DiseaseType</th>\n",
       "      <th>MRSegmentID</th>\n",
       "    </tr>\n",
       "  </thead>\n",
       "  <tbody>\n",
       "    <tr>\n",
       "      <th>0</th>\n",
       "      <td>1000001</td>\n",
       "      <td>6</td>\n",
       "      <td>2</td>\n",
       "      <td>1</td>\n",
       "      <td>MR_6</td>\n",
       "    </tr>\n",
       "    <tr>\n",
       "      <th>1</th>\n",
       "      <td>1000002</td>\n",
       "      <td>10</td>\n",
       "      <td>2</td>\n",
       "      <td>2</td>\n",
       "      <td>MR_1</td>\n",
       "    </tr>\n",
       "    <tr>\n",
       "      <th>2</th>\n",
       "      <td>1000003</td>\n",
       "      <td>11</td>\n",
       "      <td>1</td>\n",
       "      <td>2</td>\n",
       "      <td>MR_1</td>\n",
       "    </tr>\n",
       "    <tr>\n",
       "      <th>3</th>\n",
       "      <td>1000004</td>\n",
       "      <td>13</td>\n",
       "      <td>1</td>\n",
       "      <td>2</td>\n",
       "      <td>MR_1</td>\n",
       "    </tr>\n",
       "    <tr>\n",
       "      <th>4</th>\n",
       "      <td>1000005</td>\n",
       "      <td>14</td>\n",
       "      <td>2</td>\n",
       "      <td>2</td>\n",
       "      <td>MR_5.6</td>\n",
       "    </tr>\n",
       "  </tbody>\n",
       "</table>\n",
       "</div>"
      ],
      "text/plain": [
       "       PID  PatientID  Gender  DiseaseType MRSegmentID\n",
       "0  1000001          6       2            1        MR_6\n",
       "1  1000002         10       2            2        MR_1\n",
       "2  1000003         11       1            2        MR_1\n",
       "3  1000004         13       1            2        MR_1\n",
       "4  1000005         14       2            2      MR_5.6"
      ]
     },
     "execution_count": 5,
     "metadata": {},
     "output_type": "execute_result"
    }
   ],
   "source": [
    "\n",
    "dsHumanRecAttr, _ = load_ds_rec_and_info(RecName, cohort_args)\n",
    "dfHumanRecAttr = dsHumanRecAttr.select_columns(attr_cols).to_pandas()\n",
    "print(dfHumanRecAttr.shape)\n",
    "dfHumanRecAttr.head()"
   ]
  },
  {
   "cell_type": "markdown",
   "id": "fae5907a",
   "metadata": {},
   "source": [
    "# [Part 2]: Design $\\phi$ pipeline"
   ]
  },
  {
   "cell_type": "markdown",
   "id": "0f06bac8",
   "metadata": {},
   "source": [
    "## [Step 1]* [Pre-defined Token Vocab]"
   ]
  },
  {
   "cell_type": "code",
   "execution_count": 6,
   "metadata": {},
   "outputs": [
    {
     "name": "stdout",
     "output_type": "stream",
     "text": [
      "['PID', 'PatientID', 'Gender', 'DiseaseType', 'MRSegmentID']\n",
      "['Gender', 'DiseaseType', 'MRSegmentID']\n",
      "FldType: Cate\n",
      "Gender 2 [1, 2]\n",
      "DiseaseType 2 [2, 1]\n",
      "MRSegmentID 17 ['MR_6', 'MR_0', 'MR_1', 'MR_7', 'MR_2', 'MR_4', 'MR_5.6', 'MR_5.0', 'MR_5.7', 'MR_3', 'MR_5.4', 'MR_5.8', 'MR_5.1', 'MR_4.1', 'MR_5.2', 'MR_-1', 'MR_5.5']\n"
     ]
    }
   ],
   "source": [
    "print(fldtkn_args['attr_cols'])\n",
    "print(fldtkn_args['value_cols'])\n",
    "print('FldType:', FldType)\n",
    "\n",
    "column_to_top_values = {}\n",
    "item_to_configs = {}\n",
    "\n",
    "if FldType == 'Cate':\n",
    "    ############################### for Cate Tkn only\n",
    "    column_to_top_values = {}\n",
    "    TOP_NUM = 30\n",
    "    cols = fldtkn_args['value_cols']\n",
    "    for col in cols:\n",
    "        top_tkn = list(dfHumanRecAttr[col].value_counts().iloc[:TOP_NUM].index)\n",
    "        print(col, len(top_tkn), top_tkn)\n",
    "        column_to_top_values[col] = top_tkn # tolist()\n",
    "    ###############################\n",
    "        \n",
    "elif FldType == 'N2C':\n",
    "    ############################### for N2C Tkn only, you need to modify this part. \n",
    "    cols = fldtkn_args['value_cols']\n",
    "    descp = dfHumanRecAttr[cols].astype(float).describe().round(2)#.to_dict()\n",
    "    print(descp)\n",
    "    item_to_configs = {\n",
    "       #  'XXX': {'Max': 600, 'Min': 1, 'INTERVAL': 1}, # <--- you need to modify this part\n",
    "    }\n",
    "    ###############################\n",
    "\n",
    "elif FldType == 'External':\n",
    "    df_db = fldtkn_args['external_source']\n",
    "    display(HTML(df_db.head().to_html()))\n",
    "\n",
    "else:\n",
    "    assert FldType in FLD_TYPE_LIST\n",
    "    \n",
    "fldtkn_args[f'column_to_top_values'] = column_to_top_values\n",
    "fldtkn_args['item_to_configs'] = item_to_configs"
   ]
  },
  {
   "cell_type": "markdown",
   "id": "72185e19",
   "metadata": {},
   "source": [
    "## [Step 2]* Tokenizer"
   ]
  },
  {
   "cell_type": "code",
   "execution_count": 7,
   "id": "d9849ed5",
   "metadata": {},
   "outputs": [
    {
     "name": "stdout",
     "output_type": "stream",
     "text": [
      "show tokenizer_fn result\n",
      "{'PID': 1000001, 'PatientID': 6, 'Gender': 2, 'DiseaseType': 1, 'MRSegmentID': 'MR_6'}\n",
      "{'tkn': ['Gender_2', 'DiseaseType_1', 'MRSegmentID_MR_6'], 'wgt': [1, 1, 1]}\n"
     ]
    }
   ],
   "source": [
    "import inspect\n",
    "\n",
    "################################## You might need to change it a bit. \n",
    "def tokenizer_fn(rec, fldtkn_args):\n",
    "    d = {}\n",
    "\n",
    "    # #----------- Cate\n",
    "    column_to_top_values = fldtkn_args[f'column_to_top_values']\n",
    "    for key in column_to_top_values:\n",
    "        top_values = column_to_top_values[key]\n",
    "        value = rec.get(key, 'unk')\n",
    "        if value not in top_values and value != 'unk': value = 'minor'\n",
    "        key_value = f\"{key}_{value}\"  # Concatenate key and value\n",
    "        d[key_value] = 1\n",
    "\n",
    "    # #------------ N2C with interval and intervel level. \n",
    "    # item_to_configs = fldtkn_args['item_to_configs']\n",
    "    # for item, configs in item_to_configs.items():\n",
    "    #     Max = configs['Max']\n",
    "    #     Min = configs['Min']\n",
    "    #     INTERVAL = configs['INTERVAL']\n",
    "    #     if pd.isnull(rec.get(item, None)):\n",
    "    #         d[f\"{item}:None\"] = 1\n",
    "    #     elif float(rec[item]) > Max:\n",
    "    #         d[ f\"{item}:Above{Max}\"] = 1\n",
    "    #     elif float(rec[item]) < Min:\n",
    "    #         d[ f\"{item}:Below{Min}\"] = 1\n",
    "    #     else:\n",
    "    #         lower_bound = int((float(rec[item]) // INTERVAL) * INTERVAL)\n",
    "    #         upper_bound = int(lower_bound + INTERVAL)\n",
    "    #         # Calculate the proportion of value within the interval\n",
    "    #         proportion = (float(rec[item]) - lower_bound) / INTERVAL\n",
    "    #         # Construct the keys\n",
    "    #         key1 = f\"{item}:{lower_bound}~{upper_bound}\"\n",
    "    #         key2 = f\"{key1}Level\"\n",
    "    #         # Add them to the dictionary with appropriate weights\n",
    "    #         d[key1] = 1\n",
    "    #         d[key2] = proportion\n",
    "\n",
    "    # #------------ Nume\n",
    "    # for col in fldtkn_args['value_cols']:\n",
    "    #     x = rec[col]\n",
    "    #     if pd.isnull(x):\n",
    "    #         d[f'{col}_None'] = 1\n",
    "    #     else:\n",
    "    #         d[col] = float(x)\n",
    "\n",
    "    # #------------ ExternalSource: zip3 as an example. This is case by case. \n",
    "    ##############################################################\n",
    "    ##     this part can be moved to big Phi in the future.     ##\n",
    "    ##############################################################\n",
    "    # df_db = fldtkn_args['external_source']\n",
    "    # try:\n",
    "    #     external_id = str(int(rec['patient_zipcode_3']))\n",
    "    # except:\n",
    "    #     external_id = str(rec['patient_zipcode_3'])\n",
    "\n",
    "    # if external_id not in df_db['Zip3'].to_list():\n",
    "    #     return {'tkn': ['zip3-None'], 'wgt':[1]}\n",
    "    # row = df_db[df_db['Zip3'] == external_id].iloc[0].to_dict()\n",
    "    # tkn_col = [i for i in df_db.columns if 'tkn' in i][0]\n",
    "    # wgt_col = [i for i in df_db.columns if 'wgt' in i][0]\n",
    "    # d = dict(zip(row[tkn_col], row[wgt_col]))\n",
    "\n",
    "\n",
    "    tkn = list(d.keys())\n",
    "    wgt = list(d.values())\n",
    "    output = {'tkn': tkn, 'wgt': wgt}\n",
    "    return output\n",
    "##################################\n",
    "\n",
    "tokenizer_fn.fn_string = inspect.getsource(tokenizer_fn)\n",
    "\n",
    "print('show tokenizer_fn result')\n",
    "rec = dfHumanRecAttr.iloc[0]\n",
    "print(rec.to_dict())\n",
    "print(tokenizer_fn(rec, fldtkn_args))"
   ]
  },
  {
   "cell_type": "markdown",
   "id": "709344e5",
   "metadata": {},
   "source": [
    "## [Step 3]* Vocab"
   ]
  },
  {
   "cell_type": "code",
   "execution_count": 8,
   "id": "245f2a40",
   "metadata": {},
   "outputs": [
    {
     "name": "stdout",
     "output_type": "stream",
     "text": [
      "show idx2tkn for FldType: Cate\n",
      "27\n",
      "['Gender_unk', 'Gender_minor', 'Gender_1', 'Gender_2', 'DiseaseType_unk', 'DiseaseType_minor', 'DiseaseType_2', 'DiseaseType_1', 'MRSegmentID_unk', 'MRSegmentID_minor']\n"
     ]
    }
   ],
   "source": [
    "import itertools\n",
    "\n",
    "print('show idx2tkn for FldType:', FldType )\n",
    "if FldType == 'Cate':\n",
    "    ############################################## Cate Tkn only\n",
    "    idx2tkn = []\n",
    "    for col, values in column_to_top_values.items():\n",
    "        idx2tkn = idx2tkn + [f'{col}_unk', f'{col}_minor']\n",
    "        for val in values:\n",
    "            idx2tkn.append(f\"{col}_{val}\")\n",
    "    print(len(idx2tkn))\n",
    "    print(idx2tkn[:10])\n",
    "    ##############################################\n",
    "\n",
    "elif FldType == 'N2C':\n",
    "    ############################################## for N2C only\n",
    "    Min, Max = -10, 3000 # <---- keep this as default. don't change it.\n",
    "    df_simu = pd.DataFrame({\n",
    "        col: [None] + list(range(Min, Max )) for col in item_to_configs.keys()\n",
    "    })\n",
    "    df_sim = pd.DataFrame(df_simu.apply(lambda rec: tokenizer_fn(rec, fldtkn_args), axis = 1).to_list())\n",
    "    idx2tkn = sorted(list(set(itertools.chain(*df_sim['tkn'].to_list()))))\n",
    "    print(len(idx2tkn))\n",
    "    print(idx2tkn[:10])\n",
    "    ##############################################\n",
    "\n",
    "elif FldType == 'Nume':\n",
    "    ############################################## for Nume\n",
    "    idx2tkn = fldtkn_args['value_cols'] + [f'{col}_None' for col in fldtkn_args['value_cols']]\n",
    "    print(len(idx2tkn))\n",
    "    print(idx2tkn[:10])\n",
    "    ##############################################\n",
    "\n",
    "elif FldType == 'External':\n",
    "    none_tkn = 'zip3-None' # <--- you need to change this.\n",
    "    tkn_col = [i for i in df_db.columns if 'tkn' in i][0]\n",
    "    idx2tkn = [none_tkn] +sorted(list(set(itertools.chain(*fldtkn_args['external_source'][tkn_col].to_list()))))\n",
    "    print(len(idx2tkn[:10]))\n",
    "\n",
    "else:\n",
    "    assert FldType in FLD_TYPE_LIST"
   ]
  },
  {
   "cell_type": "code",
   "execution_count": 9,
   "id": "d3d51e78",
   "metadata": {},
   "outputs": [
    {
     "data": {
      "text/plain": [
       "idx2tkn    [Gender_unk, Gender_minor, Gender_1, Gender_2,...\n",
       "tkn2idx    {'Gender_unk': 0, 'Gender_minor': 1, 'Gender_1...\n",
       "tkn2fld    {'Gender_unk': 'P-DemoCateTkn', 'Gender_minor'...\n",
       "dtype: object"
      ]
     },
     "execution_count": 9,
     "metadata": {},
     "output_type": "execute_result"
    }
   ],
   "source": [
    "from recfldtkn.pipeline_record import get_and_save_vocab_from_idx2tkn\n",
    "Vocab = get_and_save_vocab_from_idx2tkn(idx2tkn, **fldtkn_args)\n",
    "Vocab"
   ]
  },
  {
   "cell_type": "markdown",
   "id": "4c0a6eb0",
   "metadata": {},
   "source": [
    "# Part 4: Application\n",
    "\n",
    "## [Step 1] Save PyFile"
   ]
  },
  {
   "cell_type": "code",
   "execution_count": 10,
   "id": "063a40da",
   "metadata": {},
   "outputs": [
    {
     "data": {
      "text/html": [
       "../pipeline/fn_fldtkn/P_DemoCateTkn.py <a href=\"/Users/xiruihan/Library/CloudStorage/GoogleDrive-rui.han.cdhai@gmail.com/Shared drives/CDHAI-WellDoc/2024-WellDocTest-SPACE/_RFT-WorkSpace/../pipeline/fn_fldtkn/P_DemoCateTkn.py\" target=\"_blank\">Open File</a>"
      ],
      "text/plain": [
       "<IPython.core.display.HTML object>"
      ]
     },
     "metadata": {},
     "output_type": "display_data"
    }
   ],
   "source": [
    "from recfldtkn.loadtools import convert_variables_to_pystirng, load_module_variables\n",
    "\n",
    "prefix = ['import pandas as pd', 'import numpy as np']\n",
    "iterative_variables = [column_to_top_values, item_to_configs, idx2tkn] # <-- don't forget to update this.\n",
    "fn_variables = [tokenizer_fn]\n",
    "pycode = convert_variables_to_pystirng(iterative_variables = iterative_variables, fn_variables = fn_variables, prefix = prefix)\n",
    "RecName = record_args['RecName']\n",
    "pypath = fldtkn_args['pypath']\n",
    "# print(pypath)\n",
    "with open(pypath, 'w') as file: file.write(pycode)\n",
    "\n",
    "# Create a HTML link and display it\n",
    "path = fldtkn_args['pypath']\n",
    "full_path = os.path.join(WORKSPACE_PATH, path)\n",
    "display(HTML(f'{path} <a href=\"{full_path}\" target=\"_blank\">Open File</a>'))"
   ]
  },
  {
   "cell_type": "markdown",
   "id": "58cabf8d",
   "metadata": {},
   "source": [
    "\n",
    "## [Step 2] Load PyFile"
   ]
  },
  {
   "cell_type": "code",
   "execution_count": 11,
   "id": "c74e631b",
   "metadata": {},
   "outputs": [],
   "source": [
    "module = load_module_variables(pypath)\n",
    "\n",
    "# tokenizer_fn\n",
    "tokenizer_fn = module.MetaDict['tokenizer_fn']\n",
    "\n",
    "# idx2tkn\n",
    "idx2tkn = module.MetaDict['idx2tkn']\n",
    "\n",
    "if 'column_to_top_values' in module.MetaDict:\n",
    "    fldtkn_args['column_to_top_values'] = module.MetaDict['column_to_top_values']\n",
    "if 'item_to_configs' in module.MetaDict:\n",
    "    fldtkn_args['item_to_configs'] = module.MetaDict['item_to_configs']"
   ]
  },
  {
   "cell_type": "markdown",
   "id": "0a0bf04a",
   "metadata": {},
   "source": [
    "## [Step 3] Application"
   ]
  },
  {
   "cell_type": "code",
   "execution_count": 12,
   "id": "cc86bbf6",
   "metadata": {},
   "outputs": [
    {
     "name": "stdout",
     "output_type": "stream",
     "text": [
      "s 2024-02-11 21:38:28.086439\n",
      "e 2024-02-11 21:38:28.242044\n",
      "Total memory usage: 0.17 MB\n"
     ]
    },
    {
     "data": {
      "text/html": [
       "<div>\n",
       "<style scoped>\n",
       "    .dataframe tbody tr th:only-of-type {\n",
       "        vertical-align: middle;\n",
       "    }\n",
       "\n",
       "    .dataframe tbody tr th {\n",
       "        vertical-align: top;\n",
       "    }\n",
       "\n",
       "    .dataframe thead th {\n",
       "        text-align: right;\n",
       "    }\n",
       "</style>\n",
       "<table border=\"1\" class=\"dataframe\">\n",
       "  <thead>\n",
       "    <tr style=\"text-align: right;\">\n",
       "      <th></th>\n",
       "      <th>PID</th>\n",
       "      <th>P-DemoCateTkn_tknidx</th>\n",
       "      <th>P-DemoCateTkn_wgt</th>\n",
       "    </tr>\n",
       "  </thead>\n",
       "  <tbody>\n",
       "    <tr>\n",
       "      <th>0</th>\n",
       "      <td>1000001</td>\n",
       "      <td>[3, 7, 10]</td>\n",
       "      <td>[1, 1, 1]</td>\n",
       "    </tr>\n",
       "    <tr>\n",
       "      <th>1</th>\n",
       "      <td>1000002</td>\n",
       "      <td>[3, 6, 12]</td>\n",
       "      <td>[1, 1, 1]</td>\n",
       "    </tr>\n",
       "    <tr>\n",
       "      <th>2</th>\n",
       "      <td>1000003</td>\n",
       "      <td>[2, 6, 12]</td>\n",
       "      <td>[1, 1, 1]</td>\n",
       "    </tr>\n",
       "    <tr>\n",
       "      <th>3</th>\n",
       "      <td>1000004</td>\n",
       "      <td>[2, 6, 12]</td>\n",
       "      <td>[1, 1, 1]</td>\n",
       "    </tr>\n",
       "    <tr>\n",
       "      <th>4</th>\n",
       "      <td>1000005</td>\n",
       "      <td>[3, 6, 16]</td>\n",
       "      <td>[1, 1, 1]</td>\n",
       "    </tr>\n",
       "  </tbody>\n",
       "</table>\n",
       "</div>"
      ],
      "text/plain": [
       "       PID P-DemoCateTkn_tknidx P-DemoCateTkn_wgt\n",
       "0  1000001           [3, 7, 10]         [1, 1, 1]\n",
       "1  1000002           [3, 6, 12]         [1, 1, 1]\n",
       "2  1000003           [2, 6, 12]         [1, 1, 1]\n",
       "3  1000004           [2, 6, 12]         [1, 1, 1]\n",
       "4  1000005           [3, 6, 16]         [1, 1, 1]"
      ]
     },
     "execution_count": 12,
     "metadata": {},
     "output_type": "execute_result"
    }
   ],
   "source": [
    "from recfldtkn.pipeline_record import tokenizer_dfHumanRecAttr\n",
    "from datetime import datetime\n",
    "\n",
    "print('s', datetime.now())\n",
    "RootID, RecID = cohort_args['RootID'], record_args['RecID']\n",
    "df_fld = tokenizer_dfHumanRecAttr(dfHumanRecAttr, RootID, RecID, FldTknName, \n",
    "                                 tokenizer_fn, Vocab, fldtkn_args,\n",
    "                                 use_tknidx = True)\n",
    "print('e', datetime.now())\n",
    "total_memory = df_fld.memory_usage(index=True).sum()\n",
    "print(f\"Total memory usage: {total_memory / 1024**2:.2f} MB\")\n",
    "df_fld.head()"
   ]
  },
  {
   "cell_type": "code",
   "execution_count": 13,
   "id": "92e5139a",
   "metadata": {},
   "outputs": [
    {
     "name": "stdout",
     "output_type": "stream",
     "text": [
      "s 2024-02-11 21:38:29.031967\n",
      "e 2024-02-11 21:38:29.311077\n",
      "Total memory usage: 0.17 MB\n"
     ]
    },
    {
     "data": {
      "text/html": [
       "<div>\n",
       "<style scoped>\n",
       "    .dataframe tbody tr th:only-of-type {\n",
       "        vertical-align: middle;\n",
       "    }\n",
       "\n",
       "    .dataframe tbody tr th {\n",
       "        vertical-align: top;\n",
       "    }\n",
       "\n",
       "    .dataframe thead th {\n",
       "        text-align: right;\n",
       "    }\n",
       "</style>\n",
       "<table border=\"1\" class=\"dataframe\">\n",
       "  <thead>\n",
       "    <tr style=\"text-align: right;\">\n",
       "      <th></th>\n",
       "      <th>PID</th>\n",
       "      <th>P-DemoCateTkn_tkn</th>\n",
       "      <th>P-DemoCateTkn_wgt</th>\n",
       "    </tr>\n",
       "  </thead>\n",
       "  <tbody>\n",
       "    <tr>\n",
       "      <th>0</th>\n",
       "      <td>1000001</td>\n",
       "      <td>[Gender_2, DiseaseType_1, MRSegmentID_MR_6]</td>\n",
       "      <td>[1, 1, 1]</td>\n",
       "    </tr>\n",
       "    <tr>\n",
       "      <th>1</th>\n",
       "      <td>1000002</td>\n",
       "      <td>[Gender_2, DiseaseType_2, MRSegmentID_MR_1]</td>\n",
       "      <td>[1, 1, 1]</td>\n",
       "    </tr>\n",
       "    <tr>\n",
       "      <th>2</th>\n",
       "      <td>1000003</td>\n",
       "      <td>[Gender_1, DiseaseType_2, MRSegmentID_MR_1]</td>\n",
       "      <td>[1, 1, 1]</td>\n",
       "    </tr>\n",
       "    <tr>\n",
       "      <th>3</th>\n",
       "      <td>1000004</td>\n",
       "      <td>[Gender_1, DiseaseType_2, MRSegmentID_MR_1]</td>\n",
       "      <td>[1, 1, 1]</td>\n",
       "    </tr>\n",
       "    <tr>\n",
       "      <th>4</th>\n",
       "      <td>1000005</td>\n",
       "      <td>[Gender_2, DiseaseType_2, MRSegmentID_MR_5.6]</td>\n",
       "      <td>[1, 1, 1]</td>\n",
       "    </tr>\n",
       "  </tbody>\n",
       "</table>\n",
       "</div>"
      ],
      "text/plain": [
       "       PID                              P-DemoCateTkn_tkn P-DemoCateTkn_wgt\n",
       "0  1000001    [Gender_2, DiseaseType_1, MRSegmentID_MR_6]         [1, 1, 1]\n",
       "1  1000002    [Gender_2, DiseaseType_2, MRSegmentID_MR_1]         [1, 1, 1]\n",
       "2  1000003    [Gender_1, DiseaseType_2, MRSegmentID_MR_1]         [1, 1, 1]\n",
       "3  1000004    [Gender_1, DiseaseType_2, MRSegmentID_MR_1]         [1, 1, 1]\n",
       "4  1000005  [Gender_2, DiseaseType_2, MRSegmentID_MR_5.6]         [1, 1, 1]"
      ]
     },
     "execution_count": 13,
     "metadata": {},
     "output_type": "execute_result"
    }
   ],
   "source": [
    "print('s', datetime.now())\n",
    "RootID, RecID = cohort_args['RootID'], record_args['RecID']\n",
    "df_fld = tokenizer_dfHumanRecAttr(dfHumanRecAttr, RootID, RecID, FldTknName, \n",
    "                                 tokenizer_fn, Vocab, fldtkn_args, \n",
    "                                 use_tknidx = False)\n",
    "print('e', datetime.now())\n",
    "total_memory = df_fld.memory_usage(index=True).sum()\n",
    "print(f\"Total memory usage: {total_memory / 1024**2:.2f} MB\")\n",
    "df_fld.head()"
   ]
  }
 ],
 "metadata": {
  "kernelspec": {
   "display_name": "Python 3 (ipykernel)",
   "language": "python",
   "name": "python3"
  },
  "language_info": {
   "codemirror_mode": {
    "name": "ipython",
    "version": 3
   },
   "file_extension": ".py",
   "mimetype": "text/x-python",
   "name": "python",
   "nbconvert_exporter": "python",
   "pygments_lexer": "ipython3",
   "version": "3.10.9"
  },
  "toc": {
   "base_numbering": 1,
   "nav_menu": {},
   "number_sections": true,
   "sideBar": true,
   "skip_h1_title": false,
   "title_cell": "Table of Contents",
   "title_sidebar": "Contents",
   "toc_cell": false,
   "toc_position": {
    "height": "calc(100% - 180px)",
    "left": "10px",
    "top": "150px",
    "width": "165px"
   },
   "toc_section_display": true,
   "toc_window_display": true
  },
  "toc-autonumbering": true
 },
 "nbformat": 4,
 "nbformat_minor": 5
}
