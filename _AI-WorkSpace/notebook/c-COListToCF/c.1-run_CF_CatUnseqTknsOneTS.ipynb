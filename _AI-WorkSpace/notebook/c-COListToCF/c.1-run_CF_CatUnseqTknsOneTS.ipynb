{
 "cells": [
  {
   "cell_type": "markdown",
   "id": "881d73c8-f12f-4a9b-a485-996a76289767",
   "metadata": {},
   "source": [
    "# Space"
   ]
  },
  {
   "cell_type": "code",
   "execution_count": 1,
   "id": "d9b19d41",
   "metadata": {},
   "outputs": [
    {
     "name": "stdout",
     "output_type": "stream",
     "text": [
      "g:\\Shared drives\\CDHAI-WellDoc\\2024-WellDocTest-SPACE\\_WellDoc-AI-CGMGPT-WorkSpace\n"
     ]
    }
   ],
   "source": [
    "import os\n",
    "import sys \n",
    "import logging\n",
    "import random\n",
    "import pandas as pd \n",
    "from pprint import pprint \n",
    "from IPython.display import display, HTML\n",
    "\n",
    "# WorkSpace\n",
    "KEY = 'WorkSpace'; WORKSPACE_PATH = os.getcwd().split(KEY)[0] + KEY; print(WORKSPACE_PATH)\n",
    "os.chdir(WORKSPACE_PATH)\n",
    "sys.path.append(WORKSPACE_PATH)\n",
    "\n",
    "# Pipeline Space\n",
    "from proj_space import SPACE\n",
    "SPACE['WORKSPACE_PATH'] = WORKSPACE_PATH\n",
    "sys.path.append(SPACE['CODE_FN'])\n",
    "# pprint(SPACE)\n",
    "\n",
    "# Available Packages\n",
    "import argparse\n",
    "import datasets\n",
    "import pandas as pd\n",
    "from datetime import datetime \n",
    "\n",
    "\n",
    "from recfldtkn.configfn import load_cohort_args\n",
    "from recfldtkn.loadtools import load_module_variables, update_args_to_list\n",
    "from recfldtkn.observer import get_RecObsName_to_RecObsInfo, CaseObserverTransformer\n",
    "from config_observer.CKPD import ckpd_to_CkpdObsConfig\n",
    "\n",
    "logger = logging.getLogger(__name__)\n",
    "recfldtkn_config_path = os.path.join(SPACE['CODE_FN'], 'config_recfldtkn/')\n"
   ]
  },
  {
   "cell_type": "markdown",
   "metadata": {},
   "source": [
    "# [Part 1] Get a Caseset: Case Examples"
   ]
  },
  {
   "cell_type": "markdown",
   "id": "a096c80b",
   "metadata": {},
   "source": [
    "## [Step 1] Trigger Event"
   ]
  },
  {
   "cell_type": "code",
   "execution_count": 2,
   "id": "5e9be989",
   "metadata": {},
   "outputs": [
    {
     "data": {
      "text/plain": [
       "{'TriggerRecName': 'CGM5Min',\n",
       " 'case_id_columns': ['PID', 'ObsDT'],\n",
       " 'special_columns': ['PID', 'DT_s'],\n",
       " 'convert_TriggerEvent_to_Caseset': <function CGM5MinEntry.convert_TriggerEvent_to_Caseset(ds_rec, case_id_columns, special_columns, base_config)>}"
      ]
     },
     "execution_count": 2,
     "metadata": {},
     "output_type": "execute_result"
    }
   ],
   "source": [
    "from recfldtkn.loadtools import fetch_TriggerEvent_tools\n",
    "\n",
    "####################\n",
    "TriggerCaseMethod = 'CGM5MinEntry'\n",
    "####################\n",
    "\n",
    "Trigger_tools = fetch_TriggerEvent_tools(TriggerCaseMethod, SPACE)\n",
    "Trigger_tools "
   ]
  },
  {
   "cell_type": "code",
   "execution_count": 3,
   "id": "5d031b54",
   "metadata": {},
   "outputs": [
    {
     "name": "stdout",
     "output_type": "stream",
     "text": [
      "{'CohortInfo': {'RawData2022_CGM': {'cohort_label': 1, 'cohort_name': 'RawData2022_CGM', 'FolderPath': '../_Data/0-Data_Raw/RawData2022_CGM/'}, 'RawData2023_CVSTDCAug': {'cohort_label': 2, 'cohort_name': 'RawData2023_CVSTDCAug', 'FolderPath': '../_Data/0-Data_Raw/RawData2023_CVSTDCAug/'}, 'RawData2023_CVSDeRxAug': {'cohort_label': 3, 'cohort_name': 'RawData2023_CVSDeRxAug', 'FolderPath': '../_Data/0-Data_Raw/RawData2023_CVSDeRxAug/'}}, 'RawRootID': 'PatientID', 'RootID': 'PID', 'RecName': 'PRawRecNum', 'recattr_pyfolder': '../pipeline/fn_recattr/', 'fldtkn_pyfolder': '../pipeline/fn_fldtkn/', 'humanrec_pyfolder': '../pipeline/fn_humanrec/', 'inference_pyfolder': '../pipeline/fn_inference/', 'trigger_pyfolder': '../pipeline/fn_trigger/', 'RecName_to_RFT_GROUP_SIZE': {'CGM5Min': 100, 'Default': 5000}, 'RecName_to_RFT_idx_group_size': {'CGM5Min': 100, 'BGManual': 100, 'Default': 10000}, 'RecName_to_RFT_usebucket': {'CGM5Min': True, 'Default': False}, 'RootIDLength': 6, 'recfldtkn_config_path': '../pipeline\\\\config_recfldtkn/', 'SPACE': {'DATA_RAW': '../_Data/0-Data_Raw', 'DATA_RFT': '../_Data/1-Data_RFT', 'DATA_CaseObs': '../_Data/2-Data_CaseObs', 'DATA_CaseFeat': '../_Data/3-Data_CaseFeat', 'DATA_CaseSet': '../_Data/4-Data_CaseSet', 'CODE_FN': '../pipeline', 'CODE_RFT': '../pipeline', 'DATA_TASK': '../_Data/8-Data_AIDataset', 'MODEL_TASK': '../_Model', 'WORKSPACE_PATH': 'g:\\\\Shared drives\\\\CDHAI-WellDoc\\\\2024-WellDocTest-SPACE\\\\_WellDoc-AI-CGMGPT-WorkSpace'}, 'pypath': '../pipeline/fn_humanrec/humanrec.py', 'ckpd_to_CkpdObsConfig': {'ObsPnt': {'DistStartToPredDT': -0.01, 'DistEndToPredDT': 0.01, 'TimeUnit': 'min', 'StartIdx5Min': 0, 'EndIdx5Min': 0}, 'Bf24H': {'DistStartToPredDT': -24, 'DistEndToPredDT': 0.01, 'TimeUnit': 'h', 'StartIdx5Min': -288, 'EndIdx5Min': 0}, 'Bf2H': {'DistStartToPredDT': -2, 'DistEndToPredDT': 0.01, 'TimeUnit': 'h', 'StartIdx5Min': -24, 'EndIdx5Min': 0}, 'Bf1M': {'DistStartToPredDT': -720, 'DistEndToPredDT': 0.01, 'TimeUnit': 'h', 'StartIdx5Min': -8640, 'EndIdx5Min': 0}, 'Bf1Y': {'DistStartToPredDT': -365, 'DistEndToPredDT': -1e-06, 'TimeUnit': 'D', 'StartIdx5Min': -105120, 'EndIdx5Min': -1}, 'Bf1YIn': {'DistStartToPredDT': -365, 'DistEndToPredDT': 1e-06, 'TimeUnit': 'D', 'StartIdx5Min': -105120, 'EndIdx5Min': 1}, 'Bf10Y': {'DistStartToPredDT': -3650, 'DistEndToPredDT': -1e-06, 'TimeUnit': 'D', 'StartIdx5Min': -1051200, 'EndIdx5Min': 1}, 'Af2H': {'DistStartToPredDT': 1, 'DistEndToPredDT': 121, 'TimeUnit': 'min', 'StartIdx5Min': 1, 'EndIdx5Min': 24}, 'Af1W': {'DistStartToPredDT': 0.0001, 'DistEndToPredDT': 7, 'TimeUnit': 'D', 'StartIdx5Min': 1, 'EndIdx5Min': 2016}, 'Af1Wlft': {'DistStartToPredDT': -0.0001, 'DistEndToPredDT': 7, 'TimeUnit': 'D', 'StartIdx5Min': 1, 'EndIdx5Min': 2016}, 'Af1Y': {'DistStartToPredDT': 0.0001, 'DistEndToPredDT': 365, 'TimeUnit': 'D', 'StartIdx5Min': 1, 'EndIdx5Min': 105120}, 'PntAf1Y2M': {'DistStartToPredDT': 305, 'DistEndToPredDT': 425, 'TimeUnit': 'D', 'StartIdx5Min': 87840, 'EndIdx5Min': 122400}, 'PntAf1Y3M': {'DistStartToPredDT': 275, 'DistEndToPredDT': 455, 'TimeUnit': 'D', 'StartIdx5Min': 79200, 'EndIdx5Min': 131040}}, 'case_id_columns': ['PID', 'ObsDT'], 'ObsDTName': 'ObsDT', 'PID_ObsDT_columns': ['PID', 'ObsDT']}\n",
      "../_Data/4-Data_CaseSet\\CGM5MinEntry.p\n"
     ]
    },
    {
     "data": {
      "text/plain": [
       "Dataset({\n",
       "    features: ['PID', 'ObsDT'],\n",
       "    num_rows: 1000\n",
       "})"
      ]
     },
     "execution_count": 3,
     "metadata": {},
     "output_type": "execute_result"
    }
   ],
   "source": [
    "##################################\n",
    "CaseSetName = TriggerCaseMethod\n",
    "case_id_columns = Trigger_tools['case_id_columns']\n",
    "special_columns = Trigger_tools['special_columns']\n",
    "##################################\n",
    "\n",
    "TriggerCasePath = os.path.join(SPACE['DATA_CaseSet'], f'{CaseSetName}.p')\n",
    "cohort_args = load_cohort_args(recfldtkn_config_path, SPACE)\n",
    "\n",
    "cohort_args['ckpd_to_CkpdObsConfig'] = ckpd_to_CkpdObsConfig\n",
    "cohort_args['case_id_columns'] = case_id_columns\n",
    "cohort_args['ObsDTName'] = 'ObsDT'\n",
    "cohort_args['PID_ObsDT_columns'] = [cohort_args['RootID'], cohort_args['ObsDTName']]\n",
    "\n",
    "print(cohort_args)\n",
    "print(TriggerCasePath)\n",
    "\n",
    "df_case = pd.read_pickle(TriggerCasePath) # (1000)\n",
    "df_case = df_case.sample(1000, random_state=0).reset_index(drop=True)\n",
    "ds_case = datasets.Dataset.from_pandas(df_case)\n",
    "ds_case"
   ]
  },
  {
   "cell_type": "markdown",
   "metadata": {},
   "source": [
    "## [Step 2] Generate Arguments"
   ]
  },
  {
   "cell_type": "code",
   "execution_count": 4,
   "id": "53dcdf64",
   "metadata": {},
   "outputs": [],
   "source": [
    "#################################\n",
    "case_observations = [\n",
    "    'BfCGM:ro.CGM5Min-Bf24H_ct.RecNum',\n",
    "    'AfCGM:ro.CGM5Min-Af2H_ct.RecNum',\n",
    "]\n",
    "name_CaseGamma = 'CatUnseqTknsOneTS'\n",
    "#################################"
   ]
  },
  {
   "cell_type": "code",
   "execution_count": 5,
   "id": "bc155033",
   "metadata": {},
   "outputs": [
    {
     "data": {
      "text/plain": [
       "{'BfCGM': 'ro.CGM5Min-Bf24H_ct.RecNum', 'AfCGM': 'ro.CGM5Min-Af2H_ct.RecNum'}"
      ]
     },
     "execution_count": 5,
     "metadata": {},
     "output_type": "execute_result"
    }
   ],
   "source": [
    "from pprint import pprint \n",
    "from recfldtkn.obsname import convert_case_observations_to_co_to_observation\n",
    "from recfldtkn.obsname import get_RecNameList_and_FldTknList\n",
    "\n",
    "co_to_COName, co_to_CONameInfo = convert_case_observations_to_co_to_observation(case_observations)\n",
    "co_to_COName"
   ]
  },
  {
   "cell_type": "code",
   "execution_count": 6,
   "id": "db3595e3",
   "metadata": {},
   "outputs": [
    {
     "name": "stdout",
     "output_type": "stream",
     "text": [
      "{'RecNameList': ['CGM5Min'],\n",
      " 'CkpdNameList': ['Af2H', 'Bf24H'],\n",
      " 'FldTknList': [],\n",
      " 'CasePhiList': ['RecNum']}\n"
     ]
    }
   ],
   "source": [
    "# check whether this information is ready. \n",
    "PipelineInfo = get_RecNameList_and_FldTknList(co_to_CONameInfo, ckpd_to_CkpdObsConfig)\n",
    "pprint(PipelineInfo, sort_dicts=False)"
   ]
  },
  {
   "cell_type": "code",
   "execution_count": 7,
   "id": "a9c3d894",
   "metadata": {},
   "outputs": [],
   "source": [
    "COName_List = [CaseName for co, CaseName in co_to_COName.items()]"
   ]
  },
  {
   "cell_type": "code",
   "execution_count": 8,
   "id": "5748d5e1",
   "metadata": {},
   "outputs": [
    {
     "name": "stdout",
     "output_type": "stream",
     "text": [
      "cf.CatUnseqTknsOneTS_co.5oviTuds5X\n"
     ]
    }
   ],
   "source": [
    "from recfldtkn.obsname import convert_CONameList_to_CFName\n",
    "\n",
    "CaseFeatName = convert_CONameList_to_CFName(COName_List, name_CaseGamma)\n",
    "print(CaseFeatName)"
   ]
  },
  {
   "cell_type": "code",
   "execution_count": 9,
   "id": "d31d95cf",
   "metadata": {},
   "outputs": [
    {
     "name": "stdout",
     "output_type": "stream",
     "text": [
      "../_Data/3-Data_CaseFeat\\cf.CatUnseqTknsOneTS_co.5oviTuds5X\n"
     ]
    }
   ],
   "source": [
    "# part of fetch_caseobs_Phi_tools\n",
    "CF_Folder = os.path.join(SPACE['DATA_CaseFeat'], CaseFeatName)\n",
    "if not os.path.exists(CF_Folder): os.makedirs(CF_Folder)\n",
    "print(CF_Folder)"
   ]
  },
  {
   "cell_type": "markdown",
   "id": "3b61dcae",
   "metadata": {},
   "source": [
    "# [Part 2] Tools for ds_case_obs"
   ]
  },
  {
   "cell_type": "markdown",
   "id": "dcc74ef7",
   "metadata": {},
   "source": [
    "## [Step 1] Prepare examples"
   ]
  },
  {
   "cell_type": "code",
   "execution_count": 10,
   "id": "5cc097fe",
   "metadata": {},
   "outputs": [
    {
     "name": "stdout",
     "output_type": "stream",
     "text": [
      "{'PID': [1002840, 1002580, 1004670, 1003564, 1003011], 'ObsDT': [Timestamp('2021-12-07 13:50:00'), Timestamp('2021-11-10 12:15:00'), Timestamp('2021-11-13 06:40:00'), Timestamp('2021-09-15 13:35:00'), Timestamp('2021-10-17 17:15:00')]}\n"
     ]
    }
   ],
   "source": [
    "case_examples = ds_case[:5]\n",
    "print(case_examples)"
   ]
  },
  {
   "cell_type": "code",
   "execution_count": 11,
   "id": "c626a021",
   "metadata": {},
   "outputs": [
    {
     "name": "stdout",
     "output_type": "stream",
     "text": [
      "{0: {'PID': 1002840, 'ObsDT': Timestamp('2021-12-07 13:50:00')},\n",
      " 1: {'PID': 1002580, 'ObsDT': Timestamp('2021-11-10 12:15:00')},\n",
      " 2: {'PID': 1004670, 'ObsDT': Timestamp('2021-11-13 06:40:00')},\n",
      " 3: {'PID': 1003564, 'ObsDT': Timestamp('2021-09-15 13:35:00')},\n",
      " 4: {'PID': 1003011, 'ObsDT': Timestamp('2021-10-17 17:15:00')}}\n"
     ]
    }
   ],
   "source": [
    "length = len(case_examples[list(case_examples.keys())[0]])\n",
    "case_examples_list = [{k: v[i] for k, v in case_examples.items()} for i in range(length)]\n",
    "idx_to_examples = {i: case_examples_list[i] for i in range(length)}\n",
    "pprint(idx_to_examples, sort_dicts=False)"
   ]
  },
  {
   "cell_type": "code",
   "execution_count": 12,
   "id": "02505333",
   "metadata": {},
   "outputs": [
    {
     "data": {
      "text/plain": [
       "{'PID': 1002840, 'ObsDT': Timestamp('2021-12-07 13:50:00')}"
      ]
     },
     "execution_count": 12,
     "metadata": {},
     "output_type": "execute_result"
    }
   ],
   "source": [
    "case_example = idx_to_examples[0]\n",
    "case_example"
   ]
  },
  {
   "cell_type": "markdown",
   "metadata": {},
   "source": [
    "## [Step 2] get_CF_id"
   ]
  },
  {
   "cell_type": "code",
   "execution_count": 13,
   "id": "8d1b04de",
   "metadata": {},
   "outputs": [
    {
     "name": "stdout",
     "output_type": "stream",
     "text": [
      "{'RecNameList': ['CGM5Min'],\n",
      " 'CkpdNameList': ['Af2H', 'Bf24H'],\n",
      " 'FldTknList': [],\n",
      " 'CasePhiList': ['RecNum']}\n"
     ]
    }
   ],
   "source": [
    "# check whether this information is ready. \n",
    "PipelineInfo = get_RecNameList_and_FldTknList(co_to_CONameInfo, ckpd_to_CkpdObsConfig)\n",
    "pprint(PipelineInfo, sort_dicts=False)"
   ]
  },
  {
   "cell_type": "code",
   "execution_count": 14,
   "id": "cdeb16bd",
   "metadata": {},
   "outputs": [
    {
     "data": {
      "text/plain": [
       "'cf.CatUnseqTknsOneTS_co.5oviTuds5X'"
      ]
     },
     "execution_count": 14,
     "metadata": {},
     "output_type": "execute_result"
    }
   ],
   "source": [
    "CaseFeatName"
   ]
  },
  {
   "cell_type": "code",
   "execution_count": 15,
   "id": "f5c098cf",
   "metadata": {},
   "outputs": [
    {
     "data": {
      "text/plain": [
       "['PID', 'ObsDT']"
      ]
     },
     "execution_count": 15,
     "metadata": {},
     "output_type": "execute_result"
    }
   ],
   "source": [
    "case_id_columns"
   ]
  },
  {
   "cell_type": "code",
   "execution_count": 16,
   "id": "c6d784e1",
   "metadata": {},
   "outputs": [
    {
     "data": {
      "text/plain": [
       "['PID', 'ObsDT']"
      ]
     },
     "execution_count": 16,
     "metadata": {},
     "output_type": "execute_result"
    }
   ],
   "source": [
    "case_id_columns"
   ]
  },
  {
   "cell_type": "code",
   "execution_count": 17,
   "id": "a52f8949",
   "metadata": {},
   "outputs": [],
   "source": [
    "import inspect\n",
    "#################################################\n",
    "def get_CF_id(case_example, case_id_columns, cohort_args):\n",
    "    # to be update it to a more general function\n",
    "\n",
    "    ############################## # consider the case_id_columns for DrFirst.\n",
    "    case_id_columns = cohort_args['case_id_columns'] # ['PID', 'ObsDT', 'PInvID', 'RxID']\n",
    "    ############################## \n",
    "    \n",
    "    li = [col + ':'+ str(case_example[col]) for col in case_id_columns]\n",
    "    CF_id = '_'.join(li)\n",
    "    return CF_id \n",
    "get_CF_id.fn_string = inspect.getsource(get_CF_id)\n",
    "#################################################"
   ]
  },
  {
   "cell_type": "code",
   "execution_count": 18,
   "id": "d5de5477",
   "metadata": {},
   "outputs": [
    {
     "data": {
      "text/plain": [
       "'PID:1002840_ObsDT:2021-12-07 13:50:00'"
      ]
     },
     "execution_count": 18,
     "metadata": {},
     "output_type": "execute_result"
    }
   ],
   "source": [
    "get_CF_id(case_example, case_id_columns, cohort_args)"
   ]
  },
  {
   "cell_type": "markdown",
   "id": "e85cfc09",
   "metadata": {},
   "source": [
    "## [Step 3] get_CaseObsName_to_CaseObsInfo"
   ]
  },
  {
   "cell_type": "code",
   "execution_count": 19,
   "id": "6cb02be9",
   "metadata": {},
   "outputs": [],
   "source": [
    "from recfldtkn.observer import get_CaseObsName_to_CaseObsInfo\n",
    "\n",
    "record_to_ds_rec = {}        # set this to empty dictionary, then we will load data from disk\n",
    "record_to_ds_rec_info = {}   # set this to empty dictionary, then we will load data from disk\n",
    "COName_to_COInfo = get_CaseObsName_to_CaseObsInfo(COName_List,\n",
    "                                                  SPACE, \n",
    "                                                  cohort_args, \n",
    "                                                  record_to_ds_rec, \n",
    "                                                  record_to_ds_rec_info)"
   ]
  },
  {
   "cell_type": "code",
   "execution_count": 20,
   "id": "37831c51",
   "metadata": {},
   "outputs": [
    {
     "name": "stdout",
     "output_type": "stream",
     "text": [
      "ro.CGM5Min-Bf24H_ct.RecNum\n",
      "['RecObsName_List', 'name_CasePhi', 'get_selected_columns', 'CaseObsName', 'ROName_to_ROInfo', 'fn_CasePhi', 'get_CO_id', 'CO_Folder', 'CO_vocab']\n",
      "ro.CGM5Min-Af2H_ct.RecNum\n",
      "['RecObsName_List', 'name_CasePhi', 'get_selected_columns', 'CaseObsName', 'ROName_to_ROInfo', 'fn_CasePhi', 'get_CO_id', 'CO_Folder', 'CO_vocab']\n"
     ]
    }
   ],
   "source": [
    "for CaseObsName, CaseObsInfo in COName_to_COInfo.items():\n",
    "    print(CaseObsName)\n",
    "    print([i for i in CaseObsInfo])"
   ]
  },
  {
   "cell_type": "code",
   "execution_count": 21,
   "id": "d57a099f",
   "metadata": {},
   "outputs": [
    {
     "data": {
      "text/plain": [
       "{'ro.CGM5Min-Bf24H_ct.RecNum': 'BfCGM', 'ro.CGM5Min-Af2H_ct.RecNum': 'AfCGM'}"
      ]
     },
     "execution_count": 21,
     "metadata": {},
     "output_type": "execute_result"
    }
   ],
   "source": [
    "COName_to_co = {v: k for k, v in co_to_COName.items()}\n",
    "COName_to_co"
   ]
  },
  {
   "cell_type": "code",
   "execution_count": 22,
   "id": "dee79498",
   "metadata": {},
   "outputs": [
    {
     "name": "stdout",
     "output_type": "stream",
     "text": [
      "BfCGM\n",
      "{'tid': {'tid2tkn': {0: '[UNK]', 1: 'recnum', 2: 'recspan', 3: 'recnum_0', 4: 'recspan_0'}, 'tkn2tid': {'[UNK]': 0, 'recnum': 1, 'recspan': 2, 'recnum_0': 3, 'recspan_0': 4}}, 'wgt': {}}\n",
      "AfCGM\n",
      "{'tid': {'tid2tkn': {0: '[UNK]', 1: 'recnum', 2: 'recspan', 3: 'recnum_0', 4: 'recspan_0'}, 'tkn2tid': {'[UNK]': 0, 'recnum': 1, 'recspan': 2, 'recnum_0': 3, 'recspan_0': 4}}, 'wgt': {}}\n"
     ]
    }
   ],
   "source": [
    "co_to_COvocab = {COName_to_co[COName]: CaseObsInfo['CO_vocab'] for COName, CaseObsInfo in COName_to_COInfo.items()}\n",
    "\n",
    "for co, vocab in co_to_COvocab.items():\n",
    "    print(co)\n",
    "    print(vocab)"
   ]
  },
  {
   "cell_type": "markdown",
   "id": "b43da125",
   "metadata": {},
   "source": [
    "## [Step 3] get_CF_vocab"
   ]
  },
  {
   "cell_type": "code",
   "execution_count": 23,
   "id": "4fb312f5",
   "metadata": {},
   "outputs": [],
   "source": [
    "##################################\n",
    "def get_CF_vocab(co_to_COvocab):\n",
    "    CF_vocab = {}\n",
    "    # co_Y_list = [i for i in co_to_COvocab if 'Fut' in i or 'Af' in i]\n",
    "    # co_X_list = [i for i in co_to_COvocab if i not in co_Y_list]\n",
    "    co_list = [i for i in co_to_COvocab]\n",
    "    SeqType = 'input_ids'\n",
    "    # idx2tkn_all = []\n",
    "    idx2tkn_all = ['[PAD]', '[UNK]', '[CLS]', '[SEP]', '[MASK]', '[BOS]', '[EOS]']\n",
    "    for co in co_list:\n",
    "        CaseObsVocab = co_to_COvocab[co] \n",
    "        idx2tkn = [co+':'+ tkn for tid, tkn in CaseObsVocab['tid']['tid2tkn'].items()]\n",
    "        idx2tkn_all = idx2tkn_all + idx2tkn\n",
    "    tid2tkn_all = {i: tkn for i, tkn in enumerate(idx2tkn_all)}\n",
    "    tkn2tid_all = {tkn: i for i, tkn in enumerate(idx2tkn_all)}\n",
    "    CF_vocab[SeqType] = {'tid2tkn': tid2tkn_all, 'tkn2tid': tkn2tid_all}\n",
    "    CF_vocab['input_wgts'] = {}\n",
    "    \n",
    "    return CF_vocab\n",
    "##################################\n",
    "\n",
    "get_CF_vocab.fn_string = inspect.getsource(get_CF_vocab)"
   ]
  },
  {
   "cell_type": "code",
   "execution_count": 24,
   "id": "c253a4ea",
   "metadata": {},
   "outputs": [
    {
     "name": "stdout",
     "output_type": "stream",
     "text": [
      "input_ids : {'tid2tkn': {0: '[PAD]', 1: '[UNK]', 2: '[CLS]', 3: '[SEP]', 4: '[MASK]', 5: '[BOS]', 6: '[EOS]', 7: 'BfCGM:[UNK]', 8: 'BfCGM:recnum', 9: 'BfCGM:recspan', 10: 'BfCGM:recnum_0', 11: 'BfCGM:recspan_0', 12: 'AfCGM:[UNK]', 13: 'AfCGM:recnum', 14: 'AfCGM:recspan', 15: 'AfCGM:recnum_0', 16: 'AfCGM:recspan_0'}, 'tkn2tid': {'[PAD]': 0, '[UNK]': 1, '[CLS]': 2, '[SEP]': 3, '[MASK]': 4, '[BOS]': 5, '[EOS]': 6, 'BfCGM:[UNK]': 7, 'BfCGM:recnum': 8, 'BfCGM:recspan': 9, 'BfCGM:recnum_0': 10, 'BfCGM:recspan_0': 11, 'AfCGM:[UNK]': 12, 'AfCGM:recnum': 13, 'AfCGM:recspan': 14, 'AfCGM:recnum_0': 15, 'AfCGM:recspan_0': 16}}\n",
      "\n",
      "\n",
      "input_wgts : {}\n",
      "\n",
      "\n"
     ]
    }
   ],
   "source": [
    "CF_vocab = get_CF_vocab(co_to_COvocab)\n",
    "for SeqType, vocab in CF_vocab.items():\n",
    "    print(SeqType, ':', vocab)\n",
    "    print('\\n')"
   ]
  },
  {
   "cell_type": "markdown",
   "id": "db3da021",
   "metadata": {},
   "source": [
    "## [Step 4] Fetch $o_{ij}$ List"
   ]
  },
  {
   "cell_type": "code",
   "execution_count": 25,
   "id": "6480862a",
   "metadata": {},
   "outputs": [
    {
     "name": "stdout",
     "output_type": "stream",
     "text": [
      "{0: {'PID': 1002840, 'ObsDT': Timestamp('2021-12-07 13:50:00')},\n",
      " 1: {'PID': 1002580, 'ObsDT': Timestamp('2021-11-10 12:15:00')},\n",
      " 2: {'PID': 1004670, 'ObsDT': Timestamp('2021-11-13 06:40:00')},\n",
      " 3: {'PID': 1003564, 'ObsDT': Timestamp('2021-09-15 13:35:00')},\n",
      " 4: {'PID': 1003011, 'ObsDT': Timestamp('2021-10-17 17:15:00')}}\n"
     ]
    }
   ],
   "source": [
    "pprint(idx_to_examples, sort_dicts=False)"
   ]
  },
  {
   "cell_type": "code",
   "execution_count": 26,
   "id": "37544b7d",
   "metadata": {},
   "outputs": [],
   "source": [
    "use_CO_from_disk = False\n",
    "COName_to_FnCaseObsPhi = {}\n",
    "for COName, COInfo in COName_to_COInfo.items():\n",
    "    ro_to_ROName = None \n",
    "    FnCaseObsPhi = CaseObserverTransformer(ro_to_ROName,\n",
    "                                            COInfo['ROName_to_ROInfo'], \n",
    "                                            COInfo['name_CasePhi'], \n",
    "                                            COInfo['fn_CasePhi'], \n",
    "                                            COInfo['CO_vocab'], \n",
    "                                            COInfo['get_CO_id'],\n",
    "                                            cohort_args,\n",
    "                                            COInfo['CO_Folder'], \n",
    "                                            df_case,\n",
    "                                            use_CO_from_disk)\n",
    "    COName_to_FnCaseObsPhi[COName] = FnCaseObsPhi"
   ]
  },
  {
   "cell_type": "code",
   "execution_count": 27,
   "id": "ba9270e6",
   "metadata": {},
   "outputs": [],
   "source": [
    "from recfldtkn.observer import CaseFeatureTransformer\n",
    "\n",
    "fetch_examples_with_complete_COs = CaseFeatureTransformer.fetch_examples_with_complete_COs\n",
    "\n",
    "use_CO_from_disk = False \n",
    "results = fetch_examples_with_complete_COs(idx_to_examples, \n",
    "                                            COName_to_co, \n",
    "                                            COName_to_COInfo, \n",
    "                                            COName_to_FnCaseObsPhi)\n",
    "\n",
    "idx_to_examples, COName_to_FnCaseObsPhi = results"
   ]
  },
  {
   "cell_type": "code",
   "execution_count": 28,
   "id": "c62c1d6c",
   "metadata": {},
   "outputs": [
    {
     "name": "stdout",
     "output_type": "stream",
     "text": [
      "0\n",
      "{'PID': 1002840, 'ObsDT': Timestamp('2021-12-07 13:50:00'), 'BfCGM_tid': [1, 2], 'BfCGM_wgt': [289.0, 1440.0], 'AfCGM_tid': [1, 2], 'AfCGM_wgt': [24.0, 115.0]}\n",
      "1\n",
      "{'PID': 1002580, 'ObsDT': Timestamp('2021-11-10 12:15:00'), 'BfCGM_tid': [1, 2], 'BfCGM_wgt': [289.0, 1440.0], 'AfCGM_tid': [1, 2], 'AfCGM_wgt': [24.0, 115.0]}\n",
      "2\n",
      "{'PID': 1004670, 'ObsDT': Timestamp('2021-11-13 06:40:00'), 'BfCGM_tid': [1, 2], 'BfCGM_wgt': [252.0, 1440.0], 'AfCGM_tid': [1, 2], 'AfCGM_wgt': [24.0, 115.0]}\n",
      "3\n",
      "{'PID': 1003564, 'ObsDT': Timestamp('2021-09-15 13:35:00'), 'BfCGM_tid': [1, 2], 'BfCGM_wgt': [289.0, 1440.0], 'AfCGM_tid': [1, 2], 'AfCGM_wgt': [24.0, 115.0]}\n",
      "4\n",
      "{'PID': 1003011, 'ObsDT': Timestamp('2021-10-17 17:15:00'), 'BfCGM_tid': [1, 2], 'BfCGM_wgt': [289.0, 1440.0], 'AfCGM_tid': [1, 2], 'AfCGM_wgt': [24.0, 115.0]}\n"
     ]
    }
   ],
   "source": [
    "for i, example in idx_to_examples.items():\n",
    "    print(i)\n",
    "    print(example)"
   ]
  },
  {
   "cell_type": "markdown",
   "id": "6ef34575",
   "metadata": {},
   "source": [
    "## [Step 3]* Develop $\\Gamma$. (To Dev)"
   ]
  },
  {
   "cell_type": "code",
   "execution_count": 29,
   "id": "300d2024",
   "metadata": {},
   "outputs": [
    {
     "name": "stdout",
     "output_type": "stream",
     "text": [
      "{'PID': 1002580,\n",
      " 'ObsDT': Timestamp('2021-11-10 12:15:00'),\n",
      " 'BfCGM_tid': [1, 2],\n",
      " 'BfCGM_wgt': [289.0, 1440.0],\n",
      " 'AfCGM_tid': [1, 2],\n",
      " 'AfCGM_wgt': [24.0, 115.0]}\n"
     ]
    }
   ],
   "source": [
    "idx = 1\n",
    "case_example = idx_to_examples[idx]\n",
    "# print('case_example:', case_example)\n",
    "pprint(case_example, sort_dicts=False)"
   ]
  },
  {
   "cell_type": "code",
   "execution_count": 30,
   "id": "d604ec0f",
   "metadata": {},
   "outputs": [],
   "source": [
    "##################################\n",
    "def fn_CaseGamma(case_example, co_to_COvocab, CF_vocab, cohort_args):\n",
    "    # print(case_example)\n",
    "    co_list = [i for i in co_to_COvocab]\n",
    "    \n",
    "    result_case = {}\n",
    "\n",
    "    # get the input ids\n",
    "    SeqType = 'input_ids' \n",
    "    X_tid_total = []\n",
    "    X_wgt_total = []\n",
    "    tkn2tid_CF = CF_vocab[SeqType]['tkn2tid']\n",
    "\n",
    "    # print(co_list)\n",
    "    for co in co_list:\n",
    "        CO_vocab = co_to_COvocab[co]\n",
    "        X_tid_co = case_example[co +'_tid']\n",
    "        X_wgt_co = case_example[co +'_wgt']\n",
    "        X_tkn_co = [co + ':' + CO_vocab['tid']['tid2tkn'][tid] for tid in X_tid_co]\n",
    "        X_tid_CF = [tkn2tid_CF[i] for i in X_tkn_co]\n",
    "        \n",
    "        X_tid_total = X_tid_total + X_tid_CF\n",
    "        X_wgt_total = X_wgt_total + X_wgt_co\n",
    "        \n",
    "    d = dict(zip(X_tid_total, X_wgt_total))\n",
    "    d = {k: float(v) for k, v in d.items() if v > 0 and v is not None}\n",
    "    assert len(d) > 0\n",
    "    \n",
    "    # version 1: for DL and ML\n",
    "    result_case['input_ids']  = [i for i in d]\n",
    "    result_case['input_wgts'] = [d[i] for i in d]\n",
    "\n",
    "    return result_case \n",
    "##################################\n",
    "\n",
    "fn_CaseGamma.fn_string = inspect.getsource(fn_CaseGamma)"
   ]
  },
  {
   "cell_type": "code",
   "execution_count": 31,
   "id": "59b090fb",
   "metadata": {},
   "outputs": [
    {
     "name": "stdout",
     "output_type": "stream",
     "text": [
      "input_ids : 4 [8, 9, 13, 14]\n",
      "\n",
      "\n",
      "input_wgts : 4 [289.0, 1440.0, 24.0, 115.0]\n",
      "\n",
      "\n"
     ]
    }
   ],
   "source": [
    "result = fn_CaseGamma(case_example, co_to_COvocab, CF_vocab, cohort_args)\n",
    "for SeqType, SeqValue in result.items():\n",
    "    print(SeqType, ':', len(SeqValue), SeqValue)\n",
    "    print('\\n')"
   ]
  },
  {
   "cell_type": "code",
   "execution_count": 32,
   "id": "69d61f88",
   "metadata": {},
   "outputs": [
    {
     "data": {
      "text/plain": [
       "{'input_ids': {'tid2tkn': {0: '[PAD]',\n",
       "   1: '[UNK]',\n",
       "   2: '[CLS]',\n",
       "   3: '[SEP]',\n",
       "   4: '[MASK]',\n",
       "   5: '[BOS]',\n",
       "   6: '[EOS]',\n",
       "   7: 'BfCGM:[UNK]',\n",
       "   8: 'BfCGM:recnum',\n",
       "   9: 'BfCGM:recspan',\n",
       "   10: 'BfCGM:recnum_0',\n",
       "   11: 'BfCGM:recspan_0',\n",
       "   12: 'AfCGM:[UNK]',\n",
       "   13: 'AfCGM:recnum',\n",
       "   14: 'AfCGM:recspan',\n",
       "   15: 'AfCGM:recnum_0',\n",
       "   16: 'AfCGM:recspan_0'},\n",
       "  'tkn2tid': {'[PAD]': 0,\n",
       "   '[UNK]': 1,\n",
       "   '[CLS]': 2,\n",
       "   '[SEP]': 3,\n",
       "   '[MASK]': 4,\n",
       "   '[BOS]': 5,\n",
       "   '[EOS]': 6,\n",
       "   'BfCGM:[UNK]': 7,\n",
       "   'BfCGM:recnum': 8,\n",
       "   'BfCGM:recspan': 9,\n",
       "   'BfCGM:recnum_0': 10,\n",
       "   'BfCGM:recspan_0': 11,\n",
       "   'AfCGM:[UNK]': 12,\n",
       "   'AfCGM:recnum': 13,\n",
       "   'AfCGM:recspan': 14,\n",
       "   'AfCGM:recnum_0': 15,\n",
       "   'AfCGM:recspan_0': 16}},\n",
       " 'input_wgts': {}}"
      ]
     },
     "execution_count": 32,
     "metadata": {},
     "output_type": "execute_result"
    }
   ],
   "source": [
    "CF_vocab"
   ]
  },
  {
   "cell_type": "markdown",
   "id": "6c42478d",
   "metadata": {},
   "source": [
    "## Save to Files"
   ]
  },
  {
   "cell_type": "code",
   "execution_count": 33,
   "id": "d13c19f7",
   "metadata": {},
   "outputs": [
    {
     "data": {
      "text/html": [
       "../pipeline\\fn_casegamma\\gamma_CatUnseqTknsOneTS.py <a href=\"g:\\Shared drives\\CDHAI-WellDoc\\2024-WellDocTest-SPACE\\_WellDoc-AI-CGMGPT-WorkSpace\\../pipeline\\fn_casegamma\\gamma_CatUnseqTknsOneTS.py\" target=\"_blank\">Open File</a>"
      ],
      "text/plain": [
       "<IPython.core.display.HTML object>"
      ]
     },
     "metadata": {},
     "output_type": "display_data"
    }
   ],
   "source": [
    "from recfldtkn.loadtools import convert_variables_to_pystirng, load_module_variables\n",
    "\n",
    "prefix = ['import pandas as pd', 'import numpy as np']\n",
    "fn_variables = [get_CF_id, get_CF_vocab, fn_CaseGamma]\n",
    "pycode = convert_variables_to_pystirng(fn_variables = fn_variables, prefix = prefix)\n",
    "pypath = os.path.join(SPACE['CODE_FN'], 'fn_casegamma', f'gamma_{name_CaseGamma}.py')\n",
    "with open(pypath, 'w') as file: file.write(pycode)\n",
    "\n",
    "# Create a HTML link and display it\n",
    "full_path = os.path.join(WORKSPACE_PATH, pypath)\n",
    "display(HTML(f'{pypath} <a href=\"{full_path}\" target=\"_blank\">Open File</a>'))"
   ]
  },
  {
   "cell_type": "markdown",
   "id": "c6e217cd",
   "metadata": {},
   "source": [
    "# Application"
   ]
  },
  {
   "cell_type": "code",
   "execution_count": 34,
   "id": "2e4e48eb",
   "metadata": {},
   "outputs": [
    {
     "data": {
      "text/plain": [
       "'cf.CatUnseqTknsOneTS_co.5oviTuds5X'"
      ]
     },
     "execution_count": 34,
     "metadata": {},
     "output_type": "execute_result"
    }
   ],
   "source": [
    "CaseFeatName"
   ]
  },
  {
   "cell_type": "code",
   "execution_count": 35,
   "id": "811c116f",
   "metadata": {},
   "outputs": [
    {
     "data": {
      "text/plain": [
       "['CaseFeatName',\n",
       " 'name_CaseGamma',\n",
       " 'case_observations',\n",
       " 'co_to_COName',\n",
       " 'COName_to_COInfo',\n",
       " 'COName_List',\n",
       " 'PipelineInfo',\n",
       " 'fn_CaseGamma',\n",
       " 'get_CF_id',\n",
       " 'get_CF_vocab',\n",
       " 'CF_vocab',\n",
       " 'CF_Folder']"
      ]
     },
     "execution_count": 35,
     "metadata": {},
     "output_type": "execute_result"
    }
   ],
   "source": [
    "from recfldtkn.observer import get_CaseFeatInfo_for_a_CaseFeatName\n",
    "\n",
    "\n",
    "record_to_ds_rec = {}\n",
    "record_to_ds_rec_info = {}\n",
    "\n",
    "CaseFeatInfo = get_CaseFeatInfo_for_a_CaseFeatName(name_CaseGamma,\n",
    "                                                   case_observations,\n",
    "                                                   SPACE, \n",
    "                                                   cohort_args, \n",
    "                                                   record_to_ds_rec, \n",
    "                                                   record_to_ds_rec_info)\n",
    "[i for i in CaseFeatInfo]"
   ]
  },
  {
   "cell_type": "code",
   "execution_count": 36,
   "id": "c587cfc6",
   "metadata": {},
   "outputs": [],
   "source": [
    "import random \n",
    "from pprint import pprint\n",
    "from datetime import datetime \n",
    "from recfldtkn.observer import CaseFeatureTransformer"
   ]
  },
  {
   "cell_type": "code",
   "execution_count": 37,
   "id": "728370ed",
   "metadata": {},
   "outputs": [],
   "source": [
    "\n",
    "co_to_COName = CaseFeatInfo['co_to_COName']\n",
    "COName_to_COInfo = CaseFeatInfo['COName_to_COInfo']\n",
    "name_CaseGamma = CaseFeatInfo['name_CaseGamma']\n",
    "fn_CaseGamma = CaseFeatInfo['fn_CaseGamma']\n",
    "CF_vocab = CaseFeatInfo['CF_vocab']\n",
    "get_CF_id = CaseFeatInfo['get_CF_id']\n",
    "CF_Folder = CaseFeatInfo['CF_Folder']\n",
    "df_case = ds_case.to_pandas()\n",
    "use_CF_from_disk = False\n",
    "use_CO_from_disk = False\n",
    "batch_size = CaseFeatInfo.get('batch_size', 1000)\n",
    "\n",
    "FnCaseFeatGamma = CaseFeatureTransformer(co_to_COName,\n",
    "                                          COName_to_COInfo, \n",
    "                                          name_CaseGamma, \n",
    "                                          fn_CaseGamma, \n",
    "                                          CF_vocab, \n",
    "                                          get_CF_id,\n",
    "                                          cohort_args,\n",
    "                                          CF_Folder, \n",
    "                                          df_case,\n",
    "                                          use_CF_from_disk,\n",
    "                                          use_CO_from_disk)"
   ]
  },
  {
   "cell_type": "markdown",
   "id": "365ab1a2",
   "metadata": {},
   "source": [
    "# Check Cache Functions"
   ]
  },
  {
   "cell_type": "code",
   "execution_count": 38,
   "id": "898713ee",
   "metadata": {},
   "outputs": [
    {
     "data": {
      "text/plain": [
       "{}"
      ]
     },
     "execution_count": 38,
     "metadata": {},
     "output_type": "execute_result"
    }
   ],
   "source": [
    "FnCaseFeatGamma.new_CFs"
   ]
  },
  {
   "cell_type": "code",
   "execution_count": 39,
   "id": "1fb9ef29",
   "metadata": {},
   "outputs": [
    {
     "data": {
      "application/vnd.jupyter.widget-view+json": {
       "model_id": "1759dea5c6474e80a0ccf2ed7fc2035a",
       "version_major": 2,
       "version_minor": 0
      },
      "text/plain": [
       "Map:   0%|          | 0/1000 [00:00<?, ? examples/s]"
      ]
     },
     "metadata": {},
     "output_type": "display_data"
    },
    {
     "name": "stdout",
     "output_type": "stream",
     "text": [
      "Elipse Time:  0:00:04.846033\n",
      "Dataset({\n",
      "    features: ['PID', 'ObsDT', 'input_ids', 'input_wgts'],\n",
      "    num_rows: 1000\n",
      "})\n"
     ]
    }
   ],
   "source": [
    "start = datetime.now()\n",
    "batch_size = 100\n",
    "ds_casetkn = ds_case.map(FnCaseFeatGamma, \n",
    "                         batched = True, \n",
    "                         batch_size = batch_size, \n",
    "                         load_from_cache_file = False, \n",
    "                         new_fingerprint = CaseFeatName)\n",
    "end = datetime.now()\n",
    "print('Elipse Time: ', end - start)\n",
    "print(ds_casetkn)"
   ]
  },
  {
   "cell_type": "code",
   "execution_count": 40,
   "id": "16f18bf3",
   "metadata": {},
   "outputs": [
    {
     "data": {
      "application/vnd.jupyter.widget-view+json": {
       "model_id": "f115a1c877104582acc7c2bd6a1a1a5c",
       "version_major": 2,
       "version_minor": 0
      },
      "text/plain": [
       "Map:   0%|          | 0/1000 [00:00<?, ? examples/s]"
      ]
     },
     "metadata": {},
     "output_type": "display_data"
    },
    {
     "name": "stdout",
     "output_type": "stream",
     "text": [
      "Elipse Time:  0:00:00.024509\n",
      "Dataset({\n",
      "    features: ['PID', 'ObsDT', 'input_ids', 'input_wgts'],\n",
      "    num_rows: 1000\n",
      "})\n"
     ]
    }
   ],
   "source": [
    "start = datetime.now()\n",
    "batch_size = 100\n",
    "ds_casetkn = ds_case.map(FnCaseFeatGamma, \n",
    "                         batched = True, \n",
    "                         batch_size = batch_size, \n",
    "                         load_from_cache_file = False, \n",
    "                         new_fingerprint = CaseFeatName)\n",
    "end = datetime.now()\n",
    "print('Elipse Time: ', end - start)\n",
    "print(ds_casetkn)"
   ]
  },
  {
   "cell_type": "code",
   "execution_count": 41,
   "id": "73079bf9",
   "metadata": {},
   "outputs": [
    {
     "name": "stdout",
     "output_type": "stream",
     "text": [
      "ro.CGM5Min-Af2H_ct.RecNum\n",
      "386\n",
      "{'ObsDT': Timestamp('2021-08-23 08:10:00'),\n",
      " 'PID': 1000027,\n",
      " 'input_ids': [8, 9, 15, 16],\n",
      " 'input_wgts': [289.0, 1440.0, 1.0, 1.0]}\n",
      "{'input_ids': {'tid2tkn': {0: '[PAD]', 1: '[UNK]', 2: '[CLS]', 3: '[SEP]', 4: '[MASK]', 5: '[BOS]', 6: '[EOS]', 7: 'BfCGM:[UNK]', 8: 'BfCGM:recnum', 9: 'BfCGM:recspan', 10: 'BfCGM:recnum_0', 11: 'BfCGM:recspan_0', 12: 'AfCGM:[UNK]', 13: 'AfCGM:recnum', 14: 'AfCGM:recspan', 15: 'AfCGM:recnum_0', 16: 'AfCGM:recspan_0'}, 'tkn2tid': {'[PAD]': 0, '[UNK]': 1, '[CLS]': 2, '[SEP]': 3, '[MASK]': 4, '[BOS]': 5, '[EOS]': 6, 'BfCGM:[UNK]': 7, 'BfCGM:recnum': 8, 'BfCGM:recspan': 9, 'BfCGM:recnum_0': 10, 'BfCGM:recspan_0': 11, 'AfCGM:[UNK]': 12, 'AfCGM:recnum': 13, 'AfCGM:recspan': 14, 'AfCGM:recnum_0': 15, 'AfCGM:recspan_0': 16}}, 'input_wgts': {}}\n"
     ]
    }
   ],
   "source": [
    "print(CaseObsName)\n",
    "random_int = random.randint(0, len(ds_casetkn))\n",
    "print(random_int)\n",
    "pprint(ds_casetkn[random_int])\n",
    "print(CF_vocab)"
   ]
  },
  {
   "cell_type": "code",
   "execution_count": 42,
   "id": "bbaf14c0",
   "metadata": {},
   "outputs": [
    {
     "data": {
      "text/plain": [
       "{'PID': 1000261,\n",
       " 'ObsDT': Timestamp('2021-08-31 07:45:00'),\n",
       " 'input_ids': [8, 9, 13, 14],\n",
       " 'input_wgts': [289.0, 1440.0, 24.0, 115.0]}"
      ]
     },
     "execution_count": 42,
     "metadata": {},
     "output_type": "execute_result"
    }
   ],
   "source": [
    "ds_casetkn[8]"
   ]
  },
  {
   "cell_type": "markdown",
   "id": "dd125cea",
   "metadata": {},
   "source": [
    "# Save"
   ]
  },
  {
   "cell_type": "code",
   "execution_count": 43,
   "id": "9156bcf0",
   "metadata": {},
   "outputs": [
    {
     "data": {
      "text/html": [
       "<div>\n",
       "<style scoped>\n",
       "    .dataframe tbody tr th:only-of-type {\n",
       "        vertical-align: middle;\n",
       "    }\n",
       "\n",
       "    .dataframe tbody tr th {\n",
       "        vertical-align: top;\n",
       "    }\n",
       "\n",
       "    .dataframe thead th {\n",
       "        text-align: right;\n",
       "    }\n",
       "</style>\n",
       "<table border=\"1\" class=\"dataframe\">\n",
       "  <thead>\n",
       "    <tr style=\"text-align: right;\">\n",
       "      <th></th>\n",
       "      <th>casefeat_idx_in_data</th>\n",
       "    </tr>\n",
       "    <tr>\n",
       "      <th>casefeat_id</th>\n",
       "      <th></th>\n",
       "    </tr>\n",
       "  </thead>\n",
       "  <tbody>\n",
       "  </tbody>\n",
       "</table>\n",
       "</div>"
      ],
      "text/plain": [
       "Empty DataFrame\n",
       "Columns: [casefeat_idx_in_data]\n",
       "Index: []"
      ]
     },
     "execution_count": 43,
     "metadata": {},
     "output_type": "execute_result"
    }
   ],
   "source": [
    "FnCaseFeatGamma.df_CF_info"
   ]
  },
  {
   "cell_type": "code",
   "execution_count": 44,
   "id": "3ec9a1ba",
   "metadata": {},
   "outputs": [
    {
     "data": {
      "text/plain": [
       "'../_Data/3-Data_CaseFeat\\\\cf.CatUnseqTknsOneTS_co.5oviTuds5X\\\\data'"
      ]
     },
     "execution_count": 44,
     "metadata": {},
     "output_type": "execute_result"
    }
   ],
   "source": [
    "CF_Folder_data = FnCaseFeatGamma.CF_Folder_data\n",
    "CF_Folder_data"
   ]
  },
  {
   "cell_type": "code",
   "execution_count": 45,
   "id": "8b09ed33",
   "metadata": {},
   "outputs": [],
   "source": [
    "FnCaseFeatGamma.save_new_CFs_to_disk(CF_Folder_data)"
   ]
  },
  {
   "cell_type": "code",
   "execution_count": 46,
   "id": "f2d8bf5f",
   "metadata": {},
   "outputs": [
    {
     "data": {
      "text/html": [
       "<div>\n",
       "<style scoped>\n",
       "    .dataframe tbody tr th:only-of-type {\n",
       "        vertical-align: middle;\n",
       "    }\n",
       "\n",
       "    .dataframe tbody tr th {\n",
       "        vertical-align: top;\n",
       "    }\n",
       "\n",
       "    .dataframe thead th {\n",
       "        text-align: right;\n",
       "    }\n",
       "</style>\n",
       "<table border=\"1\" class=\"dataframe\">\n",
       "  <thead>\n",
       "    <tr style=\"text-align: right;\">\n",
       "      <th></th>\n",
       "      <th>casefeat_idx_in_data</th>\n",
       "    </tr>\n",
       "    <tr>\n",
       "      <th>casefeat_id</th>\n",
       "      <th></th>\n",
       "    </tr>\n",
       "  </thead>\n",
       "  <tbody>\n",
       "  </tbody>\n",
       "</table>\n",
       "</div>"
      ],
      "text/plain": [
       "Empty DataFrame\n",
       "Columns: [casefeat_idx_in_data]\n",
       "Index: []"
      ]
     },
     "execution_count": 46,
     "metadata": {},
     "output_type": "execute_result"
    }
   ],
   "source": [
    "FnCaseFeatGamma.df_CF_info"
   ]
  },
  {
   "cell_type": "code",
   "execution_count": 47,
   "id": "d4fd6a71",
   "metadata": {},
   "outputs": [],
   "source": [
    "FnCaseFeatGamma.ds_CF_data"
   ]
  },
  {
   "cell_type": "code",
   "execution_count": 48,
   "id": "ad14b6bf",
   "metadata": {},
   "outputs": [],
   "source": [
    "CFids = FnCaseFeatGamma.CFids\n",
    "ds_CF_data, df_CF_info = FnCaseFeatGamma.load_CFs_from_disk(CF_Folder_data, CFids)"
   ]
  },
  {
   "cell_type": "code",
   "execution_count": 49,
   "id": "5169fc84",
   "metadata": {},
   "outputs": [],
   "source": [
    "ds_CF_data"
   ]
  },
  {
   "cell_type": "code",
   "execution_count": 50,
   "id": "d420395c",
   "metadata": {},
   "outputs": [
    {
     "data": {
      "text/html": [
       "<div>\n",
       "<style scoped>\n",
       "    .dataframe tbody tr th:only-of-type {\n",
       "        vertical-align: middle;\n",
       "    }\n",
       "\n",
       "    .dataframe tbody tr th {\n",
       "        vertical-align: top;\n",
       "    }\n",
       "\n",
       "    .dataframe thead th {\n",
       "        text-align: right;\n",
       "    }\n",
       "</style>\n",
       "<table border=\"1\" class=\"dataframe\">\n",
       "  <thead>\n",
       "    <tr style=\"text-align: right;\">\n",
       "      <th></th>\n",
       "      <th>casefeat_idx_in_data</th>\n",
       "    </tr>\n",
       "    <tr>\n",
       "      <th>casefeat_id</th>\n",
       "      <th></th>\n",
       "    </tr>\n",
       "  </thead>\n",
       "  <tbody>\n",
       "  </tbody>\n",
       "</table>\n",
       "</div>"
      ],
      "text/plain": [
       "Empty DataFrame\n",
       "Columns: [casefeat_idx_in_data]\n",
       "Index: []"
      ]
     },
     "execution_count": 50,
     "metadata": {},
     "output_type": "execute_result"
    }
   ],
   "source": [
    "df_CF_info"
   ]
  },
  {
   "cell_type": "markdown",
   "id": "473930ac",
   "metadata": {},
   "source": [
    "# Save Vocab"
   ]
  },
  {
   "cell_type": "code",
   "execution_count": 51,
   "id": "5cc92449",
   "metadata": {},
   "outputs": [
    {
     "data": {
      "text/plain": [
       "{'input_ids': {'tid2tkn': {0: '[PAD]',\n",
       "   1: '[UNK]',\n",
       "   2: '[CLS]',\n",
       "   3: '[SEP]',\n",
       "   4: '[MASK]',\n",
       "   5: '[BOS]',\n",
       "   6: '[EOS]',\n",
       "   7: 'BfCGM:[UNK]',\n",
       "   8: 'BfCGM:recnum',\n",
       "   9: 'BfCGM:recspan',\n",
       "   10: 'BfCGM:recnum_0',\n",
       "   11: 'BfCGM:recspan_0',\n",
       "   12: 'AfCGM:[UNK]',\n",
       "   13: 'AfCGM:recnum',\n",
       "   14: 'AfCGM:recspan',\n",
       "   15: 'AfCGM:recnum_0',\n",
       "   16: 'AfCGM:recspan_0'},\n",
       "  'tkn2tid': {'[PAD]': 0,\n",
       "   '[UNK]': 1,\n",
       "   '[CLS]': 2,\n",
       "   '[SEP]': 3,\n",
       "   '[MASK]': 4,\n",
       "   '[BOS]': 5,\n",
       "   '[EOS]': 6,\n",
       "   'BfCGM:[UNK]': 7,\n",
       "   'BfCGM:recnum': 8,\n",
       "   'BfCGM:recspan': 9,\n",
       "   'BfCGM:recnum_0': 10,\n",
       "   'BfCGM:recspan_0': 11,\n",
       "   'AfCGM:[UNK]': 12,\n",
       "   'AfCGM:recnum': 13,\n",
       "   'AfCGM:recspan': 14,\n",
       "   'AfCGM:recnum_0': 15,\n",
       "   'AfCGM:recspan_0': 16}},\n",
       " 'input_wgts': {}}"
      ]
     },
     "execution_count": 51,
     "metadata": {},
     "output_type": "execute_result"
    }
   ],
   "source": [
    "CF_vocab = FnCaseFeatGamma.CF_vocab\n",
    "CF_vocab"
   ]
  },
  {
   "cell_type": "code",
   "execution_count": 52,
   "id": "91ee7364",
   "metadata": {},
   "outputs": [
    {
     "data": {
      "text/plain": [
       "'../_Data/3-Data_CaseFeat\\\\cf.CatUnseqTknsOneTS_co.5oviTuds5X\\\\vocab.p'"
      ]
     },
     "execution_count": 52,
     "metadata": {},
     "output_type": "execute_result"
    }
   ],
   "source": [
    "CF_Folder_vocab = FnCaseFeatGamma.CF_Folder_vocab\n",
    "CF_Folder_vocab"
   ]
  },
  {
   "cell_type": "code",
   "execution_count": 53,
   "id": "39d92c6e",
   "metadata": {},
   "outputs": [
    {
     "data": {
      "text/html": [
       "<div>\n",
       "<style scoped>\n",
       "    .dataframe tbody tr th:only-of-type {\n",
       "        vertical-align: middle;\n",
       "    }\n",
       "\n",
       "    .dataframe tbody tr th {\n",
       "        vertical-align: top;\n",
       "    }\n",
       "\n",
       "    .dataframe thead th {\n",
       "        text-align: right;\n",
       "    }\n",
       "</style>\n",
       "<table border=\"1\" class=\"dataframe\">\n",
       "  <thead>\n",
       "    <tr style=\"text-align: right;\">\n",
       "      <th></th>\n",
       "      <th>ro.CGM5Min-Af2H_ct.RecNum</th>\n",
       "    </tr>\n",
       "  </thead>\n",
       "  <tbody>\n",
       "    <tr>\n",
       "      <th>input_ids</th>\n",
       "      <td>{'tid2tkn': {0: '[PAD]', 1: '[UNK]', 2: '[CLS]...</td>\n",
       "    </tr>\n",
       "    <tr>\n",
       "      <th>input_wgts</th>\n",
       "      <td>{}</td>\n",
       "    </tr>\n",
       "  </tbody>\n",
       "</table>\n",
       "</div>"
      ],
      "text/plain": [
       "                                    ro.CGM5Min-Af2H_ct.RecNum\n",
       "input_ids   {'tid2tkn': {0: '[PAD]', 1: '[UNK]', 2: '[CLS]...\n",
       "input_wgts                                                 {}"
      ]
     },
     "execution_count": 53,
     "metadata": {},
     "output_type": "execute_result"
    }
   ],
   "source": [
    "df_Vocab = pd.DataFrame({CaseObsName: CF_vocab})\n",
    "df_Vocab.to_pickle(CF_Folder_vocab)\n",
    "df_Vocab"
   ]
  }
 ],
 "metadata": {
  "kernelspec": {
   "display_name": "Python 3 (ipykernel)",
   "language": "python",
   "name": "python3"
  },
  "language_info": {
   "codemirror_mode": {
    "name": "ipython",
    "version": 3
   },
   "file_extension": ".py",
   "mimetype": "text/x-python",
   "name": "python",
   "nbconvert_exporter": "python",
   "pygments_lexer": "ipython3",
   "version": "3.11.5"
  },
  "toc-autonumbering": true
 },
 "nbformat": 4,
 "nbformat_minor": 5
}
