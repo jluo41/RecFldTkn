{
 "cells": [
  {
   "cell_type": "markdown",
   "id": "881d73c8-f12f-4a9b-a485-996a76289767",
   "metadata": {},
   "source": [
    "# Space"
   ]
  },
  {
   "cell_type": "code",
   "execution_count": null,
   "id": "d9b19d41",
   "metadata": {},
   "outputs": [],
   "source": [
    "import os\n",
    "import sys \n",
    "import logging\n",
    "import random\n",
    "import pandas as pd \n",
    "from pprint import pprint \n",
    "from IPython.display import display, HTML\n",
    "\n",
    "# WorkSpace\n",
    "KEY = 'WorkSpace'; WORKSPACE_PATH = os.getcwd().split(KEY)[0] + KEY; print(WORKSPACE_PATH)\n",
    "os.chdir(WORKSPACE_PATH)\n",
    "sys.path.append(WORKSPACE_PATH)\n",
    "\n",
    "# Pipeline Space\n",
    "from proj_space import SPACE\n",
    "SPACE['WORKSPACE_PATH'] = WORKSPACE_PATH\n",
    "sys.path.append(SPACE['CODE_FN'])\n",
    "# pprint(SPACE)\n",
    "\n",
    "# Available Packages\n",
    "import argparse\n",
    "import datasets\n",
    "import pandas as pd\n",
    "from datetime import datetime \n",
    "\n",
    "\n",
    "from recfldtkn.configfn import load_cohort_args\n",
    "from recfldtkn.loadtools import load_module_variables, update_args_to_list\n",
    "from recfldtkn.observer import get_RecObsName_to_RecObsInfo, CaseObserverTransformer\n",
    "from config_observer.CKPD import ckpd_to_CkpdObsConfig\n",
    "\n",
    "logger = logging.getLogger(__name__)\n",
    "recfldtkn_config_path = os.path.join(SPACE['CODE_FN'], 'config_recfldtkn/')\n"
   ]
  },
  {
   "cell_type": "markdown",
   "id": "fbbe1fca",
   "metadata": {},
   "source": [
    "# [Part 1] Get a Caseset: Case Examples"
   ]
  },
  {
   "cell_type": "markdown",
   "id": "a096c80b",
   "metadata": {},
   "source": [
    "## [Step 1] Trigger Event"
   ]
  },
  {
   "cell_type": "code",
   "execution_count": null,
   "id": "5e9be989",
   "metadata": {},
   "outputs": [],
   "source": [
    "from recfldtkn.loadtools import fetch_TriggerEvent_tools\n",
    "\n",
    "####################\n",
    "TriggerCaseMethod = 'TrulicityRx'\n",
    "####################\n",
    "\n",
    "Trigger_tools = fetch_TriggerEvent_tools(TriggerCaseMethod, SPACE)\n",
    "Trigger_tools "
   ]
  },
  {
   "cell_type": "code",
   "execution_count": null,
   "id": "5d031b54",
   "metadata": {},
   "outputs": [],
   "source": [
    "##################################\n",
    "CaseSetName = TriggerCaseMethod\n",
    "case_id_columns = Trigger_tools['case_id_columns']\n",
    "special_columns = Trigger_tools['special_columns']\n",
    "##################################\n",
    "\n",
    "TriggerCasePath = os.path.join(SPACE['DATA_CaseSet'], f'{CaseSetName}.p')\n",
    "cohort_args = load_cohort_args(recfldtkn_config_path, SPACE)\n",
    "\n",
    "cohort_args['ckpd_to_CkpdObsConfig'] = ckpd_to_CkpdObsConfig\n",
    "cohort_args['case_id_columns'] = case_id_columns\n",
    "cohort_args['ObsDTName'] = 'ObsDT'\n",
    "cohort_args['PID_ObsDT_columns'] = [cohort_args['RootID'], cohort_args['ObsDTName']]\n",
    "\n",
    "print(cohort_args)\n",
    "print(TriggerCasePath)\n",
    "\n",
    "df_case = pd.read_pickle(TriggerCasePath) # (1000)\n",
    "df_case = df_case.sample(1000, random_state=0).reset_index(drop=True)\n",
    "ds_case = datasets.Dataset.from_pandas(df_case)\n",
    "ds_case"
   ]
  },
  {
   "cell_type": "markdown",
   "id": "b8ca04f4",
   "metadata": {},
   "source": [
    "## [Step 2] Generate Arguments"
   ]
  },
  {
   "cell_type": "code",
   "execution_count": null,
   "id": "53dcdf64",
   "metadata": {},
   "outputs": [],
   "source": [
    "#################################\n",
    "# case_observations = [\n",
    "#     'PDemo:ro.P-Demo_ct.InCaseInfo',\n",
    "#     'PZip3Demo:ro.P-Zip3DemoNume_ct.InCaseInfo',\n",
    "#     'RxInCase6:ro.Rx-ObsPnt-SysCate_ct.InCaseInfo',\n",
    "#     'RxObsPntNum:ro.Rx-ObsPnt_ct.RecNum',\n",
    "# ]\n",
    "\n",
    "case_observations = [\n",
    "    'Af1wClick:ro.EgmClick-Af1Wlft_ct.InvEgmInfo',\n",
    "    'Af1wAuthen:ro.EgmAuthen-Af1Wlft_ct.InvEgmInfo',\n",
    "    \n",
    "    'Af1wCallPhm:ro.EgmCallPharm-Af1Wlft_ct.InvEgmInfo',\n",
    "    \n",
    "    'Af1wEdu:ro.EgmEdu-Af1Wlft_ct.InvEgmInfo',\n",
    "    'Af1wRmd:ro.EgmRmd-Af1Wlft_ct.InvEgmInfo',\n",
    "    'Af1wCpy:ro.EgmCopay-Af1Wlft_ct.InvEgmInfo',\n",
    "]\n",
    "name_CaseGamma = 'CatUnseqTknsOneTS'\n",
    "#################################"
   ]
  },
  {
   "cell_type": "code",
   "execution_count": null,
   "id": "bc155033",
   "metadata": {},
   "outputs": [],
   "source": [
    "from pprint import pprint \n",
    "from recfldtkn.obsname import convert_case_observations_to_co_to_observation\n",
    "from recfldtkn.obsname import get_RecNameList_and_FldTknList\n",
    "\n",
    "co_to_COName, co_to_CONameInfo = convert_case_observations_to_co_to_observation(case_observations)\n",
    "co_to_COName"
   ]
  },
  {
   "cell_type": "code",
   "execution_count": null,
   "id": "db3595e3",
   "metadata": {},
   "outputs": [],
   "source": [
    "# check whether this information is ready. \n",
    "PipelineInfo = get_RecNameList_and_FldTknList(co_to_CONameInfo, ckpd_to_CkpdObsConfig)\n",
    "pprint(PipelineInfo, sort_dicts=False)"
   ]
  },
  {
   "cell_type": "code",
   "execution_count": null,
   "id": "a9c3d894",
   "metadata": {},
   "outputs": [],
   "source": [
    "COName_List = [CaseName for co, CaseName in co_to_COName.items()]\n",
    "COName_List"
   ]
  },
  {
   "cell_type": "code",
   "execution_count": null,
   "id": "5748d5e1",
   "metadata": {},
   "outputs": [],
   "source": [
    "from recfldtkn.obsname import convert_CONameList_to_CFName\n",
    "\n",
    "CaseFeatName = convert_CONameList_to_CFName(COName_List, name_CaseGamma)\n",
    "print(CaseFeatName)"
   ]
  },
  {
   "cell_type": "code",
   "execution_count": null,
   "id": "d31d95cf",
   "metadata": {},
   "outputs": [],
   "source": [
    "# part of fetch_caseobs_Phi_tools\n",
    "CF_Folder = os.path.join(SPACE['DATA_CaseFeat'], CaseFeatName)\n",
    "if not os.path.exists(CF_Folder): os.makedirs(CF_Folder)\n",
    "print(CF_Folder)"
   ]
  },
  {
   "cell_type": "markdown",
   "id": "3b61dcae",
   "metadata": {},
   "source": [
    "# [Part 2] Tools for ds_case_obs"
   ]
  },
  {
   "cell_type": "markdown",
   "id": "dcc74ef7",
   "metadata": {},
   "source": [
    "## [Step 1] Prepare examples"
   ]
  },
  {
   "cell_type": "code",
   "execution_count": null,
   "id": "5cc097fe",
   "metadata": {},
   "outputs": [],
   "source": [
    "case_examples = ds_case[:5]\n",
    "print(case_examples)"
   ]
  },
  {
   "cell_type": "code",
   "execution_count": null,
   "id": "c626a021",
   "metadata": {},
   "outputs": [],
   "source": [
    "length = len(case_examples[list(case_examples.keys())[0]])\n",
    "case_examples_list = [{k: v[i] for k, v in case_examples.items()} for i in range(length)]\n",
    "idx_to_examples = {i: case_examples_list[i] for i in range(length)}\n",
    "pprint(idx_to_examples, sort_dicts=False)"
   ]
  },
  {
   "cell_type": "code",
   "execution_count": null,
   "id": "02505333",
   "metadata": {},
   "outputs": [],
   "source": [
    "case_example = idx_to_examples[0]\n",
    "case_example"
   ]
  },
  {
   "cell_type": "markdown",
   "metadata": {},
   "source": [
    "## [Step 2] get_CF_id"
   ]
  },
  {
   "cell_type": "code",
   "execution_count": null,
   "id": "8d1b04de",
   "metadata": {},
   "outputs": [],
   "source": [
    "# check whether this information is ready. \n",
    "PipelineInfo = get_RecNameList_and_FldTknList(co_to_CONameInfo, ckpd_to_CkpdObsConfig)\n",
    "pprint(PipelineInfo, sort_dicts=False)"
   ]
  },
  {
   "cell_type": "code",
   "execution_count": null,
   "id": "cdeb16bd",
   "metadata": {},
   "outputs": [],
   "source": [
    "CaseFeatName"
   ]
  },
  {
   "cell_type": "code",
   "execution_count": null,
   "id": "f5c098cf",
   "metadata": {},
   "outputs": [],
   "source": [
    "case_id_columns"
   ]
  },
  {
   "cell_type": "code",
   "execution_count": null,
   "id": "c6d784e1",
   "metadata": {},
   "outputs": [],
   "source": [
    "case_id_columns"
   ]
  },
  {
   "cell_type": "code",
   "execution_count": null,
   "id": "a52f8949",
   "metadata": {},
   "outputs": [],
   "source": [
    "import inspect\n",
    "#################################################\n",
    "def get_CF_id(case_example, case_id_columns, cohort_args):\n",
    "    # to be update it to a more general function\n",
    "\n",
    "    ############################## # consider the case_id_columns for DrFirst.\n",
    "    case_id_columns = cohort_args['case_id_columns'] # ['PID', 'ObsDT', 'PInvID', 'RxID']\n",
    "    ############################## \n",
    "\n",
    "    # case_id_columns = [i for i in case_id_columns if i in case_example]\n",
    "    li = [col + ':'+ str(case_example[col]) for col in case_id_columns]\n",
    "    CF_id = '_'.join(li)\n",
    "    return CF_id \n",
    "\n",
    "get_CF_id.fn_string = inspect.getsource(get_CF_id)\n",
    "#################################################"
   ]
  },
  {
   "cell_type": "code",
   "execution_count": null,
   "id": "d5de5477",
   "metadata": {},
   "outputs": [],
   "source": [
    "get_CF_id(case_example, case_id_columns, cohort_args)"
   ]
  },
  {
   "cell_type": "markdown",
   "id": "e85cfc09",
   "metadata": {},
   "source": [
    "## [Step 3] get_CaseObsName_to_CaseObsInfo"
   ]
  },
  {
   "cell_type": "code",
   "execution_count": null,
   "id": "6cb02be9",
   "metadata": {},
   "outputs": [],
   "source": [
    "from recfldtkn.observer import get_CaseObsName_to_CaseObsInfo\n",
    "\n",
    "record_to_ds_rec = {}        # set this to empty dictionary, then we will load data from disk\n",
    "record_to_ds_rec_info = {}   # set this to empty dictionary, then we will load data from disk\n",
    "COName_to_COInfo = get_CaseObsName_to_CaseObsInfo(COName_List,\n",
    "                                                  SPACE, \n",
    "                                                  cohort_args, \n",
    "                                                  record_to_ds_rec, \n",
    "                                                  record_to_ds_rec_info)"
   ]
  },
  {
   "cell_type": "code",
   "execution_count": null,
   "id": "37831c51",
   "metadata": {},
   "outputs": [],
   "source": [
    "for CaseObsName, CaseObsInfo in COName_to_COInfo.items():\n",
    "    print(CaseObsName)\n",
    "    print([i for i in CaseObsInfo])"
   ]
  },
  {
   "cell_type": "code",
   "execution_count": null,
   "id": "d57a099f",
   "metadata": {},
   "outputs": [],
   "source": [
    "COName_to_co = {v: k for k, v in co_to_COName.items()}\n",
    "COName_to_co"
   ]
  },
  {
   "cell_type": "code",
   "execution_count": null,
   "id": "dee79498",
   "metadata": {},
   "outputs": [],
   "source": [
    "co_to_COvocab = {COName_to_co[COName]: CaseObsInfo['CO_vocab'] for COName, CaseObsInfo in COName_to_COInfo.items()}\n",
    "\n",
    "for co, vocab in co_to_COvocab.items():\n",
    "    print(co)\n",
    "    print(vocab)"
   ]
  },
  {
   "cell_type": "markdown",
   "id": "b43da125",
   "metadata": {},
   "source": [
    "## [Step 3] get_CF_vocab"
   ]
  },
  {
   "cell_type": "code",
   "execution_count": null,
   "id": "4fb312f5",
   "metadata": {},
   "outputs": [],
   "source": [
    "##################################\n",
    "def get_CF_vocab(co_to_COvocab):\n",
    "    CF_vocab = {}\n",
    "    # co_Y_list = [i for i in co_to_COvocab if 'Fut' in i or 'Af' in i]\n",
    "    # co_X_list = [i for i in co_to_COvocab if i not in co_Y_list]\n",
    "    co_list = [i for i in co_to_COvocab]\n",
    "    SeqType = 'input_ids'\n",
    "    # idx2tkn_all = []\n",
    "    idx2tkn_all = ['[PAD]', '[CLS]', '[SEP]', '[MASK]', '[UNK]', '[BOS]', '[EOS]']\n",
    "    for co in co_list:\n",
    "        CaseObsVocab = co_to_COvocab[co] \n",
    "        idx2tkn = [co+':'+ tkn for tid, tkn in CaseObsVocab['tid']['tid2tkn'].items()]\n",
    "        idx2tkn_all = idx2tkn_all + idx2tkn\n",
    "    tid2tkn_all = {i: tkn for i, tkn in enumerate(idx2tkn_all)}\n",
    "    tkn2tid_all = {tkn: i for i, tkn in enumerate(idx2tkn_all)}\n",
    "    CF_vocab[SeqType] = {'tid2tkn': tid2tkn_all, 'tkn2tid': tkn2tid_all}\n",
    "    CF_vocab['input_wgts'] = {}\n",
    "    \n",
    "    # SeqType_list = [i for i in CF_vocab]\n",
    "    return CF_vocab\n",
    "##################################\n",
    "\n",
    "get_CF_vocab.fn_string = inspect.getsource(get_CF_vocab)"
   ]
  },
  {
   "cell_type": "code",
   "execution_count": null,
   "id": "c253a4ea",
   "metadata": {},
   "outputs": [],
   "source": [
    "CF_vocab = get_CF_vocab(co_to_COvocab)\n",
    "for SeqType, vocab in CF_vocab.items():\n",
    "    print(SeqType, ':', vocab)\n",
    "    print('\\n')"
   ]
  },
  {
   "cell_type": "markdown",
   "id": "db3da021",
   "metadata": {},
   "source": [
    "## [Step 4] Fetch $o_{ij}$ List"
   ]
  },
  {
   "cell_type": "code",
   "execution_count": null,
   "id": "6480862a",
   "metadata": {},
   "outputs": [],
   "source": [
    "pprint(idx_to_examples, sort_dicts=False)"
   ]
  },
  {
   "cell_type": "code",
   "execution_count": null,
   "id": "37544b7d",
   "metadata": {},
   "outputs": [],
   "source": [
    "use_CO_from_disk = False\n",
    "COName_to_FnCaseObsPhi = {}\n",
    "for COName, COInfo in COName_to_COInfo.items():\n",
    "    ro_to_ROName = None \n",
    "    FnCaseObsPhi = CaseObserverTransformer(ro_to_ROName,\n",
    "                                            COInfo['ROName_to_ROInfo'], \n",
    "                                            COInfo['name_CasePhi'], \n",
    "                                            COInfo['fn_CasePhi'], \n",
    "                                            COInfo['CO_vocab'], \n",
    "                                            COInfo['get_CO_id'],\n",
    "                                            cohort_args,\n",
    "                                            COInfo['CO_Folder'], \n",
    "                                            df_case,\n",
    "                                            use_CO_from_disk)\n",
    "    COName_to_FnCaseObsPhi[COName] = FnCaseObsPhi"
   ]
  },
  {
   "cell_type": "code",
   "execution_count": null,
   "id": "ba9270e6",
   "metadata": {},
   "outputs": [],
   "source": [
    "from recfldtkn.observer import CaseFeatureTransformer\n",
    "\n",
    "fetch_examples_with_complete_COs = CaseFeatureTransformer.fetch_examples_with_complete_COs\n",
    "\n",
    "use_CO_from_disk = False \n",
    "results = fetch_examples_with_complete_COs(idx_to_examples, \n",
    "                                            COName_to_co, \n",
    "                                            COName_to_COInfo, \n",
    "                                            COName_to_FnCaseObsPhi)\n",
    "\n",
    "idx_to_examples, COName_to_FnCaseObsPhi = results"
   ]
  },
  {
   "cell_type": "code",
   "execution_count": null,
   "id": "c62c1d6c",
   "metadata": {},
   "outputs": [],
   "source": [
    "for i, example in idx_to_examples.items():\n",
    "    print(i)\n",
    "    print(example)"
   ]
  },
  {
   "cell_type": "markdown",
   "id": "6ef34575",
   "metadata": {},
   "source": [
    "## [Step 3]* Develop $\\Gamma$. (To Dev)"
   ]
  },
  {
   "cell_type": "code",
   "execution_count": null,
   "id": "300d2024",
   "metadata": {},
   "outputs": [],
   "source": [
    "idx = 1\n",
    "case_example = idx_to_examples[idx]\n",
    "# print('case_example:', case_example)\n",
    "pprint(case_example, compact= True, sort_dicts=False)"
   ]
  },
  {
   "cell_type": "code",
   "execution_count": null,
   "id": "d604ec0f",
   "metadata": {},
   "outputs": [],
   "source": [
    "##################################\n",
    "def fn_CaseGamma(case_example, co_to_COvocab, CF_vocab, cohort_args):\n",
    "    # print(case_example)\n",
    "    co_list = [i for i in co_to_COvocab]\n",
    "    \n",
    "    result_case = {}\n",
    "\n",
    "    # get the input ids\n",
    "    SeqType = 'input_ids' \n",
    "    X_tid_total = []\n",
    "    X_wgt_total = []\n",
    "    tkn2tid_CF = CF_vocab[SeqType]['tkn2tid']\n",
    "\n",
    "    # print(co_list)\n",
    "    for co in co_list:\n",
    "        CO_vocab = co_to_COvocab[co]\n",
    "        X_tid_co = case_example[co +'_tid']\n",
    "        X_wgt_co = case_example[co +'_wgt']\n",
    "        X_tkn_co = [co + ':' + CO_vocab['tid']['tid2tkn'][tid] for tid in X_tid_co]\n",
    "        X_tid_CF = [tkn2tid_CF[i] for i in X_tkn_co]\n",
    "        \n",
    "        X_tid_total = X_tid_total + X_tid_CF\n",
    "        X_wgt_total = X_wgt_total + X_wgt_co\n",
    "        \n",
    "    d = dict(zip(X_tid_total, X_wgt_total))\n",
    "    d = {k: v for k, v in d.items() if v > 0}\n",
    "    \n",
    "    # version 1: for DL and ML\n",
    "\n",
    "    result_case['input_ids']  = [i for i in d]\n",
    "    result_case['input_wgts'] = [d[i] for i in d]\n",
    "\n",
    "    return result_case \n",
    "##################################\n",
    "\n",
    "fn_CaseGamma.fn_string = inspect.getsource(fn_CaseGamma)"
   ]
  },
  {
   "cell_type": "code",
   "execution_count": null,
   "id": "59b090fb",
   "metadata": {},
   "outputs": [],
   "source": [
    "result = fn_CaseGamma(case_example, co_to_COvocab, CF_vocab, cohort_args)\n",
    "for SeqType, SeqValue in result.items():\n",
    "    print(SeqType, ':', len(SeqValue), SeqValue)\n",
    "    print('\\n')"
   ]
  },
  {
   "cell_type": "code",
   "execution_count": null,
   "id": "69d61f88",
   "metadata": {},
   "outputs": [],
   "source": [
    "CF_vocab"
   ]
  },
  {
   "cell_type": "markdown",
   "id": "6c42478d",
   "metadata": {},
   "source": [
    "## Save to Files"
   ]
  },
  {
   "cell_type": "code",
   "execution_count": null,
   "id": "d13c19f7",
   "metadata": {},
   "outputs": [],
   "source": [
    "from recfldtkn.loadtools import convert_variables_to_pystirng, load_module_variables\n",
    "\n",
    "prefix = ['import pandas as pd', 'import numpy as np']\n",
    "fn_variables = [get_CF_id, get_CF_vocab, fn_CaseGamma]\n",
    "pycode = convert_variables_to_pystirng(fn_variables = fn_variables, prefix = prefix)\n",
    "pypath = os.path.join(SPACE['CODE_FN'], 'fn_casegamma', f'gamma_{name_CaseGamma}.py')\n",
    "with open(pypath, 'w') as file: file.write(pycode)\n",
    "\n",
    "# Create a HTML link and display it\n",
    "full_path = os.path.join(WORKSPACE_PATH, pypath)\n",
    "display(HTML(f'{pypath} <a href=\"{full_path}\" target=\"_blank\">Open File</a>'))"
   ]
  },
  {
   "cell_type": "markdown",
   "id": "c6e217cd",
   "metadata": {},
   "source": [
    "# Application"
   ]
  },
  {
   "cell_type": "code",
   "execution_count": null,
   "id": "2e4e48eb",
   "metadata": {},
   "outputs": [],
   "source": [
    "CaseFeatName"
   ]
  },
  {
   "cell_type": "code",
   "execution_count": null,
   "id": "811c116f",
   "metadata": {},
   "outputs": [],
   "source": [
    "from recfldtkn.observer import get_CaseFeatInfo_for_a_CaseFeatName\n",
    "\n",
    "\n",
    "record_to_ds_rec = {}\n",
    "record_to_ds_rec_info = {}\n",
    "\n",
    "CaseFeatInfo = get_CaseFeatInfo_for_a_CaseFeatName(name_CaseGamma,\n",
    "                                                   case_observations,\n",
    "                                                   SPACE, \n",
    "                                                   cohort_args, \n",
    "                                                   record_to_ds_rec, \n",
    "                                                   record_to_ds_rec_info)\n",
    "[i for i in CaseFeatInfo]"
   ]
  },
  {
   "cell_type": "code",
   "execution_count": null,
   "id": "c587cfc6",
   "metadata": {},
   "outputs": [],
   "source": [
    "import random \n",
    "from pprint import pprint\n",
    "from datetime import datetime \n",
    "from recfldtkn.observer import CaseFeatureTransformer"
   ]
  },
  {
   "cell_type": "code",
   "execution_count": null,
   "id": "728370ed",
   "metadata": {},
   "outputs": [],
   "source": [
    "\n",
    "co_to_COName = CaseFeatInfo['co_to_COName']\n",
    "COName_to_COInfo = CaseFeatInfo['COName_to_COInfo']\n",
    "name_CaseGamma = CaseFeatInfo['name_CaseGamma']\n",
    "fn_CaseGamma = CaseFeatInfo['fn_CaseGamma']\n",
    "CF_vocab = CaseFeatInfo['CF_vocab']\n",
    "get_CF_id = CaseFeatInfo['get_CF_id']\n",
    "CF_Folder = CaseFeatInfo['CF_Folder']\n",
    "df_case = ds_case.to_pandas()\n",
    "use_CF_from_disk = False\n",
    "use_CO_from_disk = False\n",
    "batch_size = CaseFeatInfo.get('batch_size', 1000)\n",
    "\n",
    "FnCaseFeatGamma = CaseFeatureTransformer(co_to_COName,\n",
    "                                          COName_to_COInfo, \n",
    "                                          name_CaseGamma, \n",
    "                                          fn_CaseGamma, \n",
    "                                          CF_vocab, \n",
    "                                          get_CF_id,\n",
    "                                          cohort_args,\n",
    "                                          CF_Folder, \n",
    "                                          df_case,\n",
    "                                          use_CF_from_disk,\n",
    "                                          use_CO_from_disk)"
   ]
  },
  {
   "cell_type": "markdown",
   "id": "365ab1a2",
   "metadata": {},
   "source": [
    "# Check Cache Functions"
   ]
  },
  {
   "cell_type": "code",
   "execution_count": null,
   "id": "898713ee",
   "metadata": {},
   "outputs": [],
   "source": [
    "FnCaseFeatGamma.new_CFs"
   ]
  },
  {
   "cell_type": "code",
   "execution_count": null,
   "id": "1fb9ef29",
   "metadata": {},
   "outputs": [],
   "source": [
    "start = datetime.now()\n",
    "batch_size = 100\n",
    "ds_casetkn = ds_case.map(FnCaseFeatGamma, \n",
    "                         batched = True, \n",
    "                         batch_size = batch_size, \n",
    "                         load_from_cache_file = False, \n",
    "                         new_fingerprint = CaseFeatName)\n",
    "end = datetime.now()\n",
    "print('Elipse Time: ', end - start)\n",
    "print(ds_casetkn)"
   ]
  },
  {
   "cell_type": "code",
   "execution_count": null,
   "id": "16f18bf3",
   "metadata": {},
   "outputs": [],
   "source": [
    "start = datetime.now()\n",
    "batch_size = 100\n",
    "ds_casetkn = ds_case.map(FnCaseFeatGamma, \n",
    "                         batched = True, \n",
    "                         batch_size = batch_size, \n",
    "                         load_from_cache_file = False, \n",
    "                         new_fingerprint = CaseFeatName)\n",
    "end = datetime.now()\n",
    "print('Elipse Time: ', end - start)\n",
    "print(ds_casetkn)"
   ]
  },
  {
   "cell_type": "code",
   "execution_count": null,
   "id": "73079bf9",
   "metadata": {},
   "outputs": [],
   "source": [
    "print(CaseObsName)\n",
    "random_int = random.randint(0, len(ds_casetkn))\n",
    "print(random_int)\n",
    "pprint(ds_casetkn[random_int])\n",
    "print(CF_vocab)"
   ]
  },
  {
   "cell_type": "code",
   "execution_count": null,
   "id": "bbaf14c0",
   "metadata": {},
   "outputs": [],
   "source": [
    "ds_casetkn[8]"
   ]
  },
  {
   "cell_type": "markdown",
   "id": "dd125cea",
   "metadata": {},
   "source": [
    "# Save"
   ]
  },
  {
   "cell_type": "code",
   "execution_count": null,
   "id": "9156bcf0",
   "metadata": {},
   "outputs": [],
   "source": [
    "FnCaseFeatGamma.df_CF_info"
   ]
  },
  {
   "cell_type": "code",
   "execution_count": null,
   "id": "3ec9a1ba",
   "metadata": {},
   "outputs": [],
   "source": [
    "CF_Folder_data = FnCaseFeatGamma.CF_Folder_data\n",
    "CF_Folder_data"
   ]
  },
  {
   "cell_type": "code",
   "execution_count": null,
   "id": "8b09ed33",
   "metadata": {},
   "outputs": [],
   "source": [
    "FnCaseFeatGamma.save_new_CFs_to_disk(CF_Folder_data)"
   ]
  },
  {
   "cell_type": "code",
   "execution_count": null,
   "id": "f2d8bf5f",
   "metadata": {},
   "outputs": [],
   "source": [
    "FnCaseFeatGamma.df_CF_info"
   ]
  },
  {
   "cell_type": "code",
   "execution_count": null,
   "id": "d4fd6a71",
   "metadata": {},
   "outputs": [],
   "source": [
    "FnCaseFeatGamma.ds_CF_data"
   ]
  },
  {
   "cell_type": "code",
   "execution_count": null,
   "id": "ad14b6bf",
   "metadata": {},
   "outputs": [],
   "source": [
    "CFids = FnCaseFeatGamma.CFids\n",
    "ds_CF_data, df_CF_info = FnCaseFeatGamma.load_CFs_from_disk(CF_Folder_data, CFids)"
   ]
  },
  {
   "cell_type": "code",
   "execution_count": null,
   "id": "5169fc84",
   "metadata": {},
   "outputs": [],
   "source": [
    "ds_CF_data"
   ]
  },
  {
   "cell_type": "code",
   "execution_count": null,
   "id": "d420395c",
   "metadata": {},
   "outputs": [],
   "source": [
    "df_CF_info"
   ]
  },
  {
   "cell_type": "markdown",
   "id": "473930ac",
   "metadata": {},
   "source": [
    "# Save Vocab"
   ]
  },
  {
   "cell_type": "code",
   "execution_count": null,
   "id": "5cc92449",
   "metadata": {},
   "outputs": [],
   "source": [
    "CF_vocab = FnCaseFeatGamma.CF_vocab\n",
    "CF_vocab"
   ]
  },
  {
   "cell_type": "code",
   "execution_count": null,
   "id": "91ee7364",
   "metadata": {},
   "outputs": [],
   "source": [
    "CF_Folder_vocab = FnCaseFeatGamma.CF_Folder_vocab\n",
    "CF_Folder_vocab"
   ]
  },
  {
   "cell_type": "code",
   "execution_count": null,
   "id": "39d92c6e",
   "metadata": {},
   "outputs": [],
   "source": [
    "df_Vocab = pd.DataFrame({CaseObsName: CF_vocab})\n",
    "df_Vocab.to_pickle(CF_Folder_vocab)\n",
    "df_Vocab"
   ]
  },
  {
   "cell_type": "code",
   "execution_count": null,
   "id": "1e2d6751",
   "metadata": {},
   "outputs": [],
   "source": []
  }
 ],
 "metadata": {
  "kernelspec": {
   "display_name": "Python 3 (ipykernel)",
   "language": "python",
   "name": "python3"
  },
  "language_info": {
   "codemirror_mode": {
    "name": "ipython",
    "version": 3
   },
   "file_extension": ".py",
   "mimetype": "text/x-python",
   "name": "python",
   "nbconvert_exporter": "python",
   "pygments_lexer": "ipython3",
   "version": "3.11.7"
  },
  "toc-autonumbering": true
 },
 "nbformat": 4,
 "nbformat_minor": 5
}
