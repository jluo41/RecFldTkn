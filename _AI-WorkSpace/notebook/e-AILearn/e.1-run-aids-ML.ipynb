{
 "cells": [
  {
   "cell_type": "markdown",
   "id": "881d73c8-f12f-4a9b-a485-996a76289767",
   "metadata": {},
   "source": [
    "# Space"
   ]
  },
  {
   "cell_type": "code",
   "execution_count": 1,
   "id": "d9b19d41",
   "metadata": {},
   "outputs": [
    {
     "name": "stdout",
     "output_type": "stream",
     "text": [
      "/Users/floydluo/Library/CloudStorage/OneDrive-DRFIRST.COM,INC/Documents - DrFirst-JHU Collaboration Center/DrFirst-Project/2024-DrFirst-v2-SPACE/_DrFirst-AI-EduRxPred-WorkSpace\n",
      "{'CODE_FN': '../pipeline',\n",
      " 'CODE_RFT': '../pipeline',\n",
      " 'DATA_CaseFeat': '../_Data/3-Data_CaseFeat',\n",
      " 'DATA_CaseObs': '../_Data/2-Data_CaseObs',\n",
      " 'DATA_CaseSet': '../_Data/4-Data_CaseSet',\n",
      " 'DATA_EXTERNAL': '../external',\n",
      " 'DATA_RAW': '../_Data/0-Data_Raw',\n",
      " 'DATA_RFT': '../_Data/1-Data_RFT',\n",
      " 'DATA_TASK': 'Data_EduRxPred',\n",
      " 'MODEL_TASK': 'Model_EduRxPred',\n",
      " 'TaskName': 'EduRxPred',\n",
      " 'WORKSPACE_PATH': '/Users/floydluo/Library/CloudStorage/OneDrive-DRFIRST.COM,INC/Documents '\n",
      "                   '- DrFirst-JHU Collaboration '\n",
      "                   'Center/DrFirst-Project/2024-DrFirst-v2-SPACE/_DrFirst-AI-EduRxPred-WorkSpace'}\n"
     ]
    }
   ],
   "source": [
    "import os\n",
    "import sys \n",
    "import logging\n",
    "import random\n",
    "import pandas as pd \n",
    "from pprint import pprint \n",
    "from IPython.display import display, HTML\n",
    "\n",
    "# WorkSpace\n",
    "KEY = 'WorkSpace'; WORKSPACE_PATH = os.getcwd().split(KEY)[0] + KEY; print(WORKSPACE_PATH)\n",
    "os.chdir(WORKSPACE_PATH)\n",
    "sys.path.append(WORKSPACE_PATH)\n",
    "\n",
    "# Pipeline Space\n",
    "from proj_space import SPACE\n",
    "SPACE['WORKSPACE_PATH'] = WORKSPACE_PATH\n",
    "sys.path.append(SPACE['CODE_FN'])\n",
    "pprint(SPACE)\n",
    "\n",
    "# Available Packages\n",
    "import argparse\n",
    "import datasets\n",
    "import pandas as pd\n",
    "from datetime import datetime \n",
    "\n",
    "from recfldtkn.ckpd_obs import Ckpd_ObservationS\n",
    "from recfldtkn.configfn import load_cohort_args\n",
    "from recfldtkn.loadtools import update_args_to_list\n",
    "\n",
    "logger = logging.getLogger(__name__)\n",
    "recfldtkn_config_path = os.path.join(SPACE['CODE_RFT'], 'config_recfldtkn/')"
   ]
  },
  {
   "cell_type": "code",
   "execution_count": 2,
   "id": "31c24d1d",
   "metadata": {},
   "outputs": [
    {
     "name": "stdout",
     "output_type": "stream",
     "text": [
      "{'CohortInfo': {'RawData2023Nov_Trulicity': {'cohort_label': 1, 'cohort_name': 'RawData2023Nov_Trulicity', 'FolderPath': '../_Data/0-Data_Raw/2023_11_30_30days_Trulicity'}}, 'RawRootID': 'patient_id_encoded', 'RootID': 'PID', 'RecName': 'PRawRecNum', 'recattr_pyfolder': '../pipeline/fn_recattr/', 'fldtkn_pyfolder': '../pipeline/fn_fldtkn/', 'humanrec_pyfolder': '../pipeline/fn_humanrec/', 'inference_pyfolder': '../pipeline/fn_inference/', 'trigger_pyfolder': '../pipeline/fn_trigger/', 'RecName_Sequence': ['P', 'PInv', 'Rx', 'EgmAuthen', 'EgmCallPharm', 'EgmClick', 'EgmCopay', 'EgmEdu', 'EgmRmd'], 'RecName_to_PrtRecName': {'P': 'None', 'PInv': 'P', 'Rx': 'PInv', 'EgmAuthen': 'PInv', 'EgmCallPharm': 'PInv', 'EgmClick': 'PInv', 'EgmCopay': 'Rx', 'EgmEdu': 'Rx', 'EgmRmd': 'Rx'}, 'RecName_to_RFT_GROUP_SIZE': {'Default': 5000}, 'RecName_to_RFT_idx_group_size': {'Default': 10000}, 'RecName_to_RFT_usebucket': {'Default': False}, 'RootIDLength': 6, 'recfldtkn_config_path': '../pipeline/config_recfldtkn/', 'SPACE': {'DATA_RAW': '../_Data/0-Data_Raw', 'DATA_RFT': '../_Data/1-Data_RFT', 'DATA_EXTERNAL': '../external', 'DATA_CaseObs': '../_Data/2-Data_CaseObs', 'DATA_CaseFeat': '../_Data/3-Data_CaseFeat', 'DATA_CaseSet': '../_Data/4-Data_CaseSet', 'CODE_FN': '../pipeline', 'CODE_RFT': '../pipeline', 'DATA_TASK': 'Data_EduRxPred', 'MODEL_TASK': 'Model_EduRxPred', 'TaskName': 'EduRxPred', 'WORKSPACE_PATH': '/Users/floydluo/Library/CloudStorage/OneDrive-DRFIRST.COM,INC/Documents - DrFirst-JHU Collaboration Center/DrFirst-Project/2024-DrFirst-v2-SPACE/_DrFirst-AI-EduRxPred-WorkSpace'}, 'pypath': '../pipeline/fn_humanrec/humanrec.py', 'Ckpd_ObservationS': {'InObs': {'CkpdName': 'InCase', 'DistStartToPredDT': -0.01, 'DistEndToPredDT': 0.01, 'TimeUnit': 'min', 'StartIdx5Min': 0, 'EndIdx5Min': 0}, 'Bf24H': {'CkpdName': 'Bf24H', 'DistStartToPredDT': -24, 'DistEndToPredDT': 0.01, 'TimeUnit': 'H', 'StartIdx5Min': -288, 'EndIdx5Min': 0}, 'Bf1M': {'CkpdName': 'Bf1M', 'DistStartToPredDT': -720, 'DistEndToPredDT': 0.01, 'TimeUnit': 'H', 'StartIdx5Min': -8640, 'EndIdx5Min': 0}, 'Bf1Y': {'CkpdName': 'Bf1Y', 'DistStartToPredDT': -365, 'DistEndToPredDT': -1e-06, 'TimeUnit': 'D', 'StartIdx5Min': -105120, 'EndIdx5Min': -1}, 'Bf1YIn': {'CkpdName': 'Bf1Y', 'DistStartToPredDT': -365, 'DistEndToPredDT': 1e-06, 'TimeUnit': 'D', 'StartIdx5Min': -105120, 'EndIdx5Min': 1}, 'Bf10Y': {'CkpdName': 'Bf10Y', 'DistStartToPredDT': -3650, 'DistEndToPredDT': -1e-06, 'TimeUnit': 'D', 'StartIdx5Min': -1051200, 'EndIdx5Min': 1}, 'Af2H': {'CkpdName': 'Af2H', 'DistStartToPredDT': 1, 'DistEndToPredDT': 121, 'TimeUnit': 'min', 'StartIdx5Min': 1, 'EndIdx5Min': 24}, 'Af1W': {'CkpdName': 'Af1W', 'DistStartToPredDT': 0.0001, 'DistEndToPredDT': 7, 'TimeUnit': 'D', 'StartIdx5Min': 1, 'EndIdx5Min': 2016}, 'Af1Wlft': {'CkpdName': 'Af1W', 'DistStartToPredDT': -0.0001, 'DistEndToPredDT': 7, 'TimeUnit': 'D', 'StartIdx5Min': 1, 'EndIdx5Min': 2016}, 'Af1Y': {'CkpdName': 'Af1Y', 'DistStartToPredDT': 0.0001, 'DistEndToPredDT': 365, 'TimeUnit': 'D', 'StartIdx5Min': 1, 'EndIdx5Min': 105120}, 'PntAf1Y2M': {'CkpdName': 'PntAf1Y2M', 'DistStartToPredDT': 305, 'DistEndToPredDT': 425, 'TimeUnit': 'D', 'StartIdx5Min': 87840, 'EndIdx5Min': 122400}, 'PntAf1Y3M': {'CkpdName': 'PntAf1Y2M', 'DistStartToPredDT': 275, 'DistEndToPredDT': 455, 'TimeUnit': 'D', 'StartIdx5Min': 79200, 'EndIdx5Min': 131040}}}\n"
     ]
    }
   ],
   "source": [
    "import datasets\n",
    "from recfldtkn.loadtools import load_ds_rec_and_info\n",
    "from recfldtkn.configfn import load_cohort_args, load_record_args\n",
    "\n",
    "base_config = load_cohort_args(recfldtkn_config_path, SPACE)\n",
    "print(base_config)"
   ]
  },
  {
   "cell_type": "code",
   "execution_count": 3,
   "id": "83bc5916",
   "metadata": {},
   "outputs": [],
   "source": [
    "from recfldtkn.loadtools import fetch_entry_tools"
   ]
  },
  {
   "cell_type": "markdown",
   "id": "876a6cc8",
   "metadata": {},
   "source": [
    "# Step 1: DF Learning Case with Tags/Split"
   ]
  },
  {
   "cell_type": "code",
   "execution_count": 4,
   "id": "a311f4dd",
   "metadata": {},
   "outputs": [],
   "source": [
    "use_learning = True \n",
    "use_inference = not use_learning\n",
    "\n",
    "######################################\n",
    "TriggerCaseMethod = 'TrulicityRx'\n",
    "cohort_label_list = [1]\n",
    "Trigger2LearningMethods = [\n",
    "    {'op':'Tag',    'Name': 'TagPttBasicInfo', 'type': 'learning-only'},\n",
    "    {'op':'Filter', 'Name': 'FilterBasicPRx',  'type': 'learning-only'},\n",
    "]\n",
    "######################################\n",
    "\n",
    "\n",
    "##############\n",
    "RANDOM_SEED = 42\n",
    "downsample_ratio = 1 # 1 (don't drop any case), 0.1 (drop 90% of cases of one patient).\n",
    "out_ratio = 0\n",
    "test_ratio = '2023.10.15'#  'tail0.1'\n",
    "valid_ratio = 0.1 \n",
    "SplitMethod = f'rs{RANDOM_SEED}-ds{downsample_ratio}-out{out_ratio}ts{test_ratio}vd{valid_ratio}' \n",
    "##############"
   ]
  },
  {
   "cell_type": "code",
   "execution_count": 5,
   "id": "c636bced",
   "metadata": {},
   "outputs": [
    {
     "name": "stderr",
     "output_type": "stream",
     "text": [
      "[INFO:2024-03-03 02:39:59,688:(pipeline_model.py@84 recfldtkn.pipeline_model)]: CaseTag: TagPttBasicInfo\n",
      "[INFO:2024-03-03 02:39:59,741:(pipeline_model.py@99 recfldtkn.pipeline_model)]: CaseFilter: FilterBasicPRx\n",
      "[INFO:2024-03-03 02:39:59,743:(pipeline_model.py@103 recfldtkn.pipeline_model)]: Before Filter: (101006, 10)\n",
      "[INFO:2024-03-03 02:39:59,787:(pipeline_model.py@105 recfldtkn.pipeline_model)]: After Filter: (98762, 10)\n",
      "[INFO:2024-03-03 02:39:59,789:(1062184578.py@25 __main__)]: After: (98762, 10)\n"
     ]
    }
   ],
   "source": [
    "from recfldtkn.pipeline_model import get_Trigger_Cases, convert_TriggerCases_to_LearningCases\n",
    "from recfldtkn.loadtools import fetch_trigger_tools    \n",
    "\n",
    "Trigger_Tools = fetch_trigger_tools(TriggerCaseMethod, SPACE)\n",
    "RecName_to_dsRec = {}\n",
    "RecName_to_dsRecInfo = {}\n",
    "\n",
    "# dsRec comes from \n",
    "# (1) cohort_label_list, base_config, SPACE\n",
    "# (2) RecName_to_dsRec, RecName_to_dsRecInfo\n",
    "df_case = get_Trigger_Cases(TriggerCaseMethod,\n",
    "                            cohort_label_list,\n",
    "                            base_config, SPACE, \n",
    "                            RecName_to_dsRec, \n",
    "                            RecName_to_dsRecInfo)\n",
    "\n",
    "                            \n",
    "df_case = convert_TriggerCases_to_LearningCases(df_case, \n",
    "                                                cohort_label_list,\n",
    "                                                Trigger2LearningMethods, \n",
    "                                                base_config, \n",
    "                                                use_inference)\n",
    "\n",
    "\n",
    "logger.info(f'After: {df_case.shape}')"
   ]
  },
  {
   "cell_type": "code",
   "execution_count": 6,
   "id": "a54f4992",
   "metadata": {},
   "outputs": [
    {
     "data": {
      "text/html": [
       "<div>\n",
       "<style scoped>\n",
       "    .dataframe tbody tr th:only-of-type {\n",
       "        vertical-align: middle;\n",
       "    }\n",
       "\n",
       "    .dataframe tbody tr th {\n",
       "        vertical-align: top;\n",
       "    }\n",
       "\n",
       "    .dataframe thead th {\n",
       "        text-align: right;\n",
       "    }\n",
       "</style>\n",
       "<table border=\"1\" class=\"dataframe\">\n",
       "  <thead>\n",
       "    <tr style=\"text-align: right;\">\n",
       "      <th></th>\n",
       "      <th>PID</th>\n",
       "      <th>ObsDT</th>\n",
       "      <th>PInvID</th>\n",
       "      <th>RxID</th>\n",
       "      <th>DT</th>\n",
       "      <th>drug_name</th>\n",
       "      <th>patient_gender</th>\n",
       "      <th>patient_age_bucket</th>\n",
       "      <th>patient_zipcode_3</th>\n",
       "      <th>cohort</th>\n",
       "      <th>Out</th>\n",
       "      <th>In</th>\n",
       "      <th>Test</th>\n",
       "      <th>Valid</th>\n",
       "      <th>Train</th>\n",
       "    </tr>\n",
       "  </thead>\n",
       "  <tbody>\n",
       "    <tr>\n",
       "      <th>0</th>\n",
       "      <td>1015641</td>\n",
       "      <td>2023-03-17 15:20:48.692</td>\n",
       "      <td>1015641-000</td>\n",
       "      <td>1015641-000-000</td>\n",
       "      <td>2023-03-17 15:20:48.692</td>\n",
       "      <td>Trulicity</td>\n",
       "      <td>F</td>\n",
       "      <td>51-60</td>\n",
       "      <td>350.0</td>\n",
       "      <td>C1</td>\n",
       "      <td>False</td>\n",
       "      <td>True</td>\n",
       "      <td>False</td>\n",
       "      <td>False</td>\n",
       "      <td>True</td>\n",
       "    </tr>\n",
       "    <tr>\n",
       "      <th>1</th>\n",
       "      <td>1026251</td>\n",
       "      <td>2023-09-20 23:28:54.737</td>\n",
       "      <td>1026251-000</td>\n",
       "      <td>1026251-000-000</td>\n",
       "      <td>2023-09-20 23:28:54.737</td>\n",
       "      <td>Trulicity</td>\n",
       "      <td>F</td>\n",
       "      <td>31-40</td>\n",
       "      <td>606.0</td>\n",
       "      <td>C1</td>\n",
       "      <td>False</td>\n",
       "      <td>True</td>\n",
       "      <td>False</td>\n",
       "      <td>False</td>\n",
       "      <td>True</td>\n",
       "    </tr>\n",
       "    <tr>\n",
       "      <th>2</th>\n",
       "      <td>1001401</td>\n",
       "      <td>2023-10-28 00:58:29.134</td>\n",
       "      <td>1001401-031</td>\n",
       "      <td>1001401-031-001</td>\n",
       "      <td>2023-10-28 00:58:29.134</td>\n",
       "      <td>Trulicity</td>\n",
       "      <td>F</td>\n",
       "      <td>81+</td>\n",
       "      <td>856.0</td>\n",
       "      <td>C1</td>\n",
       "      <td>False</td>\n",
       "      <td>True</td>\n",
       "      <td>True</td>\n",
       "      <td>False</td>\n",
       "      <td>False</td>\n",
       "    </tr>\n",
       "    <tr>\n",
       "      <th>3</th>\n",
       "      <td>1019852</td>\n",
       "      <td>2023-09-01 21:12:22.742</td>\n",
       "      <td>1019852-020</td>\n",
       "      <td>1019852-020-000</td>\n",
       "      <td>2023-09-01 21:12:22.742</td>\n",
       "      <td>Trulicity</td>\n",
       "      <td>M</td>\n",
       "      <td>51-60</td>\n",
       "      <td>900.0</td>\n",
       "      <td>C1</td>\n",
       "      <td>False</td>\n",
       "      <td>True</td>\n",
       "      <td>False</td>\n",
       "      <td>False</td>\n",
       "      <td>True</td>\n",
       "    </tr>\n",
       "    <tr>\n",
       "      <th>4</th>\n",
       "      <td>1045643</td>\n",
       "      <td>2023-08-23 19:38:28.001</td>\n",
       "      <td>1045643-013</td>\n",
       "      <td>1045643-013-000</td>\n",
       "      <td>2023-08-23 19:38:28.001</td>\n",
       "      <td>Trulicity</td>\n",
       "      <td>F</td>\n",
       "      <td>41-50</td>\n",
       "      <td>741.0</td>\n",
       "      <td>C1</td>\n",
       "      <td>False</td>\n",
       "      <td>True</td>\n",
       "      <td>False</td>\n",
       "      <td>False</td>\n",
       "      <td>True</td>\n",
       "    </tr>\n",
       "    <tr>\n",
       "      <th>...</th>\n",
       "      <td>...</td>\n",
       "      <td>...</td>\n",
       "      <td>...</td>\n",
       "      <td>...</td>\n",
       "      <td>...</td>\n",
       "      <td>...</td>\n",
       "      <td>...</td>\n",
       "      <td>...</td>\n",
       "      <td>...</td>\n",
       "      <td>...</td>\n",
       "      <td>...</td>\n",
       "      <td>...</td>\n",
       "      <td>...</td>\n",
       "      <td>...</td>\n",
       "      <td>...</td>\n",
       "    </tr>\n",
       "    <tr>\n",
       "      <th>98757</th>\n",
       "      <td>1027142</td>\n",
       "      <td>2023-10-03 14:14:36.760</td>\n",
       "      <td>1027142-004</td>\n",
       "      <td>1027142-004-000</td>\n",
       "      <td>2023-10-03 14:14:36.760</td>\n",
       "      <td>Trulicity</td>\n",
       "      <td>F</td>\n",
       "      <td>71-80</td>\n",
       "      <td>147.0</td>\n",
       "      <td>C1</td>\n",
       "      <td>False</td>\n",
       "      <td>True</td>\n",
       "      <td>False</td>\n",
       "      <td>False</td>\n",
       "      <td>True</td>\n",
       "    </tr>\n",
       "    <tr>\n",
       "      <th>98758</th>\n",
       "      <td>1021805</td>\n",
       "      <td>2023-07-25 16:33:51.338</td>\n",
       "      <td>1021805-022</td>\n",
       "      <td>1021805-022-000</td>\n",
       "      <td>2023-07-25 16:33:51.338</td>\n",
       "      <td>Trulicity</td>\n",
       "      <td>M</td>\n",
       "      <td>61-70</td>\n",
       "      <td>334.0</td>\n",
       "      <td>C1</td>\n",
       "      <td>False</td>\n",
       "      <td>True</td>\n",
       "      <td>False</td>\n",
       "      <td>False</td>\n",
       "      <td>True</td>\n",
       "    </tr>\n",
       "    <tr>\n",
       "      <th>98759</th>\n",
       "      <td>1020349</td>\n",
       "      <td>2023-10-31 13:14:58.568</td>\n",
       "      <td>1020349-016</td>\n",
       "      <td>1020349-016-001</td>\n",
       "      <td>2023-10-31 13:14:58.568</td>\n",
       "      <td>Trulicity</td>\n",
       "      <td>M</td>\n",
       "      <td>51-60</td>\n",
       "      <td>287.0</td>\n",
       "      <td>C1</td>\n",
       "      <td>False</td>\n",
       "      <td>True</td>\n",
       "      <td>True</td>\n",
       "      <td>False</td>\n",
       "      <td>False</td>\n",
       "    </tr>\n",
       "    <tr>\n",
       "      <th>98760</th>\n",
       "      <td>1045280</td>\n",
       "      <td>2023-03-16 01:35:39.923</td>\n",
       "      <td>1045280-001</td>\n",
       "      <td>1045280-001-000</td>\n",
       "      <td>2023-03-16 01:35:39.923</td>\n",
       "      <td>Trulicity</td>\n",
       "      <td>M</td>\n",
       "      <td>51-60</td>\n",
       "      <td>351.0</td>\n",
       "      <td>C1</td>\n",
       "      <td>False</td>\n",
       "      <td>True</td>\n",
       "      <td>False</td>\n",
       "      <td>False</td>\n",
       "      <td>True</td>\n",
       "    </tr>\n",
       "    <tr>\n",
       "      <th>98761</th>\n",
       "      <td>1041876</td>\n",
       "      <td>2023-05-16 19:45:48.907</td>\n",
       "      <td>1041876-005</td>\n",
       "      <td>1041876-005-000</td>\n",
       "      <td>2023-05-16 19:45:48.907</td>\n",
       "      <td>Trulicity</td>\n",
       "      <td>F</td>\n",
       "      <td>31-40</td>\n",
       "      <td>283.0</td>\n",
       "      <td>C1</td>\n",
       "      <td>False</td>\n",
       "      <td>True</td>\n",
       "      <td>False</td>\n",
       "      <td>False</td>\n",
       "      <td>True</td>\n",
       "    </tr>\n",
       "  </tbody>\n",
       "</table>\n",
       "<p>98762 rows × 15 columns</p>\n",
       "</div>"
      ],
      "text/plain": [
       "           PID                   ObsDT       PInvID             RxID  \\\n",
       "0      1015641 2023-03-17 15:20:48.692  1015641-000  1015641-000-000   \n",
       "1      1026251 2023-09-20 23:28:54.737  1026251-000  1026251-000-000   \n",
       "2      1001401 2023-10-28 00:58:29.134  1001401-031  1001401-031-001   \n",
       "3      1019852 2023-09-01 21:12:22.742  1019852-020  1019852-020-000   \n",
       "4      1045643 2023-08-23 19:38:28.001  1045643-013  1045643-013-000   \n",
       "...        ...                     ...          ...              ...   \n",
       "98757  1027142 2023-10-03 14:14:36.760  1027142-004  1027142-004-000   \n",
       "98758  1021805 2023-07-25 16:33:51.338  1021805-022  1021805-022-000   \n",
       "98759  1020349 2023-10-31 13:14:58.568  1020349-016  1020349-016-001   \n",
       "98760  1045280 2023-03-16 01:35:39.923  1045280-001  1045280-001-000   \n",
       "98761  1041876 2023-05-16 19:45:48.907  1041876-005  1041876-005-000   \n",
       "\n",
       "                           DT  drug_name patient_gender patient_age_bucket  \\\n",
       "0     2023-03-17 15:20:48.692  Trulicity              F              51-60   \n",
       "1     2023-09-20 23:28:54.737  Trulicity              F              31-40   \n",
       "2     2023-10-28 00:58:29.134  Trulicity              F                81+   \n",
       "3     2023-09-01 21:12:22.742  Trulicity              M              51-60   \n",
       "4     2023-08-23 19:38:28.001  Trulicity              F              41-50   \n",
       "...                       ...        ...            ...                ...   \n",
       "98757 2023-10-03 14:14:36.760  Trulicity              F              71-80   \n",
       "98758 2023-07-25 16:33:51.338  Trulicity              M              61-70   \n",
       "98759 2023-10-31 13:14:58.568  Trulicity              M              51-60   \n",
       "98760 2023-03-16 01:35:39.923  Trulicity              M              51-60   \n",
       "98761 2023-05-16 19:45:48.907  Trulicity              F              31-40   \n",
       "\n",
       "       patient_zipcode_3 cohort    Out    In   Test  Valid  Train  \n",
       "0                  350.0     C1  False  True  False  False   True  \n",
       "1                  606.0     C1  False  True  False  False   True  \n",
       "2                  856.0     C1  False  True   True  False  False  \n",
       "3                  900.0     C1  False  True  False  False   True  \n",
       "4                  741.0     C1  False  True  False  False   True  \n",
       "...                  ...    ...    ...   ...    ...    ...    ...  \n",
       "98757              147.0     C1  False  True  False  False   True  \n",
       "98758              334.0     C1  False  True  False  False   True  \n",
       "98759              287.0     C1  False  True   True  False  False  \n",
       "98760              351.0     C1  False  True  False  False   True  \n",
       "98761              283.0     C1  False  True  False  False   True  \n",
       "\n",
       "[98762 rows x 15 columns]"
      ]
     },
     "execution_count": 6,
     "metadata": {},
     "output_type": "execute_result"
    }
   ],
   "source": [
    "from recfldtkn.pipeline_model import assign_caseSplitTag_to_dsCaseLearning\n",
    "\n",
    "\n",
    "df_case = assign_caseSplitTag_to_dsCaseLearning(df_case, \n",
    "                                                RANDOM_SEED, \n",
    "                                                downsample_ratio, out_ratio, \n",
    "                                                test_ratio, valid_ratio)\n",
    "df_case "
   ]
  },
  {
   "cell_type": "code",
   "execution_count": 7,
   "id": "c276abc1",
   "metadata": {},
   "outputs": [],
   "source": [
    "###############################\n",
    "# df_case = df_case.sample(2000)\n",
    "###############################"
   ]
  },
  {
   "cell_type": "code",
   "execution_count": 8,
   "id": "e54cc490",
   "metadata": {},
   "outputs": [
    {
     "data": {
      "text/plain": [
       "(98762, 15)"
      ]
     },
     "execution_count": 8,
     "metadata": {},
     "output_type": "execute_result"
    }
   ],
   "source": [
    "df_case_learning = df_case \n",
    "df_case_learning.shape"
   ]
  },
  {
   "cell_type": "markdown",
   "id": "30297381",
   "metadata": {},
   "source": [
    "# Step 2: TrainSet and EvalSets"
   ]
  },
  {
   "cell_type": "code",
   "execution_count": 9,
   "id": "3b0f18fc",
   "metadata": {},
   "outputs": [],
   "source": [
    "# To Update this part in the future. \n",
    "def get_dfset_from_SetName(df_dsmp, SetName, case_id_columns, SubGroupFilterMethod):\n",
    "    Split, SubGroup = SetName.split(':')\n",
    "    for i in ['In', 'Out', 'Train', 'Valid', 'Test']:\n",
    "        if i.lower() in Split.lower():\n",
    "            df_dsmp = df_dsmp[df_dsmp[i]].reset_index(drop = True)\n",
    "    df_set = df_dsmp[case_id_columns].reset_index(drop = True)\n",
    "    if SubGroup.lower() != 'all':\n",
    "        pass\n",
    "    return df_set"
   ]
  },
  {
   "cell_type": "code",
   "execution_count": 10,
   "id": "17e45fe7",
   "metadata": {},
   "outputs": [],
   "source": [
    "#########################\n",
    "TrainSetName = 'in_train:all'\n",
    "EvalSetNames = ['in_valid:all', 'in_test:all']\n",
    "#########################"
   ]
  },
  {
   "cell_type": "code",
   "execution_count": 11,
   "id": "2692a264",
   "metadata": {},
   "outputs": [
    {
     "name": "stdout",
     "output_type": "stream",
     "text": [
      "in_train:all 81575\n",
      "in_valid:all 9238\n",
      "in_test:all 7949\n"
     ]
    },
    {
     "data": {
      "text/plain": [
       "DatasetDict({\n",
       "    in_train:all: Dataset({\n",
       "        features: ['PID', 'ObsDT', 'PInvID', 'RxID'],\n",
       "        num_rows: 81575\n",
       "    })\n",
       "    in_valid:all: Dataset({\n",
       "        features: ['PID', 'ObsDT', 'PInvID', 'RxID'],\n",
       "        num_rows: 9238\n",
       "    })\n",
       "    in_test:all: Dataset({\n",
       "        features: ['PID', 'ObsDT', 'PInvID', 'RxID'],\n",
       "        num_rows: 7949\n",
       "    })\n",
       "})"
      ]
     },
     "execution_count": 11,
     "metadata": {},
     "output_type": "execute_result"
    }
   ],
   "source": [
    "df_case = df_case_learning\n",
    "case_id_columns = Trigger_Tools['case_id_columns']\n",
    "SubGroupFilterMethod = {}\n",
    "d = {}\n",
    "for SetName in [TrainSetName] + EvalSetNames:\n",
    "    df_set = get_dfset_from_SetName(df_case, SetName, case_id_columns, SubGroupFilterMethod)\n",
    "    ds_set = datasets.Dataset.from_pandas(df_set)\n",
    "    print(SetName, len(df_set))\n",
    "    d[SetName] = ds_set\n",
    "ds_case_dict = datasets.DatasetDict(d)\n",
    "ds_case_dict"
   ]
  },
  {
   "cell_type": "markdown",
   "id": "587b444a",
   "metadata": {},
   "source": [
    "# Step 3: Input and Output CF"
   ]
  },
  {
   "cell_type": "code",
   "execution_count": 12,
   "id": "3f8b2d9b",
   "metadata": {},
   "outputs": [],
   "source": [
    "from recfldtkn.observer import get_CaseFeatInfo_for_a_CaseFeatName\n",
    "from recfldtkn.observer import CaseFeatureTransformer\n",
    "from recfldtkn.observer import get_fn_case_GammaFullInfo"
   ]
  },
  {
   "cell_type": "code",
   "execution_count": 13,
   "id": "cb4f0b2b",
   "metadata": {},
   "outputs": [],
   "source": [
    "# in learning phase.\n",
    "RecName_to_dsRec = {}\n",
    "RecName_to_dsRecInfo = {}\n",
    "use_CF_from_disk = True\n",
    "use_CO_from_disk = True"
   ]
  },
  {
   "cell_type": "code",
   "execution_count": 14,
   "id": "06241c1d",
   "metadata": {},
   "outputs": [],
   "source": [
    "Gamma_Configs = {\n",
    "    'InputX': { \n",
    "        'case_observations': [\n",
    "            'PDemo:ro.P-Demo_ct.InCaseTkn',\n",
    "            'PZip3Demo:ro.P-Zip3DemoNume_ct.InCaseTkn',\n",
    "            'PZip3Econ:ro.P-Zip3EconNume_ct.InCaseTkn',\n",
    "            'PZip3House:ro.P-Zip3HousingNume_ct.InCaseTkn',\n",
    "            'PZip3Social:ro.P-Zip3SocialNume_ct.InCaseTkn',\n",
    "            'RxInCase1:ro.Rx-InObs-CmpCate_ct.InCaseTkn',\n",
    "            'RxInCase2:ro.Rx-InObs-InsCate_ct.InCaseTkn',\n",
    "            'RxInCase4:ro.Rx-InObs-QuantNume_ct.InCaseTkn',\n",
    "            'RxInCase5:ro.Rx-InObs-ServiceCate_ct.InCaseTkn',\n",
    "            'RxInCase6:ro.Rx-InObs-SysCate_ct.InCaseTkn',\n",
    "            'RxInObsNum:ro.Rx-InObs_ct.RecNum',\n",
    "        ], \n",
    "        'name_CaseGamma': 'InputCatCOs',\n",
    "    },\n",
    "    'OutputY': {\n",
    "        'case_observations': [\n",
    "            'FutEduTknY:ro.EgmEdu-Af1W_ct.FutRxEduTkn',  \n",
    "        ],\n",
    "        'name_CaseGamma': 'LabelBinaryRxBtn',\n",
    "    }\n",
    "}"
   ]
  },
  {
   "cell_type": "code",
   "execution_count": 15,
   "id": "a498e5e2",
   "metadata": {},
   "outputs": [
    {
     "name": "stderr",
     "output_type": "stream",
     "text": [
      "[INFO:2024-03-03 02:40:00,072:(530699192.py@9 __main__)]: ============ CFType: InputX =============\n",
      "[INFO:2024-03-03 02:40:03,105:(observer.py@892 recfldtkn.observer)]: provided casefeat_ids num: 98762\n",
      "[INFO:2024-03-03 02:40:03,866:(observer.py@582 recfldtkn.observer)]: provided caseobs_ids num: 45173\n",
      "[INFO:2024-03-03 02:40:04,546:(observer.py@582 recfldtkn.observer)]: provided caseobs_ids num: 45173\n",
      "[INFO:2024-03-03 02:40:05,269:(observer.py@582 recfldtkn.observer)]: provided caseobs_ids num: 45173\n",
      "[INFO:2024-03-03 02:40:05,970:(observer.py@582 recfldtkn.observer)]: provided caseobs_ids num: 45173\n",
      "[INFO:2024-03-03 02:40:06,670:(observer.py@582 recfldtkn.observer)]: provided caseobs_ids num: 45173\n",
      "[INFO:2024-03-03 02:40:07,362:(observer.py@582 recfldtkn.observer)]: provided caseobs_ids num: 98762\n",
      "[INFO:2024-03-03 02:40:08,027:(observer.py@582 recfldtkn.observer)]: provided caseobs_ids num: 98762\n",
      "[INFO:2024-03-03 02:40:08,701:(observer.py@582 recfldtkn.observer)]: provided caseobs_ids num: 98762\n",
      "[INFO:2024-03-03 02:40:09,482:(observer.py@582 recfldtkn.observer)]: provided caseobs_ids num: 98762\n",
      "[INFO:2024-03-03 02:40:10,252:(observer.py@582 recfldtkn.observer)]: provided caseobs_ids num: 98762\n",
      "[INFO:2024-03-03 02:40:11,333:(observer.py@582 recfldtkn.observer)]: provided caseobs_ids num: 97026\n",
      "[INFO:2024-03-03 02:40:11,429:(530699192.py@22 __main__)]: ----- splitname: in_train:all -----\n"
     ]
    },
    {
     "data": {
      "application/vnd.jupyter.widget-view+json": {
       "model_id": "e63d0916c5b9425a9b360fc7e544eab5",
       "version_major": 2,
       "version_minor": 0
      },
      "text/plain": [
       "Map:   0%|          | 0/81575 [00:00<?, ? examples/s]"
      ]
     },
     "metadata": {},
     "output_type": "display_data"
    },
    {
     "name": "stderr",
     "output_type": "stream",
     "text": [
      "[INFO:2024-03-03 02:40:28,749:(530699192.py@22 __main__)]: ----- splitname: in_valid:all -----\n"
     ]
    },
    {
     "data": {
      "application/vnd.jupyter.widget-view+json": {
       "model_id": "f5a1e54b11f24b8f939f06538bc0c260",
       "version_major": 2,
       "version_minor": 0
      },
      "text/plain": [
       "Map:   0%|          | 0/9238 [00:00<?, ? examples/s]"
      ]
     },
     "metadata": {},
     "output_type": "display_data"
    },
    {
     "name": "stderr",
     "output_type": "stream",
     "text": [
      "[INFO:2024-03-03 02:40:30,628:(530699192.py@22 __main__)]: ----- splitname: in_test:all -----\n"
     ]
    },
    {
     "data": {
      "application/vnd.jupyter.widget-view+json": {
       "model_id": "045c95d827754ab4ab6a5c0fb65e7c85",
       "version_major": 2,
       "version_minor": 0
      },
      "text/plain": [
       "Map:   0%|          | 0/7949 [00:00<?, ? examples/s]"
      ]
     },
     "metadata": {},
     "output_type": "display_data"
    },
    {
     "name": "stderr",
     "output_type": "stream",
     "text": [
      "[INFO:2024-03-03 02:40:32,250:(530699192.py@9 __main__)]: ============ CFType: OutputY =============\n"
     ]
    },
    {
     "name": "stdout",
     "output_type": "stream",
     "text": [
      "0\n"
     ]
    },
    {
     "name": "stderr",
     "output_type": "stream",
     "text": [
      "[INFO:2024-03-03 02:40:33,448:(observer.py@892 recfldtkn.observer)]: provided casefeat_ids num: 98762\n",
      "[INFO:2024-03-03 02:40:34,761:(observer.py@582 recfldtkn.observer)]: provided caseobs_ids num: 98762\n",
      "[INFO:2024-03-03 02:40:34,917:(530699192.py@22 __main__)]: ----- splitname: in_train:all -----\n"
     ]
    },
    {
     "data": {
      "application/vnd.jupyter.widget-view+json": {
       "model_id": "b6fdc611dff844399bb1ded7b61005ca",
       "version_major": 2,
       "version_minor": 0
      },
      "text/plain": [
       "Map:   0%|          | 0/81575 [00:00<?, ? examples/s]"
      ]
     },
     "metadata": {},
     "output_type": "display_data"
    },
    {
     "name": "stderr",
     "output_type": "stream",
     "text": [
      "[INFO:2024-03-03 02:40:51,276:(530699192.py@22 __main__)]: ----- splitname: in_valid:all -----\n"
     ]
    },
    {
     "data": {
      "application/vnd.jupyter.widget-view+json": {
       "model_id": "ded6a638ed7c412a808b3576c9cd0630",
       "version_major": 2,
       "version_minor": 0
      },
      "text/plain": [
       "Map:   0%|          | 0/9238 [00:00<?, ? examples/s]"
      ]
     },
     "metadata": {},
     "output_type": "display_data"
    },
    {
     "name": "stderr",
     "output_type": "stream",
     "text": [
      "[INFO:2024-03-03 02:40:53,121:(530699192.py@22 __main__)]: ----- splitname: in_test:all -----\n"
     ]
    },
    {
     "data": {
      "application/vnd.jupyter.widget-view+json": {
       "model_id": "cb5f89518c7d484b8ff53b9af1136388",
       "version_major": 2,
       "version_minor": 0
      },
      "text/plain": [
       "Map:   0%|          | 0/7949 [00:00<?, ? examples/s]"
      ]
     },
     "metadata": {},
     "output_type": "display_data"
    },
    {
     "name": "stdout",
     "output_type": "stream",
     "text": [
      "0\n"
     ]
    }
   ],
   "source": [
    "from recfldtkn.observer import get_fn_case_GammaFullInfo\n",
    "\n",
    "\n",
    "CFType_to_CaseFeatInfo = {}\n",
    "for CFType, Gamma_Config in Gamma_Configs.items():\n",
    "\n",
    "    if use_inference == True and 'output' in CFType.lower(): continue \n",
    "    \n",
    "    logger.info(f'============ CFType: {CFType} =============')\n",
    "    CaseFeatInfo = get_fn_case_GammaFullInfo(Gamma_Config, \n",
    "                                             base_config, \n",
    "                                             RecName_to_dsRec, \n",
    "                                             RecName_to_dsRecInfo, \n",
    "                                             df_case_learning,\n",
    "                                             use_CF_from_disk,\n",
    "                                             use_CO_from_disk)\n",
    "    CFType_to_CaseFeatInfo[CFType] = CaseFeatInfo\n",
    "    FnCaseFeatGamma = CaseFeatInfo['FnCaseFeatGamma']\n",
    "    batch_size = CaseFeatInfo.get('batch_size', 1000)\n",
    "    CaseFeatName = CaseFeatInfo['CaseFeatName']\n",
    "    for splitname, ds_caseset in ds_case_dict.items():\n",
    "        logger.info(f'----- splitname: {splitname} -----')\n",
    "        ds_caseset = ds_caseset.map(FnCaseFeatGamma, \n",
    "                                    batched = True, \n",
    "                                    batch_size= batch_size, \n",
    "                                    load_from_cache_file = False, \n",
    "                                    new_fingerprint = CaseFeatName + splitname.replace(':', '_'))\n",
    "        ds_case_dict[splitname] = ds_caseset\n",
    "        # logger.info(ds_caseset)\n",
    "    ######## save to cache file #########\n",
    "    # print(len(FnCaseFeatGamma.new_CFs))\n",
    "    if len(FnCaseFeatGamma.new_CFs) > 0 and use_CF_from_disk == True:\n",
    "        logger.info(f'----- Save CF {CaseFeatName}: to Cache File -----')\n",
    "        FnCaseFeatGamma.save_new_CFs_to_disk()\n",
    "    \n",
    "    for COName, FnCaseObsPhi in FnCaseFeatGamma.COName_to_FnCaseObsPhi.items():\n",
    "        if len(FnCaseObsPhi.new_COs) > 0 and use_CO_from_disk == True:\n",
    "            logger.info(f'----- Save CO {COName}: to Cache File -----')\n",
    "            FnCaseObsPhi.save_new_COs_to_disk()"
   ]
  },
  {
   "cell_type": "code",
   "execution_count": 16,
   "id": "641757b2",
   "metadata": {},
   "outputs": [
    {
     "data": {
      "text/plain": [
       "DatasetDict({\n",
       "    in_train:all: Dataset({\n",
       "        features: ['PID', 'ObsDT', 'PInvID', 'RxID', 'input_ids', 'input_wgts', 'labels', 'label_wgts'],\n",
       "        num_rows: 81575\n",
       "    })\n",
       "    in_valid:all: Dataset({\n",
       "        features: ['PID', 'ObsDT', 'PInvID', 'RxID', 'input_ids', 'input_wgts', 'labels', 'label_wgts'],\n",
       "        num_rows: 9238\n",
       "    })\n",
       "    in_test:all: Dataset({\n",
       "        features: ['PID', 'ObsDT', 'PInvID', 'RxID', 'input_ids', 'input_wgts', 'labels', 'label_wgts'],\n",
       "        num_rows: 7949\n",
       "    })\n",
       "})"
      ]
     },
     "execution_count": 16,
     "metadata": {},
     "output_type": "execute_result"
    }
   ],
   "source": [
    "ds_case_dict"
   ]
  },
  {
   "cell_type": "markdown",
   "id": "a096c80b",
   "metadata": {},
   "source": [
    "# Step 4: Entry - Put DP to Model"
   ]
  },
  {
   "cell_type": "code",
   "execution_count": 17,
   "id": "0aa66156",
   "metadata": {},
   "outputs": [
    {
     "name": "stdout",
     "output_type": "stream",
     "text": [
      "../pipeline/fn_learning/get_MLSparseMatrix_return_X.py\n"
     ]
    }
   ],
   "source": [
    "#############################################\n",
    "entry_method_for_input = 'get_MLSparseMatrix_return_X'\n",
    "#############################################\n",
    "\n",
    "\n",
    "import inspect\n",
    "from recfldtkn.loadtools import convert_variables_to_pystirng\n",
    "\n",
    "def fn_entry_method_for_input(dataset, CaseFeatInfo):\n",
    "    from scipy.sparse import csr_matrix\n",
    "    import itertools\n",
    "    CF_vocab_input = CaseFeatInfo['CF_vocab']\n",
    "    tid2tkn = CF_vocab_input['input_ids']['tid2tkn']\n",
    "    num_features = len(tid2tkn)\n",
    "    col_indices = list(itertools.chain(*dataset['input_ids']))\n",
    "    row_indices = list(itertools.chain(*[[i] * len(x) \n",
    "                                         for i, x in enumerate(dataset['input_ids'])]))\n",
    "    data = list(itertools.chain(*dataset['input_wgts']))\n",
    "    sparse_matrix_value = (data, (row_indices, col_indices))\n",
    "    shape = (len(dataset), num_features)\n",
    "    X = csr_matrix(sparse_matrix_value, shape=shape)\n",
    "    return X\n",
    "\n",
    "fn_entry_method_for_input.fn_string = inspect.getsource(fn_entry_method_for_input)\n",
    "\n",
    "\n",
    "prefix = ['import pandas as pd', 'import numpy as np']\n",
    "fn_variables = [fn_entry_method_for_input]\n",
    "pycode = convert_variables_to_pystirng(fn_variables = fn_variables, prefix = prefix)\n",
    "pypath = os.path.join(SPACE['CODE_FN'], 'fn_learning', f'{entry_method_for_input}.py')\n",
    "print(pypath)\n",
    "if not os.path.exists(os.path.dirname(pypath)): os.makedirs(os.path.dirname(pypath))\n",
    "with open(pypath, 'w') as file: file.write(pycode)"
   ]
  },
  {
   "cell_type": "code",
   "execution_count": 18,
   "id": "918535b9",
   "metadata": {},
   "outputs": [
    {
     "name": "stdout",
     "output_type": "stream",
     "text": [
      "../pipeline/fn_learning/get_OutputBinaryLabel_return_Y.py\n"
     ]
    }
   ],
   "source": [
    "#############################################\n",
    "entry_method_for_output = 'get_OutputBinaryLabel_return_Y'\n",
    "#############################################\n",
    "\n",
    "def fn_entry_method_for_output(dataset, CaseFeatInfo):\n",
    "    import numpy as np\n",
    "    Y_id = 0\n",
    "    CF_vocab_output = CaseFeatInfo['CF_vocab']\n",
    "    # Y_label = CF_vocab_output['labels']['tid2tkn'][Y_id]\n",
    "    assert len(CF_vocab_output['labels']['tid2tkn']) == 1\n",
    "    labels_wgts = dataset['label_wgts']\n",
    "    labels = np.array([i[Y_id] for i in labels_wgts])\n",
    "    return labels\n",
    "\n",
    "\n",
    "fn_entry_method_for_output.fn_string = inspect.getsource(fn_entry_method_for_output)\n",
    "\n",
    "prefix = ['import pandas as pd', 'import numpy as np']\n",
    "fn_variables = [fn_entry_method_for_output]\n",
    "pycode = convert_variables_to_pystirng(fn_variables = fn_variables, prefix = prefix)\n",
    "pypath = os.path.join(SPACE['CODE_FN'], 'fn_learning', f'{entry_method_for_output}.py')\n",
    "print(pypath)\n",
    "if not os.path.exists(os.path.dirname(pypath)): os.makedirs(os.path.dirname(pypath))\n",
    "with open(pypath, 'w') as file: file.write(pycode)"
   ]
  },
  {
   "cell_type": "code",
   "execution_count": 19,
   "id": "f12bccf1",
   "metadata": {},
   "outputs": [
    {
     "name": "stdout",
     "output_type": "stream",
     "text": [
      "../pipeline/fn_learning/tuple_XMatrix_and_YMatrix.py\n"
     ]
    }
   ],
   "source": [
    "#############################################\n",
    "entry_method_for_finaldata = 'tuple_XMatrix_and_YMatrix'\n",
    "#############################################\n",
    "\n",
    "def fn_entry_method_for_finaldata(dataset, \n",
    "                                  CFType_to_CaseFeatInfo,\n",
    "                                  fn_entry_method_for_input, \n",
    "                                  fn_entry_method_for_output = None,\n",
    "                                  use_inference = False, \n",
    "                                  ):\n",
    "    CaseFeatInfo = CFType_to_CaseFeatInfo['InputX']\n",
    "    X = fn_entry_method_for_input(dataset, CaseFeatInfo)\n",
    "\n",
    "    if use_inference == False:\n",
    "        CaseFeatInfo = CFType_to_CaseFeatInfo['OutputY']\n",
    "        Y = fn_entry_method_for_output(dataset, CaseFeatInfo)\n",
    "        results = {'X': X, 'Y': Y}\n",
    "    else:\n",
    "        results = {'X': X}\n",
    "    return results\n",
    "\n",
    "\n",
    "fn_entry_method_for_finaldata.fn_string = inspect.getsource(fn_entry_method_for_finaldata)\n",
    "\n",
    "prefix = ['import pandas as pd', 'import numpy as np']\n",
    "fn_variables = [fn_entry_method_for_finaldata]\n",
    "pycode = convert_variables_to_pystirng(fn_variables = fn_variables, prefix = prefix)\n",
    "pypath = os.path.join(SPACE['CODE_FN'], 'fn_learning', f'{entry_method_for_finaldata}.py')\n",
    "print(pypath)\n",
    "if not os.path.exists(os.path.dirname(pypath)): os.makedirs(os.path.dirname(pypath))\n",
    "with open(pypath, 'w') as file: file.write(pycode)"
   ]
  },
  {
   "cell_type": "code",
   "execution_count": 20,
   "id": "fb8656af",
   "metadata": {},
   "outputs": [
    {
     "data": {
      "text/plain": [
       "{'entry_method_for_input': 'get_MLSparseMatrix_return_X',\n",
       " 'entry_method_for_output': 'get_OutputBinaryLabel_return_Y',\n",
       " 'entry_method_for_finaldata': 'tuple_XMatrix_and_YMatrix'}"
      ]
     },
     "execution_count": 20,
     "metadata": {},
     "output_type": "execute_result"
    }
   ],
   "source": [
    "entry_args = {\n",
    "    'entry_method_for_input': entry_method_for_input, \n",
    "    'entry_method_for_output': entry_method_for_output,\n",
    "    'entry_method_for_finaldata': entry_method_for_finaldata,\n",
    "}\n",
    "\n",
    "entry_args"
   ]
  },
  {
   "cell_type": "code",
   "execution_count": 21,
   "id": "cc6d701a",
   "metadata": {},
   "outputs": [],
   "source": [
    "from recfldtkn.loadtools import fetch_entry_tools, load_module_variables\n",
    "\n",
    "def fetch_entry_tools(entry_args, SPACE):\n",
    "    tools = {}\n",
    "    for entry_name, entry_method in entry_args.items():\n",
    "        pypath = os.path.join(SPACE['CODE_FN'], 'fn_learning', f'{entry_method}.py')\n",
    "        module = load_module_variables(pypath)\n",
    "        # print([i for i in module.MetaDict])\n",
    "        tools[entry_name] = module.MetaDict['fn_' + entry_name]\n",
    "    return tools\n",
    "\n",
    "Entry_Tools = fetch_entry_tools(entry_args, SPACE)\n",
    "fn_entry_method_for_input = Entry_Tools['entry_method_for_input']\n",
    "fn_entry_method_for_output = Entry_Tools['entry_method_for_output']\n",
    "fn_entry_method_for_finaldata = Entry_Tools['entry_method_for_finaldata']"
   ]
  },
  {
   "cell_type": "code",
   "execution_count": 22,
   "id": "fc646c67",
   "metadata": {},
   "outputs": [
    {
     "data": {
      "text/plain": [
       "False"
      ]
     },
     "execution_count": 22,
     "metadata": {},
     "output_type": "execute_result"
    }
   ],
   "source": [
    "use_inference"
   ]
  },
  {
   "cell_type": "code",
   "execution_count": 23,
   "id": "e1c9bddb",
   "metadata": {},
   "outputs": [],
   "source": [
    "dataset = ds_case_dict[TrainSetName]\n",
    "result = fn_entry_method_for_finaldata(dataset, \n",
    "                                       CFType_to_CaseFeatInfo,\n",
    "                                       fn_entry_method_for_input, \n",
    "                                       fn_entry_method_for_output,\n",
    "                                       use_inference)\n",
    "\n",
    "X, Y = result['X'], result['Y']"
   ]
  },
  {
   "cell_type": "code",
   "execution_count": 24,
   "id": "1a85630a",
   "metadata": {},
   "outputs": [
    {
     "data": {
      "text/plain": [
       "0.027312289304321176"
      ]
     },
     "execution_count": 24,
     "metadata": {},
     "output_type": "execute_result"
    }
   ],
   "source": [
    "Y.mean()"
   ]
  },
  {
   "cell_type": "code",
   "execution_count": 25,
   "id": "945459fb",
   "metadata": {},
   "outputs": [
    {
     "data": {
      "text/plain": [
       "{'in_train:all': {'X': <81575x445 sparse matrix of type '<class 'numpy.float64'>'\n",
       "  \twith 11048447 stored elements in Compressed Sparse Row format>,\n",
       "  'Y': array([0., 0., 0., ..., 0., 0., 0.])},\n",
       " 'in_valid:all': {'X': <9238x445 sparse matrix of type '<class 'numpy.float64'>'\n",
       "  \twith 1250611 stored elements in Compressed Sparse Row format>,\n",
       "  'Y': array([0., 0., 0., ..., 0., 0., 0.])},\n",
       " 'in_test:all': {'X': <7949x445 sparse matrix of type '<class 'numpy.float64'>'\n",
       "  \twith 1077529 stored elements in Compressed Sparse Row format>,\n",
       "  'Y': array([0., 0., 0., ..., 0., 0., 0.])}}"
      ]
     },
     "execution_count": 25,
     "metadata": {},
     "output_type": "execute_result"
    }
   ],
   "source": [
    "import xgboost as xgb\n",
    "\n",
    "ds_case_final_dict = {}\n",
    "for split, dataset in ds_case_dict.items():\n",
    "    dataset = fn_entry_method_for_finaldata(dataset, \n",
    "                                           CFType_to_CaseFeatInfo,\n",
    "                                           fn_entry_method_for_input, \n",
    "                                           fn_entry_method_for_output,\n",
    "                                           use_inference)\n",
    "    ds_case_final_dict[split] = dataset\n",
    "\n",
    "ds_case_final_dict"
   ]
  },
  {
   "cell_type": "markdown",
   "id": "7fc3ab3d",
   "metadata": {},
   "source": [
    "# Step 5: Train Models"
   ]
  },
  {
   "cell_type": "code",
   "execution_count": 26,
   "id": "039d5157",
   "metadata": {},
   "outputs": [],
   "source": [
    "######################\n",
    "model_args = {\n",
    "    'algorithm': 'XGBClassifier',\n",
    "    'random_state': 42, \n",
    "    'max_depth': 5,\n",
    "}\n",
    "######################\n",
    "\n",
    "####################\n",
    "training_args = {\n",
    "    'n_estimators': 500, # num_boost_round\n",
    "    'learning_rate': 0.1, # eta\n",
    "    'objective': 'binary:logistic', \n",
    "    'early_stopping_rounds': 10,\n",
    "    'eval_metric': 'logloss',  \n",
    "}\n",
    "####################"
   ]
  },
  {
   "cell_type": "code",
   "execution_count": 27,
   "id": "cd550258",
   "metadata": {},
   "outputs": [
    {
     "name": "stdout",
     "output_type": "stream",
     "text": [
      "['in_train:all', 'in_valid:all', 'in_test:all']\n",
      "[0]\tvalidation_0-logloss:0.60759\tvalidation_1-logloss:0.60743\tvalidation_2-logloss:0.59846\n",
      "[1]\tvalidation_0-logloss:0.53757\tvalidation_1-logloss:0.53731\tvalidation_2-logloss:0.52090\n",
      "[2]\tvalidation_0-logloss:0.47931\tvalidation_1-logloss:0.47895\tvalidation_2-logloss:0.45622\n",
      "[3]\tvalidation_0-logloss:0.43020\tvalidation_1-logloss:0.42971\tvalidation_2-logloss:0.40155\n",
      "[4]\tvalidation_0-logloss:0.38842\tvalidation_1-logloss:0.38784\tvalidation_2-logloss:0.35485\n",
      "[5]\tvalidation_0-logloss:0.35261\tvalidation_1-logloss:0.35190\tvalidation_2-logloss:0.31462\n",
      "[6]\tvalidation_0-logloss:0.32172\tvalidation_1-logloss:0.32095\tvalidation_2-logloss:0.27973\n",
      "[7]\tvalidation_0-logloss:0.29494\tvalidation_1-logloss:0.29410\tvalidation_2-logloss:0.24931\n",
      "[8]\tvalidation_0-logloss:0.27163\tvalidation_1-logloss:0.27077\tvalidation_2-logloss:0.22263\n",
      "[9]\tvalidation_0-logloss:0.25128\tvalidation_1-logloss:0.25035\tvalidation_2-logloss:0.19917\n",
      "[10]\tvalidation_0-logloss:0.23345\tvalidation_1-logloss:0.23244\tvalidation_2-logloss:0.17847\n",
      "[11]\tvalidation_0-logloss:0.21780\tvalidation_1-logloss:0.21678\tvalidation_2-logloss:0.16014\n",
      "[12]\tvalidation_0-logloss:0.20405\tvalidation_1-logloss:0.20296\tvalidation_2-logloss:0.14387\n",
      "[13]\tvalidation_0-logloss:0.19193\tvalidation_1-logloss:0.19085\tvalidation_2-logloss:0.12940\n",
      "[14]\tvalidation_0-logloss:0.18123\tvalidation_1-logloss:0.18015\tvalidation_2-logloss:0.11650\n",
      "[15]\tvalidation_0-logloss:0.17177\tvalidation_1-logloss:0.17072\tvalidation_2-logloss:0.10500\n",
      "[16]\tvalidation_0-logloss:0.16342\tvalidation_1-logloss:0.16234\tvalidation_2-logloss:0.09470\n",
      "[17]\tvalidation_0-logloss:0.15602\tvalidation_1-logloss:0.15498\tvalidation_2-logloss:0.08549\n",
      "[18]\tvalidation_0-logloss:0.14947\tvalidation_1-logloss:0.14842\tvalidation_2-logloss:0.07723\n",
      "[19]\tvalidation_0-logloss:0.14367\tvalidation_1-logloss:0.14267\tvalidation_2-logloss:0.06985\n",
      "[20]\tvalidation_0-logloss:0.13851\tvalidation_1-logloss:0.13757\tvalidation_2-logloss:0.06320\n",
      "[21]\tvalidation_0-logloss:0.13395\tvalidation_1-logloss:0.13302\tvalidation_2-logloss:0.05723\n",
      "[22]\tvalidation_0-logloss:0.12989\tvalidation_1-logloss:0.12900\tvalidation_2-logloss:0.05187\n",
      "[23]\tvalidation_0-logloss:0.12627\tvalidation_1-logloss:0.12541\tvalidation_2-logloss:0.04704\n",
      "[24]\tvalidation_0-logloss:0.12308\tvalidation_1-logloss:0.12227\tvalidation_2-logloss:0.04270\n",
      "[25]\tvalidation_0-logloss:0.12022\tvalidation_1-logloss:0.11944\tvalidation_2-logloss:0.03879\n",
      "[26]\tvalidation_0-logloss:0.11766\tvalidation_1-logloss:0.11700\tvalidation_2-logloss:0.03526\n",
      "[27]\tvalidation_0-logloss:0.11540\tvalidation_1-logloss:0.11481\tvalidation_2-logloss:0.03208\n",
      "[28]\tvalidation_0-logloss:0.11334\tvalidation_1-logloss:0.11280\tvalidation_2-logloss:0.02921\n",
      "[29]\tvalidation_0-logloss:0.11153\tvalidation_1-logloss:0.11104\tvalidation_2-logloss:0.02661\n",
      "[30]\tvalidation_0-logloss:0.10990\tvalidation_1-logloss:0.10951\tvalidation_2-logloss:0.02425\n",
      "[31]\tvalidation_0-logloss:0.10846\tvalidation_1-logloss:0.10814\tvalidation_2-logloss:0.02213\n",
      "[32]\tvalidation_0-logloss:0.10714\tvalidation_1-logloss:0.10689\tvalidation_2-logloss:0.02020\n",
      "[33]\tvalidation_0-logloss:0.10595\tvalidation_1-logloss:0.10585\tvalidation_2-logloss:0.01848\n",
      "[34]\tvalidation_0-logloss:0.10489\tvalidation_1-logloss:0.10484\tvalidation_2-logloss:0.01691\n",
      "[35]\tvalidation_0-logloss:0.10396\tvalidation_1-logloss:0.10399\tvalidation_2-logloss:0.01548\n",
      "[36]\tvalidation_0-logloss:0.10311\tvalidation_1-logloss:0.10325\tvalidation_2-logloss:0.01418\n",
      "[37]\tvalidation_0-logloss:0.10232\tvalidation_1-logloss:0.10256\tvalidation_2-logloss:0.01303\n",
      "[38]\tvalidation_0-logloss:0.10163\tvalidation_1-logloss:0.10194\tvalidation_2-logloss:0.01197\n",
      "[39]\tvalidation_0-logloss:0.10100\tvalidation_1-logloss:0.10134\tvalidation_2-logloss:0.01101\n",
      "[40]\tvalidation_0-logloss:0.10044\tvalidation_1-logloss:0.10085\tvalidation_2-logloss:0.01014\n",
      "[41]\tvalidation_0-logloss:0.09988\tvalidation_1-logloss:0.10046\tvalidation_2-logloss:0.00936\n",
      "[42]\tvalidation_0-logloss:0.09937\tvalidation_1-logloss:0.10008\tvalidation_2-logloss:0.00868\n",
      "[43]\tvalidation_0-logloss:0.09890\tvalidation_1-logloss:0.09974\tvalidation_2-logloss:0.00805\n",
      "[44]\tvalidation_0-logloss:0.09846\tvalidation_1-logloss:0.09934\tvalidation_2-logloss:0.00749\n",
      "[45]\tvalidation_0-logloss:0.09802\tvalidation_1-logloss:0.09901\tvalidation_2-logloss:0.00698\n",
      "[46]\tvalidation_0-logloss:0.09768\tvalidation_1-logloss:0.09877\tvalidation_2-logloss:0.00651\n",
      "[47]\tvalidation_0-logloss:0.09735\tvalidation_1-logloss:0.09849\tvalidation_2-logloss:0.00608\n",
      "[48]\tvalidation_0-logloss:0.09705\tvalidation_1-logloss:0.09831\tvalidation_2-logloss:0.00571\n",
      "[49]\tvalidation_0-logloss:0.09672\tvalidation_1-logloss:0.09811\tvalidation_2-logloss:0.00537\n",
      "[50]\tvalidation_0-logloss:0.09648\tvalidation_1-logloss:0.09800\tvalidation_2-logloss:0.00504\n",
      "[51]\tvalidation_0-logloss:0.09618\tvalidation_1-logloss:0.09784\tvalidation_2-logloss:0.00476\n",
      "[52]\tvalidation_0-logloss:0.09593\tvalidation_1-logloss:0.09770\tvalidation_2-logloss:0.00451\n",
      "[53]\tvalidation_0-logloss:0.09566\tvalidation_1-logloss:0.09762\tvalidation_2-logloss:0.00428\n",
      "[54]\tvalidation_0-logloss:0.09545\tvalidation_1-logloss:0.09753\tvalidation_2-logloss:0.00408\n",
      "[55]\tvalidation_0-logloss:0.09526\tvalidation_1-logloss:0.09741\tvalidation_2-logloss:0.00389\n",
      "[56]\tvalidation_0-logloss:0.09508\tvalidation_1-logloss:0.09730\tvalidation_2-logloss:0.00373\n",
      "[57]\tvalidation_0-logloss:0.09483\tvalidation_1-logloss:0.09726\tvalidation_2-logloss:0.00356\n",
      "[58]\tvalidation_0-logloss:0.09466\tvalidation_1-logloss:0.09722\tvalidation_2-logloss:0.00341\n",
      "[59]\tvalidation_0-logloss:0.09449\tvalidation_1-logloss:0.09719\tvalidation_2-logloss:0.00327\n",
      "[60]\tvalidation_0-logloss:0.09436\tvalidation_1-logloss:0.09710\tvalidation_2-logloss:0.00316\n",
      "[61]\tvalidation_0-logloss:0.09422\tvalidation_1-logloss:0.09706\tvalidation_2-logloss:0.00304\n",
      "[62]\tvalidation_0-logloss:0.09409\tvalidation_1-logloss:0.09698\tvalidation_2-logloss:0.00294\n",
      "[63]\tvalidation_0-logloss:0.09400\tvalidation_1-logloss:0.09692\tvalidation_2-logloss:0.00284\n",
      "[64]\tvalidation_0-logloss:0.09390\tvalidation_1-logloss:0.09693\tvalidation_2-logloss:0.00277\n",
      "[65]\tvalidation_0-logloss:0.09379\tvalidation_1-logloss:0.09687\tvalidation_2-logloss:0.00270\n",
      "[66]\tvalidation_0-logloss:0.09364\tvalidation_1-logloss:0.09686\tvalidation_2-logloss:0.00264\n",
      "[67]\tvalidation_0-logloss:0.09347\tvalidation_1-logloss:0.09687\tvalidation_2-logloss:0.00259\n",
      "[68]\tvalidation_0-logloss:0.09330\tvalidation_1-logloss:0.09684\tvalidation_2-logloss:0.00253\n",
      "[69]\tvalidation_0-logloss:0.09321\tvalidation_1-logloss:0.09685\tvalidation_2-logloss:0.00246\n",
      "[70]\tvalidation_0-logloss:0.09306\tvalidation_1-logloss:0.09685\tvalidation_2-logloss:0.00242\n",
      "[71]\tvalidation_0-logloss:0.09285\tvalidation_1-logloss:0.09679\tvalidation_2-logloss:0.00240\n",
      "[72]\tvalidation_0-logloss:0.09276\tvalidation_1-logloss:0.09674\tvalidation_2-logloss:0.00237\n",
      "[73]\tvalidation_0-logloss:0.09260\tvalidation_1-logloss:0.09676\tvalidation_2-logloss:0.00234\n",
      "[74]\tvalidation_0-logloss:0.09255\tvalidation_1-logloss:0.09676\tvalidation_2-logloss:0.00233\n",
      "[75]\tvalidation_0-logloss:0.09235\tvalidation_1-logloss:0.09667\tvalidation_2-logloss:0.00231\n",
      "[76]\tvalidation_0-logloss:0.09222\tvalidation_1-logloss:0.09665\tvalidation_2-logloss:0.00231\n",
      "[77]\tvalidation_0-logloss:0.09205\tvalidation_1-logloss:0.09663\tvalidation_2-logloss:0.00231\n",
      "[78]\tvalidation_0-logloss:0.09193\tvalidation_1-logloss:0.09663\tvalidation_2-logloss:0.00230\n",
      "[79]\tvalidation_0-logloss:0.09181\tvalidation_1-logloss:0.09665\tvalidation_2-logloss:0.00230\n",
      "[80]\tvalidation_0-logloss:0.09174\tvalidation_1-logloss:0.09661\tvalidation_2-logloss:0.00228\n",
      "[81]\tvalidation_0-logloss:0.09168\tvalidation_1-logloss:0.09664\tvalidation_2-logloss:0.00229\n",
      "[82]\tvalidation_0-logloss:0.09151\tvalidation_1-logloss:0.09665\tvalidation_2-logloss:0.00229\n",
      "[83]\tvalidation_0-logloss:0.09145\tvalidation_1-logloss:0.09664\tvalidation_2-logloss:0.00228\n",
      "[84]\tvalidation_0-logloss:0.09131\tvalidation_1-logloss:0.09664\tvalidation_2-logloss:0.00228\n",
      "[85]\tvalidation_0-logloss:0.09112\tvalidation_1-logloss:0.09666\tvalidation_2-logloss:0.00226\n",
      "[86]\tvalidation_0-logloss:0.09107\tvalidation_1-logloss:0.09669\tvalidation_2-logloss:0.00226\n",
      "[87]\tvalidation_0-logloss:0.09100\tvalidation_1-logloss:0.09673\tvalidation_2-logloss:0.00224\n",
      "[88]\tvalidation_0-logloss:0.09087\tvalidation_1-logloss:0.09673\tvalidation_2-logloss:0.00223\n",
      "[89]\tvalidation_0-logloss:0.09079\tvalidation_1-logloss:0.09669\tvalidation_2-logloss:0.00223\n",
      "[90]\tvalidation_0-logloss:0.09073\tvalidation_1-logloss:0.09673\tvalidation_2-logloss:0.00223\n",
      "[91]\tvalidation_0-logloss:0.09064\tvalidation_1-logloss:0.09672\tvalidation_2-logloss:0.00222\n",
      "[92]\tvalidation_0-logloss:0.09055\tvalidation_1-logloss:0.09671\tvalidation_2-logloss:0.00220\n",
      "[93]\tvalidation_0-logloss:0.09043\tvalidation_1-logloss:0.09674\tvalidation_2-logloss:0.00220\n",
      "[94]\tvalidation_0-logloss:0.09037\tvalidation_1-logloss:0.09675\tvalidation_2-logloss:0.00219\n",
      "[95]\tvalidation_0-logloss:0.09031\tvalidation_1-logloss:0.09674\tvalidation_2-logloss:0.00219\n",
      "[96]\tvalidation_0-logloss:0.09019\tvalidation_1-logloss:0.09676\tvalidation_2-logloss:0.00219\n",
      "[97]\tvalidation_0-logloss:0.09013\tvalidation_1-logloss:0.09678\tvalidation_2-logloss:0.00219\n",
      "[98]\tvalidation_0-logloss:0.09002\tvalidation_1-logloss:0.09677\tvalidation_2-logloss:0.00218\n",
      "[99]\tvalidation_0-logloss:0.08997\tvalidation_1-logloss:0.09676\tvalidation_2-logloss:0.00215\n",
      "[100]\tvalidation_0-logloss:0.08987\tvalidation_1-logloss:0.09679\tvalidation_2-logloss:0.00215\n",
      "[101]\tvalidation_0-logloss:0.08978\tvalidation_1-logloss:0.09680\tvalidation_2-logloss:0.00214\n",
      "[102]\tvalidation_0-logloss:0.08971\tvalidation_1-logloss:0.09679\tvalidation_2-logloss:0.00214\n",
      "[103]\tvalidation_0-logloss:0.08957\tvalidation_1-logloss:0.09683\tvalidation_2-logloss:0.00212\n",
      "[104]\tvalidation_0-logloss:0.08950\tvalidation_1-logloss:0.09688\tvalidation_2-logloss:0.00212\n",
      "[105]\tvalidation_0-logloss:0.08945\tvalidation_1-logloss:0.09686\tvalidation_2-logloss:0.00212\n",
      "[106]\tvalidation_0-logloss:0.08941\tvalidation_1-logloss:0.09687\tvalidation_2-logloss:0.00213\n",
      "[107]\tvalidation_0-logloss:0.08925\tvalidation_1-logloss:0.09683\tvalidation_2-logloss:0.00211\n",
      "[108]\tvalidation_0-logloss:0.08914\tvalidation_1-logloss:0.09679\tvalidation_2-logloss:0.00210\n",
      "[109]\tvalidation_0-logloss:0.08899\tvalidation_1-logloss:0.09682\tvalidation_2-logloss:0.00210\n",
      "[110]\tvalidation_0-logloss:0.08892\tvalidation_1-logloss:0.09682\tvalidation_2-logloss:0.00210\n",
      "[111]\tvalidation_0-logloss:0.08887\tvalidation_1-logloss:0.09686\tvalidation_2-logloss:0.00210\n",
      "[112]\tvalidation_0-logloss:0.08884\tvalidation_1-logloss:0.09686\tvalidation_2-logloss:0.00210\n",
      "[113]\tvalidation_0-logloss:0.08877\tvalidation_1-logloss:0.09685\tvalidation_2-logloss:0.00209\n",
      "[114]\tvalidation_0-logloss:0.08867\tvalidation_1-logloss:0.09685\tvalidation_2-logloss:0.00209\n",
      "[115]\tvalidation_0-logloss:0.08861\tvalidation_1-logloss:0.09681\tvalidation_2-logloss:0.00209\n",
      "[116]\tvalidation_0-logloss:0.08855\tvalidation_1-logloss:0.09677\tvalidation_2-logloss:0.00209\n",
      "[117]\tvalidation_0-logloss:0.08849\tvalidation_1-logloss:0.09679\tvalidation_2-logloss:0.00208\n",
      "[118]\tvalidation_0-logloss:0.08841\tvalidation_1-logloss:0.09675\tvalidation_2-logloss:0.00208\n",
      "[119]\tvalidation_0-logloss:0.08834\tvalidation_1-logloss:0.09677\tvalidation_2-logloss:0.00208\n",
      "[120]\tvalidation_0-logloss:0.08822\tvalidation_1-logloss:0.09675\tvalidation_2-logloss:0.00208\n",
      "[121]\tvalidation_0-logloss:0.08807\tvalidation_1-logloss:0.09679\tvalidation_2-logloss:0.00208\n",
      "[122]\tvalidation_0-logloss:0.08799\tvalidation_1-logloss:0.09681\tvalidation_2-logloss:0.00207\n",
      "[123]\tvalidation_0-logloss:0.08789\tvalidation_1-logloss:0.09681\tvalidation_2-logloss:0.00207\n",
      "[124]\tvalidation_0-logloss:0.08783\tvalidation_1-logloss:0.09679\tvalidation_2-logloss:0.00207\n",
      "[125]\tvalidation_0-logloss:0.08780\tvalidation_1-logloss:0.09682\tvalidation_2-logloss:0.00206\n",
      "[126]\tvalidation_0-logloss:0.08776\tvalidation_1-logloss:0.09682\tvalidation_2-logloss:0.00206\n",
      "[127]\tvalidation_0-logloss:0.08774\tvalidation_1-logloss:0.09682\tvalidation_2-logloss:0.00205\n",
      "[128]\tvalidation_0-logloss:0.08770\tvalidation_1-logloss:0.09684\tvalidation_2-logloss:0.00206\n",
      "[129]\tvalidation_0-logloss:0.08759\tvalidation_1-logloss:0.09678\tvalidation_2-logloss:0.00205\n",
      "[130]\tvalidation_0-logloss:0.08752\tvalidation_1-logloss:0.09676\tvalidation_2-logloss:0.00205\n",
      "[131]\tvalidation_0-logloss:0.08747\tvalidation_1-logloss:0.09671\tvalidation_2-logloss:0.00206\n",
      "[132]\tvalidation_0-logloss:0.08742\tvalidation_1-logloss:0.09669\tvalidation_2-logloss:0.00205\n",
      "[133]\tvalidation_0-logloss:0.08739\tvalidation_1-logloss:0.09670\tvalidation_2-logloss:0.00205\n",
      "[134]\tvalidation_0-logloss:0.08724\tvalidation_1-logloss:0.09676\tvalidation_2-logloss:0.00206\n",
      "[135]\tvalidation_0-logloss:0.08707\tvalidation_1-logloss:0.09677\tvalidation_2-logloss:0.00206\n",
      "[136]\tvalidation_0-logloss:0.08696\tvalidation_1-logloss:0.09672\tvalidation_2-logloss:0.00206\n",
      "[137]\tvalidation_0-logloss:0.08692\tvalidation_1-logloss:0.09670\tvalidation_2-logloss:0.00205\n",
      "[138]\tvalidation_0-logloss:0.08686\tvalidation_1-logloss:0.09668\tvalidation_2-logloss:0.00205\n"
     ]
    },
    {
     "data": {
      "text/html": [
       "<style>#sk-container-id-1 {color: black;background-color: white;}#sk-container-id-1 pre{padding: 0;}#sk-container-id-1 div.sk-toggleable {background-color: white;}#sk-container-id-1 label.sk-toggleable__label {cursor: pointer;display: block;width: 100%;margin-bottom: 0;padding: 0.3em;box-sizing: border-box;text-align: center;}#sk-container-id-1 label.sk-toggleable__label-arrow:before {content: \"▸\";float: left;margin-right: 0.25em;color: #696969;}#sk-container-id-1 label.sk-toggleable__label-arrow:hover:before {color: black;}#sk-container-id-1 div.sk-estimator:hover label.sk-toggleable__label-arrow:before {color: black;}#sk-container-id-1 div.sk-toggleable__content {max-height: 0;max-width: 0;overflow: hidden;text-align: left;background-color: #f0f8ff;}#sk-container-id-1 div.sk-toggleable__content pre {margin: 0.2em;color: black;border-radius: 0.25em;background-color: #f0f8ff;}#sk-container-id-1 input.sk-toggleable__control:checked~div.sk-toggleable__content {max-height: 200px;max-width: 100%;overflow: auto;}#sk-container-id-1 input.sk-toggleable__control:checked~label.sk-toggleable__label-arrow:before {content: \"▾\";}#sk-container-id-1 div.sk-estimator input.sk-toggleable__control:checked~label.sk-toggleable__label {background-color: #d4ebff;}#sk-container-id-1 div.sk-label input.sk-toggleable__control:checked~label.sk-toggleable__label {background-color: #d4ebff;}#sk-container-id-1 input.sk-hidden--visually {border: 0;clip: rect(1px 1px 1px 1px);clip: rect(1px, 1px, 1px, 1px);height: 1px;margin: -1px;overflow: hidden;padding: 0;position: absolute;width: 1px;}#sk-container-id-1 div.sk-estimator {font-family: monospace;background-color: #f0f8ff;border: 1px dotted black;border-radius: 0.25em;box-sizing: border-box;margin-bottom: 0.5em;}#sk-container-id-1 div.sk-estimator:hover {background-color: #d4ebff;}#sk-container-id-1 div.sk-parallel-item::after {content: \"\";width: 100%;border-bottom: 1px solid gray;flex-grow: 1;}#sk-container-id-1 div.sk-label:hover label.sk-toggleable__label {background-color: #d4ebff;}#sk-container-id-1 div.sk-serial::before {content: \"\";position: absolute;border-left: 1px solid gray;box-sizing: border-box;top: 0;bottom: 0;left: 50%;z-index: 0;}#sk-container-id-1 div.sk-serial {display: flex;flex-direction: column;align-items: center;background-color: white;padding-right: 0.2em;padding-left: 0.2em;position: relative;}#sk-container-id-1 div.sk-item {position: relative;z-index: 1;}#sk-container-id-1 div.sk-parallel {display: flex;align-items: stretch;justify-content: center;background-color: white;position: relative;}#sk-container-id-1 div.sk-item::before, #sk-container-id-1 div.sk-parallel-item::before {content: \"\";position: absolute;border-left: 1px solid gray;box-sizing: border-box;top: 0;bottom: 0;left: 50%;z-index: -1;}#sk-container-id-1 div.sk-parallel-item {display: flex;flex-direction: column;z-index: 1;position: relative;background-color: white;}#sk-container-id-1 div.sk-parallel-item:first-child::after {align-self: flex-end;width: 50%;}#sk-container-id-1 div.sk-parallel-item:last-child::after {align-self: flex-start;width: 50%;}#sk-container-id-1 div.sk-parallel-item:only-child::after {width: 0;}#sk-container-id-1 div.sk-dashed-wrapped {border: 1px dashed gray;margin: 0 0.4em 0.5em 0.4em;box-sizing: border-box;padding-bottom: 0.4em;background-color: white;}#sk-container-id-1 div.sk-label label {font-family: monospace;font-weight: bold;display: inline-block;line-height: 1.2em;}#sk-container-id-1 div.sk-label-container {text-align: center;}#sk-container-id-1 div.sk-container {/* jupyter's `normalize.less` sets `[hidden] { display: none; }` but bootstrap.min.css set `[hidden] { display: none !important; }` so we also need the `!important` here to be able to override the default hidden behavior on the sphinx rendered scikit-learn.org. See: https://github.com/scikit-learn/scikit-learn/issues/21755 */display: inline-block !important;position: relative;}#sk-container-id-1 div.sk-text-repr-fallback {display: none;}</style><div id=\"sk-container-id-1\" class=\"sk-top-container\"><div class=\"sk-text-repr-fallback\"><pre>XGBClassifier(base_score=None, booster=None, callbacks=None,\n",
       "              colsample_bylevel=None, colsample_bynode=None,\n",
       "              colsample_bytree=None, early_stopping_rounds=10,\n",
       "              enable_categorical=False, eval_metric=&#x27;logloss&#x27;,\n",
       "              feature_types=None, gamma=None, gpu_id=None, grow_policy=None,\n",
       "              importance_type=None, interaction_constraints=None,\n",
       "              learning_rate=0.1, max_bin=None, max_cat_threshold=None,\n",
       "              max_cat_to_onehot=None, max_delta_step=None, max_depth=5,\n",
       "              max_leaves=None, min_child_weight=None, missing=nan,\n",
       "              monotone_constraints=None, n_estimators=500, n_jobs=None,\n",
       "              num_parallel_tree=None, predictor=None, random_state=42, ...)</pre><b>In a Jupyter environment, please rerun this cell to show the HTML representation or trust the notebook. <br />On GitHub, the HTML representation is unable to render, please try loading this page with nbviewer.org.</b></div><div class=\"sk-container\" hidden><div class=\"sk-item\"><div class=\"sk-estimator sk-toggleable\"><input class=\"sk-toggleable__control sk-hidden--visually\" id=\"sk-estimator-id-1\" type=\"checkbox\" checked><label for=\"sk-estimator-id-1\" class=\"sk-toggleable__label sk-toggleable__label-arrow\">XGBClassifier</label><div class=\"sk-toggleable__content\"><pre>XGBClassifier(base_score=None, booster=None, callbacks=None,\n",
       "              colsample_bylevel=None, colsample_bynode=None,\n",
       "              colsample_bytree=None, early_stopping_rounds=10,\n",
       "              enable_categorical=False, eval_metric=&#x27;logloss&#x27;,\n",
       "              feature_types=None, gamma=None, gpu_id=None, grow_policy=None,\n",
       "              importance_type=None, interaction_constraints=None,\n",
       "              learning_rate=0.1, max_bin=None, max_cat_threshold=None,\n",
       "              max_cat_to_onehot=None, max_delta_step=None, max_depth=5,\n",
       "              max_leaves=None, min_child_weight=None, missing=nan,\n",
       "              monotone_constraints=None, n_estimators=500, n_jobs=None,\n",
       "              num_parallel_tree=None, predictor=None, random_state=42, ...)</pre></div></div></div></div></div>"
      ],
      "text/plain": [
       "XGBClassifier(base_score=None, booster=None, callbacks=None,\n",
       "              colsample_bylevel=None, colsample_bynode=None,\n",
       "              colsample_bytree=None, early_stopping_rounds=10,\n",
       "              enable_categorical=False, eval_metric='logloss',\n",
       "              feature_types=None, gamma=None, gpu_id=None, grow_policy=None,\n",
       "              importance_type=None, interaction_constraints=None,\n",
       "              learning_rate=0.1, max_bin=None, max_cat_threshold=None,\n",
       "              max_cat_to_onehot=None, max_delta_step=None, max_depth=5,\n",
       "              max_leaves=None, min_child_weight=None, missing=nan,\n",
       "              monotone_constraints=None, n_estimators=500, n_jobs=None,\n",
       "              num_parallel_tree=None, predictor=None, random_state=42, ...)"
      ]
     },
     "execution_count": 27,
     "metadata": {},
     "output_type": "execute_result"
    }
   ],
   "source": [
    "# data\n",
    "train_set = ds_case_final_dict[TrainSetName]\n",
    "\n",
    "eval_sets = [(eval_set['X'], eval_set['Y']) for k, eval_set in ds_case_final_dict.items()]\n",
    "set_names = [k for k in ds_case_final_dict]\n",
    "\n",
    "# model\n",
    "algorithm = model_args['algorithm']\n",
    "if algorithm == 'XGBClassifier':\n",
    "    from xgboost import XGBClassifier \n",
    "    args = {k: v for k, v in model_args.items() if k != 'algorithm'}\n",
    "    model = XGBClassifier(**args, **training_args)\n",
    "else:\n",
    "    raise ValueError(f'not yet support {algorithm}')\n",
    "\n",
    "# training\n",
    "print(set_names)\n",
    "X, Y = train_set['X'], train_set['Y']\n",
    "model.fit(X, Y, eval_set = eval_sets, verbose = True)"
   ]
  },
  {
   "cell_type": "markdown",
   "id": "e306ccf4",
   "metadata": {},
   "source": [
    "# Step 6: Evaluation"
   ]
  },
  {
   "cell_type": "markdown",
   "id": "581e8d9d",
   "metadata": {},
   "source": [
    "## In-Training Evaluation"
   ]
  },
  {
   "cell_type": "code",
   "execution_count": 28,
   "id": "864e7c5a",
   "metadata": {},
   "outputs": [
    {
     "data": {
      "text/plain": [
       "['in_train:all', 'in_valid:all', 'in_test:all']"
      ]
     },
     "execution_count": 28,
     "metadata": {},
     "output_type": "execute_result"
    }
   ],
   "source": [
    "import matplotlib.pyplot as plt\n",
    "\n",
    "evals_result = model.evals_result()\n",
    "results = [v for k, v in evals_result.items()]\n",
    "evals_result = dict(zip(set_names, results))\n",
    "[i for i in evals_result]"
   ]
  },
  {
   "cell_type": "code",
   "execution_count": 29,
   "id": "7bbc0b24",
   "metadata": {},
   "outputs": [
    {
     "data": {
      "image/png": "[encoded data removed]",
      "text/plain": [
       "<Figure size 640x480 with 1 Axes>"
      ]
     },
     "metadata": {},
     "output_type": "display_data"
    }
   ],
   "source": [
    "eval_metric = training_args['eval_metric']\n",
    "epochs = len(evals_result[set_names[0]][eval_metric])\n",
    "x_axis = range(0, epochs)\n",
    "fig, ax = plt.subplots()\n",
    "for splitname in evals_result:\n",
    "    ax.plot(x_axis, evals_result[splitname]['logloss'], label=splitname)\n",
    "ax.legend()\n",
    "plt.ylabel('Log Loss')\n",
    "plt.title('XGBoost Log Loss')\n",
    "plt.show()"
   ]
  },
  {
   "cell_type": "markdown",
   "id": "e4189f70",
   "metadata": {},
   "source": [
    "## Post-Training Evaluation"
   ]
  },
  {
   "cell_type": "code",
   "execution_count": 30,
   "id": "78a20736",
   "metadata": {},
   "outputs": [
    {
     "data": {
      "text/plain": [
       "{'in_train:all': {'X': <81575x445 sparse matrix of type '<class 'numpy.float64'>'\n",
       "  \twith 11048447 stored elements in Compressed Sparse Row format>,\n",
       "  'Y': array([0., 0., 0., ..., 0., 0., 0.])},\n",
       " 'in_valid:all': {'X': <9238x445 sparse matrix of type '<class 'numpy.float64'>'\n",
       "  \twith 1250611 stored elements in Compressed Sparse Row format>,\n",
       "  'Y': array([0., 0., 0., ..., 0., 0., 0.])},\n",
       " 'in_test:all': {'X': <7949x445 sparse matrix of type '<class 'numpy.float64'>'\n",
       "  \twith 1077529 stored elements in Compressed Sparse Row format>,\n",
       "  'Y': array([0., 0., 0., ..., 0., 0., 0.])}}"
      ]
     },
     "execution_count": 30,
     "metadata": {},
     "output_type": "execute_result"
    }
   ],
   "source": [
    "ds_case_final_dict"
   ]
  },
  {
   "cell_type": "code",
   "execution_count": 31,
   "id": "cd1652ca",
   "metadata": {},
   "outputs": [
    {
     "name": "stdout",
     "output_type": "stream",
     "text": [
      "in_valid:all\n",
      "Mean of Real Y Label: 0.025871400736090063 over 9238 num_sample\n",
      "Accuracy (TP + TN / TP + TN + FP + FN): 0.93 over 9238 num_sample\n",
      "Precision (TP / TP + FP): 0.15 over 634 postive_num\n",
      "Recall (TP / TP + FN): 0.39 over 239 label1_num\n",
      "F1 Score: 0.21305841924398627\n",
      "ROC-AUC: 0.8435563040244825\n",
      "          fpr       tpr  thresholds\n",
      "0    0.000000  0.000000    1.568807\n",
      "1    0.000111  0.000000    0.568807\n",
      "2    0.000222  0.000000    0.544311\n",
      "3    0.000222  0.004184    0.528634\n",
      "4    0.000444  0.004184    0.396899\n",
      "..        ...       ...         ...\n",
      "762  0.983776  1.000000    0.000120\n",
      "763  0.983998  1.000000    0.000120\n",
      "764  0.997889  1.000000    0.000092\n",
      "765  0.998111  1.000000    0.000092\n",
      "766  1.000000  1.000000    0.000067\n",
      "\n",
      "[767 rows x 3 columns]\n",
      "y_pred_score_Group-0: {'y_real_label_rate': 0.0, 'y_pred_score_mean': 0.0001, 'y_pred_score_max': 0.0001, 'y_pred_score_min': 0.0001, 'group_size': 93}\n",
      "y_pred_score_Group-1: {'y_real_label_rate': 0.0, 'y_pred_score_mean': 0.0001, 'y_pred_score_max': 0.0001, 'y_pred_score_min': 0.0001, 'group_size': 92}\n",
      "y_pred_score_Group-2: {'y_real_label_rate': 0.0, 'y_pred_score_mean': 0.0001, 'y_pred_score_max': 0.0001, 'y_pred_score_min': 0.0001, 'group_size': 93}\n",
      "y_pred_score_Group-3: {'y_real_label_rate': 0.0, 'y_pred_score_mean': 0.0001, 'y_pred_score_max': 0.0001, 'y_pred_score_min': 0.0001, 'group_size': 92}\n",
      "y_pred_score_Group-4: {'y_real_label_rate': 0.0, 'y_pred_score_mean': 0.0001, 'y_pred_score_max': 0.0001, 'y_pred_score_min': 0.0001, 'group_size': 92}\n",
      "y_pred_score_Group-5: {'y_real_label_rate': 0.0, 'y_pred_score_mean': 0.0001, 'y_pred_score_max': 0.0001, 'y_pred_score_min': 0.0001, 'group_size': 93}\n",
      "y_pred_score_Group-6: {'y_real_label_rate': 0.0, 'y_pred_score_mean': 0.0001, 'y_pred_score_max': 0.0001, 'y_pred_score_min': 0.0001, 'group_size': 92}\n",
      "y_pred_score_Group-7: {'y_real_label_rate': 0.0, 'y_pred_score_mean': 0.0001, 'y_pred_score_max': 0.0001, 'y_pred_score_min': 0.0001, 'group_size': 92}\n",
      "y_pred_score_Group-8: {'y_real_label_rate': 0.0, 'y_pred_score_mean': 0.0001, 'y_pred_score_max': 0.0002, 'y_pred_score_min': 0.0001, 'group_size': 93}\n",
      "y_pred_score_Group-9: {'y_real_label_rate': 0.0, 'y_pred_score_mean': 0.0002, 'y_pred_score_max': 0.0002, 'y_pred_score_min': 0.0002, 'group_size': 92}\n",
      "y_pred_score_Group-10: {'y_real_label_rate': 0.0, 'y_pred_score_mean': 0.0002, 'y_pred_score_max': 0.0002, 'y_pred_score_min': 0.0002, 'group_size': 93}\n",
      "y_pred_score_Group-11: {'y_real_label_rate': 0.0, 'y_pred_score_mean': 0.0002, 'y_pred_score_max': 0.0002, 'y_pred_score_min': 0.0002, 'group_size': 92}\n",
      "y_pred_score_Group-12: {'y_real_label_rate': 0.0, 'y_pred_score_mean': 0.0002, 'y_pred_score_max': 0.0002, 'y_pred_score_min': 0.0002, 'group_size': 92}\n",
      "y_pred_score_Group-13: {'y_real_label_rate': 0.0, 'y_pred_score_mean': 0.0002, 'y_pred_score_max': 0.0002, 'y_pred_score_min': 0.0002, 'group_size': 93}\n",
      "y_pred_score_Group-14: {'y_real_label_rate': 0.0, 'y_pred_score_mean': 0.0002, 'y_pred_score_max': 0.0002, 'y_pred_score_min': 0.0002, 'group_size': 92}\n",
      "y_pred_score_Group-15: {'y_real_label_rate': 0.0, 'y_pred_score_mean': 0.0002, 'y_pred_score_max': 0.0002, 'y_pred_score_min': 0.0002, 'group_size': 92}\n",
      "y_pred_score_Group-16: {'y_real_label_rate': 0.0, 'y_pred_score_mean': 0.0002, 'y_pred_score_max': 0.0002, 'y_pred_score_min': 0.0002, 'group_size': 93}\n",
      "y_pred_score_Group-17: {'y_real_label_rate': 0.0, 'y_pred_score_mean': 0.0002, 'y_pred_score_max': 0.0002, 'y_pred_score_min': 0.0002, 'group_size': 92}\n",
      "y_pred_score_Group-18: {'y_real_label_rate': 0.0, 'y_pred_score_mean': 0.0002, 'y_pred_score_max': 0.0002, 'y_pred_score_min': 0.0002, 'group_size': 93}\n",
      "y_pred_score_Group-19: {'y_real_label_rate': 0.0, 'y_pred_score_mean': 0.0002, 'y_pred_score_max': 0.0002, 'y_pred_score_min': 0.0002, 'group_size': 92}\n",
      "y_pred_score_Group-20: {'y_real_label_rate': 0.0, 'y_pred_score_mean': 0.0002, 'y_pred_score_max': 0.0002, 'y_pred_score_min': 0.0002, 'group_size': 92}\n",
      "y_pred_score_Group-21: {'y_real_label_rate': 0.0, 'y_pred_score_mean': 0.0002, 'y_pred_score_max': 0.0002, 'y_pred_score_min': 0.0002, 'group_size': 93}\n",
      "y_pred_score_Group-22: {'y_real_label_rate': 0.0, 'y_pred_score_mean': 0.0002, 'y_pred_score_max': 0.0002, 'y_pred_score_min': 0.0002, 'group_size': 92}\n",
      "y_pred_score_Group-23: {'y_real_label_rate': 0.0, 'y_pred_score_mean': 0.0002, 'y_pred_score_max': 0.0002, 'y_pred_score_min': 0.0002, 'group_size': 92}\n",
      "y_pred_score_Group-24: {'y_real_label_rate': 0.0, 'y_pred_score_mean': 0.0002, 'y_pred_score_max': 0.0002, 'y_pred_score_min': 0.0002, 'group_size': 93}\n",
      "y_pred_score_Group-25: {'y_real_label_rate': 0.0, 'y_pred_score_mean': 0.0002, 'y_pred_score_max': 0.0002, 'y_pred_score_min': 0.0002, 'group_size': 92}\n",
      "y_pred_score_Group-26: {'y_real_label_rate': 0.0, 'y_pred_score_mean': 0.0002, 'y_pred_score_max': 0.0002, 'y_pred_score_min': 0.0002, 'group_size': 92}\n",
      "y_pred_score_Group-27: {'y_real_label_rate': 0.0, 'y_pred_score_mean': 0.0002, 'y_pred_score_max': 0.0002, 'y_pred_score_min': 0.0002, 'group_size': 93}\n",
      "y_pred_score_Group-28: {'y_real_label_rate': 0.0, 'y_pred_score_mean': 0.0002, 'y_pred_score_max': 0.0002, 'y_pred_score_min': 0.0002, 'group_size': 92}\n",
      "y_pred_score_Group-29: {'y_real_label_rate': 0.0, 'y_pred_score_mean': 0.0002, 'y_pred_score_max': 0.0002, 'y_pred_score_min': 0.0002, 'group_size': 93}\n",
      "y_pred_score_Group-30: {'y_real_label_rate': 0.0, 'y_pred_score_mean': 0.0002, 'y_pred_score_max': 0.0002, 'y_pred_score_min': 0.0002, 'group_size': 92}\n",
      "y_pred_score_Group-31: {'y_real_label_rate': 0.0, 'y_pred_score_mean': 0.0002, 'y_pred_score_max': 0.0002, 'y_pred_score_min': 0.0002, 'group_size': 92}\n",
      "y_pred_score_Group-32: {'y_real_label_rate': 0.0, 'y_pred_score_mean': 0.0002, 'y_pred_score_max': 0.0002, 'y_pred_score_min': 0.0002, 'group_size': 93}\n",
      "y_pred_score_Group-33: {'y_real_label_rate': 0.0, 'y_pred_score_mean': 0.0002, 'y_pred_score_max': 0.0002, 'y_pred_score_min': 0.0002, 'group_size': 92}\n",
      "y_pred_score_Group-34: {'y_real_label_rate': 0.0, 'y_pred_score_mean': 0.0002, 'y_pred_score_max': 0.0002, 'y_pred_score_min': 0.0002, 'group_size': 92}\n",
      "y_pred_score_Group-35: {'y_real_label_rate': 0.0, 'y_pred_score_mean': 0.0002, 'y_pred_score_max': 0.0002, 'y_pred_score_min': 0.0002, 'group_size': 93}\n",
      "y_pred_score_Group-36: {'y_real_label_rate': 0.0, 'y_pred_score_mean': 0.0002, 'y_pred_score_max': 0.0002, 'y_pred_score_min': 0.0002, 'group_size': 92}\n",
      "y_pred_score_Group-37: {'y_real_label_rate': 0.0, 'y_pred_score_mean': 0.0003, 'y_pred_score_max': 0.0003, 'y_pred_score_min': 0.0002, 'group_size': 93}\n",
      "y_pred_score_Group-38: {'y_real_label_rate': 0.0, 'y_pred_score_mean': 0.0003, 'y_pred_score_max': 0.0003, 'y_pred_score_min': 0.0003, 'group_size': 92}\n",
      "y_pred_score_Group-39: {'y_real_label_rate': 0.0, 'y_pred_score_mean': 0.0003, 'y_pred_score_max': 0.0003, 'y_pred_score_min': 0.0003, 'group_size': 92}\n",
      "y_pred_score_Group-40: {'y_real_label_rate': 0.0, 'y_pred_score_mean': 0.0003, 'y_pred_score_max': 0.0004, 'y_pred_score_min': 0.0003, 'group_size': 93}\n",
      "y_pred_score_Group-41: {'y_real_label_rate': 0.0, 'y_pred_score_mean': 0.0031, 'y_pred_score_max': 0.0048, 'y_pred_score_min': 0.0004, 'group_size': 92}\n",
      "y_pred_score_Group-42: {'y_real_label_rate': 0.0, 'y_pred_score_mean': 0.0057, 'y_pred_score_max': 0.0064, 'y_pred_score_min': 0.0049, 'group_size': 92}\n",
      "y_pred_score_Group-43: {'y_real_label_rate': 0.0, 'y_pred_score_mean': 0.0072, 'y_pred_score_max': 0.0078, 'y_pred_score_min': 0.0064, 'group_size': 93}\n",
      "y_pred_score_Group-44: {'y_real_label_rate': 0.0, 'y_pred_score_mean': 0.0084, 'y_pred_score_max': 0.0089, 'y_pred_score_min': 0.0079, 'group_size': 92}\n",
      "y_pred_score_Group-45: {'y_real_label_rate': 0.0323, 'y_pred_score_mean': 0.0095, 'y_pred_score_max': 0.01, 'y_pred_score_min': 0.009, 'group_size': 93}\n",
      "y_pred_score_Group-46: {'y_real_label_rate': 0.0109, 'y_pred_score_mean': 0.0104, 'y_pred_score_max': 0.0108, 'y_pred_score_min': 0.01, 'group_size': 92}\n",
      "y_pred_score_Group-47: {'y_real_label_rate': 0.0109, 'y_pred_score_mean': 0.0112, 'y_pred_score_max': 0.0116, 'y_pred_score_min': 0.0108, 'group_size': 92}\n",
      "y_pred_score_Group-48: {'y_real_label_rate': 0.0215, 'y_pred_score_mean': 0.012, 'y_pred_score_max': 0.0123, 'y_pred_score_min': 0.0116, 'group_size': 93}\n",
      "y_pred_score_Group-49: {'y_real_label_rate': 0.0326, 'y_pred_score_mean': 0.0127, 'y_pred_score_max': 0.0131, 'y_pred_score_min': 0.0123, 'group_size': 92}\n",
      "y_pred_score_Group-50: {'y_real_label_rate': 0.0109, 'y_pred_score_mean': 0.0134, 'y_pred_score_max': 0.0138, 'y_pred_score_min': 0.0131, 'group_size': 92}\n",
      "y_pred_score_Group-51: {'y_real_label_rate': 0.0108, 'y_pred_score_mean': 0.0141, 'y_pred_score_max': 0.0144, 'y_pred_score_min': 0.0138, 'group_size': 93}\n",
      "y_pred_score_Group-52: {'y_real_label_rate': 0.0109, 'y_pred_score_mean': 0.0147, 'y_pred_score_max': 0.015, 'y_pred_score_min': 0.0144, 'group_size': 92}\n",
      "y_pred_score_Group-53: {'y_real_label_rate': 0.0435, 'y_pred_score_mean': 0.0153, 'y_pred_score_max': 0.0157, 'y_pred_score_min': 0.015, 'group_size': 92}\n",
      "y_pred_score_Group-54: {'y_real_label_rate': 0.0, 'y_pred_score_mean': 0.016, 'y_pred_score_max': 0.0163, 'y_pred_score_min': 0.0157, 'group_size': 93}\n",
      "y_pred_score_Group-55: {'y_real_label_rate': 0.0, 'y_pred_score_mean': 0.0167, 'y_pred_score_max': 0.017, 'y_pred_score_min': 0.0163, 'group_size': 92}\n",
      "y_pred_score_Group-56: {'y_real_label_rate': 0.0215, 'y_pred_score_mean': 0.0174, 'y_pred_score_max': 0.0178, 'y_pred_score_min': 0.017, 'group_size': 93}\n",
      "y_pred_score_Group-57: {'y_real_label_rate': 0.0326, 'y_pred_score_mean': 0.0181, 'y_pred_score_max': 0.0184, 'y_pred_score_min': 0.0178, 'group_size': 92}\n",
      "y_pred_score_Group-58: {'y_real_label_rate': 0.0109, 'y_pred_score_mean': 0.0188, 'y_pred_score_max': 0.0192, 'y_pred_score_min': 0.0184, 'group_size': 92}\n",
      "y_pred_score_Group-59: {'y_real_label_rate': 0.0108, 'y_pred_score_mean': 0.0195, 'y_pred_score_max': 0.0198, 'y_pred_score_min': 0.0192, 'group_size': 93}\n",
      "y_pred_score_Group-60: {'y_real_label_rate': 0.0435, 'y_pred_score_mean': 0.0201, 'y_pred_score_max': 0.0204, 'y_pred_score_min': 0.0198, 'group_size': 92}\n",
      "y_pred_score_Group-61: {'y_real_label_rate': 0.0, 'y_pred_score_mean': 0.0209, 'y_pred_score_max': 0.0213, 'y_pred_score_min': 0.0205, 'group_size': 92}\n",
      "y_pred_score_Group-62: {'y_real_label_rate': 0.0215, 'y_pred_score_mean': 0.0217, 'y_pred_score_max': 0.0221, 'y_pred_score_min': 0.0213, 'group_size': 93}\n",
      "y_pred_score_Group-63: {'y_real_label_rate': 0.0652, 'y_pred_score_mean': 0.0225, 'y_pred_score_max': 0.0228, 'y_pred_score_min': 0.0221, 'group_size': 92}\n",
      "y_pred_score_Group-64: {'y_real_label_rate': 0.0, 'y_pred_score_mean': 0.0232, 'y_pred_score_max': 0.0237, 'y_pred_score_min': 0.0228, 'group_size': 93}\n",
      "y_pred_score_Group-65: {'y_real_label_rate': 0.0217, 'y_pred_score_mean': 0.0241, 'y_pred_score_max': 0.0244, 'y_pred_score_min': 0.0237, 'group_size': 92}\n",
      "y_pred_score_Group-66: {'y_real_label_rate': 0.0326, 'y_pred_score_mean': 0.0248, 'y_pred_score_max': 0.0251, 'y_pred_score_min': 0.0244, 'group_size': 92}\n",
      "y_pred_score_Group-67: {'y_real_label_rate': 0.043, 'y_pred_score_mean': 0.0255, 'y_pred_score_max': 0.0259, 'y_pred_score_min': 0.0251, 'group_size': 93}\n",
      "y_pred_score_Group-68: {'y_real_label_rate': 0.0652, 'y_pred_score_mean': 0.0263, 'y_pred_score_max': 0.0267, 'y_pred_score_min': 0.0259, 'group_size': 92}\n",
      "y_pred_score_Group-69: {'y_real_label_rate': 0.0435, 'y_pred_score_mean': 0.0272, 'y_pred_score_max': 0.0277, 'y_pred_score_min': 0.0267, 'group_size': 92}\n",
      "y_pred_score_Group-70: {'y_real_label_rate': 0.0323, 'y_pred_score_mean': 0.0282, 'y_pred_score_max': 0.0289, 'y_pred_score_min': 0.0277, 'group_size': 93}\n",
      "y_pred_score_Group-71: {'y_real_label_rate': 0.0326, 'y_pred_score_mean': 0.0293, 'y_pred_score_max': 0.0298, 'y_pred_score_min': 0.0289, 'group_size': 92}\n",
      "y_pred_score_Group-72: {'y_real_label_rate': 0.0323, 'y_pred_score_mean': 0.0303, 'y_pred_score_max': 0.0309, 'y_pred_score_min': 0.0299, 'group_size': 93}\n",
      "y_pred_score_Group-73: {'y_real_label_rate': 0.0326, 'y_pred_score_mean': 0.0314, 'y_pred_score_max': 0.032, 'y_pred_score_min': 0.0309, 'group_size': 92}\n",
      "y_pred_score_Group-74: {'y_real_label_rate': 0.0543, 'y_pred_score_mean': 0.0327, 'y_pred_score_max': 0.0335, 'y_pred_score_min': 0.032, 'group_size': 92}\n",
      "y_pred_score_Group-75: {'y_real_label_rate': 0.0215, 'y_pred_score_mean': 0.0342, 'y_pred_score_max': 0.0347, 'y_pred_score_min': 0.0335, 'group_size': 93}\n",
      "y_pred_score_Group-76: {'y_real_label_rate': 0.0326, 'y_pred_score_mean': 0.0354, 'y_pred_score_max': 0.0362, 'y_pred_score_min': 0.0347, 'group_size': 92}\n",
      "y_pred_score_Group-77: {'y_real_label_rate': 0.0543, 'y_pred_score_mean': 0.0372, 'y_pred_score_max': 0.0381, 'y_pred_score_min': 0.0362, 'group_size': 92}\n",
      "y_pred_score_Group-78: {'y_real_label_rate': 0.0, 'y_pred_score_mean': 0.0392, 'y_pred_score_max': 0.0402, 'y_pred_score_min': 0.0382, 'group_size': 93}\n",
      "y_pred_score_Group-79: {'y_real_label_rate': 0.0, 'y_pred_score_mean': 0.0412, 'y_pred_score_max': 0.0424, 'y_pred_score_min': 0.0402, 'group_size': 92}\n",
      "y_pred_score_Group-80: {'y_real_label_rate': 0.0326, 'y_pred_score_mean': 0.0435, 'y_pred_score_max': 0.0447, 'y_pred_score_min': 0.0424, 'group_size': 92}\n",
      "y_pred_score_Group-81: {'y_real_label_rate': 0.0108, 'y_pred_score_mean': 0.0459, 'y_pred_score_max': 0.0471, 'y_pred_score_min': 0.0447, 'group_size': 93}\n",
      "y_pred_score_Group-82: {'y_real_label_rate': 0.0435, 'y_pred_score_mean': 0.0486, 'y_pred_score_max': 0.0499, 'y_pred_score_min': 0.0471, 'group_size': 92}\n",
      "y_pred_score_Group-83: {'y_real_label_rate': 0.0538, 'y_pred_score_mean': 0.0512, 'y_pred_score_max': 0.0524, 'y_pred_score_min': 0.05, 'group_size': 93}\n",
      "y_pred_score_Group-84: {'y_real_label_rate': 0.0435, 'y_pred_score_mean': 0.0539, 'y_pred_score_max': 0.0554, 'y_pred_score_min': 0.0524, 'group_size': 92}\n",
      "y_pred_score_Group-85: {'y_real_label_rate': 0.0435, 'y_pred_score_mean': 0.0577, 'y_pred_score_max': 0.059, 'y_pred_score_min': 0.0554, 'group_size': 92}\n",
      "y_pred_score_Group-86: {'y_real_label_rate': 0.086, 'y_pred_score_mean': 0.0611, 'y_pred_score_max': 0.0632, 'y_pred_score_min': 0.0591, 'group_size': 93}\n",
      "y_pred_score_Group-87: {'y_real_label_rate': 0.0652, 'y_pred_score_mean': 0.0653, 'y_pred_score_max': 0.0675, 'y_pred_score_min': 0.0633, 'group_size': 92}\n",
      "y_pred_score_Group-88: {'y_real_label_rate': 0.0435, 'y_pred_score_mean': 0.0696, 'y_pred_score_max': 0.0714, 'y_pred_score_min': 0.0676, 'group_size': 92}\n",
      "y_pred_score_Group-89: {'y_real_label_rate': 0.0538, 'y_pred_score_mean': 0.074, 'y_pred_score_max': 0.0767, 'y_pred_score_min': 0.0714, 'group_size': 93}\n",
      "y_pred_score_Group-90: {'y_real_label_rate': 0.0435, 'y_pred_score_mean': 0.0798, 'y_pred_score_max': 0.0827, 'y_pred_score_min': 0.0767, 'group_size': 92}\n",
      "y_pred_score_Group-91: {'y_real_label_rate': 0.0753, 'y_pred_score_mean': 0.0863, 'y_pred_score_max': 0.0895, 'y_pred_score_min': 0.0827, 'group_size': 93}\n",
      "y_pred_score_Group-92: {'y_real_label_rate': 0.087, 'y_pred_score_mean': 0.0936, 'y_pred_score_max': 0.0983, 'y_pred_score_min': 0.0897, 'group_size': 92}\n",
      "y_pred_score_Group-93: {'y_real_label_rate': 0.0761, 'y_pred_score_mean': 0.1027, 'y_pred_score_max': 0.1061, 'y_pred_score_min': 0.0986, 'group_size': 92}\n",
      "y_pred_score_Group-94: {'y_real_label_rate': 0.0645, 'y_pred_score_mean': 0.1108, 'y_pred_score_max': 0.116, 'y_pred_score_min': 0.1062, 'group_size': 93}\n",
      "y_pred_score_Group-95: {'y_real_label_rate': 0.1196, 'y_pred_score_mean': 0.1227, 'y_pred_score_max': 0.1295, 'y_pred_score_min': 0.1161, 'group_size': 92}\n",
      "y_pred_score_Group-96: {'y_real_label_rate': 0.0978, 'y_pred_score_mean': 0.1387, 'y_pred_score_max': 0.1497, 'y_pred_score_min': 0.1297, 'group_size': 92}\n",
      "y_pred_score_Group-97: {'y_real_label_rate': 0.2473, 'y_pred_score_mean': 0.1626, 'y_pred_score_max': 0.1779, 'y_pred_score_min': 0.1499, 'group_size': 93}\n",
      "y_pred_score_Group-98: {'y_real_label_rate': 0.1739, 'y_pred_score_mean': 0.1993, 'y_pred_score_max': 0.2195, 'y_pred_score_min': 0.1784, 'group_size': 92}\n",
      "y_pred_score_Group-99: {'y_real_label_rate': 0.2366, 'y_pred_score_mean': 0.286, 'y_pred_score_max': 0.5688, 'y_pred_score_min': 0.2199, 'group_size': 93}\n"
     ]
    },
    {
     "data": {
      "image/png": "[encoded data removed]",
      "text/plain": [
       "<Figure size 1000x800 with 1 Axes>"
      ]
     },
     "metadata": {},
     "output_type": "display_data"
    },
    {
     "data": {
      "image/png": "[encoded data removed]",
      "text/plain": [
       "<Figure size 1000x1000 with 1 Axes>"
      ]
     },
     "metadata": {},
     "output_type": "display_data"
    },
    {
     "name": "stdout",
     "output_type": "stream",
     "text": [
      "in_test:all\n",
      "Mean of Real Y Label: 0.000629009938357026 over 7949 num_sample\n",
      "Accuracy (TP + TN / TP + TN + FP + FN): 1.0 over 7949 num_sample\n",
      "Precision (TP / TP + FP): 0.21 over 19 postive_num\n",
      "Recall (TP / TP + FN): 0.8 over 5 label1_num\n",
      "F1 Score: 0.3333333333333333\n",
      "ROC-AUC: 0.9991188318227594\n",
      "          fpr  tpr  thresholds\n",
      "0    0.000000  0.0    1.388952\n",
      "1    0.000000  0.2    0.388952\n",
      "2    0.000126  0.2    0.343366\n",
      "3    0.000126  0.4    0.288241\n",
      "4    0.000252  0.4    0.252979\n",
      "..        ...  ...         ...\n",
      "849  0.995468  1.0    0.000090\n",
      "850  0.995720  1.0    0.000090\n",
      "851  0.997231  1.0    0.000086\n",
      "852  0.997482  1.0    0.000085\n",
      "853  1.000000  1.0    0.000056\n",
      "\n",
      "[854 rows x 3 columns]\n",
      "y_pred_score_Group-0: {'y_real_label_rate': 0.0, 'y_pred_score_mean': 0.0001, 'y_pred_score_max': 0.0001, 'y_pred_score_min': 0.0001, 'group_size': 80}\n",
      "y_pred_score_Group-1: {'y_real_label_rate': 0.0, 'y_pred_score_mean': 0.0001, 'y_pred_score_max': 0.0001, 'y_pred_score_min': 0.0001, 'group_size': 79}\n",
      "y_pred_score_Group-2: {'y_real_label_rate': 0.0, 'y_pred_score_mean': 0.0001, 'y_pred_score_max': 0.0001, 'y_pred_score_min': 0.0001, 'group_size': 80}\n",
      "y_pred_score_Group-3: {'y_real_label_rate': 0.0, 'y_pred_score_mean': 0.0001, 'y_pred_score_max': 0.0001, 'y_pred_score_min': 0.0001, 'group_size': 79}\n",
      "y_pred_score_Group-4: {'y_real_label_rate': 0.0, 'y_pred_score_mean': 0.0001, 'y_pred_score_max': 0.0001, 'y_pred_score_min': 0.0001, 'group_size': 80}\n",
      "y_pred_score_Group-5: {'y_real_label_rate': 0.0, 'y_pred_score_mean': 0.0001, 'y_pred_score_max': 0.0001, 'y_pred_score_min': 0.0001, 'group_size': 79}\n",
      "y_pred_score_Group-6: {'y_real_label_rate': 0.0, 'y_pred_score_mean': 0.0001, 'y_pred_score_max': 0.0001, 'y_pred_score_min': 0.0001, 'group_size': 80}\n",
      "y_pred_score_Group-7: {'y_real_label_rate': 0.0, 'y_pred_score_mean': 0.0001, 'y_pred_score_max': 0.0001, 'y_pred_score_min': 0.0001, 'group_size': 79}\n",
      "y_pred_score_Group-8: {'y_real_label_rate': 0.0, 'y_pred_score_mean': 0.0001, 'y_pred_score_max': 0.0001, 'y_pred_score_min': 0.0001, 'group_size': 80}\n",
      "y_pred_score_Group-9: {'y_real_label_rate': 0.0, 'y_pred_score_mean': 0.0001, 'y_pred_score_max': 0.0001, 'y_pred_score_min': 0.0001, 'group_size': 79}\n",
      "y_pred_score_Group-10: {'y_real_label_rate': 0.0, 'y_pred_score_mean': 0.0001, 'y_pred_score_max': 0.0001, 'y_pred_score_min': 0.0001, 'group_size': 81}\n",
      "y_pred_score_Group-11: {'y_real_label_rate': 0.0, 'y_pred_score_mean': 0.0001, 'y_pred_score_max': 0.0001, 'y_pred_score_min': 0.0001, 'group_size': 78}\n",
      "y_pred_score_Group-12: {'y_real_label_rate': 0.0, 'y_pred_score_mean': 0.0001, 'y_pred_score_max': 0.0001, 'y_pred_score_min': 0.0001, 'group_size': 80}\n",
      "y_pred_score_Group-13: {'y_real_label_rate': 0.0, 'y_pred_score_mean': 0.0001, 'y_pred_score_max': 0.0001, 'y_pred_score_min': 0.0001, 'group_size': 79}\n",
      "y_pred_score_Group-14: {'y_real_label_rate': 0.0, 'y_pred_score_mean': 0.0001, 'y_pred_score_max': 0.0001, 'y_pred_score_min': 0.0001, 'group_size': 80}\n",
      "y_pred_score_Group-15: {'y_real_label_rate': 0.0, 'y_pred_score_mean': 0.0001, 'y_pred_score_max': 0.0001, 'y_pred_score_min': 0.0001, 'group_size': 80}\n",
      "y_pred_score_Group-16: {'y_real_label_rate': 0.0, 'y_pred_score_mean': 0.0001, 'y_pred_score_max': 0.0001, 'y_pred_score_min': 0.0001, 'group_size': 82}\n",
      "y_pred_score_Group-17: {'y_real_label_rate': 0.0, 'y_pred_score_mean': 0.0001, 'y_pred_score_max': 0.0001, 'y_pred_score_min': 0.0001, 'group_size': 76}\n",
      "y_pred_score_Group-18: {'y_real_label_rate': 0.0, 'y_pred_score_mean': 0.0001, 'y_pred_score_max': 0.0001, 'y_pred_score_min': 0.0001, 'group_size': 80}\n",
      "y_pred_score_Group-19: {'y_real_label_rate': 0.0, 'y_pred_score_mean': 0.0001, 'y_pred_score_max': 0.0001, 'y_pred_score_min': 0.0001, 'group_size': 79}\n",
      "y_pred_score_Group-20: {'y_real_label_rate': 0.0, 'y_pred_score_mean': 0.0001, 'y_pred_score_max': 0.0001, 'y_pred_score_min': 0.0001, 'group_size': 81}\n",
      "y_pred_score_Group-21: {'y_real_label_rate': 0.0, 'y_pred_score_mean': 0.0001, 'y_pred_score_max': 0.0001, 'y_pred_score_min': 0.0001, 'group_size': 78}\n",
      "y_pred_score_Group-22: {'y_real_label_rate': 0.0, 'y_pred_score_mean': 0.0001, 'y_pred_score_max': 0.0001, 'y_pred_score_min': 0.0001, 'group_size': 80}\n",
      "y_pred_score_Group-23: {'y_real_label_rate': 0.0, 'y_pred_score_mean': 0.0001, 'y_pred_score_max': 0.0002, 'y_pred_score_min': 0.0001, 'group_size': 82}\n",
      "y_pred_score_Group-24: {'y_real_label_rate': 0.0, 'y_pred_score_mean': 0.0002, 'y_pred_score_max': 0.0002, 'y_pred_score_min': 0.0002, 'group_size': 77}\n",
      "y_pred_score_Group-25: {'y_real_label_rate': 0.0, 'y_pred_score_mean': 0.0002, 'y_pred_score_max': 0.0002, 'y_pred_score_min': 0.0002, 'group_size': 79}\n",
      "y_pred_score_Group-26: {'y_real_label_rate': 0.0, 'y_pred_score_mean': 0.0002, 'y_pred_score_max': 0.0002, 'y_pred_score_min': 0.0002, 'group_size': 79}\n",
      "y_pred_score_Group-27: {'y_real_label_rate': 0.0, 'y_pred_score_mean': 0.0002, 'y_pred_score_max': 0.0002, 'y_pred_score_min': 0.0002, 'group_size': 80}\n",
      "y_pred_score_Group-28: {'y_real_label_rate': 0.0, 'y_pred_score_mean': 0.0002, 'y_pred_score_max': 0.0002, 'y_pred_score_min': 0.0002, 'group_size': 79}\n",
      "y_pred_score_Group-29: {'y_real_label_rate': 0.0, 'y_pred_score_mean': 0.0002, 'y_pred_score_max': 0.0002, 'y_pred_score_min': 0.0002, 'group_size': 80}\n",
      "y_pred_score_Group-30: {'y_real_label_rate': 0.0, 'y_pred_score_mean': 0.0002, 'y_pred_score_max': 0.0002, 'y_pred_score_min': 0.0002, 'group_size': 79}\n",
      "y_pred_score_Group-31: {'y_real_label_rate': 0.0, 'y_pred_score_mean': 0.0002, 'y_pred_score_max': 0.0002, 'y_pred_score_min': 0.0002, 'group_size': 80}\n",
      "y_pred_score_Group-32: {'y_real_label_rate': 0.0, 'y_pred_score_mean': 0.0002, 'y_pred_score_max': 0.0002, 'y_pred_score_min': 0.0002, 'group_size': 79}\n",
      "y_pred_score_Group-33: {'y_real_label_rate': 0.0, 'y_pred_score_mean': 0.0002, 'y_pred_score_max': 0.0002, 'y_pred_score_min': 0.0002, 'group_size': 80}\n",
      "y_pred_score_Group-34: {'y_real_label_rate': 0.0, 'y_pred_score_mean': 0.0002, 'y_pred_score_max': 0.0002, 'y_pred_score_min': 0.0002, 'group_size': 79}\n",
      "y_pred_score_Group-35: {'y_real_label_rate': 0.0, 'y_pred_score_mean': 0.0002, 'y_pred_score_max': 0.0002, 'y_pred_score_min': 0.0002, 'group_size': 80}\n",
      "y_pred_score_Group-36: {'y_real_label_rate': 0.0, 'y_pred_score_mean': 0.0002, 'y_pred_score_max': 0.0002, 'y_pred_score_min': 0.0002, 'group_size': 79}\n",
      "y_pred_score_Group-37: {'y_real_label_rate': 0.0, 'y_pred_score_mean': 0.0002, 'y_pred_score_max': 0.0002, 'y_pred_score_min': 0.0002, 'group_size': 82}\n",
      "y_pred_score_Group-38: {'y_real_label_rate': 0.0, 'y_pred_score_mean': 0.0002, 'y_pred_score_max': 0.0002, 'y_pred_score_min': 0.0002, 'group_size': 77}\n",
      "y_pred_score_Group-39: {'y_real_label_rate': 0.0, 'y_pred_score_mean': 0.0002, 'y_pred_score_max': 0.0002, 'y_pred_score_min': 0.0002, 'group_size': 80}\n",
      "y_pred_score_Group-40: {'y_real_label_rate': 0.0, 'y_pred_score_mean': 0.0002, 'y_pred_score_max': 0.0002, 'y_pred_score_min': 0.0002, 'group_size': 79}\n",
      "y_pred_score_Group-41: {'y_real_label_rate': 0.0, 'y_pred_score_mean': 0.0002, 'y_pred_score_max': 0.0002, 'y_pred_score_min': 0.0002, 'group_size': 80}\n",
      "y_pred_score_Group-42: {'y_real_label_rate': 0.0, 'y_pred_score_mean': 0.0002, 'y_pred_score_max': 0.0002, 'y_pred_score_min': 0.0002, 'group_size': 79}\n",
      "y_pred_score_Group-43: {'y_real_label_rate': 0.0, 'y_pred_score_mean': 0.0002, 'y_pred_score_max': 0.0002, 'y_pred_score_min': 0.0002, 'group_size': 80}\n",
      "y_pred_score_Group-44: {'y_real_label_rate': 0.0, 'y_pred_score_mean': 0.0002, 'y_pred_score_max': 0.0002, 'y_pred_score_min': 0.0002, 'group_size': 79}\n",
      "y_pred_score_Group-45: {'y_real_label_rate': 0.0, 'y_pred_score_mean': 0.0002, 'y_pred_score_max': 0.0002, 'y_pred_score_min': 0.0002, 'group_size': 80}\n",
      "y_pred_score_Group-46: {'y_real_label_rate': 0.0, 'y_pred_score_mean': 0.0002, 'y_pred_score_max': 0.0002, 'y_pred_score_min': 0.0002, 'group_size': 79}\n",
      "y_pred_score_Group-47: {'y_real_label_rate': 0.0, 'y_pred_score_mean': 0.0002, 'y_pred_score_max': 0.0002, 'y_pred_score_min': 0.0002, 'group_size': 80}\n",
      "y_pred_score_Group-48: {'y_real_label_rate': 0.0, 'y_pred_score_mean': 0.0002, 'y_pred_score_max': 0.0002, 'y_pred_score_min': 0.0002, 'group_size': 79}\n",
      "y_pred_score_Group-49: {'y_real_label_rate': 0.0, 'y_pred_score_mean': 0.0002, 'y_pred_score_max': 0.0002, 'y_pred_score_min': 0.0002, 'group_size': 80}\n",
      "y_pred_score_Group-50: {'y_real_label_rate': 0.0, 'y_pred_score_mean': 0.0002, 'y_pred_score_max': 0.0002, 'y_pred_score_min': 0.0002, 'group_size': 79}\n",
      "y_pred_score_Group-51: {'y_real_label_rate': 0.0, 'y_pred_score_mean': 0.0002, 'y_pred_score_max': 0.0002, 'y_pred_score_min': 0.0002, 'group_size': 79}\n",
      "y_pred_score_Group-52: {'y_real_label_rate': 0.0, 'y_pred_score_mean': 0.0002, 'y_pred_score_max': 0.0002, 'y_pred_score_min': 0.0002, 'group_size': 80}\n",
      "y_pred_score_Group-53: {'y_real_label_rate': 0.0, 'y_pred_score_mean': 0.0002, 'y_pred_score_max': 0.0002, 'y_pred_score_min': 0.0002, 'group_size': 79}\n",
      "y_pred_score_Group-54: {'y_real_label_rate': 0.0, 'y_pred_score_mean': 0.0002, 'y_pred_score_max': 0.0002, 'y_pred_score_min': 0.0002, 'group_size': 80}\n",
      "y_pred_score_Group-55: {'y_real_label_rate': 0.0, 'y_pred_score_mean': 0.0002, 'y_pred_score_max': 0.0002, 'y_pred_score_min': 0.0002, 'group_size': 79}\n",
      "y_pred_score_Group-56: {'y_real_label_rate': 0.0, 'y_pred_score_mean': 0.0002, 'y_pred_score_max': 0.0002, 'y_pred_score_min': 0.0002, 'group_size': 80}\n",
      "y_pred_score_Group-57: {'y_real_label_rate': 0.0, 'y_pred_score_mean': 0.0002, 'y_pred_score_max': 0.0002, 'y_pred_score_min': 0.0002, 'group_size': 79}\n",
      "y_pred_score_Group-58: {'y_real_label_rate': 0.0, 'y_pred_score_mean': 0.0002, 'y_pred_score_max': 0.0002, 'y_pred_score_min': 0.0002, 'group_size': 80}\n",
      "y_pred_score_Group-59: {'y_real_label_rate': 0.0, 'y_pred_score_mean': 0.0002, 'y_pred_score_max': 0.0002, 'y_pred_score_min': 0.0002, 'group_size': 79}\n",
      "y_pred_score_Group-60: {'y_real_label_rate': 0.0, 'y_pred_score_mean': 0.0002, 'y_pred_score_max': 0.0002, 'y_pred_score_min': 0.0002, 'group_size': 80}\n",
      "y_pred_score_Group-61: {'y_real_label_rate': 0.0, 'y_pred_score_mean': 0.0002, 'y_pred_score_max': 0.0002, 'y_pred_score_min': 0.0002, 'group_size': 80}\n",
      "y_pred_score_Group-62: {'y_real_label_rate': 0.0, 'y_pred_score_mean': 0.0002, 'y_pred_score_max': 0.0002, 'y_pred_score_min': 0.0002, 'group_size': 80}\n",
      "y_pred_score_Group-63: {'y_real_label_rate': 0.0, 'y_pred_score_mean': 0.0002, 'y_pred_score_max': 0.0002, 'y_pred_score_min': 0.0002, 'group_size': 78}\n",
      "y_pred_score_Group-64: {'y_real_label_rate': 0.0, 'y_pred_score_mean': 0.0002, 'y_pred_score_max': 0.0002, 'y_pred_score_min': 0.0002, 'group_size': 80}\n",
      "y_pred_score_Group-65: {'y_real_label_rate': 0.0, 'y_pred_score_mean': 0.0002, 'y_pred_score_max': 0.0002, 'y_pred_score_min': 0.0002, 'group_size': 79}\n",
      "y_pred_score_Group-66: {'y_real_label_rate': 0.0, 'y_pred_score_mean': 0.0002, 'y_pred_score_max': 0.0002, 'y_pred_score_min': 0.0002, 'group_size': 80}\n",
      "y_pred_score_Group-67: {'y_real_label_rate': 0.0, 'y_pred_score_mean': 0.0002, 'y_pred_score_max': 0.0002, 'y_pred_score_min': 0.0002, 'group_size': 79}\n",
      "y_pred_score_Group-68: {'y_real_label_rate': 0.0, 'y_pred_score_mean': 0.0002, 'y_pred_score_max': 0.0002, 'y_pred_score_min': 0.0002, 'group_size': 80}\n",
      "y_pred_score_Group-69: {'y_real_label_rate': 0.0, 'y_pred_score_mean': 0.0002, 'y_pred_score_max': 0.0002, 'y_pred_score_min': 0.0002, 'group_size': 80}\n",
      "y_pred_score_Group-70: {'y_real_label_rate': 0.0, 'y_pred_score_mean': 0.0002, 'y_pred_score_max': 0.0002, 'y_pred_score_min': 0.0002, 'group_size': 79}\n",
      "y_pred_score_Group-71: {'y_real_label_rate': 0.0, 'y_pred_score_mean': 0.0002, 'y_pred_score_max': 0.0002, 'y_pred_score_min': 0.0002, 'group_size': 79}\n",
      "y_pred_score_Group-72: {'y_real_label_rate': 0.0, 'y_pred_score_mean': 0.0002, 'y_pred_score_max': 0.0002, 'y_pred_score_min': 0.0002, 'group_size': 80}\n",
      "y_pred_score_Group-73: {'y_real_label_rate': 0.0, 'y_pred_score_mean': 0.0002, 'y_pred_score_max': 0.0002, 'y_pred_score_min': 0.0002, 'group_size': 79}\n",
      "y_pred_score_Group-74: {'y_real_label_rate': 0.0, 'y_pred_score_mean': 0.0002, 'y_pred_score_max': 0.0002, 'y_pred_score_min': 0.0002, 'group_size': 80}\n",
      "y_pred_score_Group-75: {'y_real_label_rate': 0.0, 'y_pred_score_mean': 0.0002, 'y_pred_score_max': 0.0002, 'y_pred_score_min': 0.0002, 'group_size': 81}\n",
      "y_pred_score_Group-76: {'y_real_label_rate': 0.0, 'y_pred_score_mean': 0.0002, 'y_pred_score_max': 0.0002, 'y_pred_score_min': 0.0002, 'group_size': 77}\n",
      "y_pred_score_Group-77: {'y_real_label_rate': 0.0, 'y_pred_score_mean': 0.0002, 'y_pred_score_max': 0.0002, 'y_pred_score_min': 0.0002, 'group_size': 80}\n",
      "y_pred_score_Group-78: {'y_real_label_rate': 0.0, 'y_pred_score_mean': 0.0002, 'y_pred_score_max': 0.0002, 'y_pred_score_min': 0.0002, 'group_size': 79}\n",
      "y_pred_score_Group-79: {'y_real_label_rate': 0.0, 'y_pred_score_mean': 0.0002, 'y_pred_score_max': 0.0002, 'y_pred_score_min': 0.0002, 'group_size': 80}\n",
      "y_pred_score_Group-80: {'y_real_label_rate': 0.0, 'y_pred_score_mean': 0.0002, 'y_pred_score_max': 0.0002, 'y_pred_score_min': 0.0002, 'group_size': 79}\n",
      "y_pred_score_Group-81: {'y_real_label_rate': 0.0, 'y_pred_score_mean': 0.0002, 'y_pred_score_max': 0.0002, 'y_pred_score_min': 0.0002, 'group_size': 80}\n",
      "y_pred_score_Group-82: {'y_real_label_rate': 0.0, 'y_pred_score_mean': 0.0002, 'y_pred_score_max': 0.0002, 'y_pred_score_min': 0.0002, 'group_size': 79}\n",
      "y_pred_score_Group-83: {'y_real_label_rate': 0.0, 'y_pred_score_mean': 0.0002, 'y_pred_score_max': 0.0002, 'y_pred_score_min': 0.0002, 'group_size': 80}\n",
      "y_pred_score_Group-84: {'y_real_label_rate': 0.0, 'y_pred_score_mean': 0.0002, 'y_pred_score_max': 0.0002, 'y_pred_score_min': 0.0002, 'group_size': 79}\n",
      "y_pred_score_Group-85: {'y_real_label_rate': 0.0, 'y_pred_score_mean': 0.0002, 'y_pred_score_max': 0.0002, 'y_pred_score_min': 0.0002, 'group_size': 80}\n",
      "y_pred_score_Group-86: {'y_real_label_rate': 0.0, 'y_pred_score_mean': 0.0002, 'y_pred_score_max': 0.0002, 'y_pred_score_min': 0.0002, 'group_size': 79}\n",
      "y_pred_score_Group-87: {'y_real_label_rate': 0.0, 'y_pred_score_mean': 0.0002, 'y_pred_score_max': 0.0002, 'y_pred_score_min': 0.0002, 'group_size': 80}\n",
      "y_pred_score_Group-88: {'y_real_label_rate': 0.0, 'y_pred_score_mean': 0.0002, 'y_pred_score_max': 0.0002, 'y_pred_score_min': 0.0002, 'group_size': 79}\n",
      "y_pred_score_Group-89: {'y_real_label_rate': 0.0, 'y_pred_score_mean': 0.0003, 'y_pred_score_max': 0.0003, 'y_pred_score_min': 0.0002, 'group_size': 80}\n",
      "y_pred_score_Group-90: {'y_real_label_rate': 0.0, 'y_pred_score_mean': 0.0003, 'y_pred_score_max': 0.0003, 'y_pred_score_min': 0.0003, 'group_size': 79}\n",
      "y_pred_score_Group-91: {'y_real_label_rate': 0.0, 'y_pred_score_mean': 0.0003, 'y_pred_score_max': 0.0003, 'y_pred_score_min': 0.0003, 'group_size': 80}\n",
      "y_pred_score_Group-92: {'y_real_label_rate': 0.0, 'y_pred_score_mean': 0.0003, 'y_pred_score_max': 0.0003, 'y_pred_score_min': 0.0003, 'group_size': 79}\n",
      "y_pred_score_Group-93: {'y_real_label_rate': 0.0, 'y_pred_score_mean': 0.0003, 'y_pred_score_max': 0.0003, 'y_pred_score_min': 0.0003, 'group_size': 80}\n",
      "y_pred_score_Group-94: {'y_real_label_rate': 0.0, 'y_pred_score_mean': 0.0003, 'y_pred_score_max': 0.0003, 'y_pred_score_min': 0.0003, 'group_size': 79}\n",
      "y_pred_score_Group-95: {'y_real_label_rate': 0.0, 'y_pred_score_mean': 0.0003, 'y_pred_score_max': 0.0003, 'y_pred_score_min': 0.0003, 'group_size': 80}\n",
      "y_pred_score_Group-96: {'y_real_label_rate': 0.0, 'y_pred_score_mean': 0.0004, 'y_pred_score_max': 0.0007, 'y_pred_score_min': 0.0003, 'group_size': 79}\n",
      "y_pred_score_Group-97: {'y_real_label_rate': 0.0, 'y_pred_score_mean': 0.0056, 'y_pred_score_max': 0.0066, 'y_pred_score_min': 0.0007, 'group_size': 80}\n",
      "y_pred_score_Group-98: {'y_real_label_rate': 0.0, 'y_pred_score_mean': 0.0089, 'y_pred_score_max': 0.0185, 'y_pred_score_min': 0.0066, 'group_size': 79}\n",
      "y_pred_score_Group-99: {'y_real_label_rate': 0.0625, 'y_pred_score_mean': 0.083, 'y_pred_score_max': 0.389, 'y_pred_score_min': 0.0187, 'group_size': 80}\n"
     ]
    },
    {
     "data": {
      "image/png": "[encoded data removed]",
      "text/plain": [
       "<Figure size 1000x800 with 1 Axes>"
      ]
     },
     "metadata": {},
     "output_type": "display_data"
    },
    {
     "data": {
      "image/png": "[encoded data removed]",
      "text/plain": [
       "<Figure size 1000x1000 with 1 Axes>"
      ]
     },
     "metadata": {},
     "output_type": "display_data"
    }
   ],
   "source": [
    "from sklearn.metrics import accuracy_score, precision_score, recall_score, f1_score, roc_auc_score\n",
    "from sklearn.metrics import roc_curve, auc\n",
    "from sklearn.metrics import confusion_matrix\n",
    "import numpy as np \n",
    "\n",
    "\n",
    "# For binary classification, convert probabilities to binary predictions (0 or 1)\n",
    "# This threshold can be adjusted based on your requirements\n",
    "threshold = 0.1\n",
    "\n",
    "for EvalSetName in EvalSetNames:\n",
    "    print(EvalSetName)\n",
    "    dataset = ds_case_final_dict[EvalSetName]\n",
    "    X, y_real_label = dataset['X'], dataset['Y']\n",
    "    \n",
    "    y_real_label_mean = np.mean(y_real_label)\n",
    "    if y_real_label_mean == 0: \n",
    "        print(f\"Mean of Real Y: {y_real_label_mean} is 0\"); continue\n",
    "\n",
    "    y_pred_score = model.predict_proba(X)[:, 1] # 0, negative, 1, positive\n",
    "    y_pred_label = [1 if score > threshold else 0 for score in y_pred_score]\n",
    "    \n",
    "    assert len(y_real_label) == len(y_pred_label)\n",
    "\n",
    "    # Calculate metrics\n",
    "    accuracy  = round(accuracy_score(y_real_label, y_pred_label), 2)\n",
    "    precision = round(precision_score(y_real_label, y_pred_label), 2)\n",
    "    recall    = round(recall_score(y_real_label, y_pred_label), 2)\n",
    "    f1 = f1_score(y_real_label, y_pred_label)\n",
    "    roc_auc = roc_auc_score(y_real_label, y_pred_score)\n",
    "    fpr, tpr, thresholds = roc_curve(y_real_label, y_pred_score)\n",
    "    roc_auc = auc(fpr, tpr)\n",
    "\n",
    "    # Print metrics\n",
    "    num_sample = len(y_pred_label)\n",
    "    postive_num = (np.array(y_pred_label) == 1).sum()\n",
    "    label1_num = (np.array(y_real_label) == 1).sum()\n",
    "    print(f\"Mean of Real Y Label: {y_real_label_mean} over {num_sample} num_sample\")\n",
    "    print(f\"Accuracy (TP + TN / TP + TN + FP + FN): {accuracy} over {num_sample} num_sample\")\n",
    "    print(f\"Precision (TP / TP + FP): {precision} over {postive_num} postive_num\") # the choosed postive. how many are correct.\n",
    "    print(f\"Recall (TP / TP + FN): {recall} over {label1_num} label1_num\")\n",
    "    print(f\"F1 Score: {f1}\")\n",
    "    print(f\"ROC-AUC: {roc_auc}\")\n",
    "    \n",
    "    df = pd.DataFrame({'fpr': fpr, 'tpr': tpr, 'thresholds': thresholds})\n",
    "    print(df)\n",
    "\n",
    "    # Confusion matrix\n",
    "    # tn, fp, fn, tp = confusion_matrix(y_real_label, y_pred_label).ravel()\n",
    "\n",
    "    # # TPR and FPR\n",
    "    # if np.mean(y_pred_label) != 0 and np.mean(y_pred_label) != 1:\n",
    "    #     tpr = tp / (tp + fn)\n",
    "    #     fpr = fp / (fp + tn)\n",
    "    #     print('\\nthreshold:', threshold)\n",
    "    #     print(f\"True Positive Rate: {tpr}\")\n",
    "    #     print(f\"False Positive Rate: {fpr}\\n\")\n",
    "\n",
    "    # Create a DataFrame\n",
    "    df_eval = pd.DataFrame({\n",
    "        'y_real_label': y_real_label,\n",
    "        'y_pred_score': y_pred_score.tolist()\n",
    "    })\n",
    "\n",
    "    # Sort the DataFrame based on the 'Predicted' column\n",
    "    df_eval = df_eval.sort_values(by='y_pred_score', ascending=False) \n",
    "\n",
    "    # For each percentile: i% to i + 1 %, report its the ratio of that y label is 1.\n",
    "    # Calculate the percentile for each row based on the 'Predicted' column\n",
    "    Group_Num = 100\n",
    "    df_eval['y_pred_score_Group'] = pd.qcut(df_eval['y_pred_score'], Group_Num, labels=False)\n",
    "\n",
    "    # Calculate the ratio of y label being 1 for each percentile\n",
    "    Group_to_GroupInfo = {}\n",
    "    Group_Values = sorted(list(df_eval['y_pred_score_Group'].unique()))\n",
    "    for group_value in Group_Values:\n",
    "        df_eval_predscore_group = df_eval[df_eval['y_pred_score_Group'] == group_value]\n",
    "        y_real_label_rate = np.mean(df_eval_predscore_group['y_real_label'])\n",
    "\n",
    "        GroupInfo = {\n",
    "            'y_real_label_rate': y_real_label_rate,\n",
    "            'y_pred_score_mean': np.mean(df_eval_predscore_group['y_pred_score']),\n",
    "            'y_pred_score_max': np.max(df_eval_predscore_group['y_pred_score']),\n",
    "            'y_pred_score_min': np.min(df_eval_predscore_group['y_pred_score']),\n",
    "            'group_size': len(df_eval_predscore_group),\n",
    "        }\n",
    "        GroupInfo = {k: round(v, 4) for k, v in GroupInfo.items()}  \n",
    "        Group_to_GroupInfo[group_value] = GroupInfo\n",
    "    \n",
    "    # # Print the ratios for each percentile\n",
    "    for group_value, GroupInfo in Group_to_GroupInfo.items():\n",
    "        print(f\"y_pred_score_Group-{group_value}: {GroupInfo}\")\n",
    "\n",
    "    # Plot the ratios\n",
    "    plt.figure(figsize=(10, 8))\n",
    "    for label in GroupInfo:\n",
    "        if label == 'group_size': continue\n",
    "        plt.plot(Group_to_GroupInfo.keys(), \n",
    "                 [GroupInfo[label] for GroupInfo in Group_to_GroupInfo.values()],\n",
    "                 # marker='o',\n",
    "                 label = label)\n",
    "    plt.xlabel('y_pred_score_Group')\n",
    "    plt.ylabel('Ratio of y label being 1')\n",
    "    plt.title('Ratio of y label being 1 for each y_pred_score_Group')\n",
    "    plt.legend()\n",
    "    plt.show()\n",
    "\n",
    "\n",
    "    # Plot ROC curve\n",
    "    plt.figure(figsize=(10, 10))\n",
    "    plt.plot(fpr, tpr, color='darkorange', lw=2,\n",
    "            label='ROC curve (area = %0.2f)' % roc_auc)\n",
    "    plt.plot([0, 1], [0, 1], color='navy', lw=2, linestyle='--')\n",
    "    plt.xlim([0.0, 1.0])\n",
    "    plt.ylim([0.0, 1.05])\n",
    "    plt.xlabel('False Positive Rate')\n",
    "    plt.ylabel('True Positive Rate')\n",
    "    plt.title('Receiver Operating Characteristic')\n",
    "    plt.legend(loc=\"lower right\")\n",
    "\n",
    "    # Select thresholds to annotate on the curve\n",
    "    # You can choose specific thresholds that are of interest or select them based on criteria\n",
    "    indices_to_annotate = [len(thresholds) // 3 * 1, len(thresholds) // 2, len(thresholds) // 3 * 2, len(thresholds) - 1]  # Example: start, middle, end\n",
    "    for i in indices_to_annotate:\n",
    "        plt.annotate(f'Threshold={thresholds[i]:.2f}', (fpr[i], tpr[i]),\n",
    "                    textcoords=\"offset points\", xytext=(-10,-10), ha='center')\n",
    "\n",
    "    plt.show()\n"
   ]
  },
  {
   "cell_type": "markdown",
   "id": "ff753654",
   "metadata": {},
   "source": [
    "# Step 7: Save Model"
   ]
  },
  {
   "cell_type": "code",
   "execution_count": 32,
   "id": "2a8a9300",
   "metadata": {},
   "outputs": [
    {
     "name": "stdout",
     "output_type": "stream",
     "text": [
      "EduRxPred-2024.03.03-naive-XGBoost\n"
     ]
    }
   ],
   "source": [
    "from datetime import datetime\n",
    "###############\n",
    "TASK = SPACE['MODEL_TASK'].split('_')[-1]\n",
    "date = datetime.now().strftime(\"%Y.%m.%d\")\n",
    "model_checkpoint_name = f'{TASK}-{date}-naive-XGBoost'\n",
    "print(model_checkpoint_name)\n",
    "###############\n",
    "\n",
    "model_repo_local = '../model/model_phase1/v0.1/'\n",
    "\n",
    "\n",
    "model_checkpoint_path = os.path.join(model_repo_local, model_checkpoint_name)\n",
    "if not os.path.exists(model_checkpoint_path): os.makedirs(model_checkpoint_path)"
   ]
  },
  {
   "cell_type": "code",
   "execution_count": 33,
   "id": "51a9e093",
   "metadata": {},
   "outputs": [
    {
     "name": "stdout",
     "output_type": "stream",
     "text": [
      "../pipeline/fn_io/LoadXGBoost.py\n"
     ]
    }
   ],
   "source": [
    "####################################\n",
    "LoadFnMethod = 'LoadXGBoost'\n",
    "####################################\n",
    "\n",
    "\n",
    "import inspect\n",
    "\n",
    "def save_model(model, model_checkpoint_path):\n",
    "    if not os.path.exists(model_checkpoint_path): os.makedirs(model_checkpoint_path)\n",
    "    model_path = os.path.join(model_checkpoint_path, 'model.xgb')\n",
    "    model.save_model(model_path)\n",
    "\n",
    "def load_model(model_checkpoint_path):\n",
    "    model_path = os.path.join(model_checkpoint_path, 'model.xgb')\n",
    "    import xgboost as xgb\n",
    "    model = xgb.XGBClassifier()\n",
    "    model.load_model(model_path)\n",
    "    return model\n",
    "\n",
    "def model_inference(model, inputs):\n",
    "    X = inputs['X']\n",
    "    y_pred_scores = model.predict_proba(X)[:, 1]\n",
    "    # assert len(y_pred_scores) == 1\n",
    "    y_pred_score = y_pred_scores[0]\n",
    "    return y_pred_score\n",
    "\n",
    "save_model.fn_string = inspect.getsource(save_model)\n",
    "load_model.fn_string = inspect.getsource(load_model)\n",
    "model_inference.fn_string = inspect.getsource(model_inference)\n",
    "prefix = ['import pandas as pd', 'import numpy as np', 'import os']\n",
    "fn_variables = [save_model, load_model, model_inference]\n",
    "pycode = convert_variables_to_pystirng(fn_variables = fn_variables, prefix = prefix)\n",
    "pypath = os.path.join(SPACE['CODE_FN'], 'fn_io', f'{LoadFnMethod}.py')\n",
    "print(pypath)\n",
    "if not os.path.exists(os.path.dirname(pypath)): os.makedirs(os.path.dirname(pypath))\n",
    "with open(pypath, 'w') as file: file.write(pycode)\n"
   ]
  },
  {
   "cell_type": "code",
   "execution_count": 34,
   "id": "dfc68c5d",
   "metadata": {},
   "outputs": [
    {
     "data": {
      "text/plain": [
       "'../model/model_phase1/v0.1/EduRxPred-2024.03.03-naive-XGBoost'"
      ]
     },
     "execution_count": 34,
     "metadata": {},
     "output_type": "execute_result"
    }
   ],
   "source": [
    "model_checkpoint_path"
   ]
  },
  {
   "cell_type": "code",
   "execution_count": 35,
   "id": "662142de",
   "metadata": {},
   "outputs": [
    {
     "data": {
      "text/html": [
       "<style>#sk-container-id-2 {color: black;background-color: white;}#sk-container-id-2 pre{padding: 0;}#sk-container-id-2 div.sk-toggleable {background-color: white;}#sk-container-id-2 label.sk-toggleable__label {cursor: pointer;display: block;width: 100%;margin-bottom: 0;padding: 0.3em;box-sizing: border-box;text-align: center;}#sk-container-id-2 label.sk-toggleable__label-arrow:before {content: \"▸\";float: left;margin-right: 0.25em;color: #696969;}#sk-container-id-2 label.sk-toggleable__label-arrow:hover:before {color: black;}#sk-container-id-2 div.sk-estimator:hover label.sk-toggleable__label-arrow:before {color: black;}#sk-container-id-2 div.sk-toggleable__content {max-height: 0;max-width: 0;overflow: hidden;text-align: left;background-color: #f0f8ff;}#sk-container-id-2 div.sk-toggleable__content pre {margin: 0.2em;color: black;border-radius: 0.25em;background-color: #f0f8ff;}#sk-container-id-2 input.sk-toggleable__control:checked~div.sk-toggleable__content {max-height: 200px;max-width: 100%;overflow: auto;}#sk-container-id-2 input.sk-toggleable__control:checked~label.sk-toggleable__label-arrow:before {content: \"▾\";}#sk-container-id-2 div.sk-estimator input.sk-toggleable__control:checked~label.sk-toggleable__label {background-color: #d4ebff;}#sk-container-id-2 div.sk-label input.sk-toggleable__control:checked~label.sk-toggleable__label {background-color: #d4ebff;}#sk-container-id-2 input.sk-hidden--visually {border: 0;clip: rect(1px 1px 1px 1px);clip: rect(1px, 1px, 1px, 1px);height: 1px;margin: -1px;overflow: hidden;padding: 0;position: absolute;width: 1px;}#sk-container-id-2 div.sk-estimator {font-family: monospace;background-color: #f0f8ff;border: 1px dotted black;border-radius: 0.25em;box-sizing: border-box;margin-bottom: 0.5em;}#sk-container-id-2 div.sk-estimator:hover {background-color: #d4ebff;}#sk-container-id-2 div.sk-parallel-item::after {content: \"\";width: 100%;border-bottom: 1px solid gray;flex-grow: 1;}#sk-container-id-2 div.sk-label:hover label.sk-toggleable__label {background-color: #d4ebff;}#sk-container-id-2 div.sk-serial::before {content: \"\";position: absolute;border-left: 1px solid gray;box-sizing: border-box;top: 0;bottom: 0;left: 50%;z-index: 0;}#sk-container-id-2 div.sk-serial {display: flex;flex-direction: column;align-items: center;background-color: white;padding-right: 0.2em;padding-left: 0.2em;position: relative;}#sk-container-id-2 div.sk-item {position: relative;z-index: 1;}#sk-container-id-2 div.sk-parallel {display: flex;align-items: stretch;justify-content: center;background-color: white;position: relative;}#sk-container-id-2 div.sk-item::before, #sk-container-id-2 div.sk-parallel-item::before {content: \"\";position: absolute;border-left: 1px solid gray;box-sizing: border-box;top: 0;bottom: 0;left: 50%;z-index: -1;}#sk-container-id-2 div.sk-parallel-item {display: flex;flex-direction: column;z-index: 1;position: relative;background-color: white;}#sk-container-id-2 div.sk-parallel-item:first-child::after {align-self: flex-end;width: 50%;}#sk-container-id-2 div.sk-parallel-item:last-child::after {align-self: flex-start;width: 50%;}#sk-container-id-2 div.sk-parallel-item:only-child::after {width: 0;}#sk-container-id-2 div.sk-dashed-wrapped {border: 1px dashed gray;margin: 0 0.4em 0.5em 0.4em;box-sizing: border-box;padding-bottom: 0.4em;background-color: white;}#sk-container-id-2 div.sk-label label {font-family: monospace;font-weight: bold;display: inline-block;line-height: 1.2em;}#sk-container-id-2 div.sk-label-container {text-align: center;}#sk-container-id-2 div.sk-container {/* jupyter's `normalize.less` sets `[hidden] { display: none; }` but bootstrap.min.css set `[hidden] { display: none !important; }` so we also need the `!important` here to be able to override the default hidden behavior on the sphinx rendered scikit-learn.org. See: https://github.com/scikit-learn/scikit-learn/issues/21755 */display: inline-block !important;position: relative;}#sk-container-id-2 div.sk-text-repr-fallback {display: none;}</style><div id=\"sk-container-id-2\" class=\"sk-top-container\"><div class=\"sk-text-repr-fallback\"><pre>XGBClassifier(base_score=None, booster=None, callbacks=None,\n",
       "              colsample_bylevel=None, colsample_bynode=None,\n",
       "              colsample_bytree=None, early_stopping_rounds=10,\n",
       "              enable_categorical=False, eval_metric=&#x27;logloss&#x27;,\n",
       "              feature_types=None, gamma=None, gpu_id=None, grow_policy=None,\n",
       "              importance_type=None, interaction_constraints=None,\n",
       "              learning_rate=0.1, max_bin=None, max_cat_threshold=None,\n",
       "              max_cat_to_onehot=None, max_delta_step=None, max_depth=5,\n",
       "              max_leaves=None, min_child_weight=None, missing=nan,\n",
       "              monotone_constraints=None, n_estimators=500, n_jobs=None,\n",
       "              num_parallel_tree=None, predictor=None, random_state=42, ...)</pre><b>In a Jupyter environment, please rerun this cell to show the HTML representation or trust the notebook. <br />On GitHub, the HTML representation is unable to render, please try loading this page with nbviewer.org.</b></div><div class=\"sk-container\" hidden><div class=\"sk-item\"><div class=\"sk-estimator sk-toggleable\"><input class=\"sk-toggleable__control sk-hidden--visually\" id=\"sk-estimator-id-2\" type=\"checkbox\" checked><label for=\"sk-estimator-id-2\" class=\"sk-toggleable__label sk-toggleable__label-arrow\">XGBClassifier</label><div class=\"sk-toggleable__content\"><pre>XGBClassifier(base_score=None, booster=None, callbacks=None,\n",
       "              colsample_bylevel=None, colsample_bynode=None,\n",
       "              colsample_bytree=None, early_stopping_rounds=10,\n",
       "              enable_categorical=False, eval_metric=&#x27;logloss&#x27;,\n",
       "              feature_types=None, gamma=None, gpu_id=None, grow_policy=None,\n",
       "              importance_type=None, interaction_constraints=None,\n",
       "              learning_rate=0.1, max_bin=None, max_cat_threshold=None,\n",
       "              max_cat_to_onehot=None, max_delta_step=None, max_depth=5,\n",
       "              max_leaves=None, min_child_weight=None, missing=nan,\n",
       "              monotone_constraints=None, n_estimators=500, n_jobs=None,\n",
       "              num_parallel_tree=None, predictor=None, random_state=42, ...)</pre></div></div></div></div></div>"
      ],
      "text/plain": [
       "XGBClassifier(base_score=None, booster=None, callbacks=None,\n",
       "              colsample_bylevel=None, colsample_bynode=None,\n",
       "              colsample_bytree=None, early_stopping_rounds=10,\n",
       "              enable_categorical=False, eval_metric='logloss',\n",
       "              feature_types=None, gamma=None, gpu_id=None, grow_policy=None,\n",
       "              importance_type=None, interaction_constraints=None,\n",
       "              learning_rate=0.1, max_bin=None, max_cat_threshold=None,\n",
       "              max_cat_to_onehot=None, max_delta_step=None, max_depth=5,\n",
       "              max_leaves=None, min_child_weight=None, missing=nan,\n",
       "              monotone_constraints=None, n_estimators=500, n_jobs=None,\n",
       "              num_parallel_tree=None, predictor=None, random_state=42, ...)"
      ]
     },
     "execution_count": 35,
     "metadata": {},
     "output_type": "execute_result"
    }
   ],
   "source": [
    "save_model(model, model_checkpoint_path)\n",
    "model = load_model(model_checkpoint_path)\n",
    "model"
   ]
  },
  {
   "cell_type": "code",
   "execution_count": 36,
   "id": "49fd0d90",
   "metadata": {},
   "outputs": [
    {
     "data": {
      "text/plain": [
       "{'TriggerCaseMethod': 'TrulicityRx',\n",
       " 'cohort_label_list': [1],\n",
       " 'Trigger2LearningMethods': [{'op': 'Tag',\n",
       "   'Name': 'TagPttBasicInfo',\n",
       "   'type': 'learning-only'},\n",
       "  {'op': 'Filter', 'Name': 'FilterBasicPRx', 'type': 'learning-only'}]}"
      ]
     },
     "execution_count": 36,
     "metadata": {},
     "output_type": "execute_result"
    }
   ],
   "source": [
    "case_args = {\n",
    "    'TriggerCaseMethod': TriggerCaseMethod,\n",
    "    'cohort_label_list': cohort_label_list,\n",
    "    'Trigger2LearningMethods': Trigger2LearningMethods,\n",
    "}\n",
    "case_args"
   ]
  },
  {
   "cell_type": "code",
   "execution_count": 37,
   "id": "6f99ee46",
   "metadata": {},
   "outputs": [
    {
     "data": {
      "text/plain": [
       "{'RANDOM_SEED': 42,\n",
       " 'downsample_ratio': 1,\n",
       " 'out_ratio': 0,\n",
       " 'test_ratio': '2023.10.15',\n",
       " 'valid_ratio': 0.1,\n",
       " 'SplitMethod': 'rs42-ds1-out0ts2023.10.15vd0.1'}"
      ]
     },
     "execution_count": 37,
     "metadata": {},
     "output_type": "execute_result"
    }
   ],
   "source": [
    "split_args = {\n",
    "    'RANDOM_SEED': RANDOM_SEED,\n",
    "    'downsample_ratio': downsample_ratio,\n",
    "    'out_ratio': out_ratio,\n",
    "    'test_ratio': test_ratio,\n",
    "    'valid_ratio': valid_ratio,\n",
    "    'SplitMethod': SplitMethod,\n",
    "}\n",
    "split_args"
   ]
  },
  {
   "cell_type": "code",
   "execution_count": 38,
   "id": "60d4b8b9",
   "metadata": {},
   "outputs": [
    {
     "data": {
      "text/plain": [
       "{'TrainSetName': 'in_train:all',\n",
       " 'EvalSetNames': ['in_valid:all', 'in_test:all'],\n",
       " 'SubGroupFilterMethod': {}}"
      ]
     },
     "execution_count": 38,
     "metadata": {},
     "output_type": "execute_result"
    }
   ],
   "source": [
    "set_args = {\n",
    "    'TrainSetName': TrainSetName,\n",
    "    'EvalSetNames': EvalSetNames,\n",
    "    'SubGroupFilterMethod': SubGroupFilterMethod,\n",
    "}\n",
    "set_args"
   ]
  },
  {
   "cell_type": "code",
   "execution_count": 39,
   "id": "0328deb5",
   "metadata": {},
   "outputs": [
    {
     "data": {
      "text/plain": [
       "{'InputX': {'case_observations': ['PDemo:ro.P-Demo_ct.InCaseTkn',\n",
       "   'PZip3Demo:ro.P-Zip3DemoNume_ct.InCaseTkn',\n",
       "   'PZip3Econ:ro.P-Zip3EconNume_ct.InCaseTkn',\n",
       "   'PZip3House:ro.P-Zip3HousingNume_ct.InCaseTkn',\n",
       "   'PZip3Social:ro.P-Zip3SocialNume_ct.InCaseTkn',\n",
       "   'RxInCase1:ro.Rx-InObs-CmpCate_ct.InCaseTkn',\n",
       "   'RxInCase2:ro.Rx-InObs-InsCate_ct.InCaseTkn',\n",
       "   'RxInCase4:ro.Rx-InObs-QuantNume_ct.InCaseTkn',\n",
       "   'RxInCase5:ro.Rx-InObs-ServiceCate_ct.InCaseTkn',\n",
       "   'RxInCase6:ro.Rx-InObs-SysCate_ct.InCaseTkn',\n",
       "   'RxInObsNum:ro.Rx-InObs_ct.RecNum'],\n",
       "  'name_CaseGamma': 'InputCatCOs'},\n",
       " 'OutputY': {'case_observations': ['FutEduTknY:ro.EgmEdu-Af1W_ct.FutRxEduTkn'],\n",
       "  'name_CaseGamma': 'LabelBinaryRxBtn'}}"
      ]
     },
     "execution_count": 39,
     "metadata": {},
     "output_type": "execute_result"
    }
   ],
   "source": [
    "datapoint_args = Gamma_Configs\n",
    "datapoint_args"
   ]
  },
  {
   "cell_type": "code",
   "execution_count": 40,
   "id": "5eb90d98",
   "metadata": {},
   "outputs": [
    {
     "data": {
      "text/plain": [
       "{'entry_method_for_input': 'get_MLSparseMatrix_return_X',\n",
       " 'entry_method_for_output': 'get_OutputBinaryLabel_return_Y',\n",
       " 'entry_method_for_finaldata': 'tuple_XMatrix_and_YMatrix'}"
      ]
     },
     "execution_count": 40,
     "metadata": {},
     "output_type": "execute_result"
    }
   ],
   "source": [
    "entry_args"
   ]
  },
  {
   "cell_type": "code",
   "execution_count": 41,
   "id": "2fcaf54d",
   "metadata": {},
   "outputs": [
    {
     "data": {
      "text/plain": [
       "{'TrainSetName': 'in_train:all',\n",
       " 'EvalSetNames': ['in_valid:all', 'in_test:all'],\n",
       " 'SubGroupFilterMethod': {}}"
      ]
     },
     "execution_count": 41,
     "metadata": {},
     "output_type": "execute_result"
    }
   ],
   "source": [
    "set_args"
   ]
  },
  {
   "cell_type": "code",
   "execution_count": 42,
   "id": "cd396ab1",
   "metadata": {},
   "outputs": [
    {
     "name": "stdout",
     "output_type": "stream",
     "text": [
      "{'case_args': {'TriggerCaseMethod': 'TrulicityRx',\n",
      "               'cohort_label_list': [1],\n",
      "               'Trigger2LearningMethods': [{'op': 'Tag',\n",
      "                                            'Name': 'TagPttBasicInfo',\n",
      "                                            'type': 'learning-only'},\n",
      "                                           {'op': 'Filter',\n",
      "                                            'Name': 'FilterBasicPRx',\n",
      "                                            'type': 'learning-only'}]},\n",
      " 'split_args': {'RANDOM_SEED': 42,\n",
      "                'downsample_ratio': 1,\n",
      "                'out_ratio': 0,\n",
      "                'test_ratio': '2023.10.15',\n",
      "                'valid_ratio': 0.1,\n",
      "                'SplitMethod': 'rs42-ds1-out0ts2023.10.15vd0.1'},\n",
      " 'set_args': {'TrainSetName': 'in_train:all',\n",
      "              'EvalSetNames': ['in_valid:all', 'in_test:all'],\n",
      "              'SubGroupFilterMethod': {}},\n",
      " 'datapoint_args': {'InputX': {'case_observations': ['PDemo:ro.P-Demo_ct.InCaseTkn',\n",
      "                                                     'PZip3Demo:ro.P-Zip3DemoNume_ct.InCaseTkn',\n",
      "                                                     'PZip3Econ:ro.P-Zip3EconNume_ct.InCaseTkn',\n",
      "                                                     'PZip3House:ro.P-Zip3HousingNume_ct.InCaseTkn',\n",
      "                                                     'PZip3Social:ro.P-Zip3SocialNume_ct.InCaseTkn',\n",
      "                                                     'RxInCase1:ro.Rx-InObs-CmpCate_ct.InCaseTkn',\n",
      "                                                     'RxInCase2:ro.Rx-InObs-InsCate_ct.InCaseTkn',\n",
      "                                                     'RxInCase4:ro.Rx-InObs-QuantNume_ct.InCaseTkn',\n",
      "                                                     'RxInCase5:ro.Rx-InObs-ServiceCate_ct.InCaseTkn',\n",
      "                                                     'RxInCase6:ro.Rx-InObs-SysCate_ct.InCaseTkn',\n",
      "                                                     'RxInObsNum:ro.Rx-InObs_ct.RecNum'],\n",
      "                               'name_CaseGamma': 'InputCatCOs'},\n",
      "                    'OutputY': {'case_observations': ['FutEduTknY:ro.EgmEdu-Af1W_ct.FutRxEduTkn'],\n",
      "                                'name_CaseGamma': 'LabelBinaryRxBtn'}},\n",
      " 'entry_args': {'entry_method_for_input': 'get_MLSparseMatrix_return_X',\n",
      "                'entry_method_for_output': 'get_OutputBinaryLabel_return_Y',\n",
      "                'entry_method_for_finaldata': 'tuple_XMatrix_and_YMatrix'}}\n"
     ]
    }
   ],
   "source": [
    "data_args = {\n",
    "    'case_args': case_args,\n",
    "    'split_args': split_args,\n",
    "    'set_args': set_args,\n",
    "    'datapoint_args': datapoint_args,\n",
    "    'entry_args': entry_args,\n",
    "}\n",
    "\n",
    "pprint(data_args, sort_dicts=False) "
   ]
  },
  {
   "cell_type": "code",
   "execution_count": 43,
   "id": "c834bf8a",
   "metadata": {},
   "outputs": [],
   "source": [
    "# preprocess dp to models."
   ]
  },
  {
   "cell_type": "code",
   "execution_count": 44,
   "id": "6d8a7a84",
   "metadata": {},
   "outputs": [
    {
     "data": {
      "text/plain": [
       "{'algorithm': 'XGBClassifier', 'random_state': 42, 'max_depth': 5}"
      ]
     },
     "execution_count": 44,
     "metadata": {},
     "output_type": "execute_result"
    }
   ],
   "source": [
    "model_args"
   ]
  },
  {
   "cell_type": "code",
   "execution_count": 45,
   "id": "b1487ae4",
   "metadata": {},
   "outputs": [
    {
     "data": {
      "text/plain": [
       "{'n_estimators': 500,\n",
       " 'learning_rate': 0.1,\n",
       " 'objective': 'binary:logistic',\n",
       " 'early_stopping_rounds': 10,\n",
       " 'eval_metric': 'logloss'}"
      ]
     },
     "execution_count": 45,
     "metadata": {},
     "output_type": "execute_result"
    }
   ],
   "source": [
    "training_args"
   ]
  },
  {
   "cell_type": "code",
   "execution_count": 46,
   "id": "f4fc84b3",
   "metadata": {},
   "outputs": [
    {
     "data": {
      "text/plain": [
       "{'model_checkpoint_name': 'EduRxPred-2024.03.03-naive-XGBoost',\n",
       " 'LoadFnMethod': 'LoadXGBoost'}"
      ]
     },
     "execution_count": 46,
     "metadata": {},
     "output_type": "execute_result"
    }
   ],
   "source": [
    "io_args = {\n",
    "    'model_checkpoint_name': model_checkpoint_name,\n",
    "    'LoadFnMethod': LoadFnMethod,\n",
    "}\n",
    "io_args"
   ]
  },
  {
   "cell_type": "code",
   "execution_count": 47,
   "id": "9ebb1ae3",
   "metadata": {},
   "outputs": [
    {
     "data": {
      "text/plain": [
       "{'RecNameList': ['P', 'PInv', 'Rx'],\n",
       " 'CkpdNameList': ['InObs'],\n",
       " 'FldTknList': ['P-DemoTkn',\n",
       "  'P-Zip3DemoNumeTkn',\n",
       "  'P-Zip3EconNumeTkn',\n",
       "  'P-Zip3HousingNumeTkn',\n",
       "  'P-Zip3SocialNumeTkn',\n",
       "  'Rx-CmpCateTkn',\n",
       "  'Rx-InsCateTkn',\n",
       "  'Rx-QuantNumeTkn',\n",
       "  'Rx-ServiceCateTkn',\n",
       "  'Rx-SysCateTkn'],\n",
       " 'CasePhiList': ['InCaseTkn', 'RecNum']}"
      ]
     },
     "execution_count": 47,
     "metadata": {},
     "output_type": "execute_result"
    }
   ],
   "source": [
    "from recfldtkn.pipeline_model import load_complete_PipelineInfo\n",
    "\n",
    "\n",
    "use_inference = True\n",
    "PipelineInfo = load_complete_PipelineInfo(datapoint_args, base_config, use_inference)\n",
    "PipelineInfo"
   ]
  },
  {
   "cell_type": "code",
   "execution_count": 48,
   "id": "ab1097de",
   "metadata": {},
   "outputs": [
    {
     "data": {
      "text/plain": [
       "{'RecNameList': ['P', 'PInv', 'Rx', 'EgmEdu'],\n",
       " 'CkpdNameList': ['Af1W', 'InObs'],\n",
       " 'FldTknList': ['P-DemoTkn',\n",
       "  'P-Zip3DemoNumeTkn',\n",
       "  'P-Zip3EconNumeTkn',\n",
       "  'P-Zip3HousingNumeTkn',\n",
       "  'P-Zip3SocialNumeTkn',\n",
       "  'Rx-CmpCateTkn',\n",
       "  'Rx-InsCateTkn',\n",
       "  'Rx-QuantNumeTkn',\n",
       "  'Rx-ServiceCateTkn',\n",
       "  'Rx-SysCateTkn'],\n",
       " 'CasePhiList': ['FutRxEduTkn', 'InCaseTkn', 'RecNum']}"
      ]
     },
     "execution_count": 48,
     "metadata": {},
     "output_type": "execute_result"
    }
   ],
   "source": [
    "use_inference = False\n",
    "PipelineInfo = load_complete_PipelineInfo(datapoint_args, base_config, use_inference)\n",
    "PipelineInfo"
   ]
  },
  {
   "cell_type": "code",
   "execution_count": 49,
   "id": "fa48aa06",
   "metadata": {},
   "outputs": [
    {
     "data": {
      "text/plain": [
       "{'DATA_RAW': '../_Data/0-Data_Raw',\n",
       " 'DATA_RFT': '../_Data/1-Data_RFT',\n",
       " 'DATA_EXTERNAL': '../external',\n",
       " 'DATA_CaseObs': '../_Data/2-Data_CaseObs',\n",
       " 'DATA_CaseFeat': '../_Data/3-Data_CaseFeat',\n",
       " 'DATA_CaseSet': '../_Data/4-Data_CaseSet',\n",
       " 'CODE_FN': '../pipeline',\n",
       " 'CODE_RFT': '../pipeline',\n",
       " 'DATA_TASK': 'Data_EduRxPred',\n",
       " 'MODEL_TASK': 'Model_EduRxPred',\n",
       " 'TaskName': 'EduRxPred',\n",
       " 'WORKSPACE_PATH': '/Users/floydluo/Library/CloudStorage/OneDrive-DRFIRST.COM,INC/Documents - DrFirst-JHU Collaboration Center/DrFirst-Project/2024-DrFirst-v2-SPACE/_DrFirst-AI-EduRxPred-WorkSpace'}"
      ]
     },
     "execution_count": 49,
     "metadata": {},
     "output_type": "execute_result"
    }
   ],
   "source": [
    "SPACE"
   ]
  },
  {
   "cell_type": "code",
   "execution_count": 50,
   "id": "933d0552",
   "metadata": {},
   "outputs": [],
   "source": [
    "\n",
    "New_SPACE = {\n",
    "    # 'WORKSPACE_PATH': WORKSPACE_PATH, \n",
    "    'DATA_EXTERNAL': f'external',\n",
    "    'CODE_FN': f'pipeline', \n",
    "    'CODE_RFT': f'pipeline',\n",
    "    'DATA_RAW': None ,\n",
    "    'DATA_RFT': None,\n",
    "    'DATA_CaseObs': None,\n",
    "    'DATA_CaseFeat': None,\n",
    "    'DATA_CaseSet': None,\n",
    "    'DATA_TASK': None,\n",
    "    'MODEL_TASK': None, \n",
    "    'TaskName': None,\n",
    "}"
   ]
  },
  {
   "cell_type": "code",
   "execution_count": 51,
   "id": "0c6597cc",
   "metadata": {},
   "outputs": [],
   "source": [
    "checkpoint_args = {\n",
    "    'data_args': data_args,\n",
    "    'model_args': model_args,\n",
    "    'training_args': training_args,\n",
    "    'io_args': io_args,\n",
    "    'SPACE': New_SPACE,\n",
    "}"
   ]
  },
  {
   "cell_type": "code",
   "execution_count": 52,
   "id": "66cc5355",
   "metadata": {},
   "outputs": [
    {
     "name": "stdout",
     "output_type": "stream",
     "text": [
      "../model/model_phase1/v0.1/EduRxPred-2024.03.03-naive-XGBoost/pipeline\n",
      "../model/model_phase1/v0.1/EduRxPred-2024.03.03-naive-XGBoost/external\n"
     ]
    }
   ],
   "source": [
    "import json\n",
    "import shutil\n",
    "# checkpioint_args\n",
    "\n",
    "#### model\n",
    "model_path = os.path.join(model_checkpoint_path, 'model.xgb')\n",
    "LoadFnMethod = LoadFnMethod\n",
    "\n",
    "#### checkpoint_args_path\n",
    "path = os.path.join(model_checkpoint_path, 'checkpoint_args.json')\n",
    "with open(path, 'w') as f:\n",
    "    json.dump(checkpoint_args, f, indent=4)\n",
    "\n",
    "\n",
    "#### CFType_to_CFVocab\n",
    "CFType_to_CFVocab = {k: v['CF_vocab'] for k, v in CFType_to_CaseFeatInfo.items()}\n",
    "path = os.path.join(model_checkpoint_path, 'CFType_to_CFVocab.json')\n",
    "with open(path, 'w') as f:\n",
    "    json.dump(CFType_to_CFVocab, f, indent=4)\n",
    "\n",
    "\n",
    "#### pipeline \n",
    "pipeline_folder = os.path.join(model_checkpoint_path, 'pipeline')\n",
    "if os.path.exists(pipeline_folder):\n",
    "    shutil.rmtree(pipeline_folder)\n",
    "shutil.copytree(SPACE['CODE_FN'], pipeline_folder)\n",
    "print(pipeline_folder)\n",
    "\n",
    "\n",
    "#### external \n",
    "external_folder = os.path.join(model_checkpoint_path, 'external')\n",
    "if os.path.exists(external_folder):\n",
    "    shutil.rmtree(external_folder)\n",
    "shutil.copytree(SPACE['DATA_EXTERNAL'], external_folder)\n",
    "print(external_folder)"
   ]
  },
  {
   "cell_type": "code",
   "execution_count": null,
   "id": "4235047a",
   "metadata": {},
   "outputs": [],
   "source": []
  }
 ],
 "metadata": {
  "kernelspec": {
   "display_name": "Python 3 (ipykernel)",
   "language": "python",
   "name": "python3"
  },
  "language_info": {
   "codemirror_mode": {
    "name": "ipython",
    "version": 3
   },
   "file_extension": ".py",
   "mimetype": "text/x-python",
   "name": "python",
   "nbconvert_exporter": "python",
   "pygments_lexer": "ipython3",
   "version": "3.8.8"
  },
  "toc-autonumbering": true
 },
 "nbformat": 4,
 "nbformat_minor": 5
}
