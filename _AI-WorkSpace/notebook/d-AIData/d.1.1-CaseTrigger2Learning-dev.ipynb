{
 "cells": [
  {
   "cell_type": "markdown",
   "id": "881d73c8-f12f-4a9b-a485-996a76289767",
   "metadata": {},
   "source": [
    "\n",
    "# Space"
   ]
  },
  {
   "cell_type": "code",
   "execution_count": null,
   "id": "c8fa8c69",
   "metadata": {},
   "outputs": [],
   "source": [
    "import os\n",
    "import sys \n",
    "import logging\n",
    "import pandas as pd \n",
    "from pprint import pprint \n",
    "\n",
    "# WorkSpace\n",
    "KEY = 'WorkSpace'; WORKSPACE_PATH = os.getcwd().split(KEY)[0] + KEY; print(WORKSPACE_PATH)\n",
    "os.chdir(WORKSPACE_PATH)\n",
    "sys.path.append(WORKSPACE_PATH)\n",
    "\n",
    "# Pipeline Space\n",
    "from proj_space import SPACE\n",
    "SPACE['WORKSPACE_PATH'] = WORKSPACE_PATH\n",
    "sys.path.append(SPACE['CODE_FN'])\n",
    "pprint(SPACE)\n",
    "\n",
    "# Available Packages\n",
    "import pandas as pd\n",
    "from datetime import datetime \n",
    "\n",
    "logger = logging.getLogger(__name__)\n",
    "recfldtkn_config_path = os.path.join(SPACE['CODE_FN'], 'config_recfldtkn/')\n"
   ]
  },
  {
   "cell_type": "markdown",
   "id": "233a145e",
   "metadata": {},
   "source": [
    "# Trigger Events"
   ]
  },
  {
   "cell_type": "code",
   "execution_count": null,
   "id": "2bf2543e",
   "metadata": {},
   "outputs": [],
   "source": [
    "import datasets\n",
    "from recfldtkn.loadtools import load_ds_rec_and_info\n",
    "from recfldtkn.configfn import load_cohort_args, load_record_args\n",
    "\n",
    "base_config = load_cohort_args(recfldtkn_config_path, SPACE)\n",
    "print(base_config)"
   ]
  },
  {
   "cell_type": "markdown",
   "id": "b34c6e88",
   "metadata": {},
   "source": [
    "# TriggerCaseMethod"
   ]
  },
  {
   "cell_type": "code",
   "execution_count": null,
   "id": "59770bc4",
   "metadata": {},
   "outputs": [],
   "source": [
    "######################################\n",
    "TriggerCaseMethod = 'CGM5MinEntry'\n",
    "\n",
    "cohort_label_list = [1]\n",
    "######################################"
   ]
  },
  {
   "cell_type": "code",
   "execution_count": null,
   "id": "56db8208",
   "metadata": {},
   "outputs": [],
   "source": [
    "from recfldtkn.loadtools import load_module_variables\n",
    "\n",
    "pypath = os.path.join(base_config['trigger_pyfolder'], f'{TriggerCaseMethod}.py')\n",
    "module = load_module_variables(pypath)\n",
    "TriggerRecName = module.TriggerRecName\n",
    "case_id_columns = module.case_id_columns\n",
    "special_columns = module.special_columns\n",
    "convert_TriggerEvent_to_Caseset = module.convert_TriggerEvent_to_Caseset\n",
    "\n",
    "ds_rec, _ = load_ds_rec_and_info(TriggerRecName, base_config, cohort_label_list)\n",
    "df_case = convert_TriggerEvent_to_Caseset(ds_rec, case_id_columns, special_columns, base_config)\n",
    "df_case"
   ]
  },
  {
   "cell_type": "code",
   "execution_count": null,
   "id": "093b2cfc",
   "metadata": {},
   "outputs": [],
   "source": [
    "#####################\n",
    "df_case = df_case.sample(1000, random_state=42)\n",
    "#####################\n",
    "df_case"
   ]
  },
  {
   "cell_type": "markdown",
   "id": "678e771f",
   "metadata": {},
   "source": [
    "# Case from Trigger to Learning"
   ]
  },
  {
   "cell_type": "markdown",
   "id": "d453c5d8",
   "metadata": {},
   "source": [
    "## Tag: TagPttBasicInfo"
   ]
  },
  {
   "cell_type": "code",
   "execution_count": null,
   "id": "abf05e2f",
   "metadata": {},
   "outputs": [],
   "source": [
    "##################################\n",
    "TagMethod = 'TagWDPttBasicInfo'\n",
    "##################################\n",
    "\n",
    "import inspect\n",
    "\n",
    "InfoRecName = 'P'\n",
    "subgroup_columns = ['Gender', 'YearOfBirth', 'DiseaseType']\n",
    "\n",
    "def fn_case_tagging(df_case, ds_info, subgroup_columns, base_config):\n",
    "    RootID = base_config['RootID']\n",
    "    ds_info = ds_info.select_columns([RootID] + subgroup_columns)\n",
    "    df_info = ds_info.to_pandas()\n",
    "    df_info['cohort'] = df_info[RootID].apply(lambda x: 'C' + str(x)[:-base_config['RootIDLength']])\n",
    "    # df_info.head()\n",
    "    final_columns = [RootID] + subgroup_columns + ['cohort']\n",
    "\n",
    "    df_case = pd.merge(df_case, df_info[final_columns], how = 'left')\n",
    "    df_case['Age'] = df_case['ObsDT'].dt.year - df_case['YearOfBirth']\n",
    "    return df_case\n",
    "\n",
    "fn_case_tagging.fn_string = inspect.getsource(fn_case_tagging)"
   ]
  },
  {
   "cell_type": "code",
   "execution_count": null,
   "id": "44270d50",
   "metadata": {},
   "outputs": [],
   "source": [
    "from recfldtkn.loadtools import convert_variables_to_pystirng, load_module_variables\n",
    "\n",
    "prefix = ['import pandas as pd', 'import numpy as np']\n",
    "string_variables = [InfoRecName]\n",
    "iterative_variables = [subgroup_columns]\n",
    "fn_variables = [fn_case_tagging]\n",
    "pycode = convert_variables_to_pystirng(string_variables = string_variables, \n",
    "                                       iterative_variables = iterative_variables, \n",
    "                                       fn_variables = fn_variables, prefix = prefix)\n",
    "pypath = os.path.join(SPACE['CODE_FN'], 'fn_learning', f'{TagMethod}.py')\n",
    "print(pypath)\n",
    "if not os.path.exists(os.path.dirname(pypath)): os.makedirs(os.path.dirname(pypath))\n",
    "with open(pypath, 'w') as file: file.write(pycode)"
   ]
  },
  {
   "cell_type": "code",
   "execution_count": null,
   "id": "babce856",
   "metadata": {},
   "outputs": [],
   "source": [
    "pypath = os.path.join(SPACE['CODE_FN'], 'fn_learning', f'{TagMethod}.py')\n",
    "module = load_module_variables(pypath)\n",
    "InfoRecName = module.InfoRecName\n",
    "subgroup_columns = module.subgroup_columns\n",
    "fn_case_tagging = module.fn_case_tagging"
   ]
  },
  {
   "cell_type": "code",
   "execution_count": null,
   "id": "29e5b115",
   "metadata": {},
   "outputs": [],
   "source": [
    "ds_info, _ = load_ds_rec_and_info(InfoRecName, base_config, cohort_label_list)\n",
    "df_case = fn_case_tagging(df_case, ds_info, subgroup_columns, base_config)\n",
    "df_case"
   ]
  },
  {
   "cell_type": "code",
   "execution_count": null,
   "id": "3848278f",
   "metadata": {},
   "outputs": [],
   "source": [
    "series_time = df_case['ObsDT']\n",
    "print(series_time.min(), series_time.max())"
   ]
  },
  {
   "cell_type": "code",
   "execution_count": null,
   "id": "40b27084",
   "metadata": {},
   "outputs": [],
   "source": [
    "df_case['Age'].fillna('Missing').value_counts().sort_index()"
   ]
  },
  {
   "cell_type": "code",
   "execution_count": null,
   "id": "5b428ca5",
   "metadata": {},
   "outputs": [],
   "source": [
    "df_case['Age'].value_counts().sort_index().plot()#.reset_index()#.plot()"
   ]
  },
  {
   "cell_type": "markdown",
   "id": "ff7f9419",
   "metadata": {},
   "source": [
    "## Filter: FilterBasicPttWD"
   ]
  },
  {
   "cell_type": "code",
   "execution_count": null,
   "id": "3d9a9822",
   "metadata": {},
   "outputs": [],
   "source": [
    "##################################\n",
    "FilterMethod = 'FilterBasicPttWD'\n",
    "##################################\n",
    "import inspect\n",
    "\n",
    "def fn_case_filtering(df_case):\n",
    "    df_case = df_case[df_case['Age'] >= 18].reset_index(drop = True)\n",
    "    return df_case\n",
    "\n",
    "fn_case_filtering.fn_string = inspect.getsource(fn_case_filtering)"
   ]
  },
  {
   "cell_type": "code",
   "execution_count": null,
   "id": "07b8ccec",
   "metadata": {},
   "outputs": [],
   "source": [
    "from recfldtkn.loadtools import convert_variables_to_pystirng\n",
    "\n",
    "prefix = ['import pandas as pd', 'import numpy as np']\n",
    "fn_variables = [fn_case_filtering]\n",
    "pycode = convert_variables_to_pystirng(fn_variables = fn_variables, prefix = prefix)\n",
    "pypath = os.path.join(SPACE['CODE_FN'], 'fn_learning', f'{FilterMethod}.py')\n",
    "print(pypath)\n",
    "if not os.path.exists(os.path.dirname(pypath)): os.makedirs(os.path.dirname(pypath))\n",
    "with open(pypath, 'w') as file: file.write(pycode)"
   ]
  },
  {
   "cell_type": "code",
   "execution_count": null,
   "id": "8955b256",
   "metadata": {},
   "outputs": [],
   "source": [
    "# Trigger2LearningCaseMethod\n",
    "pypath = os.path.join(SPACE['CODE_FN'], 'fn_learning', f'{FilterMethod}.py')\n",
    "module = load_module_variables(pypath)\n",
    "fn_case_filtering = module.fn_case_filtering"
   ]
  },
  {
   "cell_type": "code",
   "execution_count": null,
   "id": "fa130959",
   "metadata": {},
   "outputs": [],
   "source": [
    "print(df_case.shape)\n",
    "df_case = fn_case_filtering(df_case)\n",
    "print(df_case.shape)"
   ]
  },
  {
   "cell_type": "code",
   "execution_count": null,
   "id": "4f7c85f4",
   "metadata": {},
   "outputs": [],
   "source": [
    "df_case['Age'].value_counts().sort_index().plot()#.reset_index()#.plot()"
   ]
  },
  {
   "cell_type": "markdown",
   "id": "60d2f20a",
   "metadata": {},
   "source": [
    "## CaseFeat: CFQuery_Bf24hCGMrn"
   ]
  },
  {
   "cell_type": "code",
   "execution_count": null,
   "id": "52db88ba",
   "metadata": {},
   "outputs": [],
   "source": [
    "##################################\n",
    "CaseFeatQueryMethod = 'CFQuery_Bf24hCGMrn'\n",
    "##################################\n",
    "import inspect\n",
    "\n",
    "def fn_casefeat_querying(df_case, base_config):\n",
    "    from recfldtkn.observer import get_fn_case_GammaFullInfo\n",
    "    import datasets\n",
    "    #############################\n",
    "    Gamma_Config = {\n",
    "        'case_observations': [\n",
    "            'Bf24hCGMrn:ro.CGM5Min-Bf24H_ct.RecNum', # CO\n",
    "        ],\n",
    "        'name_CaseGamma': 'InputCatCOs', # CF\n",
    "    }\n",
    "    #############################\n",
    "\n",
    "    RecName_to_dsRec = {}\n",
    "    RecName_to_dsRecInfo = {}\n",
    "    use_CF_from_disk = False \n",
    "    use_CO_from_disk = True\n",
    "    CaseFeatInfo = get_fn_case_GammaFullInfo(Gamma_Config, \n",
    "                                                base_config, \n",
    "                                                RecName_to_dsRec, \n",
    "                                                RecName_to_dsRecInfo, \n",
    "                                                df_case,\n",
    "                                                use_CF_from_disk,\n",
    "                                                use_CO_from_disk)\n",
    "    \n",
    "    ds_case = datasets.Dataset.from_pandas(df_case)\n",
    "\n",
    "    FnCaseFeatGamma = CaseFeatInfo['FnCaseFeatGamma']\n",
    "    batch_size = CaseFeatInfo.get('batch_size', 1000)\n",
    "    CaseFeatName = CaseFeatInfo['CaseFeatName']\n",
    "    CF_vocab = CaseFeatInfo['CF_vocab']\n",
    "\n",
    "    # start = datetime.now()\n",
    "    ds_case = ds_case.map(FnCaseFeatGamma, \n",
    "                            batched = True, \n",
    "                            batch_size= batch_size, \n",
    "                            load_from_cache_file = False, \n",
    "                            new_fingerprint = CaseFeatName)\n",
    "    #end = datetime.now()\n",
    "    # print('Elipse Time: ', end - start)\n",
    "    # print(ds_case)\n",
    "\n",
    "        \n",
    "    rename_dict = {i: CaseFeatName + ':' + i for i in CF_vocab}\n",
    "    df_case = ds_case.to_pandas().rename(columns=rename_dict)\n",
    "    return df_case, CaseFeatInfo\n",
    "\n",
    "fn_casefeat_querying.fn_string = inspect.getsource(fn_casefeat_querying)\n",
    "\n",
    "\n",
    "from recfldtkn.loadtools import convert_variables_to_pystirng\n",
    "\n",
    "prefix = ['import pandas as pd', 'import numpy as np']\n",
    "fn_variables = [fn_casefeat_querying]\n",
    "pycode = convert_variables_to_pystirng(fn_variables = fn_variables, prefix = prefix)\n",
    "pypath = os.path.join(SPACE['CODE_FN'], 'fn_learning', f'{CaseFeatQueryMethod}.py')\n",
    "print(pypath)\n",
    "if not os.path.exists(os.path.dirname(pypath)): os.makedirs(os.path.dirname(pypath))\n",
    "with open(pypath, 'w') as file: file.write(pycode)\n",
    "\n",
    "\n",
    "# Trigger2LearningCaseMethod\n",
    "pypath = os.path.join(SPACE['CODE_FN'], 'fn_learning', f'{CaseFeatQueryMethod}.py')\n",
    "module = load_module_variables(pypath)\n",
    "fn_casefeat_querying = module.fn_casefeat_querying\n"
   ]
  },
  {
   "cell_type": "code",
   "execution_count": null,
   "id": "39637eec",
   "metadata": {},
   "outputs": [],
   "source": [
    "df_case, CaseFeatInfo = fn_casefeat_querying(df_case, base_config)\n",
    "df_case"
   ]
  },
  {
   "cell_type": "markdown",
   "id": "974ab1d9",
   "metadata": {},
   "source": [
    "## TagCF: TagCaseFeat_Bf24hCGMrn"
   ]
  },
  {
   "cell_type": "code",
   "execution_count": null,
   "id": "df1c59af",
   "metadata": {},
   "outputs": [],
   "source": [
    "##################################\n",
    "TagCaseFeatMethod = 'TagCaseFeat_Bf24hCGMrn'\n",
    "##################################\n",
    "\n",
    "import inspect\n",
    "\n",
    "\n",
    "def fn_case_tagging_on_casefeat(df_case, CaseFeatInfo):\n",
    "    CF_vocab = CaseFeatInfo['CF_vocab']\n",
    "    CaseFeatName = CaseFeatInfo['CaseFeatName']\n",
    "    input_ids_name = CaseFeatName + ':' + 'input_ids'\n",
    "    input_wgts_name = CaseFeatName + ':' + 'input_wgts'\n",
    "\n",
    "    tkn_name = 'Bf24hCGMrn:recnum'\n",
    "    tkn_id = CF_vocab['input_ids']['tkn2tid'][tkn_name]\n",
    "    df_case['BfCGMrn'] = df_case.apply(lambda x: x[input_wgts_name][list(x[input_ids_name]).index(tkn_id)], axis = 1)\n",
    "\n",
    "    # tkn_name = 'Af2hCGMrn:recnum'\n",
    "    # tkn_id = CF_vocab['input_ids']['tkn2tid'][tkn_name]\n",
    "    # df_case['AfCGMrn'] = df_case.apply(lambda x: x[input_wgts_name][list(x[input_ids_name]).index(tkn_id)], axis = 1)\n",
    "\n",
    "\n",
    "    return df_case\n",
    "\n",
    "fn_case_tagging_on_casefeat.fn_string = inspect.getsource(fn_case_tagging_on_casefeat)"
   ]
  },
  {
   "cell_type": "code",
   "execution_count": null,
   "id": "babd789a",
   "metadata": {},
   "outputs": [],
   "source": [
    "from recfldtkn.loadtools import convert_variables_to_pystirng\n",
    "\n",
    "prefix = ['import pandas as pd', 'import numpy as np']\n",
    "fn_variables = [fn_case_tagging_on_casefeat] # <----------------\n",
    "pycode = convert_variables_to_pystirng(fn_variables = fn_variables, prefix = prefix)\n",
    "pypath = os.path.join(SPACE['CODE_FN'], 'fn_learning', f'{TagCaseFeatMethod}.py')\n",
    "print(pypath)\n",
    "if not os.path.exists(os.path.dirname(pypath)): os.makedirs(os.path.dirname(pypath))\n",
    "with open(pypath, 'w') as file: file.write(pycode)\n",
    "\n",
    "\n",
    "# Trigger2LearningCaseMethod\n",
    "pypath = os.path.join(SPACE['CODE_FN'], 'fn_learning', f'{TagCaseFeatMethod}.py')\n",
    "module = load_module_variables(pypath)\n",
    "fn_case_tagging_on_casefeat = module.fn_case_tagging_on_casefeat"
   ]
  },
  {
   "cell_type": "code",
   "execution_count": null,
   "id": "0e8bc50f",
   "metadata": {},
   "outputs": [],
   "source": [
    "df_case = fn_case_tagging_on_casefeat(df_case, CaseFeatInfo)\n",
    "df_case.head()"
   ]
  },
  {
   "cell_type": "code",
   "execution_count": null,
   "id": "947eadfc",
   "metadata": {},
   "outputs": [],
   "source": []
  },
  {
   "cell_type": "markdown",
   "id": "582349a4",
   "metadata": {},
   "source": [
    "## CaseFeat: CFQuery_Af2hCGM"
   ]
  },
  {
   "cell_type": "code",
   "execution_count": null,
   "id": "9d3e28b9",
   "metadata": {},
   "outputs": [],
   "source": [
    "##################################\n",
    "CaseFeatQueryMethod = 'CFQuery_Af2hCGMrn'\n",
    "##################################\n",
    "import inspect\n",
    "\n",
    "def fn_casefeat_querying(df_case, base_config):\n",
    "    from recfldtkn.observer import get_fn_case_GammaFullInfo\n",
    "    import datasets\n",
    "    #############################\n",
    "    Gamma_Config = {\n",
    "        'case_observations': [\n",
    "            'Af2hCGMrn:ro.CGM5Min-Af2H_ct.RecNum', # CO\n",
    "        ],\n",
    "        'name_CaseGamma': 'InputCatCOs', # CF\n",
    "    }\n",
    "    #############################\n",
    "\n",
    "    RecName_to_dsRec = {}\n",
    "    RecName_to_dsRecInfo = {}\n",
    "    use_CF_from_disk = False \n",
    "    use_CO_from_disk = True\n",
    "    CaseFeatInfo = get_fn_case_GammaFullInfo(Gamma_Config, \n",
    "                                                base_config, \n",
    "                                                RecName_to_dsRec, \n",
    "                                                RecName_to_dsRecInfo, \n",
    "                                                df_case,\n",
    "                                                use_CF_from_disk,\n",
    "                                                use_CO_from_disk)\n",
    "    \n",
    "    ds_case = datasets.Dataset.from_pandas(df_case)\n",
    "\n",
    "    FnCaseFeatGamma = CaseFeatInfo['FnCaseFeatGamma']\n",
    "    batch_size = CaseFeatInfo.get('batch_size', 1000)\n",
    "    CaseFeatName = CaseFeatInfo['CaseFeatName']\n",
    "    CF_vocab = CaseFeatInfo['CF_vocab']\n",
    "\n",
    "    # start = datetime.now()\n",
    "    ds_case = ds_case.map(FnCaseFeatGamma, \n",
    "                            batched = True, \n",
    "                            batch_size= batch_size, \n",
    "                            load_from_cache_file = False, \n",
    "                            new_fingerprint = CaseFeatName)\n",
    "    # end = datetime.now()\n",
    "    # print('Elipse Time: ', end - start)\n",
    "    # print(ds_case)\n",
    "\n",
    "        \n",
    "    rename_dict = {i: CaseFeatName + ':' + i for i in CF_vocab}\n",
    "    df_case = ds_case.to_pandas().rename(columns=rename_dict)\n",
    "    return df_case, CaseFeatInfo\n",
    "\n",
    "fn_casefeat_querying.fn_string = inspect.getsource(fn_casefeat_querying)\n",
    "\n",
    "\n",
    "from recfldtkn.loadtools import convert_variables_to_pystirng\n",
    "\n",
    "prefix = ['import pandas as pd', 'import numpy as np']\n",
    "fn_variables = [fn_casefeat_querying]\n",
    "pycode = convert_variables_to_pystirng(fn_variables = fn_variables, prefix = prefix)\n",
    "pypath = os.path.join(SPACE['CODE_FN'], 'fn_learning', f'{CaseFeatQueryMethod}.py')\n",
    "print(pypath)\n",
    "if not os.path.exists(os.path.dirname(pypath)): os.makedirs(os.path.dirname(pypath))\n",
    "with open(pypath, 'w') as file: file.write(pycode)\n",
    "\n",
    "\n",
    "# Trigger2LearningCaseMethod\n",
    "pypath = os.path.join(SPACE['CODE_FN'], 'fn_learning', f'{CaseFeatQueryMethod}.py')\n",
    "module = load_module_variables(pypath)\n",
    "fn_casefeat_querying = module.fn_casefeat_querying\n"
   ]
  },
  {
   "cell_type": "code",
   "execution_count": null,
   "id": "a0f05adc",
   "metadata": {},
   "outputs": [],
   "source": [
    "df_case, CaseFeatInfo = fn_casefeat_querying(df_case, base_config)\n",
    "df_case"
   ]
  },
  {
   "cell_type": "markdown",
   "id": "05be16eb",
   "metadata": {},
   "source": [
    "## TagCF: TagCaseFeat_Af2hCGMrn"
   ]
  },
  {
   "cell_type": "code",
   "execution_count": null,
   "id": "13926f28",
   "metadata": {},
   "outputs": [],
   "source": [
    "##################################\n",
    "TagCaseFeatMethod = 'TagCaseFeat_Af2hCGMrn'\n",
    "##################################\n",
    "\n",
    "import inspect\n",
    "\n",
    "\n",
    "def fn_case_tagging_on_casefeat(df_case, CaseFeatInfo):\n",
    "    CF_vocab = CaseFeatInfo['CF_vocab']\n",
    "    CaseFeatName = CaseFeatInfo['CaseFeatName']\n",
    "    input_ids_name = CaseFeatName + ':' + 'input_ids'\n",
    "    input_wgts_name = CaseFeatName + ':' + 'input_wgts'\n",
    "\n",
    "    # tkn_name = 'Bf24hCGMrn:recnum'\n",
    "    # tkn_id = CF_vocab['input_ids']['tkn2tid'][tkn_name]\n",
    "    # df_case['BfCGMrn'] = df_case.apply(lambda x: x[input_wgts_name][list(x[input_ids_name]).index(tkn_id)], axis = 1)\n",
    "\n",
    "    tkn_name = 'Af2hCGMrn:recnum'\n",
    "    tkn_id = CF_vocab['input_ids']['tkn2tid'][tkn_name]\n",
    "    df_case['AfCGMrn'] = df_case.apply(lambda x: x[input_wgts_name][list(x[input_ids_name]).index(tkn_id)], axis = 1)\n",
    "\n",
    "    return df_case\n",
    "\n",
    "fn_case_tagging_on_casefeat.fn_string = inspect.getsource(fn_case_tagging_on_casefeat)"
   ]
  },
  {
   "cell_type": "code",
   "execution_count": null,
   "id": "bd03bc52",
   "metadata": {},
   "outputs": [],
   "source": [
    "from recfldtkn.loadtools import convert_variables_to_pystirng\n",
    "\n",
    "prefix = ['import pandas as pd', 'import numpy as np']\n",
    "fn_variables = [fn_case_tagging_on_casefeat] # <----------------\n",
    "pycode = convert_variables_to_pystirng(fn_variables = fn_variables, prefix = prefix)\n",
    "pypath = os.path.join(SPACE['CODE_FN'], 'fn_learning', f'{TagCaseFeatMethod}.py')\n",
    "print(pypath)\n",
    "if not os.path.exists(os.path.dirname(pypath)): os.makedirs(os.path.dirname(pypath))\n",
    "with open(pypath, 'w') as file: file.write(pycode)\n",
    "\n",
    "\n",
    "\n",
    "# Trigger2LearningCaseMethod\n",
    "pypath = os.path.join(SPACE['CODE_FN'], 'fn_learning', f'{TagCaseFeatMethod}.py')\n",
    "module = load_module_variables(pypath)\n",
    "fn_case_tagging_on_casefeat = module.fn_case_tagging_on_casefeat"
   ]
  },
  {
   "cell_type": "code",
   "execution_count": null,
   "id": "f78da876",
   "metadata": {},
   "outputs": [],
   "source": [
    "df_case = fn_case_tagging_on_casefeat(df_case, CaseFeatInfo)\n",
    "df_case.head()"
   ]
  },
  {
   "cell_type": "markdown",
   "id": "0a28303e",
   "metadata": {},
   "source": [
    "## Filter: BfCGMgeq280"
   ]
  },
  {
   "cell_type": "code",
   "execution_count": null,
   "id": "f2684ca8",
   "metadata": {},
   "outputs": [],
   "source": [
    "##################################\n",
    "FilterMethod = 'FilterBfCGMgeq280'\n",
    "##################################\n",
    "import inspect\n",
    "\n",
    "def fn_case_filtering(df_case):\n",
    "    df_case = df_case[df_case['BfCGMrn'] >= 280].reset_index(drop = True)\n",
    "    return df_case\n",
    "\n",
    "fn_case_filtering.fn_string = inspect.getsource(fn_case_filtering)"
   ]
  },
  {
   "cell_type": "code",
   "execution_count": null,
   "id": "081fe263",
   "metadata": {},
   "outputs": [],
   "source": [
    "from recfldtkn.loadtools import convert_variables_to_pystirng\n",
    "\n",
    "prefix = ['import pandas as pd', 'import numpy as np']\n",
    "fn_variables = [fn_case_filtering]\n",
    "pycode = convert_variables_to_pystirng(fn_variables = fn_variables, prefix = prefix)\n",
    "pypath = os.path.join(SPACE['CODE_FN'], 'fn_learning', f'{FilterMethod}.py')\n",
    "print(pypath)\n",
    "if not os.path.exists(os.path.dirname(pypath)): os.makedirs(os.path.dirname(pypath))\n",
    "with open(pypath, 'w') as file: file.write(pycode)"
   ]
  },
  {
   "cell_type": "code",
   "execution_count": null,
   "id": "90a11e78",
   "metadata": {},
   "outputs": [],
   "source": [
    "# Trigger2LearningCaseMethod\n",
    "pypath = os.path.join(SPACE['CODE_FN'], 'fn_learning', f'{FilterMethod}.py')\n",
    "module = load_module_variables(pypath)\n",
    "fn_case_filtering = module.fn_case_filtering"
   ]
  },
  {
   "cell_type": "code",
   "execution_count": null,
   "id": "fc8b3bff",
   "metadata": {},
   "outputs": [],
   "source": [
    "print(df_case.shape)\n",
    "df_case = fn_case_filtering(df_case)\n",
    "print(df_case.shape)"
   ]
  },
  {
   "cell_type": "markdown",
   "id": "bb918661",
   "metadata": {},
   "source": [
    "## Filter: AfCGMgeq24"
   ]
  },
  {
   "cell_type": "code",
   "execution_count": null,
   "id": "da68d469",
   "metadata": {},
   "outputs": [],
   "source": [
    "##################################\n",
    "FilterMethod = 'FilterAfCGMgeq24'\n",
    "##################################\n",
    "import inspect\n",
    "\n",
    "def fn_case_filtering(df_case):\n",
    "    df_case = df_case[df_case['AfCGMrn'] >= 24].reset_index(drop = True)\n",
    "    return df_case\n",
    "\n",
    "fn_case_filtering.fn_string = inspect.getsource(fn_case_filtering)"
   ]
  },
  {
   "cell_type": "code",
   "execution_count": null,
   "id": "313a976f",
   "metadata": {},
   "outputs": [],
   "source": [
    "from recfldtkn.loadtools import convert_variables_to_pystirng\n",
    "\n",
    "prefix = ['import pandas as pd', 'import numpy as np']\n",
    "fn_variables = [fn_case_filtering]\n",
    "pycode = convert_variables_to_pystirng(fn_variables = fn_variables, prefix = prefix)\n",
    "pypath = os.path.join(SPACE['CODE_FN'], 'fn_learning', f'{FilterMethod}.py')\n",
    "print(pypath)\n",
    "if not os.path.exists(os.path.dirname(pypath)): os.makedirs(os.path.dirname(pypath))\n",
    "with open(pypath, 'w') as file: file.write(pycode)"
   ]
  },
  {
   "cell_type": "code",
   "execution_count": null,
   "id": "78fd39dc",
   "metadata": {},
   "outputs": [],
   "source": [
    "# Trigger2LearningCaseMethod\n",
    "pypath = os.path.join(SPACE['CODE_FN'], 'fn_learning', f'{FilterMethod}.py')\n",
    "module = load_module_variables(pypath)\n",
    "fn_case_filtering = module.fn_case_filtering"
   ]
  },
  {
   "cell_type": "code",
   "execution_count": null,
   "id": "1ccd724c",
   "metadata": {},
   "outputs": [],
   "source": [
    "print(df_case.shape)\n",
    "df_case = fn_case_filtering(df_case)\n",
    "print(df_case.shape)"
   ]
  },
  {
   "cell_type": "markdown",
   "id": "a39a7a2e",
   "metadata": {},
   "source": [
    "## CaseFeat: QBf1mMEDAL"
   ]
  },
  {
   "cell_type": "code",
   "execution_count": null,
   "id": "200d0a33",
   "metadata": {},
   "outputs": [],
   "source": [
    "# Gamma_Config = {\n",
    "#     'case_observations': [\n",
    "#         'Bf1mFoodRec:ro.FoodRec-Bf1M_ct.RecNum', # CO\n",
    "#         # 'Af2hCGMrn:ro.CGM5Min-Af2H_ct.RecNum',\n",
    "#     ],\n",
    "#     'name_CaseGamma': 'InputCatCOs', # CF\n",
    "# }"
   ]
  },
  {
   "cell_type": "code",
   "execution_count": null,
   "id": "8e56d3ef",
   "metadata": {},
   "outputs": [],
   "source": [
    "##################################\n",
    "CaseFeatQueryMethod = 'CFQuery_Bf1mMEDALrn'\n",
    "##################################\n",
    "import inspect\n",
    "\n",
    "def fn_casefeat_querying(df_case, base_config):\n",
    "    from recfldtkn.observer import get_fn_case_GammaFullInfo\n",
    "    import datasets\n",
    "    #############################\n",
    "    Gamma_Config = {\n",
    "        'case_observations': [\n",
    "            # Med\n",
    "            'Bf1mMedPresrn:ro.MedPres-Bf1M_ct.RecNum',\n",
    "            'Bf1mMedAdmin:ro.MedAdmin-Bf1M_ct.RecNum',\n",
    "            'Bf1mImpMed:ro.ImpMed-Bf1M_ct.RecNum',\n",
    "\n",
    "            # Edu\n",
    "            'Bf1mCmtrn:ro.Cmt-Bf1M_ct.RecNum',\n",
    "            'Bf1mLessonProgrn:ro.LessonProg-Bf1M_ct.RecNum',\n",
    "\n",
    "            # Diet\n",
    "            'Bf1mFoodRecrn:ro.FoodRec-Bf1M_ct.RecNum', \n",
    "            'Bf1mCarbrn:ro.Carb-Bf1M_ct.RecNum',\n",
    "\n",
    "            # Activity\n",
    "            'Bf1mExerciseRecrn:ro.Exercise-Bf1M_ct.RecNum',\n",
    "            'Bf1mSleepRecrn:ro.Sleep-Bf1M_ct.RecNum',\n",
    "            'Bf1mStepRecrn:ro.Step-Bf1M_ct.RecNum',\n",
    "\n",
    "            # LabVital\n",
    "            'Bf1mBPrn:ro.BP-Bf1M_ct.RecNum',\n",
    "            'Bf1mWeighUrn:ro.WeightU-Bf1M_ct.RecNum',\n",
    "            'Bf1mLabTestRestrn:ro.LabTestResult-Bf1M_ct.RecNum',\n",
    "\n",
    "            # CO\n",
    "        ],\n",
    "        'name_CaseGamma': 'InputCatCOs', # CF\n",
    "    }\n",
    "    #############################\n",
    "\n",
    "    RecName_to_dsRec = {}\n",
    "    RecName_to_dsRecInfo = {}\n",
    "    use_CF_from_disk = False \n",
    "    use_CO_from_disk = True\n",
    "    CaseFeatInfo = get_fn_case_GammaFullInfo(Gamma_Config, \n",
    "                                                base_config, \n",
    "                                                RecName_to_dsRec, \n",
    "                                                RecName_to_dsRecInfo, \n",
    "                                                df_case,\n",
    "                                                use_CF_from_disk,\n",
    "                                                use_CO_from_disk)\n",
    "    \n",
    "    ds_case = datasets.Dataset.from_pandas(df_case)\n",
    "\n",
    "    FnCaseFeatGamma = CaseFeatInfo['FnCaseFeatGamma']\n",
    "    batch_size = CaseFeatInfo.get('batch_size', 1000)\n",
    "    CaseFeatName = CaseFeatInfo['CaseFeatName']\n",
    "    CF_vocab = CaseFeatInfo['CF_vocab']\n",
    "\n",
    "    # start = datetime.now()\n",
    "    ds_case = ds_case.map(FnCaseFeatGamma, \n",
    "                            batched = True, \n",
    "                            batch_size= batch_size, \n",
    "                            load_from_cache_file = False, \n",
    "                            new_fingerprint = CaseFeatName)\n",
    "    # end = datetime.now()\n",
    "    # print('Elipse Time: ', end - start)\n",
    "    # print(ds_case)\n",
    "\n",
    "        \n",
    "    rename_dict = {i: CaseFeatName + ':' + i for i in CF_vocab}\n",
    "    df_case = ds_case.to_pandas().rename(columns=rename_dict)\n",
    "    return df_case, CaseFeatInfo\n",
    "\n",
    "fn_casefeat_querying.fn_string = inspect.getsource(fn_casefeat_querying)\n",
    "\n",
    "\n",
    "# from recfldtkn.loadtools import convert_variables_to_pystirng\n",
    "\n",
    "# prefix = ['import pandas as pd', 'import numpy as np']\n",
    "# fn_variables = [fn_casefeat_querying]\n",
    "# pycode = convert_variables_to_pystirng(fn_variables = fn_variables, prefix = prefix)\n",
    "# pypath = os.path.join(SPACE['CODE_FN'], 'fn_learning', f'{CaseFeatQueryMethod}.py')\n",
    "# print(pypath)\n",
    "# if not os.path.exists(os.path.dirname(pypath)): os.makedirs(os.path.dirname(pypath))\n",
    "# with open(pypath, 'w') as file: file.write(pycode)\n",
    "\n",
    "\n",
    "# # Trigger2LearningCaseMethod\n",
    "# pypath = os.path.join(SPACE['CODE_FN'], 'fn_learning', f'{CaseFeatQueryMethod}.py')\n",
    "# module = load_module_variables(pypath)\n",
    "# fn_casefeat_querying = module.fn_casefeat_querying\n"
   ]
  },
  {
   "cell_type": "code",
   "execution_count": null,
   "id": "712c13c3",
   "metadata": {},
   "outputs": [],
   "source": [
    "from recfldtkn.loadtools import convert_variables_to_pystirng\n",
    "\n",
    "prefix = ['import pandas as pd', 'import numpy as np']\n",
    "fn_variables = [fn_casefeat_querying]\n",
    "pycode = convert_variables_to_pystirng(fn_variables = fn_variables, prefix = prefix)\n",
    "pypath = os.path.join(SPACE['CODE_FN'], 'fn_learning', f'{CaseFeatQueryMethod}.py')\n",
    "print(pypath)\n",
    "if not os.path.exists(os.path.dirname(pypath)): os.makedirs(os.path.dirname(pypath))\n",
    "with open(pypath, 'w') as file: file.write(pycode)\n",
    "\n",
    "\n",
    "# Trigger2LearningCaseMethod\n",
    "pypath = os.path.join(SPACE['CODE_FN'], 'fn_learning', f'{CaseFeatQueryMethod}.py')\n",
    "module = load_module_variables(pypath)\n",
    "fn_casefeat_querying = module.fn_casefeat_querying\n"
   ]
  },
  {
   "cell_type": "code",
   "execution_count": null,
   "id": "376f2239",
   "metadata": {},
   "outputs": [],
   "source": [
    "df_case, CaseFeatInfo = fn_casefeat_querying(df_case, base_config)\n",
    "df_case"
   ]
  },
  {
   "cell_type": "code",
   "execution_count": null,
   "id": "2644767d",
   "metadata": {},
   "outputs": [],
   "source": [
    "CaseFeatInfo['CaseFeatName']"
   ]
  },
  {
   "cell_type": "code",
   "execution_count": null,
   "id": "c51630c2",
   "metadata": {},
   "outputs": [],
   "source": [
    "CaseFeatInfo['CF_vocab']"
   ]
  },
  {
   "cell_type": "code",
   "execution_count": null,
   "id": "c35da09b",
   "metadata": {},
   "outputs": [],
   "source": []
  },
  {
   "cell_type": "markdown",
   "id": "4b9638e4",
   "metadata": {},
   "source": [
    "## TagCF: TagCaseFeat_Bf1mMEDALrn"
   ]
  },
  {
   "cell_type": "code",
   "execution_count": null,
   "id": "d6f269fe",
   "metadata": {},
   "outputs": [],
   "source": [
    "##################################\n",
    "TagCaseFeatMethod = 'TagCaseFeat_Bf1mMEDALrn'\n",
    "##################################\n",
    "\n",
    "import inspect\n",
    "\n",
    "\n",
    "def fn_case_tagging_on_casefeat(df_case, CaseFeatInfo):\n",
    "    CF_vocab = CaseFeatInfo['CF_vocab']\n",
    "    CaseFeatName = CaseFeatInfo['CaseFeatName']\n",
    "    input_ids_name = CaseFeatName + ':' + 'input_ids'\n",
    "    input_wgts_name = CaseFeatName + ':' + 'input_wgts'\n",
    "\n",
    "    tkn_name = 'Bf1mMedPresrn:recnum'\n",
    "    tkn_id = CF_vocab['input_ids']['tkn2tid'][tkn_name]\n",
    "    df_case['BfMedPresRN'] = df_case.apply(lambda x: x[input_wgts_name][list(x[input_ids_name]).index(tkn_id)], axis = 1)\n",
    "\n",
    "    tkn_name = 'Bf1mMedAdmin:recnum'\n",
    "    tkn_id = CF_vocab['input_ids']['tkn2tid'][tkn_name]\n",
    "    df_case['BfMedAdminRN'] = df_case.apply(lambda x: x[input_wgts_name][list(x[input_ids_name]).index(tkn_id)], axis = 1)\n",
    "\n",
    "    tkn_name = 'Bf1mImpMed:recnum'\n",
    "    tkn_id = CF_vocab['input_ids']['tkn2tid'][tkn_name]\n",
    "    df_case['BfImpMedRN'] = df_case.apply(lambda x: x[input_wgts_name][list(x[input_ids_name]).index(tkn_id)], axis = 1)\n",
    "\n",
    "    tkn_name = 'Bf1mCmtrn:recnum'\n",
    "    tkn_id = CF_vocab['input_ids']['tkn2tid'][tkn_name]\n",
    "    df_case['BfCmtRN'] = df_case.apply(lambda x: x[input_wgts_name][list(x[input_ids_name]).index(tkn_id)], axis = 1)\n",
    "\n",
    "    tkn_name = 'Bf1mLessonProgrn:recnum'\n",
    "    tkn_id = CF_vocab['input_ids']['tkn2tid'][tkn_name]\n",
    "    df_case['BfLessonProgRN'] = df_case.apply(lambda x: x[input_wgts_name][list(x[input_ids_name]).index(tkn_id)], axis = 1)\n",
    "\n",
    "    tkn_name = 'Bf1mFoodRecrn:recnum'\n",
    "    tkn_id = CF_vocab['input_ids']['tkn2tid'][tkn_name]\n",
    "    df_case['BfFoodRecRN'] = df_case.apply(lambda x: x[input_wgts_name][list(x[input_ids_name]).index(tkn_id)], axis = 1)\n",
    "    \n",
    "    tkn_name = 'Bf1mCarbrn:recnum'\n",
    "    tkn_id = CF_vocab['input_ids']['tkn2tid'][tkn_name]\n",
    "    df_case['BfCarbRN'] = df_case.apply(lambda x: x[input_wgts_name][list(x[input_ids_name]).index(tkn_id)], axis = 1)\n",
    "\n",
    "    tkn_name = 'Bf1mExerciseRecrn:recnum'\n",
    "    tkn_id = CF_vocab['input_ids']['tkn2tid'][tkn_name]\n",
    "    df_case['BfExerciseRecRN'] = df_case.apply(lambda x: x[input_wgts_name][list(x[input_ids_name]).index(tkn_id)], axis = 1)\n",
    "\n",
    "    tkn_name = 'Bf1mSleepRecrn:recnum'\n",
    "    tkn_id = CF_vocab['input_ids']['tkn2tid'][tkn_name]\n",
    "    df_case['BfSleepRecRN'] = df_case.apply(lambda x: x[input_wgts_name][list(x[input_ids_name]).index(tkn_id)], axis = 1)\n",
    "\n",
    "    tkn_name = 'Bf1mStepRecrn:recnum'\n",
    "    tkn_id = CF_vocab['input_ids']['tkn2tid'][tkn_name]\n",
    "    df_case['BfStepRecRN'] = df_case.apply(lambda x: x[input_wgts_name][list(x[input_ids_name]).index(tkn_id)], axis = 1)\n",
    "\n",
    "    tkn_name = 'Bf1mBPrn:recnum'\n",
    "    tkn_id = CF_vocab['input_ids']['tkn2tid'][tkn_name]\n",
    "    df_case['BfBPRN'] = df_case.apply(lambda x: x[input_wgts_name][list(x[input_ids_name]).index(tkn_id)], axis = 1)\n",
    "\n",
    "    tkn_name = 'Bf1mWeighUrn:recnum'\n",
    "    tkn_id = CF_vocab['input_ids']['tkn2tid'][tkn_name]\n",
    "    df_case['BfWeighURN'] = df_case.apply(lambda x: x[input_wgts_name][list(x[input_ids_name]).index(tkn_id)], axis = 1)\n",
    "\n",
    "    tkn_name = 'Bf1mLabTestRestrn:recnum'\n",
    "    tkn_id = CF_vocab['input_ids']['tkn2tid'][tkn_name]\n",
    "    df_case['BfLabTestRestRN'] = df_case.apply(lambda x: x[input_wgts_name][list(x[input_ids_name]).index(tkn_id)], axis = 1)\n",
    "\n",
    "\n",
    "    return df_case\n",
    "\n",
    "fn_case_tagging_on_casefeat.fn_string = inspect.getsource(fn_case_tagging_on_casefeat)"
   ]
  },
  {
   "cell_type": "code",
   "execution_count": null,
   "id": "b59310db",
   "metadata": {},
   "outputs": [],
   "source": [
    "# from recfldtkn.loadtools import convert_variables_to_pystirng\n",
    "\n",
    "# prefix = ['import pandas as pd', 'import numpy as np']\n",
    "# fn_variables = [fn_case_tagging_on_casefeat] # <----------------\n",
    "# pycode = convert_variables_to_pystirng(fn_variables = fn_variables, prefix = prefix)\n",
    "# pypath = os.path.join(SPACE['CODE_FN'], 'fn_learning', f'{TagCaseFeatMethod}.py')\n",
    "# print(pypath)\n",
    "# if not os.path.exists(os.path.dirname(pypath)): os.makedirs(os.path.dirname(pypath))\n",
    "# with open(pypath, 'w') as file: file.write(pycode)\n",
    "\n",
    "\n",
    "\n",
    "# # Trigger2LearningCaseMethod\n",
    "# pypath = os.path.join(SPACE['CODE_FN'], 'fn_learning', f'{TagCaseFeatMethod}.py')\n",
    "# module = load_module_variables(pypath)\n",
    "# fn_case_tagging_on_casefeat = module.fn_case_tagging_on_casefeat"
   ]
  },
  {
   "cell_type": "code",
   "execution_count": null,
   "id": "a8775752",
   "metadata": {},
   "outputs": [],
   "source": [
    "df_case = fn_case_tagging_on_casefeat(df_case, CaseFeatInfo)\n",
    "df_case.head()"
   ]
  },
  {
   "cell_type": "code",
   "execution_count": null,
   "id": "2d68b324",
   "metadata": {},
   "outputs": [],
   "source": []
  }
 ],
 "metadata": {
  "kernelspec": {
   "display_name": "Python 3 (ipykernel)",
   "language": "python",
   "name": "python3"
  },
  "language_info": {
   "codemirror_mode": {
    "name": "ipython",
    "version": 3
   },
   "file_extension": ".py",
   "mimetype": "text/x-python",
   "name": "python",
   "nbconvert_exporter": "python",
   "pygments_lexer": "ipython3",
   "version": "3.10.9"
  },
  "toc-autonumbering": true
 },
 "nbformat": 4,
 "nbformat_minor": 5
}
