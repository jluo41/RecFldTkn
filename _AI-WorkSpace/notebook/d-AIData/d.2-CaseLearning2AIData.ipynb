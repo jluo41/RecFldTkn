{
 "cells": [
  {
   "cell_type": "markdown",
   "id": "881d73c8-f12f-4a9b-a485-996a76289767",
   "metadata": {},
   "source": [
    "\n",
    "# Space"
   ]
  },
  {
   "cell_type": "code",
   "execution_count": null,
   "id": "c8fa8c69",
   "metadata": {},
   "outputs": [],
   "source": [
    "import os\n",
    "import sys \n",
    "import logging\n",
    "import pandas as pd \n",
    "from pprint import pprint \n",
    "\n",
    "# WorkSpace\n",
    "KEY = 'WorkSpace'; WORKSPACE_PATH = os.getcwd().split(KEY)[0] + KEY; print(WORKSPACE_PATH)\n",
    "os.chdir(WORKSPACE_PATH)\n",
    "sys.path.append(WORKSPACE_PATH)\n",
    "\n",
    "# Pipeline Space\n",
    "from proj_space import SPACE\n",
    "SPACE['WORKSPACE_PATH'] = WORKSPACE_PATH\n",
    "sys.path.append(SPACE['CODE_FN'])\n",
    "pprint(SPACE)\n",
    "\n",
    "# Available Packages\n",
    "import pandas as pd\n",
    "from datetime import datetime \n",
    "\n",
    "logger = logging.getLogger(__name__)\n",
    "recfldtkn_config_path = os.path.join(SPACE['CODE_FN'], 'config_recfldtkn/')\n"
   ]
  },
  {
   "cell_type": "markdown",
   "metadata": {},
   "source": [
    "# Dataset"
   ]
  },
  {
   "cell_type": "code",
   "execution_count": null,
   "metadata": {},
   "outputs": [],
   "source": [
    "import datasets\n",
    "from recfldtkn.loadtools import load_ds_rec_and_info\n",
    "from recfldtkn.configfn import load_cohort_args, load_record_args\n",
    "\n",
    "base_config = load_cohort_args(recfldtkn_config_path, SPACE)\n",
    "print(base_config)"
   ]
  },
  {
   "cell_type": "markdown",
   "metadata": {},
   "source": [
    "# TriggerCaseMethod"
   ]
  },
  {
   "cell_type": "code",
   "execution_count": null,
   "id": "4e8c3c13",
   "metadata": {},
   "outputs": [],
   "source": [
    "from recfldtkn.pipeline_model import get_Trigger_Cases, convert_TriggerCases_to_LearningCases\n",
    "\n",
    "use_learning = True \n",
    "use_inference = not use_learning\n",
    "\n",
    "######################################\n",
    "TriggerCaseMethod = 'CGM5MinEntry'\n",
    "cohort_label_list = [1]\n",
    "Trigger2LearningMethods = [\n",
    "    \n",
    "    {'op':'Tag',    'Name': 'Tag_PttBasicWD'},\n",
    "    {'op':'Filter', 'Name': 'Filter_PttBasicWD'},\n",
    "    \n",
    "    {'op':'CFQ',    'Name': 'CFQ_Bf24hCGMrn'},\n",
    "    {'op':'TagCF',  'Name': 'TagCF_Bf24hCGMrn', 'CFQName': 'CFQ_Bf24hCGMrn'},\n",
    "    \n",
    "    {'op':'CFQ',    'Name': 'CFQ_Af2hCGMrn',    \n",
    "     'type': 'learning-only'},\n",
    "    {'op':'TagCF',  'Name': 'TagCF_Af2hCGMrn',  'CFQName': 'CFQ_Af2hCGMrn',  \n",
    "     'type': 'learning-only',},\n",
    "    \n",
    "    {'op':'Filter', 'Name': 'Filter_BfCGMgeq280'},\n",
    "    {'op':'Filter', 'Name': 'Filter_AfCGMgeq24',  \n",
    "     'type': 'learning-only'},\n",
    "    \n",
    "    {'op':'CFQ',    'Name': 'CFQ_Bf1mMEDALrn',    \n",
    "     'type': 'learning-only'},\n",
    "    {'op':'TagCF',  'Name': 'TagCF_Bf1mMEDALrn', 'CFQName': 'CFQ_Bf1mMEDALrn', \n",
    "     'type': 'learning-only'},\n",
    "\n",
    "]\n",
    "######################################"
   ]
  },
  {
   "cell_type": "code",
   "execution_count": null,
   "id": "549d1f1c",
   "metadata": {},
   "outputs": [],
   "source": [
    "use_inference"
   ]
  },
  {
   "cell_type": "code",
   "execution_count": null,
   "id": "93e7239b",
   "metadata": {},
   "outputs": [],
   "source": [
    "from recfldtkn.loadtools import fetch_casetag_tools, fetch_casefilter_tools, load_module_variables\n",
    "\n",
    "def convert_TriggerCases_to_LearningCases(df_case, \n",
    "                                          cohort_label_list,\n",
    "                                          Trigger2LearningMethods, \n",
    "                                          base_config, \n",
    "                                          use_inference):\n",
    "    \n",
    "    CFQ_to_CaseFeatInfo = {}\n",
    "\n",
    "    if use_inference == True:\n",
    "        Trigger2LearningMethods = [i for i in Trigger2LearningMethods if i.get('type', None) != 'learning-only']\n",
    "       \n",
    "    # print(Trigger2LearningMethods)\n",
    "    SPACE = base_config['SPACE']\n",
    "    for method in Trigger2LearningMethods:\n",
    "        if method['op'] == 'Tag':\n",
    "            name = method['Name']\n",
    "            logger.info(f'CaseTag: {name}')\n",
    "            CaseTag_Tools = fetch_casetag_tools(name, SPACE)\n",
    "\n",
    "            subgroup_columns = CaseTag_Tools['subgroup_columns']\n",
    "            if 'InfoRecName' in CaseTag_Tools:\n",
    "                InfoRecName = CaseTag_Tools['InfoRecName']\n",
    "                ds_info, _ = load_ds_rec_and_info(InfoRecName, base_config, cohort_label_list)\n",
    "            else:\n",
    "                ds_info = None\n",
    "\n",
    "            fn_case_tagging = CaseTag_Tools['fn_case_tagging']\n",
    "            df_case = fn_case_tagging(df_case, ds_info, subgroup_columns, base_config)\n",
    "\n",
    "        elif method['op'] == 'Filter':\n",
    "            name = method['Name']\n",
    "            logger.info(f'CaseFilter: {name}')\n",
    "            CaseFilter_Tools = fetch_casefilter_tools(name, SPACE)\n",
    "            fn_case_filtering = CaseFilter_Tools['fn_case_filtering']\n",
    "            \n",
    "            logger.info(f'Before Filter: {df_case.shape}')\n",
    "            df_case = fn_case_filtering(df_case)\n",
    "            logger.info(f'After Filter: {df_case.shape}')\n",
    "\n",
    "        elif method['op'] == 'CFQ':\n",
    "            name = method['Name']\n",
    "            pypath = os.path.join(SPACE['CODE_FN'], 'fn_learning', f'{name}.py')\n",
    "            module = load_module_variables(pypath)\n",
    "            fn_casefeat_querying = module.fn_casefeat_querying\n",
    "            df_case, CaseFeatInfo = fn_casefeat_querying(df_case, base_config)\n",
    "            # CaseFeatName = CaseFeatInfo['CaseFeatName']\n",
    "            CFQ_to_CaseFeatInfo[name] = CaseFeatInfo\n",
    "\n",
    "        elif method['op'] == 'TagCF':\n",
    "            name = method['Name']\n",
    "            pypath = os.path.join(SPACE['CODE_FN'], 'fn_learning', f'{name}.py')\n",
    "            module = load_module_variables(pypath)\n",
    "            fn_case_tagging_on_casefeat = module.fn_case_tagging_on_casefeat\n",
    "            \n",
    "            CFQName = method['CFQName']\n",
    "            CFQ_to_CaseFeatInfo = CFQ_to_CaseFeatInfo[CFQName]\n",
    "            df_case = fn_case_tagging_on_casefeat(df_case, CaseFeatInfo)\n",
    "\n",
    "        else:\n",
    "            raise ValueError(f'Unknown method: {method}')\n",
    "\n",
    "    return df_case"
   ]
  },
  {
   "cell_type": "code",
   "execution_count": null,
   "id": "4275ef24",
   "metadata": {},
   "outputs": [],
   "source": [
    "RecName_to_dsRec = {}\n",
    "RecName_to_dsRecInfo = {}\n",
    "\n",
    "df_case = get_Trigger_Cases(TriggerCaseMethod, \n",
    "                            cohort_label_list, \n",
    "                            base_config, \n",
    "                            SPACE, \n",
    "                            RecName_to_dsRec, \n",
    "                            RecName_to_dsRecInfo)\n",
    "\n",
    "#####################\n",
    "df_case = df_case.sample(1000, random_state=42)\n",
    "#####################\n",
    "\n",
    "logger.info(f'Before: {df_case.shape}')\n",
    "df_case = convert_TriggerCases_to_LearningCases(df_case, \n",
    "                                                cohort_label_list,\n",
    "                                                Trigger2LearningMethods, \n",
    "                                                base_config, \n",
    "                                                use_inference)\n",
    "logger.info(f'After: {df_case.shape}')"
   ]
  },
  {
   "cell_type": "code",
   "execution_count": null,
   "id": "79fc0cf7",
   "metadata": {},
   "outputs": [],
   "source": [
    "df_case"
   ]
  },
  {
   "cell_type": "markdown",
   "id": "0b2626b8",
   "metadata": {},
   "source": [
    "# Split"
   ]
  },
  {
   "cell_type": "code",
   "execution_count": null,
   "id": "4c42c62a",
   "metadata": {},
   "outputs": [],
   "source": [
    "df_case # df_case_learning"
   ]
  },
  {
   "cell_type": "code",
   "execution_count": null,
   "id": "d2b9977f",
   "metadata": {},
   "outputs": [],
   "source": [
    "from recfldtkn.pipeline_model import generate_random_tags, assign_caseSplitTag_to_dsCaseLearning\n",
    "\n",
    "##############\n",
    "RANDOM_SEED = 42\n",
    "downsample_ratio = 0.1 # 1 (don't drop any case), 0.1 (drop 90% of cases of one patient).\n",
    "out_ratio = 0.1 # hold-out patients\n",
    "test_ratio = 'tail0.1' #  '2023.10.15'#  # '0.1'\n",
    "valid_ratio = 0.1 \n",
    "##############\n",
    "\n",
    "SplitMethod = f'rs{RANDOM_SEED}-ds{downsample_ratio}-out{out_ratio}ts{test_ratio}vd{valid_ratio}' \n",
    "print(SplitMethod)"
   ]
  },
  {
   "cell_type": "code",
   "execution_count": null,
   "id": "c4fa8502",
   "metadata": {},
   "outputs": [],
   "source": [
    "logger.info('Generate Random Tags for Downsample, In/Out, and Train/Test/Valid Split')\n",
    "logger.info(f'SplitMethod: {SplitMethod}')\n",
    "logger.info(f'Before Split: {df_case.shape}')\n",
    "df_case = assign_caseSplitTag_to_dsCaseLearning(df_case, \n",
    "                                                RANDOM_SEED, \n",
    "                                                downsample_ratio, out_ratio, \n",
    "                                                test_ratio, valid_ratio)\n",
    "logger.info(f'After Split: {df_case.shape}')\n",
    "df_case.head()"
   ]
  },
  {
   "cell_type": "code",
   "execution_count": null,
   "id": "37630a8e",
   "metadata": {},
   "outputs": [],
   "source": [
    "print(f'\\ntotal---> recnum {len(df_case)}')\n",
    "for i in ['In', 'Out', 'Train', 'Valid', 'Test']:\n",
    "    print(i, df_case[i].mean())\n",
    "\n",
    "print('Valid/(Train+Test):', df_case['Valid'].sum() / (df_case['Train'].sum() + df_case['Valid'].sum()))\n",
    "\n",
    "# subtype_list = ['patient_gender', 'patient_age_bucket', 'patient_zipcode_3']\n",
    "subtype_list = ['Gender', 'DiseaseType']\n",
    "for subtype in subtype_list:\n",
    "    for subname, df_sub in df_case.groupby(subtype):\n",
    "        print(f'\\n{subname}---> recnum {len(df_sub)}')\n",
    "        for i in ['In', 'Out', 'Train', 'Valid', 'Test']:\n",
    "            print(i, df_sub[i].mean())\n",
    "        print('Valid/(Train+Test):', df_sub['Valid'].sum() / (df_sub['Train'].sum() + df_sub['Valid'].sum()))"
   ]
  },
  {
   "cell_type": "code",
   "execution_count": null,
   "id": "f1a8e4e2",
   "metadata": {},
   "outputs": [],
   "source": []
  },
  {
   "cell_type": "code",
   "execution_count": null,
   "id": "3268b3c4",
   "metadata": {},
   "outputs": [],
   "source": []
  },
  {
   "cell_type": "code",
   "execution_count": null,
   "id": "39e33629",
   "metadata": {},
   "outputs": [],
   "source": []
  }
 ],
 "metadata": {
  "kernelspec": {
   "display_name": "Python 3 (ipykernel)",
   "language": "python",
   "name": "python3"
  },
  "language_info": {
   "codemirror_mode": {
    "name": "ipython",
    "version": 3
   },
   "file_extension": ".py",
   "mimetype": "text/x-python",
   "name": "python",
   "nbconvert_exporter": "python",
   "pygments_lexer": "ipython3",
   "version": "3.8.8"
  },
  "toc-autonumbering": true
 },
 "nbformat": 4,
 "nbformat_minor": 5
}
