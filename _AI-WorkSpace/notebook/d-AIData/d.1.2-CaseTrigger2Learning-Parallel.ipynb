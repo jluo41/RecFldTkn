{
 "cells": [
  {
   "cell_type": "markdown",
   "id": "881d73c8-f12f-4a9b-a485-996a76289767",
   "metadata": {},
   "source": [
    "\n",
    "# Space"
   ]
  },
  {
   "cell_type": "code",
   "execution_count": 1,
   "id": "c8fa8c69",
   "metadata": {},
   "outputs": [
    {
     "name": "stdout",
     "output_type": "stream",
     "text": [
      "g:\\Shared drives\\CDHAI-WellDoc\\2024-WellDocTest-SPACE\\_WellDoc-AI-CGMGPT-WorkSpace\n",
      "{'CODE_FN': '../pipeline',\n",
      " 'CODE_RFT': '../pipeline',\n",
      " 'DATA_CaseFeat': '../_Data/3-Data_CaseFeat',\n",
      " 'DATA_CaseObs': '../_Data/2-Data_CaseObs',\n",
      " 'DATA_CaseSet': '../_Data/4-Data_CaseSet',\n",
      " 'DATA_RAW': '../_Data/0-Data_Raw',\n",
      " 'DATA_RFT': '../_Data/1-Data_RFT',\n",
      " 'DATA_TASK': 'Data_CGMGPT',\n",
      " 'MODEL_TASK': 'Model_CGMGPT',\n",
      " 'WORKSPACE_PATH': 'g:\\\\Shared '\n",
      "                   'drives\\\\CDHAI-WellDoc\\\\2024-WellDocTest-SPACE\\\\_WellDoc-AI-CGMGPT-WorkSpace'}\n"
     ]
    }
   ],
   "source": [
    "import os\n",
    "import sys \n",
    "import logging\n",
    "import pandas as pd \n",
    "from pprint import pprint \n",
    "\n",
    "# WorkSpace\n",
    "KEY = 'WorkSpace'; WORKSPACE_PATH = os.getcwd().split(KEY)[0] + KEY; print(WORKSPACE_PATH)\n",
    "os.chdir(WORKSPACE_PATH)\n",
    "sys.path.append(WORKSPACE_PATH)\n",
    "\n",
    "# Pipeline Space\n",
    "from proj_space import SPACE\n",
    "SPACE['WORKSPACE_PATH'] = WORKSPACE_PATH\n",
    "sys.path.append(SPACE['CODE_FN'])\n",
    "pprint(SPACE)\n",
    "\n",
    "# Available Packages\n",
    "import pandas as pd\n",
    "from datetime import datetime \n",
    "\n",
    "logger = logging.getLogger(__name__)\n",
    "recfldtkn_config_path = os.path.join(SPACE['CODE_FN'], 'config_recfldtkn/')\n"
   ]
  },
  {
   "cell_type": "markdown",
   "metadata": {},
   "source": [
    "# Dataset"
   ]
  },
  {
   "cell_type": "code",
   "execution_count": 2,
   "metadata": {},
   "outputs": [
    {
     "name": "stdout",
     "output_type": "stream",
     "text": [
      "{'CohortInfo': {'RawData2022_CGM': {'cohort_label': 1, 'cohort_name': 'RawData2022_CGM', 'FolderPath': '../_Data/0-Data_Raw/RawData2022_CGM/'}, 'RawData2023_CVSTDCAug': {'cohort_label': 2, 'cohort_name': 'RawData2023_CVSTDCAug', 'FolderPath': '../_Data/0-Data_Raw/RawData2023_CVSTDCAug/'}, 'RawData2023_CVSDeRxAug': {'cohort_label': 3, 'cohort_name': 'RawData2023_CVSDeRxAug', 'FolderPath': '../_Data/0-Data_Raw/RawData2023_CVSDeRxAug/'}}, 'RawRootID': 'PatientID', 'RootID': 'PID', 'RecName': 'PRawRecNum', 'recattr_pyfolder': '../pipeline/fn_recattr/', 'fldtkn_pyfolder': '../pipeline/fn_fldtkn/', 'humanrec_pyfolder': '../pipeline/fn_humanrec/', 'inference_pyfolder': '../pipeline/fn_inference/', 'trigger_pyfolder': '../pipeline/fn_trigger/', 'RecName_to_RFT_GROUP_SIZE': {'CGM5Min': 100, 'Default': 5000}, 'RecName_to_RFT_idx_group_size': {'CGM5Min': 100, 'BGManual': 100, 'Default': 10000}, 'RecName_to_RFT_usebucket': {'CGM5Min': True, 'Default': False}, 'RootIDLength': 6, 'recfldtkn_config_path': '../pipeline\\\\config_recfldtkn/', 'SPACE': {'DATA_RAW': '../_Data/0-Data_Raw', 'DATA_RFT': '../_Data/1-Data_RFT', 'DATA_CaseObs': '../_Data/2-Data_CaseObs', 'DATA_CaseFeat': '../_Data/3-Data_CaseFeat', 'DATA_CaseSet': '../_Data/4-Data_CaseSet', 'CODE_FN': '../pipeline', 'CODE_RFT': '../pipeline', 'DATA_TASK': 'Data_CGMGPT', 'MODEL_TASK': 'Model_CGMGPT', 'WORKSPACE_PATH': 'g:\\\\Shared drives\\\\CDHAI-WellDoc\\\\2024-WellDocTest-SPACE\\\\_WellDoc-AI-CGMGPT-WorkSpace'}, 'pypath': '../pipeline/fn_humanrec/humanrec.py', 'Ckpd_ObservationS': {'InObs': {'CkpdName': 'InCase', 'DistStartToPredDT': -0.01, 'DistEndToPredDT': 0.01, 'TimeUnit': 'min', 'StartIdx5Min': 0, 'EndIdx5Min': 0}, 'Bf24H': {'CkpdName': 'Bf24H', 'DistStartToPredDT': -24, 'DistEndToPredDT': 0.01, 'TimeUnit': 'H', 'StartIdx5Min': -288, 'EndIdx5Min': 0}, 'Bf1M': {'CkpdName': 'Bf1M', 'DistStartToPredDT': -720, 'DistEndToPredDT': 0.01, 'TimeUnit': 'H', 'StartIdx5Min': -8640, 'EndIdx5Min': 0}, 'Bf1Y': {'CkpdName': 'Bf1Y', 'DistStartToPredDT': -365, 'DistEndToPredDT': -1e-06, 'TimeUnit': 'D', 'StartIdx5Min': -105120, 'EndIdx5Min': -1}, 'Bf1YIn': {'CkpdName': 'Bf1Y', 'DistStartToPredDT': -365, 'DistEndToPredDT': 1e-06, 'TimeUnit': 'D', 'StartIdx5Min': -105120, 'EndIdx5Min': 1}, 'Bf10Y': {'CkpdName': 'Bf10Y', 'DistStartToPredDT': -3650, 'DistEndToPredDT': -1e-06, 'TimeUnit': 'D', 'StartIdx5Min': -1051200, 'EndIdx5Min': 1}, 'Af2H': {'CkpdName': 'Af2H', 'DistStartToPredDT': 1, 'DistEndToPredDT': 121, 'TimeUnit': 'min', 'StartIdx5Min': 1, 'EndIdx5Min': 24}, 'Af1W': {'CkpdName': 'Af1W', 'DistStartToPredDT': 0.0001, 'DistEndToPredDT': 7, 'TimeUnit': 'D', 'StartIdx5Min': 1, 'EndIdx5Min': 2016}, 'Af1Y': {'CkpdName': 'Af1Y', 'DistStartToPredDT': 0.0001, 'DistEndToPredDT': 365, 'TimeUnit': 'D', 'StartIdx5Min': 1, 'EndIdx5Min': 105120}, 'PntAf1Y2M': {'CkpdName': 'PntAf1Y2M', 'DistStartToPredDT': 305, 'DistEndToPredDT': 425, 'TimeUnit': 'D', 'StartIdx5Min': 87840, 'EndIdx5Min': 122400}, 'PntAf1Y3M': {'CkpdName': 'PntAf1Y2M', 'DistStartToPredDT': 275, 'DistEndToPredDT': 455, 'TimeUnit': 'D', 'StartIdx5Min': 79200, 'EndIdx5Min': 131040}}}\n"
     ]
    }
   ],
   "source": [
    "import datasets\n",
    "from recfldtkn.loadtools import load_ds_rec_and_info\n",
    "from recfldtkn.configfn import load_cohort_args, load_record_args\n",
    "\n",
    "base_config = load_cohort_args(recfldtkn_config_path, SPACE)\n",
    "print(base_config)"
   ]
  },
  {
   "cell_type": "markdown",
   "metadata": {},
   "source": [
    "# TriggerCaseMethod"
   ]
  },
  {
   "cell_type": "code",
   "execution_count": 3,
   "id": "4e8c3c13",
   "metadata": {},
   "outputs": [],
   "source": [
    "from recfldtkn.pipeline_model import get_Trigger_Cases, convert_TriggerCases_to_LearningCases\n",
    "\n",
    "use_learning = True \n",
    "use_inference = not use_learning\n",
    "\n",
    "######################################\n",
    "TriggerCaseMethod = 'CGM5MinEntry'\n",
    "cohort_label_list = [1]\n",
    "Trigger2LearningMethods = [\n",
    "    \n",
    "    {'op':'Tag',    'Name': 'Tag_PttBasicWD'},\n",
    "    {'op':'Filter', 'Name': 'Filter_PttBasicWD'},\n",
    "    \n",
    "    {'op':'CFQ',    'Name': 'CFQ_Bf24hCGMrn'},\n",
    "    {'op':'TagCF',  'Name': 'TagCF_Bf24hCGMrn', 'CFQName': 'CFQ_Bf24hCGMrn'},\n",
    "    \n",
    "    {'op':'CFQ',    'Name': 'CFQ_Af2hCGMrn',    \n",
    "     'type': 'learning-only'},\n",
    "    {'op':'TagCF',  'Name': 'TagCF_Af2hCGMrn',  'CFQName': 'CFQ_Af2hCGMrn',  \n",
    "     'type': 'learning-only',},\n",
    "    \n",
    "    # {'op':'Filter', 'Name': 'Filter_BfCGMgeq280'},\n",
    "    # {'op':'Filter', 'Name': 'Filter_AfCGMgeq24',  \n",
    "    #  'type': 'learning-only'},\n",
    "    \n",
    "    # {'op':'CFQ',    'Name': 'CFQ_Bf1mMEDALrn',    \n",
    "    #  'type': 'learning-only'},\n",
    "    # {'op':'TagCF',  'Name': 'TagCF_Bf1mMEDALrn', 'CFQName': 'CFQ_Bf1mMEDALrn', \n",
    "    #  'type': 'learning-only'},\n",
    "\n",
    "]\n",
    "######################################"
   ]
  },
  {
   "cell_type": "code",
   "execution_count": 4,
   "id": "549d1f1c",
   "metadata": {},
   "outputs": [
    {
     "data": {
      "text/plain": [
       "False"
      ]
     },
     "execution_count": 4,
     "metadata": {},
     "output_type": "execute_result"
    }
   ],
   "source": [
    "use_inference"
   ]
  },
  {
   "cell_type": "code",
   "execution_count": 5,
   "id": "93e7239b",
   "metadata": {},
   "outputs": [],
   "source": [
    "from recfldtkn.loadtools import fetch_casetag_tools, fetch_casefilter_tools, load_module_variables\n",
    "\n",
    "def convert_TriggerCases_to_LearningCases(df_case, \n",
    "                                          cohort_label_list,\n",
    "                                          Trigger2LearningMethods, \n",
    "                                          base_config, \n",
    "                                          use_inference):\n",
    "    \n",
    "    CFQ_to_CaseFeatInfo = {}\n",
    "\n",
    "    if use_inference == True:\n",
    "        Trigger2LearningMethods = [i for i in Trigger2LearningMethods if i.get('type', None) != 'learning-only']\n",
    "       \n",
    "    # print(Trigger2LearningMethods)\n",
    "    SPACE = base_config['SPACE']\n",
    "    for method in Trigger2LearningMethods:\n",
    "        if method['op'] == 'Tag':\n",
    "            name = method['Name']\n",
    "            logger.info(f'CaseTag: {name}')\n",
    "            CaseTag_Tools = fetch_casetag_tools(name, SPACE)\n",
    "\n",
    "            subgroup_columns = CaseTag_Tools['subgroup_columns']\n",
    "            if 'InfoRecName' in CaseTag_Tools:\n",
    "                InfoRecName = CaseTag_Tools['InfoRecName']\n",
    "                ds_info, _ = load_ds_rec_and_info(InfoRecName, base_config, cohort_label_list)\n",
    "            else:\n",
    "                ds_info = None\n",
    "\n",
    "            fn_case_tagging = CaseTag_Tools['fn_case_tagging']\n",
    "            df_case = fn_case_tagging(df_case, ds_info, subgroup_columns, base_config)\n",
    "\n",
    "        elif method['op'] == 'Filter':\n",
    "            name = method['Name']\n",
    "            logger.info(f'CaseFilter: {name}')\n",
    "            CaseFilter_Tools = fetch_casefilter_tools(name, SPACE)\n",
    "            fn_case_filtering = CaseFilter_Tools['fn_case_filtering']\n",
    "            \n",
    "            logger.info(f'Before Filter: {df_case.shape}')\n",
    "            df_case = fn_case_filtering(df_case)\n",
    "            logger.info(f'After Filter: {df_case.shape}')\n",
    "\n",
    "        elif method['op'] == 'CFQ':\n",
    "            name = method['Name']\n",
    "            pypath = os.path.join(SPACE['CODE_FN'], 'fn_learning', f'{name}.py')\n",
    "            module = load_module_variables(pypath)\n",
    "            fn_casefeat_querying = module.fn_casefeat_querying\n",
    "            df_case, CaseFeatInfo = fn_casefeat_querying(df_case, base_config)\n",
    "            # CaseFeatName = CaseFeatInfo['CaseFeatName']\n",
    "            CFQ_to_CaseFeatInfo[name] = CaseFeatInfo\n",
    "\n",
    "        elif method['op'] == 'TagCF':\n",
    "            name = method['Name']\n",
    "            pypath = os.path.join(SPACE['CODE_FN'], 'fn_learning', f'{name}.py')\n",
    "            module = load_module_variables(pypath)\n",
    "            fn_case_tagging_on_casefeat = module.fn_case_tagging_on_casefeat\n",
    "            \n",
    "            CFQName = method['CFQName']\n",
    "            CFQ_to_CaseFeatInfo = CFQ_to_CaseFeatInfo[CFQName]\n",
    "            df_case = fn_case_tagging_on_casefeat(df_case, CaseFeatInfo)\n",
    "\n",
    "        else:\n",
    "            raise ValueError(f'Unknown method: {method}')\n",
    "\n",
    "    return df_case"
   ]
  },
  {
   "cell_type": "code",
   "execution_count": 6,
   "id": "946fb08d",
   "metadata": {},
   "outputs": [
    {
     "data": {
      "text/plain": [
       "(17501383, 2)"
      ]
     },
     "execution_count": 6,
     "metadata": {},
     "output_type": "execute_result"
    }
   ],
   "source": [
    "RecName_to_dsRec = {}\n",
    "RecName_to_dsRecInfo = {}\n",
    "\n",
    "df_case = get_Trigger_Cases(TriggerCaseMethod, \n",
    "                            cohort_label_list, \n",
    "                            base_config, \n",
    "                            SPACE, \n",
    "                            RecName_to_dsRec, \n",
    "                            RecName_to_dsRecInfo)\n",
    "\n",
    "#####################\n",
    "# df_case = df_case.sample(1000, random_state=42)\n",
    "#####################\n",
    "\n",
    "df_case.shape"
   ]
  },
  {
   "cell_type": "markdown",
   "id": "9beb629a",
   "metadata": {},
   "source": [
    "# Split DataFrame"
   ]
  },
  {
   "cell_type": "code",
   "execution_count": 7,
   "id": "e823aed1",
   "metadata": {},
   "outputs": [],
   "source": [
    "# Function to split DataFrame into chunks\n",
    "def split_dataframe(df, chunk_size):\n",
    "    chunks = []\n",
    "    num_chunks = len(df) // chunk_size + 1\n",
    "    for i in range(num_chunks):\n",
    "        chunks.append(df[i*chunk_size:(i+1)*chunk_size])\n",
    "    return chunks"
   ]
  },
  {
   "cell_type": "code",
   "execution_count": 8,
   "id": "3e15992b",
   "metadata": {},
   "outputs": [],
   "source": [
    "len(df_case)\n",
    "\n",
    "df_case = df_case[:1000]"
   ]
  },
  {
   "cell_type": "code",
   "execution_count": 9,
   "id": "f1feecac",
   "metadata": {},
   "outputs": [
    {
     "name": "stdout",
     "output_type": "stream",
     "text": [
      "2\n"
     ]
    }
   ],
   "source": [
    "# SIZE = 1_000_000\n",
    "SIZE = 5_10\n",
    "chunks = split_dataframe(df_case, SIZE)\n",
    "print(len(chunks))"
   ]
  },
  {
   "cell_type": "code",
   "execution_count": 16,
   "id": "76f0bc02",
   "metadata": {},
   "outputs": [],
   "source": [
    "def process_chunk(chunk):\n",
    "    try:\n",
    "        df_case = convert_TriggerCases_to_LearningCases(chunk, \n",
    "                                                    cohort_label_list, \n",
    "                                                    Trigger2LearningMethods, \n",
    "                                                    base_config, \n",
    "                                                    use_inference)\n",
    "        columns = [i for i in df_case.columns if '_co.' not in i]\n",
    "        # print(columns)\n",
    "        df_case = df_case[columns].reset_index(drop=True)\n",
    "        # df_case.head()\n",
    "        return df_case\n",
    "    except Exception as e:\n",
    "        print(f\"Error processing chunk: {e}\")\n",
    "        raise  # Re-raise the exception to ensure it's visible outside the function"
   ]
  },
  {
   "cell_type": "code",
   "execution_count": 17,
   "id": "18a8ae7a",
   "metadata": {},
   "outputs": [
    {
     "data": {
      "text/html": [
       "<div>\n",
       "<style scoped>\n",
       "    .dataframe tbody tr th:only-of-type {\n",
       "        vertical-align: middle;\n",
       "    }\n",
       "\n",
       "    .dataframe tbody tr th {\n",
       "        vertical-align: top;\n",
       "    }\n",
       "\n",
       "    .dataframe thead th {\n",
       "        text-align: right;\n",
       "    }\n",
       "</style>\n",
       "<table border=\"1\" class=\"dataframe\">\n",
       "  <thead>\n",
       "    <tr style=\"text-align: right;\">\n",
       "      <th></th>\n",
       "      <th>PID</th>\n",
       "      <th>ObsDT</th>\n",
       "    </tr>\n",
       "  </thead>\n",
       "  <tbody>\n",
       "    <tr>\n",
       "      <th>0</th>\n",
       "      <td>1000006</td>\n",
       "      <td>2021-01-07 06:20:00</td>\n",
       "    </tr>\n",
       "    <tr>\n",
       "      <th>1</th>\n",
       "      <td>1000006</td>\n",
       "      <td>2021-01-07 06:25:00</td>\n",
       "    </tr>\n",
       "    <tr>\n",
       "      <th>2</th>\n",
       "      <td>1000006</td>\n",
       "      <td>2021-01-07 06:30:00</td>\n",
       "    </tr>\n",
       "    <tr>\n",
       "      <th>3</th>\n",
       "      <td>1000006</td>\n",
       "      <td>2021-01-07 06:35:00</td>\n",
       "    </tr>\n",
       "    <tr>\n",
       "      <th>4</th>\n",
       "      <td>1000006</td>\n",
       "      <td>2021-01-07 06:40:00</td>\n",
       "    </tr>\n",
       "    <tr>\n",
       "      <th>...</th>\n",
       "      <td>...</td>\n",
       "      <td>...</td>\n",
       "    </tr>\n",
       "    <tr>\n",
       "      <th>505</th>\n",
       "      <td>1000006</td>\n",
       "      <td>2021-01-23 14:10:00</td>\n",
       "    </tr>\n",
       "    <tr>\n",
       "      <th>506</th>\n",
       "      <td>1000006</td>\n",
       "      <td>2021-01-23 14:15:00</td>\n",
       "    </tr>\n",
       "    <tr>\n",
       "      <th>507</th>\n",
       "      <td>1000006</td>\n",
       "      <td>2021-01-23 14:20:00</td>\n",
       "    </tr>\n",
       "    <tr>\n",
       "      <th>508</th>\n",
       "      <td>1000006</td>\n",
       "      <td>2021-01-23 14:25:00</td>\n",
       "    </tr>\n",
       "    <tr>\n",
       "      <th>509</th>\n",
       "      <td>1000006</td>\n",
       "      <td>2021-01-23 14:30:00</td>\n",
       "    </tr>\n",
       "  </tbody>\n",
       "</table>\n",
       "<p>510 rows × 2 columns</p>\n",
       "</div>"
      ],
      "text/plain": [
       "         PID               ObsDT\n",
       "0    1000006 2021-01-07 06:20:00\n",
       "1    1000006 2021-01-07 06:25:00\n",
       "2    1000006 2021-01-07 06:30:00\n",
       "3    1000006 2021-01-07 06:35:00\n",
       "4    1000006 2021-01-07 06:40:00\n",
       "..       ...                 ...\n",
       "505  1000006 2021-01-23 14:10:00\n",
       "506  1000006 2021-01-23 14:15:00\n",
       "507  1000006 2021-01-23 14:20:00\n",
       "508  1000006 2021-01-23 14:25:00\n",
       "509  1000006 2021-01-23 14:30:00\n",
       "\n",
       "[510 rows x 2 columns]"
      ]
     },
     "execution_count": 17,
     "metadata": {},
     "output_type": "execute_result"
    }
   ],
   "source": [
    "chunk = chunks[0]\n",
    "chunk"
   ]
  },
  {
   "cell_type": "code",
   "execution_count": 18,
   "id": "13c370b3",
   "metadata": {},
   "outputs": [
    {
     "name": "stderr",
     "output_type": "stream",
     "text": [
      "[INFO:2024-03-04 01:02:30,619:(2962776366.py@19 __main__)]: CaseTag: Tag_PttBasicWD\n",
      "[INFO:2024-03-04 01:02:30,660:(2962776366.py@34 __main__)]: CaseFilter: Filter_PttBasicWD\n",
      "[INFO:2024-03-04 01:02:30,660:(2962776366.py@38 __main__)]: Before Filter: (510, 7)\n",
      "[INFO:2024-03-04 01:02:30,661:(2962776366.py@40 __main__)]: After Filter: (510, 7)\n",
      "[INFO:2024-03-04 01:02:38,797:(observer.py@892 recfldtkn.observer)]: provided casefeat_ids num: 510\n",
      "[INFO:2024-03-04 01:02:38,804:(observer.py@582 recfldtkn.observer)]: provided caseobs_ids num: 510\n"
     ]
    },
    {
     "data": {
      "application/vnd.jupyter.widget-view+json": {
       "model_id": "4cb2c6690f8c4f858ddde43d5bbd2ff4",
       "version_major": 2,
       "version_minor": 0
      },
      "text/plain": [
       "Map:   0%|          | 0/510 [00:00<?, ? examples/s]"
      ]
     },
     "metadata": {},
     "output_type": "display_data"
    },
    {
     "name": "stderr",
     "output_type": "stream",
     "text": [
      "[INFO:2024-03-04 01:02:42,674:(observer.py@892 recfldtkn.observer)]: provided casefeat_ids num: 510\n",
      "[INFO:2024-03-04 01:02:42,682:(observer.py@582 recfldtkn.observer)]: provided caseobs_ids num: 510\n"
     ]
    },
    {
     "data": {
      "application/vnd.jupyter.widget-view+json": {
       "model_id": "3f310c9aa8294ab083dce0c7d698a478",
       "version_major": 2,
       "version_minor": 0
      },
      "text/plain": [
       "Map:   0%|          | 0/510 [00:00<?, ? examples/s]"
      ]
     },
     "metadata": {},
     "output_type": "display_data"
    },
    {
     "data": {
      "text/html": [
       "<div>\n",
       "<style scoped>\n",
       "    .dataframe tbody tr th:only-of-type {\n",
       "        vertical-align: middle;\n",
       "    }\n",
       "\n",
       "    .dataframe tbody tr th {\n",
       "        vertical-align: top;\n",
       "    }\n",
       "\n",
       "    .dataframe thead th {\n",
       "        text-align: right;\n",
       "    }\n",
       "</style>\n",
       "<table border=\"1\" class=\"dataframe\">\n",
       "  <thead>\n",
       "    <tr style=\"text-align: right;\">\n",
       "      <th></th>\n",
       "      <th>PID</th>\n",
       "      <th>ObsDT</th>\n",
       "      <th>Gender</th>\n",
       "      <th>YearOfBirth</th>\n",
       "      <th>DiseaseType</th>\n",
       "      <th>cohort</th>\n",
       "      <th>Age</th>\n",
       "      <th>BfCGMrn</th>\n",
       "      <th>AfCGMrn</th>\n",
       "    </tr>\n",
       "  </thead>\n",
       "  <tbody>\n",
       "    <tr>\n",
       "      <th>0</th>\n",
       "      <td>1000006</td>\n",
       "      <td>2021-01-07 06:20:00</td>\n",
       "      <td>1</td>\n",
       "      <td>1978</td>\n",
       "      <td>1</td>\n",
       "      <td>C1</td>\n",
       "      <td>43</td>\n",
       "      <td>1.0</td>\n",
       "      <td>24.0</td>\n",
       "    </tr>\n",
       "    <tr>\n",
       "      <th>1</th>\n",
       "      <td>1000006</td>\n",
       "      <td>2021-01-07 06:25:00</td>\n",
       "      <td>1</td>\n",
       "      <td>1978</td>\n",
       "      <td>1</td>\n",
       "      <td>C1</td>\n",
       "      <td>43</td>\n",
       "      <td>2.0</td>\n",
       "      <td>24.0</td>\n",
       "    </tr>\n",
       "    <tr>\n",
       "      <th>2</th>\n",
       "      <td>1000006</td>\n",
       "      <td>2021-01-07 06:30:00</td>\n",
       "      <td>1</td>\n",
       "      <td>1978</td>\n",
       "      <td>1</td>\n",
       "      <td>C1</td>\n",
       "      <td>43</td>\n",
       "      <td>3.0</td>\n",
       "      <td>24.0</td>\n",
       "    </tr>\n",
       "    <tr>\n",
       "      <th>3</th>\n",
       "      <td>1000006</td>\n",
       "      <td>2021-01-07 06:35:00</td>\n",
       "      <td>1</td>\n",
       "      <td>1978</td>\n",
       "      <td>1</td>\n",
       "      <td>C1</td>\n",
       "      <td>43</td>\n",
       "      <td>4.0</td>\n",
       "      <td>24.0</td>\n",
       "    </tr>\n",
       "    <tr>\n",
       "      <th>4</th>\n",
       "      <td>1000006</td>\n",
       "      <td>2021-01-07 06:40:00</td>\n",
       "      <td>1</td>\n",
       "      <td>1978</td>\n",
       "      <td>1</td>\n",
       "      <td>C1</td>\n",
       "      <td>43</td>\n",
       "      <td>5.0</td>\n",
       "      <td>24.0</td>\n",
       "    </tr>\n",
       "    <tr>\n",
       "      <th>...</th>\n",
       "      <td>...</td>\n",
       "      <td>...</td>\n",
       "      <td>...</td>\n",
       "      <td>...</td>\n",
       "      <td>...</td>\n",
       "      <td>...</td>\n",
       "      <td>...</td>\n",
       "      <td>...</td>\n",
       "      <td>...</td>\n",
       "    </tr>\n",
       "    <tr>\n",
       "      <th>505</th>\n",
       "      <td>1000006</td>\n",
       "      <td>2021-01-23 14:10:00</td>\n",
       "      <td>1</td>\n",
       "      <td>1978</td>\n",
       "      <td>1</td>\n",
       "      <td>C1</td>\n",
       "      <td>43</td>\n",
       "      <td>32.0</td>\n",
       "      <td>24.0</td>\n",
       "    </tr>\n",
       "    <tr>\n",
       "      <th>506</th>\n",
       "      <td>1000006</td>\n",
       "      <td>2021-01-23 14:15:00</td>\n",
       "      <td>1</td>\n",
       "      <td>1978</td>\n",
       "      <td>1</td>\n",
       "      <td>C1</td>\n",
       "      <td>43</td>\n",
       "      <td>33.0</td>\n",
       "      <td>24.0</td>\n",
       "    </tr>\n",
       "    <tr>\n",
       "      <th>507</th>\n",
       "      <td>1000006</td>\n",
       "      <td>2021-01-23 14:20:00</td>\n",
       "      <td>1</td>\n",
       "      <td>1978</td>\n",
       "      <td>1</td>\n",
       "      <td>C1</td>\n",
       "      <td>43</td>\n",
       "      <td>34.0</td>\n",
       "      <td>24.0</td>\n",
       "    </tr>\n",
       "    <tr>\n",
       "      <th>508</th>\n",
       "      <td>1000006</td>\n",
       "      <td>2021-01-23 14:25:00</td>\n",
       "      <td>1</td>\n",
       "      <td>1978</td>\n",
       "      <td>1</td>\n",
       "      <td>C1</td>\n",
       "      <td>43</td>\n",
       "      <td>35.0</td>\n",
       "      <td>24.0</td>\n",
       "    </tr>\n",
       "    <tr>\n",
       "      <th>509</th>\n",
       "      <td>1000006</td>\n",
       "      <td>2021-01-23 14:30:00</td>\n",
       "      <td>1</td>\n",
       "      <td>1978</td>\n",
       "      <td>1</td>\n",
       "      <td>C1</td>\n",
       "      <td>43</td>\n",
       "      <td>36.0</td>\n",
       "      <td>24.0</td>\n",
       "    </tr>\n",
       "  </tbody>\n",
       "</table>\n",
       "<p>510 rows × 9 columns</p>\n",
       "</div>"
      ],
      "text/plain": [
       "         PID               ObsDT  Gender  YearOfBirth  DiseaseType cohort  \\\n",
       "0    1000006 2021-01-07 06:20:00       1         1978            1     C1   \n",
       "1    1000006 2021-01-07 06:25:00       1         1978            1     C1   \n",
       "2    1000006 2021-01-07 06:30:00       1         1978            1     C1   \n",
       "3    1000006 2021-01-07 06:35:00       1         1978            1     C1   \n",
       "4    1000006 2021-01-07 06:40:00       1         1978            1     C1   \n",
       "..       ...                 ...     ...          ...          ...    ...   \n",
       "505  1000006 2021-01-23 14:10:00       1         1978            1     C1   \n",
       "506  1000006 2021-01-23 14:15:00       1         1978            1     C1   \n",
       "507  1000006 2021-01-23 14:20:00       1         1978            1     C1   \n",
       "508  1000006 2021-01-23 14:25:00       1         1978            1     C1   \n",
       "509  1000006 2021-01-23 14:30:00       1         1978            1     C1   \n",
       "\n",
       "     Age  BfCGMrn  AfCGMrn  \n",
       "0     43      1.0     24.0  \n",
       "1     43      2.0     24.0  \n",
       "2     43      3.0     24.0  \n",
       "3     43      4.0     24.0  \n",
       "4     43      5.0     24.0  \n",
       "..   ...      ...      ...  \n",
       "505   43     32.0     24.0  \n",
       "506   43     33.0     24.0  \n",
       "507   43     34.0     24.0  \n",
       "508   43     35.0     24.0  \n",
       "509   43     36.0     24.0  \n",
       "\n",
       "[510 rows x 9 columns]"
      ]
     },
     "execution_count": 18,
     "metadata": {},
     "output_type": "execute_result"
    }
   ],
   "source": [
    "process_chunk(chunk)"
   ]
  },
  {
   "cell_type": "code",
   "execution_count": 19,
   "id": "09389187",
   "metadata": {},
   "outputs": [
    {
     "data": {
      "text/plain": [
       "24"
      ]
     },
     "execution_count": 19,
     "metadata": {},
     "output_type": "execute_result"
    }
   ],
   "source": [
    "import os\n",
    "\n",
    "# Determine the number of available CPUs\n",
    "num_cpus = os.cpu_count()\n",
    "num_cpus"
   ]
  },
  {
   "cell_type": "code",
   "execution_count": 24,
   "id": "0def53e0",
   "metadata": {},
   "outputs": [
    {
     "name": "stdout",
     "output_type": "stream",
     "text": [
      "Error processing future: A process in the process pool was terminated abruptly while the future was running or pending.\n",
      "Error processing future: A process in the process pool was terminated abruptly while the future was running or pending.\n"
     ]
    }
   ],
   "source": [
    "import pandas as pd\n",
    "import numpy as np\n",
    "from concurrent.futures import ProcessPoolExecutor, as_completed\n",
    "\n",
    "\n",
    "num_workers = 2\n",
    "with ProcessPoolExecutor() as executor:\n",
    "    futures = [executor.submit(process_chunk, chunk) for chunk in chunks]\n",
    "    for future in as_completed(futures):\n",
    "        try:\n",
    "            ds_case = future.result()\n",
    "            print(ds_case)  # Or any other logic to handle the result\n",
    "        except Exception as e:\n",
    "            print(f\"Error processing future: {e}\")"
   ]
  },
  {
   "cell_type": "code",
   "execution_count": null,
   "id": "3268b3c4",
   "metadata": {},
   "outputs": [],
   "source": []
  },
  {
   "cell_type": "code",
   "execution_count": null,
   "id": "39e33629",
   "metadata": {},
   "outputs": [],
   "source": []
  }
 ],
 "metadata": {
  "kernelspec": {
   "display_name": "Python 3 (ipykernel)",
   "language": "python",
   "name": "python3"
  },
  "language_info": {
   "codemirror_mode": {
    "name": "ipython",
    "version": 3
   },
   "file_extension": ".py",
   "mimetype": "text/x-python",
   "name": "python",
   "nbconvert_exporter": "python",
   "pygments_lexer": "ipython3",
   "version": "3.11.5"
  },
  "toc-autonumbering": true
 },
 "nbformat": 4,
 "nbformat_minor": 5
}
