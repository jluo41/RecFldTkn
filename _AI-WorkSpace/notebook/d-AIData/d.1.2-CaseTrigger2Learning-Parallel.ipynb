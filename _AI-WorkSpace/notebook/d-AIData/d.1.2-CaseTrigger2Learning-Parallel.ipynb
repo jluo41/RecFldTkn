{
 "cells": [
  {
   "cell_type": "markdown",
   "id": "881d73c8-f12f-4a9b-a485-996a76289767",
   "metadata": {},
   "source": [
    "\n",
    "# Space"
   ]
  },
  {
   "cell_type": "code",
   "execution_count": null,
   "id": "c8fa8c69",
   "metadata": {},
   "outputs": [],
   "source": [
    "import os\n",
    "import sys \n",
    "import logging\n",
    "import pandas as pd \n",
    "from pprint import pprint \n",
    "\n",
    "# WorkSpace\n",
    "KEY = 'WorkSpace'; WORKSPACE_PATH = os.getcwd().split(KEY)[0] + KEY; print(WORKSPACE_PATH)\n",
    "os.chdir(WORKSPACE_PATH)\n",
    "sys.path.append(WORKSPACE_PATH)\n",
    "\n",
    "# Pipeline Space\n",
    "from proj_space import SPACE\n",
    "SPACE['WORKSPACE_PATH'] = WORKSPACE_PATH\n",
    "sys.path.append(SPACE['CODE_FN'])\n",
    "pprint(SPACE)\n",
    "\n",
    "# Available Packages\n",
    "import pandas as pd\n",
    "from datetime import datetime \n",
    "\n",
    "logger = logging.getLogger(__name__)\n",
    "recfldtkn_config_path = os.path.join(SPACE['CODE_FN'], 'config_recfldtkn/')\n"
   ]
  },
  {
   "cell_type": "markdown",
   "metadata": {},
   "source": [
    "# Dataset"
   ]
  },
  {
   "cell_type": "code",
   "execution_count": null,
   "metadata": {},
   "outputs": [],
   "source": [
    "import datasets\n",
    "from recfldtkn.loadtools import load_ds_rec_and_info\n",
    "from recfldtkn.configfn import load_cohort_args, load_record_args\n",
    "\n",
    "base_config = load_cohort_args(recfldtkn_config_path, SPACE)\n",
    "print(base_config)"
   ]
  },
  {
   "cell_type": "markdown",
   "metadata": {},
   "source": [
    "# TriggerCaseMethod"
   ]
  },
  {
   "cell_type": "code",
   "execution_count": null,
   "id": "4e8c3c13",
   "metadata": {},
   "outputs": [],
   "source": [
    "from recfldtkn.pipeline_model import get_Trigger_Cases, convert_TriggerCases_to_LearningCases\n",
    "\n",
    "use_learning = True \n",
    "use_inference = not use_learning\n",
    "\n",
    "######################################\n",
    "TriggerCaseMethod = 'CGM5MinEntry'\n",
    "cohort_label_list = [1]\n",
    "Trigger2LearningMethods = [\n",
    "    \n",
    "    {'op':'Tag',    'Name': 'Tag_PttBasicWD'},\n",
    "    {'op':'Filter', 'Name': 'Filter_PttBasicWD'},\n",
    "    \n",
    "    {'op':'CFQ',    'Name': 'CFQ_Bf24hCGMrn'},\n",
    "    {'op':'TagCF',  'Name': 'TagCF_Bf24hCGMrn', 'CFQName': 'CFQ_Bf24hCGMrn'},\n",
    "    \n",
    "    {'op':'CFQ',    'Name': 'CFQ_Af2hCGMrn',    \n",
    "     'type': 'learning-only'},\n",
    "    {'op':'TagCF',  'Name': 'TagCF_Af2hCGMrn',  'CFQName': 'CFQ_Af2hCGMrn',  \n",
    "     'type': 'learning-only',},\n",
    "    \n",
    "    # {'op':'Filter', 'Name': 'Filter_BfCGMgeq280'},\n",
    "    # {'op':'Filter', 'Name': 'Filter_AfCGMgeq24',  \n",
    "    #  'type': 'learning-only'},\n",
    "    \n",
    "    # {'op':'CFQ',    'Name': 'CFQ_Bf1mMEDALrn',    \n",
    "    #  'type': 'learning-only'},\n",
    "    # {'op':'TagCF',  'Name': 'TagCF_Bf1mMEDALrn', 'CFQName': 'CFQ_Bf1mMEDALrn', \n",
    "    #  'type': 'learning-only'},\n",
    "\n",
    "]\n",
    "######################################"
   ]
  },
  {
   "cell_type": "code",
   "execution_count": null,
   "id": "549d1f1c",
   "metadata": {},
   "outputs": [],
   "source": [
    "use_inference"
   ]
  },
  {
   "cell_type": "code",
   "execution_count": null,
   "id": "93e7239b",
   "metadata": {},
   "outputs": [],
   "source": [
    "from recfldtkn.loadtools import fetch_casetag_tools, fetch_casefilter_tools, load_module_variables\n",
    "\n",
    "def convert_TriggerCases_to_LearningCases(df_case, \n",
    "                                          cohort_label_list,\n",
    "                                          Trigger2LearningMethods, \n",
    "                                          base_config, \n",
    "                                          use_inference):\n",
    "    \n",
    "    CFQ_to_CaseFeatInfo = {}\n",
    "\n",
    "    if use_inference == True:\n",
    "        Trigger2LearningMethods = [i for i in Trigger2LearningMethods if i.get('type', None) != 'learning-only']\n",
    "       \n",
    "    # print(Trigger2LearningMethods)\n",
    "    SPACE = base_config['SPACE']\n",
    "    for method in Trigger2LearningMethods:\n",
    "        if method['op'] == 'Tag':\n",
    "            name = method['Name']\n",
    "            logger.info(f'CaseTag: {name}')\n",
    "            CaseTag_Tools = fetch_casetag_tools(name, SPACE)\n",
    "\n",
    "            subgroup_columns = CaseTag_Tools['subgroup_columns']\n",
    "            if 'InfoRecName' in CaseTag_Tools:\n",
    "                InfoRecName = CaseTag_Tools['InfoRecName']\n",
    "                ds_info, _ = load_ds_rec_and_info(InfoRecName, base_config, cohort_label_list)\n",
    "            else:\n",
    "                ds_info = None\n",
    "\n",
    "            fn_case_tagging = CaseTag_Tools['fn_case_tagging']\n",
    "            df_case = fn_case_tagging(df_case, ds_info, subgroup_columns, base_config)\n",
    "\n",
    "        elif method['op'] == 'Filter':\n",
    "            name = method['Name']\n",
    "            logger.info(f'CaseFilter: {name}')\n",
    "            CaseFilter_Tools = fetch_casefilter_tools(name, SPACE)\n",
    "            fn_case_filtering = CaseFilter_Tools['fn_case_filtering']\n",
    "            \n",
    "            logger.info(f'Before Filter: {df_case.shape}')\n",
    "            df_case = fn_case_filtering(df_case)\n",
    "            logger.info(f'After Filter: {df_case.shape}')\n",
    "\n",
    "        elif method['op'] == 'CFQ':\n",
    "            name = method['Name']\n",
    "            pypath = os.path.join(SPACE['CODE_FN'], 'fn_learning', f'{name}.py')\n",
    "            module = load_module_variables(pypath)\n",
    "            fn_casefeat_querying = module.fn_casefeat_querying\n",
    "            df_case, CaseFeatInfo = fn_casefeat_querying(df_case, base_config)\n",
    "            # CaseFeatName = CaseFeatInfo['CaseFeatName']\n",
    "            CFQ_to_CaseFeatInfo[name] = CaseFeatInfo\n",
    "\n",
    "        elif method['op'] == 'TagCF':\n",
    "            name = method['Name']\n",
    "            pypath = os.path.join(SPACE['CODE_FN'], 'fn_learning', f'{name}.py')\n",
    "            module = load_module_variables(pypath)\n",
    "            fn_case_tagging_on_casefeat = module.fn_case_tagging_on_casefeat\n",
    "            \n",
    "            CFQName = method['CFQName']\n",
    "            CFQ_to_CaseFeatInfo = CFQ_to_CaseFeatInfo[CFQName]\n",
    "            df_case = fn_case_tagging_on_casefeat(df_case, CaseFeatInfo)\n",
    "\n",
    "        else:\n",
    "            raise ValueError(f'Unknown method: {method}')\n",
    "\n",
    "    return df_case"
   ]
  },
  {
   "cell_type": "code",
   "execution_count": null,
   "id": "946fb08d",
   "metadata": {},
   "outputs": [],
   "source": [
    "RecName_to_dsRec = {}\n",
    "RecName_to_dsRecInfo = {}\n",
    "\n",
    "df_case = get_Trigger_Cases(TriggerCaseMethod, \n",
    "                            cohort_label_list, \n",
    "                            base_config, \n",
    "                            SPACE, \n",
    "                            RecName_to_dsRec, \n",
    "                            RecName_to_dsRecInfo)\n",
    "\n",
    "#####################\n",
    "# df_case = df_case.sample(1000, random_state=42)\n",
    "#####################\n",
    "\n",
    "df_case.shape"
   ]
  },
  {
   "cell_type": "markdown",
   "id": "9beb629a",
   "metadata": {},
   "source": [
    "# Split DataFrame"
   ]
  },
  {
   "cell_type": "code",
   "execution_count": null,
   "id": "e823aed1",
   "metadata": {},
   "outputs": [],
   "source": [
    "# Function to split DataFrame into chunks\n",
    "def split_dataframe(df, chunk_size):\n",
    "    chunks = []\n",
    "    num_chunks = len(df) // chunk_size + 1\n",
    "    for i in range(num_chunks):\n",
    "        chunks.append(df[i*chunk_size:(i+1)*chunk_size])\n",
    "    return chunks"
   ]
  },
  {
   "cell_type": "code",
   "execution_count": null,
   "id": "3e15992b",
   "metadata": {},
   "outputs": [],
   "source": [
    "len(df_case)\n",
    "\n",
    "df_case = df_case[:1000]"
   ]
  },
  {
   "cell_type": "code",
   "execution_count": null,
   "id": "f1feecac",
   "metadata": {},
   "outputs": [],
   "source": [
    "# SIZE = 1_000_000\n",
    "SIZE = 5_10\n",
    "chunks = split_dataframe(df_case, SIZE)\n",
    "print(len(chunks))"
   ]
  },
  {
   "cell_type": "code",
   "execution_count": null,
   "id": "76f0bc02",
   "metadata": {},
   "outputs": [],
   "source": [
    "def process_chunk(chunk):\n",
    "    try:\n",
    "        df_case = convert_TriggerCases_to_LearningCases(chunk, \n",
    "                                                    cohort_label_list, \n",
    "                                                    Trigger2LearningMethods, \n",
    "                                                    base_config, \n",
    "                                                    use_inference)\n",
    "        columns = [i for i in df_case.columns if '_co.' not in i]\n",
    "        # print(columns)\n",
    "        df_case = df_case[columns].reset_index(drop=True)\n",
    "        # df_case.head()\n",
    "        return df_case\n",
    "    except Exception as e:\n",
    "        print(f\"Error processing chunk: {e}\")\n",
    "        raise  # Re-raise the exception to ensure it's visible outside the function"
   ]
  },
  {
   "cell_type": "code",
   "execution_count": null,
   "id": "18a8ae7a",
   "metadata": {},
   "outputs": [],
   "source": [
    "chunk = chunks[0]\n",
    "chunk"
   ]
  },
  {
   "cell_type": "code",
   "execution_count": null,
   "id": "13c370b3",
   "metadata": {},
   "outputs": [],
   "source": [
    "process_chunk(chunk)"
   ]
  },
  {
   "cell_type": "code",
   "execution_count": null,
   "id": "09389187",
   "metadata": {},
   "outputs": [],
   "source": [
    "import os\n",
    "\n",
    "# Determine the number of available CPUs\n",
    "num_cpus = os.cpu_count()\n",
    "num_cpus"
   ]
  },
  {
   "cell_type": "code",
   "execution_count": null,
   "id": "0def53e0",
   "metadata": {},
   "outputs": [],
   "source": [
    "import pandas as pd\n",
    "import numpy as np\n",
    "from concurrent.futures import ProcessPoolExecutor, as_completed\n",
    "\n",
    "\n",
    "num_workers = 2\n",
    "with ProcessPoolExecutor() as executor:\n",
    "    futures = [executor.submit(process_chunk, chunk) for chunk in chunks]\n",
    "    for future in as_completed(futures):\n",
    "        try:\n",
    "            ds_case = future.result()\n",
    "            print(ds_case)  # Or any other logic to handle the result\n",
    "        except Exception as e:\n",
    "            print(f\"Error processing future: {e}\")"
   ]
  },
  {
   "cell_type": "code",
   "execution_count": null,
   "id": "3268b3c4",
   "metadata": {},
   "outputs": [],
   "source": []
  },
  {
   "cell_type": "code",
   "execution_count": null,
   "id": "39e33629",
   "metadata": {},
   "outputs": [],
   "source": []
  }
 ],
 "metadata": {
  "kernelspec": {
   "display_name": "Python 3 (ipykernel)",
   "language": "python",
   "name": "python3"
  },
  "language_info": {
   "codemirror_mode": {
    "name": "ipython",
    "version": 3
   },
   "file_extension": ".py",
   "mimetype": "text/x-python",
   "name": "python",
   "nbconvert_exporter": "python",
   "pygments_lexer": "ipython3",
   "version": "3.11.5"
  },
  "toc-autonumbering": true
 },
 "nbformat": 4,
 "nbformat_minor": 5
}
