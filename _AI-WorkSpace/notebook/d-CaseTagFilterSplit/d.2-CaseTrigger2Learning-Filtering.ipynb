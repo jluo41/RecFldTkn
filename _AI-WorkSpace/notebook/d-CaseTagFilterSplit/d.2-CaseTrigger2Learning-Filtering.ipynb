{
 "cells": [
  {
   "cell_type": "markdown",
   "id": "881d73c8-f12f-4a9b-a485-996a76289767",
   "metadata": {},
   "source": [
    "\n",
    "# Space"
   ]
  },
  {
   "cell_type": "code",
   "execution_count": 1,
   "id": "c8fa8c69",
   "metadata": {},
   "outputs": [
    {
     "name": "stdout",
     "output_type": "stream",
     "text": [
      "g:\\Shared drives\\CDHAI-WellDoc\\2024-WellDocTest-SPACE\\_WellDoc-AI-CGMGPT-WorkSpace\n",
      "{'CohortInfo': {'RawData2022_CGM': {'cohort_label': 1, 'cohort_name': 'RawData2022_CGM', 'FolderPath': '../_Data/0-Data_Raw/RawData2022_CGM/'}, 'RawData2023_CVSTDCAug': {'cohort_label': 2, 'cohort_name': 'RawData2023_CVSTDCAug', 'FolderPath': '../_Data/0-Data_Raw/RawData2023_CVSTDCAug/'}, 'RawData2023_CVSDeRxAug': {'cohort_label': 3, 'cohort_name': 'RawData2023_CVSDeRxAug', 'FolderPath': '../_Data/0-Data_Raw/RawData2023_CVSDeRxAug/'}}, 'RawRootID': 'PatientID', 'RootID': 'PID', 'RecName': 'PRawRecNum', 'recattr_pyfolder': '../pipeline/fn_recattr/', 'fldtkn_pyfolder': '../pipeline/fn_fldtkn/', 'humanrec_pyfolder': '../pipeline/fn_humanrec/', 'inference_pyfolder': '../pipeline/fn_inference/', 'trigger_pyfolder': '../pipeline/fn_trigger/', 'RecName_to_RFT_GROUP_SIZE': {'CGM5Min': 100, 'Default': 5000}, 'RecName_to_RFT_idx_group_size': {'CGM5Min': 100, 'BGManual': 100, 'Default': 10000}, 'RecName_to_RFT_usebucket': {'CGM5Min': True, 'Default': False}, 'RootIDLength': 6, 'recfldtkn_config_path': '../pipeline\\\\config_recfldtkn/', 'SPACE': {'DATA_RAW': '../_Data/0-Data_Raw', 'DATA_RFT': '../_Data/1-Data_RFT', 'DATA_CaseObs': '../_Data/2-Data_CaseObs', 'DATA_CaseFeat': '../_Data/3-Data_CaseFeat', 'DATA_CaseSet': '../_Data/4-Data_CaseSet', 'CODE_FN': '../pipeline', 'CODE_RFT': '../pipeline', 'DATA_TASK': '../_Data/8-Data_AIDataset', 'MODEL_TASK': '../_Model', 'WORKSPACE_PATH': 'g:\\\\Shared drives\\\\CDHAI-WellDoc\\\\2024-WellDocTest-SPACE\\\\_WellDoc-AI-CGMGPT-WorkSpace'}, 'pypath': '../pipeline/fn_humanrec/humanrec.py', 'ckpd_to_CkpdObsConfig': {'ObsPnt': {'DistStartToPredDT': -0.01, 'DistEndToPredDT': 0.01, 'TimeUnit': 'min', 'StartIdx5Min': 0, 'EndIdx5Min': 0}, 'Bf24H': {'DistStartToPredDT': -24, 'DistEndToPredDT': 0.01, 'TimeUnit': 'h', 'StartIdx5Min': -288, 'EndIdx5Min': 0}, 'Bf2H': {'DistStartToPredDT': -2, 'DistEndToPredDT': 0.01, 'TimeUnit': 'h', 'StartIdx5Min': -24, 'EndIdx5Min': 0}, 'Bf1M': {'DistStartToPredDT': -720, 'DistEndToPredDT': 0.01, 'TimeUnit': 'h', 'StartIdx5Min': -8640, 'EndIdx5Min': 0}, 'Bf1Y': {'DistStartToPredDT': -365, 'DistEndToPredDT': -1e-06, 'TimeUnit': 'D', 'StartIdx5Min': -105120, 'EndIdx5Min': -1}, 'Bf1YIn': {'DistStartToPredDT': -365, 'DistEndToPredDT': 1e-06, 'TimeUnit': 'D', 'StartIdx5Min': -105120, 'EndIdx5Min': 1}, 'Bf10Y': {'DistStartToPredDT': -3650, 'DistEndToPredDT': -1e-06, 'TimeUnit': 'D', 'StartIdx5Min': -1051200, 'EndIdx5Min': 1}, 'Af2H': {'DistStartToPredDT': 1, 'DistEndToPredDT': 121, 'TimeUnit': 'min', 'StartIdx5Min': 1, 'EndIdx5Min': 24}, 'Af1W': {'DistStartToPredDT': 0.0001, 'DistEndToPredDT': 7, 'TimeUnit': 'D', 'StartIdx5Min': 1, 'EndIdx5Min': 2016}, 'Af1Wlft': {'DistStartToPredDT': -0.0001, 'DistEndToPredDT': 7, 'TimeUnit': 'D', 'StartIdx5Min': 1, 'EndIdx5Min': 2016}, 'Af1Y': {'DistStartToPredDT': 0.0001, 'DistEndToPredDT': 365, 'TimeUnit': 'D', 'StartIdx5Min': 1, 'EndIdx5Min': 105120}, 'PntAf1Y2M': {'DistStartToPredDT': 305, 'DistEndToPredDT': 425, 'TimeUnit': 'D', 'StartIdx5Min': 87840, 'EndIdx5Min': 122400}, 'PntAf1Y3M': {'DistStartToPredDT': 275, 'DistEndToPredDT': 455, 'TimeUnit': 'D', 'StartIdx5Min': 79200, 'EndIdx5Min': 131040}}, 'ObsDTName': 'ObsDT', 'PID_ObsDT_columns': ['PID', 'ObsDT']}\n"
     ]
    }
   ],
   "source": [
    "import os\n",
    "import sys \n",
    "import logging\n",
    "import pandas as pd \n",
    "from pprint import pprint \n",
    "\n",
    "# WorkSpace\n",
    "KEY = 'WorkSpace'; WORKSPACE_PATH = os.getcwd().split(KEY)[0] + KEY; print(WORKSPACE_PATH)\n",
    "os.chdir(WORKSPACE_PATH)\n",
    "sys.path.append(WORKSPACE_PATH)\n",
    "\n",
    "# Pipeline Space\n",
    "from proj_space import SPACE\n",
    "SPACE['WORKSPACE_PATH'] = WORKSPACE_PATH\n",
    "sys.path.append(SPACE['CODE_FN'])\n",
    "# pprint(SPACE)\n",
    "\n",
    "# Available Packages\n",
    "import pandas as pd\n",
    "from datetime import datetime \n",
    "\n",
    "logger = logging.getLogger(__name__)\n",
    "recfldtkn_config_path = os.path.join(SPACE['CODE_FN'], 'config_recfldtkn/')\n",
    "\n",
    "import datasets\n",
    "from recfldtkn.loadtools import load_ds_rec_and_info\n",
    "from recfldtkn.configfn import load_cohort_args, load_record_args\n",
    "from config_observer.CKPD import ckpd_to_CkpdObsConfig\n",
    "\n",
    "\n",
    "cohort_config = load_cohort_args(recfldtkn_config_path, SPACE)\n",
    "cohort_config['ckpd_to_CkpdObsConfig'] = ckpd_to_CkpdObsConfig\n",
    "cohort_config['ObsDTName'] = 'ObsDT'\n",
    "cohort_config['PID_ObsDT_columns'] = [cohort_config['RootID'], cohort_config['ObsDTName']]\n",
    "print(cohort_config)"
   ]
  },
  {
   "cell_type": "markdown",
   "id": "ce0561e9",
   "metadata": {},
   "source": [
    "# 1. DsCase"
   ]
  },
  {
   "cell_type": "code",
   "execution_count": 2,
   "id": "18088ce3",
   "metadata": {},
   "outputs": [],
   "source": [
    "# 0. ************ RFT config ************\n",
    "RecName_to_dsRec, RecName_to_dsRecInfo = {}, {}\n",
    "cohort_label_list = [1, 2, 3]\n",
    "\n",
    "# 1. ************ Case Trigger config ************\n",
    "TriggerCaseMethod = 'CGM5MinEntry'\n",
    "\n",
    "\n",
    "# 2. ************ InputCaseSetName ************\n",
    "# option 1\n",
    "# InputCaseSetName = 'C1.2.3-CGM5MinEntry'\n",
    "InputCaseSetName = 'sftcgmbf24haf2h-rs42-ds0.1-out0.1tstail0.1vd0.1'\n",
    "# InputCaseSetName = None "
   ]
  },
  {
   "cell_type": "code",
   "execution_count": 3,
   "id": "116d2ea5",
   "metadata": {},
   "outputs": [
    {
     "data": {
      "text/plain": [
       "['PID', 'ObsDT']"
      ]
     },
     "execution_count": 3,
     "metadata": {},
     "output_type": "execute_result"
    }
   ],
   "source": [
    "from recfldtkn.loadtools import fetch_trigger_tools\n",
    "\n",
    "Trigger_Tools = fetch_trigger_tools(TriggerCaseMethod, SPACE)\n",
    "case_id_columns = Trigger_Tools['case_id_columns']\n",
    "cohort_config['case_id_columns'] = case_id_columns\n",
    "case_id_columns"
   ]
  },
  {
   "cell_type": "code",
   "execution_count": 4,
   "id": "42e4fbe6",
   "metadata": {},
   "outputs": [
    {
     "name": "stderr",
     "output_type": "stream",
     "text": [
      "[INFO:2024-04-21 09:13:28,324:(269221877.py@11 __main__)]: InputCaseSetName: sftcgmbf24haf2h-rs42-ds0.1-out0.1tstail0.1vd0.1\n",
      "[INFO:2024-04-21 09:13:28,324:(269221877.py@12 __main__)]: df_case shape: (1685533, 8)\n"
     ]
    }
   ],
   "source": [
    "from recfldtkn.pipeline_case import get_ds_case_to_process\n",
    "\n",
    "InputCaseSetName, df_case = get_ds_case_to_process(InputCaseSetName, \n",
    "                                                   cohort_label_list, \n",
    "                                                   TriggerCaseMethod, \n",
    "                                                   cohort_config, \n",
    "                                                   SPACE, \n",
    "                                                   RecName_to_dsRec, \n",
    "                                                   RecName_to_dsRecInfo)\n",
    "\n",
    "logger.info(f'InputCaseSetName: {InputCaseSetName}')\n",
    "logger.info(f'df_case shape: {df_case.shape}')"
   ]
  },
  {
   "cell_type": "code",
   "execution_count": 5,
   "id": "f5ab0411",
   "metadata": {},
   "outputs": [
    {
     "data": {
      "text/plain": [
       "(1000, 8)"
      ]
     },
     "execution_count": 5,
     "metadata": {},
     "output_type": "execute_result"
    }
   ],
   "source": [
    "df_case = df_case.sample(1000)\n",
    "df_case.shape"
   ]
  },
  {
   "cell_type": "markdown",
   "id": "b34c6e88",
   "metadata": {},
   "source": [
    "# 2. Tagging"
   ]
  },
  {
   "cell_type": "code",
   "execution_count": 6,
   "id": "d529cc5d",
   "metadata": {},
   "outputs": [
    {
     "name": "stderr",
     "output_type": "stream",
     "text": [
      "[INFO:2024-04-21 09:13:29,395:(2735418505.py@28 __main__)]: df_case shape: (1000, 8)\n",
      "[INFO:2024-04-21 09:13:29,395:(pipeline_case.py@420 recfldtkn.pipeline_case)]: chunk_id_list: range(0, 1)\n",
      "[INFO:2024-04-21 09:13:29,650:(pipeline_case.py@308 recfldtkn.pipeline_case)]: ds_info is P: Dataset({\n",
      "    features: ['PID', 'PatientID', 'YearOfBirth', 'ActivationDate', 'MRSegmentModifiedDateTime', 'UserTimeZone', 'UserTimeZoneOffset', 'Gender', 'MRSegmentID', 'DiseaseType'],\n",
      "    num_rows: 11621\n",
      "})\n"
     ]
    },
    {
     "data": {
      "application/vnd.jupyter.widget-view+json": {
       "model_id": "c547416bec59400fb77147ed189d0cdd",
       "version_major": 2,
       "version_minor": 0
      },
      "text/plain": [
       "Map:   0%|          | 0/1000 [00:00<?, ? examples/s]"
      ]
     },
     "metadata": {},
     "output_type": "display_data"
    },
    {
     "data": {
      "application/vnd.jupyter.widget-view+json": {
       "model_id": "308d5faf12214b1097bec743f9ca360b",
       "version_major": 2,
       "version_minor": 0
      },
      "text/plain": [
       "Map:   0%|          | 0/1000 [00:00<?, ? examples/s]"
      ]
     },
     "metadata": {},
     "output_type": "display_data"
    },
    {
     "data": {
      "application/vnd.jupyter.widget-view+json": {
       "model_id": "b42b175f699448d3a9df07f7ad57f322",
       "version_major": 2,
       "version_minor": 0
      },
      "text/plain": [
       "Map:   0%|          | 0/1000 [00:00<?, ? examples/s]"
      ]
     },
     "metadata": {},
     "output_type": "display_data"
    },
    {
     "data": {
      "application/vnd.jupyter.widget-view+json": {
       "model_id": "c2a87473369d4cb998cf14fd4233da7b",
       "version_major": 2,
       "version_minor": 0
      },
      "text/plain": [
       "Map:   0%|          | 0/1000 [00:00<?, ? examples/s]"
      ]
     },
     "metadata": {},
     "output_type": "display_data"
    },
    {
     "name": "stderr",
     "output_type": "stream",
     "text": [
      "[INFO:2024-04-21 09:14:04,330:(loadtools.py@156 recfldtkn.loadtools)]: No such folder: ../_Data/1-Data_RFT\\3-RawData2023_CVSDeRxAug\\ImpMed_data ...\n",
      "[INFO:2024-04-21 09:14:04,916:(loadtools.py@156 recfldtkn.loadtools)]: No such folder: ../_Data/1-Data_RFT\\1-RawData2022_CGM\\LessonProg_data ...\n"
     ]
    },
    {
     "data": {
      "application/vnd.jupyter.widget-view+json": {
       "model_id": "d9c3b4bb2a19415baf72872dd1ff1d37",
       "version_major": 2,
       "version_minor": 0
      },
      "text/plain": [
       "Map:   0%|          | 0/1000 [00:00<?, ? examples/s]"
      ]
     },
     "metadata": {},
     "output_type": "display_data"
    },
    {
     "name": "stderr",
     "output_type": "stream",
     "text": [
      "[INFO:2024-04-21 09:14:12,280:(loadtools.py@156 recfldtkn.loadtools)]: No such folder: ../_Data/1-Data_RFT\\3-RawData2023_CVSDeRxAug\\ImpMed_data ...\n",
      "[INFO:2024-04-21 09:14:12,449:(loadtools.py@156 recfldtkn.loadtools)]: No such folder: ../_Data/1-Data_RFT\\1-RawData2022_CGM\\LessonProg_data ...\n"
     ]
    },
    {
     "data": {
      "application/vnd.jupyter.widget-view+json": {
       "model_id": "4ee3064f9fc948fea03e4fa84b9520fe",
       "version_major": 2,
       "version_minor": 0
      },
      "text/plain": [
       "Map:   0%|          | 0/1000 [00:00<?, ? examples/s]"
      ]
     },
     "metadata": {},
     "output_type": "display_data"
    },
    {
     "name": "stderr",
     "output_type": "stream",
     "text": [
      "[INFO:2024-04-21 09:14:17,808:(loadtools.py@156 recfldtkn.loadtools)]: No such folder: ../_Data/1-Data_RFT\\3-RawData2023_CVSDeRxAug\\ImpMed_data ...\n",
      "[INFO:2024-04-21 09:14:17,962:(loadtools.py@156 recfldtkn.loadtools)]: No such folder: ../_Data/1-Data_RFT\\1-RawData2022_CGM\\LessonProg_data ...\n"
     ]
    },
    {
     "data": {
      "application/vnd.jupyter.widget-view+json": {
       "model_id": "83a9dde881f94bdb91d8b7c57cd69bb7",
       "version_major": 2,
       "version_minor": 0
      },
      "text/plain": [
       "Map:   0%|          | 0/1000 [00:00<?, ? examples/s]"
      ]
     },
     "metadata": {},
     "output_type": "display_data"
    },
    {
     "name": "stderr",
     "output_type": "stream",
     "text": [
      "[INFO:2024-04-21 09:14:23,176:(loadtools.py@156 recfldtkn.loadtools)]: No such folder: ../_Data/1-Data_RFT\\3-RawData2023_CVSDeRxAug\\ImpMed_data ...\n",
      "[INFO:2024-04-21 09:14:23,395:(loadtools.py@156 recfldtkn.loadtools)]: No such folder: ../_Data/1-Data_RFT\\1-RawData2022_CGM\\LessonProg_data ...\n"
     ]
    },
    {
     "data": {
      "application/vnd.jupyter.widget-view+json": {
       "model_id": "a5b7401fcdbc4ec2acee9146d53898a1",
       "version_major": 2,
       "version_minor": 0
      },
      "text/plain": [
       "Map:   0%|          | 0/1000 [00:00<?, ? examples/s]"
      ]
     },
     "metadata": {},
     "output_type": "display_data"
    },
    {
     "name": "stderr",
     "output_type": "stream",
     "text": [
      "[INFO:2024-04-21 09:14:27,960:(pipeline_case.py@462 recfldtkn.pipeline_case)]: chunk_id: 0, df_case_chunk_tagged: (1000, 69)\n",
      "[INFO:2024-04-21 09:14:27,961:(2735418505.py@35 __main__)]: df_case shape: (1000, 69)\n"
     ]
    }
   ],
   "source": [
    "from recfldtkn.pipeline_case import process_df_tagging_tasks_in_chunks\n",
    "from config_observer.QCF import cf_to_QueryCaseFeatConfig\n",
    "\n",
    "\n",
    "CASE_TAGGING_PROC_CONFIG = {\n",
    "    'use_CF_from_disk': False,\n",
    "    'use_CO_from_disk': False,\n",
    "    'start_chunk_id': 0,\n",
    "    'end_chunk_id': None,\n",
    "    'chunk_size': 500000,\n",
    "    'save_to_pickle': False,\n",
    "    'num_processors': 1\n",
    "}\n",
    "\n",
    "######################################\n",
    "TagMethod_List = [\n",
    "                'PttBasicWD', \n",
    "                \n",
    "                'Bf24hCGMrn', 'Af2hCGMrn',\n",
    "                'Bf24hCGMmode', 'Af2hCGMmode', \n",
    "                \n",
    "                'Bf1mMEDALcf', 'Bf24hMEDALcf', \n",
    "                'Bf2hMEDALcf', 'Af2hMEDALcf',\n",
    "                ]\n",
    "######################################\n",
    "\n",
    "if len(TagMethod_List) > 0:\n",
    "    logger.info(f'df_case shape: {df_case.shape}')\n",
    "    OutputCaseSetName, df_case = process_df_tagging_tasks_in_chunks(df_case, cohort_label_list, case_id_columns, \n",
    "                                                                    InputCaseSetName, \n",
    "                                                                    TagMethod_List, cf_to_QueryCaseFeatConfig, \n",
    "                                                                    cohort_config, SPACE, \n",
    "                                                                    RecName_to_dsRec, RecName_to_dsRecInfo,\n",
    "                                                                    **CASE_TAGGING_PROC_CONFIG)\n",
    "    logger.info(f'df_case shape: {df_case.shape}')\n",
    "\n",
    "\n",
    "else:\n",
    "    pass\n",
    "\n"
   ]
  },
  {
   "cell_type": "markdown",
   "id": "ff7f9419",
   "metadata": {},
   "source": [
    "# Step 1: fPttBasicWD"
   ]
  },
  {
   "cell_type": "code",
   "execution_count": 7,
   "metadata": {},
   "outputs": [
    {
     "data": {
      "text/plain": [
       "Index(['PID', 'ObsDT', 'name', 'Train', 'Valid', 'Test', 'In', 'Out', 'Gender',\n",
       "       'YearOfBirth', 'DiseaseType', 'cohort', 'Age', 'Bf24hCGMrn:recnum',\n",
       "       'Af2hCGMrn:recnum', 'Bf24hCGMmode:ModePercent',\n",
       "       'Af2hCGMmode:ModePercent', 'Bf1mMedPres:recnum', 'Bf1mMedAdmin:recnum',\n",
       "       'Bf1mImpMed:recnum', 'Bf1mCmt:recnum', 'Bf1mLesson:recnum',\n",
       "       'Bf1mFood:recnum', 'Bf1mCarb:recnum', 'Bf1mExercise:recnum',\n",
       "       'Bf1mSleep:recnum', 'Bf1mStep:recnum', 'Bf1mBP:recnum',\n",
       "       'Bf1mWeigh:recnum', 'Bf1mLabTest:recnum', 'Bf24hMedPres:recnum',\n",
       "       'Bf24hMedAdmin:recnum', 'Bf24hImpMed:recnum', 'Bf24hCmt:recnum',\n",
       "       'Bf24hLesson:recnum', 'Bf24hFood:recnum', 'Bf24hCarb:recnum',\n",
       "       'Bf24hExercise:recnum', 'Bf24hSleep:recnum', 'Bf24hStep:recnum',\n",
       "       'Bf24hBP:recnum', 'Bf24hWeigh:recnum', 'Bf24hLabTest:recnum',\n",
       "       'Bf2hMedPres:recnum', 'Bf2hMedAdmin:recnum', 'Bf2hImpMed:recnum',\n",
       "       'Bf2hCmt:recnum', 'Bf2hLesson:recnum', 'Bf2hFood:recnum',\n",
       "       'Bf2hCarb:recnum', 'Bf2hExercise:recnum', 'Bf2hSleep:recnum',\n",
       "       'Bf2hStep:recnum', 'Bf2hBP:recnum', 'Bf2hWeigh:recnum',\n",
       "       'Bf2hLabTest:recnum', 'Af2hMedPres:recnum', 'Af2hMedAdmin:recnum',\n",
       "       'Af2hImpMed:recnum', 'Af2hCmt:recnum', 'Af2hLesson:recnum',\n",
       "       'Af2hFood:recnum', 'Af2hCarb:recnum', 'Af2hExercise:recnum',\n",
       "       'Af2hSleep:recnum', 'Af2hStep:recnum', 'Af2hBP:recnum',\n",
       "       'Af2hWeigh:recnum', 'Af2hLabTest:recnum'],\n",
       "      dtype='object')"
      ]
     },
     "execution_count": 7,
     "metadata": {},
     "output_type": "execute_result"
    }
   ],
   "source": [
    "df_case.columns"
   ]
  },
  {
   "cell_type": "code",
   "execution_count": 8,
   "metadata": {},
   "outputs": [
    {
     "data": {
      "text/plain": [
       "Gender\n",
       "2    549\n",
       "1    450\n",
       "3      1\n",
       "Name: count, dtype: int64"
      ]
     },
     "execution_count": 8,
     "metadata": {},
     "output_type": "execute_result"
    }
   ],
   "source": [
    "df_case['Gender'].value_counts()"
   ]
  },
  {
   "cell_type": "code",
   "execution_count": 9,
   "id": "3d9a9822",
   "metadata": {},
   "outputs": [
    {
     "name": "stdout",
     "output_type": "stream",
     "text": [
      "../pipeline\\fn_learning\\fPttBasicWD.py\n"
     ]
    }
   ],
   "source": [
    "##################################\n",
    "FilterMethod = 'fPttBasicWD'\n",
    "##################################\n",
    "import inspect\n",
    "\n",
    "def fn_case_filtering(df_case):\n",
    "    # df_case = df_case[df_case['patient_gender'] != 'U'].reset_index(drop = True)\n",
    "    df_case = df_case[df_case['Age'] >= 18].reset_index(drop = True)\n",
    "    return df_case\n",
    "\n",
    "fn_case_filtering.fn_string = inspect.getsource(fn_case_filtering)\n",
    "\n",
    "from recfldtkn.loadtools import convert_variables_to_pystirng\n",
    "\n",
    "prefix = ['import pandas as pd', 'import numpy as np']\n",
    "fn_variables = [fn_case_filtering]\n",
    "pycode = convert_variables_to_pystirng(fn_variables = fn_variables, prefix = prefix)\n",
    "pypath = os.path.join(SPACE['CODE_FN'], 'fn_learning', f'{FilterMethod}.py')\n",
    "print(pypath)\n",
    "if not os.path.exists(os.path.dirname(pypath)): os.makedirs(os.path.dirname(pypath))\n",
    "with open(pypath, 'w') as file: file.write(pycode)"
   ]
  },
  {
   "cell_type": "code",
   "execution_count": 10,
   "id": "8955b256",
   "metadata": {},
   "outputs": [],
   "source": [
    "# # Trigger2LearningCaseMethod\n",
    "# pypath = os.path.join(SPACE['CODE_FN'], 'fn_learning', f'{FilterMethod}.py')\n",
    "# module = load_module_variables(pypath)\n",
    "# fn_case_filtering = module.fn_case_filtering"
   ]
  },
  {
   "cell_type": "code",
   "execution_count": 11,
   "id": "fa130959",
   "metadata": {},
   "outputs": [
    {
     "name": "stdout",
     "output_type": "stream",
     "text": [
      "(1000, 69)\n",
      "(988, 69)\n"
     ]
    }
   ],
   "source": [
    "print(df_case.shape)\n",
    "df_case = fn_case_filtering(df_case)\n",
    "print(df_case.shape)"
   ]
  },
  {
   "cell_type": "markdown",
   "id": "236b1aac",
   "metadata": {},
   "source": [
    "# Step 2: fBf24h280CGM"
   ]
  },
  {
   "cell_type": "code",
   "execution_count": 12,
   "id": "da725eb3",
   "metadata": {},
   "outputs": [
    {
     "data": {
      "text/plain": [
       "Index(['PID', 'ObsDT', 'name', 'Train', 'Valid', 'Test', 'In', 'Out', 'Gender',\n",
       "       'YearOfBirth', 'DiseaseType', 'cohort', 'Age', 'Bf24hCGMrn:recnum',\n",
       "       'Af2hCGMrn:recnum', 'Bf24hCGMmode:ModePercent',\n",
       "       'Af2hCGMmode:ModePercent', 'Bf1mMedPres:recnum', 'Bf1mMedAdmin:recnum',\n",
       "       'Bf1mImpMed:recnum', 'Bf1mCmt:recnum', 'Bf1mLesson:recnum',\n",
       "       'Bf1mFood:recnum', 'Bf1mCarb:recnum', 'Bf1mExercise:recnum',\n",
       "       'Bf1mSleep:recnum', 'Bf1mStep:recnum', 'Bf1mBP:recnum',\n",
       "       'Bf1mWeigh:recnum', 'Bf1mLabTest:recnum', 'Bf24hMedPres:recnum',\n",
       "       'Bf24hMedAdmin:recnum', 'Bf24hImpMed:recnum', 'Bf24hCmt:recnum',\n",
       "       'Bf24hLesson:recnum', 'Bf24hFood:recnum', 'Bf24hCarb:recnum',\n",
       "       'Bf24hExercise:recnum', 'Bf24hSleep:recnum', 'Bf24hStep:recnum',\n",
       "       'Bf24hBP:recnum', 'Bf24hWeigh:recnum', 'Bf24hLabTest:recnum',\n",
       "       'Bf2hMedPres:recnum', 'Bf2hMedAdmin:recnum', 'Bf2hImpMed:recnum',\n",
       "       'Bf2hCmt:recnum', 'Bf2hLesson:recnum', 'Bf2hFood:recnum',\n",
       "       'Bf2hCarb:recnum', 'Bf2hExercise:recnum', 'Bf2hSleep:recnum',\n",
       "       'Bf2hStep:recnum', 'Bf2hBP:recnum', 'Bf2hWeigh:recnum',\n",
       "       'Bf2hLabTest:recnum', 'Af2hMedPres:recnum', 'Af2hMedAdmin:recnum',\n",
       "       'Af2hImpMed:recnum', 'Af2hCmt:recnum', 'Af2hLesson:recnum',\n",
       "       'Af2hFood:recnum', 'Af2hCarb:recnum', 'Af2hExercise:recnum',\n",
       "       'Af2hSleep:recnum', 'Af2hStep:recnum', 'Af2hBP:recnum',\n",
       "       'Af2hWeigh:recnum', 'Af2hLabTest:recnum'],\n",
       "      dtype='object')"
      ]
     },
     "execution_count": 12,
     "metadata": {},
     "output_type": "execute_result"
    }
   ],
   "source": [
    "df_case.columns"
   ]
  },
  {
   "cell_type": "code",
   "execution_count": 13,
   "id": "1871f17b",
   "metadata": {},
   "outputs": [
    {
     "data": {
      "text/plain": [
       "0      289.0\n",
       "1      289.0\n",
       "2      289.0\n",
       "3      289.0\n",
       "4      289.0\n",
       "       ...  \n",
       "983    289.0\n",
       "984    289.0\n",
       "985    289.0\n",
       "986    289.0\n",
       "987    289.0\n",
       "Name: Bf24hCGMrn:recnum, Length: 988, dtype: float64"
      ]
     },
     "execution_count": 13,
     "metadata": {},
     "output_type": "execute_result"
    }
   ],
   "source": [
    "df_case['Bf24hCGMrn:recnum']"
   ]
  },
  {
   "cell_type": "code",
   "execution_count": 14,
   "id": "0e569531",
   "metadata": {},
   "outputs": [
    {
     "data": {
      "text/plain": [
       "Bf24hCGMrn:recnum\n",
       "289.0    888\n",
       "284.0     11\n",
       "288.0     10\n",
       "277.0      9\n",
       "278.0      8\n",
       "283.0      8\n",
       "279.0      8\n",
       "285.0      8\n",
       "281.0      7\n",
       "282.0      7\n",
       "286.0      5\n",
       "280.0      5\n",
       "276.0      4\n",
       "287.0      4\n",
       "274.0      4\n",
       "275.0      2\n",
       "Name: count, dtype: int64"
      ]
     },
     "execution_count": 14,
     "metadata": {},
     "output_type": "execute_result"
    }
   ],
   "source": [
    "df_case['Bf24hCGMrn:recnum'].value_counts()"
   ]
  },
  {
   "cell_type": "code",
   "execution_count": 15,
   "id": "43472306",
   "metadata": {},
   "outputs": [
    {
     "name": "stdout",
     "output_type": "stream",
     "text": [
      "../pipeline\\fn_learning\\fBf24h280CGM.py\n"
     ]
    }
   ],
   "source": [
    "##################################\n",
    "FilterMethod = 'fBf24h280CGM'\n",
    "##################################\n",
    "import inspect\n",
    "\n",
    "def fn_case_filtering(df_case):\n",
    "    # df_case = df_case[df_case['patient_gender'] != 'U'].reset_index(drop = True)\n",
    "    MinRecNum = 280\n",
    "    \n",
    "    if 'Bf24hCGMrn:recnum' in df_case.columns:\n",
    "        df_case = df_case[df_case['Bf24hCGMrn:recnum'] >= MinRecNum].reset_index(drop = True)\n",
    "    elif 'Bf24hCGMinfo:recnum' in df_case.columns:\n",
    "        df_case = df_case[df_case['Bf24hCGMinfo:recnum'] >= MinRecNum].reset_index(drop = True)\n",
    "    else:\n",
    "        columns = list(df_case.columns)\n",
    "        raise ValueError(f'No recnum column found: {columns}')\n",
    "    return df_case\n",
    "\n",
    "fn_case_filtering.fn_string = inspect.getsource(fn_case_filtering)\n",
    "\n",
    "from recfldtkn.loadtools import convert_variables_to_pystirng\n",
    "\n",
    "prefix = ['import pandas as pd', 'import numpy as np']\n",
    "fn_variables = [fn_case_filtering]\n",
    "pycode = convert_variables_to_pystirng(fn_variables = fn_variables, prefix = prefix)\n",
    "pypath = os.path.join(SPACE['CODE_FN'], 'fn_learning', f'{FilterMethod}.py')\n",
    "print(pypath)\n",
    "if not os.path.exists(os.path.dirname(pypath)): os.makedirs(os.path.dirname(pypath))\n",
    "with open(pypath, 'w') as file: file.write(pycode)"
   ]
  },
  {
   "cell_type": "code",
   "execution_count": 16,
   "id": "f375b173",
   "metadata": {},
   "outputs": [
    {
     "name": "stdout",
     "output_type": "stream",
     "text": [
      "(988, 69)\n",
      "(953, 69)\n"
     ]
    }
   ],
   "source": [
    "print(df_case.shape)\n",
    "df_case = fn_case_filtering(df_case)\n",
    "print(df_case.shape)"
   ]
  },
  {
   "cell_type": "markdown",
   "id": "70930e49",
   "metadata": {},
   "source": [
    "# Step 2: fBf24h289CGM"
   ]
  },
  {
   "cell_type": "code",
   "execution_count": 17,
   "id": "c5c8ddab",
   "metadata": {},
   "outputs": [
    {
     "name": "stdout",
     "output_type": "stream",
     "text": [
      "../pipeline\\fn_learning\\fBf24h289CGM.py\n"
     ]
    }
   ],
   "source": [
    "##################################\n",
    "FilterMethod = 'fBf24h289CGM'\n",
    "##################################\n",
    "import inspect\n",
    "\n",
    "def fn_case_filtering(df_case):\n",
    "    # df_case = df_case[df_case['patient_gender'] != 'U'].reset_index(drop = True)\n",
    "    MinRecNum = 289\n",
    "    if 'Bf24hCGMrn:recnum' in df_case.columns:\n",
    "        df_case = df_case[df_case['Bf24hCGMrn:recnum'] >= MinRecNum].reset_index(drop = True)\n",
    "    elif 'Bf24hCGMinfo:recnum' in df_case.columns:\n",
    "        df_case = df_case[df_case['Bf24hCGMinfo:recnum'] >= MinRecNum].reset_index(drop = True)\n",
    "    else:\n",
    "        columns = list(df_case.columns)\n",
    "        raise ValueError(f'No recnum column found: {columns}')\n",
    "    return df_case\n",
    "\n",
    "fn_case_filtering.fn_string = inspect.getsource(fn_case_filtering)\n",
    "\n",
    "from recfldtkn.loadtools import convert_variables_to_pystirng\n",
    "\n",
    "prefix = ['import pandas as pd', 'import numpy as np']\n",
    "fn_variables = [fn_case_filtering]\n",
    "pycode = convert_variables_to_pystirng(fn_variables = fn_variables, prefix = prefix)\n",
    "pypath = os.path.join(SPACE['CODE_FN'], 'fn_learning', f'{FilterMethod}.py')\n",
    "print(pypath)\n",
    "if not os.path.exists(os.path.dirname(pypath)): os.makedirs(os.path.dirname(pypath))\n",
    "with open(pypath, 'w') as file: file.write(pycode)"
   ]
  },
  {
   "cell_type": "code",
   "execution_count": 18,
   "id": "66705827",
   "metadata": {},
   "outputs": [
    {
     "name": "stdout",
     "output_type": "stream",
     "text": [
      "(953, 69)\n",
      "(888, 69)\n"
     ]
    }
   ],
   "source": [
    "print(df_case.shape)\n",
    "df_case = fn_case_filtering(df_case)\n",
    "print(df_case.shape)"
   ]
  },
  {
   "cell_type": "markdown",
   "id": "409898d3",
   "metadata": {},
   "source": [
    "# Step 3: fAf2h24CGM"
   ]
  },
  {
   "cell_type": "code",
   "execution_count": 19,
   "id": "51c36221",
   "metadata": {},
   "outputs": [
    {
     "name": "stdout",
     "output_type": "stream",
     "text": [
      "../pipeline\\fn_learning\\fAf2h24CGM.py\n"
     ]
    }
   ],
   "source": [
    "##################################\n",
    "FilterMethod = 'fAf2h24CGM'\n",
    "##################################\n",
    "import inspect\n",
    "\n",
    "def fn_case_filtering(df_case):\n",
    "    \n",
    "    # df_case = df_case[df_case['patient_gender'] != 'U'].reset_index(drop = True)\n",
    "    MinRecNum = 24\n",
    "    if 'Af2hCGMrn:recnum' in df_case.columns:\n",
    "        df_case = df_case[df_case['Af2hCGMrn:recnum'] >= MinRecNum].reset_index(drop = True)\n",
    "    elif 'Af2hCGMinfo:recnum' in df_case.columns:\n",
    "        df_case = df_case[df_case['Af2hCGMinfo:recnum'] >= MinRecNum].reset_index(drop = True)\n",
    "    else:\n",
    "        columns = list(df_case.columns)\n",
    "        raise ValueError(f'No recnum column found: {columns}')\n",
    "    \n",
    "    return df_case\n",
    "\n",
    "fn_case_filtering.fn_string = inspect.getsource(fn_case_filtering)\n",
    "\n",
    "from recfldtkn.loadtools import convert_variables_to_pystirng\n",
    "\n",
    "prefix = ['import pandas as pd', 'import numpy as np']\n",
    "fn_variables = [fn_case_filtering]\n",
    "pycode = convert_variables_to_pystirng(fn_variables = fn_variables, prefix = prefix)\n",
    "pypath = os.path.join(SPACE['CODE_FN'], 'fn_learning', f'{FilterMethod}.py')\n",
    "print(pypath)\n",
    "if not os.path.exists(os.path.dirname(pypath)): os.makedirs(os.path.dirname(pypath))\n",
    "with open(pypath, 'w') as file: file.write(pycode)"
   ]
  },
  {
   "cell_type": "code",
   "execution_count": 20,
   "id": "a6166f4f",
   "metadata": {},
   "outputs": [
    {
     "name": "stdout",
     "output_type": "stream",
     "text": [
      "(888, 69)\n",
      "(888, 69)\n"
     ]
    }
   ],
   "source": [
    "print(df_case.shape)\n",
    "df_case = fn_case_filtering(df_case)\n",
    "print(df_case.shape)"
   ]
  },
  {
   "cell_type": "markdown",
   "id": "c27d4283",
   "metadata": {},
   "source": [
    "## Step 4: fBf24HModePctn40"
   ]
  },
  {
   "cell_type": "code",
   "execution_count": 21,
   "id": "8cc9ffbf",
   "metadata": {},
   "outputs": [
    {
     "name": "stdout",
     "output_type": "stream",
     "text": [
      "../pipeline\\fn_learning\\fBf24HModePctn40.py\n"
     ]
    }
   ],
   "source": [
    "##################################\n",
    "FilterMethod = 'fBf24HModePctn40'\n",
    "##################################\n",
    "import inspect\n",
    "\n",
    "def fn_case_filtering(df_case):\n",
    "   \n",
    "    MaxModePercent = 0.4\n",
    "    if 'Bf24hCGMinfo:ModePercent' in df_case.columns:\n",
    "        df_case = df_case[df_case['Bf24hCGMinfo:ModePercent'] <= MaxModePercent].reset_index(drop = True)\n",
    "    elif 'Bf24hCGMmode:ModePercent' in df_case.columns:\n",
    "        df_case = df_case[df_case['Bf24hCGMmode:ModePercent'] <= MaxModePercent].reset_index(drop = True)\n",
    "    else:\n",
    "        columns = list(df_case.columns)\n",
    "        raise ValueError(f'No recnum column found: {columns}')\n",
    "    \n",
    "    return df_case\n",
    "\n",
    "fn_case_filtering.fn_string = inspect.getsource(fn_case_filtering)\n",
    "\n",
    "from recfldtkn.loadtools import convert_variables_to_pystirng\n",
    "\n",
    "prefix = ['import pandas as pd', 'import numpy as np']\n",
    "fn_variables = [fn_case_filtering]\n",
    "pycode = convert_variables_to_pystirng(fn_variables = fn_variables, prefix = prefix)\n",
    "pypath = os.path.join(SPACE['CODE_FN'], 'fn_learning', f'{FilterMethod}.py')\n",
    "print(pypath)\n",
    "if not os.path.exists(os.path.dirname(pypath)): os.makedirs(os.path.dirname(pypath))\n",
    "with open(pypath, 'w') as file: file.write(pycode)"
   ]
  },
  {
   "cell_type": "code",
   "execution_count": 22,
   "id": "f02e267c",
   "metadata": {},
   "outputs": [
    {
     "name": "stdout",
     "output_type": "stream",
     "text": [
      "(888, 69)\n",
      "(887, 69)\n"
     ]
    }
   ],
   "source": [
    "print(df_case.shape)\n",
    "df_case = fn_case_filtering(df_case)\n",
    "print(df_case.shape)"
   ]
  },
  {
   "cell_type": "markdown",
   "id": "5c5bb1c0",
   "metadata": {},
   "source": [
    "## Step 5: fAf2HModePctn40"
   ]
  },
  {
   "cell_type": "code",
   "execution_count": 23,
   "id": "f65e7593",
   "metadata": {},
   "outputs": [
    {
     "name": "stdout",
     "output_type": "stream",
     "text": [
      "../pipeline\\fn_learning\\fAf2HModePctn40.py\n"
     ]
    }
   ],
   "source": [
    "##################################\n",
    "FilterMethod = 'fAf2HModePctn40'\n",
    "##################################\n",
    "import inspect\n",
    "\n",
    "def fn_case_filtering(df_case):\n",
    "    # df_case = df_case[df_case['patient_gender'] != 'U'].reset_index(drop = True)\n",
    "    # df_case = df_case[df_case['Af2hCGMmode:ModePercent'] <= 0.4].reset_index(drop = True)\n",
    "    \n",
    "    MaxModePercent = 0.4\n",
    "    if 'Af2hCGMmode:ModePercent' in df_case.columns:\n",
    "        df_case = df_case[df_case['Af2hCGMmode:ModePercent'] <= MaxModePercent].reset_index(drop = True)\n",
    "    elif 'Af2hCGMinfo:ModePercent' in df_case.columns:\n",
    "        df_case = df_case[df_case['Af2hCGMinfo:ModePercent'] <= MaxModePercent].reset_index(drop = True)\n",
    "    else:\n",
    "        columns = list(df_case.columns)\n",
    "        raise ValueError(f'No recnum column found: {columns}')\n",
    "    \n",
    "\n",
    "    return df_case\n",
    "\n",
    "fn_case_filtering.fn_string = inspect.getsource(fn_case_filtering)\n",
    "\n",
    "from recfldtkn.loadtools import convert_variables_to_pystirng\n",
    "\n",
    "prefix = ['import pandas as pd', 'import numpy as np']\n",
    "fn_variables = [fn_case_filtering]\n",
    "pycode = convert_variables_to_pystirng(fn_variables = fn_variables, prefix = prefix)\n",
    "pypath = os.path.join(SPACE['CODE_FN'], 'fn_learning', f'{FilterMethod}.py')\n",
    "print(pypath)\n",
    "if not os.path.exists(os.path.dirname(pypath)): os.makedirs(os.path.dirname(pypath))\n",
    "with open(pypath, 'w') as file: file.write(pycode)"
   ]
  },
  {
   "cell_type": "code",
   "execution_count": 24,
   "id": "5f3a4859",
   "metadata": {},
   "outputs": [
    {
     "name": "stdout",
     "output_type": "stream",
     "text": [
      "(887, 69)\n",
      "(879, 69)\n"
     ]
    }
   ],
   "source": [
    "print(df_case.shape)\n",
    "df_case = fn_case_filtering(df_case)\n",
    "print(df_case.shape)"
   ]
  },
  {
   "cell_type": "code",
   "execution_count": null,
   "id": "52c06650",
   "metadata": {},
   "outputs": [],
   "source": []
  },
  {
   "cell_type": "code",
   "execution_count": null,
   "id": "4493a40a",
   "metadata": {},
   "outputs": [],
   "source": []
  }
 ],
 "metadata": {
  "kernelspec": {
   "display_name": "Python 3 (ipykernel)",
   "language": "python",
   "name": "python3"
  },
  "language_info": {
   "codemirror_mode": {
    "name": "ipython",
    "version": 3
   },
   "file_extension": ".py",
   "mimetype": "text/x-python",
   "name": "python",
   "nbconvert_exporter": "python",
   "pygments_lexer": "ipython3",
   "version": "3.11.5"
  },
  "toc-autonumbering": true
 },
 "nbformat": 4,
 "nbformat_minor": 5
}
