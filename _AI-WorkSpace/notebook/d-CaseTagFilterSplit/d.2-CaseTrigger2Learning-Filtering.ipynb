{
 "cells": [
  {
   "cell_type": "markdown",
   "id": "881d73c8-f12f-4a9b-a485-996a76289767",
   "metadata": {},
   "source": [
    "\n",
    "# Space"
   ]
  },
  {
   "cell_type": "code",
   "execution_count": null,
   "id": "c8fa8c69",
   "metadata": {},
   "outputs": [],
   "source": [
    "import os\n",
    "import sys \n",
    "import logging\n",
    "import pandas as pd \n",
    "from pprint import pprint \n",
    "\n",
    "# WorkSpace\n",
    "KEY = 'WorkSpace'; WORKSPACE_PATH = os.getcwd().split(KEY)[0] + KEY; print(WORKSPACE_PATH)\n",
    "os.chdir(WORKSPACE_PATH)\n",
    "sys.path.append(WORKSPACE_PATH)\n",
    "\n",
    "# Pipeline Space\n",
    "from proj_space import SPACE\n",
    "SPACE['WORKSPACE_PATH'] = WORKSPACE_PATH\n",
    "sys.path.append(SPACE['CODE_FN'])\n",
    "# pprint(SPACE)\n",
    "\n",
    "# Available Packages\n",
    "import pandas as pd\n",
    "from datetime import datetime \n",
    "\n",
    "logger = logging.getLogger(__name__)\n",
    "recfldtkn_config_path = os.path.join(SPACE['CODE_FN'], 'config_recfldtkn/')\n",
    "\n",
    "import datasets\n",
    "from recfldtkn.loadtools import load_ds_rec_and_info\n",
    "from recfldtkn.configfn import load_cohort_args, load_record_args\n",
    "from config_observer.CKPD import ckpd_to_CkpdObsConfig\n",
    "\n",
    "\n",
    "cohort_config = load_cohort_args(recfldtkn_config_path, SPACE)\n",
    "cohort_config['ckpd_to_CkpdObsConfig'] = ckpd_to_CkpdObsConfig\n",
    "cohort_config['ObsDTName'] = 'ObsDT'\n",
    "cohort_config['PID_ObsDT_columns'] = [cohort_config['RootID'], cohort_config['ObsDTName']]\n",
    "print(cohort_config)"
   ]
  },
  {
   "cell_type": "markdown",
   "id": "233a145e",
   "metadata": {},
   "source": [
    "# 1. DsCase"
   ]
  },
  {
   "cell_type": "code",
   "execution_count": null,
   "id": "2bf2543e",
   "metadata": {},
   "outputs": [],
   "source": [
    "# 0. ************ RFT config ************\n",
    "RecName_to_dsRec, RecName_to_dsRecInfo = {}, {}\n",
    "cohort_label_list = [1]\n",
    "\n",
    "# 1. ************ Case Trigger config ************\n",
    "TriggerCaseMethod = 'TrulicityRx'\n",
    "\n",
    "\n",
    "# 2. ************ InputCaseSetName ************\n",
    "# option 1\n",
    "# InputCaseSetName = 'C1.2.3-CGM5MinEntry'\n",
    "# InputCaseSetName = 'sftcgmbf24haf2h-rs42-ds0.1-out0.1tstail0.1vd0.1'\n",
    "InputCaseSetName = None "
   ]
  },
  {
   "cell_type": "code",
   "execution_count": null,
   "id": "9350f264",
   "metadata": {},
   "outputs": [],
   "source": [
    "from recfldtkn.loadtools import fetch_trigger_tools\n",
    "\n",
    "Trigger_Tools = fetch_trigger_tools(TriggerCaseMethod, SPACE)\n",
    "case_id_columns = Trigger_Tools['case_id_columns']\n",
    "cohort_config['case_id_columns'] = case_id_columns\n",
    "case_id_columns"
   ]
  },
  {
   "cell_type": "code",
   "execution_count": null,
   "id": "4a9ef9ce",
   "metadata": {},
   "outputs": [],
   "source": [
    "from recfldtkn.pipeline_case import get_ds_case_to_process\n",
    "\n",
    "InputCaseSetName, df_case = get_ds_case_to_process(InputCaseSetName, \n",
    "                                                   cohort_label_list, \n",
    "                                                   TriggerCaseMethod, \n",
    "                                                   cohort_config, \n",
    "                                                   SPACE, \n",
    "                                                   RecName_to_dsRec, \n",
    "                                                   RecName_to_dsRecInfo)\n",
    "\n",
    "logger.info(f'InputCaseSetName: {InputCaseSetName}')\n",
    "logger.info(f'df_case shape: {df_case.shape}')"
   ]
  },
  {
   "cell_type": "code",
   "execution_count": null,
   "id": "52f663e9",
   "metadata": {},
   "outputs": [],
   "source": [
    "df_case = df_case.sample(1000)\n",
    "df_case.shape"
   ]
  },
  {
   "cell_type": "markdown",
   "id": "b34c6e88",
   "metadata": {},
   "source": [
    "# 2. Tagging"
   ]
  },
  {
   "cell_type": "code",
   "execution_count": null,
   "id": "59770bc4",
   "metadata": {},
   "outputs": [],
   "source": [
    "from recfldtkn.pipeline_case import process_df_tagging_tasks_in_chunks\n",
    "from config_observer.QCF import cf_to_QueryCaseFeatConfig\n",
    "\n",
    "\n",
    "CASE_TAGGING_PROC_CONFIG = {\n",
    "    'use_CF_from_disk': False,\n",
    "    'use_CO_from_disk': False,\n",
    "    'start_chunk_id': 0,\n",
    "    'end_chunk_id': None,\n",
    "    'chunk_size': 500000,\n",
    "    'save_to_pickle': False,\n",
    "    'num_processors': 1\n",
    "}\n",
    "\n",
    "######################################\n",
    "TagMethod_List = ['PttBasicDF', 'EgmBf1Y']\n",
    "######################################\n",
    "\n",
    "if len(TagMethod_List) > 0:\n",
    "    logger.info(f'df_case shape: {df_case.shape}')\n",
    "    OutputCaseSetName, df_case = process_df_tagging_tasks_in_chunks(df_case, cohort_label_list, case_id_columns, \n",
    "                                                                    InputCaseSetName, \n",
    "                                                                    TagMethod_List, cf_to_QueryCaseFeatConfig, \n",
    "                                                                    cohort_config, SPACE, \n",
    "                                                                    RecName_to_dsRec, RecName_to_dsRecInfo,\n",
    "                                                                    **CASE_TAGGING_PROC_CONFIG)\n",
    "    logger.info(f'df_case shape: {df_case.shape}')\n",
    "\n",
    "\n",
    "else:\n",
    "    pass\n",
    "\n"
   ]
  },
  {
   "cell_type": "code",
   "execution_count": null,
   "id": "a4468384",
   "metadata": {},
   "outputs": [],
   "source": [
    "df_case"
   ]
  },
  {
   "cell_type": "markdown",
   "id": "ff7f9419",
   "metadata": {},
   "source": [
    "# Step 1: fPttBasicDF"
   ]
  },
  {
   "cell_type": "code",
   "execution_count": null,
   "metadata": {},
   "outputs": [],
   "source": [
    "df_case.columns"
   ]
  },
  {
   "cell_type": "code",
   "execution_count": null,
   "id": "7f576ae1",
   "metadata": {},
   "outputs": [],
   "source": [
    "df_case['patient_gender'].value_counts()"
   ]
  },
  {
   "cell_type": "code",
   "execution_count": null,
   "metadata": {},
   "outputs": [],
   "source": [
    "df_case['patient_age_bucket'].value_counts()"
   ]
  },
  {
   "cell_type": "code",
   "execution_count": null,
   "id": "3d9a9822",
   "metadata": {},
   "outputs": [],
   "source": [
    "##################################\n",
    "FilterMethod = 'fPttBasicDF'\n",
    "##################################\n",
    "import inspect\n",
    "\n",
    "def fn_case_filtering(df_case):\n",
    "    df_case = df_case[df_case['patient_gender'] != 'U'].reset_index(drop = True)\n",
    "    return df_case\n",
    "\n",
    "fn_case_filtering.fn_string = inspect.getsource(fn_case_filtering)\n",
    "\n",
    "from recfldtkn.loadtools import convert_variables_to_pystirng\n",
    "\n",
    "prefix = ['import pandas as pd', 'import numpy as np']\n",
    "fn_variables = [fn_case_filtering]\n",
    "pycode = convert_variables_to_pystirng(fn_variables = fn_variables, prefix = prefix)\n",
    "pypath = os.path.join(SPACE['CODE_FN'], 'fn_learning', f'{FilterMethod}.py')\n",
    "print(pypath)\n",
    "if not os.path.exists(os.path.dirname(pypath)): os.makedirs(os.path.dirname(pypath))\n",
    "with open(pypath, 'w') as file: file.write(pycode)"
   ]
  },
  {
   "cell_type": "code",
   "execution_count": null,
   "id": "8955b256",
   "metadata": {},
   "outputs": [],
   "source": [
    "# # Trigger2LearningCaseMethod\n",
    "# pypath = os.path.join(SPACE['CODE_FN'], 'fn_learning', f'{FilterMethod}.py')\n",
    "# module = load_module_variables(pypath)\n",
    "# fn_case_filtering = module.fn_case_filtering"
   ]
  },
  {
   "cell_type": "code",
   "execution_count": null,
   "id": "fa130959",
   "metadata": {},
   "outputs": [],
   "source": [
    "print(df_case.shape)\n",
    "df_case = fn_case_filtering(df_case)\n",
    "print(df_case.shape)"
   ]
  },
  {
   "cell_type": "markdown",
   "metadata": {},
   "source": [
    "## Step 2: fTailObsDT"
   ]
  },
  {
   "cell_type": "code",
   "execution_count": null,
   "metadata": {},
   "outputs": [],
   "source": [
    "##################################\n",
    "FilterMethod = 'fTailObsDT'\n",
    "##################################\n",
    "import inspect\n",
    "\n",
    "def fn_case_filtering(df_case):\n",
    "    series_time = df_case['ObsDT']\n",
    "    stop_date = series_time.max() - pd.to_timedelta(10, unit='d')\n",
    "    df_case = df_case[df_case['ObsDT'] <= stop_date].reset_index(drop = True)\n",
    "    # df_case = df_case[df_case['patient_gender'] != 'U'].reset_index(drop = True)\n",
    "    return df_case\n",
    "\n",
    "fn_case_filtering.fn_string = inspect.getsource(fn_case_filtering)\n",
    "\n",
    "from recfldtkn.loadtools import convert_variables_to_pystirng\n",
    "\n",
    "prefix = ['import pandas as pd', 'import numpy as np']\n",
    "fn_variables = [fn_case_filtering]\n",
    "pycode = convert_variables_to_pystirng(fn_variables = fn_variables, prefix = prefix)\n",
    "pypath = os.path.join(SPACE['CODE_FN'], 'fn_learning', f'{FilterMethod}.py')\n",
    "print(pypath)\n",
    "if not os.path.exists(os.path.dirname(pypath)): os.makedirs(os.path.dirname(pypath))\n",
    "with open(pypath, 'w') as file: file.write(pycode)"
   ]
  },
  {
   "cell_type": "code",
   "execution_count": null,
   "metadata": {},
   "outputs": [],
   "source": [
    "print(df_case.shape)\n",
    "df_case = fn_case_filtering(df_case)\n",
    "print(df_case.shape)"
   ]
  },
  {
   "cell_type": "code",
   "execution_count": null,
   "id": "aa3f796a",
   "metadata": {},
   "outputs": [],
   "source": []
  },
  {
   "cell_type": "code",
   "execution_count": null,
   "id": "ad104369",
   "metadata": {},
   "outputs": [],
   "source": []
  }
 ],
 "metadata": {
  "kernelspec": {
   "display_name": "Python 3 (ipykernel)",
   "language": "python",
   "name": "python3"
  },
  "language_info": {
   "codemirror_mode": {
    "name": "ipython",
    "version": 3
   },
   "file_extension": ".py",
   "mimetype": "text/x-python",
   "name": "python",
   "nbconvert_exporter": "python",
   "pygments_lexer": "ipython3",
   "version": "3.11.7"
  },
  "toc-autonumbering": true
 },
 "nbformat": 4,
 "nbformat_minor": 5
}
