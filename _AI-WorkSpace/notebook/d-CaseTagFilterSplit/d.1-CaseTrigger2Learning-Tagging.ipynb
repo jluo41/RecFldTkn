{
 "cells": [
  {
   "cell_type": "markdown",
   "id": "881d73c8-f12f-4a9b-a485-996a76289767",
   "metadata": {},
   "source": [
    "\n",
    "# Space"
   ]
  },
  {
   "cell_type": "code",
   "execution_count": null,
   "id": "c8fa8c69",
   "metadata": {},
   "outputs": [],
   "source": [
    "import os\n",
    "import sys \n",
    "import logging\n",
    "import pandas as pd \n",
    "from pprint import pprint \n",
    "\n",
    "# WorkSpace\n",
    "KEY = 'WorkSpace'; WORKSPACE_PATH = os.getcwd().split(KEY)[0] + KEY; print(WORKSPACE_PATH)\n",
    "os.chdir(WORKSPACE_PATH)\n",
    "sys.path.append(WORKSPACE_PATH)\n",
    "\n",
    "# Pipeline Space\n",
    "from proj_space import SPACE\n",
    "SPACE['WORKSPACE_PATH'] = WORKSPACE_PATH\n",
    "sys.path.append(SPACE['CODE_FN'])\n",
    "# pprint(SPACE)\n",
    "\n",
    "# Available Packages\n",
    "import pandas as pd\n",
    "from datetime import datetime \n",
    "\n",
    "logger = logging.getLogger(__name__)\n",
    "recfldtkn_config_path = os.path.join(SPACE['CODE_FN'], 'config_recfldtkn/')\n",
    "\n",
    "import datasets\n",
    "from recfldtkn.loadtools import load_ds_rec_and_info\n",
    "from recfldtkn.configfn import load_cohort_args, load_record_args\n",
    "from config_observer.CKPD import ckpd_to_CkpdObsConfig\n",
    "\n",
    "\n",
    "cohort_config = load_cohort_args(recfldtkn_config_path, SPACE)\n",
    "cohort_config['ckpd_to_CkpdObsConfig'] = ckpd_to_CkpdObsConfig\n",
    "cohort_config['ObsDTName'] = 'ObsDT'\n",
    "cohort_config['PID_ObsDT_columns'] = [cohort_config['RootID'], cohort_config['ObsDTName']]\n",
    "print(cohort_config)"
   ]
  },
  {
   "cell_type": "markdown",
   "id": "b34c6e88",
   "metadata": {},
   "source": [
    "# 1. DsCase"
   ]
  },
  {
   "cell_type": "code",
   "execution_count": null,
   "id": "02df7657",
   "metadata": {},
   "outputs": [],
   "source": [
    "# 0. ************ RFT config ************\n",
    "RecName_to_dsRec, RecName_to_dsRecInfo = {}, {}\n",
    "cohort_label_list = [1]\n",
    "\n",
    "# 1. ************ Case Trigger config ************\n",
    "TriggerCaseMethod = 'TrulicityRx'\n",
    "\n",
    "\n",
    "# 2. ************ InputCaseSetName ************\n",
    "# option 1\n",
    "# InputCaseSetName = 'C1.2.3-CGM5MinEntry'\n",
    "# InputCaseSetName = 'sftcgmbf24haf2h-rs42-ds0.1-out0.1tstail0.1vd0.1'\n",
    "InputCaseSetName = None "
   ]
  },
  {
   "cell_type": "code",
   "execution_count": null,
   "id": "59770bc4",
   "metadata": {},
   "outputs": [],
   "source": [
    "from recfldtkn.loadtools import fetch_trigger_tools\n",
    "\n",
    "Trigger_Tools = fetch_trigger_tools(TriggerCaseMethod, SPACE)\n",
    "case_id_columns = Trigger_Tools['case_id_columns']\n",
    "cohort_config['case_id_columns'] = case_id_columns\n",
    "case_id_columns"
   ]
  },
  {
   "cell_type": "code",
   "execution_count": null,
   "id": "c409118e",
   "metadata": {},
   "outputs": [],
   "source": [
    "from recfldtkn.pipeline_case import get_ds_case_to_process\n",
    "\n",
    "\n",
    "InputCaseSetName, df_case = get_ds_case_to_process(InputCaseSetName, \n",
    "                                                   cohort_label_list, \n",
    "                                                   TriggerCaseMethod, \n",
    "                                                   cohort_config, \n",
    "                                                   SPACE, \n",
    "                                                   RecName_to_dsRec, \n",
    "                                                   RecName_to_dsRecInfo)\n",
    "\n",
    "logger.info(f'InputCaseSetName: {InputCaseSetName}')\n",
    "logger.info(f'df_case shape: {df_case.shape}')"
   ]
  },
  {
   "cell_type": "code",
   "execution_count": null,
   "id": "4ed7b8db",
   "metadata": {},
   "outputs": [],
   "source": [
    "df_case = df_case.sample(1000)\n",
    "df_case.shape"
   ]
  },
  {
   "cell_type": "markdown",
   "id": "d453c5d8",
   "metadata": {},
   "source": [
    "# Step 1. PttBasicDF"
   ]
  },
  {
   "cell_type": "code",
   "execution_count": null,
   "id": "f0f7ba2f",
   "metadata": {},
   "outputs": [],
   "source": [
    "InfoRecName = 'P'\n",
    "ds_info, _ = load_ds_rec_and_info(InfoRecName, cohort_config, cohort_label_list)\n",
    "ds_info.column_names"
   ]
  },
  {
   "cell_type": "code",
   "execution_count": null,
   "id": "abf05e2f",
   "metadata": {},
   "outputs": [],
   "source": [
    "##################################\n",
    "TagMethod = 'PttBasicDF'\n",
    "##################################\n",
    "\n",
    "import inspect\n",
    "\n",
    "InfoRecName = 'P'\n",
    "subgroup_columns = ['patient_gender', 'patient_age_bucket', 'patient_zipcode_3']\n",
    "\n",
    "def fn_case_tagging(df_case, ds_info, subgroup_columns, base_config):\n",
    "    RootID = base_config['RootID']\n",
    "    ds_info = ds_info.select_columns([RootID] + subgroup_columns)\n",
    "    df_info = ds_info.to_pandas()\n",
    "    df_info['cohort'] = df_info[RootID].apply(lambda x: 'C' + str(x)[:-base_config['RootIDLength']])\n",
    "    # df_info.head()\n",
    "    final_columns = [RootID] + subgroup_columns + ['cohort']\n",
    "    df_case = pd.merge(df_case, df_info[final_columns], how = 'left')\n",
    "    return df_case\n",
    "\n",
    "fn_case_tagging.fn_string = inspect.getsource(fn_case_tagging)"
   ]
  },
  {
   "cell_type": "code",
   "execution_count": null,
   "id": "44270d50",
   "metadata": {},
   "outputs": [],
   "source": [
    "from recfldtkn.loadtools import convert_variables_to_pystirng, load_module_variables\n",
    "\n",
    "prefix = ['import pandas as pd', 'import numpy as np']\n",
    "string_variables = [InfoRecName]\n",
    "iterative_variables = [subgroup_columns]\n",
    "fn_variables = [fn_case_tagging]\n",
    "pycode = convert_variables_to_pystirng(string_variables = string_variables, \n",
    "                                       iterative_variables = iterative_variables, \n",
    "                                       fn_variables = fn_variables, prefix = prefix)\n",
    "pypath = os.path.join(SPACE['CODE_FN'], 'fn_learning', f'{TagMethod}.py')\n",
    "print(pypath)\n",
    "if not os.path.exists(os.path.dirname(pypath)): os.makedirs(os.path.dirname(pypath))\n",
    "with open(pypath, 'w') as file: file.write(pycode)"
   ]
  },
  {
   "cell_type": "code",
   "execution_count": null,
   "id": "06aa76ac",
   "metadata": {},
   "outputs": [],
   "source": [
    "# Trigger2LearningCaseMethod\n",
    "pypath = os.path.join(SPACE['CODE_FN'], 'fn_learning', f'{TagMethod}.py')\n",
    "module = load_module_variables(pypath)\n",
    "fn_case_tagging = module.fn_case_tagging"
   ]
  },
  {
   "cell_type": "code",
   "execution_count": null,
   "id": "29e5b115",
   "metadata": {},
   "outputs": [],
   "source": [
    "ds_info, _ = load_ds_rec_and_info(InfoRecName, cohort_config, cohort_label_list)\n",
    "df_case = fn_case_tagging(df_case, ds_info, subgroup_columns, cohort_config)\n",
    "df_case"
   ]
  },
  {
   "cell_type": "code",
   "execution_count": null,
   "id": "3848278f",
   "metadata": {},
   "outputs": [],
   "source": [
    "series_time = df_case['ObsDT']\n",
    "print(series_time.min(), series_time.max())"
   ]
  },
  {
   "cell_type": "markdown",
   "id": "60d2f20a",
   "metadata": {},
   "source": [
    "# Step 2. CFQ_Config"
   ]
  },
  {
   "cell_type": "code",
   "execution_count": null,
   "metadata": {},
   "outputs": [],
   "source": [
    "# cf_to_QueryCaseFeatConfig = {\n",
    "#     'EgmBf1Y':  {\n",
    "#         'case_observations': [\n",
    "#             'BfPInvRN:ro.PInv-Bf1Y_ct.RecNum', # CO\n",
    "#             'BfRxRN:ro.Rx-Bf1Y_ct.RecNum',\n",
    "#             'BfEgmClickRN:ro.EgmClick-Bf1Y_ct.RecNum',\n",
    "#         ],\n",
    "#         'name_CaseGamma': 'CatUnseqTknsOneTS', # CF\n",
    "        \n",
    "        \n",
    "#         'tkn_name_list': [\n",
    "#             'BfPInvRN:recnum',\n",
    "#             'BfRxRN:recnum',\n",
    "#             'BfEgmClickRN:recnum',\n",
    "#             'BfPInvRN:recspan',\n",
    "#             'BfRxRN:recspan',\n",
    "#             'BfEgmClickRN:recspan',\n",
    "#         ],\n",
    "#     }\n",
    "# }\n",
    "\n",
    "\n",
    "from config_observer.QCF import cf_to_QueryCaseFeatConfig"
   ]
  },
  {
   "cell_type": "code",
   "execution_count": null,
   "id": "dedf4fdd",
   "metadata": {},
   "outputs": [],
   "source": [
    "[i for i in cf_to_QueryCaseFeatConfig]"
   ]
  },
  {
   "cell_type": "code",
   "execution_count": null,
   "id": "ed97d5d1",
   "metadata": {},
   "outputs": [],
   "source": [
    "CFQ_TaggingList = [ \n",
    "    'PttBasicDF', \n",
    "    'EgmBf1Y', \n",
    "    'RxEgmAf1W', \n",
    "    'InvEgmAf1W',\n",
    "]"
   ]
  },
  {
   "cell_type": "code",
   "execution_count": null,
   "id": "733e96ff",
   "metadata": {},
   "outputs": [],
   "source": [
    "from recfldtkn.pipeline_case import process_df_tagging_tasks_in_chunks\n",
    "\n",
    "CASE_TAGGING_PROC_CONFIG = {\n",
    "    'use_CF_from_disk': False,\n",
    "    'use_CO_from_disk': False,\n",
    "    'start_chunk_id': 0,\n",
    "    'end_chunk_id': None,\n",
    "    'chunk_size': 500000,\n",
    "    'save_to_pickle': False,\n",
    "    'num_processors': 1\n",
    "}\n",
    "\n",
    "TagMethod_List = CFQ_TaggingList\n",
    "OutputCaseSetName, df_case = process_df_tagging_tasks_in_chunks(df_case, cohort_label_list, case_id_columns, \n",
    "                                                                InputCaseSetName, \n",
    "                                                                TagMethod_List, cf_to_QueryCaseFeatConfig, \n",
    "                                                                cohort_config, SPACE, \n",
    "                                                                RecName_to_dsRec, RecName_to_dsRecInfo,\n",
    "                                                                **CASE_TAGGING_PROC_CONFIG)\n",
    "\n",
    "\n",
    "\n",
    "df_case"
   ]
  },
  {
   "cell_type": "code",
   "execution_count": null,
   "id": "4a812cc8",
   "metadata": {},
   "outputs": [],
   "source": []
  },
  {
   "cell_type": "code",
   "execution_count": null,
   "id": "f0271900",
   "metadata": {},
   "outputs": [],
   "source": []
  },
  {
   "cell_type": "code",
   "execution_count": null,
   "id": "973458db",
   "metadata": {},
   "outputs": [],
   "source": []
  }
 ],
 "metadata": {
  "kernelspec": {
   "display_name": "Python 3 (ipykernel)",
   "language": "python",
   "name": "python3"
  },
  "language_info": {
   "codemirror_mode": {
    "name": "ipython",
    "version": 3
   },
   "file_extension": ".py",
   "mimetype": "text/x-python",
   "name": "python",
   "nbconvert_exporter": "python",
   "pygments_lexer": "ipython3",
   "version": "3.11.7"
  },
  "toc-autonumbering": true
 },
 "nbformat": 4,
 "nbformat_minor": 5
}
