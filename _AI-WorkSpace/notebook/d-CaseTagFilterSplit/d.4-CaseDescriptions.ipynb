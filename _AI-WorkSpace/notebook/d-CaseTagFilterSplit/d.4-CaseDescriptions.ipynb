{
 "cells": [
  {
   "cell_type": "markdown",
   "id": "881d73c8-f12f-4a9b-a485-996a76289767",
   "metadata": {},
   "source": [
    "\n",
    "# Space"
   ]
  },
  {
   "cell_type": "code",
   "execution_count": null,
   "id": "c8fa8c69",
   "metadata": {},
   "outputs": [],
   "source": [
    "import os\n",
    "import sys \n",
    "import logging\n",
    "import pandas as pd \n",
    "from pprint import pprint \n",
    "\n",
    "# WorkSpace\n",
    "KEY = 'WorkSpace'; WORKSPACE_PATH = os.getcwd().split(KEY)[0] + KEY; print(WORKSPACE_PATH)\n",
    "os.chdir(WORKSPACE_PATH)\n",
    "sys.path.append(WORKSPACE_PATH)\n",
    "\n",
    "# Pipeline Space\n",
    "from proj_space import SPACE\n",
    "SPACE['WORKSPACE_PATH'] = WORKSPACE_PATH\n",
    "sys.path.append(SPACE['CODE_FN'])\n",
    "# pprint(SPACE)\n",
    "\n",
    "# Available Packages\n",
    "import pandas as pd\n",
    "from datetime import datetime \n",
    "\n",
    "logger = logging.getLogger(__name__)\n",
    "recfldtkn_config_path = os.path.join(SPACE['CODE_FN'], 'config_recfldtkn/')\n",
    "\n",
    "import datasets\n",
    "from recfldtkn.loadtools import load_ds_rec_and_info\n",
    "from recfldtkn.configfn import load_cohort_args, load_record_args\n",
    "from config_observer.CKPD import ckpd_to_CkpdObsConfig\n",
    "\n",
    "\n",
    "cohort_config = load_cohort_args(recfldtkn_config_path, SPACE)\n",
    "cohort_config['ckpd_to_CkpdObsConfig'] = ckpd_to_CkpdObsConfig\n",
    "cohort_config['ObsDTName'] = 'ObsDT'\n",
    "cohort_config['PID_ObsDT_columns'] = [cohort_config['RootID'], cohort_config['ObsDTName']]\n",
    "print(cohort_config)"
   ]
  },
  {
   "cell_type": "markdown",
   "metadata": {},
   "source": [
    "# 1. DsCase"
   ]
  },
  {
   "cell_type": "code",
   "execution_count": null,
   "id": "7be9342c",
   "metadata": {},
   "outputs": [],
   "source": [
    "# 0. ************ RFT config ************\n",
    "RecName_to_dsRec, RecName_to_dsRecInfo = {}, {}\n",
    "cohort_label_list = [1]\n",
    "\n",
    "# 1. ************ Case Trigger config ************\n",
    "TriggerCaseMethod = 'TrulicityRx'\n",
    "\n",
    "\n",
    "# 2. ************ InputCaseSetName ************\n",
    "# option 1\n",
    "# InputCaseSetName = 'C1.2.3-CGM5MinEntry'\n",
    "# InputCaseSetName = 'sftcgmbf24haf2h-rs42-ds0.1-out0.1tstail0.1vd0.1'\n",
    "InputCaseSetName = None "
   ]
  },
  {
   "cell_type": "code",
   "execution_count": null,
   "id": "e01f94e4",
   "metadata": {},
   "outputs": [],
   "source": [
    "from recfldtkn.loadtools import fetch_trigger_tools\n",
    "\n",
    "Trigger_Tools = fetch_trigger_tools(TriggerCaseMethod, SPACE)\n",
    "case_id_columns = Trigger_Tools['case_id_columns']\n",
    "cohort_config['case_id_columns'] = case_id_columns\n",
    "case_id_columns"
   ]
  },
  {
   "cell_type": "code",
   "execution_count": null,
   "id": "87e29257",
   "metadata": {},
   "outputs": [],
   "source": [
    "from recfldtkn.pipeline_case import get_ds_case_to_process\n",
    "\n",
    "InputCaseSetName, df_case = get_ds_case_to_process(InputCaseSetName, \n",
    "                                                   cohort_label_list, \n",
    "                                                   TriggerCaseMethod, \n",
    "                                                   cohort_config, \n",
    "                                                   SPACE, \n",
    "                                                   RecName_to_dsRec, \n",
    "                                                   RecName_to_dsRecInfo)\n",
    "\n",
    "logger.info(f'InputCaseSetName: {InputCaseSetName}')\n",
    "logger.info(f'df_case shape: {df_case.shape}')"
   ]
  },
  {
   "cell_type": "code",
   "execution_count": null,
   "id": "87b46573",
   "metadata": {},
   "outputs": [],
   "source": [
    "df_case\n"
   ]
  },
  {
   "cell_type": "code",
   "execution_count": null,
   "id": "79fc0cf7",
   "metadata": {},
   "outputs": [],
   "source": [
    "import pandas as pd \n",
    "CaseSetName = 'TrulicityRx_PDemo.Bf1YEgm_PttDF.NoTailObsDT_rs42-ds1-out0ts0.2vd0'\n",
    "\n",
    "path = os.path.join(SPACE['DATA_CaseSet'], CaseSetName + '.p')\n",
    "df_case = pd.read_pickle(path)\n",
    "df_case"
   ]
  },
  {
   "cell_type": "code",
   "execution_count": null,
   "id": "d82fb083",
   "metadata": {},
   "outputs": [],
   "source": [
    "# df_case['Age'].describe()"
   ]
  },
  {
   "cell_type": "code",
   "execution_count": null,
   "id": "17aa45cc",
   "metadata": {},
   "outputs": [],
   "source": [
    "# def create_age_group(age):\n",
    "#     if 18 <= age < 40:\n",
    "#         return '18-39'\n",
    "#     elif 40 <= age < 60:\n",
    "#         return '40-59'\n",
    "#     elif 60 <= age < 75:\n",
    "#         return '60-74'\n",
    "#     else:\n",
    "#         return '75+'"
   ]
  },
  {
   "cell_type": "code",
   "execution_count": null,
   "id": "eefa24ec",
   "metadata": {},
   "outputs": [],
   "source": [
    "# df_case['AgeGroup_neat'] = df_case['Age'].apply(create_age_group)\n",
    "# df_case['AgeGroup_neat'].value_counts().sort_index()"
   ]
  },
  {
   "cell_type": "code",
   "execution_count": null,
   "id": "6e71297a",
   "metadata": {},
   "outputs": [],
   "source": [
    "df_case.columns"
   ]
  },
  {
   "cell_type": "code",
   "execution_count": null,
   "id": "547e6fd0",
   "metadata": {},
   "outputs": [],
   "source": [
    "df_case['TotalEgmRecN'].describe()"
   ]
  },
  {
   "cell_type": "code",
   "execution_count": null,
   "id": "f26a0394",
   "metadata": {},
   "outputs": [],
   "source": [
    "# df_case['a1cV0'].value_counts()"
   ]
  },
  {
   "cell_type": "code",
   "execution_count": null,
   "id": "c0e792ae",
   "metadata": {},
   "outputs": [],
   "source": [
    "# df_case['a1cV0'].value_counts()"
   ]
  }
 ],
 "metadata": {
  "kernelspec": {
   "display_name": "Python 3 (ipykernel)",
   "language": "python",
   "name": "python3"
  },
  "language_info": {
   "codemirror_mode": {
    "name": "ipython",
    "version": 3
   },
   "file_extension": ".py",
   "mimetype": "text/x-python",
   "name": "python",
   "nbconvert_exporter": "python",
   "pygments_lexer": "ipython3",
   "version": "3.11.7"
  },
  "toc-autonumbering": true
 },
 "nbformat": 4,
 "nbformat_minor": 5
}
