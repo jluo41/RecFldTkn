{
 "cells": [
  {
   "cell_type": "markdown",
   "id": "881d73c8-f12f-4a9b-a485-996a76289767",
   "metadata": {},
   "source": [
    "# Space"
   ]
  },
  {
   "cell_type": "code",
   "execution_count": 1,
   "id": "d9b19d41",
   "metadata": {},
   "outputs": [
    {
     "name": "stdout",
     "output_type": "stream",
     "text": [
      "/Users/floydluo/Library/CloudStorage/OneDrive-DRFIRST.COM,INC/Documents - DrFirst-JHU Collaboration Center/DrFirst-Project/2024-DrFirst-v2-SPACE/_DrFirst-AI-EduRxPred-WorkSpace\n",
      "{'CODE_FN': '../pipeline',\n",
      " 'CODE_RFT': '../pipeline',\n",
      " 'DATA_CaseObs': '../_Data/2-Data_CaseObs',\n",
      " 'DATA_RAW': '../_Data/0-Data_Raw',\n",
      " 'DATA_RFT': '../_Data/1-Data_RFT',\n",
      " 'DATA_TASK': 'Data_EduRxPred',\n",
      " 'MODEL_TASK': 'Model_EduRxPred',\n",
      " 'WORKSPACE_PATH': '/Users/floydluo/Library/CloudStorage/OneDrive-DRFIRST.COM,INC/Documents '\n",
      "                   '- DrFirst-JHU Collaboration '\n",
      "                   'Center/DrFirst-Project/2024-DrFirst-v2-SPACE/_DrFirst-AI-EduRxPred-WorkSpace'}\n"
     ]
    }
   ],
   "source": [
    "import os\n",
    "import sys \n",
    "import logging\n",
    "import random\n",
    "import pandas as pd \n",
    "from pprint import pprint \n",
    "from IPython.display import display, HTML\n",
    "\n",
    "# WorkSpace\n",
    "KEY = 'WorkSpace'; WORKSPACE_PATH = os.getcwd().split(KEY)[0] + KEY; print(WORKSPACE_PATH)\n",
    "os.chdir(WORKSPACE_PATH)\n",
    "sys.path.append(WORKSPACE_PATH)\n",
    "\n",
    "# Pipeline Space\n",
    "from proj_space import SPACE\n",
    "SPACE['WORKSPACE_PATH'] = WORKSPACE_PATH\n",
    "sys.path.append(SPACE['CODE_FN'])\n",
    "pprint(SPACE)\n",
    "\n",
    "\n",
    "# Available Packages\n",
    "import argparse\n",
    "import datasets\n",
    "import pandas as pd\n",
    "from datetime import datetime \n",
    "\n",
    "from recfldtkn.ckpd_obs import Ckpd_ObservationS\n",
    "from recfldtkn.configfn import load_cohort_args\n",
    "from recfldtkn.loadtools import update_args_to_list\n",
    "\n",
    "logger = logging.getLogger(__name__)\n",
    "recfldtkn_config_path = os.path.join(SPACE['CODE_RFT'], 'config_recfldtkn/')"
   ]
  },
  {
   "cell_type": "markdown",
   "id": "a096c80b",
   "metadata": {},
   "source": [
    "# Args"
   ]
  },
  {
   "cell_type": "code",
   "execution_count": 2,
   "metadata": {},
   "outputs": [],
   "source": [
    "case_observations = [\n",
    "    'FutEduTknY:ro.EgmEdu-Af1W_ct.FutRxEduTkn',  \n",
    "    \n",
    "    'PDemo:ro.P-Demo_ct.InCaseTkn',\n",
    "    'PZip3Demo:ro.P-Zip3DemoNume_ct.InCaseTkn',\n",
    "    'PZip3Econ:ro.P-Zip3EconNume_ct.InCaseTkn',\n",
    "    'PZip3House:ro.P-Zip3HousingNume_ct.InCaseTkn',\n",
    "    'PZip3Social:ro.P-Zip3SocialNume_ct.InCaseTkn',\n",
    "    'RxInCase1:ro.Rx-InObs-CmpCate_ct.InCaseTkn',\n",
    "    'RxInCase2:ro.Rx-InObs-InsCate_ct.InCaseTkn',\n",
    "    'RxInCase3:ro.Rx-InObs-QuantN2C_ct.InCaseTkn',\n",
    "    'RxInCase4:ro.Rx-InObs-QuantNume_ct.InCaseTkn',\n",
    "    'RxInCase5:ro.Rx-InObs-ServiceCate_ct.InCaseTkn',\n",
    "    'RxInCase6:ro.Rx-InObs-SysCate_ct.InCaseTkn',\n",
    "    'RxInObsNum:ro.Rx-InObs_ct.RecNum',\n",
    "]\n",
    "case_taskop = 'EduRxMLPred'"
   ]
  },
  {
   "cell_type": "code",
   "execution_count": 3,
   "metadata": {},
   "outputs": [
    {
     "data": {
      "text/plain": [
       "'lKZ5K9opNW'"
      ]
     },
     "execution_count": 3,
     "metadata": {},
     "output_type": "execute_result"
    }
   ],
   "source": [
    "from recfldtkn.loadtools import consistent_short_hash\n",
    "CO_list_hash = consistent_short_hash(tuple(sorted(case_observations)))\n",
    "CO_list_hash "
   ]
  },
  {
   "cell_type": "code",
   "execution_count": 5,
   "metadata": {},
   "outputs": [
    {
     "name": "stdout",
     "output_type": "stream",
     "text": [
      "Model_EduRxPred/EduRxMLPred-CO_lKZ5K9opNW\n",
      "Model_EduRxPred/EduRxMLPred-CO_lKZ5K9opNW/AIDataset/TrulicityRx-rs42-ds1-out0ts2023.11.01vd0.1\n"
     ]
    }
   ],
   "source": [
    "CaseTaskOp = case_taskop\n",
    "\n",
    "AI_InputOutput_ModelFolder = os.path.join(SPACE['MODEL_TASK'], CaseTaskOp + f'-CO_{CO_list_hash}')\n",
    "print(AI_InputOutput_ModelFolder)\n",
    "\n",
    "#############################\n",
    "caseset_name = 'TrulicityRx'\n",
    "split_name = 'rs42-ds1-out0ts2023.11.01vd0.1'\n",
    "#############################\n",
    "\n",
    "dataset_name = os.path.join(AI_InputOutput_ModelFolder, 'AIDataset', caseset_name + '-' + split_name)\n",
    "print(dataset_name)"
   ]
  },
  {
   "cell_type": "markdown",
   "metadata": {},
   "source": [
    "## [Step] Training Set and Evaluation Set"
   ]
  },
  {
   "cell_type": "code",
   "execution_count": 6,
   "id": "756aff47",
   "metadata": {},
   "outputs": [],
   "source": [
    "train_set_selector = \"in_train\"\n",
    "# train_set_selector = \"split:in_train|subgroup:all|subgroupfilter:age_geq60\"\n",
    "\n",
    "eval_set_selectors = [\n",
    "    \"in_valid\",\n",
    "    \"in_test\",\n",
    "    # \"split:in_valid|subgroup:2|subgroupfilter:zip_from_poor_area\",\n",
    "    # \"split:in_test|subgroup:1|subgroupfilter:age_geq60\",\n",
    "]"
   ]
  },
  {
   "cell_type": "code",
   "execution_count": 7,
   "id": "5fb8bd13",
   "metadata": {},
   "outputs": [
    {
     "name": "stdout",
     "output_type": "stream",
     "text": [
      "Data_EduRxPred/CaseFolder/TrulicityRx\n",
      "['0_C1-gF-Ab50.p', '1_C1-gF-Bl50.p', '2_C1-gM-Ab50.p', '3_C1-gM-Bl50.p', '4_None.p']\n"
     ]
    },
    {
     "data": {
      "text/plain": [
       "{0: '0_C1-gF-Ab50',\n",
       " 1: '1_C1-gF-Bl50',\n",
       " 2: '2_C1-gM-Ab50',\n",
       " 3: '3_C1-gM-Bl50',\n",
       " 4: '4_None'}"
      ]
     },
     "execution_count": 7,
     "metadata": {},
     "output_type": "execute_result"
    }
   ],
   "source": [
    "\n",
    "CaseFolder = os.path.join(SPACE['DATA_TASK'], 'CaseFolder', caseset_name)\n",
    "print(CaseFolder)\n",
    "total_groupname_list = sorted([i for i in os.listdir(CaseFolder)])\n",
    "print(total_groupname_list)\n",
    "\n",
    "idx_to_groupname_all = dict(sorted({int(v.split('_')[0]): v.split('.')[0] for v in total_groupname_list}.items()))\n",
    "idx_to_groupname_all"
   ]
  },
  {
   "cell_type": "code",
   "execution_count": 8,
   "id": "1aeeedb7",
   "metadata": {},
   "outputs": [],
   "source": [
    "from datasets import concatenate_datasets\n",
    "\n",
    "def get_dataset_from_set_selector(set_selector, dataset_name, idx_to_groupname_all):\n",
    "    # for train_set \n",
    "    groupname_dict = idx_to_groupname_all.copy()\n",
    "\n",
    "    ds_subset_name = set_selector.split(':')[0]\n",
    "    # print(ds_subset_name)\n",
    "    ds_subset_name_list_all = ['in_train', 'in_valid', 'in_test', 'out_test', 'out_train', 'out_valid']\n",
    "    ds_subset_name_list = [i for i in ds_subset_name_list_all if ds_subset_name in i]\n",
    "\n",
    "    if ':' in set_selector:\n",
    "        groupname_types = set_selector.split(':')[-1].split('&')\n",
    "        # print(groupname_types)\n",
    "        for groupname_type in groupname_types:\n",
    "            # print(groupname_type)\n",
    "            groupname_dict = {k: v for k, v in groupname_dict.items() if groupname_type in v}\n",
    "\n",
    "    # print('the number of group:', len(groupname_dict))\n",
    "\n",
    "    L = []\n",
    "    for ds_subset_name in ds_subset_name_list:\n",
    "        for idx, groupname in groupname_dict.items():\n",
    "            if 'CaseFolder' not in dataset_name:\n",
    "                path = os.path.join(dataset_name + '-' + ds_subset_name, groupname)\n",
    "                # print(path)\n",
    "                if os.path.exists(path) == False: continue\n",
    "                ds = datasets.load_from_disk(path)\n",
    "                print(groupname, len(ds))\n",
    "            else:\n",
    "                path = os.path.join(dataset_name + '-' + ds_subset_name, groupname + '.p')\n",
    "                # print(path)\n",
    "                if os.path.exists(path) == False: continue\n",
    "                df = pd.read_pickle(path)\n",
    "                ds = datasets.Dataset.from_pandas(df)\n",
    "                print(groupname, len(ds))\n",
    "            # print([i for i in ds])\n",
    "            # ds = {k: v for k, v in ds.items() if ds_subset_name in k}\n",
    "            # if ds_subset_name not in ds: continue\n",
    "            # if len(ds) == 0: continue \n",
    "            # if len(ds) == 0:\n",
    "            #     ds_subset_name_dataset = [v for k, v in ds.items()][0]\n",
    "            # else:\n",
    "            #     ds_subset_name_dataset = concatenate_datasets([v for k, v in ds.items()])\n",
    "            # print(groupname, len(ds_subset_name_dataset))\n",
    "            L.append(ds)\n",
    "    if len(L) > 0:\n",
    "        ds = concatenate_datasets(L)\n",
    "    else:\n",
    "        ds = None \n",
    "    return ds"
   ]
  },
  {
   "cell_type": "code",
   "execution_count": 9,
   "id": "1ed52f25",
   "metadata": {},
   "outputs": [
    {
     "name": "stdout",
     "output_type": "stream",
     "text": [
      "in_train\n",
      "0_C1-gF-Ab50 34256\n",
      "1_C1-gF-Bl50 14960\n",
      "2_C1-gM-Ab50 27424\n",
      "3_C1-gM-Bl50 8813\n",
      "4_None 51\n"
     ]
    },
    {
     "data": {
      "text/plain": [
       "Dataset({\n",
       "    features: ['input_ids', 'input_wgts', 'labels', 'label_wgts'],\n",
       "    num_rows: 85504\n",
       "})"
      ]
     },
     "execution_count": 9,
     "metadata": {},
     "output_type": "execute_result"
    }
   ],
   "source": [
    "set_selector = train_set_selector\n",
    "\n",
    "set_selector = 'in_train'\n",
    "\n",
    "print(set_selector)\n",
    "ds = get_dataset_from_set_selector(set_selector, dataset_name, idx_to_groupname_all)\n",
    "ds"
   ]
  },
  {
   "cell_type": "code",
   "execution_count": 10,
   "id": "87055e4c",
   "metadata": {},
   "outputs": [
    {
     "name": "stdout",
     "output_type": "stream",
     "text": [
      "\n",
      "=================== in_train ======================\n",
      "0_C1-gF-Ab50 34256\n",
      "1_C1-gF-Bl50 14960\n",
      "2_C1-gM-Ab50 27424\n",
      "3_C1-gM-Bl50 8813\n",
      "4_None 51\n",
      "Dataset({\n",
      "    features: ['input_ids', 'input_wgts', 'labels', 'label_wgts'],\n",
      "    num_rows: 85504\n",
      "})\n",
      "\n",
      "=================== in_valid ======================\n",
      "0_C1-gF-Ab50 3704\n",
      "1_C1-gF-Bl50 1609\n",
      "2_C1-gM-Ab50 2913\n",
      "3_C1-gM-Bl50 1031\n",
      "4_None 4\n",
      "Dataset({\n",
      "    features: ['input_ids', 'input_wgts', 'labels', 'label_wgts'],\n",
      "    num_rows: 9261\n",
      "})\n",
      "\n",
      "=================== in_test ======================\n",
      "0_C1-gF-Ab50 2557\n",
      "1_C1-gF-Bl50 1107\n",
      "2_C1-gM-Ab50 1876\n",
      "3_C1-gM-Bl50 699\n",
      "4_None 2\n",
      "Dataset({\n",
      "    features: ['input_ids', 'input_wgts', 'labels', 'label_wgts'],\n",
      "    num_rows: 6241\n",
      "})\n"
     ]
    }
   ],
   "source": [
    "set_selector = train_set_selector\n",
    "for set_selector in ['in_train',  ]:\n",
    "    print(f'\\n=================== {set_selector} ======================')\n",
    "    train_raw_dataset = get_dataset_from_set_selector(set_selector, dataset_name, idx_to_groupname_all)\n",
    "    print(train_raw_dataset)\n",
    "\n",
    "evalname_to_set = {}\n",
    "for set_selector in eval_set_selectors:\n",
    "    print(f'\\n=================== {set_selector} ======================')\n",
    "    eval_raw_dataset = get_dataset_from_set_selector(set_selector, dataset_name, idx_to_groupname_all)\n",
    "    evalname_to_set[set_selector] = eval_raw_dataset\n",
    "    print(eval_raw_dataset)\n"
   ]
  },
  {
   "cell_type": "code",
   "execution_count": 11,
   "metadata": {},
   "outputs": [
    {
     "data": {
      "text/plain": [
       "Dataset({\n",
       "    features: ['input_ids', 'input_wgts', 'labels', 'label_wgts'],\n",
       "    num_rows: 85504\n",
       "})"
      ]
     },
     "execution_count": 11,
     "metadata": {},
     "output_type": "execute_result"
    }
   ],
   "source": [
    "train_raw_dataset"
   ]
  },
  {
   "cell_type": "code",
   "execution_count": 12,
   "metadata": {},
   "outputs": [
    {
     "data": {
      "text/plain": [
       "{'in_valid': Dataset({\n",
       "     features: ['input_ids', 'input_wgts', 'labels', 'label_wgts'],\n",
       "     num_rows: 9261\n",
       " }),\n",
       " 'in_test': Dataset({\n",
       "     features: ['input_ids', 'input_wgts', 'labels', 'label_wgts'],\n",
       "     num_rows: 6241\n",
       " })}"
      ]
     },
     "execution_count": 12,
     "metadata": {},
     "output_type": "execute_result"
    }
   ],
   "source": [
    "evalname_to_set"
   ]
  },
  {
   "cell_type": "markdown",
   "metadata": {},
   "source": [
    "# ML (baseline)"
   ]
  },
  {
   "cell_type": "markdown",
   "metadata": {},
   "source": [
    "## 1. Tokenizer"
   ]
  },
  {
   "cell_type": "code",
   "execution_count": 13,
   "metadata": {},
   "outputs": [
    {
     "data": {
      "text/plain": [
       "['labels', 'input_ids']"
      ]
     },
     "execution_count": 13,
     "metadata": {},
     "output_type": "execute_result"
    }
   ],
   "source": [
    "tokenizer_seq_list = [i.replace('.json', '') for i in os.listdir(AI_InputOutput_ModelFolder) if '.json' in i]\n",
    "tokenizer_seq_list"
   ]
  },
  {
   "cell_type": "code",
   "execution_count": 15,
   "metadata": {},
   "outputs": [
    {
     "name": "stdout",
     "output_type": "stream",
     "text": [
      "Model_EduRxPred/EduRxMLPred-CO_lKZ5K9opNW/labels.json\n",
      "Model_EduRxPred/EduRxMLPred-CO_lKZ5K9opNW/input_ids.json\n"
     ]
    },
    {
     "data": {
      "text/plain": [
       "{'labels': <tokenizers.Tokenizer at 0x7f9d9095a830>,\n",
       " 'input_ids': <tokenizers.Tokenizer at 0x7f9d9095a030>}"
      ]
     },
     "execution_count": 15,
     "metadata": {},
     "output_type": "execute_result"
    }
   ],
   "source": [
    "import tokenizers\n",
    "\n",
    "seq_to_tokenizer = {}\n",
    "for seq in tokenizer_seq_list:\n",
    "    # print(tokenizer_seq)\n",
    "    tokenizer_seq_path = os.path.join(AI_InputOutput_ModelFolder, seq + '.json')\n",
    "    print(tokenizer_seq_path)\n",
    "    tokenizer_seq = tokenizers.Tokenizer.from_file(tokenizer_seq_path)\n",
    "    seq_to_tokenizer[seq] = tokenizer_seq\n",
    "\n",
    "seq_to_tokenizer"
   ]
  },
  {
   "cell_type": "code",
   "execution_count": 16,
   "metadata": {},
   "outputs": [
    {
     "name": "stdout",
     "output_type": "stream",
     "text": [
      "labels\n",
      "7\n",
      "input_ids\n",
      "543\n"
     ]
    }
   ],
   "source": [
    "for seq, tokenizer_seq in seq_to_tokenizer.items():\n",
    "    print(seq)\n",
    "    print(tokenizer_seq.get_vocab_size())"
   ]
  },
  {
   "cell_type": "markdown",
   "metadata": {},
   "source": [
    "## 1. Starting from One DS"
   ]
  },
  {
   "cell_type": "code",
   "execution_count": 17,
   "metadata": {},
   "outputs": [
    {
     "data": {
      "text/plain": [
       "Dataset({\n",
       "    features: ['input_ids', 'input_wgts', 'labels', 'label_wgts'],\n",
       "    num_rows: 85504\n",
       "})"
      ]
     },
     "execution_count": 17,
     "metadata": {},
     "output_type": "execute_result"
    }
   ],
   "source": [
    "ds = train_raw_dataset\n",
    "ds"
   ]
  },
  {
   "cell_type": "markdown",
   "metadata": {},
   "source": [
    "## 2. X Feature for One DS"
   ]
  },
  {
   "cell_type": "code",
   "execution_count": 18,
   "metadata": {},
   "outputs": [
    {
     "name": "stdout",
     "output_type": "stream",
     "text": [
      "543\n"
     ]
    }
   ],
   "source": [
    "seq = 'input_ids'\n",
    "\n",
    "tokenizer_seq = seq_to_tokenizer[seq]\n",
    "tkn2tid = tokenizer_seq.get_vocab()\n",
    "tid2tkn = dict(sorted({v: k for k, v in tkn2tid.items()}.items()))\n",
    "num_features = len(tid2tkn)\n",
    "print(num_features)"
   ]
  },
  {
   "cell_type": "code",
   "execution_count": 19,
   "metadata": {},
   "outputs": [],
   "source": [
    "from scipy.sparse import csr_matrix\n",
    "from tqdm import tqdm\n",
    "\n",
    "# Function to create CSR matrix\n",
    "def create_csr_matrix(dataset, num_features):\n",
    "    row_indices = []\n",
    "    col_indices = []\n",
    "    data = []\n",
    "    \n",
    "    for i, example in enumerate(dataset):\n",
    "        input_ids = example['input_ids']\n",
    "        input_wgts = example['input_wgts']\n",
    "        row_indices.extend([i] * len(input_ids))\n",
    "        col_indices.extend(input_ids)\n",
    "        data.extend(input_wgts)\n",
    "\n",
    "    sparse_matrix_value = (data, (row_indices, col_indices))\n",
    "    shape = (len(dataset), num_features)\n",
    "    return csr_matrix(sparse_matrix_value, shape=shape)"
   ]
  },
  {
   "cell_type": "code",
   "execution_count": 20,
   "metadata": {},
   "outputs": [
    {
     "name": "stdout",
     "output_type": "stream",
     "text": [
      "(85504, 543)\n"
     ]
    }
   ],
   "source": [
    "X = create_csr_matrix(ds, num_features)\n",
    "print(X.shape)"
   ]
  },
  {
   "cell_type": "markdown",
   "metadata": {},
   "source": [
    "# 3. Y Label for one DS"
   ]
  },
  {
   "cell_type": "code",
   "execution_count": 21,
   "metadata": {},
   "outputs": [
    {
     "name": "stdout",
     "output_type": "stream",
     "text": [
      "7\n"
     ]
    },
    {
     "data": {
      "text/plain": [
       "{0: 'FutEduTknY:unk',\n",
       " 1: 'FutEduTknY:InvBtnEgm',\n",
       " 2: 'FutEduTknY:InvBtnEgmClicks',\n",
       " 3: 'FutEduTknY:InvMinsUntil1stEgm',\n",
       " 4: 'FutEduTknY:RxBtnEgm',\n",
       " 5: 'FutEduTknY:RxBtnEgmClicks',\n",
       " 6: 'FutEduTknY:RxMinsUntil1stEgm'}"
      ]
     },
     "execution_count": 21,
     "metadata": {},
     "output_type": "execute_result"
    }
   ],
   "source": [
    "seq = 'labels'\n",
    "\n",
    "tokenizer_seq = seq_to_tokenizer[seq]\n",
    "tkn2tid = tokenizer_seq.get_vocab()\n",
    "tid2tkn = dict(sorted({v: k for k, v in tkn2tid.items()}.items()))\n",
    "num_features = len(tid2tkn)\n",
    "print(num_features)\n",
    "tid2tkn"
   ]
  },
  {
   "cell_type": "code",
   "execution_count": 22,
   "metadata": {},
   "outputs": [
    {
     "data": {
      "text/plain": [
       "4"
      ]
     },
     "execution_count": 22,
     "metadata": {},
     "output_type": "execute_result"
    }
   ],
   "source": [
    "# Define the specific label ID you are interested in\n",
    "Y_label = 'FutEduTknY:RxBtnEgm' # 'FutEduTknY:InvBtnEgm'\n",
    "Y_id = tkn2tid[Y_label]\n",
    "Y_id"
   ]
  },
  {
   "cell_type": "code",
   "execution_count": 23,
   "metadata": {},
   "outputs": [],
   "source": [
    "def get_y_label(example, Y_id):\n",
    "    # Create a dictionary from 'labels' and 'label_wgts'\n",
    "    d = dict(zip(example['labels'], example['label_wgts']))\n",
    "    # Get the label weight for the specified Y_id\n",
    "    y_label = d.get(Y_id, None)  # Using .get for safe access\n",
    "    return {'y_label': y_label}\n"
   ]
  },
  {
   "cell_type": "code",
   "execution_count": 24,
   "metadata": {},
   "outputs": [
    {
     "data": {
      "application/vnd.jupyter.widget-view+json": {
       "model_id": "cf951da765d44df4b7f382f42b9ddd72",
       "version_major": 2,
       "version_minor": 0
      },
      "text/plain": [
       "Map:   0%|          | 0/85504 [00:00<?, ? examples/s]"
      ]
     },
     "metadata": {},
     "output_type": "display_data"
    },
    {
     "data": {
      "text/plain": [
       "85504"
      ]
     },
     "execution_count": 24,
     "metadata": {},
     "output_type": "execute_result"
    }
   ],
   "source": [
    "ds = ds.map(lambda example: get_y_label(example, Y_id), batched=False)\n",
    "Y = ds['y_label']\n",
    "len(Y)"
   ]
  },
  {
   "cell_type": "code",
   "execution_count": 25,
   "metadata": {},
   "outputs": [
    {
     "data": {
      "text/plain": [
       "0.026185909431137723"
      ]
     },
     "execution_count": 25,
     "metadata": {},
     "output_type": "execute_result"
    }
   ],
   "source": [
    "import numpy as np\n",
    "np.array(Y).mean()"
   ]
  },
  {
   "cell_type": "markdown",
   "metadata": {},
   "source": [
    "# Functions to get X and Y"
   ]
  },
  {
   "cell_type": "code",
   "execution_count": 26,
   "metadata": {},
   "outputs": [],
   "source": [
    "def get_X_Y_pair_from_dataset(ds, seq_to_tokenizer, Y_label):\n",
    "    seq = 'input_ids'\n",
    "    \n",
    "    tokenizer_seq = seq_to_tokenizer[seq]\n",
    "    tkn2tid = tokenizer_seq.get_vocab()\n",
    "    tid2tkn = dict(sorted({v: k for k, v in tkn2tid.items()}.items()))\n",
    "    num_features = len(tid2tkn)\n",
    "    # print(num_features) \n",
    "    X = create_csr_matrix(ds, num_features)\n",
    "\n",
    "    seq = 'labels'\n",
    "    tokenizer_seq = seq_to_tokenizer[seq]\n",
    "    tkn2tid = tokenizer_seq.get_vocab()\n",
    "    tid2tkn = dict(sorted({v: k for k, v in tkn2tid.items()}.items()))\n",
    "    Y_id = tkn2tid[Y_label]\n",
    "    ds = ds.map(lambda example: get_y_label(example, Y_id), batched=False)\n",
    "    Y = ds['y_label']\n",
    "    return X, Y"
   ]
  },
  {
   "cell_type": "code",
   "execution_count": 27,
   "metadata": {},
   "outputs": [
    {
     "data": {
      "application/vnd.jupyter.widget-view+json": {
       "model_id": "0bfbd3ca75ac45cdbad363b501bfe3a8",
       "version_major": 2,
       "version_minor": 0
      },
      "text/plain": [
       "Map:   0%|          | 0/85504 [00:00<?, ? examples/s]"
      ]
     },
     "metadata": {},
     "output_type": "display_data"
    }
   ],
   "source": [
    "Y_label = 'FutEduTknY:RxBtnEgm' # 'FutEduTknY:InvBtnEgm'\n",
    "\n",
    "X, Y = get_X_Y_pair_from_dataset(ds, seq_to_tokenizer, Y_label)"
   ]
  },
  {
   "cell_type": "code",
   "execution_count": 28,
   "metadata": {},
   "outputs": [],
   "source": [
    "import xgboost as xgb\n",
    "dXGBoost = xgb.DMatrix(X, label=Y)"
   ]
  },
  {
   "cell_type": "markdown",
   "metadata": {},
   "source": [
    "## Prepare X Y for all Sets"
   ]
  },
  {
   "cell_type": "code",
   "execution_count": 29,
   "metadata": {},
   "outputs": [],
   "source": [
    "import xgboost as xgb\n",
    "Y_label = 'FutEduTknY:RxBtnEgm' # 'FutEduTknY:InvBtnEgm'"
   ]
  },
  {
   "cell_type": "code",
   "execution_count": 30,
   "metadata": {},
   "outputs": [
    {
     "data": {
      "application/vnd.jupyter.widget-view+json": {
       "model_id": "afcb877b3b3148ae890a6441e1738277",
       "version_major": 2,
       "version_minor": 0
      },
      "text/plain": [
       "Map:   0%|          | 0/85504 [00:00<?, ? examples/s]"
      ]
     },
     "metadata": {},
     "output_type": "display_data"
    }
   ],
   "source": [
    "ds = train_raw_dataset\n",
    "X, Y = get_X_Y_pair_from_dataset(ds, seq_to_tokenizer, Y_label)\n",
    "dtrain = xgb.DMatrix(X, label=Y)"
   ]
  },
  {
   "cell_type": "code",
   "execution_count": 31,
   "metadata": {},
   "outputs": [
    {
     "data": {
      "text/plain": [
       "{'in_valid': Dataset({\n",
       "     features: ['input_ids', 'input_wgts', 'labels', 'label_wgts'],\n",
       "     num_rows: 9261\n",
       " }),\n",
       " 'in_test': Dataset({\n",
       "     features: ['input_ids', 'input_wgts', 'labels', 'label_wgts'],\n",
       "     num_rows: 6241\n",
       " })}"
      ]
     },
     "execution_count": 31,
     "metadata": {},
     "output_type": "execute_result"
    }
   ],
   "source": [
    "evalname_to_set"
   ]
  },
  {
   "cell_type": "code",
   "execution_count": 32,
   "metadata": {},
   "outputs": [
    {
     "data": {
      "application/vnd.jupyter.widget-view+json": {
       "model_id": "715dd4b587cb4b728fa663a7cfbdb2b5",
       "version_major": 2,
       "version_minor": 0
      },
      "text/plain": [
       "Map:   0%|          | 0/9261 [00:00<?, ? examples/s]"
      ]
     },
     "metadata": {},
     "output_type": "display_data"
    },
    {
     "data": {
      "application/vnd.jupyter.widget-view+json": {
       "model_id": "78f615e7854a4e1e999e5fa0093a56c0",
       "version_major": 2,
       "version_minor": 0
      },
      "text/plain": [
       "Map:   0%|          | 0/6241 [00:00<?, ? examples/s]"
      ]
     },
     "metadata": {},
     "output_type": "display_data"
    },
    {
     "data": {
      "text/plain": [
       "{'in_valid': <xgboost.core.DMatrix at 0x7f9d908c1490>,\n",
       " 'in_test': <xgboost.core.DMatrix at 0x7f9d90945070>}"
      ]
     },
     "execution_count": 32,
     "metadata": {},
     "output_type": "execute_result"
    }
   ],
   "source": [
    "eval_to_dXGBoost = {}\n",
    "for eval_name, ds in evalname_to_set.items():\n",
    "    X, Y = get_X_Y_pair_from_dataset(ds, seq_to_tokenizer, Y_label)\n",
    "    dXGboost = xgb.DMatrix(X, label=Y)\n",
    "    eval_to_dXGBoost[eval_name] = dXGboost\n",
    "\n",
    "eval_to_dXGBoost"
   ]
  },
  {
   "cell_type": "markdown",
   "metadata": {},
   "source": [
    "# Train Models"
   ]
  },
  {
   "cell_type": "code",
   "execution_count": 33,
   "metadata": {},
   "outputs": [
    {
     "name": "stdout",
     "output_type": "stream",
     "text": [
      "[0]\ttrain-logloss:0.60718\tin_valid-logloss:0.60710\tin_test-logloss:0.59844\n",
      "[1]\ttrain-logloss:0.53681\tin_valid-logloss:0.53667\tin_test-logloss:0.52088\n",
      "[2]\ttrain-logloss:0.47825\tin_valid-logloss:0.47805\tin_test-logloss:0.45619\n",
      "[3]\ttrain-logloss:0.42889\tin_valid-logloss:0.42867\tin_test-logloss:0.40151\n",
      "[4]\ttrain-logloss:0.38691\tin_valid-logloss:0.38663\tin_test-logloss:0.35480\n",
      "[5]\ttrain-logloss:0.35089\tin_valid-logloss:0.35055\tin_test-logloss:0.31458\n",
      "[6]\ttrain-logloss:0.31982\tin_valid-logloss:0.31944\tin_test-logloss:0.27968\n",
      "[7]\ttrain-logloss:0.29287\tin_valid-logloss:0.29246\tin_test-logloss:0.24925\n",
      "[8]\ttrain-logloss:0.26941\tin_valid-logloss:0.26896\tin_test-logloss:0.22259\n",
      "[9]\ttrain-logloss:0.24891\tin_valid-logloss:0.24848\tin_test-logloss:0.19913\n",
      "[10]\ttrain-logloss:0.23095\tin_valid-logloss:0.23049\tin_test-logloss:0.17842\n",
      "[11]\ttrain-logloss:0.21519\tin_valid-logloss:0.21467\tin_test-logloss:0.16009\n",
      "[12]\ttrain-logloss:0.20132\tin_valid-logloss:0.20079\tin_test-logloss:0.14382\n",
      "[13]\ttrain-logloss:0.18909\tin_valid-logloss:0.18852\tin_test-logloss:0.12935\n",
      "[14]\ttrain-logloss:0.17828\tin_valid-logloss:0.17771\tin_test-logloss:0.11645\n",
      "[15]\ttrain-logloss:0.16873\tin_valid-logloss:0.16817\tin_test-logloss:0.10495\n",
      "[16]\ttrain-logloss:0.16029\tin_valid-logloss:0.15970\tin_test-logloss:0.09465\n",
      "[17]\ttrain-logloss:0.15280\tin_valid-logloss:0.15222\tin_test-logloss:0.08545\n",
      "[18]\ttrain-logloss:0.14615\tin_valid-logloss:0.14559\tin_test-logloss:0.07722\n",
      "[19]\ttrain-logloss:0.14027\tin_valid-logloss:0.13970\tin_test-logloss:0.06982\n",
      "[20]\ttrain-logloss:0.13503\tin_valid-logloss:0.13453\tin_test-logloss:0.06317\n",
      "[21]\ttrain-logloss:0.13040\tin_valid-logloss:0.12993\tin_test-logloss:0.05720\n",
      "[22]\ttrain-logloss:0.12625\tin_valid-logloss:0.12581\tin_test-logloss:0.05183\n",
      "[23]\ttrain-logloss:0.12256\tin_valid-logloss:0.12216\tin_test-logloss:0.04701\n",
      "[24]\ttrain-logloss:0.11930\tin_valid-logloss:0.11894\tin_test-logloss:0.04267\n",
      "[25]\ttrain-logloss:0.11636\tin_valid-logloss:0.11606\tin_test-logloss:0.03875\n",
      "[26]\ttrain-logloss:0.11382\tin_valid-logloss:0.11349\tin_test-logloss:0.03523\n",
      "[27]\ttrain-logloss:0.11156\tin_valid-logloss:0.11122\tin_test-logloss:0.03205\n",
      "[28]\ttrain-logloss:0.10954\tin_valid-logloss:0.10919\tin_test-logloss:0.02918\n",
      "[29]\ttrain-logloss:0.10774\tin_valid-logloss:0.10741\tin_test-logloss:0.02660\n",
      "[30]\ttrain-logloss:0.10613\tin_valid-logloss:0.10581\tin_test-logloss:0.02428\n",
      "[31]\ttrain-logloss:0.10470\tin_valid-logloss:0.10437\tin_test-logloss:0.02216\n",
      "[32]\ttrain-logloss:0.10339\tin_valid-logloss:0.10311\tin_test-logloss:0.02026\n",
      "[33]\ttrain-logloss:0.10220\tin_valid-logloss:0.10200\tin_test-logloss:0.01855\n",
      "[34]\ttrain-logloss:0.10118\tin_valid-logloss:0.10098\tin_test-logloss:0.01700\n",
      "[35]\ttrain-logloss:0.10022\tin_valid-logloss:0.10006\tin_test-logloss:0.01561\n",
      "[36]\ttrain-logloss:0.09938\tin_valid-logloss:0.09923\tin_test-logloss:0.01434\n",
      "[37]\ttrain-logloss:0.09862\tin_valid-logloss:0.09850\tin_test-logloss:0.01320\n",
      "[38]\ttrain-logloss:0.09792\tin_valid-logloss:0.09785\tin_test-logloss:0.01216\n",
      "[39]\ttrain-logloss:0.09729\tin_valid-logloss:0.09726\tin_test-logloss:0.01122\n",
      "[40]\ttrain-logloss:0.09671\tin_valid-logloss:0.09676\tin_test-logloss:0.01039\n",
      "[41]\ttrain-logloss:0.09619\tin_valid-logloss:0.09633\tin_test-logloss:0.00963\n",
      "[42]\ttrain-logloss:0.09565\tin_valid-logloss:0.09591\tin_test-logloss:0.00894\n",
      "[43]\ttrain-logloss:0.09522\tin_valid-logloss:0.09553\tin_test-logloss:0.00832\n",
      "[44]\ttrain-logloss:0.09481\tin_valid-logloss:0.09521\tin_test-logloss:0.00775\n",
      "[45]\ttrain-logloss:0.09443\tin_valid-logloss:0.09490\tin_test-logloss:0.00723\n",
      "[46]\ttrain-logloss:0.09410\tin_valid-logloss:0.09463\tin_test-logloss:0.00677\n",
      "[47]\ttrain-logloss:0.09380\tin_valid-logloss:0.09439\tin_test-logloss:0.00635\n",
      "[48]\ttrain-logloss:0.09348\tin_valid-logloss:0.09416\tin_test-logloss:0.00597\n",
      "[49]\ttrain-logloss:0.09318\tin_valid-logloss:0.09401\tin_test-logloss:0.00563\n",
      "[50]\ttrain-logloss:0.09294\tin_valid-logloss:0.09386\tin_test-logloss:0.00531\n",
      "[51]\ttrain-logloss:0.09273\tin_valid-logloss:0.09369\tin_test-logloss:0.00503\n",
      "[52]\ttrain-logloss:0.09247\tin_valid-logloss:0.09350\tin_test-logloss:0.00478\n",
      "[53]\ttrain-logloss:0.09226\tin_valid-logloss:0.09334\tin_test-logloss:0.00455\n",
      "[54]\ttrain-logloss:0.09202\tin_valid-logloss:0.09320\tin_test-logloss:0.00434\n",
      "[55]\ttrain-logloss:0.09182\tin_valid-logloss:0.09315\tin_test-logloss:0.00416\n",
      "[56]\ttrain-logloss:0.09166\tin_valid-logloss:0.09307\tin_test-logloss:0.00398\n",
      "[57]\ttrain-logloss:0.09149\tin_valid-logloss:0.09299\tin_test-logloss:0.00384\n",
      "[58]\ttrain-logloss:0.09133\tin_valid-logloss:0.09286\tin_test-logloss:0.00371\n",
      "[59]\ttrain-logloss:0.09116\tin_valid-logloss:0.09286\tin_test-logloss:0.00359\n",
      "[60]\ttrain-logloss:0.09103\tin_valid-logloss:0.09278\tin_test-logloss:0.00347\n",
      "[61]\ttrain-logloss:0.09090\tin_valid-logloss:0.09273\tin_test-logloss:0.00337\n",
      "[62]\ttrain-logloss:0.09074\tin_valid-logloss:0.09264\tin_test-logloss:0.00328\n",
      "[63]\ttrain-logloss:0.09061\tin_valid-logloss:0.09258\tin_test-logloss:0.00320\n",
      "[64]\ttrain-logloss:0.09046\tin_valid-logloss:0.09257\tin_test-logloss:0.00313\n",
      "[65]\ttrain-logloss:0.09034\tin_valid-logloss:0.09254\tin_test-logloss:0.00305\n",
      "[66]\ttrain-logloss:0.09021\tin_valid-logloss:0.09250\tin_test-logloss:0.00298\n",
      "[67]\ttrain-logloss:0.09013\tin_valid-logloss:0.09247\tin_test-logloss:0.00293\n",
      "[68]\ttrain-logloss:0.09002\tin_valid-logloss:0.09245\tin_test-logloss:0.00288\n",
      "[69]\ttrain-logloss:0.08989\tin_valid-logloss:0.09238\tin_test-logloss:0.00283\n",
      "[70]\ttrain-logloss:0.08982\tin_valid-logloss:0.09236\tin_test-logloss:0.00279\n",
      "[71]\ttrain-logloss:0.08970\tin_valid-logloss:0.09235\tin_test-logloss:0.00275\n",
      "[72]\ttrain-logloss:0.08964\tin_valid-logloss:0.09232\tin_test-logloss:0.00271\n",
      "[73]\ttrain-logloss:0.08952\tin_valid-logloss:0.09226\tin_test-logloss:0.00268\n",
      "[74]\ttrain-logloss:0.08945\tin_valid-logloss:0.09218\tin_test-logloss:0.00265\n",
      "[75]\ttrain-logloss:0.08934\tin_valid-logloss:0.09216\tin_test-logloss:0.00262\n",
      "[76]\ttrain-logloss:0.08927\tin_valid-logloss:0.09214\tin_test-logloss:0.00260\n",
      "[77]\ttrain-logloss:0.08921\tin_valid-logloss:0.09212\tin_test-logloss:0.00256\n",
      "[78]\ttrain-logloss:0.08911\tin_valid-logloss:0.09211\tin_test-logloss:0.00254\n",
      "[79]\ttrain-logloss:0.08902\tin_valid-logloss:0.09215\tin_test-logloss:0.00252\n",
      "[80]\ttrain-logloss:0.08898\tin_valid-logloss:0.09214\tin_test-logloss:0.00250\n",
      "[81]\ttrain-logloss:0.08893\tin_valid-logloss:0.09215\tin_test-logloss:0.00249\n",
      "[82]\ttrain-logloss:0.08883\tin_valid-logloss:0.09217\tin_test-logloss:0.00248\n",
      "[83]\ttrain-logloss:0.08876\tin_valid-logloss:0.09221\tin_test-logloss:0.00247\n",
      "[84]\ttrain-logloss:0.08871\tin_valid-logloss:0.09222\tin_test-logloss:0.00246\n",
      "[85]\ttrain-logloss:0.08862\tin_valid-logloss:0.09225\tin_test-logloss:0.00245\n",
      "[86]\ttrain-logloss:0.08859\tin_valid-logloss:0.09223\tin_test-logloss:0.00244\n",
      "[87]\ttrain-logloss:0.08848\tin_valid-logloss:0.09221\tin_test-logloss:0.00244\n",
      "[88]\ttrain-logloss:0.08837\tin_valid-logloss:0.09225\tin_test-logloss:0.00244\n",
      "[89]\ttrain-logloss:0.08830\tin_valid-logloss:0.09224\tin_test-logloss:0.00244\n",
      "[90]\ttrain-logloss:0.08817\tin_valid-logloss:0.09223\tin_test-logloss:0.00245\n",
      "[91]\ttrain-logloss:0.08805\tin_valid-logloss:0.09220\tin_test-logloss:0.00243\n",
      "[92]\ttrain-logloss:0.08796\tin_valid-logloss:0.09215\tin_test-logloss:0.00241\n",
      "[93]\ttrain-logloss:0.08791\tin_valid-logloss:0.09216\tin_test-logloss:0.00241\n",
      "[94]\ttrain-logloss:0.08773\tin_valid-logloss:0.09208\tin_test-logloss:0.00241\n",
      "[95]\ttrain-logloss:0.08759\tin_valid-logloss:0.09202\tin_test-logloss:0.00241\n",
      "[96]\ttrain-logloss:0.08753\tin_valid-logloss:0.09203\tin_test-logloss:0.00241\n",
      "[97]\ttrain-logloss:0.08750\tin_valid-logloss:0.09201\tin_test-logloss:0.00240\n",
      "[98]\ttrain-logloss:0.08736\tin_valid-logloss:0.09204\tin_test-logloss:0.00240\n",
      "[99]\ttrain-logloss:0.08720\tin_valid-logloss:0.09206\tin_test-logloss:0.00240\n",
      "[100]\ttrain-logloss:0.08716\tin_valid-logloss:0.09207\tin_test-logloss:0.00239\n",
      "[101]\ttrain-logloss:0.08702\tin_valid-logloss:0.09208\tin_test-logloss:0.00239\n",
      "[102]\ttrain-logloss:0.08696\tin_valid-logloss:0.09205\tin_test-logloss:0.00239\n",
      "[103]\ttrain-logloss:0.08691\tin_valid-logloss:0.09202\tin_test-logloss:0.00238\n",
      "[104]\ttrain-logloss:0.08685\tin_valid-logloss:0.09204\tin_test-logloss:0.00238\n",
      "[105]\ttrain-logloss:0.08678\tin_valid-logloss:0.09205\tin_test-logloss:0.00239\n",
      "[106]\ttrain-logloss:0.08662\tin_valid-logloss:0.09207\tin_test-logloss:0.00239\n",
      "[107]\ttrain-logloss:0.08645\tin_valid-logloss:0.09209\tin_test-logloss:0.00239\n",
      "[108]\ttrain-logloss:0.08624\tin_valid-logloss:0.09206\tin_test-logloss:0.00240\n",
      "[109]\ttrain-logloss:0.08620\tin_valid-logloss:0.09208\tin_test-logloss:0.00240\n",
      "[110]\ttrain-logloss:0.08617\tin_valid-logloss:0.09209\tin_test-logloss:0.00239\n",
      "[111]\ttrain-logloss:0.08607\tin_valid-logloss:0.09215\tin_test-logloss:0.00241\n",
      "[112]\ttrain-logloss:0.08600\tin_valid-logloss:0.09221\tin_test-logloss:0.00242\n",
      "[113]\ttrain-logloss:0.08588\tin_valid-logloss:0.09223\tin_test-logloss:0.00243\n",
      "[114]\ttrain-logloss:0.08578\tin_valid-logloss:0.09219\tin_test-logloss:0.00243\n",
      "[115]\ttrain-logloss:0.08571\tin_valid-logloss:0.09218\tin_test-logloss:0.00243\n",
      "[116]\ttrain-logloss:0.08568\tin_valid-logloss:0.09214\tin_test-logloss:0.00243\n",
      "[117]\ttrain-logloss:0.08562\tin_valid-logloss:0.09215\tin_test-logloss:0.00243\n",
      "[118]\ttrain-logloss:0.08546\tin_valid-logloss:0.09215\tin_test-logloss:0.00242\n",
      "[119]\ttrain-logloss:0.08543\tin_valid-logloss:0.09218\tin_test-logloss:0.00242\n",
      "[120]\ttrain-logloss:0.08540\tin_valid-logloss:0.09218\tin_test-logloss:0.00242\n",
      "[121]\ttrain-logloss:0.08536\tin_valid-logloss:0.09216\tin_test-logloss:0.00243\n",
      "[122]\ttrain-logloss:0.08534\tin_valid-logloss:0.09215\tin_test-logloss:0.00243\n",
      "[123]\ttrain-logloss:0.08532\tin_valid-logloss:0.09215\tin_test-logloss:0.00242\n",
      "[124]\ttrain-logloss:0.08525\tin_valid-logloss:0.09218\tin_test-logloss:0.00242\n",
      "[125]\ttrain-logloss:0.08520\tin_valid-logloss:0.09216\tin_test-logloss:0.00242\n",
      "[126]\ttrain-logloss:0.08509\tin_valid-logloss:0.09220\tin_test-logloss:0.00242\n",
      "[127]\ttrain-logloss:0.08499\tin_valid-logloss:0.09220\tin_test-logloss:0.00243\n",
      "[128]\ttrain-logloss:0.08490\tin_valid-logloss:0.09222\tin_test-logloss:0.00242\n",
      "[129]\ttrain-logloss:0.08477\tin_valid-logloss:0.09229\tin_test-logloss:0.00242\n",
      "[130]\ttrain-logloss:0.08476\tin_valid-logloss:0.09228\tin_test-logloss:0.00242\n",
      "[131]\ttrain-logloss:0.08472\tin_valid-logloss:0.09230\tin_test-logloss:0.00242\n",
      "[132]\ttrain-logloss:0.08462\tin_valid-logloss:0.09228\tin_test-logloss:0.00241\n",
      "[133]\ttrain-logloss:0.08460\tin_valid-logloss:0.09231\tin_test-logloss:0.00241\n",
      "[134]\ttrain-logloss:0.08449\tin_valid-logloss:0.09234\tin_test-logloss:0.00242\n",
      "[135]\ttrain-logloss:0.08443\tin_valid-logloss:0.09238\tin_test-logloss:0.00242\n",
      "[136]\ttrain-logloss:0.08439\tin_valid-logloss:0.09239\tin_test-logloss:0.00242\n",
      "[137]\ttrain-logloss:0.08431\tin_valid-logloss:0.09247\tin_test-logloss:0.00243\n",
      "[138]\ttrain-logloss:0.08426\tin_valid-logloss:0.09249\tin_test-logloss:0.00243\n",
      "[139]\ttrain-logloss:0.08420\tin_valid-logloss:0.09253\tin_test-logloss:0.00243\n",
      "[140]\ttrain-logloss:0.08417\tin_valid-logloss:0.09251\tin_test-logloss:0.00243\n",
      "[141]\ttrain-logloss:0.08414\tin_valid-logloss:0.09253\tin_test-logloss:0.00243\n",
      "[142]\ttrain-logloss:0.08411\tin_valid-logloss:0.09253\tin_test-logloss:0.00243\n",
      "[143]\ttrain-logloss:0.08400\tin_valid-logloss:0.09254\tin_test-logloss:0.00243\n",
      "[144]\ttrain-logloss:0.08389\tin_valid-logloss:0.09257\tin_test-logloss:0.00243\n",
      "[145]\ttrain-logloss:0.08382\tin_valid-logloss:0.09253\tin_test-logloss:0.00242\n",
      "[146]\ttrain-logloss:0.08373\tin_valid-logloss:0.09254\tin_test-logloss:0.00242\n",
      "[147]\ttrain-logloss:0.08371\tin_valid-logloss:0.09256\tin_test-logloss:0.00242\n",
      "[148]\ttrain-logloss:0.08369\tin_valid-logloss:0.09257\tin_test-logloss:0.00243\n",
      "[149]\ttrain-logloss:0.08366\tin_valid-logloss:0.09256\tin_test-logloss:0.00242\n",
      "[150]\ttrain-logloss:0.08355\tin_valid-logloss:0.09259\tin_test-logloss:0.00244\n",
      "[151]\ttrain-logloss:0.08352\tin_valid-logloss:0.09259\tin_test-logloss:0.00244\n",
      "[152]\ttrain-logloss:0.08347\tin_valid-logloss:0.09264\tin_test-logloss:0.00244\n",
      "[153]\ttrain-logloss:0.08339\tin_valid-logloss:0.09263\tin_test-logloss:0.00244\n",
      "[154]\ttrain-logloss:0.08334\tin_valid-logloss:0.09264\tin_test-logloss:0.00244\n",
      "[155]\ttrain-logloss:0.08331\tin_valid-logloss:0.09268\tin_test-logloss:0.00244\n",
      "[156]\ttrain-logloss:0.08324\tin_valid-logloss:0.09268\tin_test-logloss:0.00243\n",
      "[157]\ttrain-logloss:0.08320\tin_valid-logloss:0.09272\tin_test-logloss:0.00243\n",
      "[158]\ttrain-logloss:0.08317\tin_valid-logloss:0.09273\tin_test-logloss:0.00243\n",
      "[159]\ttrain-logloss:0.08308\tin_valid-logloss:0.09269\tin_test-logloss:0.00241\n",
      "[160]\ttrain-logloss:0.08299\tin_valid-logloss:0.09276\tin_test-logloss:0.00241\n",
      "[161]\ttrain-logloss:0.08297\tin_valid-logloss:0.09276\tin_test-logloss:0.00241\n",
      "[162]\ttrain-logloss:0.08288\tin_valid-logloss:0.09277\tin_test-logloss:0.00242\n",
      "[163]\ttrain-logloss:0.08278\tin_valid-logloss:0.09275\tin_test-logloss:0.00242\n",
      "[164]\ttrain-logloss:0.08271\tin_valid-logloss:0.09278\tin_test-logloss:0.00243\n",
      "[165]\ttrain-logloss:0.08265\tin_valid-logloss:0.09275\tin_test-logloss:0.00243\n",
      "[166]\ttrain-logloss:0.08261\tin_valid-logloss:0.09279\tin_test-logloss:0.00243\n",
      "[167]\ttrain-logloss:0.08261\tin_valid-logloss:0.09279\tin_test-logloss:0.00243\n",
      "[168]\ttrain-logloss:0.08254\tin_valid-logloss:0.09281\tin_test-logloss:0.00243\n",
      "[169]\ttrain-logloss:0.08248\tin_valid-logloss:0.09284\tin_test-logloss:0.00243\n",
      "[170]\ttrain-logloss:0.08246\tin_valid-logloss:0.09283\tin_test-logloss:0.00243\n",
      "[171]\ttrain-logloss:0.08244\tin_valid-logloss:0.09284\tin_test-logloss:0.00243\n",
      "[172]\ttrain-logloss:0.08243\tin_valid-logloss:0.09284\tin_test-logloss:0.00243\n",
      "[173]\ttrain-logloss:0.08240\tin_valid-logloss:0.09285\tin_test-logloss:0.00243\n",
      "[174]\ttrain-logloss:0.08235\tin_valid-logloss:0.09286\tin_test-logloss:0.00243\n",
      "[175]\ttrain-logloss:0.08229\tin_valid-logloss:0.09287\tin_test-logloss:0.00244\n",
      "[176]\ttrain-logloss:0.08219\tin_valid-logloss:0.09289\tin_test-logloss:0.00244\n",
      "[177]\ttrain-logloss:0.08218\tin_valid-logloss:0.09289\tin_test-logloss:0.00244\n",
      "[178]\ttrain-logloss:0.08214\tin_valid-logloss:0.09293\tin_test-logloss:0.00243\n",
      "[179]\ttrain-logloss:0.08207\tin_valid-logloss:0.09297\tin_test-logloss:0.00242\n",
      "[180]\ttrain-logloss:0.08206\tin_valid-logloss:0.09297\tin_test-logloss:0.00243\n",
      "[181]\ttrain-logloss:0.08201\tin_valid-logloss:0.09300\tin_test-logloss:0.00243\n",
      "[182]\ttrain-logloss:0.08200\tin_valid-logloss:0.09300\tin_test-logloss:0.00243\n",
      "[183]\ttrain-logloss:0.08196\tin_valid-logloss:0.09301\tin_test-logloss:0.00243\n",
      "[184]\ttrain-logloss:0.08188\tin_valid-logloss:0.09304\tin_test-logloss:0.00243\n",
      "[185]\ttrain-logloss:0.08184\tin_valid-logloss:0.09306\tin_test-logloss:0.00243\n",
      "[186]\ttrain-logloss:0.08182\tin_valid-logloss:0.09307\tin_test-logloss:0.00243\n",
      "[187]\ttrain-logloss:0.08177\tin_valid-logloss:0.09309\tin_test-logloss:0.00243\n",
      "[188]\ttrain-logloss:0.08169\tin_valid-logloss:0.09310\tin_test-logloss:0.00243\n",
      "[189]\ttrain-logloss:0.08165\tin_valid-logloss:0.09313\tin_test-logloss:0.00243\n",
      "[190]\ttrain-logloss:0.08157\tin_valid-logloss:0.09311\tin_test-logloss:0.00243\n",
      "[191]\ttrain-logloss:0.08157\tin_valid-logloss:0.09311\tin_test-logloss:0.00243\n",
      "[192]\ttrain-logloss:0.08150\tin_valid-logloss:0.09310\tin_test-logloss:0.00242\n",
      "[193]\ttrain-logloss:0.08149\tin_valid-logloss:0.09311\tin_test-logloss:0.00242\n",
      "[194]\ttrain-logloss:0.08140\tin_valid-logloss:0.09311\tin_test-logloss:0.00243\n",
      "[195]\ttrain-logloss:0.08131\tin_valid-logloss:0.09312\tin_test-logloss:0.00243\n",
      "[196]\ttrain-logloss:0.08127\tin_valid-logloss:0.09311\tin_test-logloss:0.00243\n",
      "[197]\ttrain-logloss:0.08124\tin_valid-logloss:0.09310\tin_test-logloss:0.00243\n",
      "[198]\ttrain-logloss:0.08119\tin_valid-logloss:0.09310\tin_test-logloss:0.00243\n",
      "[199]\ttrain-logloss:0.08116\tin_valid-logloss:0.09311\tin_test-logloss:0.00243\n",
      "[200]\ttrain-logloss:0.08114\tin_valid-logloss:0.09311\tin_test-logloss:0.00243\n",
      "[201]\ttrain-logloss:0.08113\tin_valid-logloss:0.09313\tin_test-logloss:0.00243\n",
      "[202]\ttrain-logloss:0.08109\tin_valid-logloss:0.09311\tin_test-logloss:0.00243\n",
      "[203]\ttrain-logloss:0.08105\tin_valid-logloss:0.09311\tin_test-logloss:0.00243\n",
      "[204]\ttrain-logloss:0.08100\tin_valid-logloss:0.09309\tin_test-logloss:0.00243\n",
      "[205]\ttrain-logloss:0.08097\tin_valid-logloss:0.09310\tin_test-logloss:0.00243\n",
      "[206]\ttrain-logloss:0.08094\tin_valid-logloss:0.09306\tin_test-logloss:0.00243\n",
      "[207]\ttrain-logloss:0.08087\tin_valid-logloss:0.09303\tin_test-logloss:0.00243\n",
      "[208]\ttrain-logloss:0.08082\tin_valid-logloss:0.09302\tin_test-logloss:0.00243\n",
      "[209]\ttrain-logloss:0.08082\tin_valid-logloss:0.09304\tin_test-logloss:0.00243\n",
      "[210]\ttrain-logloss:0.08079\tin_valid-logloss:0.09308\tin_test-logloss:0.00243\n",
      "[211]\ttrain-logloss:0.08075\tin_valid-logloss:0.09308\tin_test-logloss:0.00242\n",
      "[212]\ttrain-logloss:0.08070\tin_valid-logloss:0.09306\tin_test-logloss:0.00242\n",
      "[213]\ttrain-logloss:0.08068\tin_valid-logloss:0.09309\tin_test-logloss:0.00242\n",
      "[214]\ttrain-logloss:0.08058\tin_valid-logloss:0.09307\tin_test-logloss:0.00243\n",
      "[215]\ttrain-logloss:0.08049\tin_valid-logloss:0.09308\tin_test-logloss:0.00243\n",
      "[216]\ttrain-logloss:0.08041\tin_valid-logloss:0.09303\tin_test-logloss:0.00243\n",
      "[217]\ttrain-logloss:0.08032\tin_valid-logloss:0.09306\tin_test-logloss:0.00243\n",
      "[218]\ttrain-logloss:0.08023\tin_valid-logloss:0.09303\tin_test-logloss:0.00243\n",
      "[219]\ttrain-logloss:0.08014\tin_valid-logloss:0.09303\tin_test-logloss:0.00244\n",
      "[220]\ttrain-logloss:0.08010\tin_valid-logloss:0.09306\tin_test-logloss:0.00244\n",
      "[221]\ttrain-logloss:0.08002\tin_valid-logloss:0.09304\tin_test-logloss:0.00244\n",
      "[222]\ttrain-logloss:0.08001\tin_valid-logloss:0.09304\tin_test-logloss:0.00244\n",
      "[223]\ttrain-logloss:0.07999\tin_valid-logloss:0.09305\tin_test-logloss:0.00244\n",
      "[224]\ttrain-logloss:0.07992\tin_valid-logloss:0.09306\tin_test-logloss:0.00243\n",
      "[225]\ttrain-logloss:0.07987\tin_valid-logloss:0.09305\tin_test-logloss:0.00243\n",
      "[226]\ttrain-logloss:0.07985\tin_valid-logloss:0.09303\tin_test-logloss:0.00243\n",
      "[227]\ttrain-logloss:0.07983\tin_valid-logloss:0.09304\tin_test-logloss:0.00243\n",
      "[228]\ttrain-logloss:0.07981\tin_valid-logloss:0.09305\tin_test-logloss:0.00243\n",
      "[229]\ttrain-logloss:0.07979\tin_valid-logloss:0.09305\tin_test-logloss:0.00244\n",
      "[230]\ttrain-logloss:0.07977\tin_valid-logloss:0.09307\tin_test-logloss:0.00244\n",
      "[231]\ttrain-logloss:0.07976\tin_valid-logloss:0.09309\tin_test-logloss:0.00244\n",
      "[232]\ttrain-logloss:0.07971\tin_valid-logloss:0.09310\tin_test-logloss:0.00245\n",
      "[233]\ttrain-logloss:0.07970\tin_valid-logloss:0.09309\tin_test-logloss:0.00245\n",
      "[234]\ttrain-logloss:0.07969\tin_valid-logloss:0.09309\tin_test-logloss:0.00245\n",
      "[235]\ttrain-logloss:0.07963\tin_valid-logloss:0.09313\tin_test-logloss:0.00245\n",
      "[236]\ttrain-logloss:0.07961\tin_valid-logloss:0.09314\tin_test-logloss:0.00245\n",
      "[237]\ttrain-logloss:0.07956\tin_valid-logloss:0.09319\tin_test-logloss:0.00245\n",
      "[238]\ttrain-logloss:0.07951\tin_valid-logloss:0.09318\tin_test-logloss:0.00246\n",
      "[239]\ttrain-logloss:0.07949\tin_valid-logloss:0.09322\tin_test-logloss:0.00246\n",
      "[240]\ttrain-logloss:0.07943\tin_valid-logloss:0.09327\tin_test-logloss:0.00246\n",
      "[241]\ttrain-logloss:0.07936\tin_valid-logloss:0.09329\tin_test-logloss:0.00247\n",
      "[242]\ttrain-logloss:0.07924\tin_valid-logloss:0.09333\tin_test-logloss:0.00247\n",
      "[243]\ttrain-logloss:0.07922\tin_valid-logloss:0.09331\tin_test-logloss:0.00247\n",
      "[244]\ttrain-logloss:0.07914\tin_valid-logloss:0.09328\tin_test-logloss:0.00247\n",
      "[245]\ttrain-logloss:0.07907\tin_valid-logloss:0.09329\tin_test-logloss:0.00246\n",
      "[246]\ttrain-logloss:0.07903\tin_valid-logloss:0.09329\tin_test-logloss:0.00246\n",
      "[247]\ttrain-logloss:0.07900\tin_valid-logloss:0.09328\tin_test-logloss:0.00247\n",
      "[248]\ttrain-logloss:0.07899\tin_valid-logloss:0.09328\tin_test-logloss:0.00246\n",
      "[249]\ttrain-logloss:0.07895\tin_valid-logloss:0.09329\tin_test-logloss:0.00246\n",
      "[250]\ttrain-logloss:0.07890\tin_valid-logloss:0.09332\tin_test-logloss:0.00246\n",
      "[251]\ttrain-logloss:0.07889\tin_valid-logloss:0.09332\tin_test-logloss:0.00246\n",
      "[252]\ttrain-logloss:0.07886\tin_valid-logloss:0.09332\tin_test-logloss:0.00246\n",
      "[253]\ttrain-logloss:0.07881\tin_valid-logloss:0.09331\tin_test-logloss:0.00246\n",
      "[254]\ttrain-logloss:0.07881\tin_valid-logloss:0.09332\tin_test-logloss:0.00246\n",
      "[255]\ttrain-logloss:0.07878\tin_valid-logloss:0.09332\tin_test-logloss:0.00246\n",
      "[256]\ttrain-logloss:0.07870\tin_valid-logloss:0.09329\tin_test-logloss:0.00244\n",
      "[257]\ttrain-logloss:0.07867\tin_valid-logloss:0.09328\tin_test-logloss:0.00244\n",
      "[258]\ttrain-logloss:0.07861\tin_valid-logloss:0.09330\tin_test-logloss:0.00244\n",
      "[259]\ttrain-logloss:0.07858\tin_valid-logloss:0.09331\tin_test-logloss:0.00244\n",
      "[260]\ttrain-logloss:0.07853\tin_valid-logloss:0.09335\tin_test-logloss:0.00245\n",
      "[261]\ttrain-logloss:0.07840\tin_valid-logloss:0.09331\tin_test-logloss:0.00245\n",
      "[262]\ttrain-logloss:0.07832\tin_valid-logloss:0.09336\tin_test-logloss:0.00245\n",
      "[263]\ttrain-logloss:0.07829\tin_valid-logloss:0.09336\tin_test-logloss:0.00245\n",
      "[264]\ttrain-logloss:0.07826\tin_valid-logloss:0.09339\tin_test-logloss:0.00245\n",
      "[265]\ttrain-logloss:0.07819\tin_valid-logloss:0.09343\tin_test-logloss:0.00245\n",
      "[266]\ttrain-logloss:0.07816\tin_valid-logloss:0.09345\tin_test-logloss:0.00245\n",
      "[267]\ttrain-logloss:0.07814\tin_valid-logloss:0.09346\tin_test-logloss:0.00245\n",
      "[268]\ttrain-logloss:0.07805\tin_valid-logloss:0.09350\tin_test-logloss:0.00245\n",
      "[269]\ttrain-logloss:0.07800\tin_valid-logloss:0.09352\tin_test-logloss:0.00245\n",
      "[270]\ttrain-logloss:0.07796\tin_valid-logloss:0.09352\tin_test-logloss:0.00246\n",
      "[271]\ttrain-logloss:0.07794\tin_valid-logloss:0.09351\tin_test-logloss:0.00246\n",
      "[272]\ttrain-logloss:0.07791\tin_valid-logloss:0.09353\tin_test-logloss:0.00246\n",
      "[273]\ttrain-logloss:0.07785\tin_valid-logloss:0.09355\tin_test-logloss:0.00246\n",
      "[274]\ttrain-logloss:0.07779\tin_valid-logloss:0.09360\tin_test-logloss:0.00247\n",
      "[275]\ttrain-logloss:0.07771\tin_valid-logloss:0.09361\tin_test-logloss:0.00247\n",
      "[276]\ttrain-logloss:0.07768\tin_valid-logloss:0.09361\tin_test-logloss:0.00247\n",
      "[277]\ttrain-logloss:0.07763\tin_valid-logloss:0.09354\tin_test-logloss:0.00247\n",
      "[278]\ttrain-logloss:0.07754\tin_valid-logloss:0.09356\tin_test-logloss:0.00247\n",
      "[279]\ttrain-logloss:0.07749\tin_valid-logloss:0.09362\tin_test-logloss:0.00247\n",
      "[280]\ttrain-logloss:0.07744\tin_valid-logloss:0.09365\tin_test-logloss:0.00247\n",
      "[281]\ttrain-logloss:0.07739\tin_valid-logloss:0.09366\tin_test-logloss:0.00247\n",
      "[282]\ttrain-logloss:0.07738\tin_valid-logloss:0.09367\tin_test-logloss:0.00247\n",
      "[283]\ttrain-logloss:0.07736\tin_valid-logloss:0.09368\tin_test-logloss:0.00247\n",
      "[284]\ttrain-logloss:0.07730\tin_valid-logloss:0.09372\tin_test-logloss:0.00247\n",
      "[285]\ttrain-logloss:0.07726\tin_valid-logloss:0.09373\tin_test-logloss:0.00247\n",
      "[286]\ttrain-logloss:0.07720\tin_valid-logloss:0.09373\tin_test-logloss:0.00248\n",
      "[287]\ttrain-logloss:0.07714\tin_valid-logloss:0.09371\tin_test-logloss:0.00248\n",
      "[288]\ttrain-logloss:0.07710\tin_valid-logloss:0.09371\tin_test-logloss:0.00248\n",
      "[289]\ttrain-logloss:0.07701\tin_valid-logloss:0.09365\tin_test-logloss:0.00248\n",
      "[290]\ttrain-logloss:0.07695\tin_valid-logloss:0.09368\tin_test-logloss:0.00247\n",
      "[291]\ttrain-logloss:0.07687\tin_valid-logloss:0.09367\tin_test-logloss:0.00248\n",
      "[292]\ttrain-logloss:0.07682\tin_valid-logloss:0.09368\tin_test-logloss:0.00247\n",
      "[293]\ttrain-logloss:0.07679\tin_valid-logloss:0.09374\tin_test-logloss:0.00247\n",
      "[294]\ttrain-logloss:0.07673\tin_valid-logloss:0.09380\tin_test-logloss:0.00248\n",
      "[295]\ttrain-logloss:0.07664\tin_valid-logloss:0.09380\tin_test-logloss:0.00248\n",
      "[296]\ttrain-logloss:0.07658\tin_valid-logloss:0.09381\tin_test-logloss:0.00248\n",
      "[297]\ttrain-logloss:0.07656\tin_valid-logloss:0.09381\tin_test-logloss:0.00248\n",
      "[298]\ttrain-logloss:0.07645\tin_valid-logloss:0.09376\tin_test-logloss:0.00248\n",
      "[299]\ttrain-logloss:0.07636\tin_valid-logloss:0.09380\tin_test-logloss:0.00248\n"
     ]
    }
   ],
   "source": [
    "params = {\n",
    "    'max_depth': 5,\n",
    "    'eta': 0.1,\n",
    "    'objective': 'binary:logistic',  \n",
    "    'eval_metric': 'logloss',  \n",
    "}\n",
    "num_boost_round = 300\n",
    "\n",
    "evals_result = {}\n",
    "bst = xgb.train(params, \n",
    "                dtrain, \n",
    "                num_boost_round, \n",
    "                evals=[(dtrain, 'train')] + [(v, k) for k, v in eval_to_dXGBoost.items()], \n",
    "                \n",
    "                evals_result=evals_result, \n",
    "                \n",
    "                verbose_eval=True)"
   ]
  },
  {
   "cell_type": "code",
   "execution_count": 34,
   "metadata": {},
   "outputs": [
    {
     "data": {
      "text/plain": [
       "<xgboost.core.Booster at 0x7f9d50940430>"
      ]
     },
     "execution_count": 34,
     "metadata": {},
     "output_type": "execute_result"
    }
   ],
   "source": [
    "bst"
   ]
  },
  {
   "cell_type": "markdown",
   "metadata": {},
   "source": [
    "## Evaluation"
   ]
  },
  {
   "cell_type": "code",
   "execution_count": 35,
   "metadata": {},
   "outputs": [
    {
     "data": {
      "text/plain": [
       "['train', 'in_valid', 'in_test']"
      ]
     },
     "execution_count": 35,
     "metadata": {},
     "output_type": "execute_result"
    }
   ],
   "source": [
    "[i for i in evals_result]"
   ]
  },
  {
   "cell_type": "code",
   "execution_count": 36,
   "metadata": {},
   "outputs": [
    {
     "data": {
      "image/png": "[encoded data removed]",
      "text/plain": [
       "<Figure size 640x480 with 1 Axes>"
      ]
     },
     "metadata": {},
     "output_type": "display_data"
    }
   ],
   "source": [
    "import matplotlib.pyplot as plt\n",
    "# print(\"Evaluation Results:\", evals_result)\n",
    "\n",
    "epochs = len(evals_result['train']['logloss'])\n",
    "x_axis = range(0, epochs)\n",
    "\n",
    "fig, ax = plt.subplots()\n",
    "\n",
    "for splitname in evals_result:\n",
    "    ax.plot(x_axis, evals_result[splitname]['logloss'], label=splitname)\n",
    "\n",
    "ax.legend()\n",
    "plt.ylabel('Log Loss')\n",
    "plt.title('XGBoost Log Loss')\n",
    "plt.show()"
   ]
  },
  {
   "cell_type": "code",
   "execution_count": null,
   "id": "8edda2ad",
   "metadata": {},
   "outputs": [],
   "source": [
    "# ObsDT\n",
    "\n",
    "# 2023-11-01 ---> test (0.01%). Case Obs 11-23. \n",
    "# 2023-11-01 ---> valid (2.5) & train (2.7) 0.9 vs 0.1"
   ]
  },
  {
   "cell_type": "code",
   "execution_count": 38,
   "metadata": {},
   "outputs": [
    {
     "name": "stdout",
     "output_type": "stream",
     "text": [
      "in_valid\n",
      "<xgboost.core.DMatrix object at 0x7f9d908c1490>\n",
      "in_test\n",
      "<xgboost.core.DMatrix object at 0x7f9d90945070>\n"
     ]
    }
   ],
   "source": [
    "for spliteval, dEval in eval_to_dXGBoost.items():\n",
    "    print(spliteval)\n",
    "    print(dEval)"
   ]
  },
  {
   "cell_type": "code",
   "execution_count": 41,
   "metadata": {},
   "outputs": [
    {
     "name": "stdout",
     "output_type": "stream",
     "text": [
      "in_valid\n",
      "<xgboost.core.DMatrix object at 0x7f9d908c1490>\n",
      "Mean of Real Y: 0.024835331365466118\n",
      "Accuracy: 0.9641507396609438\n",
      "Precision: 0.18518518518518517\n",
      "Recall: 0.13043478260869565\n",
      "F1 Score: 0.15306122448979595\n",
      "ROC-AUC: 0.8522540717239653\n"
     ]
    },
    {
     "data": {
      "image/png": "[encoded data removed]",
      "text/plain": [
       "<Figure size 640x480 with 1 Axes>"
      ]
     },
     "metadata": {},
     "output_type": "display_data"
    },
    {
     "name": "stdout",
     "output_type": "stream",
     "text": [
      "in_test\n",
      "<xgboost.core.DMatrix object at 0x7f9d90945070>\n",
      "Mean of Real Y: 0.000640922924503684\n",
      "Accuracy: 0.9990386156064733\n",
      "Precision: 0.0\n",
      "Recall: 0.0\n",
      "F1 Score: 0.0\n",
      "ROC-AUC: 0.9962321628988295\n"
     ]
    },
    {
     "data": {
      "image/png": "[encoded data removed]",
      "text/plain": [
       "<Figure size 640x480 with 1 Axes>"
      ]
     },
     "metadata": {},
     "output_type": "display_data"
    }
   ],
   "source": [
    "from sklearn.metrics import accuracy_score, precision_score, recall_score, f1_score, roc_auc_score\n",
    "\n",
    "\n",
    "# For binary classification, convert probabilities to binary predictions (0 or 1)\n",
    "threshold = 0.2  # This threshold can be adjusted based on your requirements\n",
    "\n",
    "for spliteval, dEval in eval_to_dXGBoost.items():\n",
    "    print(spliteval)\n",
    "    print(dEval)\n",
    "\n",
    "    y_pred = bst.predict(dEval)\n",
    "    y_pred_binary = [1 if prob > threshold else 0 for prob in y_pred]\n",
    "    y_real = dEval.get_label()\n",
    "\n",
    "    assert len(y_real) == len(y_pred_binary)\n",
    "\n",
    "    # Calculate metrics\n",
    "    accuracy = accuracy_score(y_real, y_pred_binary)\n",
    "    precision = precision_score(y_real, y_pred_binary)\n",
    "    recall = recall_score(y_real, y_pred_binary)\n",
    "    f1 = f1_score(y_real, y_pred_binary)\n",
    "    roc_auc = roc_auc_score(y_real, y_pred)\n",
    "\n",
    "    # Print metrics\n",
    "    mean_y_real = np.mean(y_real)\n",
    "    print(f\"Mean of Real Y: {mean_y_real}\")\n",
    "    print(f\"Accuracy: {accuracy}\")\n",
    "    print(f\"Precision: {precision}\")\n",
    "    print(f\"Recall: {recall}\")\n",
    "    print(f\"F1 Score: {f1}\")\n",
    "    print(f\"ROC-AUC: {roc_auc}\")\n",
    "\n",
    "    y_pred_list = y_pred.tolist()\n",
    "\n",
    "    # Create a DataFrame\n",
    "    df_y = pd.DataFrame({\n",
    "        'Actual': y_real,\n",
    "        'Predicted': y_pred_list\n",
    "    })\n",
    "\n",
    "    # Sort the DataFrame based on the 'Predicted' column\n",
    "    df_ysorted = df_y.sort_values(by='Predicted', ascending=False) \n",
    "    df_ysorted.head(20)\n",
    "\n",
    "    # For each percentile: i% to i + 1 %, report its the ratio of that y label is 1.\n",
    "    # Calculate the percentile for each row based on the 'Predicted' column\n",
    "    df_ysorted['Percentile'] = pd.qcut(df_ysorted['Predicted'], 100, labels=False)\n",
    "\n",
    "    # Calculate the ratio of y label being 1 for each percentile\n",
    "    percentile_ratios = []\n",
    "    for i in range(100):\n",
    "        percentile_data = df_ysorted[df_ysorted['Percentile'] == i]\n",
    "        ratio = np.mean(percentile_data['Predicted'])\n",
    "        percentile_ratios.append(ratio)\n",
    "\n",
    "    # # Print the ratios for each percentile\n",
    "    # for i, ratio in enumerate(percentile_ratios):\n",
    "    #     print(f\"Percentile {i+1}-{i+2}: {ratio}\")\n",
    "\n",
    "    # Plot the ratios\n",
    "    plt.plot(percentile_ratios)\n",
    "    plt.xlabel('Percentile')\n",
    "    plt.ylabel('Ratio of y label being 1')\n",
    "    plt.title('Ratio of y label being 1 for each percentile')\n",
    "    plt.show()\n",
    "\n",
    "# TODO: AUC\n",
    "# Select the best thresold. "
   ]
  },
  {
   "cell_type": "code",
   "execution_count": null,
   "metadata": {},
   "outputs": [],
   "source": []
  },
  {
   "cell_type": "code",
   "execution_count": null,
   "metadata": {},
   "outputs": [],
   "source": []
  },
  {
   "cell_type": "markdown",
   "metadata": {},
   "source": [
    "# DL"
   ]
  },
  {
   "cell_type": "markdown",
   "metadata": {},
   "source": [
    "# pytorch / huggingface"
   ]
  },
  {
   "cell_type": "code",
   "execution_count": null,
   "metadata": {},
   "outputs": [],
   "source": []
  }
 ],
 "metadata": {
  "kernelspec": {
   "display_name": "Python 3 (ipykernel)",
   "language": "python",
   "name": "python3"
  },
  "language_info": {
   "codemirror_mode": {
    "name": "ipython",
    "version": 3
   },
   "file_extension": ".py",
   "mimetype": "text/x-python",
   "name": "python",
   "nbconvert_exporter": "python",
   "pygments_lexer": "ipython3",
   "version": "3.8.8"
  },
  "toc-autonumbering": true
 },
 "nbformat": 4,
 "nbformat_minor": 5
}
