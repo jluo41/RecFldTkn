{
 "cells": [
  {
   "cell_type": "markdown",
   "id": "881d73c8-f12f-4a9b-a485-996a76289767",
   "metadata": {},
   "source": [
    "# Space"
   ]
  },
  {
   "cell_type": "code",
   "execution_count": 1,
   "id": "3bfe226b",
   "metadata": {},
   "outputs": [
    {
     "name": "stdout",
     "output_type": "stream",
     "text": [
      "/Users/jluo/Desktop/2024-DrFirst-SPACE/_DrFirst-AI-EduRxPred-WorkSpace\n",
      "{'CODE_FN': '../pipeline',\n",
      " 'CODE_RFT': '../pipeline',\n",
      " 'DATA_CaseObs': '../_Data/2-Data_CaseObs',\n",
      " 'DATA_RAW': '../_Data/0-Data_Raw',\n",
      " 'DATA_RFT': '../_Data/1-Data_RFT',\n",
      " 'DATA_TASK': 'Data_EduRxPred',\n",
      " 'MODEL_TASK': 'Model_EduRxPred',\n",
      " 'WORKSPACE_PATH': '/Users/jluo/Desktop/2024-DrFirst-SPACE/_DrFirst-AI-EduRxPred-WorkSpace'}\n"
     ]
    },
    {
     "name": "stderr",
     "output_type": "stream",
     "text": [
      "/Users/jluo/miniforge3/envs/torch/lib/python3.11/site-packages/tqdm/auto.py:21: TqdmWarning: IProgress not found. Please update jupyter and ipywidgets. See https://ipywidgets.readthedocs.io/en/stable/user_install.html\n",
      "  from .autonotebook import tqdm as notebook_tqdm\n"
     ]
    }
   ],
   "source": [
    "import os\n",
    "import sys \n",
    "import logging\n",
    "import random\n",
    "import pandas as pd \n",
    "from pprint import pprint \n",
    "from IPython.display import display, HTML\n",
    "\n",
    "# WorkSpace\n",
    "KEY = 'WorkSpace'; WORKSPACE_PATH = os.getcwd().split(KEY)[0] + KEY; print(WORKSPACE_PATH)\n",
    "os.chdir(WORKSPACE_PATH)\n",
    "sys.path.append(WORKSPACE_PATH)\n",
    "\n",
    "# Pipeline Space\n",
    "from proj_space import SPACE\n",
    "SPACE['WORKSPACE_PATH'] = WORKSPACE_PATH\n",
    "sys.path.append(SPACE['CODE_FN'])\n",
    "pprint(SPACE)\n",
    "\n",
    "# Available Packages\n",
    "import argparse\n",
    "import datasets\n",
    "import pandas as pd\n",
    "from datetime import datetime \n",
    "\n",
    "from recfldtkn.ckpd_obs import Ckpd_ObservationS\n",
    "from recfldtkn.configfn import load_cohort_args\n",
    "from recfldtkn.obsname import convert_RecObsName_and_CaseTkn_to_CaseObsName\n",
    "from recfldtkn.loadtools import load_module_variables, update_args_to_list\n",
    "from recfldtkn.observer import get_RecObsName_to_RecObsInfo, CaseObserverTransformer\n",
    "\n",
    "logger = logging.getLogger(__name__)\n",
    "recfldtkn_config_path = os.path.join(SPACE['CODE_FN'], 'config_recfldtkn/')\n"
   ]
  },
  {
   "cell_type": "markdown",
   "id": "d218a53e",
   "metadata": {},
   "source": [
    "# [Part 1] Get a Caseset: Case Examples"
   ]
  },
  {
   "cell_type": "markdown",
   "metadata": {},
   "source": [
    "## [Step 1]"
   ]
  },
  {
   "cell_type": "code",
   "execution_count": 2,
   "id": "7140db62",
   "metadata": {},
   "outputs": [
    {
     "name": "stdout",
     "output_type": "stream",
     "text": [
      "Data_EduRxPred/CaseFolder/TrulicityRx\n",
      "{'RawRootID': 'patient_id_encoded', 'CohortInfo': {'RawData2023Nov_Trulicity': {'cohort_label': 1, 'cohort_name': 'RawData2023Nov_Trulicity', 'FolderPath': '../_Data/0-Data_Raw/2023_11_30_30days_Trulicity'}}, 'RootID': 'PID', 'RecName': 'PRawRecNum', 'rec_folder': '../_Data/1-Data_RFT/RecAttr/', 'fld_folder': '../_Data/1-Data_RFT/RecAttr/', 'hfds_folder': '../_Data/1-Data_RFT/HfDataset/', 'recattr_pyfolder': '../pipeline/fn_recattr/', 'fldtkn_pyfolder': '../pipeline/fn_fldtkn/', 'humanrec_pyfolder': '../pipeline/fn_humanrec/', 'RecName_to_RFT_GROUP_SIZE': {'Default': 5000}, 'RecName_to_RFT_idx_group_size': {'Default': 10000}, 'RecName_to_RFT_usebucket': {'Default': False}, 'RootIDLength': 6, 'recfldtkn_config_path': '../pipeline/config_recfldtkn/', 'SPACE': {'DATA_RAW': '../_Data/0-Data_Raw', 'DATA_RFT': '../_Data/1-Data_RFT', 'DATA_CaseObs': '../_Data/2-Data_CaseObs', 'CODE_FN': '../pipeline', 'CODE_RFT': '../pipeline', 'DATA_TASK': 'Data_EduRxPred', 'MODEL_TASK': 'Model_EduRxPred', 'WORKSPACE_PATH': '/Users/jluo/Desktop/2024-DrFirst-SPACE/_DrFirst-AI-EduRxPred-WorkSpace'}, 'pypath': '../pipeline/fn_humanrec/humanrec.py', 'Ckpd_ObservationS': {'InObs': {'CkpdName': 'InCase', 'DistStartToPredDT': -0.01, 'DistEndToPredDT': 0.01, 'TimeUnit': 'min', 'StartIdx5Min': 0, 'EndIdx5Min': 0}, 'Bf24H': {'CkpdName': 'Bf24H', 'DistStartToPredDT': -24, 'DistEndToPredDT': 0.01, 'TimeUnit': 'H', 'StartIdx5Min': -288, 'EndIdx5Min': 0}, 'Bf1M': {'CkpdName': 'Bf1M', 'DistStartToPredDT': -720, 'DistEndToPredDT': 0.01, 'TimeUnit': 'H', 'StartIdx5Min': -8640, 'EndIdx5Min': 0}, 'Af2H': {'CkpdName': 'Af2H', 'DistStartToPredDT': 1, 'DistEndToPredDT': 121, 'TimeUnit': 'min', 'StartIdx5Min': 1, 'EndIdx5Min': 24}, 'Af1W': {'CkpdName': 'Af1W', 'DistStartToPredDT': 0.0001, 'DistEndToPredDT': 7, 'TimeUnit': 'D', 'StartIdx5Min': 1, 'EndIdx5Min': 2016}}}\n",
      "0_C1-gF-Ab50\n",
      "Dataset({\n",
      "    features: ['PID', 'ObsDT', 'PInvID', 'RxID'],\n",
      "    num_rows: 40517\n",
      "})\n"
     ]
    }
   ],
   "source": [
    "from recfldtkn.aidstools import get_caseset_to_observe\n",
    "\n",
    "####################\n",
    "caseset_name = 'TrulicityRx'\n",
    "group_id = 0\n",
    "case_id_columns = [\"PID\", \"ObsDT\", 'PInvID', 'RxID']\n",
    "####################\n",
    "\n",
    "CaseFolder = os.path.join(SPACE['DATA_TASK'], 'CaseFolder', caseset_name)\n",
    "print(CaseFolder)\n",
    "cohort_args = load_cohort_args(recfldtkn_config_path, SPACE)\n",
    "cohort_args['Ckpd_ObservationS'] = Ckpd_ObservationS\n",
    "print(cohort_args)\n",
    "\n",
    "group_name, ds_case = get_caseset_to_observe(group_id, CaseFolder, case_id_columns, cohort_args)\n",
    "print(group_name)\n",
    "print(ds_case)"
   ]
  },
  {
   "cell_type": "markdown",
   "id": "7a80d013",
   "metadata": {},
   "source": [
    "\n",
    "## [Step 2] RO: Record Observation & CaseTkn\n"
   ]
  },
  {
   "cell_type": "code",
   "execution_count": 3,
   "id": "bb6339df",
   "metadata": {},
   "outputs": [
    {
     "name": "stdout",
     "output_type": "stream",
     "text": [
      "ro.Rx-InObs_ct.RecNum\n"
     ]
    }
   ],
   "source": [
    "from recfldtkn.obsname import convert_RecObsName_and_CaseTkn_to_CaseObsName\n",
    "\n",
    "###########################\n",
    "# RO_ij\n",
    "# RO_ij --> ROdf_ij # c_ij--> Rx-Bf2M\n",
    "Record_Observations_List = ['Rx-InObs'] # ro: Rx: name, InObs: Ckpd. -phi\n",
    "# Phi\n",
    "CaseTkn = 'RecNum'\n",
    "###########################\n",
    "\n",
    "CaseObsName = convert_RecObsName_and_CaseTkn_to_CaseObsName(Record_Observations_List, CaseTkn)\n",
    "# CO_ij\n",
    "print(CaseObsName)"
   ]
  },
  {
   "cell_type": "code",
   "execution_count": 4,
   "id": "aa00899c",
   "metadata": {},
   "outputs": [
    {
     "name": "stdout",
     "output_type": "stream",
     "text": [
      "../_Data/2-Data_CaseObs/ro.Rx-InObs_ct.RecNum/data\n",
      "../_Data/2-Data_CaseObs/ro.Rx-InObs_ct.RecNum/vocab.p\n"
     ]
    }
   ],
   "source": [
    "CaseObsFolder = os.path.join(SPACE['DATA_CaseObs'], CaseObsName)\n",
    "if not os.path.exists(CaseObsFolder):\n",
    "    os.makedirs(CaseObsFolder)\n",
    "    \n",
    "CaseObsFolder_data = os.path.join(CaseObsFolder, 'data')    \n",
    "CaseObsFolder_vocab = os.path.join(CaseObsFolder, 'vocab.p')\n",
    "\n",
    "print(CaseObsFolder_data) \n",
    "print(CaseObsFolder_vocab)"
   ]
  },
  {
   "cell_type": "markdown",
   "metadata": {},
   "source": [
    "# [Part 2] Tools for ds_case_obs"
   ]
  },
  {
   "cell_type": "markdown",
   "id": "a56c2a76",
   "metadata": {},
   "source": [
    "## [Step 1] Prepare examples"
   ]
  },
  {
   "cell_type": "code",
   "execution_count": 5,
   "id": "d341d32a",
   "metadata": {},
   "outputs": [
    {
     "name": "stdout",
     "output_type": "stream",
     "text": [
      "{'PID': [1024150, 1013126, 1034286, 1012301, 1038570, 1032487, 1042644, 1042660, 1032203, 1009855], 'ObsDT': [Timestamp('2023-11-28 15:55:59.016000'), Timestamp('2023-06-15 02:29:33.640000'), Timestamp('2023-09-29 13:40:46.160000'), Timestamp('2023-06-07 13:23:15.061000'), Timestamp('2023-06-13 15:59:16.918000'), Timestamp('2023-09-01 08:39:11.971000'), Timestamp('2023-04-04 18:46:16.428000'), Timestamp('2023-09-27 17:42:56.103000'), Timestamp('2023-09-21 00:21:53.416000'), Timestamp('2023-05-17 18:14:31.324000')], 'PInvID': ['1024150-007', '1013126-009', '1034286-002', '1012301-008', '1038570-008', '1032487-000', '1042644-001', '1042660-012', '1032203-000', '1009855-003'], 'RxID': ['1024150-007-001', '1013126-009-000', '1034286-002-000', '1012301-008-001', '1038570-008-004', '1032487-000-000', '1042644-001-000', '1042660-012-000', '1032203-000-001', '1009855-003-000']}\n"
     ]
    }
   ],
   "source": [
    "case_examples = ds_case.shuffle(seed=42).select(range(10))[:10]\n",
    "print(case_examples)"
   ]
  },
  {
   "cell_type": "code",
   "execution_count": 6,
   "id": "1a140aa9",
   "metadata": {},
   "outputs": [
    {
     "name": "stdout",
     "output_type": "stream",
     "text": [
      "{0: {'PID': 1024150,\n",
      "     'ObsDT': Timestamp('2023-11-28 15:55:59.016000'),\n",
      "     'PInvID': '1024150-007',\n",
      "     'RxID': '1024150-007-001'},\n",
      " 1: {'PID': 1013126,\n",
      "     'ObsDT': Timestamp('2023-06-15 02:29:33.640000'),\n",
      "     'PInvID': '1013126-009',\n",
      "     'RxID': '1013126-009-000'},\n",
      " 2: {'PID': 1034286,\n",
      "     'ObsDT': Timestamp('2023-09-29 13:40:46.160000'),\n",
      "     'PInvID': '1034286-002',\n",
      "     'RxID': '1034286-002-000'},\n",
      " 3: {'PID': 1012301,\n",
      "     'ObsDT': Timestamp('2023-06-07 13:23:15.061000'),\n",
      "     'PInvID': '1012301-008',\n",
      "     'RxID': '1012301-008-001'},\n",
      " 4: {'PID': 1038570,\n",
      "     'ObsDT': Timestamp('2023-06-13 15:59:16.918000'),\n",
      "     'PInvID': '1038570-008',\n",
      "     'RxID': '1038570-008-004'},\n",
      " 5: {'PID': 1032487,\n",
      "     'ObsDT': Timestamp('2023-09-01 08:39:11.971000'),\n",
      "     'PInvID': '1032487-000',\n",
      "     'RxID': '1032487-000-000'},\n",
      " 6: {'PID': 1042644,\n",
      "     'ObsDT': Timestamp('2023-04-04 18:46:16.428000'),\n",
      "     'PInvID': '1042644-001',\n",
      "     'RxID': '1042644-001-000'},\n",
      " 7: {'PID': 1042660,\n",
      "     'ObsDT': Timestamp('2023-09-27 17:42:56.103000'),\n",
      "     'PInvID': '1042660-012',\n",
      "     'RxID': '1042660-012-000'},\n",
      " 8: {'PID': 1032203,\n",
      "     'ObsDT': Timestamp('2023-09-21 00:21:53.416000'),\n",
      "     'PInvID': '1032203-000',\n",
      "     'RxID': '1032203-000-001'},\n",
      " 9: {'PID': 1009855,\n",
      "     'ObsDT': Timestamp('2023-05-17 18:14:31.324000'),\n",
      "     'PInvID': '1009855-003',\n",
      "     'RxID': '1009855-003-000'}}\n"
     ]
    }
   ],
   "source": [
    "length = len(case_examples[list(case_examples.keys())[0]])\n",
    "case_examples_list = [{k: v[i] for k, v in case_examples.items()} for i in range(length)]\n",
    "idx_to_examples = {i: case_examples_list[i] for i in range(length)}\n",
    "pprint(idx_to_examples, sort_dicts=False)"
   ]
  },
  {
   "cell_type": "code",
   "execution_count": 7,
   "id": "f4515d69",
   "metadata": {},
   "outputs": [
    {
     "data": {
      "text/plain": [
       "{'PID': 1024150,\n",
       " 'ObsDT': Timestamp('2023-11-28 15:55:59.016000'),\n",
       " 'PInvID': '1024150-007',\n",
       " 'RxID': '1024150-007-001'}"
      ]
     },
     "execution_count": 7,
     "metadata": {},
     "output_type": "execute_result"
    }
   ],
   "source": [
    "case_example = idx_to_examples[0]\n",
    "case_example"
   ]
  },
  {
   "cell_type": "markdown",
   "id": "899b14be",
   "metadata": {},
   "source": [
    "## [Step 2] get_caseobs_id"
   ]
  },
  {
   "cell_type": "code",
   "execution_count": 8,
   "id": "1e8e2708",
   "metadata": {},
   "outputs": [],
   "source": [
    "# InObs - Rx - RecNum = 10\n",
    "\n",
    "# CO_id\n",
    "# CO: RO_RecNUm\n",
    "# CO: PZipInfo COid # PID\n",
    "# CO^{recnum}, CO^{futeduegm}\n",
    "\n",
    "# {'PID': 1020788,\n",
    "#  'ObsDT': Timestamp('2023-09-06 17:41:01.757000'),\n",
    "#  'PInvID': '1020788-000',\n",
    "#  'RxID': '1020788-000-000'} # <--- edu future engagement\n",
    "\n",
    "# {'PID': 1020788,\n",
    "#  'ObsDT': Timestamp('2023-09-06 17:41:01.757000'),\n",
    "#  'PInvID': '1020788-000',\n",
    "#  'RxID': '1020788-000-001'} # <--- edu future engagement"
   ]
  },
  {
   "cell_type": "code",
   "execution_count": 9,
   "id": "e9c2b544",
   "metadata": {},
   "outputs": [],
   "source": [
    "import inspect\n",
    "#################################################\n",
    "def get_caseobs_id(case_example, CaseObsName):\n",
    "    PIDValue = case_example['PID']\n",
    "    ObsDTValue = case_example['ObsDT'].isoformat()\n",
    "    return f'{PIDValue}&{ObsDTValue}'\n",
    "get_caseobs_id.fn_string = inspect.getsource(get_caseobs_id)\n",
    "#################################################"
   ]
  },
  {
   "cell_type": "code",
   "execution_count": 10,
   "id": "ac158e3b",
   "metadata": {},
   "outputs": [
    {
     "data": {
      "text/plain": [
       "'1024150&2023-11-28T15:55:59.016000'"
      ]
     },
     "execution_count": 10,
     "metadata": {},
     "output_type": "execute_result"
    }
   ],
   "source": [
    "caseobs_id = get_caseobs_id(case_example, CaseObsName)\n",
    "caseobs_id # CO_id"
   ]
  },
  {
   "cell_type": "markdown",
   "id": "b2f1a72b",
   "metadata": {},
   "source": [
    "\n",
    "\n",
    "## [Step 3] RO List and CaseTkn"
   ]
  },
  {
   "cell_type": "code",
   "execution_count": 11,
   "id": "e4bea33f",
   "metadata": {},
   "outputs": [
    {
     "data": {
      "text/plain": [
       "'RecNum'"
      ]
     },
     "execution_count": 11,
     "metadata": {},
     "output_type": "execute_result"
    }
   ],
   "source": [
    "CaseTkn"
   ]
  },
  {
   "cell_type": "code",
   "execution_count": 12,
   "id": "e423b04a",
   "metadata": {},
   "outputs": [],
   "source": [
    "# cohort_args"
   ]
  },
  {
   "cell_type": "code",
   "execution_count": 13,
   "id": "206a0628",
   "metadata": {},
   "outputs": [],
   "source": [
    "## we need to prepare these five arguments.\n",
    "# CaseTkn     # <------- we have this.\n",
    "# cohort_args # <------- we have this.\n",
    "\n",
    "# RecObs_Name \n",
    "# rec_args\n",
    "# column_names # attribute name of R^recordname"
   ]
  },
  {
   "cell_type": "code",
   "execution_count": 14,
   "id": "bad0cfc2",
   "metadata": {},
   "outputs": [
    {
     "name": "stdout",
     "output_type": "stream",
     "text": [
      "['Rx-InObs']\n",
      "Rx-InObs\n"
     ]
    }
   ],
   "source": [
    "######### RecObs_Name\n",
    "print(Record_Observations_List) # RO_List\n",
    "# Let's focus on one RO\n",
    "RO = Record_Observations_List[0]\n",
    "RecObs_Name = RO\n",
    "print(RecObs_Name)"
   ]
  },
  {
   "cell_type": "code",
   "execution_count": 15,
   "id": "60aca5da",
   "metadata": {},
   "outputs": [],
   "source": [
    "# RO = 'Rx-Bf2M-InsCate'\n",
    "# RO = 'Rx-Bf2M'\n",
    "# RO = 'P-Zip3DemoNume'"
   ]
  },
  {
   "cell_type": "markdown",
   "metadata": {},
   "source": [
    "## [Step4] RO Information"
   ]
  },
  {
   "cell_type": "code",
   "execution_count": 16,
   "id": "e7ecf801",
   "metadata": {},
   "outputs": [
    {
     "name": "stdout",
     "output_type": "stream",
     "text": [
      "Rx InObs None\n"
     ]
    }
   ],
   "source": [
    "# decompose RO to RecName, CkpdName, FldName (small phi)\n",
    "from recfldtkn.obsname import parse_RecObsName\n",
    "\n",
    "d = parse_RecObsName(RecObs_Name)\n",
    "RecName = d['RecName']\n",
    "CkpdName = d['CkpdName']\n",
    "FldName = d['FldName']\n",
    "print(RecName, CkpdName, FldName)"
   ]
  },
  {
   "cell_type": "code",
   "execution_count": 17,
   "id": "8ab84af9",
   "metadata": {},
   "outputs": [
    {
     "name": "stdout",
     "output_type": "stream",
     "text": [
      "Rx\n"
     ]
    },
    {
     "data": {
      "text/plain": [
       "['CohortInfo',\n",
       " 'RecName',\n",
       " 'RecID',\n",
       " 'RecIDChain',\n",
       " 'RawRecID',\n",
       " 'RecDT',\n",
       " 'ParentRecName',\n",
       " 'attr_cols',\n",
       " 'pypath',\n",
       " 'FldTknInfo',\n",
       " 'RFT_GROUP_SIZE',\n",
       " 'idx_group_size',\n",
       " 'usebucket',\n",
       " 'GROUP_SIZE',\n",
       " 'folder',\n",
       " 'rec_folder',\n",
       " 'recfldtkn_config_path',\n",
       " 'yaml_file_path']"
      ]
     },
     "execution_count": 17,
     "metadata": {},
     "output_type": "execute_result"
    }
   ],
   "source": [
    "# load all information about the R^record_name. \n",
    "from recfldtkn.configfn import load_record_args\n",
    "\n",
    "print(RecName)\n",
    "rec_args = load_record_args(RecName, cohort_args)\n",
    "# TODO: interpert each keys in the rec_args. Put them in the miro. \n",
    "[i for i in rec_args]"
   ]
  },
  {
   "cell_type": "code",
   "execution_count": 18,
   "id": "e6d7d6a3",
   "metadata": {},
   "outputs": [],
   "source": [
    "# rec_args['attr_cols']"
   ]
  },
  {
   "cell_type": "markdown",
   "metadata": {},
   "source": [
    "## [Step 5] Load ds_rec"
   ]
  },
  {
   "cell_type": "code",
   "execution_count": 19,
   "id": "d64f4802",
   "metadata": {},
   "outputs": [],
   "source": [
    "from recfldtkn.loadtools import load_ds_rec_and_info\n",
    "\n",
    "ds_rec, ds_rec_info = load_ds_rec_and_info(RecName, cohort_args)\n",
    "\n",
    "# R^Rx\n",
    "# ROdf # Rx-Bf2M (i, t, Bf2M)"
   ]
  },
  {
   "cell_type": "code",
   "execution_count": 20,
   "id": "4cb89109",
   "metadata": {},
   "outputs": [
    {
     "data": {
      "text/plain": [
       "['PID',\n",
       " 'PInvID',\n",
       " 'RxID',\n",
       " 'prescription_id_encoded',\n",
       " 'DT',\n",
       " 'start_date',\n",
       " 'invitation_date',\n",
       " 'insurance_start_date',\n",
       " 'written_date',\n",
       " 'date_fdb_updated',\n",
       " 'prescriber_npi',\n",
       " 'ncpdp_id',\n",
       " 'pharmacy_name_rx',\n",
       " 'simple_pharmacy_name_rx',\n",
       " 'specialty_pharmacy',\n",
       " 'pharmacy_zip_code_3',\n",
       " 'ndc_id',\n",
       " 'drug_name',\n",
       " 'drug_description',\n",
       " 'generic_id',\n",
       " 'top_200_branded_drugs',\n",
       " 'top_50_generic_drugs',\n",
       " 'brand_source',\n",
       " 'fill_number',\n",
       " 'refills_available',\n",
       " 'quantity_unit',\n",
       " 'quantity',\n",
       " 'days_supply',\n",
       " 'package_size',\n",
       " 'package_units',\n",
       " 'strength',\n",
       " 'strength_units',\n",
       " 'total_package_strength',\n",
       " 'directions',\n",
       " 'delivery_type',\n",
       " 'legend_status',\n",
       " 'show_rems_campaigns',\n",
       " 'show_coupon_campaigns',\n",
       " 'show_educational_campaigns',\n",
       " 'show_internal_campaigns',\n",
       " 'show_target_campaigns',\n",
       " 'show_experimental_campaigns',\n",
       " 'send_refill_reminder_messages',\n",
       " 'send_renewal_reminder_messages',\n",
       " 'supports_hippo_prices',\n",
       " 'supports_hippo_prices65',\n",
       " 'supports_copay_prices',\n",
       " 'supports_hippo_prices_medicare',\n",
       " 'rx_bin',\n",
       " 'rx_pcn',\n",
       " 'dispenser_class',\n",
       " 'primary_dispenser_type',\n",
       " 'campaign_id',\n",
       " 'record_locator_encoded',\n",
       " 'source_id',\n",
       " 'group_id',\n",
       " 'customer_type',\n",
       " 'organization_type',\n",
       " 'plan_name',\n",
       " 'suppliers',\n",
       " 'ther_eq_hierarchy_name',\n",
       " 'ther_eq_parent_name',\n",
       " 'ther_eq_ult_parent_name',\n",
       " 'ther_eq_ult_child_ind',\n",
       " 'ther_eq_ult_parent_etc_id',\n",
       " 'ther_eq_hierarchy_level',\n",
       " 'therapeutic_equivalence_id',\n",
       " 'Rx-CmpCateTkn_wgt',\n",
       " 'Rx-CmpCateTkn_tknidx',\n",
       " 'Rx-InsCateTkn_wgt',\n",
       " 'Rx-InsCateTkn_tknidx',\n",
       " 'Rx-ServiceCateTkn_wgt',\n",
       " 'Rx-ServiceCateTkn_tknidx',\n",
       " 'Rx-SysCateTkn_wgt',\n",
       " 'Rx-SysCateTkn_tknidx',\n",
       " 'Rx-QuantN2CTkn_wgt',\n",
       " 'Rx-QuantN2CTkn_tknidx',\n",
       " 'Rx-QuantNumeTkn_wgt',\n",
       " 'Rx-QuantNumeTkn_tknidx',\n",
       " 'Rx-TherEqCateTkn_wgt',\n",
       " 'Rx-TherEqCateTkn_tknidx',\n",
       " 'Rx-DrugBasicCateTkn_wgt',\n",
       " 'Rx-DrugBasicCateTkn_tknidx',\n",
       " 'Rx-PhmBasicCateTkn_wgt',\n",
       " 'Rx-PhmBasicCateTkn_tknidx',\n",
       " 'Rx-PhmZip3HousingNumeTkn_wgt',\n",
       " 'Rx-PhmZip3HousingNumeTkn_tknidx']"
      ]
     },
     "execution_count": 20,
     "metadata": {},
     "output_type": "execute_result"
    }
   ],
   "source": [
    "######### column_names (or we can all it attribute columns)\n",
    "column_names = ds_rec.column_names # attr_columns + phi_columns\n",
    "column_names\n",
    "# ROdf_ij --(Phi: RecNum)-> COdf_ij "
   ]
  },
  {
   "cell_type": "markdown",
   "metadata": {},
   "source": [
    "## [Step 6] get_selected_columns (attr + phi) from ds_rec"
   ]
  },
  {
   "cell_type": "code",
   "execution_count": 21,
   "id": "96122aa4",
   "metadata": {},
   "outputs": [],
   "source": [
    "###############################\n",
    "def get_selected_columns(RecObs_Name, column_names, cohort_args, rec_args, CaseTkn):\n",
    "    # RecName = RecObs_Name.split('-')[0]\n",
    "    base_columns = [cohort_args['RootID'], rec_args['RecID'], rec_args['RecDT']]\n",
    "    return base_columns\n",
    "get_selected_columns.fn_string = inspect.getsource(get_selected_columns)\n",
    "###############################"
   ]
  },
  {
   "cell_type": "code",
   "execution_count": 22,
   "id": "d79b86cd",
   "metadata": {},
   "outputs": [
    {
     "data": {
      "text/plain": [
       "['PID', 'RxID', 'DT']"
      ]
     },
     "execution_count": 22,
     "metadata": {},
     "output_type": "execute_result"
    }
   ],
   "source": [
    "get_selected_columns(RecObs_Name, column_names, cohort_args, rec_args, CaseTkn)"
   ]
  },
  {
   "cell_type": "code",
   "execution_count": 23,
   "id": "bf587b85",
   "metadata": {},
   "outputs": [
    {
     "name": "stdout",
     "output_type": "stream",
     "text": [
      "['Rx-InObs']\n",
      "RecNum\n",
      "<function get_selected_columns at 0x12b668540>\n"
     ]
    }
   ],
   "source": [
    "print(Record_Observations_List)\n",
    "print(CaseTkn)\n",
    "print(get_selected_columns)"
   ]
  },
  {
   "cell_type": "code",
   "execution_count": 24,
   "id": "e26e9f62",
   "metadata": {},
   "outputs": [],
   "source": [
    "# RecObsName_to_RecObsInfo # RO_to_ROinfo\n",
    "\n",
    "from recfldtkn.observer import get_RecObsName_to_RecObsInfo\n",
    "\n",
    "# this function is the wrapper of the above cells.\n",
    "# RO_to_ROInfo \n",
    "RecObsName_to_RecObsInfo = get_RecObsName_to_RecObsInfo(Record_Observations_List, \n",
    "                                                        CaseTkn, get_selected_columns, \n",
    "                                                        cohort_args, Ckpd_ObservationS)\n",
    "\n",
    "\n",
    "RO = Record_Observations_List[0] # Rx-Bf2M  \n",
    "ROInfo = RecObsName_to_RecObsInfo[RO] # RxInfo + R^Rx (with necessary columns) + Ckpd + FldTkn (phi)\n"
   ]
  },
  {
   "cell_type": "code",
   "execution_count": 25,
   "id": "3e1f08ca",
   "metadata": {},
   "outputs": [
    {
     "data": {
      "text/plain": [
       "['rec_args',\n",
       " 'RecName',\n",
       " 'CkpdName',\n",
       " 'CkpdInfo',\n",
       " 'FldName',\n",
       " 'FldTknName',\n",
       " 'FldIdx2Tkn',\n",
       " 'ds_rec',\n",
       " 'df_rec_info']"
      ]
     },
     "execution_count": 25,
     "metadata": {},
     "output_type": "execute_result"
    }
   ],
   "source": [
    "[i for i in ROInfo]\n",
    "\n",
    "# pprint(ROInfo)"
   ]
  },
  {
   "cell_type": "code",
   "execution_count": 26,
   "id": "1e859481",
   "metadata": {},
   "outputs": [
    {
     "data": {
      "text/plain": [
       "Dataset({\n",
       "    features: ['PID', 'RxID', 'DT'],\n",
       "    num_rows: 571656\n",
       "})"
      ]
     },
     "execution_count": 26,
     "metadata": {},
     "output_type": "execute_result"
    }
   ],
   "source": [
    "ROInfo['ds_rec'] # get_selected_columns"
   ]
  },
  {
   "cell_type": "markdown",
   "metadata": {},
   "source": [
    "## [Step 7] get_casetkn_vocab"
   ]
  },
  {
   "cell_type": "code",
   "execution_count": 27,
   "id": "8cc4153d",
   "metadata": {},
   "outputs": [],
   "source": [
    "def get_casetkn_vocab(RecObsName_to_RecObsInfo):\n",
    "    # phi_list\n",
    "    RecFldName_list = list(set([RecObsInfo['RecName'] + '-' +RecObsInfo['FldName'] \n",
    "                                for RecObsName, RecObsInfo in RecObsName_to_RecObsInfo.items()\n",
    "                                if RecObsInfo['FldName'] is not None ]\n",
    "                                ))\n",
    "    \n",
    "    # print('RecFldName_list----->', RecFldName_list)\n",
    "    # for current version: for any Phi, we only process one or zero phi. \n",
    "    assert len(RecFldName_list) <= 1\n",
    "\n",
    "    ############################\n",
    "    idx2tkn = ['[UNK]', 'recnum', 'recspan']\n",
    "    ############################\n",
    "\n",
    "    tid2tkn = {tid: tkn for tid, tkn in enumerate(idx2tkn)}\n",
    "    tkn2tid = {tkn: tid for tid, tkn in tid2tkn.items()}\n",
    "    CaseTknVocab = {}\n",
    "    CaseTknVocab['tkn'] = {'tid2tkn': tid2tkn, 'tkn2tid': tkn2tid}\n",
    "    return CaseTknVocab\n",
    "\n",
    "get_casetkn_vocab.fn_string = inspect.getsource(get_casetkn_vocab)"
   ]
  },
  {
   "cell_type": "code",
   "execution_count": 28,
   "id": "5f0067d5",
   "metadata": {},
   "outputs": [
    {
     "name": "stdout",
     "output_type": "stream",
     "text": [
      "{'tkn': {'tid2tkn': {0: '[UNK]', 1: 'recnum', 2: 'recspan'},\n",
      "         'tkn2tid': {'[UNK]': 0, 'recnum': 1, 'recspan': 2}}}\n"
     ]
    }
   ],
   "source": [
    "CaseTknVocab = get_casetkn_vocab(RecObsName_to_RecObsInfo)\n",
    "pprint(CaseTknVocab, sort_dicts=False)"
   ]
  },
  {
   "cell_type": "markdown",
   "id": "4701e452",
   "metadata": {},
   "source": [
    "\n",
    "## [Step 8] Fetch ds_rec"
   ]
  },
  {
   "cell_type": "code",
   "execution_count": 29,
   "id": "4666ba8a",
   "metadata": {},
   "outputs": [
    {
     "data": {
      "text/plain": [
       "{'PID': 1038570,\n",
       " 'ObsDT': Timestamp('2023-06-13 15:59:16.918000'),\n",
       " 'PInvID': '1038570-008',\n",
       " 'RxID': '1038570-008-004'}"
      ]
     },
     "execution_count": 29,
     "metadata": {},
     "output_type": "execute_result"
    }
   ],
   "source": [
    "case_example = idx_to_examples[4]\n",
    "case_example"
   ]
  },
  {
   "cell_type": "code",
   "execution_count": 30,
   "id": "87d8d8f3",
   "metadata": {},
   "outputs": [
    {
     "data": {
      "text/plain": [
       "'Rx-InObs'"
      ]
     },
     "execution_count": 30,
     "metadata": {},
     "output_type": "execute_result"
    }
   ],
   "source": [
    "RO"
   ]
  },
  {
   "cell_type": "code",
   "execution_count": 31,
   "id": "8733c8d5",
   "metadata": {},
   "outputs": [
    {
     "name": "stdout",
     "output_type": "stream",
     "text": [
      "{0: {'PID': 1024150,\n",
      "     'ObsDT': Timestamp('2023-11-28 15:55:59.016000'),\n",
      "     'PInvID': '1024150-007',\n",
      "     'RxID': '1024150-007-001'},\n",
      " 1: {'PID': 1013126,\n",
      "     'ObsDT': Timestamp('2023-06-15 02:29:33.640000'),\n",
      "     'PInvID': '1013126-009',\n",
      "     'RxID': '1013126-009-000'},\n",
      " 2: {'PID': 1034286,\n",
      "     'ObsDT': Timestamp('2023-09-29 13:40:46.160000'),\n",
      "     'PInvID': '1034286-002',\n",
      "     'RxID': '1034286-002-000'},\n",
      " 3: {'PID': 1012301,\n",
      "     'ObsDT': Timestamp('2023-06-07 13:23:15.061000'),\n",
      "     'PInvID': '1012301-008',\n",
      "     'RxID': '1012301-008-001'},\n",
      " 4: {'PID': 1038570,\n",
      "     'ObsDT': Timestamp('2023-06-13 15:59:16.918000'),\n",
      "     'PInvID': '1038570-008',\n",
      "     'RxID': '1038570-008-004'},\n",
      " 5: {'PID': 1032487,\n",
      "     'ObsDT': Timestamp('2023-09-01 08:39:11.971000'),\n",
      "     'PInvID': '1032487-000',\n",
      "     'RxID': '1032487-000-000'},\n",
      " 6: {'PID': 1042644,\n",
      "     'ObsDT': Timestamp('2023-04-04 18:46:16.428000'),\n",
      "     'PInvID': '1042644-001',\n",
      "     'RxID': '1042644-001-000'},\n",
      " 7: {'PID': 1042660,\n",
      "     'ObsDT': Timestamp('2023-09-27 17:42:56.103000'),\n",
      "     'PInvID': '1042660-012',\n",
      "     'RxID': '1042660-012-000'},\n",
      " 8: {'PID': 1032203,\n",
      "     'ObsDT': Timestamp('2023-09-21 00:21:53.416000'),\n",
      "     'PInvID': '1032203-000',\n",
      "     'RxID': '1032203-000-001'},\n",
      " 9: {'PID': 1009855,\n",
      "     'ObsDT': Timestamp('2023-05-17 18:14:31.324000'),\n",
      "     'PInvID': '1009855-003',\n",
      "     'RxID': '1009855-003-000'}}\n",
      "{'Rx': {1009855: Dataset({\n",
      "    features: ['PID', 'RxID', 'DT'],\n",
      "    num_rows: 12\n",
      "}),\n",
      "        1012301: Dataset({\n",
      "    features: ['PID', 'RxID', 'DT'],\n",
      "    num_rows: 30\n",
      "}),\n",
      "        1013126: Dataset({\n",
      "    features: ['PID', 'RxID', 'DT'],\n",
      "    num_rows: 31\n",
      "}),\n",
      "        1024150: Dataset({\n",
      "    features: ['PID', 'RxID', 'DT'],\n",
      "    num_rows: 10\n",
      "}),\n",
      "        1032203: Dataset({\n",
      "    features: ['PID', 'RxID', 'DT'],\n",
      "    num_rows: 2\n",
      "}),\n",
      "        1032487: Dataset({\n",
      "    features: ['PID', 'RxID', 'DT'],\n",
      "    num_rows: 1\n",
      "}),\n",
      "        1034286: Dataset({\n",
      "    features: ['PID', 'RxID', 'DT'],\n",
      "    num_rows: 1\n",
      "}),\n",
      "        1038570: Dataset({\n",
      "    features: ['PID', 'RxID', 'DT'],\n",
      "    num_rows: 54\n",
      "}),\n",
      "        1042644: Dataset({\n",
      "    features: ['PID', 'RxID', 'DT'],\n",
      "    num_rows: 20\n",
      "}),\n",
      "        1042660: Dataset({\n",
      "    features: ['PID', 'RxID', 'DT'],\n",
      "    num_rows: 17\n",
      "})}}\n"
     ]
    }
   ],
   "source": [
    "# RO_to_ROdf: RecObsName_to_RecObsDS\n",
    "from recfldtkn.observer import get_Record_P\n",
    "\n",
    "pprint(idx_to_examples, sort_dicts=False)\n",
    "\n",
    "RecName_to_REC_P = get_Record_P(idx_to_examples, # a list of cases\n",
    "                                RecObsName_to_RecObsInfo, # RO_to_ROinfo\n",
    "                                )\n",
    "\n",
    "pprint(RecName_to_REC_P) # R_i^{RecName}"
   ]
  },
  {
   "cell_type": "code",
   "execution_count": 32,
   "id": "6b52bb54",
   "metadata": {},
   "outputs": [],
   "source": [
    "# RecName_to_REC_P['Rx'][1020788]"
   ]
  },
  {
   "cell_type": "markdown",
   "metadata": {},
   "source": [
    "## [Step 9] Fetch ROdf: $R_i^{recname}$"
   ]
  },
  {
   "cell_type": "code",
   "execution_count": 33,
   "id": "7ba386ac",
   "metadata": {},
   "outputs": [
    {
     "name": "stdout",
     "output_type": "stream",
     "text": [
      "\n",
      "====================\n",
      "idx: 0\n",
      "case: {'PID': 1024150, 'ObsDT': Timestamp('2023-11-28 15:55:59.016000'), 'PInvID': '1024150-007', 'RxID': '1024150-007-001'}\n",
      "ROdf: {'Rx-InObs': Dataset({\n",
      "    features: ['PID', 'RxID', 'DT'],\n",
      "    num_rows: 2\n",
      "})}\n",
      "====================\n",
      "\n",
      "====================\n",
      "idx: 1\n",
      "case: {'PID': 1013126, 'ObsDT': Timestamp('2023-06-15 02:29:33.640000'), 'PInvID': '1013126-009', 'RxID': '1013126-009-000'}\n",
      "ROdf: {'Rx-InObs': Dataset({\n",
      "    features: ['PID', 'RxID', 'DT'],\n",
      "    num_rows: 1\n",
      "})}\n",
      "====================\n",
      "\n",
      "====================\n",
      "idx: 2\n",
      "case: {'PID': 1034286, 'ObsDT': Timestamp('2023-09-29 13:40:46.160000'), 'PInvID': '1034286-002', 'RxID': '1034286-002-000'}\n",
      "ROdf: {'Rx-InObs': Dataset({\n",
      "    features: ['PID', 'RxID', 'DT'],\n",
      "    num_rows: 1\n",
      "})}\n",
      "====================\n",
      "\n",
      "====================\n",
      "idx: 3\n",
      "case: {'PID': 1012301, 'ObsDT': Timestamp('2023-06-07 13:23:15.061000'), 'PInvID': '1012301-008', 'RxID': '1012301-008-001'}\n",
      "ROdf: {'Rx-InObs': Dataset({\n",
      "    features: ['PID', 'RxID', 'DT'],\n",
      "    num_rows: 3\n",
      "})}\n",
      "====================\n",
      "\n",
      "====================\n",
      "idx: 4\n",
      "case: {'PID': 1038570, 'ObsDT': Timestamp('2023-06-13 15:59:16.918000'), 'PInvID': '1038570-008', 'RxID': '1038570-008-004'}\n",
      "ROdf: {'Rx-InObs': Dataset({\n",
      "    features: ['PID', 'RxID', 'DT'],\n",
      "    num_rows: 11\n",
      "})}\n",
      "====================\n",
      "\n",
      "====================\n",
      "idx: 5\n",
      "case: {'PID': 1032487, 'ObsDT': Timestamp('2023-09-01 08:39:11.971000'), 'PInvID': '1032487-000', 'RxID': '1032487-000-000'}\n",
      "ROdf: {'Rx-InObs': Dataset({\n",
      "    features: ['PID', 'RxID', 'DT'],\n",
      "    num_rows: 1\n",
      "})}\n",
      "====================\n",
      "\n",
      "====================\n",
      "idx: 6\n",
      "case: {'PID': 1042644, 'ObsDT': Timestamp('2023-04-04 18:46:16.428000'), 'PInvID': '1042644-001', 'RxID': '1042644-001-000'}\n",
      "ROdf: {'Rx-InObs': Dataset({\n",
      "    features: ['PID', 'RxID', 'DT'],\n",
      "    num_rows: 1\n",
      "})}\n",
      "====================\n",
      "\n",
      "====================\n",
      "idx: 7\n",
      "case: {'PID': 1042660, 'ObsDT': Timestamp('2023-09-27 17:42:56.103000'), 'PInvID': '1042660-012', 'RxID': '1042660-012-000'}\n",
      "ROdf: {'Rx-InObs': Dataset({\n",
      "    features: ['PID', 'RxID', 'DT'],\n",
      "    num_rows: 1\n",
      "})}\n",
      "====================\n",
      "\n",
      "====================\n",
      "idx: 8\n",
      "case: {'PID': 1032203, 'ObsDT': Timestamp('2023-09-21 00:21:53.416000'), 'PInvID': '1032203-000', 'RxID': '1032203-000-001'}\n",
      "ROdf: {'Rx-InObs': Dataset({\n",
      "    features: ['PID', 'RxID', 'DT'],\n",
      "    num_rows: 2\n",
      "})}\n",
      "====================\n",
      "\n",
      "====================\n",
      "idx: 9\n",
      "case: {'PID': 1009855, 'ObsDT': Timestamp('2023-05-17 18:14:31.324000'), 'PInvID': '1009855-003', 'RxID': '1009855-003-000'}\n",
      "ROdf: {'Rx-InObs': Dataset({\n",
      "    features: ['PID', 'RxID', 'DT'],\n",
      "    num_rows: 1\n",
      "})}\n",
      "====================\n"
     ]
    }
   ],
   "source": [
    "from recfldtkn.observer import get_idx_to_RecObsName_to_RecObsDS\n",
    "idx_to_RO_to_ROdf = get_idx_to_RecObsName_to_RecObsDS(idx_to_examples, # a list of cases\n",
    "                                                       RecObsName_to_RecObsInfo, # RO_to_ROinfo\n",
    "                                                       RecName_to_REC_P, # R_i^{recname}\n",
    "                                                       )\n",
    "\n",
    "for idx, case in idx_to_examples.items():\n",
    "    print('\\n====================')\n",
    "    print('idx:', idx)\n",
    "    print('case:', case)\n",
    "    print('ROdf:', idx_to_RO_to_ROdf[idx]) # R_i^{RecNum, Ckpd}\n",
    "    print('====================')\n",
    "\n",
    "# RO_list = [RO]\n",
    "    \n",
    "# RO --> {RecName, Ckpd, FldName}\n",
    "#    c_ij ---> R_i&{RecName} ---> RO_ij: R_ij&{RecName, Ckpd, FldName}\n",
    "#    c_ij ---> RO_ij "
   ]
  },
  {
   "cell_type": "code",
   "execution_count": 34,
   "id": "c643c436",
   "metadata": {},
   "outputs": [
    {
     "data": {
      "text/plain": [
       "['Rx-InObs']"
      ]
     },
     "execution_count": 34,
     "metadata": {},
     "output_type": "execute_result"
    }
   ],
   "source": [
    "# RO_to_ROInfo: RecObsName_to_RecObsInfo\n",
    "[i for i in RecObsName_to_RecObsInfo]"
   ]
  },
  {
   "cell_type": "code",
   "execution_count": 35,
   "id": "6a3cb7c6",
   "metadata": {},
   "outputs": [
    {
     "data": {
      "text/plain": [
       "{'tkn': {'tid2tkn': {0: '[UNK]', 1: 'recnum', 2: 'recspan'},\n",
       "  'tkn2tid': {'[UNK]': 0, 'recnum': 1, 'recspan': 2}}}"
      ]
     },
     "execution_count": 35,
     "metadata": {},
     "output_type": "execute_result"
    }
   ],
   "source": [
    "CaseTknVocab"
   ]
  },
  {
   "cell_type": "code",
   "execution_count": 36,
   "id": "bd125aef",
   "metadata": {},
   "outputs": [
    {
     "name": "stdout",
     "output_type": "stream",
     "text": [
      "case_example: {'PID': 1042660, 'ObsDT': Timestamp('2023-09-27 17:42:56.103000'), 'PInvID': '1042660-012', 'RxID': '1042660-012-000'}\n",
      "RecObsName_to_RecObsDS (RO_ij): {'Rx-InObs': Dataset({\n",
      "    features: ['PID', 'RxID', 'DT'],\n",
      "    num_rows: 1\n",
      "})}\n",
      "['Rx-InObs']\n",
      "{'tkn': {'tid2tkn': {0: '[UNK]', 1: 'recnum', 2: 'recspan'}, 'tkn2tid': {'[UNK]': 0, 'recnum': 1, 'recspan': 2}}}\n"
     ]
    }
   ],
   "source": [
    "idx = 7\n",
    "\n",
    "case_example = idx_to_examples[idx]\n",
    "print('case_example:', case_example)\n",
    "RecObsName_to_RecObsDS = idx_to_RO_to_ROdf[idx] # RO_to_ROdf # RO_ij\n",
    "print('RecObsName_to_RecObsDS (RO_ij):', RecObsName_to_RecObsDS)\n",
    "print([i for i in RecObsName_to_RecObsInfo])\n",
    "print(CaseTknVocab)"
   ]
  },
  {
   "cell_type": "markdown",
   "metadata": {},
   "source": [
    "# [Step 10]: Develop $\\Phi$. "
   ]
  },
  {
   "cell_type": "code",
   "execution_count": 37,
   "id": "aa1aacc1",
   "metadata": {},
   "outputs": [],
   "source": [
    "def fn_CaseTkn(case_example, \n",
    "               RecObsName_to_RecObsDS, \n",
    "               RecObsName_to_RecObsInfo, \n",
    "               CaseTknVocab):\n",
    "    # input: RecObsName_to_RecObsDS, RecObsName_to_RecObsInfo\n",
    "    # output: CaseObservation\n",
    "    d = {}\n",
    "    assert len(RecObsName_to_RecObsDS) == 1\n",
    " \n",
    "    # RO\n",
    "    RO = list(RecObsName_to_RecObsDS.keys())[0]\n",
    "    # for RecObsName in RecObsName_to_RecObsDS:\n",
    "    \n",
    "    #############################################\n",
    "    ROds   = RecObsName_to_RecObsDS[RO] # dataframe: RecObsName: Rx-bf24.. RecObsDS: the df: record collection\n",
    "    ROInfo = RecObsName_to_RecObsInfo[RO]\n",
    "    \n",
    "    RecDT = ROInfo['rec_args']['RecDT']\n",
    "    if ROds is not None:\n",
    "        DT_s_obs = ROds[ 0][RecDT] # the time of first records\n",
    "        DT_e_obs = ROds[-1][RecDT] # pd.to_datetime(dates[idx_e-1]) # the last one smaller than idx_e\n",
    "        d['recnum'] = len(ROds)\n",
    "        d['recspan'] = (DT_e_obs - DT_s_obs).total_seconds() / 60 # + 5\n",
    "    else:\n",
    "        d['recnum'] = 0\n",
    "        d['recspan'] = 0\n",
    "    #############################################\n",
    "\n",
    "    tkn2tid = CaseTknVocab['tkn']['tkn2tid']\n",
    "    tkn = [i for i in d.keys()]\n",
    "    tid = [tkn2tid[i] for i in tkn]\n",
    "    wgt = [d[i] for i in tkn]\n",
    "    CO = {'tid': tid, 'wgt': wgt}\n",
    "    # CaseObservation\n",
    "    return CO\n",
    "\n",
    "fn_CaseTkn.fn_string = inspect.getsource(fn_CaseTkn)"
   ]
  },
  {
   "cell_type": "code",
   "execution_count": 38,
   "id": "c921b74d",
   "metadata": {},
   "outputs": [
    {
     "data": {
      "text/plain": [
       "{'tid': [1, 2], 'wgt': [1, 0.0]}"
      ]
     },
     "execution_count": 38,
     "metadata": {},
     "output_type": "execute_result"
    }
   ],
   "source": [
    "fn_CaseTkn(case_example, # (pi, tij)\n",
    "            RecObsName_to_RecObsDS, # RO_ij^{name, ckpd, \\phi} \n",
    "            RecObsName_to_RecObsInfo, \n",
    "            CaseTknVocab)\n"
   ]
  },
  {
   "cell_type": "markdown",
   "id": "6d098f89",
   "metadata": {},
   "source": [
    "## Save Files"
   ]
  },
  {
   "cell_type": "code",
   "execution_count": 39,
   "id": "85524f5f",
   "metadata": {},
   "outputs": [
    {
     "data": {
      "text/html": [
       "../pipeline/fn_casetkn/casetkn_RecNum.py <a href=\"/Users/jluo/Desktop/2024-DrFirst-SPACE/_DrFirst-AI-EduRxPred-WorkSpace/../pipeline/fn_casetkn/casetkn_RecNum.py\" target=\"_blank\">Open File</a>"
      ],
      "text/plain": [
       "<IPython.core.display.HTML object>"
      ]
     },
     "metadata": {},
     "output_type": "display_data"
    }
   ],
   "source": [
    "from recfldtkn.loadtools import convert_variables_to_pystirng, load_module_variables\n",
    "\n",
    "prefix = ['import pandas as pd', 'import numpy as np']\n",
    "fn_variables = [get_caseobs_id, get_selected_columns, get_casetkn_vocab, fn_CaseTkn]\n",
    "pycode = convert_variables_to_pystirng(fn_variables = fn_variables, prefix = prefix)\n",
    "pypath = os.path.join(SPACE['CODE_FN'], 'fn_casetkn', f'casetkn_{CaseTkn}.py')\n",
    "with open(pypath, 'w') as file: file.write(pycode)\n",
    "\n",
    "# Create a HTML link and display it\n",
    "full_path = os.path.join(WORKSPACE_PATH, pypath)\n",
    "display(HTML(f'{pypath} <a href=\"{full_path}\" target=\"_blank\">Open File</a>'))"
   ]
  },
  {
   "cell_type": "markdown",
   "id": "d8ac3fc7",
   "metadata": {},
   "source": [
    "# Application"
   ]
  },
  {
   "cell_type": "code",
   "execution_count": 41,
   "id": "a0747747",
   "metadata": {},
   "outputs": [
    {
     "data": {
      "text/plain": [
       "{}"
      ]
     },
     "execution_count": 41,
     "metadata": {},
     "output_type": "execute_result"
    }
   ],
   "source": [
    "import random \n",
    "from pprint import pprint\n",
    "from datetime import datetime \n",
    "from recfldtkn.observer import get_RecObsName_to_RecObsInfo, CaseObserverTransformer\n",
    "\n",
    "# get_caseobs_id, get_selected_columns, get_casetkn_vocab, fn_CaseTkn\n",
    "batch_size = 100\n",
    "\n",
    "CaseObsName = convert_RecObsName_and_CaseTkn_to_CaseObsName(Record_Observations_List, CaseTkn)\n",
    "RecObsName_to_RecObsInfo = get_RecObsName_to_RecObsInfo(Record_Observations_List, \n",
    "                                                        CaseTkn, get_selected_columns, \n",
    "                                                        cohort_args, Ckpd_ObservationS)\n",
    "fn_caseobs_Phi = CaseObserverTransformer(RecObsName_to_RecObsInfo, \n",
    "                                         CaseTkn, \n",
    "                                         get_casetkn_vocab, \n",
    "                                         fn_CaseTkn, \n",
    "                                         get_caseobs_id, \n",
    "                                         use_caseobs_from_disk = True, \n",
    "                                         CaseObsFolder = CaseObsFolder,\n",
    "                                         caseobs_ids = None\n",
    "                                         )\n",
    "\n",
    "CaseTknVocab = fn_caseobs_Phi.CaseTknVocab # get_casetkn_vocab(RecObsName_to_RecObsInfo)\n",
    "fn_caseobs_Phi.new_calculated_caseobs"
   ]
  },
  {
   "cell_type": "code",
   "execution_count": 42,
   "id": "d21a536a",
   "metadata": {},
   "outputs": [
    {
     "data": {
      "text/plain": [
       "{'InObs': {'CkpdName': 'InCase',\n",
       "  'DistStartToPredDT': -0.01,\n",
       "  'DistEndToPredDT': 0.01,\n",
       "  'TimeUnit': 'min',\n",
       "  'StartIdx5Min': 0,\n",
       "  'EndIdx5Min': 0},\n",
       " 'Bf24H': {'CkpdName': 'Bf24H',\n",
       "  'DistStartToPredDT': -24,\n",
       "  'DistEndToPredDT': 0.01,\n",
       "  'TimeUnit': 'H',\n",
       "  'StartIdx5Min': -288,\n",
       "  'EndIdx5Min': 0},\n",
       " 'Bf1M': {'CkpdName': 'Bf1M',\n",
       "  'DistStartToPredDT': -720,\n",
       "  'DistEndToPredDT': 0.01,\n",
       "  'TimeUnit': 'H',\n",
       "  'StartIdx5Min': -8640,\n",
       "  'EndIdx5Min': 0},\n",
       " 'Af2H': {'CkpdName': 'Af2H',\n",
       "  'DistStartToPredDT': 1,\n",
       "  'DistEndToPredDT': 121,\n",
       "  'TimeUnit': 'min',\n",
       "  'StartIdx5Min': 1,\n",
       "  'EndIdx5Min': 24},\n",
       " 'Af1W': {'CkpdName': 'Af1W',\n",
       "  'DistStartToPredDT': 0.0001,\n",
       "  'DistEndToPredDT': 7,\n",
       "  'TimeUnit': 'D',\n",
       "  'StartIdx5Min': 1,\n",
       "  'EndIdx5Min': 2016}}"
      ]
     },
     "execution_count": 42,
     "metadata": {},
     "output_type": "execute_result"
    }
   ],
   "source": [
    "Ckpd_ObservationS"
   ]
  },
  {
   "cell_type": "code",
   "execution_count": 43,
   "id": "2e5e55d5",
   "metadata": {},
   "outputs": [
    {
     "data": {
      "text/plain": [
       "'ro.Rx-InObs_ct.RecNum'"
      ]
     },
     "execution_count": 43,
     "metadata": {},
     "output_type": "execute_result"
    }
   ],
   "source": [
    "CaseObsName"
   ]
  },
  {
   "cell_type": "code",
   "execution_count": 44,
   "id": "2016becf",
   "metadata": {},
   "outputs": [
    {
     "data": {
      "text/plain": [
       "{'Rx-InObs': {'rec_args': {'CohortInfo': {'RawData2023Nov_Trulicity': {'RxBase': {'raw_data_path': '../_Data/0-Data_Raw/2023_11_30_30days_Trulicity/prescription_df_de_identified.csv',\n",
       "      'RawRootID': 'patient_id_encoded',\n",
       "      'RecNumColumn': 'prescription',\n",
       "      'raw_columns': ['patient_id_encoded',\n",
       "       'invitation_id_encoded',\n",
       "       'prescription_id_encoded',\n",
       "       'start_date',\n",
       "       'invitation_date',\n",
       "       'updated_date',\n",
       "       'insurance_start_date',\n",
       "       'written_date',\n",
       "       'date_fdb_updated',\n",
       "       'prescriber_npi',\n",
       "       'state_code',\n",
       "       'ncpdp_id',\n",
       "       'pharmacy_name_rx',\n",
       "       'simple_pharmacy_name_rx',\n",
       "       'specialty_pharmacy',\n",
       "       'pharmacy_zip_code_3',\n",
       "       'ndc_id',\n",
       "       'drug_name',\n",
       "       'drug_description',\n",
       "       'generic_id',\n",
       "       'top_200_branded_drugs',\n",
       "       'top_50_generic_drugs',\n",
       "       'brand_source',\n",
       "       'fill_number',\n",
       "       'refills_available',\n",
       "       'quantity',\n",
       "       'days_supply',\n",
       "       'package_size',\n",
       "       'package_units',\n",
       "       'quantity_unit',\n",
       "       'strength',\n",
       "       'strength_units',\n",
       "       'total_package_strength',\n",
       "       'content_id',\n",
       "       'prescription_type',\n",
       "       'directions',\n",
       "       'delivery_type',\n",
       "       'controlled_substance_code',\n",
       "       'campaign_id',\n",
       "       'show_rems_campaigns',\n",
       "       'show_coupon_campaigns',\n",
       "       'show_educational_campaigns',\n",
       "       'show_internal_campaigns',\n",
       "       'show_target_campaigns',\n",
       "       'show_experimental_campaigns',\n",
       "       'send_refill_reminder_messages',\n",
       "       'send_renewal_reminder_messages',\n",
       "       'supports_hippo_prices',\n",
       "       'supports_hippo_prices65',\n",
       "       'supports_copay_prices',\n",
       "       'supports_hippo_prices_medicare',\n",
       "       'source_id',\n",
       "       'record_locator_encoded',\n",
       "       'customer_type',\n",
       "       'organization_type',\n",
       "       'suppliers',\n",
       "       'group_id',\n",
       "       'rx_bin',\n",
       "       'rx_pcn',\n",
       "       'legend_status',\n",
       "       'plan_name',\n",
       "       'legal_business_name',\n",
       "       'primary_dispenser_type',\n",
       "       'primary_dispenser_type_code',\n",
       "       'dispenser_class_code',\n",
       "       'dispenser_class',\n",
       "       'secondary_dispenser_type_code',\n",
       "       'tertiary_dispenser_type_code',\n",
       "       'ther_eq_hierarchy_name',\n",
       "       'ther_eq_parent_name',\n",
       "       'ther_eq_ult_parent_name',\n",
       "       'ther_eq_ult_child_ind',\n",
       "       'ther_eq_ult_parent_etc_id',\n",
       "       'ther_eq_hierarchy_level',\n",
       "       'therapeutic_equivalence_id',\n",
       "       'rxnorm_scd',\n",
       "       'rxnorm_sbd',\n",
       "       'fdb_med_id',\n",
       "       'form']}}},\n",
       "   'RecName': 'Rx',\n",
       "   'RecID': 'RxID',\n",
       "   'RecIDChain': ['PID', 'PInvID', 'RxID'],\n",
       "   'RawRecID': ['prescription_id_encoded'],\n",
       "   'RecDT': 'DT',\n",
       "   'ParentRecName': 'PInv',\n",
       "   'attr_cols': ['PID',\n",
       "    'PInvID',\n",
       "    'RxID',\n",
       "    'prescription_id_encoded',\n",
       "    'DT',\n",
       "    'start_date',\n",
       "    'invitation_date',\n",
       "    'insurance_start_date',\n",
       "    'written_date',\n",
       "    'date_fdb_updated',\n",
       "    'prescriber_npi',\n",
       "    'ncpdp_id',\n",
       "    'pharmacy_name_rx',\n",
       "    'simple_pharmacy_name_rx',\n",
       "    'specialty_pharmacy',\n",
       "    'pharmacy_zip_code_3',\n",
       "    'ndc_id',\n",
       "    'drug_name',\n",
       "    'drug_description',\n",
       "    'generic_id',\n",
       "    'top_200_branded_drugs',\n",
       "    'top_50_generic_drugs',\n",
       "    'brand_source',\n",
       "    'fill_number',\n",
       "    'refills_available',\n",
       "    'quantity_unit',\n",
       "    'quantity',\n",
       "    'days_supply',\n",
       "    'package_size',\n",
       "    'package_units',\n",
       "    'strength',\n",
       "    'strength_units',\n",
       "    'total_package_strength',\n",
       "    'directions',\n",
       "    'delivery_type',\n",
       "    'legend_status',\n",
       "    'show_rems_campaigns',\n",
       "    'show_coupon_campaigns',\n",
       "    'show_educational_campaigns',\n",
       "    'show_internal_campaigns',\n",
       "    'show_target_campaigns',\n",
       "    'show_experimental_campaigns',\n",
       "    'send_refill_reminder_messages',\n",
       "    'send_renewal_reminder_messages',\n",
       "    'supports_hippo_prices',\n",
       "    'supports_hippo_prices65',\n",
       "    'supports_copay_prices',\n",
       "    'supports_hippo_prices_medicare',\n",
       "    'rx_bin',\n",
       "    'rx_pcn',\n",
       "    'dispenser_class',\n",
       "    'primary_dispenser_type',\n",
       "    'campaign_id',\n",
       "    'record_locator_encoded',\n",
       "    'source_id',\n",
       "    'group_id',\n",
       "    'customer_type',\n",
       "    'organization_type',\n",
       "    'plan_name',\n",
       "    'suppliers',\n",
       "    'ther_eq_hierarchy_name',\n",
       "    'ther_eq_parent_name',\n",
       "    'ther_eq_ult_parent_name',\n",
       "    'ther_eq_ult_child_ind',\n",
       "    'ther_eq_ult_parent_etc_id',\n",
       "    'ther_eq_hierarchy_level',\n",
       "    'therapeutic_equivalence_id'],\n",
       "   'pypath': '../pipeline/fn_recattr/Rx.py',\n",
       "   'FldTknInfo': {'Rx-BrandCateTkn': {'FldTknName': 'Rx-BrandCateTkn',\n",
       "     'value_cols': ['ndc_id',\n",
       "      'drug_name',\n",
       "      'drug_description',\n",
       "      'generic_id',\n",
       "      'top_200_branded_drugs',\n",
       "      'top_50_generic_drugs',\n",
       "      'brand_source']},\n",
       "    'Rx-CmpCateTkn': {'FldTknName': 'Rx-CmpCateTkn',\n",
       "     'value_cols': ['show_rems_campaigns',\n",
       "      'show_coupon_campaigns',\n",
       "      'show_educational_campaigns',\n",
       "      'show_internal_campaigns',\n",
       "      'show_target_campaigns',\n",
       "      'show_experimental_campaigns']},\n",
       "    'Rx-InsCateTkn': {'FldTknName': 'Rx-InsCateTkn',\n",
       "     'value_cols': ['rx_bin', 'rx_pcn', 'plan_name']},\n",
       "    'Rx-ServiceCateTkn': {'FldTknName': 'Rx-ServiceCateTkn',\n",
       "     'value_cols': ['send_refill_reminder_messages',\n",
       "      'send_renewal_reminder_messages',\n",
       "      'supports_hippo_prices',\n",
       "      'supports_hippo_prices65',\n",
       "      'supports_copay_prices',\n",
       "      'supports_hippo_prices_medicare']},\n",
       "    'Rx-SysCateTkn': {'FldTknName': 'Rx-SysCateTkn',\n",
       "     'value_cols': ['delivery_type',\n",
       "      'legend_status',\n",
       "      'dispenser_class',\n",
       "      'primary_dispenser_type',\n",
       "      'customer_type',\n",
       "      'organization_type',\n",
       "      'suppliers',\n",
       "      'source_id',\n",
       "      'group_id']},\n",
       "    'Rx-QuantN2CTkn': {'FldTknName': 'Rx-QuantN2CTkn',\n",
       "     'value_cols': ['refills_available', 'quantity', 'days_supply']},\n",
       "    'Rx-QuantNumeTkn': {'FldTknName': 'Rx-QuantNumeTkn',\n",
       "     'value_cols': ['refills_available', 'quantity', 'days_supply']},\n",
       "    'Rx-TherEqCateTkn': {'FldTknName': 'Rx-TherEqCateTkn',\n",
       "     'value_cols': ['ther_eq_hierarchy_name',\n",
       "      'ther_eq_parent_name',\n",
       "      'ther_eq_ult_parent_name']},\n",
       "    'Rx-TherEqNumeTkn': {'FldTknName': 'Rx-TherEqNumeTkn',\n",
       "     'value_cols': ['ther_eq_ult_child_ind',\n",
       "      'ther_eq_ult_parent_etc_id',\n",
       "      'ther_eq_hierarchy_level',\n",
       "      'therapeutic_equivalence_id']},\n",
       "    'Rx-DrugBasicNumeTkn': {'FldTknName': 'Rx-DrugBasicNumeTkn',\n",
       "     'value_cols': ['top_200_branded_drugs', 'top_50_generic_drugs']},\n",
       "    'Rx-DrugBasicCateTkn': {'FldTknName': 'Rx-DrugBasicCateTkn',\n",
       "     'value_cols': ['brand_source']},\n",
       "    'Rx-PhmBasicCateTkn': {'FldTknName': 'Rx-PhmBasicCateTkn',\n",
       "     'value_cols': ['pharmacy_name_rx', 'specialty_pharmacy']},\n",
       "    'Rx-PhmZip3HousingNumeTkn': {'external_source_path': '$DATA_RAW$/ZipInfo/Zip3/National_Housing_Charater-Zip3-HousingNumeTkn.p',\n",
       "     'value_cols': ['pharmacy_zip_code_3']}},\n",
       "   'RFT_GROUP_SIZE': 5000,\n",
       "   'idx_group_size': 10000,\n",
       "   'usebucket': False,\n",
       "   'GROUP_SIZE': 5000,\n",
       "   'folder': '../_Data/1-Data_RFT/RecAttr/',\n",
       "   'rec_folder': '../_Data/1-Data_RFT/RecAttr/',\n",
       "   'recfldtkn_config_path': '../pipeline/config_recfldtkn/',\n",
       "   'yaml_file_path': '../pipeline/config_recfldtkn/Record/Rx.yaml'},\n",
       "  'RecName': 'Rx',\n",
       "  'CkpdName': 'InObs',\n",
       "  'CkpdInfo': {'CkpdName': 'InCase',\n",
       "   'DistStartToPredDT': -0.01,\n",
       "   'DistEndToPredDT': 0.01,\n",
       "   'TimeUnit': 'min',\n",
       "   'StartIdx5Min': 0,\n",
       "   'EndIdx5Min': 0},\n",
       "  'FldName': None,\n",
       "  'FldTknName': None,\n",
       "  'FldIdx2Tkn': None,\n",
       "  'ds_rec': Dataset({\n",
       "      features: ['PID', 'RxID', 'DT'],\n",
       "      num_rows: 571656\n",
       "  }),\n",
       "  'df_rec_info':          PID_idx          interval  \\\n",
       "  PID                                  \n",
       "  1000001        0            [0, 0]   \n",
       "  1000002        1            [1, 1]   \n",
       "  1000003        2            [2, 2]   \n",
       "  1000004        3           [3, 10]   \n",
       "  1000005        4          [11, 11]   \n",
       "  ...          ...               ...   \n",
       "  1046204    45498  [571627, 571638]   \n",
       "  1046205    45499  [571639, 571639]   \n",
       "  1046206    45500  [571640, 571642]   \n",
       "  1046208    45501  [571643, 571646]   \n",
       "  1046209    45502  [571647, 571655]   \n",
       "  \n",
       "                                                       dates  \n",
       "  PID                                                         \n",
       "  1000001                       [2023-09-07T18:13:08.746000]  \n",
       "  1000002                       [2023-09-21T23:38:11.348000]  \n",
       "  1000003                       [2023-09-05T16:33:52.699000]  \n",
       "  1000004  [2023-03-23T16:38:45.051000, 2023-04-19T15:47:...  \n",
       "  1000005                       [2023-09-26T20:11:04.040000]  \n",
       "  ...                                                    ...  \n",
       "  1046204  [2023-05-22T13:41:49.538000, 2023-05-22T13:41:...  \n",
       "  1046205                       [2023-09-25T19:53:38.998000]  \n",
       "  1046206  [2023-08-14T19:42:23.213000, 2023-09-11T18:54:...  \n",
       "  1046208  [2023-09-12T16:09:16.572000, 2023-09-12T16:09:...  \n",
       "  1046209  [2023-05-04T13:45:40.707000, 2023-05-04T13:45:...  \n",
       "  \n",
       "  [45503 rows x 3 columns]}}"
      ]
     },
     "execution_count": 44,
     "metadata": {},
     "output_type": "execute_result"
    }
   ],
   "source": [
    "RecObsName_to_RecObsInfo"
   ]
  },
  {
   "cell_type": "code",
   "execution_count": 45,
   "metadata": {},
   "outputs": [
    {
     "name": "stderr",
     "output_type": "stream",
     "text": [
      "Map:   0%|          | 0/40517 [00:00<?, ? examples/s]"
     ]
    },
    {
     "name": "stderr",
     "output_type": "stream",
     "text": [
      "Map: 100%|██████████| 40517/40517 [00:25<00:00, 1561.38 examples/s]"
     ]
    },
    {
     "name": "stdout",
     "output_type": "stream",
     "text": [
      "Elipse Time:  0:00:25.961832\n",
      "Dataset({\n",
      "    features: ['PID', 'ObsDT', 'PInvID', 'RxID', 'tid', 'wgt'],\n",
      "    num_rows: 40517\n",
      "})\n"
     ]
    },
    {
     "name": "stderr",
     "output_type": "stream",
     "text": [
      "\n"
     ]
    }
   ],
   "source": [
    "start = datetime.now()\n",
    "ds_casetkn = ds_case.map(fn_caseobs_Phi, \n",
    "                            batched = True, \n",
    "                            batch_size= batch_size, \n",
    "                            load_from_cache_file=False, \n",
    "                            new_fingerprint = CaseObsName)\n",
    "end = datetime.now()\n",
    "print('Elipse Time: ', end - start)\n",
    "print(ds_casetkn)"
   ]
  },
  {
   "cell_type": "code",
   "execution_count": 46,
   "id": "1765eb57",
   "metadata": {},
   "outputs": [
    {
     "name": "stdout",
     "output_type": "stream",
     "text": [
      "39892\n"
     ]
    }
   ],
   "source": [
    "print(len(fn_caseobs_Phi.new_calculated_caseobs))"
   ]
  },
  {
   "cell_type": "code",
   "execution_count": 47,
   "id": "de1ef678",
   "metadata": {},
   "outputs": [
    {
     "name": "stderr",
     "output_type": "stream",
     "text": [
      "Map: 100%|██████████| 40517/40517 [00:00<00:00, 89299.97 examples/s]"
     ]
    },
    {
     "name": "stdout",
     "output_type": "stream",
     "text": [
      "Elipse Time:  0:00:00.455395\n",
      "Dataset({\n",
      "    features: ['PID', 'ObsDT', 'PInvID', 'RxID', 'tid', 'wgt'],\n",
      "    num_rows: 40517\n",
      "})\n"
     ]
    },
    {
     "name": "stderr",
     "output_type": "stream",
     "text": [
      "\n"
     ]
    }
   ],
   "source": [
    "start = datetime.now()\n",
    "ds_casetkn = ds_case.map(fn_caseobs_Phi, \n",
    "                            batched = True, \n",
    "                            batch_size= batch_size, \n",
    "                            load_from_cache_file=False, \n",
    "                            new_fingerprint = CaseObsName)\n",
    "end = datetime.now()\n",
    "print('Elipse Time: ', end - start)\n",
    "print(ds_casetkn)"
   ]
  },
  {
   "cell_type": "code",
   "execution_count": 48,
   "id": "9e6ec3e9",
   "metadata": {},
   "outputs": [
    {
     "name": "stdout",
     "output_type": "stream",
     "text": [
      "ro.Rx-InObs_ct.RecNum\n",
      "2639\n",
      "{'ObsDT': Timestamp('2023-09-08 13:21:14.039000'),\n",
      " 'PID': 1002927,\n",
      " 'PInvID': '1002927-003',\n",
      " 'RxID': '1002927-003-000',\n",
      " 'tid': [1, 2],\n",
      " 'wgt': [2.0, 0.0]}\n",
      "{'tkn': {'tid2tkn': {0: '[UNK]', 1: 'recnum', 2: 'recspan'}, 'tkn2tid': {'[UNK]': 0, 'recnum': 1, 'recspan': 2}}}\n"
     ]
    }
   ],
   "source": [
    "print(CaseObsName)\n",
    "random_int = random.randint(0, len(ds_casetkn))\n",
    "print(random_int)\n",
    "pprint(ds_casetkn[random_int])\n",
    "print(CaseTknVocab)"
   ]
  },
  {
   "cell_type": "code",
   "execution_count": 49,
   "id": "739bb79c",
   "metadata": {},
   "outputs": [
    {
     "data": {
      "text/plain": [
       "{'PID': 1000924,\n",
       " 'ObsDT': Timestamp('2023-03-15 19:13:21.749000'),\n",
       " 'PInvID': '1000924-001',\n",
       " 'RxID': '1000924-001-000',\n",
       " 'tid': [1, 2],\n",
       " 'wgt': [1.0, 0.0]}"
      ]
     },
     "execution_count": 49,
     "metadata": {},
     "output_type": "execute_result"
    }
   ],
   "source": [
    "ds_casetkn[762]"
   ]
  },
  {
   "cell_type": "markdown",
   "id": "dba9f4c7",
   "metadata": {},
   "source": [
    "## Save"
   ]
  },
  {
   "cell_type": "code",
   "execution_count": 50,
   "id": "6b4a3151",
   "metadata": {},
   "outputs": [
    {
     "data": {
      "text/html": [
       "<div>\n",
       "<style scoped>\n",
       "    .dataframe tbody tr th:only-of-type {\n",
       "        vertical-align: middle;\n",
       "    }\n",
       "\n",
       "    .dataframe tbody tr th {\n",
       "        vertical-align: top;\n",
       "    }\n",
       "\n",
       "    .dataframe thead th {\n",
       "        text-align: right;\n",
       "    }\n",
       "</style>\n",
       "<table border=\"1\" class=\"dataframe\">\n",
       "  <thead>\n",
       "    <tr style=\"text-align: right;\">\n",
       "      <th></th>\n",
       "      <th>caseobs_idx_in_data</th>\n",
       "    </tr>\n",
       "    <tr>\n",
       "      <th>caseobs_id</th>\n",
       "      <th></th>\n",
       "    </tr>\n",
       "  </thead>\n",
       "  <tbody>\n",
       "  </tbody>\n",
       "</table>\n",
       "</div>"
      ],
      "text/plain": [
       "Empty DataFrame\n",
       "Columns: [caseobs_idx_in_data]\n",
       "Index: []"
      ]
     },
     "execution_count": 50,
     "metadata": {},
     "output_type": "execute_result"
    }
   ],
   "source": [
    "fn_caseobs_Phi.df_caseobs_info"
   ]
  },
  {
   "cell_type": "code",
   "execution_count": 51,
   "id": "9bce27a3",
   "metadata": {},
   "outputs": [
    {
     "name": "stderr",
     "output_type": "stream",
     "text": [
      "Saving the dataset (1/1 shards): 100%|██████████| 39892/39892 [00:00<00:00, 2603217.09 examples/s]\n"
     ]
    }
   ],
   "source": [
    "fn_caseobs_Phi.save_new_caseobs_to_ds_caseobs()"
   ]
  },
  {
   "cell_type": "code",
   "execution_count": 52,
   "id": "a4b1c8a9",
   "metadata": {},
   "outputs": [
    {
     "data": {
      "text/html": [
       "<div>\n",
       "<style scoped>\n",
       "    .dataframe tbody tr th:only-of-type {\n",
       "        vertical-align: middle;\n",
       "    }\n",
       "\n",
       "    .dataframe tbody tr th {\n",
       "        vertical-align: top;\n",
       "    }\n",
       "\n",
       "    .dataframe thead th {\n",
       "        text-align: right;\n",
       "    }\n",
       "</style>\n",
       "<table border=\"1\" class=\"dataframe\">\n",
       "  <thead>\n",
       "    <tr style=\"text-align: right;\">\n",
       "      <th></th>\n",
       "      <th>caseobs_idx_in_data</th>\n",
       "    </tr>\n",
       "    <tr>\n",
       "      <th>caseobs_id</th>\n",
       "      <th></th>\n",
       "    </tr>\n",
       "  </thead>\n",
       "  <tbody>\n",
       "  </tbody>\n",
       "</table>\n",
       "</div>"
      ],
      "text/plain": [
       "Empty DataFrame\n",
       "Columns: [caseobs_idx_in_data]\n",
       "Index: []"
      ]
     },
     "execution_count": 52,
     "metadata": {},
     "output_type": "execute_result"
    }
   ],
   "source": [
    "fn_caseobs_Phi.df_caseobs_info"
   ]
  },
  {
   "cell_type": "code",
   "execution_count": 53,
   "id": "67499595",
   "metadata": {},
   "outputs": [],
   "source": [
    "fn_caseobs_Phi.ds_caseobs_data"
   ]
  },
  {
   "cell_type": "markdown",
   "id": "2dca9299",
   "metadata": {},
   "source": [
    "# Save Vocab"
   ]
  },
  {
   "cell_type": "code",
   "execution_count": 54,
   "id": "1224a15e",
   "metadata": {},
   "outputs": [
    {
     "data": {
      "text/plain": [
       "{'tkn': {'tid2tkn': {0: '[UNK]', 1: 'recnum', 2: 'recspan'},\n",
       "  'tkn2tid': {'[UNK]': 0, 'recnum': 1, 'recspan': 2}}}"
      ]
     },
     "execution_count": 54,
     "metadata": {},
     "output_type": "execute_result"
    }
   ],
   "source": [
    "CaseTknVocab = fn_caseobs_Phi.CaseTknVocab\n",
    "CaseTknVocab"
   ]
  },
  {
   "cell_type": "code",
   "execution_count": 55,
   "id": "c7bb5e52",
   "metadata": {},
   "outputs": [],
   "source": [
    "pd.DataFrame({CaseObsName: CaseTknVocab}).to_pickle(fn_caseobs_Phi.CaseObsFolder_vocab)"
   ]
  },
  {
   "cell_type": "code",
   "execution_count": null,
   "metadata": {},
   "outputs": [],
   "source": []
  }
 ],
 "metadata": {
  "kernelspec": {
   "display_name": "Python 3 (ipykernel)",
   "language": "python",
   "name": "python3"
  },
  "language_info": {
   "codemirror_mode": {
    "name": "ipython",
    "version": 3
   },
   "file_extension": ".py",
   "mimetype": "text/x-python",
   "name": "python",
   "nbconvert_exporter": "python",
   "pygments_lexer": "ipython3",
   "version": "3.11.7"
  },
  "toc-autonumbering": true
 },
 "nbformat": 4,
 "nbformat_minor": 5
}
