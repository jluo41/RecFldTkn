{
 "cells": [
  {
   "cell_type": "markdown",
   "id": "881d73c8-f12f-4a9b-a485-996a76289767",
   "metadata": {},
   "source": [
    "# Space"
   ]
  },
  {
   "cell_type": "code",
   "execution_count": null,
   "id": "3bfe226b",
   "metadata": {},
   "outputs": [],
   "source": [
    "import os\n",
    "import sys \n",
    "import logging\n",
    "import random\n",
    "import pandas as pd \n",
    "from pprint import pprint \n",
    "from IPython.display import display, HTML\n",
    "\n",
    "# WorkSpace\n",
    "KEY = 'WorkSpace'; WORKSPACE_PATH = os.getcwd().split(KEY)[0] + KEY; print(WORKSPACE_PATH)\n",
    "os.chdir(WORKSPACE_PATH)\n",
    "sys.path.append(WORKSPACE_PATH)\n",
    "\n",
    "# Pipeline Space\n",
    "from proj_space import SPACE\n",
    "SPACE['WORKSPACE_PATH'] = WORKSPACE_PATH\n",
    "sys.path.append(SPACE['CODE_FN'])\n",
    "pprint(SPACE)\n",
    "\n",
    "# Available Packages\n",
    "import argparse\n",
    "import datasets\n",
    "import pandas as pd\n",
    "from datetime import datetime \n",
    "\n",
    "from recfldtkn.ckpd_obs import Ckpd_ObservationS\n",
    "from recfldtkn.configfn import load_cohort_args\n",
    "from recfldtkn.loadtools import load_module_variables, update_args_to_list\n",
    "from recfldtkn.observer import get_RecObsName_to_RecObsInfo, CaseObserverTransformer\n",
    "\n",
    "logger = logging.getLogger(__name__)\n",
    "recfldtkn_config_path = os.path.join(SPACE['CODE_FN'], 'config_recfldtkn/')\n"
   ]
  },
  {
   "cell_type": "markdown",
   "id": "d218a53e",
   "metadata": {},
   "source": [
    "# [Part 1] Get a Caseset: Case Examples"
   ]
  },
  {
   "cell_type": "markdown",
   "metadata": {},
   "source": [
    "## [Step 1]"
   ]
  },
  {
   "cell_type": "code",
   "execution_count": null,
   "id": "7140db62",
   "metadata": {},
   "outputs": [],
   "source": [
    "from recfldtkn.loadtools import fetch_TriggerEvent_tools\n",
    "\n",
    "\n",
    "####################\n",
    "TriggerCaseMethod = 'CGM5MinEntry'\n",
    "####################\n",
    "\n",
    "Trigger_tools = fetch_TriggerEvent_tools(TriggerCaseMethod, SPACE)\n",
    "Trigger_tools "
   ]
  },
  {
   "cell_type": "code",
   "execution_count": null,
   "id": "b7aa3287",
   "metadata": {},
   "outputs": [],
   "source": [
    "##################################\n",
    "CaseSetName = TriggerCaseMethod\n",
    "case_id_columns = Trigger_tools['case_id_columns']\n",
    "special_columns = Trigger_tools['special_columns']\n",
    "##################################\n",
    "\n",
    "TriggerCasePath = os.path.join(SPACE['DATA_CaseSet'], f'{CaseSetName}.p')\n",
    "cohort_args = load_cohort_args(recfldtkn_config_path, SPACE)\n",
    "cohort_args['Ckpd_ObservationS'] = Ckpd_ObservationS\n",
    "print(cohort_args)\n",
    "print(TriggerCasePath)\n",
    "\n",
    "df_case = pd.read_pickle(TriggerCasePath) # (1000)\n",
    "df_case = df_case.sample(100, random_state=0).reset_index(drop=True)\n",
    "ds_case = datasets.Dataset.from_pandas(df_case)\n",
    "ds_case"
   ]
  },
  {
   "cell_type": "markdown",
   "id": "7a80d013",
   "metadata": {},
   "source": [
    "\n",
    "## [Step 2] RO: Record Observation & CasePhi\n"
   ]
  },
  {
   "cell_type": "code",
   "execution_count": null,
   "id": "3cad5623",
   "metadata": {},
   "outputs": [],
   "source": [
    "###########################\n",
    "ROName_List = ['CGM5Min-Bf24H-N2Cin1']\n",
    "name_CasePhi = '1TknIn5Mintid'\n",
    "###########################"
   ]
  },
  {
   "cell_type": "code",
   "execution_count": null,
   "id": "bb6339df",
   "metadata": {},
   "outputs": [],
   "source": [
    "from recfldtkn.obsname import convert_RONameList_to_COName\n",
    "\n",
    "CaseObsName = convert_RONameList_to_COName(ROName_List, name_CasePhi)\n",
    "print(CaseObsName)"
   ]
  },
  {
   "cell_type": "code",
   "execution_count": null,
   "id": "aa00899c",
   "metadata": {},
   "outputs": [],
   "source": [
    "# part of fetch_caseobs_Phi_tools\n",
    "CO_Folder = os.path.join(SPACE['DATA_CaseObs'], CaseObsName)\n",
    "if not os.path.exists(CO_Folder): os.makedirs(CO_Folder)\n",
    "print(CO_Folder)"
   ]
  },
  {
   "cell_type": "markdown",
   "id": "7478e21b",
   "metadata": {},
   "source": [
    "# [Part 2] Tools for ds_case_obs"
   ]
  },
  {
   "cell_type": "markdown",
   "id": "a56c2a76",
   "metadata": {},
   "source": [
    "## [Step 1] Prepare examples"
   ]
  },
  {
   "cell_type": "code",
   "execution_count": null,
   "id": "d341d32a",
   "metadata": {},
   "outputs": [],
   "source": [
    "case_examples = ds_case[:5]\n",
    "print(case_examples)"
   ]
  },
  {
   "cell_type": "code",
   "execution_count": null,
   "id": "1a140aa9",
   "metadata": {},
   "outputs": [],
   "source": [
    "length = len(case_examples[list(case_examples.keys())[0]])\n",
    "case_examples_list = [{k: v[i] for k, v in case_examples.items()} for i in range(length)]\n",
    "idx_to_examples = {i: case_examples_list[i] for i in range(length)}\n",
    "pprint(idx_to_examples, sort_dicts=False)"
   ]
  },
  {
   "cell_type": "code",
   "execution_count": null,
   "id": "f4515d69",
   "metadata": {},
   "outputs": [],
   "source": [
    "case_example = idx_to_examples[0]\n",
    "case_example"
   ]
  },
  {
   "cell_type": "markdown",
   "id": "899b14be",
   "metadata": {},
   "source": [
    "## [Step 2] get_caseobs_id"
   ]
  },
  {
   "cell_type": "code",
   "execution_count": null,
   "id": "e9c2b544",
   "metadata": {},
   "outputs": [],
   "source": [
    "import inspect\n",
    "#################################################\n",
    "def get_CO_id(case_example, CaseObsName):\n",
    "    PIDValue = case_example['PID']\n",
    "    ObsDTValue = case_example['ObsDT'].isoformat()\n",
    "    return f'{PIDValue}&{ObsDTValue}'\n",
    "\n",
    "get_CO_id.fn_string = inspect.getsource(get_CO_id)\n",
    "#################################################"
   ]
  },
  {
   "cell_type": "code",
   "execution_count": null,
   "id": "ac158e3b",
   "metadata": {},
   "outputs": [],
   "source": [
    "caseobs_id = get_CO_id(case_example, CaseObsName)\n",
    "caseobs_id # CO_id"
   ]
  },
  {
   "cell_type": "markdown",
   "id": "b2f1a72b",
   "metadata": {},
   "source": [
    "\n",
    "\n",
    "## [Step 3] RO List and CasePhi"
   ]
  },
  {
   "cell_type": "code",
   "execution_count": null,
   "id": "e4bea33f",
   "metadata": {},
   "outputs": [],
   "source": [
    "name_CasePhi "
   ]
  },
  {
   "cell_type": "code",
   "execution_count": null,
   "id": "206a0628",
   "metadata": {},
   "outputs": [],
   "source": [
    "## we need to prepare these five arguments.\n",
    "# CaseTkn     # <------- we have this.\n",
    "# cohort_args # <------- we have this.\n",
    "\n",
    "# RecObs_Name \n",
    "# rec_args\n",
    "# column_names # attribute name of R^recordname"
   ]
  },
  {
   "cell_type": "code",
   "execution_count": null,
   "id": "bad0cfc2",
   "metadata": {},
   "outputs": [],
   "source": [
    "######### RecObs_Name\n",
    "print(ROName_List) # RO_List\n",
    "# Let's focus on one RO\n",
    "ROName = ROName_List[0]\n",
    "print(ROName)"
   ]
  },
  {
   "cell_type": "code",
   "execution_count": null,
   "id": "60aca5da",
   "metadata": {},
   "outputs": [],
   "source": [
    "# RO = 'Rx-Bf2M-InsCate'\n",
    "# RO = 'Rx-Bf2M'\n",
    "# RO = 'P-Zip3DemoNume'"
   ]
  },
  {
   "cell_type": "markdown",
   "id": "3b5a5b71",
   "metadata": {},
   "source": [
    "## [Step4] RO Information"
   ]
  },
  {
   "cell_type": "code",
   "execution_count": null,
   "id": "e7ecf801",
   "metadata": {},
   "outputs": [],
   "source": [
    "# decompose RO to RecName, CkpdName, FldName (small phi)\n",
    "from recfldtkn.obsname import parse_RecObsName\n",
    "\n",
    "d = parse_RecObsName(ROName)\n",
    "RecName = d['RecName']\n",
    "CkpdName = d['CkpdName']\n",
    "FldName = d['FldName']\n",
    "print(RecName, CkpdName, FldName)"
   ]
  },
  {
   "cell_type": "code",
   "execution_count": null,
   "id": "21787138",
   "metadata": {},
   "outputs": [],
   "source": [
    "RecName"
   ]
  },
  {
   "cell_type": "code",
   "execution_count": null,
   "id": "8ab84af9",
   "metadata": {},
   "outputs": [],
   "source": [
    "# load all information about the R^record_name. \n",
    "from recfldtkn.configfn import load_record_args\n",
    "\n",
    "print(RecName)\n",
    "rec_args = load_record_args(RecName, cohort_args)\n",
    "[i for i in rec_args]"
   ]
  },
  {
   "cell_type": "markdown",
   "id": "8a6aa7f7",
   "metadata": {},
   "source": [
    "## [Step 5] Load ds_rec"
   ]
  },
  {
   "cell_type": "code",
   "execution_count": null,
   "id": "d64f4802",
   "metadata": {},
   "outputs": [],
   "source": [
    "from recfldtkn.loadtools import load_ds_rec_and_info\n",
    "\n",
    "ds_rec, ds_rec_info = load_ds_rec_and_info(RecName, cohort_args)\n",
    "# R^Rx\n",
    "# ROdf # Rx-Bf2M (i, t, Bf2M)"
   ]
  },
  {
   "cell_type": "code",
   "execution_count": null,
   "id": "4cb89109",
   "metadata": {},
   "outputs": [],
   "source": [
    "######### column_names (or we can all it attribute columns)\n",
    "column_names = ds_rec.column_names # attr_columns + phi_columns\n",
    "column_names\n",
    "# ROdf_ij --(Phi: RecNum)-> COdf_ij "
   ]
  },
  {
   "cell_type": "markdown",
   "id": "87d61f22",
   "metadata": {},
   "source": [
    "## [Step 6] get_selected_columns (attr + phi) from ds_rec"
   ]
  },
  {
   "cell_type": "code",
   "execution_count": null,
   "id": "bc889437",
   "metadata": {},
   "outputs": [],
   "source": [
    "column_names"
   ]
  },
  {
   "cell_type": "code",
   "execution_count": null,
   "id": "c402defc",
   "metadata": {},
   "outputs": [],
   "source": [
    "from recfldtkn.obsname import parse_RecObsName\n",
    "# RecName = RecObs_Name.split('-')[0]\n",
    "base_columns = [cohort_args['RootID'], rec_args['RecID'], rec_args['RecDT']]\n",
    "base_columns"
   ]
  },
  {
   "cell_type": "code",
   "execution_count": null,
   "id": "42937649",
   "metadata": {},
   "outputs": [],
   "source": [
    "RecName = parse_RecObsName(ROName)['RecName']\n",
    "FldName = parse_RecObsName(ROName)['FldName']\n",
    "RecFldTknName = RecName + '-' + FldName + 'Tkn'\n",
    "# rec_args['FldTknInfo'][RecFldTknName]\n",
    "RecFldTknName"
   ]
  },
  {
   "cell_type": "code",
   "execution_count": null,
   "id": "96122aa4",
   "metadata": {},
   "outputs": [],
   "source": [
    "###############################\n",
    "def get_selected_columns(ROName, column_names, cohort_args, rec_args, CaseTkn):\n",
    "    from recfldtkn.obsname import parse_RecObsName\n",
    "    RecName = parse_RecObsName(ROName)['RecName']\n",
    "    FldName = parse_RecObsName(ROName)['FldName']\n",
    "    base_columns = [cohort_args['RootID'], rec_args['RecID'], rec_args['RecDT']]\n",
    "    \n",
    "    FldName_cols = [i for i in column_names if FldName in i]\n",
    "    if len(FldName_cols) == 0: \n",
    "        parse_RecObsName(ROName)['FldName']\n",
    "        RecFldTknName = RecName + '-' + FldName + 'Tkn'\n",
    "        # rec_args['FldTknInfo'][RecFldTknName]\n",
    "        \n",
    "        val_cols = rec_args['FldTknInfo'][RecFldTknName]['value_cols']\n",
    "        final_cols = base_columns + val_cols\n",
    "    else:\n",
    "        final_cols = base_columns + FldName_cols\n",
    "    return final_cols\n",
    "\n",
    "get_selected_columns.fn_string = inspect.getsource(get_selected_columns)\n",
    "###############################"
   ]
  },
  {
   "cell_type": "code",
   "execution_count": null,
   "id": "d79b86cd",
   "metadata": {},
   "outputs": [],
   "source": [
    "# big question here\n",
    "# if small phi is not applied in the record level\n",
    "# how do we deploy the tools of small phi within this process?\n",
    "get_selected_columns(ROName, column_names, cohort_args, rec_args, name_CasePhi)"
   ]
  },
  {
   "cell_type": "code",
   "execution_count": null,
   "id": "bf587b85",
   "metadata": {},
   "outputs": [],
   "source": [
    "print(ROName_List)\n",
    "print(name_CasePhi)\n",
    "print(get_selected_columns)"
   ]
  },
  {
   "cell_type": "code",
   "execution_count": null,
   "id": "e26e9f62",
   "metadata": {},
   "outputs": [],
   "source": [
    "# RecObsName_to_RecObsInfo # RO_to_ROinfo\n",
    "\n",
    "from recfldtkn.observer import get_RecObsName_to_RecObsInfo\n",
    "\n",
    "record_to_ds_rec = {}        # set this to empty dictionary, then we will load data from disk\n",
    "record_to_ds_rec_info = {}   # set this to empty dictionary, then we will load data from disk\n",
    "ROName_to_ROInfo = get_RecObsName_to_RecObsInfo(ROName_List, \n",
    "                                                name_CasePhi, \n",
    "                                                get_selected_columns,\n",
    "                                                cohort_args, \n",
    "                                                cohort_args['Ckpd_ObservationS'], \n",
    "                                                record_to_ds_rec, \n",
    "                                                record_to_ds_rec_info)\n",
    "    \n",
    "ROName = ROName_List[0] # Rx-Bf2M  \n",
    "ROInfo = ROName_to_ROInfo[ROName] # RxInfo + R^Rx (with necessary columns) + Ckpd + FldTkn (phi)"
   ]
  },
  {
   "cell_type": "code",
   "execution_count": null,
   "id": "3e1f08ca",
   "metadata": {},
   "outputs": [],
   "source": [
    "[i for i in ROInfo]\n",
    "# pprint(ROInfo)"
   ]
  },
  {
   "cell_type": "code",
   "execution_count": null,
   "id": "1e859481",
   "metadata": {},
   "outputs": [],
   "source": [
    "ROInfo['ds_rec'] # get_selected_columns"
   ]
  },
  {
   "cell_type": "markdown",
   "id": "90366719",
   "metadata": {},
   "source": [
    "## [Step 7] get_CO_vocab"
   ]
  },
  {
   "cell_type": "code",
   "execution_count": null,
   "id": "2d978997",
   "metadata": {},
   "outputs": [],
   "source": [
    "def get_CO_vocab(RecObsName_to_RecObsInfo):\n",
    "    # phi_list\n",
    "    RecFldName_list = list(set([RecObsInfo['RecName'] + '-' +RecObsInfo['FldName'] \n",
    "                                for RecObsName, RecObsInfo in RecObsName_to_RecObsInfo.items()\n",
    "                                if RecObsInfo['FldName'] is not None ]\n",
    "                                ))\n",
    "    \n",
    "    # print('RecFldName_list----->', RecFldName_list)\n",
    "    # for current version: for any Phi, we only process one or zero phi. \n",
    "    assert len(RecFldName_list) <= 1\n",
    "\n",
    "    ############################ tkn \n",
    "    RecObsName = [i for i in RecObsName_to_RecObsInfo][0]\n",
    "    RecObsInfo = RecObsName_to_RecObsInfo[RecObsName]\n",
    "    idx2tkn = RecObsInfo['FldIdx2Tkn'] + ['NoObs']   \n",
    "    tid2tkn = {tid: tkn for tid, tkn in enumerate(idx2tkn)}\n",
    "    tkn2tid = {tkn: tid for tid, tkn in tid2tkn.items()}\n",
    "    CaseTknVocab = {}\n",
    "    CaseTknVocab['tid'] = {'tid2tkn': tid2tkn, 'tkn2tid': tkn2tid}\n",
    "    # CaseTknVocab['wgt'] = {} # we don't use wgt in this version\n",
    "    ############################\n",
    "    \n",
    "    return CaseTknVocab\n",
    "\n",
    "get_CO_vocab.fn_string = inspect.getsource(get_CO_vocab)"
   ]
  },
  {
   "cell_type": "code",
   "execution_count": null,
   "id": "5f0067d5",
   "metadata": {},
   "outputs": [],
   "source": [
    "CO_vocab = get_CO_vocab(ROName_to_ROInfo)\n",
    "pprint(CO_vocab, sort_dicts=False)"
   ]
  },
  {
   "cell_type": "markdown",
   "id": "4701e452",
   "metadata": {},
   "source": [
    "\n",
    "## [Step 8] Fetch ds_rec"
   ]
  },
  {
   "cell_type": "code",
   "execution_count": null,
   "id": "4666ba8a",
   "metadata": {},
   "outputs": [],
   "source": [
    "case_example = idx_to_examples[4]\n",
    "case_example"
   ]
  },
  {
   "cell_type": "code",
   "execution_count": null,
   "id": "87d8d8f3",
   "metadata": {},
   "outputs": [],
   "source": [
    "ROName"
   ]
  },
  {
   "cell_type": "code",
   "execution_count": null,
   "id": "e8144f36",
   "metadata": {},
   "outputs": [],
   "source": [
    "pprint(idx_to_examples, sort_dicts=False)"
   ]
  },
  {
   "cell_type": "code",
   "execution_count": null,
   "id": "503bbbae",
   "metadata": {},
   "outputs": [],
   "source": [
    "for ROName, ROInfo in ROName_to_ROInfo.items():\n",
    "    print(ROName, ':', [i for i in ROInfo])"
   ]
  },
  {
   "cell_type": "code",
   "execution_count": null,
   "id": "8733c8d5",
   "metadata": {},
   "outputs": [],
   "source": [
    "# RO_to_ROdf: RecObsName_to_RecObsDS\n",
    "from recfldtkn.observer import CaseObserverTransformer\n",
    "\n",
    "get_Record_P = CaseObserverTransformer.get_Record_P\n",
    "RecName_to_REC_P = get_Record_P(idx_to_examples, ROName_to_ROInfo)\n",
    "for RecName, REC_P in RecName_to_REC_P.items():\n",
    "    print(f'============ {RecName} ============')\n",
    "    pprint(REC_P)"
   ]
  },
  {
   "cell_type": "markdown",
   "id": "747bb7a8",
   "metadata": {},
   "source": [
    "## [Step 9] Fetch ROdf: $R_i^{recname}$"
   ]
  },
  {
   "cell_type": "code",
   "execution_count": null,
   "id": "7ba386ac",
   "metadata": {},
   "outputs": [],
   "source": [
    "get_idx_to_RecObsName_to_RecObsDS = CaseObserverTransformer.get_idx_to_RecObsName_to_RecObsDS\n",
    "idx_to_ROName_to_ROds = get_idx_to_RecObsName_to_RecObsDS(idx_to_examples, ROName_to_ROInfo, RecName_to_REC_P)\n",
    "\n",
    "for idx, case in idx_to_examples.items():\n",
    "    print('\\n====================')\n",
    "    print('idx:', idx)\n",
    "    print('case:', case)\n",
    "    print('ROdf:', idx_to_ROName_to_ROds[idx]) # R_i^{RecNum, Ckpd}\n",
    "    print('====================')"
   ]
  },
  {
   "cell_type": "code",
   "execution_count": null,
   "id": "c643c436",
   "metadata": {},
   "outputs": [],
   "source": [
    "[i for i in ROName_to_ROInfo]"
   ]
  },
  {
   "cell_type": "code",
   "execution_count": null,
   "id": "bd125aef",
   "metadata": {},
   "outputs": [],
   "source": [
    "idx = 1\n",
    "case_example = idx_to_examples[idx]\n",
    "print('case_example:', case_example)\n",
    "ROName_to_ROds = idx_to_ROName_to_ROds[idx] # RO_to_ROdf # RO_ij\n",
    "print('RO_to_ROdf (RO_ij):', ROName_to_ROds)\n",
    "print([i for i in ROName_to_ROds])"
   ]
  },
  {
   "cell_type": "markdown",
   "id": "c0576715",
   "metadata": {},
   "source": [
    "# [Step 10]: Develop $\\Phi$. "
   ]
  },
  {
   "cell_type": "code",
   "execution_count": null,
   "id": "8662f8f0",
   "metadata": {},
   "outputs": [],
   "source": [
    "ObsDTValue = case_example['ObsDT'] \n",
    "ObsDTValue"
   ]
  },
  {
   "cell_type": "code",
   "execution_count": null,
   "id": "3e92c549",
   "metadata": {},
   "outputs": [],
   "source": [
    "ROName_to_ROds"
   ]
  },
  {
   "cell_type": "code",
   "execution_count": null,
   "id": "c4998e20",
   "metadata": {},
   "outputs": [],
   "source": [
    "assert len(ROName_to_ROds) == 1 "
   ]
  },
  {
   "cell_type": "code",
   "execution_count": null,
   "id": "0b7b42f1",
   "metadata": {},
   "outputs": [],
   "source": [
    "RecObsName = [i for i in ROName_to_ROds][0] # RO\n",
    "RecObsName\n"
   ]
  },
  {
   "cell_type": "code",
   "execution_count": null,
   "id": "d33d661d",
   "metadata": {},
   "outputs": [],
   "source": [
    "RecObsDS   = ROName_to_ROds[RecObsName]\n",
    "RecObsDS"
   ]
  },
  {
   "cell_type": "code",
   "execution_count": null,
   "id": "e9c4df78",
   "metadata": {},
   "outputs": [],
   "source": [
    "RecObsInfo = ROName_to_ROInfo[RecObsName] \n",
    "RecObsInfo"
   ]
  },
  {
   "cell_type": "code",
   "execution_count": null,
   "id": "ba677d69",
   "metadata": {},
   "outputs": [],
   "source": [
    "RecDT = RecObsInfo['rec_args']['RecDT'] \n",
    "RecDT"
   ]
  },
  {
   "cell_type": "code",
   "execution_count": null,
   "id": "5eafbfc9",
   "metadata": {},
   "outputs": [],
   "source": [
    "CkpdInfo = RecObsInfo['CkpdInfo']\n",
    "CkpdInfo"
   ]
  },
  {
   "cell_type": "code",
   "execution_count": null,
   "id": "c4724e0e",
   "metadata": {},
   "outputs": [],
   "source": [
    "StartIdx5Min = CkpdInfo['StartIdx5Min']\n",
    "StartIdx5Min"
   ]
  },
  {
   "cell_type": "code",
   "execution_count": null,
   "id": "ce8368a1",
   "metadata": {},
   "outputs": [],
   "source": [
    "RO_ds = RecObsDS\n",
    "RO_ds"
   ]
  },
  {
   "cell_type": "code",
   "execution_count": null,
   "id": "932d5995",
   "metadata": {},
   "outputs": [],
   "source": [
    "df = RO_ds.to_pandas()\n",
    "df"
   ]
  },
  {
   "cell_type": "code",
   "execution_count": null,
   "id": "39e22bc7",
   "metadata": {},
   "outputs": [],
   "source": [
    "df[RecDT]"
   ]
  },
  {
   "cell_type": "code",
   "execution_count": null,
   "id": "5ee8bd27",
   "metadata": {},
   "outputs": [],
   "source": [
    "ObsDTValue"
   ]
  },
  {
   "cell_type": "code",
   "execution_count": null,
   "id": "94222d58",
   "metadata": {},
   "outputs": [],
   "source": [
    "case_example"
   ]
  },
  {
   "cell_type": "code",
   "execution_count": null,
   "id": "ca204935",
   "metadata": {},
   "outputs": [],
   "source": [
    "df['5MinInCP'] = ((df[RecDT] - ObsDTValue).dt.total_seconds() / (60 * 5)).astype(int)\n",
    "df"
   ]
  },
  {
   "cell_type": "code",
   "execution_count": null,
   "id": "389b1544",
   "metadata": {},
   "outputs": [],
   "source": [
    "EndIdx5Min = CkpdInfo['EndIdx5Min']\n",
    "new_index = range(StartIdx5Min, EndIdx5Min + 1)  # Include 24\n",
    "new_index"
   ]
  },
  {
   "cell_type": "code",
   "execution_count": null,
   "id": "5750517f",
   "metadata": {},
   "outputs": [],
   "source": [
    "desired_range_df = pd.DataFrame({'5MinInCP': new_index})\n",
    "desired_range_df"
   ]
  },
  {
   "cell_type": "code",
   "execution_count": null,
   "id": "662f5e1f",
   "metadata": {},
   "outputs": [],
   "source": [
    "df = pd.merge(df, desired_range_df, on='5MinInCP', how='right')\n",
    "df"
   ]
  },
  {
   "cell_type": "code",
   "execution_count": null,
   "id": "d5c16864",
   "metadata": {},
   "outputs": [],
   "source": [
    "df = df.fillna(0)\n",
    "df"
   ]
  },
  {
   "cell_type": "code",
   "execution_count": null,
   "id": "12101f0b",
   "metadata": {},
   "outputs": [],
   "source": [
    "columns = ['tknidx', '5MinInCP']\n",
    "df = df.rename(columns = {i: i.split('Tkn_')[-1] for i in df.columns if 'Tkn_' in i})\n",
    "df = df[columns]\n",
    "df"
   ]
  },
  {
   "cell_type": "code",
   "execution_count": null,
   "id": "48431cab",
   "metadata": {},
   "outputs": [],
   "source": [
    "EXPLODE_COLS = ['tknidx']  # 'TknInFld' included as it's okay even if not used in the model\n",
    "EXPLODE_COLS"
   ]
  },
  {
   "cell_type": "code",
   "execution_count": null,
   "id": "7553f942",
   "metadata": {},
   "outputs": [],
   "source": [
    "df = df.apply(lambda col: col.explode() if col.name in EXPLODE_COLS else col).reset_index(drop=True)\n",
    "df"
   ]
  },
  {
   "cell_type": "code",
   "execution_count": null,
   "id": "4caeb1eb",
   "metadata": {},
   "outputs": [],
   "source": [
    "output = df.to_dict(orient='list')\n",
    "output"
   ]
  },
  {
   "cell_type": "code",
   "execution_count": null,
   "id": "2513651b",
   "metadata": {},
   "outputs": [],
   "source": [
    "CO = {'tid': output['tknidx']}"
   ]
  },
  {
   "cell_type": "code",
   "execution_count": null,
   "id": "0f0c818e",
   "metadata": {},
   "outputs": [],
   "source": [
    "import inspect\n",
    "\n",
    "##################################\n",
    "def fn_CasePhi(case_example, ROName_to_ROds, ROName_to_ROInfo, CO_vocab):\n",
    "    # input: RecObsName_to_RecObsDS, RecObsName_to_RecObsInfo\n",
    "    # output: CaseObservation\n",
    "\n",
    "    ObsDTValue = case_example['ObsDT']   # T_ij value\n",
    "    assert len(ROName_to_ROds) == 1 # assert that RecObsDS has at least one record   \n",
    "    RecObsName = [i for i in ROName_to_ROds][0] # RO\n",
    "    RecObsDS   = ROName_to_ROds[RecObsName]  # RO_ds(RecDT is not caseDT)\n",
    "    RecObsInfo = ROName_to_ROInfo[RecObsName] # RecObsInfo\n",
    "    RecDT = RecObsInfo['rec_args']['RecDT'] \n",
    "\n",
    "    CkpdInfo = RecObsInfo['CkpdInfo']  # Ckpd\n",
    "    StartIdx5Min = CkpdInfo['StartIdx5Min'] \n",
    "    EndIdx5Min = CkpdInfo['EndIdx5Min']\n",
    "        \n",
    "    # 1. get a subset of a Record Type: e.g., CGM5Min_Bf24H, with TknIdx.\n",
    "    RO_ds = RecObsDS   \n",
    "    df = RO_ds.to_pandas()\n",
    "    # some requirements for df\n",
    "    # each row is a 5Min, and each tknidx is just a list with one token.\n",
    "            \n",
    "    # 2. get the 5MinLoc, generate some time_location features (optional)\n",
    "    df['5MinInCP'] = ((df[RecDT] - ObsDTValue).dt.total_seconds() / (60 * 5)).astype(int)\n",
    "\n",
    "    # 3. filling with the empty time_location to get the full range of cgm. \n",
    "    new_index = range(StartIdx5Min, EndIdx5Min + 1)  # Include 24\n",
    "    desired_range_df = pd.DataFrame({'5MinInCP': new_index})\n",
    "    df = pd.merge(df, desired_range_df, on='5MinInCP', how='right')\n",
    "    df = df.fillna(0)\n",
    "\n",
    "    # 4. select the columns. \n",
    "    columns = ['tknidx', '5MinInCP']\n",
    "    df = df.rename(columns = {i: i.split('Tkn_')[-1] for i in df.columns if 'Tkn_' in i})\n",
    "    df = df[columns]\n",
    "\n",
    "    # 5. Explode list columns if needed\n",
    "    EXPLODE_COLS = ['tknidx']  # 'TknInFld' included as it's okay even if not used in the model\n",
    "    df = df.apply(lambda col: col.explode() if col.name in EXPLODE_COLS else col).reset_index(drop=True)\n",
    "    output = df.to_dict(orient='list')\n",
    "\n",
    "    CO = {'tid': output['tknidx']}\n",
    "    # CaseObservation = {'tid': output['tknidx'],  '5MinInCP': output['5MinInCP']} # <-- in the future\n",
    "    return CO\n",
    "##################################\n",
    "\n",
    "fn_CasePhi.fn_string = inspect.getsource(fn_CasePhi)"
   ]
  },
  {
   "cell_type": "code",
   "execution_count": null,
   "id": "a3602605",
   "metadata": {},
   "outputs": [],
   "source": [
    "ROName_to_ROds"
   ]
  },
  {
   "cell_type": "code",
   "execution_count": null,
   "id": "c921b74d",
   "metadata": {},
   "outputs": [],
   "source": [
    "fn_CasePhi(case_example, ROName_to_ROds, ROName_to_ROInfo, CO_vocab)"
   ]
  },
  {
   "cell_type": "code",
   "execution_count": null,
   "id": "29a87e36",
   "metadata": {},
   "outputs": [],
   "source": [
    "CO_vocab"
   ]
  },
  {
   "cell_type": "markdown",
   "id": "6d098f89",
   "metadata": {},
   "source": [
    "## Save Files"
   ]
  },
  {
   "cell_type": "code",
   "execution_count": null,
   "id": "85524f5f",
   "metadata": {},
   "outputs": [],
   "source": [
    "from recfldtkn.loadtools import convert_variables_to_pystirng, load_module_variables\n",
    "\n",
    "prefix = ['import pandas as pd', 'import numpy as np']\n",
    "fn_variables = [get_CO_id, get_selected_columns, get_CO_vocab, fn_CasePhi]\n",
    "pycode = convert_variables_to_pystirng(fn_variables = fn_variables, prefix = prefix)\n",
    "pypath = os.path.join(SPACE['CODE_FN'], 'fn_casephi', f'phi_{name_CasePhi}.py')\n",
    "with open(pypath, 'w') as file: file.write(pycode)\n",
    "\n",
    "# Create a HTML link and display it\n",
    "full_path = os.path.join(WORKSPACE_PATH, pypath)\n",
    "display(HTML(f'{pypath} <a href=\"{full_path}\" target=\"_blank\">Open File</a>'))"
   ]
  },
  {
   "cell_type": "markdown",
   "id": "d8ac3fc7",
   "metadata": {},
   "source": [
    "# Application"
   ]
  },
  {
   "cell_type": "code",
   "execution_count": null,
   "id": "8cf13931",
   "metadata": {},
   "outputs": [],
   "source": [
    "CaseObsName"
   ]
  },
  {
   "cell_type": "code",
   "execution_count": null,
   "id": "a0747747",
   "metadata": {},
   "outputs": [],
   "source": [
    "from recfldtkn.observer import get_CaseObsInfo_for_a_CaseObsName\n",
    "\n",
    "CaseObsInfo = get_CaseObsInfo_for_a_CaseObsName(CaseObsName,\n",
    "                                                SPACE, \n",
    "                                                cohort_args, \n",
    "                                                record_to_ds_rec = {}, \n",
    "                                                record_to_ds_rec_info = {})\n",
    "[i for i in CaseObsInfo]"
   ]
  },
  {
   "cell_type": "code",
   "execution_count": null,
   "id": "a4810867",
   "metadata": {},
   "outputs": [],
   "source": [
    "import random \n",
    "from pprint import pprint\n",
    "from datetime import datetime \n",
    "from recfldtkn.observer import get_RecObsName_to_RecObsInfo, CaseObserverTransformer\n",
    "\n",
    "\n",
    "ro_to_ROName = {} # leave it empty for now \n",
    "ROName_to_ROInfo = CaseObsInfo['ROName_to_ROInfo']\n",
    "name_CasePhi = CaseObsInfo['name_CasePhi']\n",
    "fn_CasePhi = CaseObsInfo['fn_CasePhi']\n",
    "CO_vocab = CaseObsInfo['CO_vocab']\n",
    "get_CO_id = CaseObsInfo['get_CO_id']\n",
    "CO_Folder = CaseObsInfo['CO_Folder']\n",
    "df_case = None \n",
    "use_CO_from_disk = False\n",
    "batch_size = CaseObsInfo.get('batch_size', 1000)\n",
    "\n",
    "fn_caseobs_Phi = CaseObserverTransformer(ro_to_ROName,\n",
    "                                         ROName_to_ROInfo, \n",
    "                                         name_CasePhi, \n",
    "                                         fn_CasePhi, \n",
    "                                         CO_vocab, \n",
    "                                         get_CO_id,\n",
    "                                         CO_Folder, \n",
    "                                         df_case,\n",
    "                                         use_CO_from_disk)"
   ]
  },
  {
   "cell_type": "markdown",
   "id": "79eb01dd",
   "metadata": {},
   "source": [
    "# Check Cache Functions"
   ]
  },
  {
   "cell_type": "code",
   "execution_count": null,
   "id": "28003f06",
   "metadata": {},
   "outputs": [],
   "source": [
    "fn_caseobs_Phi.new_COs"
   ]
  },
  {
   "cell_type": "code",
   "execution_count": null,
   "id": "bd6e55d9",
   "metadata": {},
   "outputs": [],
   "source": [
    "start = datetime.now()\n",
    "ds_casetkn = ds_case.map(fn_caseobs_Phi, \n",
    "                         batched = True, \n",
    "                         batch_size= batch_size, \n",
    "                         load_from_cache_file = False, \n",
    "                         new_fingerprint = CaseObsName)\n",
    "end = datetime.now()\n",
    "print('Elipse Time: ', end - start)\n",
    "print(ds_casetkn)"
   ]
  },
  {
   "cell_type": "code",
   "execution_count": null,
   "id": "1765eb57",
   "metadata": {},
   "outputs": [],
   "source": [
    "print(len(fn_caseobs_Phi.new_COs))"
   ]
  },
  {
   "cell_type": "code",
   "execution_count": null,
   "id": "de1ef678",
   "metadata": {},
   "outputs": [],
   "source": [
    "start = datetime.now()\n",
    "ds_casetkn = ds_case.map(fn_caseobs_Phi, \n",
    "                         batched = True, \n",
    "                         batch_size= batch_size, \n",
    "                         load_from_cache_file = False, \n",
    "                         new_fingerprint = CaseObsName)\n",
    "end = datetime.now()\n",
    "print('Elipse Time: ', end - start)\n",
    "print(ds_casetkn)"
   ]
  },
  {
   "cell_type": "code",
   "execution_count": null,
   "id": "9e6ec3e9",
   "metadata": {},
   "outputs": [],
   "source": [
    "print(CaseObsName)\n",
    "random_int = random.randint(0, len(ds_casetkn))\n",
    "print(random_int)\n",
    "pprint(ds_casetkn[random_int])\n",
    "print(CO_vocab)"
   ]
  },
  {
   "cell_type": "code",
   "execution_count": null,
   "id": "739bb79c",
   "metadata": {},
   "outputs": [],
   "source": [
    "ds_casetkn[4]"
   ]
  },
  {
   "cell_type": "markdown",
   "id": "dba9f4c7",
   "metadata": {},
   "source": [
    "## Save"
   ]
  },
  {
   "cell_type": "code",
   "execution_count": null,
   "id": "6b4a3151",
   "metadata": {},
   "outputs": [],
   "source": [
    "fn_caseobs_Phi.df_CO_info"
   ]
  },
  {
   "cell_type": "code",
   "execution_count": null,
   "id": "f9a305c3",
   "metadata": {},
   "outputs": [],
   "source": [
    "CO_Folder_data = fn_caseobs_Phi.CO_Folder_data \n",
    "CO_Folder_data"
   ]
  },
  {
   "cell_type": "code",
   "execution_count": null,
   "id": "a4b1c8a9",
   "metadata": {},
   "outputs": [],
   "source": [
    "fn_caseobs_Phi.save_new_COs_to_disk(CO_Folder_data)"
   ]
  },
  {
   "cell_type": "code",
   "execution_count": null,
   "id": "67499595",
   "metadata": {},
   "outputs": [],
   "source": [
    "fn_caseobs_Phi.df_CO_info"
   ]
  },
  {
   "cell_type": "code",
   "execution_count": null,
   "id": "b021c636",
   "metadata": {},
   "outputs": [],
   "source": [
    "fn_caseobs_Phi.ds_CO_data"
   ]
  },
  {
   "cell_type": "markdown",
   "id": "2dca9299",
   "metadata": {},
   "source": [
    "# Save Vocab"
   ]
  },
  {
   "cell_type": "code",
   "execution_count": null,
   "id": "1224a15e",
   "metadata": {},
   "outputs": [],
   "source": [
    "CO_vocab = fn_caseobs_Phi.CO_vocab\n",
    "CO_vocab"
   ]
  },
  {
   "cell_type": "code",
   "execution_count": null,
   "id": "c7bb5e52",
   "metadata": {},
   "outputs": [],
   "source": [
    "CO_Folder_vocab = fn_caseobs_Phi.CO_Folder_vocab\n",
    "CO_Folder_vocab"
   ]
  },
  {
   "cell_type": "code",
   "execution_count": null,
   "metadata": {},
   "outputs": [],
   "source": [
    "df_Vocab = pd.DataFrame({CaseObsName: CO_vocab})\n",
    "df_Vocab.to_pickle(CO_Folder_vocab)\n",
    "df_Vocab"
   ]
  },
  {
   "cell_type": "code",
   "execution_count": null,
   "id": "2792e678",
   "metadata": {},
   "outputs": [],
   "source": []
  },
  {
   "cell_type": "code",
   "execution_count": null,
   "id": "c1a781db",
   "metadata": {},
   "outputs": [],
   "source": []
  }
 ],
 "metadata": {
  "kernelspec": {
   "display_name": "Python 3 (ipykernel)",
   "language": "python",
   "name": "python3"
  },
  "language_info": {
   "codemirror_mode": {
    "name": "ipython",
    "version": 3
   },
   "file_extension": ".py",
   "mimetype": "text/x-python",
   "name": "python",
   "nbconvert_exporter": "python",
   "pygments_lexer": "ipython3",
   "version": "3.8.8"
  },
  "toc-autonumbering": true
 },
 "nbformat": 4,
 "nbformat_minor": 5
}
