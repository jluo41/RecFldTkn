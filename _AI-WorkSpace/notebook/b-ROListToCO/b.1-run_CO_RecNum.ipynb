{
 "cells": [
  {
   "cell_type": "markdown",
   "id": "881d73c8-f12f-4a9b-a485-996a76289767",
   "metadata": {},
   "source": [
    "# Space"
   ]
  },
  {
   "cell_type": "code",
   "execution_count": 1,
   "id": "3bfe226b",
   "metadata": {},
   "outputs": [
    {
     "name": "stdout",
     "output_type": "stream",
     "text": [
      "/Users/floydluo/Library/CloudStorage/OneDrive-DRFIRST.COM,INC/Documents - DrFirst-JHU Collaboration Center/DrFirst-Project/2024-DrFirst-v4-SPACE/_DrFirst-AI-EgmPred-WorkSpace\n"
     ]
    }
   ],
   "source": [
    "import os\n",
    "import sys \n",
    "import logging\n",
    "import random\n",
    "import pandas as pd \n",
    "from pprint import pprint \n",
    "from IPython.display import display, HTML\n",
    "\n",
    "# WorkSpace\n",
    "KEY = 'WorkSpace'; WORKSPACE_PATH = os.getcwd().split(KEY)[0] + KEY; print(WORKSPACE_PATH)\n",
    "os.chdir(WORKSPACE_PATH)\n",
    "sys.path.append(WORKSPACE_PATH)\n",
    "\n",
    "# Pipeline Space\n",
    "from proj_space import SPACE\n",
    "SPACE['WORKSPACE_PATH'] = WORKSPACE_PATH\n",
    "sys.path.append(SPACE['CODE_FN'])\n",
    "# pprint(SPACE)\n",
    "\n",
    "# Available Packages\n",
    "import argparse\n",
    "import datasets\n",
    "import pandas as pd\n",
    "from datetime import datetime \n",
    "\n",
    "\n",
    "from recfldtkn.configfn import load_cohort_args\n",
    "from recfldtkn.loadtools import load_module_variables, update_args_to_list\n",
    "from recfldtkn.observer import get_RecObsName_to_RecObsInfo, CaseObserverTransformer\n",
    "from config_observer.CKPD import ckpd_to_CkpdObsConfig\n",
    "\n",
    "logger = logging.getLogger(__name__)\n",
    "recfldtkn_config_path = os.path.join(SPACE['CODE_FN'], 'config_recfldtkn/')\n"
   ]
  },
  {
   "cell_type": "markdown",
   "id": "d218a53e",
   "metadata": {},
   "source": [
    "# [Part 1] Get a Caseset: Case Examples"
   ]
  },
  {
   "cell_type": "markdown",
   "id": "56d62749",
   "metadata": {},
   "source": [
    "## [Step 1]"
   ]
  },
  {
   "cell_type": "code",
   "execution_count": 2,
   "id": "7140db62",
   "metadata": {},
   "outputs": [
    {
     "data": {
      "text/plain": [
       "{'TriggerRecName': 'Rx',\n",
       " 'case_id_columns': ['PID', 'ObsDT', 'PInvID', 'RxID'],\n",
       " 'special_columns': ['PID', 'DT', 'PInvID', 'RxID', 'drug_name'],\n",
       " 'convert_TriggerEvent_to_Caseset': <function TrulicityRx.convert_TriggerEvent_to_Caseset(ds_rec, case_id_columns, special_columns, base_config)>}"
      ]
     },
     "execution_count": 2,
     "metadata": {},
     "output_type": "execute_result"
    }
   ],
   "source": [
    "from recfldtkn.loadtools import fetch_TriggerEvent_tools\n",
    "\n",
    "####################\n",
    "TriggerCaseMethod = 'TrulicityRx'\n",
    "####################\n",
    "\n",
    "Trigger_tools = fetch_TriggerEvent_tools(TriggerCaseMethod, SPACE)\n",
    "Trigger_tools "
   ]
  },
  {
   "cell_type": "code",
   "execution_count": 3,
   "id": "b7aa3287",
   "metadata": {},
   "outputs": [
    {
     "name": "stdout",
     "output_type": "stream",
     "text": [
      "{'CohortInfo': {'RawData2023Nov_Trulicity': {'cohort_label': 1, 'cohort_name': 'RawData2023Nov_Trulicity', 'FolderPath': '../_Data/0-Data_Raw/2023_11_30_30days_Trulicity'}}, 'RawRootID': 'patient_id_encoded', 'RootID': 'PID', 'RecName': 'PRawRecNum', 'recattr_pyfolder': '../pipeline/fn_recattr/', 'fldtkn_pyfolder': '../pipeline/fn_fldtkn/', 'humanrec_pyfolder': '../pipeline/fn_humanrec/', 'inference_pyfolder': '../pipeline/fn_inference/', 'trigger_pyfolder': '../pipeline/fn_trigger/', 'RecName_Sequence': ['P', 'PInv', 'Rx', 'EgmAuthen', 'EgmCallPharm', 'EgmClick', 'EgmCopay', 'EgmEdu', 'EgmRmd'], 'RecName_to_PrtRecName': {'P': 'None', 'PInv': 'P', 'Rx': 'PInv', 'EgmAuthen': 'PInv', 'EgmCallPharm': 'PInv', 'EgmClick': 'PInv', 'EgmCopay': 'Rx', 'EgmEdu': 'Rx', 'EgmRmd': 'Rx'}, 'RecName_to_RFT_GROUP_SIZE': {'Default': 5000}, 'RecName_to_RFT_idx_group_size': {'Default': 10000}, 'RecName_to_RFT_usebucket': {'Default': False}, 'RootIDLength': 6, 'recfldtkn_config_path': '../pipeline/config_recfldtkn/', 'SPACE': {'DATA_RAW': '../_Data/0-Data_Raw', 'DATA_RFT': '../_Data/1-Data_RFT', 'DATA_EXTERNAL': '../external', 'DATA_CaseObs': '../_Data/2-Data_CaseObs', 'DATA_CaseFeat': '../_Data/3-Data_CaseFeat', 'DATA_CaseSet': '../_Data/4-Data_CaseSet', 'CODE_FN': '../pipeline', 'CODE_RFT': '../pipeline', 'DATA_TASK': '_data', 'MODEL_TASK': '../_Model', 'TaskName': 'EduRxPred', 'WORKSPACE_PATH': '/Users/floydluo/Library/CloudStorage/OneDrive-DRFIRST.COM,INC/Documents - DrFirst-JHU Collaboration Center/DrFirst-Project/2024-DrFirst-v4-SPACE/_DrFirst-AI-EgmPred-WorkSpace'}, 'pypath': '../pipeline/fn_humanrec/humanrec.py', 'ckpd_to_CkpdObsConfig': {'ObsPnt': {'DistStartToPredDT': -0.01, 'DistEndToPredDT': 0.01, 'TimeUnit': 'min', 'StartIdx5Min': 0, 'EndIdx5Min': 0}, 'Bf24H': {'DistStartToPredDT': -24, 'DistEndToPredDT': 0.01, 'TimeUnit': 'h', 'StartIdx5Min': -288, 'EndIdx5Min': 0}, 'Bf1M': {'DistStartToPredDT': -720, 'DistEndToPredDT': 0.01, 'TimeUnit': 'h', 'StartIdx5Min': -8640, 'EndIdx5Min': 0}, 'Bf1Y': {'DistStartToPredDT': -365, 'DistEndToPredDT': -1e-06, 'TimeUnit': 'D', 'StartIdx5Min': -105120, 'EndIdx5Min': -1}, 'Bf1YIn': {'DistStartToPredDT': -365, 'DistEndToPredDT': 1e-06, 'TimeUnit': 'D', 'StartIdx5Min': -105120, 'EndIdx5Min': 1}, 'Bf10Y': {'DistStartToPredDT': -3650, 'DistEndToPredDT': -1e-06, 'TimeUnit': 'D', 'StartIdx5Min': -1051200, 'EndIdx5Min': 1}, 'Af2H': {'DistStartToPredDT': 1, 'DistEndToPredDT': 121, 'TimeUnit': 'min', 'StartIdx5Min': 1, 'EndIdx5Min': 24}, 'Af1W': {'DistStartToPredDT': 0.0001, 'DistEndToPredDT': 7, 'TimeUnit': 'D', 'StartIdx5Min': 1, 'EndIdx5Min': 2016}, 'Af1Wlft': {'DistStartToPredDT': -0.0001, 'DistEndToPredDT': 7, 'TimeUnit': 'D', 'StartIdx5Min': 1, 'EndIdx5Min': 2016}, 'Af1Y': {'DistStartToPredDT': 0.0001, 'DistEndToPredDT': 365, 'TimeUnit': 'D', 'StartIdx5Min': 1, 'EndIdx5Min': 105120}, 'PntAf1Y2M': {'DistStartToPredDT': 305, 'DistEndToPredDT': 425, 'TimeUnit': 'D', 'StartIdx5Min': 87840, 'EndIdx5Min': 122400}, 'PntAf1Y3M': {'DistStartToPredDT': 275, 'DistEndToPredDT': 455, 'TimeUnit': 'D', 'StartIdx5Min': 79200, 'EndIdx5Min': 131040}}, 'case_id_columns': ['PID', 'ObsDT', 'PInvID', 'RxID'], 'ObsDTName': 'ObsDT', 'PID_ObsDT_columns': ['PID', 'ObsDT']}\n",
      "../_Data/4-Data_CaseSet/TrulicityRx.p\n"
     ]
    },
    {
     "data": {
      "text/plain": [
       "Dataset({\n",
       "    features: ['PID', 'ObsDT', 'PInvID', 'RxID', 'DT', 'drug_name'],\n",
       "    num_rows: 1000\n",
       "})"
      ]
     },
     "execution_count": 3,
     "metadata": {},
     "output_type": "execute_result"
    }
   ],
   "source": [
    "##################################\n",
    "CaseSetName = TriggerCaseMethod\n",
    "case_id_columns = Trigger_tools['case_id_columns']\n",
    "special_columns = Trigger_tools['special_columns']\n",
    "##################################\n",
    "\n",
    "TriggerCasePath = os.path.join(SPACE['DATA_CaseSet'], f'{CaseSetName}.p')\n",
    "cohort_args = load_cohort_args(recfldtkn_config_path, SPACE)\n",
    "\n",
    "cohort_args['ckpd_to_CkpdObsConfig'] = ckpd_to_CkpdObsConfig\n",
    "cohort_args['case_id_columns'] = case_id_columns\n",
    "cohort_args['ObsDTName'] = 'ObsDT'\n",
    "cohort_args['PID_ObsDT_columns'] = [cohort_args['RootID'], cohort_args['ObsDTName']]\n",
    "\n",
    "print(cohort_args)\n",
    "print(TriggerCasePath)\n",
    "\n",
    "df_case = pd.read_pickle(TriggerCasePath) # (1000)\n",
    "df_case = df_case.sample(1000, random_state=0).reset_index(drop=True)\n",
    "ds_case = datasets.Dataset.from_pandas(df_case)\n",
    "ds_case"
   ]
  },
  {
   "cell_type": "markdown",
   "id": "7a80d013",
   "metadata": {},
   "source": [
    "\n",
    "## [Step 2] RO: Record Observation & CasePhi\n"
   ]
  },
  {
   "cell_type": "code",
   "execution_count": 4,
   "id": "3cad5623",
   "metadata": {},
   "outputs": [],
   "source": [
    "###########################\n",
    "ROName_List = ['Rx-ObsPnt']\n",
    "name_CasePhi = 'RecNum'\n",
    "###########################"
   ]
  },
  {
   "cell_type": "code",
   "execution_count": 5,
   "id": "bb6339df",
   "metadata": {},
   "outputs": [
    {
     "name": "stdout",
     "output_type": "stream",
     "text": [
      "ro.Rx-ObsPnt_ct.RecNum\n"
     ]
    }
   ],
   "source": [
    "from recfldtkn.obsname import convert_RONameList_to_COName\n",
    "\n",
    "CaseObsName = convert_RONameList_to_COName(ROName_List, name_CasePhi)\n",
    "print(CaseObsName)"
   ]
  },
  {
   "cell_type": "code",
   "execution_count": 6,
   "id": "aa00899c",
   "metadata": {},
   "outputs": [
    {
     "name": "stdout",
     "output_type": "stream",
     "text": [
      "../_Data/2-Data_CaseObs/ro.Rx-ObsPnt_ct.RecNum\n"
     ]
    }
   ],
   "source": [
    "# part of fetch_caseobs_Phi_tools\n",
    "CO_Folder = os.path.join(SPACE['DATA_CaseObs'], CaseObsName)\n",
    "if not os.path.exists(CO_Folder): os.makedirs(CO_Folder)\n",
    "print(CO_Folder)"
   ]
  },
  {
   "cell_type": "markdown",
   "id": "9f420567",
   "metadata": {},
   "source": [
    "# [Part 2] Tools for ds_case_obs"
   ]
  },
  {
   "cell_type": "markdown",
   "id": "a56c2a76",
   "metadata": {},
   "source": [
    "## [Step 1] Prepare examples"
   ]
  },
  {
   "cell_type": "code",
   "execution_count": 7,
   "id": "d341d32a",
   "metadata": {},
   "outputs": [
    {
     "name": "stdout",
     "output_type": "stream",
     "text": [
      "{'PID': [1033176, 1009211, 1017193, 1027056, 1014849], 'ObsDT': [Timestamp('2023-09-25 13:31:48.690000'), Timestamp('2023-09-01 19:40:45.612000'), Timestamp('2023-09-08 12:58:32.934000'), Timestamp('2023-07-17 20:54:55.528000'), Timestamp('2023-09-12 01:17:17.377000')], 'PInvID': ['1033176-003', '1009211-001', '1017193-010', '1027056-002', '1014849-017'], 'RxID': ['1033176-003-000', '1009211-001-000', '1017193-010-000', '1027056-002-000', '1014849-017-002'], 'DT': [Timestamp('2023-09-25 13:31:48.690000'), Timestamp('2023-09-01 19:40:45.612000'), Timestamp('2023-09-08 12:58:32.934000'), Timestamp('2023-07-17 20:54:55.528000'), Timestamp('2023-09-12 01:17:17.377000')], 'drug_name': ['Trulicity', 'Trulicity', 'Trulicity', 'Trulicity', 'Trulicity']}\n"
     ]
    }
   ],
   "source": [
    "case_examples = ds_case[:5]\n",
    "print(case_examples)"
   ]
  },
  {
   "cell_type": "code",
   "execution_count": 8,
   "id": "1a140aa9",
   "metadata": {},
   "outputs": [
    {
     "name": "stdout",
     "output_type": "stream",
     "text": [
      "{0: {'PID': 1033176,\n",
      "     'ObsDT': Timestamp('2023-09-25 13:31:48.690000'),\n",
      "     'PInvID': '1033176-003',\n",
      "     'RxID': '1033176-003-000',\n",
      "     'DT': Timestamp('2023-09-25 13:31:48.690000'),\n",
      "     'drug_name': 'Trulicity'},\n",
      " 1: {'PID': 1009211,\n",
      "     'ObsDT': Timestamp('2023-09-01 19:40:45.612000'),\n",
      "     'PInvID': '1009211-001',\n",
      "     'RxID': '1009211-001-000',\n",
      "     'DT': Timestamp('2023-09-01 19:40:45.612000'),\n",
      "     'drug_name': 'Trulicity'},\n",
      " 2: {'PID': 1017193,\n",
      "     'ObsDT': Timestamp('2023-09-08 12:58:32.934000'),\n",
      "     'PInvID': '1017193-010',\n",
      "     'RxID': '1017193-010-000',\n",
      "     'DT': Timestamp('2023-09-08 12:58:32.934000'),\n",
      "     'drug_name': 'Trulicity'},\n",
      " 3: {'PID': 1027056,\n",
      "     'ObsDT': Timestamp('2023-07-17 20:54:55.528000'),\n",
      "     'PInvID': '1027056-002',\n",
      "     'RxID': '1027056-002-000',\n",
      "     'DT': Timestamp('2023-07-17 20:54:55.528000'),\n",
      "     'drug_name': 'Trulicity'},\n",
      " 4: {'PID': 1014849,\n",
      "     'ObsDT': Timestamp('2023-09-12 01:17:17.377000'),\n",
      "     'PInvID': '1014849-017',\n",
      "     'RxID': '1014849-017-002',\n",
      "     'DT': Timestamp('2023-09-12 01:17:17.377000'),\n",
      "     'drug_name': 'Trulicity'}}\n"
     ]
    }
   ],
   "source": [
    "length = len(case_examples[list(case_examples.keys())[0]])\n",
    "case_examples_list = [{k: v[i] for k, v in case_examples.items()} for i in range(length)]\n",
    "idx_to_examples = {i: case_examples_list[i] for i in range(length)}\n",
    "pprint(idx_to_examples, sort_dicts=False)"
   ]
  },
  {
   "cell_type": "code",
   "execution_count": 9,
   "id": "f4515d69",
   "metadata": {},
   "outputs": [
    {
     "data": {
      "text/plain": [
       "{'PID': 1033176,\n",
       " 'ObsDT': Timestamp('2023-09-25 13:31:48.690000'),\n",
       " 'PInvID': '1033176-003',\n",
       " 'RxID': '1033176-003-000',\n",
       " 'DT': Timestamp('2023-09-25 13:31:48.690000'),\n",
       " 'drug_name': 'Trulicity'}"
      ]
     },
     "execution_count": 9,
     "metadata": {},
     "output_type": "execute_result"
    }
   ],
   "source": [
    "case_example = idx_to_examples[0]\n",
    "case_example"
   ]
  },
  {
   "cell_type": "markdown",
   "id": "899b14be",
   "metadata": {},
   "source": [
    "## [Step 2] get_caseobs_id"
   ]
  },
  {
   "cell_type": "code",
   "execution_count": 10,
   "id": "1e8e2708",
   "metadata": {},
   "outputs": [],
   "source": [
    "# InObs - Rx - RecNum = 10\n",
    "\n",
    "# CO_id\n",
    "# CO: RO_RecNUm\n",
    "# CO: PZipInfo COid # PID\n",
    "# CO^{recnum}, CO^{futeduegm}\n",
    "\n",
    "# {'PID': 1020788,\n",
    "#  'ObsDT': Timestamp('2023-09-06 17:41:01.757000'),\n",
    "#  'PInvID': '1020788-000',\n",
    "#  'RxID': '1020788-000-000'} # <--- edu future engagement\n",
    "\n",
    "# {'PID': 1020788,\n",
    "#  'ObsDT': Timestamp('2023-09-06 17:41:01.757000'),\n",
    "#  'PInvID': '1020788-000',\n",
    "#  'RxID': '1020788-000-001'} # <--- edu future engagement"
   ]
  },
  {
   "cell_type": "code",
   "execution_count": 11,
   "id": "e9c2b544",
   "metadata": {},
   "outputs": [],
   "source": [
    "import inspect\n",
    "#################################################\n",
    "def get_CO_id(case_example, CaseObsName, cohort_args):\n",
    "    RootID = cohort_args['RootID']\n",
    "    ObsDTName = cohort_args['ObsDTName']\n",
    "    PIDValue = case_example[RootID]\n",
    "    ObsDTValue = case_example[ObsDTName].isoformat()\n",
    "    return f'{PIDValue}&{ObsDTValue}'\n",
    "\n",
    "get_CO_id.fn_string = inspect.getsource(get_CO_id)\n",
    "#################################################"
   ]
  },
  {
   "cell_type": "code",
   "execution_count": 12,
   "id": "ac158e3b",
   "metadata": {},
   "outputs": [
    {
     "data": {
      "text/plain": [
       "'1033176&2023-09-25T13:31:48.690000'"
      ]
     },
     "execution_count": 12,
     "metadata": {},
     "output_type": "execute_result"
    }
   ],
   "source": [
    "caseobs_id = get_CO_id(case_example, CaseObsName, cohort_args)\n",
    "caseobs_id # CO_id"
   ]
  },
  {
   "cell_type": "markdown",
   "id": "b2f1a72b",
   "metadata": {},
   "source": [
    "\n",
    "\n",
    "## [Step 3] RO List and CaseTkn"
   ]
  },
  {
   "cell_type": "code",
   "execution_count": 13,
   "id": "e4bea33f",
   "metadata": {},
   "outputs": [
    {
     "data": {
      "text/plain": [
       "'RecNum'"
      ]
     },
     "execution_count": 13,
     "metadata": {},
     "output_type": "execute_result"
    }
   ],
   "source": [
    "name_CasePhi "
   ]
  },
  {
   "cell_type": "code",
   "execution_count": 14,
   "id": "e423b04a",
   "metadata": {},
   "outputs": [],
   "source": [
    "# cohort_args"
   ]
  },
  {
   "cell_type": "code",
   "execution_count": 15,
   "id": "206a0628",
   "metadata": {},
   "outputs": [],
   "source": [
    "## we need to prepare these five arguments.\n",
    "# CaseTkn     # <------- we have this.\n",
    "# cohort_args # <------- we have this.\n",
    "\n",
    "# RecObs_Name \n",
    "# rec_args\n",
    "# column_names # attribute name of R^recordname"
   ]
  },
  {
   "cell_type": "code",
   "execution_count": 16,
   "id": "bad0cfc2",
   "metadata": {},
   "outputs": [
    {
     "name": "stdout",
     "output_type": "stream",
     "text": [
      "['Rx-ObsPnt']\n",
      "Rx-ObsPnt\n"
     ]
    }
   ],
   "source": [
    "######### RecObs_Name\n",
    "print(ROName_List) # RO_List\n",
    "# Let's focus on one RO\n",
    "ROName = ROName_List[0]\n",
    "print(ROName)"
   ]
  },
  {
   "cell_type": "code",
   "execution_count": 17,
   "id": "60aca5da",
   "metadata": {},
   "outputs": [],
   "source": [
    "# RO = 'Rx-Bf2M-InsCate'\n",
    "# RO = 'Rx-Bf2M'\n",
    "# RO = 'P-Zip3DemoNume'"
   ]
  },
  {
   "cell_type": "markdown",
   "id": "5192cbdb",
   "metadata": {},
   "source": [
    "## [Step4] RO Information"
   ]
  },
  {
   "cell_type": "code",
   "execution_count": 18,
   "id": "e7ecf801",
   "metadata": {},
   "outputs": [
    {
     "name": "stdout",
     "output_type": "stream",
     "text": [
      "Rx ObsPnt None\n"
     ]
    }
   ],
   "source": [
    "# decompose RO to RecName, CkpdName, FldName (small phi)\n",
    "from recfldtkn.obsname import parse_RecObsName\n",
    "\n",
    "d = parse_RecObsName(ROName, ckpd_to_CkpdObsConfig)\n",
    "RecName = d['RecName']\n",
    "CkpdName = d['CkpdName']\n",
    "FldName = d['FldName']\n",
    "print(RecName, CkpdName, FldName)"
   ]
  },
  {
   "cell_type": "code",
   "execution_count": 19,
   "id": "8ab84af9",
   "metadata": {},
   "outputs": [
    {
     "name": "stdout",
     "output_type": "stream",
     "text": [
      "Rx\n"
     ]
    },
    {
     "data": {
      "text/plain": [
       "['CohortInfo',\n",
       " 'RawInfo',\n",
       " 'RecName',\n",
       " 'RecID',\n",
       " 'RecIDChain',\n",
       " 'RawRecID',\n",
       " 'RecDT',\n",
       " 'ParentRecName',\n",
       " 'attr_cols',\n",
       " 'pypath',\n",
       " 'FldTknInfo',\n",
       " 'RFT_GROUP_SIZE',\n",
       " 'idx_group_size',\n",
       " 'usebucket',\n",
       " 'GROUP_SIZE',\n",
       " 'recfldtkn_config_path',\n",
       " 'yaml_file_path']"
      ]
     },
     "execution_count": 19,
     "metadata": {},
     "output_type": "execute_result"
    }
   ],
   "source": [
    "# load all information about the R^record_name. \n",
    "from recfldtkn.configfn import load_record_args\n",
    "\n",
    "print(RecName)\n",
    "rec_args = load_record_args(RecName, cohort_args)\n",
    "[i for i in rec_args]"
   ]
  },
  {
   "cell_type": "markdown",
   "id": "923aad78",
   "metadata": {},
   "source": [
    "## [Step 5] Load ds_rec"
   ]
  },
  {
   "cell_type": "code",
   "execution_count": 20,
   "id": "d64f4802",
   "metadata": {},
   "outputs": [],
   "source": [
    "from recfldtkn.loadtools import load_ds_rec_and_info\n",
    "\n",
    "ds_rec, ds_rec_info = load_ds_rec_and_info(RecName, cohort_args)\n",
    "# R^Rx\n",
    "# ROdf # Rx-Bf2M (i, t, Bf2M)"
   ]
  },
  {
   "cell_type": "code",
   "execution_count": 21,
   "id": "4cb89109",
   "metadata": {},
   "outputs": [
    {
     "data": {
      "text/plain": [
       "['PID',\n",
       " 'PInvID',\n",
       " 'RxID',\n",
       " 'prescription_id_encoded',\n",
       " 'DT',\n",
       " 'start_date',\n",
       " 'invitation_date',\n",
       " 'insurance_start_date',\n",
       " 'written_date',\n",
       " 'date_fdb_updated',\n",
       " 'prescriber_npi',\n",
       " 'ncpdp_id',\n",
       " 'pharmacy_name_rx',\n",
       " 'simple_pharmacy_name_rx',\n",
       " 'specialty_pharmacy',\n",
       " 'pharmacy_zip_code_3',\n",
       " 'ndc_id',\n",
       " 'drug_name',\n",
       " 'drug_description',\n",
       " 'generic_id',\n",
       " 'top_200_branded_drugs',\n",
       " 'top_50_generic_drugs',\n",
       " 'brand_source',\n",
       " 'fill_number',\n",
       " 'refills_available',\n",
       " 'quantity_unit',\n",
       " 'quantity',\n",
       " 'days_supply',\n",
       " 'package_size',\n",
       " 'package_units',\n",
       " 'strength',\n",
       " 'strength_units',\n",
       " 'total_package_strength',\n",
       " 'directions',\n",
       " 'delivery_type',\n",
       " 'legend_status',\n",
       " 'show_rems_campaigns',\n",
       " 'show_coupon_campaigns',\n",
       " 'show_educational_campaigns',\n",
       " 'show_internal_campaigns',\n",
       " 'show_target_campaigns',\n",
       " 'show_experimental_campaigns',\n",
       " 'send_refill_reminder_messages',\n",
       " 'send_renewal_reminder_messages',\n",
       " 'supports_hippo_prices',\n",
       " 'supports_hippo_prices65',\n",
       " 'supports_copay_prices',\n",
       " 'supports_hippo_prices_medicare',\n",
       " 'rx_bin',\n",
       " 'rx_pcn',\n",
       " 'dispenser_class',\n",
       " 'primary_dispenser_type',\n",
       " 'campaign_id',\n",
       " 'record_locator_encoded',\n",
       " 'source_id',\n",
       " 'group_id',\n",
       " 'customer_type',\n",
       " 'organization_type',\n",
       " 'plan_name',\n",
       " 'suppliers',\n",
       " 'ther_eq_hierarchy_name',\n",
       " 'ther_eq_parent_name',\n",
       " 'ther_eq_ult_parent_name',\n",
       " 'ther_eq_ult_child_ind',\n",
       " 'ther_eq_ult_parent_etc_id',\n",
       " 'ther_eq_hierarchy_level',\n",
       " 'therapeutic_equivalence_id',\n",
       " 'Rx-CmpCateTkn_wgt',\n",
       " 'Rx-CmpCateTkn_tknidx',\n",
       " 'Rx-InsCateTkn_wgt',\n",
       " 'Rx-InsCateTkn_tknidx',\n",
       " 'Rx-ServiceCateTkn_wgt',\n",
       " 'Rx-ServiceCateTkn_tknidx',\n",
       " 'Rx-SysCateTkn_wgt',\n",
       " 'Rx-SysCateTkn_tknidx',\n",
       " 'Rx-QuantN2CTkn_wgt',\n",
       " 'Rx-QuantN2CTkn_tknidx',\n",
       " 'Rx-QuantNumeTkn_wgt',\n",
       " 'Rx-QuantNumeTkn_tknidx',\n",
       " 'Rx-TherEqCateTkn_wgt',\n",
       " 'Rx-TherEqCateTkn_tknidx',\n",
       " 'Rx-DrugBasicCateTkn_wgt',\n",
       " 'Rx-DrugBasicCateTkn_tknidx',\n",
       " 'Rx-PhmBasicCateTkn_wgt',\n",
       " 'Rx-PhmBasicCateTkn_tknidx',\n",
       " 'Rx-PhmZip3HousingNumeTkn_wgt',\n",
       " 'Rx-PhmZip3HousingNumeTkn_tknidx']"
      ]
     },
     "execution_count": 21,
     "metadata": {},
     "output_type": "execute_result"
    }
   ],
   "source": [
    "######### column_names (or we can all it attribute columns)\n",
    "column_names = ds_rec.column_names # attr_columns + phi_columns\n",
    "column_names\n",
    "# ROdf_ij --(Phi: RecNum)-> COdf_ij "
   ]
  },
  {
   "cell_type": "markdown",
   "id": "bf89969f",
   "metadata": {},
   "source": [
    "## [Step 6] get_selected_columns (attr + phi) from ds_rec"
   ]
  },
  {
   "cell_type": "code",
   "execution_count": 22,
   "id": "96122aa4",
   "metadata": {},
   "outputs": [],
   "source": [
    "###############################\n",
    "def get_selected_columns(RecObs_Name, column_names, cohort_args, rec_args, CaseTkn):\n",
    "    # RecName = RecObs_Name.split('-')[0]\n",
    "    base_columns = [cohort_args['RootID'], rec_args['RecID'], rec_args['RecDT']]\n",
    "    return base_columns\n",
    "\n",
    "get_selected_columns.fn_string = inspect.getsource(get_selected_columns)\n",
    "###############################"
   ]
  },
  {
   "cell_type": "code",
   "execution_count": 23,
   "id": "d79b86cd",
   "metadata": {},
   "outputs": [
    {
     "data": {
      "text/plain": [
       "['PID', 'RxID', 'DT']"
      ]
     },
     "execution_count": 23,
     "metadata": {},
     "output_type": "execute_result"
    }
   ],
   "source": [
    "# big question here\n",
    "# if small phi is not applied in the record level\n",
    "# how do we deploy the tools of small phi within this process?\n",
    "get_selected_columns(ROName, column_names, cohort_args, rec_args, name_CasePhi)"
   ]
  },
  {
   "cell_type": "code",
   "execution_count": 24,
   "id": "bf587b85",
   "metadata": {},
   "outputs": [
    {
     "name": "stdout",
     "output_type": "stream",
     "text": [
      "['Rx-ObsPnt']\n",
      "RecNum\n",
      "<function get_selected_columns at 0x187a2fec0>\n"
     ]
    }
   ],
   "source": [
    "print(ROName_List)\n",
    "print(name_CasePhi)\n",
    "print(get_selected_columns)"
   ]
  },
  {
   "cell_type": "code",
   "execution_count": 25,
   "id": "e26e9f62",
   "metadata": {},
   "outputs": [],
   "source": [
    "# RecObsName_to_RecObsInfo # RO_to_ROinfo\n",
    "\n",
    "from recfldtkn.observer import get_RecObsName_to_RecObsInfo\n",
    "\n",
    "record_to_ds_rec = {}        # set this to empty dictionary, then we will load data from disk\n",
    "record_to_ds_rec_info = {}   # set this to empty dictionary, then we will load data from disk\n",
    "ROName_to_ROInfo = get_RecObsName_to_RecObsInfo(ROName_List, \n",
    "                                                name_CasePhi, \n",
    "                                                get_selected_columns,\n",
    "                                                cohort_args, \n",
    "                                                cohort_args['ckpd_to_CkpdObsConfig'], \n",
    "                                                record_to_ds_rec, \n",
    "                                                record_to_ds_rec_info)\n",
    "    \n",
    "ROName = ROName_List[0] # Rx-Bf2M  \n",
    "ROInfo = ROName_to_ROInfo[ROName] # RxInfo + R^Rx (with necessary columns) + Ckpd + FldTkn (phi)"
   ]
  },
  {
   "cell_type": "code",
   "execution_count": 26,
   "id": "3e1f08ca",
   "metadata": {},
   "outputs": [
    {
     "data": {
      "text/plain": [
       "['rec_args',\n",
       " 'RecName',\n",
       " 'CkpdName',\n",
       " 'CkpdInfo',\n",
       " 'FldName',\n",
       " 'FldTknName',\n",
       " 'FldIdx2Tkn',\n",
       " 'fldtkn_args',\n",
       " 'fld_tokenizer_fn',\n",
       " 'run_fldtkn_on_the_fly',\n",
       " 'ds_rec',\n",
       " 'df_rec_info']"
      ]
     },
     "execution_count": 26,
     "metadata": {},
     "output_type": "execute_result"
    }
   ],
   "source": [
    "[i for i in ROInfo]\n",
    "# pprint(ROInfo)"
   ]
  },
  {
   "cell_type": "code",
   "execution_count": 27,
   "id": "1e859481",
   "metadata": {},
   "outputs": [
    {
     "data": {
      "text/plain": [
       "Dataset({\n",
       "    features: ['PID', 'RxID', 'DT'],\n",
       "    num_rows: 571656\n",
       "})"
      ]
     },
     "execution_count": 27,
     "metadata": {},
     "output_type": "execute_result"
    }
   ],
   "source": [
    "ROInfo['ds_rec'] # get_selected_columns"
   ]
  },
  {
   "cell_type": "markdown",
   "id": "9a285e5e",
   "metadata": {},
   "source": [
    "## [Step 7] get_CO_vocab"
   ]
  },
  {
   "cell_type": "code",
   "execution_count": 28,
   "id": "8cc4153d",
   "metadata": {},
   "outputs": [],
   "source": [
    "import inspect \n",
    "\n",
    "######################################\n",
    "def get_CO_vocab(ROName_to_ROInfo):\n",
    "    # phi_list\n",
    "    RecFldName_list = list(set([RecObsInfo['RecName'] + '-' +RecObsInfo['FldName'] \n",
    "                                for RecObsName, RecObsInfo in ROName_to_ROInfo.items()\n",
    "                                if RecObsInfo['FldName'] is not None ]\n",
    "                                ))\n",
    "    \n",
    "    # print('RecFldName_list----->', RecFldName_list)\n",
    "    # for current version: for any Phi, we only process one or zero phi. \n",
    "    assert len(RecFldName_list) <= 1\n",
    "\n",
    "    ############################\n",
    "    idx2tkn = ['[UNK]', 'recnum', 'recspan', 'recnum_0', 'recspan_0']\n",
    "    ############################\n",
    "\n",
    "    tid2tkn = {tid: tkn for tid, tkn in enumerate(idx2tkn)}\n",
    "    tkn2tid = {tkn: tid for tid, tkn in tid2tkn.items()}\n",
    "    CO_vocab = {}\n",
    "    CO_vocab['tid'] = {'tid2tkn': tid2tkn, 'tkn2tid': tkn2tid}\n",
    "    CO_vocab['wgt'] = {}\n",
    "    # SeqType_List = ['tid', 'wgt']\n",
    "    return CO_vocab\n",
    "######################################\n",
    "\n",
    "get_CO_vocab.fn_string = inspect.getsource(get_CO_vocab)\n"
   ]
  },
  {
   "cell_type": "code",
   "execution_count": 29,
   "id": "5f0067d5",
   "metadata": {},
   "outputs": [
    {
     "name": "stdout",
     "output_type": "stream",
     "text": [
      "{'tid': {'tid2tkn': {0: '[UNK]',\n",
      "                     1: 'recnum',\n",
      "                     2: 'recspan',\n",
      "                     3: 'recnum_0',\n",
      "                     4: 'recspan_0'},\n",
      "         'tkn2tid': {'[UNK]': 0,\n",
      "                     'recnum': 1,\n",
      "                     'recspan': 2,\n",
      "                     'recnum_0': 3,\n",
      "                     'recspan_0': 4}},\n",
      " 'wgt': {}}\n"
     ]
    }
   ],
   "source": [
    "CO_vocab = get_CO_vocab(ROName_to_ROInfo)\n",
    "pprint(CO_vocab, sort_dicts=False)"
   ]
  },
  {
   "cell_type": "markdown",
   "id": "4701e452",
   "metadata": {},
   "source": [
    "\n",
    "## [Step 8] Fetch ds_rec"
   ]
  },
  {
   "cell_type": "code",
   "execution_count": 30,
   "id": "4666ba8a",
   "metadata": {},
   "outputs": [
    {
     "data": {
      "text/plain": [
       "{'PID': 1014849,\n",
       " 'ObsDT': Timestamp('2023-09-12 01:17:17.377000'),\n",
       " 'PInvID': '1014849-017',\n",
       " 'RxID': '1014849-017-002',\n",
       " 'DT': Timestamp('2023-09-12 01:17:17.377000'),\n",
       " 'drug_name': 'Trulicity'}"
      ]
     },
     "execution_count": 30,
     "metadata": {},
     "output_type": "execute_result"
    }
   ],
   "source": [
    "case_example = idx_to_examples[4]\n",
    "case_example"
   ]
  },
  {
   "cell_type": "code",
   "execution_count": 31,
   "id": "87d8d8f3",
   "metadata": {},
   "outputs": [
    {
     "data": {
      "text/plain": [
       "'Rx-ObsPnt'"
      ]
     },
     "execution_count": 31,
     "metadata": {},
     "output_type": "execute_result"
    }
   ],
   "source": [
    "ROName"
   ]
  },
  {
   "cell_type": "code",
   "execution_count": 32,
   "id": "e8144f36",
   "metadata": {},
   "outputs": [
    {
     "name": "stdout",
     "output_type": "stream",
     "text": [
      "{0: {'PID': 1033176,\n",
      "     'ObsDT': Timestamp('2023-09-25 13:31:48.690000'),\n",
      "     'PInvID': '1033176-003',\n",
      "     'RxID': '1033176-003-000',\n",
      "     'DT': Timestamp('2023-09-25 13:31:48.690000'),\n",
      "     'drug_name': 'Trulicity'},\n",
      " 1: {'PID': 1009211,\n",
      "     'ObsDT': Timestamp('2023-09-01 19:40:45.612000'),\n",
      "     'PInvID': '1009211-001',\n",
      "     'RxID': '1009211-001-000',\n",
      "     'DT': Timestamp('2023-09-01 19:40:45.612000'),\n",
      "     'drug_name': 'Trulicity'},\n",
      " 2: {'PID': 1017193,\n",
      "     'ObsDT': Timestamp('2023-09-08 12:58:32.934000'),\n",
      "     'PInvID': '1017193-010',\n",
      "     'RxID': '1017193-010-000',\n",
      "     'DT': Timestamp('2023-09-08 12:58:32.934000'),\n",
      "     'drug_name': 'Trulicity'},\n",
      " 3: {'PID': 1027056,\n",
      "     'ObsDT': Timestamp('2023-07-17 20:54:55.528000'),\n",
      "     'PInvID': '1027056-002',\n",
      "     'RxID': '1027056-002-000',\n",
      "     'DT': Timestamp('2023-07-17 20:54:55.528000'),\n",
      "     'drug_name': 'Trulicity'},\n",
      " 4: {'PID': 1014849,\n",
      "     'ObsDT': Timestamp('2023-09-12 01:17:17.377000'),\n",
      "     'PInvID': '1014849-017',\n",
      "     'RxID': '1014849-017-002',\n",
      "     'DT': Timestamp('2023-09-12 01:17:17.377000'),\n",
      "     'drug_name': 'Trulicity'}}\n"
     ]
    }
   ],
   "source": [
    "pprint(idx_to_examples, sort_dicts=False)"
   ]
  },
  {
   "cell_type": "code",
   "execution_count": 33,
   "id": "503bbbae",
   "metadata": {},
   "outputs": [
    {
     "name": "stdout",
     "output_type": "stream",
     "text": [
      "Rx-ObsPnt : ['rec_args', 'RecName', 'CkpdName', 'CkpdInfo', 'FldName', 'FldTknName', 'FldIdx2Tkn', 'fldtkn_args', 'fld_tokenizer_fn', 'run_fldtkn_on_the_fly', 'ds_rec', 'df_rec_info']\n"
     ]
    }
   ],
   "source": [
    "for ROName, ROInfo in ROName_to_ROInfo.items():\n",
    "    print(ROName, ':', [i for i in ROInfo])"
   ]
  },
  {
   "cell_type": "code",
   "execution_count": 34,
   "id": "8733c8d5",
   "metadata": {},
   "outputs": [
    {
     "name": "stdout",
     "output_type": "stream",
     "text": [
      "============ Rx ============\n",
      "{1009211: Dataset({\n",
      "    features: ['PID', 'RxID', 'DT'],\n",
      "    num_rows: 1\n",
      "}),\n",
      " 1014849: Dataset({\n",
      "    features: ['PID', 'RxID', 'DT'],\n",
      "    num_rows: 28\n",
      "}),\n",
      " 1017193: Dataset({\n",
      "    features: ['PID', 'RxID', 'DT'],\n",
      "    num_rows: 22\n",
      "}),\n",
      " 1027056: Dataset({\n",
      "    features: ['PID', 'RxID', 'DT'],\n",
      "    num_rows: 6\n",
      "}),\n",
      " 1033176: Dataset({\n",
      "    features: ['PID', 'RxID', 'DT'],\n",
      "    num_rows: 5\n",
      "})}\n"
     ]
    }
   ],
   "source": [
    "# RO_to_ROdf: RecObsName_to_RecObsDS\n",
    "from recfldtkn.observer import CaseObserverTransformer\n",
    "\n",
    "get_Record_P = CaseObserverTransformer.get_Record_P\n",
    "RecName_to_REC_P = get_Record_P(idx_to_examples, ROName_to_ROInfo)\n",
    "for RecName, REC_P in RecName_to_REC_P.items():\n",
    "    print(f'============ {RecName} ============')\n",
    "    pprint(REC_P)"
   ]
  },
  {
   "cell_type": "markdown",
   "id": "4de376b5",
   "metadata": {},
   "source": [
    "## [Step 9] Fetch ROdf: $R_i^{recname}$"
   ]
  },
  {
   "cell_type": "code",
   "execution_count": 35,
   "id": "7ba386ac",
   "metadata": {},
   "outputs": [
    {
     "name": "stdout",
     "output_type": "stream",
     "text": [
      "\n",
      "====================\n",
      "idx: 0\n",
      "case: {'PID': 1033176, 'ObsDT': Timestamp('2023-09-25 13:31:48.690000'), 'PInvID': '1033176-003', 'RxID': '1033176-003-000', 'DT': Timestamp('2023-09-25 13:31:48.690000'), 'drug_name': 'Trulicity'}\n",
      "ROdf: {'Rx-ObsPnt': Dataset({\n",
      "    features: ['PID', 'RxID', 'DT'],\n",
      "    num_rows: 1\n",
      "})}\n",
      "====================\n",
      "\n",
      "====================\n",
      "idx: 1\n",
      "case: {'PID': 1009211, 'ObsDT': Timestamp('2023-09-01 19:40:45.612000'), 'PInvID': '1009211-001', 'RxID': '1009211-001-000', 'DT': Timestamp('2023-09-01 19:40:45.612000'), 'drug_name': 'Trulicity'}\n",
      "ROdf: {'Rx-ObsPnt': Dataset({\n",
      "    features: ['PID', 'RxID', 'DT'],\n",
      "    num_rows: 1\n",
      "})}\n",
      "====================\n",
      "\n",
      "====================\n",
      "idx: 2\n",
      "case: {'PID': 1017193, 'ObsDT': Timestamp('2023-09-08 12:58:32.934000'), 'PInvID': '1017193-010', 'RxID': '1017193-010-000', 'DT': Timestamp('2023-09-08 12:58:32.934000'), 'drug_name': 'Trulicity'}\n",
      "ROdf: {'Rx-ObsPnt': Dataset({\n",
      "    features: ['PID', 'RxID', 'DT'],\n",
      "    num_rows: 1\n",
      "})}\n",
      "====================\n",
      "\n",
      "====================\n",
      "idx: 3\n",
      "case: {'PID': 1027056, 'ObsDT': Timestamp('2023-07-17 20:54:55.528000'), 'PInvID': '1027056-002', 'RxID': '1027056-002-000', 'DT': Timestamp('2023-07-17 20:54:55.528000'), 'drug_name': 'Trulicity'}\n",
      "ROdf: {'Rx-ObsPnt': Dataset({\n",
      "    features: ['PID', 'RxID', 'DT'],\n",
      "    num_rows: 1\n",
      "})}\n",
      "====================\n",
      "\n",
      "====================\n",
      "idx: 4\n",
      "case: {'PID': 1014849, 'ObsDT': Timestamp('2023-09-12 01:17:17.377000'), 'PInvID': '1014849-017', 'RxID': '1014849-017-002', 'DT': Timestamp('2023-09-12 01:17:17.377000'), 'drug_name': 'Trulicity'}\n",
      "ROdf: {'Rx-ObsPnt': Dataset({\n",
      "    features: ['PID', 'RxID', 'DT'],\n",
      "    num_rows: 5\n",
      "})}\n",
      "====================\n"
     ]
    }
   ],
   "source": [
    "get_idx_to_RecObsName_to_RecObsDS = CaseObserverTransformer.get_idx_to_RecObsName_to_RecObsDS\n",
    "idx_to_ROName_to_ROds = get_idx_to_RecObsName_to_RecObsDS(idx_to_examples, ROName_to_ROInfo, RecName_to_REC_P)\n",
    "\n",
    "for idx, case in idx_to_examples.items():\n",
    "    print('\\n====================')\n",
    "    print('idx:', idx)\n",
    "    print('case:', case)\n",
    "    print('ROdf:', idx_to_ROName_to_ROds[idx]) # R_i^{RecNum, Ckpd}\n",
    "    print('====================')"
   ]
  },
  {
   "cell_type": "code",
   "execution_count": 36,
   "id": "c643c436",
   "metadata": {},
   "outputs": [
    {
     "data": {
      "text/plain": [
       "['Rx-ObsPnt']"
      ]
     },
     "execution_count": 36,
     "metadata": {},
     "output_type": "execute_result"
    }
   ],
   "source": [
    "[i for i in ROName_to_ROInfo]"
   ]
  },
  {
   "cell_type": "code",
   "execution_count": 37,
   "id": "6a3cb7c6",
   "metadata": {},
   "outputs": [
    {
     "data": {
      "text/plain": [
       "{'tid': {'tid2tkn': {0: '[UNK]',\n",
       "   1: 'recnum',\n",
       "   2: 'recspan',\n",
       "   3: 'recnum_0',\n",
       "   4: 'recspan_0'},\n",
       "  'tkn2tid': {'[UNK]': 0,\n",
       "   'recnum': 1,\n",
       "   'recspan': 2,\n",
       "   'recnum_0': 3,\n",
       "   'recspan_0': 4}},\n",
       " 'wgt': {}}"
      ]
     },
     "execution_count": 37,
     "metadata": {},
     "output_type": "execute_result"
    }
   ],
   "source": [
    "CO_vocab"
   ]
  },
  {
   "cell_type": "code",
   "execution_count": 38,
   "id": "bd125aef",
   "metadata": {},
   "outputs": [
    {
     "name": "stdout",
     "output_type": "stream",
     "text": [
      "case_example: {'PID': 1009211, 'ObsDT': Timestamp('2023-09-01 19:40:45.612000'), 'PInvID': '1009211-001', 'RxID': '1009211-001-000', 'DT': Timestamp('2023-09-01 19:40:45.612000'), 'drug_name': 'Trulicity'}\n",
      "RO_to_ROdf (RO_ij): {'Rx-ObsPnt': Dataset({\n",
      "    features: ['PID', 'RxID', 'DT'],\n",
      "    num_rows: 1\n",
      "})}\n",
      "['Rx-ObsPnt']\n"
     ]
    }
   ],
   "source": [
    "idx = 1\n",
    "case_example = idx_to_examples[idx]\n",
    "print('case_example:', case_example)\n",
    "ROName_to_ROds = idx_to_ROName_to_ROds[idx] # RO_to_ROdf # RO_ij\n",
    "print('RO_to_ROdf (RO_ij):', ROName_to_ROds)\n",
    "print([i for i in ROName_to_ROds])"
   ]
  },
  {
   "cell_type": "markdown",
   "id": "e1939f06",
   "metadata": {},
   "source": [
    "# [Step 10]: Develop $\\Phi$. "
   ]
  },
  {
   "cell_type": "code",
   "execution_count": 40,
   "id": "aa1aacc1",
   "metadata": {},
   "outputs": [],
   "source": [
    "def fn_CasePhi(case_example, \n",
    "               ROName_to_ROds, \n",
    "               ROName_to_ROInfo, \n",
    "               CO_vocab,\n",
    "               cohort_args):\n",
    "    # input: RecObsName_to_RecObsDS, RecObsName_to_RecObsInfo\n",
    "    # output: CaseObservation\n",
    "    d = {}\n",
    "    assert len(ROName_to_ROds) == 1\n",
    " \n",
    "    # RO\n",
    "    ROName = list(ROName_to_ROds.keys())[0]\n",
    "   \n",
    "    #############################################\n",
    "    ROds   = ROName_to_ROds[ROName] # dataframe: RecObsName: Rx-bf24.. RecObsDS: the df: record collection\n",
    "    ROInfo = ROName_to_ROInfo[ROName]\n",
    "    \n",
    "    RecDT = ROInfo['rec_args']['RecDT']\n",
    "    if ROds is not None:\n",
    "        DT_s_obs = ROds[ 0][RecDT] # the time of first records\n",
    "        DT_e_obs = ROds[-1][RecDT] # pd.to_datetime(dates[idx_e-1]) # the last one smaller than idx_e\n",
    "        d['recnum'] = len(ROds)\n",
    "        d['recspan'] = (DT_e_obs - DT_s_obs).total_seconds() / 60 # + 5\n",
    "        if d['recnum'] == 0:\n",
    "            d['recnum_0'] = 1\n",
    "            d['recspan_0'] = 1\n",
    "    else:\n",
    "        d['recnum'] = 0\n",
    "        d['recspan'] = 0\n",
    "        d['recnum_0'] = 1\n",
    "        d['recspan_0'] = 1\n",
    "    #############################################\n",
    "\n",
    "    tkn2tid = CO_vocab['tid']['tkn2tid']\n",
    "    tkn = [i for i in d.keys()]\n",
    "    tid = [tkn2tid[i] for i in tkn]\n",
    "    wgt = [round(d[i], 2) for i in tkn]\n",
    "    CO = {'tid': tid, 'wgt': wgt}\n",
    "    # CaseObservation\n",
    "    return CO\n",
    "\n",
    "fn_CasePhi.fn_string = inspect.getsource(fn_CasePhi)"
   ]
  },
  {
   "cell_type": "code",
   "execution_count": 41,
   "id": "a3602605",
   "metadata": {},
   "outputs": [
    {
     "data": {
      "text/plain": [
       "{'Rx-ObsPnt': Dataset({\n",
       "     features: ['PID', 'RxID', 'DT'],\n",
       "     num_rows: 1\n",
       " })}"
      ]
     },
     "execution_count": 41,
     "metadata": {},
     "output_type": "execute_result"
    }
   ],
   "source": [
    "ROName_to_ROds"
   ]
  },
  {
   "cell_type": "code",
   "execution_count": 42,
   "id": "c921b74d",
   "metadata": {},
   "outputs": [
    {
     "data": {
      "text/plain": [
       "{'tid': [1, 2], 'wgt': [1, 0.0]}"
      ]
     },
     "execution_count": 42,
     "metadata": {},
     "output_type": "execute_result"
    }
   ],
   "source": [
    "fn_CasePhi(case_example, ROName_to_ROds, ROName_to_ROInfo, CO_vocab, cohort_args)"
   ]
  },
  {
   "cell_type": "markdown",
   "id": "6d098f89",
   "metadata": {},
   "source": [
    "## Save Files"
   ]
  },
  {
   "cell_type": "code",
   "execution_count": 43,
   "id": "85524f5f",
   "metadata": {},
   "outputs": [
    {
     "data": {
      "text/html": [
       "../pipeline/fn_casephi/phi_RecNum.py <a href=\"/Users/floydluo/Library/CloudStorage/OneDrive-DRFIRST.COM,INC/Documents - DrFirst-JHU Collaboration Center/DrFirst-Project/2024-DrFirst-v4-SPACE/_DrFirst-AI-EgmPred-WorkSpace/../pipeline/fn_casephi/phi_RecNum.py\" target=\"_blank\">Open File</a>"
      ],
      "text/plain": [
       "<IPython.core.display.HTML object>"
      ]
     },
     "metadata": {},
     "output_type": "display_data"
    }
   ],
   "source": [
    "from recfldtkn.loadtools import convert_variables_to_pystirng, load_module_variables\n",
    "\n",
    "prefix = ['import pandas as pd', 'import numpy as np']\n",
    "fn_variables = [get_CO_id, get_selected_columns, get_CO_vocab, fn_CasePhi]\n",
    "pycode = convert_variables_to_pystirng(fn_variables = fn_variables, prefix = prefix)\n",
    "pypath = os.path.join(SPACE['CODE_FN'], 'fn_casephi', f'phi_{name_CasePhi}.py')\n",
    "with open(pypath, 'w') as file: file.write(pycode)\n",
    "\n",
    "# Create a HTML link and display it\n",
    "full_path = os.path.join(WORKSPACE_PATH, pypath)\n",
    "display(HTML(f'{pypath} <a href=\"{full_path}\" target=\"_blank\">Open File</a>'))"
   ]
  },
  {
   "cell_type": "markdown",
   "id": "d8ac3fc7",
   "metadata": {},
   "source": [
    "# Application"
   ]
  },
  {
   "cell_type": "code",
   "execution_count": 44,
   "id": "8cf13931",
   "metadata": {},
   "outputs": [
    {
     "data": {
      "text/plain": [
       "'ro.Rx-ObsPnt_ct.RecNum'"
      ]
     },
     "execution_count": 44,
     "metadata": {},
     "output_type": "execute_result"
    }
   ],
   "source": [
    "CaseObsName"
   ]
  },
  {
   "cell_type": "code",
   "execution_count": 45,
   "id": "a0747747",
   "metadata": {},
   "outputs": [
    {
     "data": {
      "text/plain": [
       "['RecObsName_List',\n",
       " 'name_CasePhi',\n",
       " 'get_selected_columns',\n",
       " 'CaseObsName',\n",
       " 'ROName_to_ROInfo',\n",
       " 'fn_CasePhi',\n",
       " 'get_CO_id',\n",
       " 'CO_Folder',\n",
       " 'CO_vocab']"
      ]
     },
     "execution_count": 45,
     "metadata": {},
     "output_type": "execute_result"
    }
   ],
   "source": [
    "from recfldtkn.observer import get_CaseObsInfo_for_a_CaseObsName\n",
    "\n",
    "CaseObsInfo = get_CaseObsInfo_for_a_CaseObsName(CaseObsName,\n",
    "                                                SPACE, \n",
    "                                                cohort_args, \n",
    "                                                record_to_ds_rec = {}, \n",
    "                                                record_to_ds_rec_info = {})\n",
    "[i for i in CaseObsInfo]"
   ]
  },
  {
   "cell_type": "code",
   "execution_count": 46,
   "id": "a4810867",
   "metadata": {},
   "outputs": [],
   "source": [
    "import random \n",
    "from pprint import pprint\n",
    "from datetime import datetime \n",
    "from recfldtkn.observer import get_RecObsName_to_RecObsInfo, CaseObserverTransformer\n",
    "\n",
    "\n",
    "ro_to_ROName = {} # leave it empty for now \n",
    "ROName_to_ROInfo = CaseObsInfo['ROName_to_ROInfo']\n",
    "name_CasePhi = CaseObsInfo['name_CasePhi']\n",
    "fn_CasePhi = CaseObsInfo['fn_CasePhi']\n",
    "CO_vocab = CaseObsInfo['CO_vocab']\n",
    "get_CO_id = CaseObsInfo['get_CO_id']\n",
    "CO_Folder = CaseObsInfo['CO_Folder']\n",
    "COids = None \n",
    "use_CO_from_disk = False\n",
    "batch_size = CaseObsInfo.get('batch_size', 1000)\n",
    "\n",
    "fn_caseobs_Phi = CaseObserverTransformer(ro_to_ROName,\n",
    "                                         ROName_to_ROInfo, \n",
    "                                         name_CasePhi, \n",
    "                                         fn_CasePhi, \n",
    "                                         CO_vocab, \n",
    "                                         get_CO_id,\n",
    "                                         cohort_args,\n",
    "                                         CO_Folder, \n",
    "                                         df_case,\n",
    "                                         use_CO_from_disk)"
   ]
  },
  {
   "cell_type": "markdown",
   "id": "79eb01dd",
   "metadata": {},
   "source": [
    "# Check Cache Functions"
   ]
  },
  {
   "cell_type": "code",
   "execution_count": 47,
   "id": "28003f06",
   "metadata": {},
   "outputs": [
    {
     "data": {
      "text/plain": [
       "{}"
      ]
     },
     "execution_count": 47,
     "metadata": {},
     "output_type": "execute_result"
    }
   ],
   "source": [
    "fn_caseobs_Phi.new_COs"
   ]
  },
  {
   "cell_type": "code",
   "execution_count": 48,
   "id": "b3a86fa1",
   "metadata": {},
   "outputs": [
    {
     "data": {
      "application/vnd.jupyter.widget-view+json": {
       "model_id": "5b94d05ad10d4c52a982a3b40c1bd593",
       "version_major": 2,
       "version_minor": 0
      },
      "text/plain": [
       "Map:   0%|          | 0/1000 [00:00<?, ? examples/s]"
      ]
     },
     "metadata": {},
     "output_type": "display_data"
    },
    {
     "name": "stdout",
     "output_type": "stream",
     "text": [
      "Elipse Time:  0:00:02.168313\n",
      "Dataset({\n",
      "    features: ['PID', 'ObsDT', 'PInvID', 'RxID', 'DT', 'drug_name', 'tid', 'wgt'],\n",
      "    num_rows: 1000\n",
      "})\n"
     ]
    }
   ],
   "source": [
    "start = datetime.now()\n",
    "ds_casetkn = ds_case.map(fn_caseobs_Phi, \n",
    "                         batched = True, \n",
    "                         batch_size= batch_size, \n",
    "                         load_from_cache_file = False, \n",
    "                         new_fingerprint = CaseObsName)\n",
    "end = datetime.now()\n",
    "print('Elipse Time: ', end - start)\n",
    "print(ds_casetkn)"
   ]
  },
  {
   "cell_type": "code",
   "execution_count": 49,
   "id": "1765eb57",
   "metadata": {},
   "outputs": [
    {
     "name": "stdout",
     "output_type": "stream",
     "text": [
      "1000\n"
     ]
    }
   ],
   "source": [
    "print(len(fn_caseobs_Phi.new_COs))"
   ]
  },
  {
   "cell_type": "code",
   "execution_count": 50,
   "id": "de1ef678",
   "metadata": {},
   "outputs": [
    {
     "data": {
      "application/vnd.jupyter.widget-view+json": {
       "model_id": "f0ce8c1ff4da4fef9da7f691c34db040",
       "version_major": 2,
       "version_minor": 0
      },
      "text/plain": [
       "Map:   0%|          | 0/1000 [00:00<?, ? examples/s]"
      ]
     },
     "metadata": {},
     "output_type": "display_data"
    },
    {
     "name": "stdout",
     "output_type": "stream",
     "text": [
      "Elipse Time:  0:00:00.027718\n",
      "Dataset({\n",
      "    features: ['PID', 'ObsDT', 'PInvID', 'RxID', 'DT', 'drug_name', 'tid', 'wgt'],\n",
      "    num_rows: 1000\n",
      "})\n"
     ]
    }
   ],
   "source": [
    "start = datetime.now()\n",
    "ds_casetkn = ds_case.map(fn_caseobs_Phi, \n",
    "                         batched = True, \n",
    "                         batch_size= batch_size, \n",
    "                         load_from_cache_file = False, \n",
    "                         new_fingerprint = CaseObsName)\n",
    "end = datetime.now()\n",
    "print('Elipse Time: ', end - start)\n",
    "print(ds_casetkn)"
   ]
  },
  {
   "cell_type": "code",
   "execution_count": 51,
   "id": "9e6ec3e9",
   "metadata": {},
   "outputs": [
    {
     "name": "stdout",
     "output_type": "stream",
     "text": [
      "ro.Rx-ObsPnt_ct.RecNum\n",
      "373\n",
      "{'DT': Timestamp('2023-09-16 01:20:01'),\n",
      " 'ObsDT': Timestamp('2023-09-16 01:20:01'),\n",
      " 'PID': 1000156,\n",
      " 'PInvID': '1000156-002',\n",
      " 'RxID': '1000156-002-002',\n",
      " 'drug_name': 'Trulicity',\n",
      " 'tid': [1, 2],\n",
      " 'wgt': [8.0, 0.0]}\n",
      "{'tid': {'tid2tkn': {0: '[UNK]', 1: 'recnum', 2: 'recspan', 3: 'recnum_0', 4: 'recspan_0'}, 'tkn2tid': {'[UNK]': 0, 'recnum': 1, 'recspan': 2, 'recnum_0': 3, 'recspan_0': 4}}, 'wgt': {}}\n"
     ]
    }
   ],
   "source": [
    "print(CaseObsName)\n",
    "random_int = random.randint(0, len(ds_casetkn))\n",
    "print(random_int)\n",
    "pprint(ds_casetkn[random_int])\n",
    "print(CO_vocab)"
   ]
  },
  {
   "cell_type": "code",
   "execution_count": 52,
   "id": "739bb79c",
   "metadata": {},
   "outputs": [
    {
     "data": {
      "text/plain": [
       "{'PID': 1025153,\n",
       " 'ObsDT': Timestamp('2023-03-06 13:46:08.084000'),\n",
       " 'PInvID': '1025153-000',\n",
       " 'RxID': '1025153-000-000',\n",
       " 'DT': Timestamp('2023-03-06 13:46:08.084000'),\n",
       " 'drug_name': 'Trulicity',\n",
       " 'tid': [1, 2],\n",
       " 'wgt': [1.0, 0.0]}"
      ]
     },
     "execution_count": 52,
     "metadata": {},
     "output_type": "execute_result"
    }
   ],
   "source": [
    "ds_casetkn[762]"
   ]
  },
  {
   "cell_type": "markdown",
   "id": "dba9f4c7",
   "metadata": {},
   "source": [
    "## Save"
   ]
  },
  {
   "cell_type": "code",
   "execution_count": 53,
   "id": "6b4a3151",
   "metadata": {},
   "outputs": [
    {
     "data": {
      "text/html": [
       "<div>\n",
       "<style scoped>\n",
       "    .dataframe tbody tr th:only-of-type {\n",
       "        vertical-align: middle;\n",
       "    }\n",
       "\n",
       "    .dataframe tbody tr th {\n",
       "        vertical-align: top;\n",
       "    }\n",
       "\n",
       "    .dataframe thead th {\n",
       "        text-align: right;\n",
       "    }\n",
       "</style>\n",
       "<table border=\"1\" class=\"dataframe\">\n",
       "  <thead>\n",
       "    <tr style=\"text-align: right;\">\n",
       "      <th></th>\n",
       "      <th>caseobs_idx_in_data</th>\n",
       "    </tr>\n",
       "    <tr>\n",
       "      <th>caseobs_id</th>\n",
       "      <th></th>\n",
       "    </tr>\n",
       "  </thead>\n",
       "  <tbody>\n",
       "  </tbody>\n",
       "</table>\n",
       "</div>"
      ],
      "text/plain": [
       "Empty DataFrame\n",
       "Columns: [caseobs_idx_in_data]\n",
       "Index: []"
      ]
     },
     "execution_count": 53,
     "metadata": {},
     "output_type": "execute_result"
    }
   ],
   "source": [
    "fn_caseobs_Phi.df_CO_info"
   ]
  },
  {
   "cell_type": "code",
   "execution_count": 54,
   "id": "9bce27a3",
   "metadata": {},
   "outputs": [
    {
     "data": {
      "text/plain": [
       "'../_Data/2-Data_CaseObs/ro.Rx-ObsPnt_ct.RecNum/data'"
      ]
     },
     "execution_count": 54,
     "metadata": {},
     "output_type": "execute_result"
    }
   ],
   "source": [
    "CO_Folder_data = fn_caseobs_Phi.CO_Folder_data\n",
    "CO_Folder_data"
   ]
  },
  {
   "cell_type": "code",
   "execution_count": 55,
   "id": "a4b1c8a9",
   "metadata": {},
   "outputs": [
    {
     "name": "stderr",
     "output_type": "stream",
     "text": [
      "[INFO:2024-04-09 14:38:08,811:(observer.py@695 recfldtkn.observer)]: use_CO_from_disk is false and empty new_COs\n"
     ]
    }
   ],
   "source": [
    "fn_caseobs_Phi.save_new_COs_to_disk(CO_Folder_data)"
   ]
  },
  {
   "cell_type": "code",
   "execution_count": 56,
   "id": "67499595",
   "metadata": {},
   "outputs": [
    {
     "data": {
      "text/html": [
       "<div>\n",
       "<style scoped>\n",
       "    .dataframe tbody tr th:only-of-type {\n",
       "        vertical-align: middle;\n",
       "    }\n",
       "\n",
       "    .dataframe tbody tr th {\n",
       "        vertical-align: top;\n",
       "    }\n",
       "\n",
       "    .dataframe thead th {\n",
       "        text-align: right;\n",
       "    }\n",
       "</style>\n",
       "<table border=\"1\" class=\"dataframe\">\n",
       "  <thead>\n",
       "    <tr style=\"text-align: right;\">\n",
       "      <th></th>\n",
       "      <th>caseobs_idx_in_data</th>\n",
       "    </tr>\n",
       "    <tr>\n",
       "      <th>caseobs_id</th>\n",
       "      <th></th>\n",
       "    </tr>\n",
       "  </thead>\n",
       "  <tbody>\n",
       "  </tbody>\n",
       "</table>\n",
       "</div>"
      ],
      "text/plain": [
       "Empty DataFrame\n",
       "Columns: [caseobs_idx_in_data]\n",
       "Index: []"
      ]
     },
     "execution_count": 56,
     "metadata": {},
     "output_type": "execute_result"
    }
   ],
   "source": [
    "fn_caseobs_Phi.df_CO_info"
   ]
  },
  {
   "cell_type": "code",
   "execution_count": 57,
   "id": "b021c636",
   "metadata": {},
   "outputs": [],
   "source": [
    "fn_caseobs_Phi.ds_CO_data"
   ]
  },
  {
   "cell_type": "code",
   "execution_count": 58,
   "id": "d9e27f5f",
   "metadata": {},
   "outputs": [],
   "source": [
    "ds_CO_data, df_CO_info = fn_caseobs_Phi.load_COs_from_disk(CO_Folder_data, COids)"
   ]
  },
  {
   "cell_type": "code",
   "execution_count": 59,
   "id": "8d6a3953",
   "metadata": {},
   "outputs": [],
   "source": [
    "ds_CO_data"
   ]
  },
  {
   "cell_type": "code",
   "execution_count": 60,
   "id": "bfa19905",
   "metadata": {},
   "outputs": [
    {
     "data": {
      "text/html": [
       "<div>\n",
       "<style scoped>\n",
       "    .dataframe tbody tr th:only-of-type {\n",
       "        vertical-align: middle;\n",
       "    }\n",
       "\n",
       "    .dataframe tbody tr th {\n",
       "        vertical-align: top;\n",
       "    }\n",
       "\n",
       "    .dataframe thead th {\n",
       "        text-align: right;\n",
       "    }\n",
       "</style>\n",
       "<table border=\"1\" class=\"dataframe\">\n",
       "  <thead>\n",
       "    <tr style=\"text-align: right;\">\n",
       "      <th></th>\n",
       "      <th>caseobs_idx_in_data</th>\n",
       "    </tr>\n",
       "    <tr>\n",
       "      <th>caseobs_id</th>\n",
       "      <th></th>\n",
       "    </tr>\n",
       "  </thead>\n",
       "  <tbody>\n",
       "  </tbody>\n",
       "</table>\n",
       "</div>"
      ],
      "text/plain": [
       "Empty DataFrame\n",
       "Columns: [caseobs_idx_in_data]\n",
       "Index: []"
      ]
     },
     "execution_count": 60,
     "metadata": {},
     "output_type": "execute_result"
    }
   ],
   "source": [
    "df_CO_info"
   ]
  },
  {
   "cell_type": "markdown",
   "id": "2dca9299",
   "metadata": {},
   "source": [
    "# Save Vocab"
   ]
  },
  {
   "cell_type": "code",
   "execution_count": 61,
   "id": "1224a15e",
   "metadata": {},
   "outputs": [
    {
     "data": {
      "text/plain": [
       "{'tid': {'tid2tkn': {0: '[UNK]',\n",
       "   1: 'recnum',\n",
       "   2: 'recspan',\n",
       "   3: 'recnum_0',\n",
       "   4: 'recspan_0'},\n",
       "  'tkn2tid': {'[UNK]': 0,\n",
       "   'recnum': 1,\n",
       "   'recspan': 2,\n",
       "   'recnum_0': 3,\n",
       "   'recspan_0': 4}},\n",
       " 'wgt': {}}"
      ]
     },
     "execution_count": 61,
     "metadata": {},
     "output_type": "execute_result"
    }
   ],
   "source": [
    "CO_vocab = fn_caseobs_Phi.CO_vocab\n",
    "CO_vocab"
   ]
  },
  {
   "cell_type": "code",
   "execution_count": 62,
   "id": "c7bb5e52",
   "metadata": {},
   "outputs": [
    {
     "data": {
      "text/plain": [
       "'../_Data/2-Data_CaseObs/ro.Rx-ObsPnt_ct.RecNum/vocab.p'"
      ]
     },
     "execution_count": 62,
     "metadata": {},
     "output_type": "execute_result"
    }
   ],
   "source": [
    "CO_Folder_vocab = fn_caseobs_Phi.CO_Folder_vocab\n",
    "CO_Folder_vocab"
   ]
  },
  {
   "cell_type": "code",
   "execution_count": 63,
   "id": "347d9e89",
   "metadata": {},
   "outputs": [
    {
     "data": {
      "text/html": [
       "<div>\n",
       "<style scoped>\n",
       "    .dataframe tbody tr th:only-of-type {\n",
       "        vertical-align: middle;\n",
       "    }\n",
       "\n",
       "    .dataframe tbody tr th {\n",
       "        vertical-align: top;\n",
       "    }\n",
       "\n",
       "    .dataframe thead th {\n",
       "        text-align: right;\n",
       "    }\n",
       "</style>\n",
       "<table border=\"1\" class=\"dataframe\">\n",
       "  <thead>\n",
       "    <tr style=\"text-align: right;\">\n",
       "      <th></th>\n",
       "      <th>ro.Rx-ObsPnt_ct.RecNum</th>\n",
       "    </tr>\n",
       "  </thead>\n",
       "  <tbody>\n",
       "    <tr>\n",
       "      <th>tid</th>\n",
       "      <td>{'tid2tkn': {0: '[UNK]', 1: 'recnum', 2: 'recs...</td>\n",
       "    </tr>\n",
       "    <tr>\n",
       "      <th>wgt</th>\n",
       "      <td>{}</td>\n",
       "    </tr>\n",
       "  </tbody>\n",
       "</table>\n",
       "</div>"
      ],
      "text/plain": [
       "                                ro.Rx-ObsPnt_ct.RecNum\n",
       "tid  {'tid2tkn': {0: '[UNK]', 1: 'recnum', 2: 'recs...\n",
       "wgt                                                 {}"
      ]
     },
     "execution_count": 63,
     "metadata": {},
     "output_type": "execute_result"
    }
   ],
   "source": [
    "df_Vocab = pd.DataFrame({CaseObsName: CO_vocab})\n",
    "df_Vocab.to_pickle(CO_Folder_vocab)\n",
    "df_Vocab"
   ]
  },
  {
   "cell_type": "code",
   "execution_count": null,
   "id": "b4681754",
   "metadata": {},
   "outputs": [],
   "source": []
  },
  {
   "cell_type": "code",
   "execution_count": null,
   "id": "3811d5db",
   "metadata": {},
   "outputs": [],
   "source": []
  },
  {
   "cell_type": "code",
   "execution_count": null,
   "id": "1211df2c",
   "metadata": {},
   "outputs": [],
   "source": []
  }
 ],
 "metadata": {
  "kernelspec": {
   "display_name": "Python 3 (ipykernel)",
   "language": "python",
   "name": "python3"
  },
  "language_info": {
   "codemirror_mode": {
    "name": "ipython",
    "version": 3
   },
   "file_extension": ".py",
   "mimetype": "text/x-python",
   "name": "python",
   "nbconvert_exporter": "python",
   "pygments_lexer": "ipython3",
   "version": "3.11.7"
  },
  "toc-autonumbering": true
 },
 "nbformat": 4,
 "nbformat_minor": 5
}
