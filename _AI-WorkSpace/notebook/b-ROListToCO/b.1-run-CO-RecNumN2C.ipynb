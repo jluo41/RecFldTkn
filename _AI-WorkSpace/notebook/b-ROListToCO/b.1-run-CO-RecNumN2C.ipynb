{
 "cells": [
  {
   "cell_type": "markdown",
   "id": "881d73c8-f12f-4a9b-a485-996a76289767",
   "metadata": {},
   "source": [
    "# Space"
   ]
  },
  {
   "cell_type": "code",
   "execution_count": 1,
   "id": "4bd61dfc",
   "metadata": {},
   "outputs": [
    {
     "name": "stdout",
     "output_type": "stream",
     "text": [
      "/Users/floydluo/Library/CloudStorage/OneDrive-DRFIRST.COM,INC/Documents - DrFirst-JHU Collaboration Center/DrFirst-Project/2024-DrFirst-v4-SPACE/_DrFirst-AI-EgmPred-WorkSpace\n"
     ]
    }
   ],
   "source": [
    "import os\n",
    "import sys \n",
    "import logging\n",
    "import random\n",
    "import pandas as pd \n",
    "from pprint import pprint \n",
    "from IPython.display import display, HTML\n",
    "\n",
    "# WorkSpace\n",
    "KEY = 'WorkSpace'; WORKSPACE_PATH = os.getcwd().split(KEY)[0] + KEY; print(WORKSPACE_PATH)\n",
    "os.chdir(WORKSPACE_PATH)\n",
    "sys.path.append(WORKSPACE_PATH)\n",
    "\n",
    "# Pipeline Space\n",
    "from proj_space import SPACE\n",
    "SPACE['WORKSPACE_PATH'] = WORKSPACE_PATH\n",
    "sys.path.append(SPACE['CODE_FN'])\n",
    "# pprint(SPACE)\n",
    "\n",
    "# Available Packages\n",
    "import argparse\n",
    "import datasets\n",
    "import pandas as pd\n",
    "from datetime import datetime \n",
    "\n",
    "\n",
    "from recfldtkn.configfn import load_cohort_args\n",
    "from recfldtkn.loadtools import load_module_variables, update_args_to_list\n",
    "from recfldtkn.observer import get_RecObsName_to_RecObsInfo, CaseObserverTransformer\n",
    "from config_observer.CKPD import ckpd_to_CkpdObsConfig\n",
    "\n",
    "logger = logging.getLogger(__name__)\n",
    "recfldtkn_config_path = os.path.join(SPACE['CODE_FN'], 'config_recfldtkn/')\n"
   ]
  },
  {
   "cell_type": "markdown",
   "id": "d218a53e",
   "metadata": {},
   "source": [
    "# [Part 1] Get a Caseset: Case Examples"
   ]
  },
  {
   "cell_type": "markdown",
   "metadata": {},
   "source": [
    "## [Step 1]"
   ]
  },
  {
   "cell_type": "code",
   "execution_count": 2,
   "id": "7140db62",
   "metadata": {},
   "outputs": [
    {
     "data": {
      "text/plain": [
       "{'TriggerRecName': 'Rx',\n",
       " 'case_id_columns': ['PID', 'ObsDT', 'PInvID', 'RxID'],\n",
       " 'special_columns': ['PID', 'DT', 'PInvID', 'RxID', 'drug_name'],\n",
       " 'convert_TriggerEvent_to_Caseset': <function TrulicityRx.convert_TriggerEvent_to_Caseset(ds_rec, case_id_columns, special_columns, base_config)>}"
      ]
     },
     "execution_count": 2,
     "metadata": {},
     "output_type": "execute_result"
    }
   ],
   "source": [
    "from recfldtkn.loadtools import fetch_TriggerEvent_tools\n",
    "\n",
    "\n",
    "####################\n",
    "TriggerCaseMethod = 'TrulicityRx'\n",
    "####################\n",
    "\n",
    "Trigger_tools = fetch_TriggerEvent_tools(TriggerCaseMethod, SPACE)\n",
    "Trigger_tools "
   ]
  },
  {
   "cell_type": "code",
   "execution_count": 3,
   "id": "b7aa3287",
   "metadata": {},
   "outputs": [
    {
     "name": "stdout",
     "output_type": "stream",
     "text": [
      "{'CohortInfo': {'RawData2023Nov_Trulicity': {'cohort_label': 1, 'cohort_name': 'RawData2023Nov_Trulicity', 'FolderPath': '../_Data/0-Data_Raw/2023_11_30_30days_Trulicity'}}, 'RawRootID': 'patient_id_encoded', 'RootID': 'PID', 'RecName': 'PRawRecNum', 'recattr_pyfolder': '../pipeline/fn_recattr/', 'fldtkn_pyfolder': '../pipeline/fn_fldtkn/', 'humanrec_pyfolder': '../pipeline/fn_humanrec/', 'inference_pyfolder': '../pipeline/fn_inference/', 'trigger_pyfolder': '../pipeline/fn_trigger/', 'RecName_Sequence': ['P', 'PInv', 'Rx', 'EgmAuthen', 'EgmCallPharm', 'EgmClick', 'EgmCopay', 'EgmEdu', 'EgmRmd'], 'RecName_to_PrtRecName': {'P': 'None', 'PInv': 'P', 'Rx': 'PInv', 'EgmAuthen': 'PInv', 'EgmCallPharm': 'PInv', 'EgmClick': 'PInv', 'EgmCopay': 'Rx', 'EgmEdu': 'Rx', 'EgmRmd': 'Rx'}, 'RecName_to_RFT_GROUP_SIZE': {'Default': 5000}, 'RecName_to_RFT_idx_group_size': {'Default': 10000}, 'RecName_to_RFT_usebucket': {'Default': False}, 'RootIDLength': 6, 'recfldtkn_config_path': '../pipeline/config_recfldtkn/', 'SPACE': {'DATA_RAW': '../_Data/0-Data_Raw', 'DATA_RFT': '../_Data/1-Data_RFT', 'DATA_EXTERNAL': '../external', 'DATA_CaseObs': '../_Data/2-Data_CaseObs', 'DATA_CaseFeat': '../_Data/3-Data_CaseFeat', 'DATA_CaseSet': '../_Data/4-Data_CaseSet', 'CODE_FN': '../pipeline', 'CODE_RFT': '../pipeline', 'DATA_TASK': '_data', 'MODEL_TASK': '../_Model', 'TaskName': 'EduRxPred', 'WORKSPACE_PATH': '/Users/floydluo/Library/CloudStorage/OneDrive-DRFIRST.COM,INC/Documents - DrFirst-JHU Collaboration Center/DrFirst-Project/2024-DrFirst-v4-SPACE/_DrFirst-AI-EgmPred-WorkSpace'}, 'pypath': '../pipeline/fn_humanrec/humanrec.py', 'ckpd_to_CkpdObsConfig': {'ObsPnt': {'DistStartToPredDT': -0.01, 'DistEndToPredDT': 0.01, 'TimeUnit': 'min', 'StartIdx5Min': 0, 'EndIdx5Min': 0}, 'Bf24H': {'DistStartToPredDT': -24, 'DistEndToPredDT': 0.01, 'TimeUnit': 'h', 'StartIdx5Min': -288, 'EndIdx5Min': 0}, 'Bf1M': {'DistStartToPredDT': -720, 'DistEndToPredDT': 0.01, 'TimeUnit': 'h', 'StartIdx5Min': -8640, 'EndIdx5Min': 0}, 'Bf1Y': {'DistStartToPredDT': -365, 'DistEndToPredDT': -1e-06, 'TimeUnit': 'D', 'StartIdx5Min': -105120, 'EndIdx5Min': -1}, 'Bf1YIn': {'DistStartToPredDT': -365, 'DistEndToPredDT': 1e-06, 'TimeUnit': 'D', 'StartIdx5Min': -105120, 'EndIdx5Min': 1}, 'Bf10Y': {'DistStartToPredDT': -3650, 'DistEndToPredDT': -1e-06, 'TimeUnit': 'D', 'StartIdx5Min': -1051200, 'EndIdx5Min': 1}, 'Af2H': {'DistStartToPredDT': 1, 'DistEndToPredDT': 121, 'TimeUnit': 'min', 'StartIdx5Min': 1, 'EndIdx5Min': 24}, 'Af1W': {'DistStartToPredDT': 0.0001, 'DistEndToPredDT': 7, 'TimeUnit': 'D', 'StartIdx5Min': 1, 'EndIdx5Min': 2016}, 'Af1Wlft': {'DistStartToPredDT': -0.0001, 'DistEndToPredDT': 7, 'TimeUnit': 'D', 'StartIdx5Min': 1, 'EndIdx5Min': 2016}, 'Af1Y': {'DistStartToPredDT': 0.0001, 'DistEndToPredDT': 365, 'TimeUnit': 'D', 'StartIdx5Min': 1, 'EndIdx5Min': 105120}, 'PntAf1Y2M': {'DistStartToPredDT': 305, 'DistEndToPredDT': 425, 'TimeUnit': 'D', 'StartIdx5Min': 87840, 'EndIdx5Min': 122400}, 'PntAf1Y3M': {'DistStartToPredDT': 275, 'DistEndToPredDT': 455, 'TimeUnit': 'D', 'StartIdx5Min': 79200, 'EndIdx5Min': 131040}}, 'case_id_columns': ['PID', 'ObsDT', 'PInvID', 'RxID'], 'ObsDTName': 'ObsDT', 'PID_ObsDT_columns': ['PID', 'ObsDT']}\n",
      "../_Data/4-Data_CaseSet/TrulicityRx.p\n"
     ]
    },
    {
     "data": {
      "text/plain": [
       "Dataset({\n",
       "    features: ['PID', 'ObsDT', 'PInvID', 'RxID', 'DT', 'drug_name'],\n",
       "    num_rows: 1000\n",
       "})"
      ]
     },
     "execution_count": 3,
     "metadata": {},
     "output_type": "execute_result"
    }
   ],
   "source": [
    "##################################\n",
    "CaseSetName = TriggerCaseMethod\n",
    "case_id_columns = Trigger_tools['case_id_columns']\n",
    "special_columns = Trigger_tools['special_columns']\n",
    "##################################\n",
    "\n",
    "TriggerCasePath = os.path.join(SPACE['DATA_CaseSet'], f'{CaseSetName}.p')\n",
    "cohort_args = load_cohort_args(recfldtkn_config_path, SPACE)\n",
    "cohort_args['ckpd_to_CkpdObsConfig'] = ckpd_to_CkpdObsConfig\n",
    "cohort_args['case_id_columns'] = case_id_columns\n",
    "cohort_args['ObsDTName'] = 'ObsDT'\n",
    "cohort_args['PID_ObsDT_columns'] = [cohort_args['RootID'], cohort_args['ObsDTName']]\n",
    "\n",
    "print(cohort_args)\n",
    "print(TriggerCasePath)\n",
    "\n",
    "df_case = pd.read_pickle(TriggerCasePath) # (1000)\n",
    "df_case = df_case.sample(1000, random_state=0).reset_index(drop=True)\n",
    "ds_case = datasets.Dataset.from_pandas(df_case)\n",
    "ds_case"
   ]
  },
  {
   "cell_type": "markdown",
   "id": "7a80d013",
   "metadata": {},
   "source": [
    "\n",
    "## [Step 2] RO: Record Observation & CasePhi\n"
   ]
  },
  {
   "cell_type": "code",
   "execution_count": 4,
   "id": "3cad5623",
   "metadata": {},
   "outputs": [],
   "source": [
    "###########################\n",
    "ROName_List = ['Rx-ObsPnt']\n",
    "name_CasePhi = 'RecNumN2C'\n",
    "###########################"
   ]
  },
  {
   "cell_type": "code",
   "execution_count": 5,
   "id": "bb6339df",
   "metadata": {},
   "outputs": [
    {
     "name": "stdout",
     "output_type": "stream",
     "text": [
      "ro.Rx-ObsPnt_ct.RecNumN2C\n"
     ]
    }
   ],
   "source": [
    "from recfldtkn.obsname import convert_RONameList_to_COName\n",
    "\n",
    "CaseObsName = convert_RONameList_to_COName(ROName_List, name_CasePhi)\n",
    "print(CaseObsName)"
   ]
  },
  {
   "cell_type": "code",
   "execution_count": 6,
   "id": "aa00899c",
   "metadata": {},
   "outputs": [
    {
     "name": "stdout",
     "output_type": "stream",
     "text": [
      "../_Data/2-Data_CaseObs/ro.Rx-ObsPnt_ct.RecNumN2C\n"
     ]
    }
   ],
   "source": [
    "# part of fetch_caseobs_Phi_tools\n",
    "CO_Folder = os.path.join(SPACE['DATA_CaseObs'], CaseObsName)\n",
    "if not os.path.exists(CO_Folder): os.makedirs(CO_Folder)\n",
    "print(CO_Folder)"
   ]
  },
  {
   "cell_type": "markdown",
   "id": "7478e21b",
   "metadata": {},
   "source": [
    "# [Part 2] Tools for ds_case_obs"
   ]
  },
  {
   "cell_type": "markdown",
   "id": "a56c2a76",
   "metadata": {},
   "source": [
    "## [Step 1] Prepare examples"
   ]
  },
  {
   "cell_type": "code",
   "execution_count": 7,
   "id": "d341d32a",
   "metadata": {},
   "outputs": [
    {
     "name": "stdout",
     "output_type": "stream",
     "text": [
      "{'PID': [1033176, 1009211, 1017193, 1027056, 1014849], 'ObsDT': [Timestamp('2023-09-25 13:31:48.690000'), Timestamp('2023-09-01 19:40:45.612000'), Timestamp('2023-09-08 12:58:32.934000'), Timestamp('2023-07-17 20:54:55.528000'), Timestamp('2023-09-12 01:17:17.377000')], 'PInvID': ['1033176-003', '1009211-001', '1017193-010', '1027056-002', '1014849-017'], 'RxID': ['1033176-003-000', '1009211-001-000', '1017193-010-000', '1027056-002-000', '1014849-017-002'], 'DT': [Timestamp('2023-09-25 13:31:48.690000'), Timestamp('2023-09-01 19:40:45.612000'), Timestamp('2023-09-08 12:58:32.934000'), Timestamp('2023-07-17 20:54:55.528000'), Timestamp('2023-09-12 01:17:17.377000')], 'drug_name': ['Trulicity', 'Trulicity', 'Trulicity', 'Trulicity', 'Trulicity']}\n"
     ]
    }
   ],
   "source": [
    "case_examples = ds_case[:5]\n",
    "print(case_examples)"
   ]
  },
  {
   "cell_type": "code",
   "execution_count": 8,
   "id": "1a140aa9",
   "metadata": {},
   "outputs": [
    {
     "name": "stdout",
     "output_type": "stream",
     "text": [
      "{0: {'PID': 1033176,\n",
      "     'ObsDT': Timestamp('2023-09-25 13:31:48.690000'),\n",
      "     'PInvID': '1033176-003',\n",
      "     'RxID': '1033176-003-000',\n",
      "     'DT': Timestamp('2023-09-25 13:31:48.690000'),\n",
      "     'drug_name': 'Trulicity'},\n",
      " 1: {'PID': 1009211,\n",
      "     'ObsDT': Timestamp('2023-09-01 19:40:45.612000'),\n",
      "     'PInvID': '1009211-001',\n",
      "     'RxID': '1009211-001-000',\n",
      "     'DT': Timestamp('2023-09-01 19:40:45.612000'),\n",
      "     'drug_name': 'Trulicity'},\n",
      " 2: {'PID': 1017193,\n",
      "     'ObsDT': Timestamp('2023-09-08 12:58:32.934000'),\n",
      "     'PInvID': '1017193-010',\n",
      "     'RxID': '1017193-010-000',\n",
      "     'DT': Timestamp('2023-09-08 12:58:32.934000'),\n",
      "     'drug_name': 'Trulicity'},\n",
      " 3: {'PID': 1027056,\n",
      "     'ObsDT': Timestamp('2023-07-17 20:54:55.528000'),\n",
      "     'PInvID': '1027056-002',\n",
      "     'RxID': '1027056-002-000',\n",
      "     'DT': Timestamp('2023-07-17 20:54:55.528000'),\n",
      "     'drug_name': 'Trulicity'},\n",
      " 4: {'PID': 1014849,\n",
      "     'ObsDT': Timestamp('2023-09-12 01:17:17.377000'),\n",
      "     'PInvID': '1014849-017',\n",
      "     'RxID': '1014849-017-002',\n",
      "     'DT': Timestamp('2023-09-12 01:17:17.377000'),\n",
      "     'drug_name': 'Trulicity'}}\n"
     ]
    }
   ],
   "source": [
    "length = len(case_examples[list(case_examples.keys())[0]])\n",
    "case_examples_list = [{k: v[i] for k, v in case_examples.items()} for i in range(length)]\n",
    "idx_to_examples = {i: case_examples_list[i] for i in range(length)}\n",
    "pprint(idx_to_examples, sort_dicts=False)"
   ]
  },
  {
   "cell_type": "code",
   "execution_count": 9,
   "id": "f4515d69",
   "metadata": {},
   "outputs": [
    {
     "data": {
      "text/plain": [
       "{'PID': 1009211,\n",
       " 'ObsDT': Timestamp('2023-09-01 19:40:45.612000'),\n",
       " 'PInvID': '1009211-001',\n",
       " 'RxID': '1009211-001-000',\n",
       " 'DT': Timestamp('2023-09-01 19:40:45.612000'),\n",
       " 'drug_name': 'Trulicity'}"
      ]
     },
     "execution_count": 9,
     "metadata": {},
     "output_type": "execute_result"
    }
   ],
   "source": [
    "case_example = idx_to_examples[1]\n",
    "case_example"
   ]
  },
  {
   "cell_type": "markdown",
   "id": "899b14be",
   "metadata": {},
   "source": [
    "## [Step 2] get_caseobs_id"
   ]
  },
  {
   "cell_type": "code",
   "execution_count": 10,
   "id": "e9c2b544",
   "metadata": {},
   "outputs": [],
   "source": [
    "import inspect\n",
    "#################################################\n",
    "def get_CO_id(case_example, CaseObsName, cohort_args):\n",
    "    RootID = cohort_args['RootID']\n",
    "    ObsDTName = cohort_args['ObsDTName']\n",
    "    PIDValue = case_example[RootID]\n",
    "    ObsDTValue = case_example[ObsDTName].isoformat()\n",
    "    return f'{PIDValue}&{ObsDTValue}'\n",
    "\n",
    "get_CO_id.fn_string = inspect.getsource(get_CO_id)\n",
    "#################################################"
   ]
  },
  {
   "cell_type": "code",
   "execution_count": 11,
   "id": "ac158e3b",
   "metadata": {},
   "outputs": [
    {
     "data": {
      "text/plain": [
       "'1009211&2023-09-01T19:40:45.612000'"
      ]
     },
     "execution_count": 11,
     "metadata": {},
     "output_type": "execute_result"
    }
   ],
   "source": [
    "caseobs_id = get_CO_id(case_example, CaseObsName, cohort_args)\n",
    "caseobs_id # CO_id"
   ]
  },
  {
   "cell_type": "markdown",
   "id": "b2f1a72b",
   "metadata": {},
   "source": [
    "\n",
    "\n",
    "## [Step 3] RO List and CasePhi"
   ]
  },
  {
   "cell_type": "code",
   "execution_count": 12,
   "id": "e4bea33f",
   "metadata": {},
   "outputs": [
    {
     "data": {
      "text/plain": [
       "'RecNumN2C'"
      ]
     },
     "execution_count": 12,
     "metadata": {},
     "output_type": "execute_result"
    }
   ],
   "source": [
    "name_CasePhi "
   ]
  },
  {
   "cell_type": "code",
   "execution_count": 13,
   "id": "206a0628",
   "metadata": {},
   "outputs": [],
   "source": [
    "## we need to prepare these five arguments.\n",
    "# CaseTkn     # <------- we have this.\n",
    "# cohort_args # <------- we have this.\n",
    "\n",
    "# RecObs_Name \n",
    "# rec_args\n",
    "# column_names # attribute name of R^recordname"
   ]
  },
  {
   "cell_type": "code",
   "execution_count": 14,
   "id": "bad0cfc2",
   "metadata": {},
   "outputs": [
    {
     "name": "stdout",
     "output_type": "stream",
     "text": [
      "['Rx-ObsPnt']\n",
      "Rx-ObsPnt\n"
     ]
    }
   ],
   "source": [
    "######### RecObs_Name\n",
    "print(ROName_List) # RO_List\n",
    "# Let's focus on one RO\n",
    "ROName = ROName_List[0]\n",
    "print(ROName)"
   ]
  },
  {
   "cell_type": "code",
   "execution_count": 15,
   "id": "60aca5da",
   "metadata": {},
   "outputs": [],
   "source": [
    "# RO = 'Rx-Bf2M-InsCate'\n",
    "# RO = 'Rx-Bf2M'\n",
    "# RO = 'P-Zip3DemoNume'"
   ]
  },
  {
   "cell_type": "markdown",
   "id": "3b5a5b71",
   "metadata": {},
   "source": [
    "## [Step4] RO Information"
   ]
  },
  {
   "cell_type": "code",
   "execution_count": 16,
   "id": "e7ecf801",
   "metadata": {},
   "outputs": [
    {
     "name": "stdout",
     "output_type": "stream",
     "text": [
      "Rx ObsPnt None\n"
     ]
    }
   ],
   "source": [
    "# decompose RO to RecName, CkpdName, FldName (small phi)\n",
    "from recfldtkn.obsname import parse_RecObsName\n",
    "\n",
    "d = parse_RecObsName(ROName, ckpd_to_CkpdObsConfig)\n",
    "RecName = d['RecName']\n",
    "CkpdName = d['CkpdName']\n",
    "FldName = d['FldName']\n",
    "print(RecName, CkpdName, FldName)"
   ]
  },
  {
   "cell_type": "code",
   "execution_count": 17,
   "id": "8ab84af9",
   "metadata": {},
   "outputs": [
    {
     "name": "stdout",
     "output_type": "stream",
     "text": [
      "Rx\n"
     ]
    },
    {
     "data": {
      "text/plain": [
       "['CohortInfo',\n",
       " 'RawInfo',\n",
       " 'RecName',\n",
       " 'RecID',\n",
       " 'RecIDChain',\n",
       " 'RawRecID',\n",
       " 'RecDT',\n",
       " 'ParentRecName',\n",
       " 'attr_cols',\n",
       " 'pypath',\n",
       " 'FldTknInfo',\n",
       " 'RFT_GROUP_SIZE',\n",
       " 'idx_group_size',\n",
       " 'usebucket',\n",
       " 'GROUP_SIZE',\n",
       " 'recfldtkn_config_path',\n",
       " 'yaml_file_path']"
      ]
     },
     "execution_count": 17,
     "metadata": {},
     "output_type": "execute_result"
    }
   ],
   "source": [
    "# load all information about the R^record_name. \n",
    "from recfldtkn.configfn import load_record_args\n",
    "\n",
    "print(RecName)\n",
    "rec_args = load_record_args(RecName, cohort_args)\n",
    "[i for i in rec_args]"
   ]
  },
  {
   "cell_type": "markdown",
   "id": "8a6aa7f7",
   "metadata": {},
   "source": [
    "## [Step 5] Load ds_rec"
   ]
  },
  {
   "cell_type": "code",
   "execution_count": 18,
   "id": "d64f4802",
   "metadata": {},
   "outputs": [],
   "source": [
    "from recfldtkn.loadtools import load_ds_rec_and_info\n",
    "\n",
    "ds_rec, ds_rec_info = load_ds_rec_and_info(RecName, cohort_args)\n",
    "# R^Rx\n",
    "# ROdf # Rx-Bf2M (i, t, Bf2M)"
   ]
  },
  {
   "cell_type": "code",
   "execution_count": 19,
   "id": "4cb89109",
   "metadata": {},
   "outputs": [
    {
     "data": {
      "text/plain": [
       "['PID',\n",
       " 'PInvID',\n",
       " 'RxID',\n",
       " 'prescription_id_encoded',\n",
       " 'DT',\n",
       " 'start_date',\n",
       " 'invitation_date',\n",
       " 'insurance_start_date',\n",
       " 'written_date',\n",
       " 'date_fdb_updated',\n",
       " 'prescriber_npi',\n",
       " 'ncpdp_id',\n",
       " 'pharmacy_name_rx',\n",
       " 'simple_pharmacy_name_rx',\n",
       " 'specialty_pharmacy',\n",
       " 'pharmacy_zip_code_3',\n",
       " 'ndc_id',\n",
       " 'drug_name',\n",
       " 'drug_description',\n",
       " 'generic_id',\n",
       " 'top_200_branded_drugs',\n",
       " 'top_50_generic_drugs',\n",
       " 'brand_source',\n",
       " 'fill_number',\n",
       " 'refills_available',\n",
       " 'quantity_unit',\n",
       " 'quantity',\n",
       " 'days_supply',\n",
       " 'package_size',\n",
       " 'package_units',\n",
       " 'strength',\n",
       " 'strength_units',\n",
       " 'total_package_strength',\n",
       " 'directions',\n",
       " 'delivery_type',\n",
       " 'legend_status',\n",
       " 'show_rems_campaigns',\n",
       " 'show_coupon_campaigns',\n",
       " 'show_educational_campaigns',\n",
       " 'show_internal_campaigns',\n",
       " 'show_target_campaigns',\n",
       " 'show_experimental_campaigns',\n",
       " 'send_refill_reminder_messages',\n",
       " 'send_renewal_reminder_messages',\n",
       " 'supports_hippo_prices',\n",
       " 'supports_hippo_prices65',\n",
       " 'supports_copay_prices',\n",
       " 'supports_hippo_prices_medicare',\n",
       " 'rx_bin',\n",
       " 'rx_pcn',\n",
       " 'dispenser_class',\n",
       " 'primary_dispenser_type',\n",
       " 'campaign_id',\n",
       " 'record_locator_encoded',\n",
       " 'source_id',\n",
       " 'group_id',\n",
       " 'customer_type',\n",
       " 'organization_type',\n",
       " 'plan_name',\n",
       " 'suppliers',\n",
       " 'ther_eq_hierarchy_name',\n",
       " 'ther_eq_parent_name',\n",
       " 'ther_eq_ult_parent_name',\n",
       " 'ther_eq_ult_child_ind',\n",
       " 'ther_eq_ult_parent_etc_id',\n",
       " 'ther_eq_hierarchy_level',\n",
       " 'therapeutic_equivalence_id',\n",
       " 'Rx-CmpCateTkn_wgt',\n",
       " 'Rx-CmpCateTkn_tknidx',\n",
       " 'Rx-InsCateTkn_wgt',\n",
       " 'Rx-InsCateTkn_tknidx',\n",
       " 'Rx-ServiceCateTkn_wgt',\n",
       " 'Rx-ServiceCateTkn_tknidx',\n",
       " 'Rx-SysCateTkn_wgt',\n",
       " 'Rx-SysCateTkn_tknidx',\n",
       " 'Rx-QuantN2CTkn_wgt',\n",
       " 'Rx-QuantN2CTkn_tknidx',\n",
       " 'Rx-QuantNumeTkn_wgt',\n",
       " 'Rx-QuantNumeTkn_tknidx',\n",
       " 'Rx-TherEqCateTkn_wgt',\n",
       " 'Rx-TherEqCateTkn_tknidx',\n",
       " 'Rx-DrugBasicCateTkn_wgt',\n",
       " 'Rx-DrugBasicCateTkn_tknidx',\n",
       " 'Rx-PhmBasicCateTkn_wgt',\n",
       " 'Rx-PhmBasicCateTkn_tknidx',\n",
       " 'Rx-PhmZip3HousingNumeTkn_wgt',\n",
       " 'Rx-PhmZip3HousingNumeTkn_tknidx']"
      ]
     },
     "execution_count": 19,
     "metadata": {},
     "output_type": "execute_result"
    }
   ],
   "source": [
    "######### column_names (or we can all it attribute columns)\n",
    "column_names = ds_rec.column_names # attr_columns + phi_columns\n",
    "column_names\n",
    "# ROdf_ij --(Phi: RecNum)-> COdf_ij "
   ]
  },
  {
   "cell_type": "markdown",
   "id": "87d61f22",
   "metadata": {},
   "source": [
    "## [Step 6] get_selected_columns (attr + phi) from ds_rec"
   ]
  },
  {
   "cell_type": "code",
   "execution_count": 20,
   "id": "f0242f26",
   "metadata": {},
   "outputs": [
    {
     "data": {
      "text/plain": [
       "'Rx-ObsPnt'"
      ]
     },
     "execution_count": 20,
     "metadata": {},
     "output_type": "execute_result"
    }
   ],
   "source": [
    "ROName"
   ]
  },
  {
   "cell_type": "code",
   "execution_count": 21,
   "id": "e4c9644d",
   "metadata": {},
   "outputs": [],
   "source": [
    "###############################\n",
    "def get_selected_columns(ROName, column_names, cohort_args, rec_args, CaseTkn):\n",
    "    base_columns = [cohort_args['RootID'], rec_args['RecID'], rec_args['RecDT']]\n",
    "    return base_columns\n",
    "get_selected_columns.fn_string = inspect.getsource(get_selected_columns)\n",
    "###############################"
   ]
  },
  {
   "cell_type": "code",
   "execution_count": 22,
   "id": "d79b86cd",
   "metadata": {},
   "outputs": [
    {
     "data": {
      "text/plain": [
       "['PID', 'RxID', 'DT']"
      ]
     },
     "execution_count": 22,
     "metadata": {},
     "output_type": "execute_result"
    }
   ],
   "source": [
    "# big question here\n",
    "# if small phi is not applied in the record level\n",
    "# how do we deploy the tools of small phi within this process?\n",
    "get_selected_columns(ROName, column_names, cohort_args, rec_args, name_CasePhi)"
   ]
  },
  {
   "cell_type": "code",
   "execution_count": 23,
   "id": "bf587b85",
   "metadata": {},
   "outputs": [
    {
     "name": "stdout",
     "output_type": "stream",
     "text": [
      "['Rx-ObsPnt']\n",
      "RecNumN2C\n",
      "<function get_selected_columns at 0x1858d3a60>\n"
     ]
    }
   ],
   "source": [
    "print(ROName_List)\n",
    "print(name_CasePhi)\n",
    "print(get_selected_columns)"
   ]
  },
  {
   "cell_type": "code",
   "execution_count": 24,
   "id": "e26e9f62",
   "metadata": {},
   "outputs": [],
   "source": [
    "# RecObsName_to_RecObsInfo # RO_to_ROinfo\n",
    "\n",
    "from recfldtkn.observer import get_RecObsName_to_RecObsInfo\n",
    "\n",
    "record_to_ds_rec = {}        # set this to empty dictionary, then we will load data from disk\n",
    "record_to_ds_rec_info = {}   # set this to empty dictionary, then we will load data from disk\n",
    "ROName_to_ROInfo = get_RecObsName_to_RecObsInfo(ROName_List, \n",
    "                                                name_CasePhi, \n",
    "                                                get_selected_columns,\n",
    "                                                cohort_args, \n",
    "                                                cohort_args['ckpd_to_CkpdObsConfig'], \n",
    "                                                record_to_ds_rec, \n",
    "                                                record_to_ds_rec_info)\n",
    "    \n",
    "ROName = ROName_List[0] # Rx-Bf2M  \n",
    "ROInfo = ROName_to_ROInfo[ROName] # RxInfo + R^Rx (with necessary columns) + Ckpd + FldTkn (phi)"
   ]
  },
  {
   "cell_type": "code",
   "execution_count": 25,
   "id": "3e1f08ca",
   "metadata": {},
   "outputs": [
    {
     "data": {
      "text/plain": [
       "['rec_args',\n",
       " 'RecName',\n",
       " 'CkpdName',\n",
       " 'CkpdInfo',\n",
       " 'FldName',\n",
       " 'FldTknName',\n",
       " 'FldIdx2Tkn',\n",
       " 'fldtkn_args',\n",
       " 'fld_tokenizer_fn',\n",
       " 'run_fldtkn_on_the_fly',\n",
       " 'ds_rec',\n",
       " 'df_rec_info']"
      ]
     },
     "execution_count": 25,
     "metadata": {},
     "output_type": "execute_result"
    }
   ],
   "source": [
    "[i for i in ROInfo]\n",
    "# pprint(ROInfo)"
   ]
  },
  {
   "cell_type": "code",
   "execution_count": 26,
   "id": "1e859481",
   "metadata": {},
   "outputs": [
    {
     "data": {
      "text/plain": [
       "Dataset({\n",
       "    features: ['PID', 'RxID', 'DT'],\n",
       "    num_rows: 571656\n",
       "})"
      ]
     },
     "execution_count": 26,
     "metadata": {},
     "output_type": "execute_result"
    }
   ],
   "source": [
    "ROInfo['ds_rec'] # get_selected_columns"
   ]
  },
  {
   "cell_type": "markdown",
   "id": "90366719",
   "metadata": {},
   "source": [
    "## [Step 7] get_CO_vocab"
   ]
  },
  {
   "cell_type": "code",
   "execution_count": 27,
   "id": "2d978997",
   "metadata": {},
   "outputs": [],
   "source": [
    "def get_CO_vocab(RecObsName_to_RecObsInfo):\n",
    "    # phi_list\n",
    "    RecFldName_list = list(set([RecObsInfo['RecName'] + '-' +RecObsInfo['FldName'] \n",
    "                                for RecObsName, RecObsInfo in RecObsName_to_RecObsInfo.items()\n",
    "                                if RecObsInfo['FldName'] is not None ]\n",
    "                                ))\n",
    "    \n",
    "    # print('RecFldName_list----->', RecFldName_list)\n",
    "    # for current version: for any Phi, we only process one or zero phi. \n",
    "    assert len(RecFldName_list) <= 1\n",
    "    \n",
    "    value_list = [0, 1, 2, 3, 4, 5, 6, 7, 8, 9,\n",
    "                  10, 20, 30, 40, 50, 60, 70, 80, 90,\n",
    "                  100, 200, 300, 400, 500, 600, 700, 800, 900, \n",
    "                  1000, 2000, 3000, 4000, 5000, 6000, 7000, 8000, 9000, 10000]\n",
    "\n",
    "    RN_list = [f'RN_{i}' for i in value_list]\n",
    "    \n",
    "    RS_list = [f'RS_{i}H' for i in value_list]\n",
    "    \n",
    "    \n",
    "    ############################\n",
    "    idx2tkn = ['[UNK]'] + RN_list + RS_list\n",
    "    ############################\n",
    "\n",
    "    tid2tkn = {tid: tkn for tid, tkn in enumerate(idx2tkn)}\n",
    "    tkn2tid = {tkn: tid for tid, tkn in tid2tkn.items()}\n",
    "    CaseTknVocab = {}\n",
    "    CaseTknVocab['tid'] = {'tid2tkn': tid2tkn, 'tkn2tid': tkn2tid}\n",
    "    CaseTknVocab['wgt'] = {}\n",
    "    return CaseTknVocab\n",
    "    \n",
    "    \n",
    "get_CO_vocab.fn_string = inspect.getsource(get_CO_vocab)"
   ]
  },
  {
   "cell_type": "code",
   "execution_count": 28,
   "id": "5f0067d5",
   "metadata": {},
   "outputs": [
    {
     "name": "stdout",
     "output_type": "stream",
     "text": [
      "{'tid': {'tid2tkn': {0: '[UNK]',\n",
      "                     1: 'RN_0',\n",
      "                     2: 'RN_1',\n",
      "                     3: 'RN_2',\n",
      "                     4: 'RN_3',\n",
      "                     5: 'RN_4',\n",
      "                     6: 'RN_5',\n",
      "                     7: 'RN_6',\n",
      "                     8: 'RN_7',\n",
      "                     9: 'RN_8',\n",
      "                     10: 'RN_9',\n",
      "                     11: 'RN_10',\n",
      "                     12: 'RN_20',\n",
      "                     13: 'RN_30',\n",
      "                     14: 'RN_40',\n",
      "                     15: 'RN_50',\n",
      "                     16: 'RN_60',\n",
      "                     17: 'RN_70',\n",
      "                     18: 'RN_80',\n",
      "                     19: 'RN_90',\n",
      "                     20: 'RN_100',\n",
      "                     21: 'RN_200',\n",
      "                     22: 'RN_300',\n",
      "                     23: 'RN_400',\n",
      "                     24: 'RN_500',\n",
      "                     25: 'RN_600',\n",
      "                     26: 'RN_700',\n",
      "                     27: 'RN_800',\n",
      "                     28: 'RN_900',\n",
      "                     29: 'RN_1000',\n",
      "                     30: 'RN_2000',\n",
      "                     31: 'RN_3000',\n",
      "                     32: 'RN_4000',\n",
      "                     33: 'RN_5000',\n",
      "                     34: 'RN_6000',\n",
      "                     35: 'RN_7000',\n",
      "                     36: 'RN_8000',\n",
      "                     37: 'RN_9000',\n",
      "                     38: 'RN_10000',\n",
      "                     39: 'RS_0H',\n",
      "                     40: 'RS_1H',\n",
      "                     41: 'RS_2H',\n",
      "                     42: 'RS_3H',\n",
      "                     43: 'RS_4H',\n",
      "                     44: 'RS_5H',\n",
      "                     45: 'RS_6H',\n",
      "                     46: 'RS_7H',\n",
      "                     47: 'RS_8H',\n",
      "                     48: 'RS_9H',\n",
      "                     49: 'RS_10H',\n",
      "                     50: 'RS_20H',\n",
      "                     51: 'RS_30H',\n",
      "                     52: 'RS_40H',\n",
      "                     53: 'RS_50H',\n",
      "                     54: 'RS_60H',\n",
      "                     55: 'RS_70H',\n",
      "                     56: 'RS_80H',\n",
      "                     57: 'RS_90H',\n",
      "                     58: 'RS_100H',\n",
      "                     59: 'RS_200H',\n",
      "                     60: 'RS_300H',\n",
      "                     61: 'RS_400H',\n",
      "                     62: 'RS_500H',\n",
      "                     63: 'RS_600H',\n",
      "                     64: 'RS_700H',\n",
      "                     65: 'RS_800H',\n",
      "                     66: 'RS_900H',\n",
      "                     67: 'RS_1000H',\n",
      "                     68: 'RS_2000H',\n",
      "                     69: 'RS_3000H',\n",
      "                     70: 'RS_4000H',\n",
      "                     71: 'RS_5000H',\n",
      "                     72: 'RS_6000H',\n",
      "                     73: 'RS_7000H',\n",
      "                     74: 'RS_8000H',\n",
      "                     75: 'RS_9000H',\n",
      "                     76: 'RS_10000H'},\n",
      "         'tkn2tid': {'[UNK]': 0,\n",
      "                     'RN_0': 1,\n",
      "                     'RN_1': 2,\n",
      "                     'RN_2': 3,\n",
      "                     'RN_3': 4,\n",
      "                     'RN_4': 5,\n",
      "                     'RN_5': 6,\n",
      "                     'RN_6': 7,\n",
      "                     'RN_7': 8,\n",
      "                     'RN_8': 9,\n",
      "                     'RN_9': 10,\n",
      "                     'RN_10': 11,\n",
      "                     'RN_20': 12,\n",
      "                     'RN_30': 13,\n",
      "                     'RN_40': 14,\n",
      "                     'RN_50': 15,\n",
      "                     'RN_60': 16,\n",
      "                     'RN_70': 17,\n",
      "                     'RN_80': 18,\n",
      "                     'RN_90': 19,\n",
      "                     'RN_100': 20,\n",
      "                     'RN_200': 21,\n",
      "                     'RN_300': 22,\n",
      "                     'RN_400': 23,\n",
      "                     'RN_500': 24,\n",
      "                     'RN_600': 25,\n",
      "                     'RN_700': 26,\n",
      "                     'RN_800': 27,\n",
      "                     'RN_900': 28,\n",
      "                     'RN_1000': 29,\n",
      "                     'RN_2000': 30,\n",
      "                     'RN_3000': 31,\n",
      "                     'RN_4000': 32,\n",
      "                     'RN_5000': 33,\n",
      "                     'RN_6000': 34,\n",
      "                     'RN_7000': 35,\n",
      "                     'RN_8000': 36,\n",
      "                     'RN_9000': 37,\n",
      "                     'RN_10000': 38,\n",
      "                     'RS_0H': 39,\n",
      "                     'RS_1H': 40,\n",
      "                     'RS_2H': 41,\n",
      "                     'RS_3H': 42,\n",
      "                     'RS_4H': 43,\n",
      "                     'RS_5H': 44,\n",
      "                     'RS_6H': 45,\n",
      "                     'RS_7H': 46,\n",
      "                     'RS_8H': 47,\n",
      "                     'RS_9H': 48,\n",
      "                     'RS_10H': 49,\n",
      "                     'RS_20H': 50,\n",
      "                     'RS_30H': 51,\n",
      "                     'RS_40H': 52,\n",
      "                     'RS_50H': 53,\n",
      "                     'RS_60H': 54,\n",
      "                     'RS_70H': 55,\n",
      "                     'RS_80H': 56,\n",
      "                     'RS_90H': 57,\n",
      "                     'RS_100H': 58,\n",
      "                     'RS_200H': 59,\n",
      "                     'RS_300H': 60,\n",
      "                     'RS_400H': 61,\n",
      "                     'RS_500H': 62,\n",
      "                     'RS_600H': 63,\n",
      "                     'RS_700H': 64,\n",
      "                     'RS_800H': 65,\n",
      "                     'RS_900H': 66,\n",
      "                     'RS_1000H': 67,\n",
      "                     'RS_2000H': 68,\n",
      "                     'RS_3000H': 69,\n",
      "                     'RS_4000H': 70,\n",
      "                     'RS_5000H': 71,\n",
      "                     'RS_6000H': 72,\n",
      "                     'RS_7000H': 73,\n",
      "                     'RS_8000H': 74,\n",
      "                     'RS_9000H': 75,\n",
      "                     'RS_10000H': 76}},\n",
      " 'wgt': {}}\n"
     ]
    }
   ],
   "source": [
    "CO_vocab = get_CO_vocab(ROName_to_ROInfo)\n",
    "pprint(CO_vocab, sort_dicts=False)"
   ]
  },
  {
   "cell_type": "markdown",
   "id": "4701e452",
   "metadata": {},
   "source": [
    "\n",
    "## [Step 8] Fetch ds_rec"
   ]
  },
  {
   "cell_type": "code",
   "execution_count": 29,
   "id": "4666ba8a",
   "metadata": {},
   "outputs": [
    {
     "data": {
      "text/plain": [
       "{'PID': 1014849,\n",
       " 'ObsDT': Timestamp('2023-09-12 01:17:17.377000'),\n",
       " 'PInvID': '1014849-017',\n",
       " 'RxID': '1014849-017-002',\n",
       " 'DT': Timestamp('2023-09-12 01:17:17.377000'),\n",
       " 'drug_name': 'Trulicity'}"
      ]
     },
     "execution_count": 29,
     "metadata": {},
     "output_type": "execute_result"
    }
   ],
   "source": [
    "case_example = idx_to_examples[4]\n",
    "case_example"
   ]
  },
  {
   "cell_type": "code",
   "execution_count": 30,
   "id": "87d8d8f3",
   "metadata": {},
   "outputs": [
    {
     "data": {
      "text/plain": [
       "'Rx-ObsPnt'"
      ]
     },
     "execution_count": 30,
     "metadata": {},
     "output_type": "execute_result"
    }
   ],
   "source": [
    "ROName"
   ]
  },
  {
   "cell_type": "code",
   "execution_count": 31,
   "id": "e8144f36",
   "metadata": {},
   "outputs": [
    {
     "name": "stdout",
     "output_type": "stream",
     "text": [
      "{0: {'PID': 1033176,\n",
      "     'ObsDT': Timestamp('2023-09-25 13:31:48.690000'),\n",
      "     'PInvID': '1033176-003',\n",
      "     'RxID': '1033176-003-000',\n",
      "     'DT': Timestamp('2023-09-25 13:31:48.690000'),\n",
      "     'drug_name': 'Trulicity'},\n",
      " 1: {'PID': 1009211,\n",
      "     'ObsDT': Timestamp('2023-09-01 19:40:45.612000'),\n",
      "     'PInvID': '1009211-001',\n",
      "     'RxID': '1009211-001-000',\n",
      "     'DT': Timestamp('2023-09-01 19:40:45.612000'),\n",
      "     'drug_name': 'Trulicity'},\n",
      " 2: {'PID': 1017193,\n",
      "     'ObsDT': Timestamp('2023-09-08 12:58:32.934000'),\n",
      "     'PInvID': '1017193-010',\n",
      "     'RxID': '1017193-010-000',\n",
      "     'DT': Timestamp('2023-09-08 12:58:32.934000'),\n",
      "     'drug_name': 'Trulicity'},\n",
      " 3: {'PID': 1027056,\n",
      "     'ObsDT': Timestamp('2023-07-17 20:54:55.528000'),\n",
      "     'PInvID': '1027056-002',\n",
      "     'RxID': '1027056-002-000',\n",
      "     'DT': Timestamp('2023-07-17 20:54:55.528000'),\n",
      "     'drug_name': 'Trulicity'},\n",
      " 4: {'PID': 1014849,\n",
      "     'ObsDT': Timestamp('2023-09-12 01:17:17.377000'),\n",
      "     'PInvID': '1014849-017',\n",
      "     'RxID': '1014849-017-002',\n",
      "     'DT': Timestamp('2023-09-12 01:17:17.377000'),\n",
      "     'drug_name': 'Trulicity'}}\n"
     ]
    }
   ],
   "source": [
    "pprint(idx_to_examples, sort_dicts=False)"
   ]
  },
  {
   "cell_type": "code",
   "execution_count": 32,
   "id": "503bbbae",
   "metadata": {},
   "outputs": [
    {
     "name": "stdout",
     "output_type": "stream",
     "text": [
      "Rx-ObsPnt : ['rec_args', 'RecName', 'CkpdName', 'CkpdInfo', 'FldName', 'FldTknName', 'FldIdx2Tkn', 'fldtkn_args', 'fld_tokenizer_fn', 'run_fldtkn_on_the_fly', 'ds_rec', 'df_rec_info']\n"
     ]
    }
   ],
   "source": [
    "for ROName, ROInfo in ROName_to_ROInfo.items():\n",
    "    print(ROName, ':', [i for i in ROInfo])"
   ]
  },
  {
   "cell_type": "code",
   "execution_count": 33,
   "id": "8733c8d5",
   "metadata": {},
   "outputs": [
    {
     "name": "stdout",
     "output_type": "stream",
     "text": [
      "============ Rx ============\n",
      "{1009211: Dataset({\n",
      "    features: ['PID', 'RxID', 'DT'],\n",
      "    num_rows: 1\n",
      "}),\n",
      " 1014849: Dataset({\n",
      "    features: ['PID', 'RxID', 'DT'],\n",
      "    num_rows: 28\n",
      "}),\n",
      " 1017193: Dataset({\n",
      "    features: ['PID', 'RxID', 'DT'],\n",
      "    num_rows: 22\n",
      "}),\n",
      " 1027056: Dataset({\n",
      "    features: ['PID', 'RxID', 'DT'],\n",
      "    num_rows: 6\n",
      "}),\n",
      " 1033176: Dataset({\n",
      "    features: ['PID', 'RxID', 'DT'],\n",
      "    num_rows: 5\n",
      "})}\n"
     ]
    }
   ],
   "source": [
    "# RO_to_ROdf: RecObsName_to_RecObsDS\n",
    "from recfldtkn.observer import CaseObserverTransformer\n",
    "\n",
    "get_Record_P = CaseObserverTransformer.get_Record_P\n",
    "RecName_to_REC_P = get_Record_P(idx_to_examples, ROName_to_ROInfo)\n",
    "for RecName, REC_P in RecName_to_REC_P.items():\n",
    "    print(f'============ {RecName} ============')\n",
    "    pprint(REC_P)"
   ]
  },
  {
   "cell_type": "markdown",
   "id": "747bb7a8",
   "metadata": {},
   "source": [
    "## [Step 9] Fetch ROdf: $R_i^{recname}$"
   ]
  },
  {
   "cell_type": "code",
   "execution_count": 34,
   "id": "7ba386ac",
   "metadata": {},
   "outputs": [
    {
     "name": "stdout",
     "output_type": "stream",
     "text": [
      "\n",
      "====================\n",
      "idx: 0\n",
      "case: {'PID': 1033176, 'ObsDT': Timestamp('2023-09-25 13:31:48.690000'), 'PInvID': '1033176-003', 'RxID': '1033176-003-000', 'DT': Timestamp('2023-09-25 13:31:48.690000'), 'drug_name': 'Trulicity'}\n",
      "ROdf: {'Rx-ObsPnt': Dataset({\n",
      "    features: ['PID', 'RxID', 'DT'],\n",
      "    num_rows: 1\n",
      "})}\n",
      "====================\n",
      "\n",
      "====================\n",
      "idx: 1\n",
      "case: {'PID': 1009211, 'ObsDT': Timestamp('2023-09-01 19:40:45.612000'), 'PInvID': '1009211-001', 'RxID': '1009211-001-000', 'DT': Timestamp('2023-09-01 19:40:45.612000'), 'drug_name': 'Trulicity'}\n",
      "ROdf: {'Rx-ObsPnt': Dataset({\n",
      "    features: ['PID', 'RxID', 'DT'],\n",
      "    num_rows: 1\n",
      "})}\n",
      "====================\n",
      "\n",
      "====================\n",
      "idx: 2\n",
      "case: {'PID': 1017193, 'ObsDT': Timestamp('2023-09-08 12:58:32.934000'), 'PInvID': '1017193-010', 'RxID': '1017193-010-000', 'DT': Timestamp('2023-09-08 12:58:32.934000'), 'drug_name': 'Trulicity'}\n",
      "ROdf: {'Rx-ObsPnt': Dataset({\n",
      "    features: ['PID', 'RxID', 'DT'],\n",
      "    num_rows: 1\n",
      "})}\n",
      "====================\n",
      "\n",
      "====================\n",
      "idx: 3\n",
      "case: {'PID': 1027056, 'ObsDT': Timestamp('2023-07-17 20:54:55.528000'), 'PInvID': '1027056-002', 'RxID': '1027056-002-000', 'DT': Timestamp('2023-07-17 20:54:55.528000'), 'drug_name': 'Trulicity'}\n",
      "ROdf: {'Rx-ObsPnt': Dataset({\n",
      "    features: ['PID', 'RxID', 'DT'],\n",
      "    num_rows: 1\n",
      "})}\n",
      "====================\n",
      "\n",
      "====================\n",
      "idx: 4\n",
      "case: {'PID': 1014849, 'ObsDT': Timestamp('2023-09-12 01:17:17.377000'), 'PInvID': '1014849-017', 'RxID': '1014849-017-002', 'DT': Timestamp('2023-09-12 01:17:17.377000'), 'drug_name': 'Trulicity'}\n",
      "ROdf: {'Rx-ObsPnt': Dataset({\n",
      "    features: ['PID', 'RxID', 'DT'],\n",
      "    num_rows: 5\n",
      "})}\n",
      "====================\n"
     ]
    }
   ],
   "source": [
    "get_idx_to_RecObsName_to_RecObsDS = CaseObserverTransformer.get_idx_to_RecObsName_to_RecObsDS\n",
    "idx_to_ROName_to_ROds = get_idx_to_RecObsName_to_RecObsDS(idx_to_examples, ROName_to_ROInfo, RecName_to_REC_P)\n",
    "\n",
    "for idx, case in idx_to_examples.items():\n",
    "    print('\\n====================')\n",
    "    print('idx:', idx)\n",
    "    print('case:', case)\n",
    "    print('ROdf:', idx_to_ROName_to_ROds[idx]) # R_i^{RecNum, Ckpd}\n",
    "    print('====================')"
   ]
  },
  {
   "cell_type": "code",
   "execution_count": 35,
   "id": "c643c436",
   "metadata": {},
   "outputs": [
    {
     "data": {
      "text/plain": [
       "['Rx-ObsPnt']"
      ]
     },
     "execution_count": 35,
     "metadata": {},
     "output_type": "execute_result"
    }
   ],
   "source": [
    "[i for i in ROName_to_ROInfo]"
   ]
  },
  {
   "cell_type": "code",
   "execution_count": 36,
   "id": "6a3cb7c6",
   "metadata": {},
   "outputs": [
    {
     "data": {
      "text/plain": [
       "{'tid': {'tid2tkn': {0: '[UNK]',\n",
       "   1: 'RN_0',\n",
       "   2: 'RN_1',\n",
       "   3: 'RN_2',\n",
       "   4: 'RN_3',\n",
       "   5: 'RN_4',\n",
       "   6: 'RN_5',\n",
       "   7: 'RN_6',\n",
       "   8: 'RN_7',\n",
       "   9: 'RN_8',\n",
       "   10: 'RN_9',\n",
       "   11: 'RN_10',\n",
       "   12: 'RN_20',\n",
       "   13: 'RN_30',\n",
       "   14: 'RN_40',\n",
       "   15: 'RN_50',\n",
       "   16: 'RN_60',\n",
       "   17: 'RN_70',\n",
       "   18: 'RN_80',\n",
       "   19: 'RN_90',\n",
       "   20: 'RN_100',\n",
       "   21: 'RN_200',\n",
       "   22: 'RN_300',\n",
       "   23: 'RN_400',\n",
       "   24: 'RN_500',\n",
       "   25: 'RN_600',\n",
       "   26: 'RN_700',\n",
       "   27: 'RN_800',\n",
       "   28: 'RN_900',\n",
       "   29: 'RN_1000',\n",
       "   30: 'RN_2000',\n",
       "   31: 'RN_3000',\n",
       "   32: 'RN_4000',\n",
       "   33: 'RN_5000',\n",
       "   34: 'RN_6000',\n",
       "   35: 'RN_7000',\n",
       "   36: 'RN_8000',\n",
       "   37: 'RN_9000',\n",
       "   38: 'RN_10000',\n",
       "   39: 'RS_0H',\n",
       "   40: 'RS_1H',\n",
       "   41: 'RS_2H',\n",
       "   42: 'RS_3H',\n",
       "   43: 'RS_4H',\n",
       "   44: 'RS_5H',\n",
       "   45: 'RS_6H',\n",
       "   46: 'RS_7H',\n",
       "   47: 'RS_8H',\n",
       "   48: 'RS_9H',\n",
       "   49: 'RS_10H',\n",
       "   50: 'RS_20H',\n",
       "   51: 'RS_30H',\n",
       "   52: 'RS_40H',\n",
       "   53: 'RS_50H',\n",
       "   54: 'RS_60H',\n",
       "   55: 'RS_70H',\n",
       "   56: 'RS_80H',\n",
       "   57: 'RS_90H',\n",
       "   58: 'RS_100H',\n",
       "   59: 'RS_200H',\n",
       "   60: 'RS_300H',\n",
       "   61: 'RS_400H',\n",
       "   62: 'RS_500H',\n",
       "   63: 'RS_600H',\n",
       "   64: 'RS_700H',\n",
       "   65: 'RS_800H',\n",
       "   66: 'RS_900H',\n",
       "   67: 'RS_1000H',\n",
       "   68: 'RS_2000H',\n",
       "   69: 'RS_3000H',\n",
       "   70: 'RS_4000H',\n",
       "   71: 'RS_5000H',\n",
       "   72: 'RS_6000H',\n",
       "   73: 'RS_7000H',\n",
       "   74: 'RS_8000H',\n",
       "   75: 'RS_9000H',\n",
       "   76: 'RS_10000H'},\n",
       "  'tkn2tid': {'[UNK]': 0,\n",
       "   'RN_0': 1,\n",
       "   'RN_1': 2,\n",
       "   'RN_2': 3,\n",
       "   'RN_3': 4,\n",
       "   'RN_4': 5,\n",
       "   'RN_5': 6,\n",
       "   'RN_6': 7,\n",
       "   'RN_7': 8,\n",
       "   'RN_8': 9,\n",
       "   'RN_9': 10,\n",
       "   'RN_10': 11,\n",
       "   'RN_20': 12,\n",
       "   'RN_30': 13,\n",
       "   'RN_40': 14,\n",
       "   'RN_50': 15,\n",
       "   'RN_60': 16,\n",
       "   'RN_70': 17,\n",
       "   'RN_80': 18,\n",
       "   'RN_90': 19,\n",
       "   'RN_100': 20,\n",
       "   'RN_200': 21,\n",
       "   'RN_300': 22,\n",
       "   'RN_400': 23,\n",
       "   'RN_500': 24,\n",
       "   'RN_600': 25,\n",
       "   'RN_700': 26,\n",
       "   'RN_800': 27,\n",
       "   'RN_900': 28,\n",
       "   'RN_1000': 29,\n",
       "   'RN_2000': 30,\n",
       "   'RN_3000': 31,\n",
       "   'RN_4000': 32,\n",
       "   'RN_5000': 33,\n",
       "   'RN_6000': 34,\n",
       "   'RN_7000': 35,\n",
       "   'RN_8000': 36,\n",
       "   'RN_9000': 37,\n",
       "   'RN_10000': 38,\n",
       "   'RS_0H': 39,\n",
       "   'RS_1H': 40,\n",
       "   'RS_2H': 41,\n",
       "   'RS_3H': 42,\n",
       "   'RS_4H': 43,\n",
       "   'RS_5H': 44,\n",
       "   'RS_6H': 45,\n",
       "   'RS_7H': 46,\n",
       "   'RS_8H': 47,\n",
       "   'RS_9H': 48,\n",
       "   'RS_10H': 49,\n",
       "   'RS_20H': 50,\n",
       "   'RS_30H': 51,\n",
       "   'RS_40H': 52,\n",
       "   'RS_50H': 53,\n",
       "   'RS_60H': 54,\n",
       "   'RS_70H': 55,\n",
       "   'RS_80H': 56,\n",
       "   'RS_90H': 57,\n",
       "   'RS_100H': 58,\n",
       "   'RS_200H': 59,\n",
       "   'RS_300H': 60,\n",
       "   'RS_400H': 61,\n",
       "   'RS_500H': 62,\n",
       "   'RS_600H': 63,\n",
       "   'RS_700H': 64,\n",
       "   'RS_800H': 65,\n",
       "   'RS_900H': 66,\n",
       "   'RS_1000H': 67,\n",
       "   'RS_2000H': 68,\n",
       "   'RS_3000H': 69,\n",
       "   'RS_4000H': 70,\n",
       "   'RS_5000H': 71,\n",
       "   'RS_6000H': 72,\n",
       "   'RS_7000H': 73,\n",
       "   'RS_8000H': 74,\n",
       "   'RS_9000H': 75,\n",
       "   'RS_10000H': 76}},\n",
       " 'wgt': {}}"
      ]
     },
     "execution_count": 36,
     "metadata": {},
     "output_type": "execute_result"
    }
   ],
   "source": [
    "CO_vocab"
   ]
  },
  {
   "cell_type": "code",
   "execution_count": 37,
   "id": "bd125aef",
   "metadata": {},
   "outputs": [
    {
     "name": "stdout",
     "output_type": "stream",
     "text": [
      "case_example: {'PID': 1027056, 'ObsDT': Timestamp('2023-07-17 20:54:55.528000'), 'PInvID': '1027056-002', 'RxID': '1027056-002-000', 'DT': Timestamp('2023-07-17 20:54:55.528000'), 'drug_name': 'Trulicity'}\n",
      "RO_to_ROdf (RO_ij): {'Rx-ObsPnt': Dataset({\n",
      "    features: ['PID', 'RxID', 'DT'],\n",
      "    num_rows: 1\n",
      "})}\n",
      "['Rx-ObsPnt']\n"
     ]
    }
   ],
   "source": [
    "idx = 3\n",
    "case_example = idx_to_examples[idx]\n",
    "print('case_example:', case_example)\n",
    "ROName_to_ROds = idx_to_ROName_to_ROds[idx] # RO_to_ROdf # RO_ij\n",
    "print('RO_to_ROdf (RO_ij):', ROName_to_ROds)\n",
    "print([i for i in ROName_to_ROds])"
   ]
  },
  {
   "cell_type": "markdown",
   "id": "c0576715",
   "metadata": {},
   "source": [
    "# [Step 10]: Develop $\\Phi$. "
   ]
  },
  {
   "cell_type": "code",
   "execution_count": 38,
   "id": "44a787a0",
   "metadata": {},
   "outputs": [],
   "source": [
    "def fn_CasePhi(case_example, \n",
    "               ROName_to_ROds, \n",
    "               ROName_to_ROInfo, \n",
    "               CO_vocab, \n",
    "               cohort_args):\n",
    "    # input: RecObsName_to_RecObsDS, RecObsName_to_RecObsInfo\n",
    "    # output: CaseObservation\n",
    "    d = {}\n",
    "    assert len(ROName_to_ROds) == 1\n",
    " \n",
    "    # RO\n",
    "    RO = list(ROName_to_ROds.keys())[0]\n",
    "    # for RecObsName in RecObsName_to_RecObsDS:\n",
    "    \n",
    "    #############################################\n",
    "    ROds   = ROName_to_ROds[RO] # dataframe: RecObsName: Rx-bf24.. RecObsDS: the df: record collection\n",
    "    ROInfo = ROName_to_ROInfo[RO]\n",
    "    \n",
    "    RecDT = ROInfo['rec_args']['RecDT']\n",
    "    if ROds is not None:\n",
    "        DT_s_obs = ROds[ 0][RecDT] # the time of first records\n",
    "        DT_e_obs = ROds[-1][RecDT] # pd.to_datetime(dates[idx_e-1]) # the last one smaller than idx_e\n",
    "        # d['recnum'] = len(ROds)\n",
    "        # d['recspan'] = (DT_e_obs - DT_s_obs).total_seconds() / 60 # + 5\n",
    "        recnum = len(ROds)\n",
    "        recspan = (DT_e_obs - DT_s_obs).total_seconds() / 60 / 60 # h. # + 5\n",
    "    else:\n",
    "        recnum = 0\n",
    "        recspan = 0\n",
    "    #############################################\n",
    "    \n",
    "    tkn2tid = CO_vocab['tid']['tkn2tid']\n",
    "    idx2tkn = [i for i in tkn2tid]\n",
    "    value_list = [int(i.split('_')[-1]) for i in idx2tkn if 'RN_' in i]\n",
    "    \n",
    "    \n",
    "    recnum  = min(value_list, key=lambda x: abs(x - recnum))\n",
    "    recspan = min(value_list, key=lambda x: abs(x - recspan))\n",
    "    \n",
    "    \n",
    "    tkn = [f'RN_{recnum}', f'RS_{recspan}H']\n",
    "    \n",
    "    tid = [tkn2tid[i] for i in tkn]\n",
    "    wgt = [1, 1]\n",
    "    CO = {'tid': tid, 'wgt': wgt}\n",
    "    # CaseObservation\n",
    "    return CO\n",
    "\n",
    "fn_CasePhi.fn_string = inspect.getsource(fn_CasePhi)"
   ]
  },
  {
   "cell_type": "code",
   "execution_count": 39,
   "id": "de568f52",
   "metadata": {},
   "outputs": [
    {
     "data": {
      "text/plain": [
       "{'tid': [2, 39], 'wgt': [1, 1]}"
      ]
     },
     "execution_count": 39,
     "metadata": {},
     "output_type": "execute_result"
    }
   ],
   "source": [
    "fn_CasePhi(case_example, ROName_to_ROds, ROName_to_ROInfo, CO_vocab, cohort_args)"
   ]
  },
  {
   "cell_type": "code",
   "execution_count": 40,
   "id": "03d959d8",
   "metadata": {},
   "outputs": [
    {
     "data": {
      "text/plain": [
       "{'tid': {'tid2tkn': {0: '[UNK]',\n",
       "   1: 'RN_0',\n",
       "   2: 'RN_1',\n",
       "   3: 'RN_2',\n",
       "   4: 'RN_3',\n",
       "   5: 'RN_4',\n",
       "   6: 'RN_5',\n",
       "   7: 'RN_6',\n",
       "   8: 'RN_7',\n",
       "   9: 'RN_8',\n",
       "   10: 'RN_9',\n",
       "   11: 'RN_10',\n",
       "   12: 'RN_20',\n",
       "   13: 'RN_30',\n",
       "   14: 'RN_40',\n",
       "   15: 'RN_50',\n",
       "   16: 'RN_60',\n",
       "   17: 'RN_70',\n",
       "   18: 'RN_80',\n",
       "   19: 'RN_90',\n",
       "   20: 'RN_100',\n",
       "   21: 'RN_200',\n",
       "   22: 'RN_300',\n",
       "   23: 'RN_400',\n",
       "   24: 'RN_500',\n",
       "   25: 'RN_600',\n",
       "   26: 'RN_700',\n",
       "   27: 'RN_800',\n",
       "   28: 'RN_900',\n",
       "   29: 'RN_1000',\n",
       "   30: 'RN_2000',\n",
       "   31: 'RN_3000',\n",
       "   32: 'RN_4000',\n",
       "   33: 'RN_5000',\n",
       "   34: 'RN_6000',\n",
       "   35: 'RN_7000',\n",
       "   36: 'RN_8000',\n",
       "   37: 'RN_9000',\n",
       "   38: 'RN_10000',\n",
       "   39: 'RS_0H',\n",
       "   40: 'RS_1H',\n",
       "   41: 'RS_2H',\n",
       "   42: 'RS_3H',\n",
       "   43: 'RS_4H',\n",
       "   44: 'RS_5H',\n",
       "   45: 'RS_6H',\n",
       "   46: 'RS_7H',\n",
       "   47: 'RS_8H',\n",
       "   48: 'RS_9H',\n",
       "   49: 'RS_10H',\n",
       "   50: 'RS_20H',\n",
       "   51: 'RS_30H',\n",
       "   52: 'RS_40H',\n",
       "   53: 'RS_50H',\n",
       "   54: 'RS_60H',\n",
       "   55: 'RS_70H',\n",
       "   56: 'RS_80H',\n",
       "   57: 'RS_90H',\n",
       "   58: 'RS_100H',\n",
       "   59: 'RS_200H',\n",
       "   60: 'RS_300H',\n",
       "   61: 'RS_400H',\n",
       "   62: 'RS_500H',\n",
       "   63: 'RS_600H',\n",
       "   64: 'RS_700H',\n",
       "   65: 'RS_800H',\n",
       "   66: 'RS_900H',\n",
       "   67: 'RS_1000H',\n",
       "   68: 'RS_2000H',\n",
       "   69: 'RS_3000H',\n",
       "   70: 'RS_4000H',\n",
       "   71: 'RS_5000H',\n",
       "   72: 'RS_6000H',\n",
       "   73: 'RS_7000H',\n",
       "   74: 'RS_8000H',\n",
       "   75: 'RS_9000H',\n",
       "   76: 'RS_10000H'},\n",
       "  'tkn2tid': {'[UNK]': 0,\n",
       "   'RN_0': 1,\n",
       "   'RN_1': 2,\n",
       "   'RN_2': 3,\n",
       "   'RN_3': 4,\n",
       "   'RN_4': 5,\n",
       "   'RN_5': 6,\n",
       "   'RN_6': 7,\n",
       "   'RN_7': 8,\n",
       "   'RN_8': 9,\n",
       "   'RN_9': 10,\n",
       "   'RN_10': 11,\n",
       "   'RN_20': 12,\n",
       "   'RN_30': 13,\n",
       "   'RN_40': 14,\n",
       "   'RN_50': 15,\n",
       "   'RN_60': 16,\n",
       "   'RN_70': 17,\n",
       "   'RN_80': 18,\n",
       "   'RN_90': 19,\n",
       "   'RN_100': 20,\n",
       "   'RN_200': 21,\n",
       "   'RN_300': 22,\n",
       "   'RN_400': 23,\n",
       "   'RN_500': 24,\n",
       "   'RN_600': 25,\n",
       "   'RN_700': 26,\n",
       "   'RN_800': 27,\n",
       "   'RN_900': 28,\n",
       "   'RN_1000': 29,\n",
       "   'RN_2000': 30,\n",
       "   'RN_3000': 31,\n",
       "   'RN_4000': 32,\n",
       "   'RN_5000': 33,\n",
       "   'RN_6000': 34,\n",
       "   'RN_7000': 35,\n",
       "   'RN_8000': 36,\n",
       "   'RN_9000': 37,\n",
       "   'RN_10000': 38,\n",
       "   'RS_0H': 39,\n",
       "   'RS_1H': 40,\n",
       "   'RS_2H': 41,\n",
       "   'RS_3H': 42,\n",
       "   'RS_4H': 43,\n",
       "   'RS_5H': 44,\n",
       "   'RS_6H': 45,\n",
       "   'RS_7H': 46,\n",
       "   'RS_8H': 47,\n",
       "   'RS_9H': 48,\n",
       "   'RS_10H': 49,\n",
       "   'RS_20H': 50,\n",
       "   'RS_30H': 51,\n",
       "   'RS_40H': 52,\n",
       "   'RS_50H': 53,\n",
       "   'RS_60H': 54,\n",
       "   'RS_70H': 55,\n",
       "   'RS_80H': 56,\n",
       "   'RS_90H': 57,\n",
       "   'RS_100H': 58,\n",
       "   'RS_200H': 59,\n",
       "   'RS_300H': 60,\n",
       "   'RS_400H': 61,\n",
       "   'RS_500H': 62,\n",
       "   'RS_600H': 63,\n",
       "   'RS_700H': 64,\n",
       "   'RS_800H': 65,\n",
       "   'RS_900H': 66,\n",
       "   'RS_1000H': 67,\n",
       "   'RS_2000H': 68,\n",
       "   'RS_3000H': 69,\n",
       "   'RS_4000H': 70,\n",
       "   'RS_5000H': 71,\n",
       "   'RS_6000H': 72,\n",
       "   'RS_7000H': 73,\n",
       "   'RS_8000H': 74,\n",
       "   'RS_9000H': 75,\n",
       "   'RS_10000H': 76}},\n",
       " 'wgt': {}}"
      ]
     },
     "execution_count": 40,
     "metadata": {},
     "output_type": "execute_result"
    }
   ],
   "source": [
    "CO_vocab"
   ]
  },
  {
   "cell_type": "markdown",
   "id": "3467dcbd",
   "metadata": {},
   "source": [
    "## Save Files"
   ]
  },
  {
   "cell_type": "code",
   "execution_count": 41,
   "id": "caab3b42",
   "metadata": {},
   "outputs": [
    {
     "data": {
      "text/html": [
       "../pipeline/fn_casephi/phi_RecNumN2C.py <a href=\"/Users/floydluo/Library/CloudStorage/OneDrive-DRFIRST.COM,INC/Documents - DrFirst-JHU Collaboration Center/DrFirst-Project/2024-DrFirst-v4-SPACE/_DrFirst-AI-EgmPred-WorkSpace/../pipeline/fn_casephi/phi_RecNumN2C.py\" target=\"_blank\">Open File</a>"
      ],
      "text/plain": [
       "<IPython.core.display.HTML object>"
      ]
     },
     "metadata": {},
     "output_type": "display_data"
    }
   ],
   "source": [
    "from recfldtkn.loadtools import convert_variables_to_pystirng, load_module_variables\n",
    "\n",
    "prefix = ['import pandas as pd', 'import numpy as np']\n",
    "fn_variables = [get_CO_id, get_selected_columns, get_CO_vocab, fn_CasePhi]\n",
    "pycode = convert_variables_to_pystirng(fn_variables = fn_variables, prefix = prefix)\n",
    "pypath = os.path.join(SPACE['CODE_FN'], 'fn_casephi', f'phi_{name_CasePhi}.py')\n",
    "with open(pypath, 'w') as file: file.write(pycode)\n",
    "\n",
    "# Create a HTML link and display it\n",
    "full_path = os.path.join(WORKSPACE_PATH, pypath)\n",
    "display(HTML(f'{pypath} <a href=\"{full_path}\" target=\"_blank\">Open File</a>'))"
   ]
  },
  {
   "cell_type": "markdown",
   "id": "d8ac3fc7",
   "metadata": {},
   "source": [
    "# Application"
   ]
  },
  {
   "cell_type": "code",
   "execution_count": 42,
   "id": "8cf13931",
   "metadata": {},
   "outputs": [
    {
     "data": {
      "text/plain": [
       "'ro.Rx-ObsPnt_ct.RecNumN2C'"
      ]
     },
     "execution_count": 42,
     "metadata": {},
     "output_type": "execute_result"
    }
   ],
   "source": [
    "CaseObsName"
   ]
  },
  {
   "cell_type": "code",
   "execution_count": 43,
   "id": "a0747747",
   "metadata": {},
   "outputs": [
    {
     "data": {
      "text/plain": [
       "['RecObsName_List',\n",
       " 'name_CasePhi',\n",
       " 'get_selected_columns',\n",
       " 'CaseObsName',\n",
       " 'ROName_to_ROInfo',\n",
       " 'fn_CasePhi',\n",
       " 'get_CO_id',\n",
       " 'CO_Folder',\n",
       " 'CO_vocab']"
      ]
     },
     "execution_count": 43,
     "metadata": {},
     "output_type": "execute_result"
    }
   ],
   "source": [
    "from recfldtkn.observer import get_CaseObsInfo_for_a_CaseObsName\n",
    "\n",
    "CaseObsInfo = get_CaseObsInfo_for_a_CaseObsName(CaseObsName,\n",
    "                                                SPACE, \n",
    "                                                cohort_args, \n",
    "                                                record_to_ds_rec = {}, \n",
    "                                                record_to_ds_rec_info = {})\n",
    "[i for i in CaseObsInfo]"
   ]
  },
  {
   "cell_type": "code",
   "execution_count": 44,
   "id": "a4810867",
   "metadata": {},
   "outputs": [],
   "source": [
    "import random \n",
    "from pprint import pprint\n",
    "from datetime import datetime \n",
    "from recfldtkn.observer import get_RecObsName_to_RecObsInfo, CaseObserverTransformer\n",
    "\n",
    "\n",
    "ro_to_ROName = {} # leave it empty for now \n",
    "ROName_to_ROInfo = CaseObsInfo['ROName_to_ROInfo']\n",
    "name_CasePhi = CaseObsInfo['name_CasePhi']\n",
    "fn_CasePhi = CaseObsInfo['fn_CasePhi']\n",
    "CO_vocab = CaseObsInfo['CO_vocab']\n",
    "get_CO_id = CaseObsInfo['get_CO_id']\n",
    "CO_Folder = CaseObsInfo['CO_Folder']\n",
    "COids = None \n",
    "use_CO_from_disk = False\n",
    "batch_size = CaseObsInfo.get('batch_size', 1000)\n",
    "\n",
    "fn_caseobs_Phi = CaseObserverTransformer(ro_to_ROName,\n",
    "                                         ROName_to_ROInfo, \n",
    "                                         name_CasePhi, \n",
    "                                         fn_CasePhi, \n",
    "                                         CO_vocab, \n",
    "                                         get_CO_id,\n",
    "                                         cohort_args,\n",
    "                                         CO_Folder, \n",
    "                                         df_case,\n",
    "                                         use_CO_from_disk)"
   ]
  },
  {
   "cell_type": "markdown",
   "id": "79eb01dd",
   "metadata": {},
   "source": [
    "# Check Cache Functions"
   ]
  },
  {
   "cell_type": "code",
   "execution_count": 45,
   "id": "28003f06",
   "metadata": {},
   "outputs": [
    {
     "data": {
      "text/plain": [
       "{}"
      ]
     },
     "execution_count": 45,
     "metadata": {},
     "output_type": "execute_result"
    }
   ],
   "source": [
    "fn_caseobs_Phi.new_COs"
   ]
  },
  {
   "cell_type": "code",
   "execution_count": 46,
   "id": "bd6e55d9",
   "metadata": {},
   "outputs": [
    {
     "data": {
      "application/vnd.jupyter.widget-view+json": {
       "model_id": "d9c2897e9b4b408c996275b47efa235f",
       "version_major": 2,
       "version_minor": 0
      },
      "text/plain": [
       "Map:   0%|          | 0/1000 [00:00<?, ? examples/s]"
      ]
     },
     "metadata": {},
     "output_type": "display_data"
    },
    {
     "name": "stdout",
     "output_type": "stream",
     "text": [
      "Elipse Time:  0:00:02.206726\n",
      "Dataset({\n",
      "    features: ['PID', 'ObsDT', 'PInvID', 'RxID', 'DT', 'drug_name', 'tid', 'wgt'],\n",
      "    num_rows: 1000\n",
      "})\n"
     ]
    }
   ],
   "source": [
    "start = datetime.now()\n",
    "ds_casetkn = ds_case.map(fn_caseobs_Phi, \n",
    "                         batched = True, \n",
    "                         batch_size= batch_size, \n",
    "                         load_from_cache_file = False, \n",
    "                         new_fingerprint = CaseObsName)\n",
    "end = datetime.now()\n",
    "print('Elipse Time: ', end - start)\n",
    "print(ds_casetkn)"
   ]
  },
  {
   "cell_type": "code",
   "execution_count": 47,
   "id": "1765eb57",
   "metadata": {},
   "outputs": [
    {
     "name": "stdout",
     "output_type": "stream",
     "text": [
      "1000\n"
     ]
    }
   ],
   "source": [
    "print(len(fn_caseobs_Phi.new_COs))"
   ]
  },
  {
   "cell_type": "code",
   "execution_count": 48,
   "id": "de1ef678",
   "metadata": {},
   "outputs": [
    {
     "data": {
      "application/vnd.jupyter.widget-view+json": {
       "model_id": "e7f8f2b30b0a411e8ee221058ef01ac5",
       "version_major": 2,
       "version_minor": 0
      },
      "text/plain": [
       "Map:   0%|          | 0/1000 [00:00<?, ? examples/s]"
      ]
     },
     "metadata": {},
     "output_type": "display_data"
    },
    {
     "name": "stdout",
     "output_type": "stream",
     "text": [
      "Elipse Time:  0:00:00.031846\n",
      "Dataset({\n",
      "    features: ['PID', 'ObsDT', 'PInvID', 'RxID', 'DT', 'drug_name', 'tid', 'wgt'],\n",
      "    num_rows: 1000\n",
      "})\n"
     ]
    }
   ],
   "source": [
    "start = datetime.now()\n",
    "ds_casetkn = ds_case.map(fn_caseobs_Phi, \n",
    "                         batched = True, \n",
    "                         batch_size= batch_size, \n",
    "                         load_from_cache_file = False, \n",
    "                         new_fingerprint = CaseObsName)\n",
    "end = datetime.now()\n",
    "print('Elipse Time: ', end - start)\n",
    "print(ds_casetkn)"
   ]
  },
  {
   "cell_type": "code",
   "execution_count": 49,
   "id": "9e6ec3e9",
   "metadata": {},
   "outputs": [
    {
     "name": "stdout",
     "output_type": "stream",
     "text": [
      "ro.Rx-ObsPnt_ct.RecNumN2C\n",
      "685\n",
      "{'DT': Timestamp('2023-05-12 18:35:52.373000'),\n",
      " 'ObsDT': Timestamp('2023-05-12 18:35:52.373000'),\n",
      " 'PID': 1028412,\n",
      " 'PInvID': '1028412-000',\n",
      " 'RxID': '1028412-000-000',\n",
      " 'drug_name': 'Trulicity',\n",
      " 'tid': [2, 39],\n",
      " 'wgt': [1, 1]}\n",
      "{'tid': {'tid2tkn': {0: '[UNK]', 1: 'RN_0', 2: 'RN_1', 3: 'RN_2', 4: 'RN_3', 5: 'RN_4', 6: 'RN_5', 7: 'RN_6', 8: 'RN_7', 9: 'RN_8', 10: 'RN_9', 11: 'RN_10', 12: 'RN_20', 13: 'RN_30', 14: 'RN_40', 15: 'RN_50', 16: 'RN_60', 17: 'RN_70', 18: 'RN_80', 19: 'RN_90', 20: 'RN_100', 21: 'RN_200', 22: 'RN_300', 23: 'RN_400', 24: 'RN_500', 25: 'RN_600', 26: 'RN_700', 27: 'RN_800', 28: 'RN_900', 29: 'RN_1000', 30: 'RN_2000', 31: 'RN_3000', 32: 'RN_4000', 33: 'RN_5000', 34: 'RN_6000', 35: 'RN_7000', 36: 'RN_8000', 37: 'RN_9000', 38: 'RN_10000', 39: 'RS_0H', 40: 'RS_1H', 41: 'RS_2H', 42: 'RS_3H', 43: 'RS_4H', 44: 'RS_5H', 45: 'RS_6H', 46: 'RS_7H', 47: 'RS_8H', 48: 'RS_9H', 49: 'RS_10H', 50: 'RS_20H', 51: 'RS_30H', 52: 'RS_40H', 53: 'RS_50H', 54: 'RS_60H', 55: 'RS_70H', 56: 'RS_80H', 57: 'RS_90H', 58: 'RS_100H', 59: 'RS_200H', 60: 'RS_300H', 61: 'RS_400H', 62: 'RS_500H', 63: 'RS_600H', 64: 'RS_700H', 65: 'RS_800H', 66: 'RS_900H', 67: 'RS_1000H', 68: 'RS_2000H', 69: 'RS_3000H', 70: 'RS_4000H', 71: 'RS_5000H', 72: 'RS_6000H', 73: 'RS_7000H', 74: 'RS_8000H', 75: 'RS_9000H', 76: 'RS_10000H'}, 'tkn2tid': {'[UNK]': 0, 'RN_0': 1, 'RN_1': 2, 'RN_2': 3, 'RN_3': 4, 'RN_4': 5, 'RN_5': 6, 'RN_6': 7, 'RN_7': 8, 'RN_8': 9, 'RN_9': 10, 'RN_10': 11, 'RN_20': 12, 'RN_30': 13, 'RN_40': 14, 'RN_50': 15, 'RN_60': 16, 'RN_70': 17, 'RN_80': 18, 'RN_90': 19, 'RN_100': 20, 'RN_200': 21, 'RN_300': 22, 'RN_400': 23, 'RN_500': 24, 'RN_600': 25, 'RN_700': 26, 'RN_800': 27, 'RN_900': 28, 'RN_1000': 29, 'RN_2000': 30, 'RN_3000': 31, 'RN_4000': 32, 'RN_5000': 33, 'RN_6000': 34, 'RN_7000': 35, 'RN_8000': 36, 'RN_9000': 37, 'RN_10000': 38, 'RS_0H': 39, 'RS_1H': 40, 'RS_2H': 41, 'RS_3H': 42, 'RS_4H': 43, 'RS_5H': 44, 'RS_6H': 45, 'RS_7H': 46, 'RS_8H': 47, 'RS_9H': 48, 'RS_10H': 49, 'RS_20H': 50, 'RS_30H': 51, 'RS_40H': 52, 'RS_50H': 53, 'RS_60H': 54, 'RS_70H': 55, 'RS_80H': 56, 'RS_90H': 57, 'RS_100H': 58, 'RS_200H': 59, 'RS_300H': 60, 'RS_400H': 61, 'RS_500H': 62, 'RS_600H': 63, 'RS_700H': 64, 'RS_800H': 65, 'RS_900H': 66, 'RS_1000H': 67, 'RS_2000H': 68, 'RS_3000H': 69, 'RS_4000H': 70, 'RS_5000H': 71, 'RS_6000H': 72, 'RS_7000H': 73, 'RS_8000H': 74, 'RS_9000H': 75, 'RS_10000H': 76}}, 'wgt': {}}\n"
     ]
    }
   ],
   "source": [
    "print(CaseObsName)\n",
    "random_int = random.randint(0, len(ds_casetkn))\n",
    "print(random_int)\n",
    "pprint(ds_casetkn[random_int])\n",
    "print(CO_vocab)"
   ]
  },
  {
   "cell_type": "code",
   "execution_count": 50,
   "id": "739bb79c",
   "metadata": {},
   "outputs": [
    {
     "data": {
      "text/plain": [
       "{'PID': 1009211,\n",
       " 'ObsDT': Timestamp('2023-09-01 19:40:45.612000'),\n",
       " 'PInvID': '1009211-001',\n",
       " 'RxID': '1009211-001-000',\n",
       " 'DT': Timestamp('2023-09-01 19:40:45.612000'),\n",
       " 'drug_name': 'Trulicity',\n",
       " 'tid': [2, 39],\n",
       " 'wgt': [1, 1]}"
      ]
     },
     "execution_count": 50,
     "metadata": {},
     "output_type": "execute_result"
    }
   ],
   "source": [
    "ds_casetkn[1]"
   ]
  },
  {
   "cell_type": "markdown",
   "id": "dba9f4c7",
   "metadata": {},
   "source": [
    "## Save"
   ]
  },
  {
   "cell_type": "code",
   "execution_count": 51,
   "id": "6b4a3151",
   "metadata": {},
   "outputs": [
    {
     "data": {
      "text/html": [
       "<div>\n",
       "<style scoped>\n",
       "    .dataframe tbody tr th:only-of-type {\n",
       "        vertical-align: middle;\n",
       "    }\n",
       "\n",
       "    .dataframe tbody tr th {\n",
       "        vertical-align: top;\n",
       "    }\n",
       "\n",
       "    .dataframe thead th {\n",
       "        text-align: right;\n",
       "    }\n",
       "</style>\n",
       "<table border=\"1\" class=\"dataframe\">\n",
       "  <thead>\n",
       "    <tr style=\"text-align: right;\">\n",
       "      <th></th>\n",
       "      <th>caseobs_idx_in_data</th>\n",
       "    </tr>\n",
       "    <tr>\n",
       "      <th>caseobs_id</th>\n",
       "      <th></th>\n",
       "    </tr>\n",
       "  </thead>\n",
       "  <tbody>\n",
       "  </tbody>\n",
       "</table>\n",
       "</div>"
      ],
      "text/plain": [
       "Empty DataFrame\n",
       "Columns: [caseobs_idx_in_data]\n",
       "Index: []"
      ]
     },
     "execution_count": 51,
     "metadata": {},
     "output_type": "execute_result"
    }
   ],
   "source": [
    "fn_caseobs_Phi.df_CO_info"
   ]
  },
  {
   "cell_type": "code",
   "execution_count": 52,
   "id": "f9a305c3",
   "metadata": {},
   "outputs": [
    {
     "data": {
      "text/plain": [
       "'../_Data/2-Data_CaseObs/ro.Rx-ObsPnt_ct.RecNumN2C/data'"
      ]
     },
     "execution_count": 52,
     "metadata": {},
     "output_type": "execute_result"
    }
   ],
   "source": [
    "CO_Folder_data = fn_caseobs_Phi.CO_Folder_data \n",
    "CO_Folder_data"
   ]
  },
  {
   "cell_type": "code",
   "execution_count": 53,
   "id": "a4b1c8a9",
   "metadata": {},
   "outputs": [
    {
     "name": "stderr",
     "output_type": "stream",
     "text": [
      "[INFO:2024-04-09 12:19:55,054:(observer.py@691 recfldtkn.observer)]: use_CO_from_disk is false and empty new_COs\n"
     ]
    }
   ],
   "source": [
    "fn_caseobs_Phi.save_new_COs_to_disk(CO_Folder_data)"
   ]
  },
  {
   "cell_type": "code",
   "execution_count": 54,
   "id": "67499595",
   "metadata": {},
   "outputs": [
    {
     "data": {
      "text/html": [
       "<div>\n",
       "<style scoped>\n",
       "    .dataframe tbody tr th:only-of-type {\n",
       "        vertical-align: middle;\n",
       "    }\n",
       "\n",
       "    .dataframe tbody tr th {\n",
       "        vertical-align: top;\n",
       "    }\n",
       "\n",
       "    .dataframe thead th {\n",
       "        text-align: right;\n",
       "    }\n",
       "</style>\n",
       "<table border=\"1\" class=\"dataframe\">\n",
       "  <thead>\n",
       "    <tr style=\"text-align: right;\">\n",
       "      <th></th>\n",
       "      <th>caseobs_idx_in_data</th>\n",
       "    </tr>\n",
       "    <tr>\n",
       "      <th>caseobs_id</th>\n",
       "      <th></th>\n",
       "    </tr>\n",
       "  </thead>\n",
       "  <tbody>\n",
       "  </tbody>\n",
       "</table>\n",
       "</div>"
      ],
      "text/plain": [
       "Empty DataFrame\n",
       "Columns: [caseobs_idx_in_data]\n",
       "Index: []"
      ]
     },
     "execution_count": 54,
     "metadata": {},
     "output_type": "execute_result"
    }
   ],
   "source": [
    "fn_caseobs_Phi.df_CO_info"
   ]
  },
  {
   "cell_type": "code",
   "execution_count": 55,
   "id": "b021c636",
   "metadata": {},
   "outputs": [],
   "source": [
    "fn_caseobs_Phi.ds_CO_data"
   ]
  },
  {
   "cell_type": "markdown",
   "id": "2dca9299",
   "metadata": {},
   "source": [
    "# Save Vocab"
   ]
  },
  {
   "cell_type": "code",
   "execution_count": 56,
   "id": "1224a15e",
   "metadata": {},
   "outputs": [
    {
     "data": {
      "text/plain": [
       "{'tid': {'tid2tkn': {0: '[UNK]',\n",
       "   1: 'RN_0',\n",
       "   2: 'RN_1',\n",
       "   3: 'RN_2',\n",
       "   4: 'RN_3',\n",
       "   5: 'RN_4',\n",
       "   6: 'RN_5',\n",
       "   7: 'RN_6',\n",
       "   8: 'RN_7',\n",
       "   9: 'RN_8',\n",
       "   10: 'RN_9',\n",
       "   11: 'RN_10',\n",
       "   12: 'RN_20',\n",
       "   13: 'RN_30',\n",
       "   14: 'RN_40',\n",
       "   15: 'RN_50',\n",
       "   16: 'RN_60',\n",
       "   17: 'RN_70',\n",
       "   18: 'RN_80',\n",
       "   19: 'RN_90',\n",
       "   20: 'RN_100',\n",
       "   21: 'RN_200',\n",
       "   22: 'RN_300',\n",
       "   23: 'RN_400',\n",
       "   24: 'RN_500',\n",
       "   25: 'RN_600',\n",
       "   26: 'RN_700',\n",
       "   27: 'RN_800',\n",
       "   28: 'RN_900',\n",
       "   29: 'RN_1000',\n",
       "   30: 'RN_2000',\n",
       "   31: 'RN_3000',\n",
       "   32: 'RN_4000',\n",
       "   33: 'RN_5000',\n",
       "   34: 'RN_6000',\n",
       "   35: 'RN_7000',\n",
       "   36: 'RN_8000',\n",
       "   37: 'RN_9000',\n",
       "   38: 'RN_10000',\n",
       "   39: 'RS_0H',\n",
       "   40: 'RS_1H',\n",
       "   41: 'RS_2H',\n",
       "   42: 'RS_3H',\n",
       "   43: 'RS_4H',\n",
       "   44: 'RS_5H',\n",
       "   45: 'RS_6H',\n",
       "   46: 'RS_7H',\n",
       "   47: 'RS_8H',\n",
       "   48: 'RS_9H',\n",
       "   49: 'RS_10H',\n",
       "   50: 'RS_20H',\n",
       "   51: 'RS_30H',\n",
       "   52: 'RS_40H',\n",
       "   53: 'RS_50H',\n",
       "   54: 'RS_60H',\n",
       "   55: 'RS_70H',\n",
       "   56: 'RS_80H',\n",
       "   57: 'RS_90H',\n",
       "   58: 'RS_100H',\n",
       "   59: 'RS_200H',\n",
       "   60: 'RS_300H',\n",
       "   61: 'RS_400H',\n",
       "   62: 'RS_500H',\n",
       "   63: 'RS_600H',\n",
       "   64: 'RS_700H',\n",
       "   65: 'RS_800H',\n",
       "   66: 'RS_900H',\n",
       "   67: 'RS_1000H',\n",
       "   68: 'RS_2000H',\n",
       "   69: 'RS_3000H',\n",
       "   70: 'RS_4000H',\n",
       "   71: 'RS_5000H',\n",
       "   72: 'RS_6000H',\n",
       "   73: 'RS_7000H',\n",
       "   74: 'RS_8000H',\n",
       "   75: 'RS_9000H',\n",
       "   76: 'RS_10000H'},\n",
       "  'tkn2tid': {'[UNK]': 0,\n",
       "   'RN_0': 1,\n",
       "   'RN_1': 2,\n",
       "   'RN_2': 3,\n",
       "   'RN_3': 4,\n",
       "   'RN_4': 5,\n",
       "   'RN_5': 6,\n",
       "   'RN_6': 7,\n",
       "   'RN_7': 8,\n",
       "   'RN_8': 9,\n",
       "   'RN_9': 10,\n",
       "   'RN_10': 11,\n",
       "   'RN_20': 12,\n",
       "   'RN_30': 13,\n",
       "   'RN_40': 14,\n",
       "   'RN_50': 15,\n",
       "   'RN_60': 16,\n",
       "   'RN_70': 17,\n",
       "   'RN_80': 18,\n",
       "   'RN_90': 19,\n",
       "   'RN_100': 20,\n",
       "   'RN_200': 21,\n",
       "   'RN_300': 22,\n",
       "   'RN_400': 23,\n",
       "   'RN_500': 24,\n",
       "   'RN_600': 25,\n",
       "   'RN_700': 26,\n",
       "   'RN_800': 27,\n",
       "   'RN_900': 28,\n",
       "   'RN_1000': 29,\n",
       "   'RN_2000': 30,\n",
       "   'RN_3000': 31,\n",
       "   'RN_4000': 32,\n",
       "   'RN_5000': 33,\n",
       "   'RN_6000': 34,\n",
       "   'RN_7000': 35,\n",
       "   'RN_8000': 36,\n",
       "   'RN_9000': 37,\n",
       "   'RN_10000': 38,\n",
       "   'RS_0H': 39,\n",
       "   'RS_1H': 40,\n",
       "   'RS_2H': 41,\n",
       "   'RS_3H': 42,\n",
       "   'RS_4H': 43,\n",
       "   'RS_5H': 44,\n",
       "   'RS_6H': 45,\n",
       "   'RS_7H': 46,\n",
       "   'RS_8H': 47,\n",
       "   'RS_9H': 48,\n",
       "   'RS_10H': 49,\n",
       "   'RS_20H': 50,\n",
       "   'RS_30H': 51,\n",
       "   'RS_40H': 52,\n",
       "   'RS_50H': 53,\n",
       "   'RS_60H': 54,\n",
       "   'RS_70H': 55,\n",
       "   'RS_80H': 56,\n",
       "   'RS_90H': 57,\n",
       "   'RS_100H': 58,\n",
       "   'RS_200H': 59,\n",
       "   'RS_300H': 60,\n",
       "   'RS_400H': 61,\n",
       "   'RS_500H': 62,\n",
       "   'RS_600H': 63,\n",
       "   'RS_700H': 64,\n",
       "   'RS_800H': 65,\n",
       "   'RS_900H': 66,\n",
       "   'RS_1000H': 67,\n",
       "   'RS_2000H': 68,\n",
       "   'RS_3000H': 69,\n",
       "   'RS_4000H': 70,\n",
       "   'RS_5000H': 71,\n",
       "   'RS_6000H': 72,\n",
       "   'RS_7000H': 73,\n",
       "   'RS_8000H': 74,\n",
       "   'RS_9000H': 75,\n",
       "   'RS_10000H': 76}},\n",
       " 'wgt': {}}"
      ]
     },
     "execution_count": 56,
     "metadata": {},
     "output_type": "execute_result"
    }
   ],
   "source": [
    "CO_vocab = fn_caseobs_Phi.CO_vocab\n",
    "CO_vocab"
   ]
  },
  {
   "cell_type": "code",
   "execution_count": 57,
   "id": "c7bb5e52",
   "metadata": {},
   "outputs": [
    {
     "data": {
      "text/plain": [
       "'../_Data/2-Data_CaseObs/ro.Rx-ObsPnt_ct.RecNumN2C/vocab.p'"
      ]
     },
     "execution_count": 57,
     "metadata": {},
     "output_type": "execute_result"
    }
   ],
   "source": [
    "CO_Folder_vocab = fn_caseobs_Phi.CO_Folder_vocab\n",
    "CO_Folder_vocab"
   ]
  },
  {
   "cell_type": "code",
   "execution_count": 58,
   "metadata": {},
   "outputs": [
    {
     "data": {
      "text/html": [
       "<div>\n",
       "<style scoped>\n",
       "    .dataframe tbody tr th:only-of-type {\n",
       "        vertical-align: middle;\n",
       "    }\n",
       "\n",
       "    .dataframe tbody tr th {\n",
       "        vertical-align: top;\n",
       "    }\n",
       "\n",
       "    .dataframe thead th {\n",
       "        text-align: right;\n",
       "    }\n",
       "</style>\n",
       "<table border=\"1\" class=\"dataframe\">\n",
       "  <thead>\n",
       "    <tr style=\"text-align: right;\">\n",
       "      <th></th>\n",
       "      <th>ro.Rx-ObsPnt_ct.RecNumN2C</th>\n",
       "    </tr>\n",
       "  </thead>\n",
       "  <tbody>\n",
       "    <tr>\n",
       "      <th>tid</th>\n",
       "      <td>{'tid2tkn': {0: '[UNK]', 1: 'RN_0', 2: 'RN_1',...</td>\n",
       "    </tr>\n",
       "    <tr>\n",
       "      <th>wgt</th>\n",
       "      <td>{}</td>\n",
       "    </tr>\n",
       "  </tbody>\n",
       "</table>\n",
       "</div>"
      ],
      "text/plain": [
       "                             ro.Rx-ObsPnt_ct.RecNumN2C\n",
       "tid  {'tid2tkn': {0: '[UNK]', 1: 'RN_0', 2: 'RN_1',...\n",
       "wgt                                                 {}"
      ]
     },
     "execution_count": 58,
     "metadata": {},
     "output_type": "execute_result"
    }
   ],
   "source": [
    "df_Vocab = pd.DataFrame({CaseObsName: CO_vocab})\n",
    "df_Vocab.to_pickle(CO_Folder_vocab)\n",
    "df_Vocab"
   ]
  },
  {
   "cell_type": "code",
   "execution_count": null,
   "id": "2792e678",
   "metadata": {},
   "outputs": [],
   "source": []
  },
  {
   "cell_type": "code",
   "execution_count": null,
   "id": "508ce576",
   "metadata": {},
   "outputs": [],
   "source": []
  },
  {
   "cell_type": "code",
   "execution_count": null,
   "id": "5ac08c18",
   "metadata": {},
   "outputs": [],
   "source": []
  }
 ],
 "metadata": {
  "kernelspec": {
   "display_name": "Python 3 (ipykernel)",
   "language": "python",
   "name": "python3"
  },
  "language_info": {
   "codemirror_mode": {
    "name": "ipython",
    "version": 3
   },
   "file_extension": ".py",
   "mimetype": "text/x-python",
   "name": "python",
   "nbconvert_exporter": "python",
   "pygments_lexer": "ipython3",
   "version": "3.11.7"
  },
  "toc-autonumbering": true
 },
 "nbformat": 4,
 "nbformat_minor": 5
}
