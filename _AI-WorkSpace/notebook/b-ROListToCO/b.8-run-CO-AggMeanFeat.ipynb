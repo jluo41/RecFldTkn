{
 "cells": [
  {
   "cell_type": "markdown",
   "id": "881d73c8-f12f-4a9b-a485-996a76289767",
   "metadata": {},
   "source": [
    "# Space"
   ]
  },
  {
   "cell_type": "code",
   "execution_count": 1,
   "id": "4bd61dfc",
   "metadata": {},
   "outputs": [
    {
     "name": "stdout",
     "output_type": "stream",
     "text": [
      "/Users/floydluo/Library/CloudStorage/OneDrive-DRFIRST.COM,INC/Documents - DrFirst-JHU Collaboration Center/DrFirst-Project/2024-DrFirst-v4-SPACE/_DrFirst-AI-EgmPred-WorkSpace\n"
     ]
    }
   ],
   "source": [
    "import os\n",
    "import sys \n",
    "import logging\n",
    "import random\n",
    "import pandas as pd \n",
    "from pprint import pprint \n",
    "from IPython.display import display, HTML\n",
    "\n",
    "# WorkSpace\n",
    "KEY = 'WorkSpace'; WORKSPACE_PATH = os.getcwd().split(KEY)[0] + KEY; print(WORKSPACE_PATH)\n",
    "os.chdir(WORKSPACE_PATH)\n",
    "sys.path.append(WORKSPACE_PATH)\n",
    "\n",
    "# Pipeline Space\n",
    "from proj_space import SPACE\n",
    "SPACE['WORKSPACE_PATH'] = WORKSPACE_PATH\n",
    "sys.path.append(SPACE['CODE_FN'])\n",
    "# pprint(SPACE)\n",
    "\n",
    "# Available Packages\n",
    "import argparse\n",
    "import datasets\n",
    "import pandas as pd\n",
    "from datetime import datetime \n",
    "\n",
    "\n",
    "from recfldtkn.configfn import load_cohort_args\n",
    "from recfldtkn.loadtools import load_module_variables, update_args_to_list\n",
    "from recfldtkn.observer import get_RecObsName_to_RecObsInfo, CaseObserverTransformer\n",
    "from config_observer.CKPD import ckpd_to_CkpdObsConfig\n",
    "\n",
    "logger = logging.getLogger(__name__)\n",
    "recfldtkn_config_path = os.path.join(SPACE['CODE_FN'], 'config_recfldtkn/')\n"
   ]
  },
  {
   "cell_type": "markdown",
   "id": "d218a53e",
   "metadata": {},
   "source": [
    "# [Part 1] Get a Caseset: Case Examples"
   ]
  },
  {
   "cell_type": "markdown",
   "metadata": {},
   "source": [
    "## [Step 1]"
   ]
  },
  {
   "cell_type": "code",
   "execution_count": 2,
   "id": "7140db62",
   "metadata": {},
   "outputs": [
    {
     "data": {
      "text/plain": [
       "{'TriggerRecName': 'Rx',\n",
       " 'case_id_columns': ['PID', 'ObsDT', 'PInvID', 'RxID'],\n",
       " 'special_columns': ['PID', 'DT', 'PInvID', 'RxID', 'drug_name'],\n",
       " 'convert_TriggerEvent_to_Caseset': <function TrulicityRx.convert_TriggerEvent_to_Caseset(ds_rec, case_id_columns, special_columns, base_config)>}"
      ]
     },
     "execution_count": 2,
     "metadata": {},
     "output_type": "execute_result"
    }
   ],
   "source": [
    "from recfldtkn.loadtools import fetch_TriggerEvent_tools\n",
    "\n",
    "\n",
    "####################\n",
    "TriggerCaseMethod = 'TrulicityRx'\n",
    "####################\n",
    "\n",
    "Trigger_tools = fetch_TriggerEvent_tools(TriggerCaseMethod, SPACE)\n",
    "Trigger_tools "
   ]
  },
  {
   "cell_type": "code",
   "execution_count": 3,
   "id": "b7aa3287",
   "metadata": {},
   "outputs": [
    {
     "name": "stdout",
     "output_type": "stream",
     "text": [
      "{'CohortInfo': {'RawData2023Nov_Trulicity': {'cohort_label': 1, 'cohort_name': 'RawData2023Nov_Trulicity', 'FolderPath': '../_Data/0-Data_Raw/2023_11_30_30days_Trulicity'}}, 'RawRootID': 'patient_id_encoded', 'RootID': 'PID', 'RecName': 'PRawRecNum', 'recattr_pyfolder': '../pipeline/fn_recattr/', 'fldtkn_pyfolder': '../pipeline/fn_fldtkn/', 'humanrec_pyfolder': '../pipeline/fn_humanrec/', 'inference_pyfolder': '../pipeline/fn_inference/', 'trigger_pyfolder': '../pipeline/fn_trigger/', 'RecName_Sequence': ['P', 'PInv', 'Rx', 'EgmAuthen', 'EgmCallPharm', 'EgmClick', 'EgmCopay', 'EgmEdu', 'EgmRmd'], 'RecName_to_PrtRecName': {'P': 'None', 'PInv': 'P', 'Rx': 'PInv', 'EgmAuthen': 'PInv', 'EgmCallPharm': 'PInv', 'EgmClick': 'PInv', 'EgmCopay': 'Rx', 'EgmEdu': 'Rx', 'EgmRmd': 'Rx'}, 'RecName_to_RFT_GROUP_SIZE': {'Default': 5000}, 'RecName_to_RFT_idx_group_size': {'Default': 10000}, 'RecName_to_RFT_usebucket': {'Default': False}, 'RootIDLength': 6, 'recfldtkn_config_path': '../pipeline/config_recfldtkn/', 'SPACE': {'DATA_RAW': '../_Data/0-Data_Raw', 'DATA_RFT': '../_Data/1-Data_RFT', 'DATA_EXTERNAL': '../external', 'DATA_CaseObs': '../_Data/2-Data_CaseObs', 'DATA_CaseFeat': '../_Data/3-Data_CaseFeat', 'DATA_CaseSet': '../_Data/4-Data_CaseSet', 'CODE_FN': '../pipeline', 'CODE_RFT': '../pipeline', 'DATA_TASK': '_data', 'MODEL_TASK': '../_Model', 'TaskName': 'EduRxPred', 'WORKSPACE_PATH': '/Users/floydluo/Library/CloudStorage/OneDrive-DRFIRST.COM,INC/Documents - DrFirst-JHU Collaboration Center/DrFirst-Project/2024-DrFirst-v4-SPACE/_DrFirst-AI-EgmPred-WorkSpace'}, 'pypath': '../pipeline/fn_humanrec/humanrec.py', 'ckpd_to_CkpdObsConfig': {'ObsPnt': {'DistStartToPredDT': -0.01, 'DistEndToPredDT': 0.01, 'TimeUnit': 'min', 'StartIdx5Min': 0, 'EndIdx5Min': 0}, 'Bf24H': {'DistStartToPredDT': -24, 'DistEndToPredDT': 0.01, 'TimeUnit': 'h', 'StartIdx5Min': -288, 'EndIdx5Min': 0}, 'Bf1M': {'DistStartToPredDT': -720, 'DistEndToPredDT': 0.01, 'TimeUnit': 'h', 'StartIdx5Min': -8640, 'EndIdx5Min': 0}, 'Bf1Y': {'DistStartToPredDT': -365, 'DistEndToPredDT': -1e-06, 'TimeUnit': 'D', 'StartIdx5Min': -105120, 'EndIdx5Min': -1}, 'Bf1YIn': {'DistStartToPredDT': -365, 'DistEndToPredDT': 1e-06, 'TimeUnit': 'D', 'StartIdx5Min': -105120, 'EndIdx5Min': 1}, 'Bf10Y': {'DistStartToPredDT': -3650, 'DistEndToPredDT': -1e-06, 'TimeUnit': 'D', 'StartIdx5Min': -1051200, 'EndIdx5Min': 1}, 'Af2H': {'DistStartToPredDT': 1, 'DistEndToPredDT': 121, 'TimeUnit': 'min', 'StartIdx5Min': 1, 'EndIdx5Min': 24}, 'Af1W': {'DistStartToPredDT': 0.0001, 'DistEndToPredDT': 7, 'TimeUnit': 'D', 'StartIdx5Min': 1, 'EndIdx5Min': 2016}, 'Af1Wlft': {'DistStartToPredDT': -0.0001, 'DistEndToPredDT': 7, 'TimeUnit': 'D', 'StartIdx5Min': 1, 'EndIdx5Min': 2016}, 'Af1Y': {'DistStartToPredDT': 0.0001, 'DistEndToPredDT': 365, 'TimeUnit': 'D', 'StartIdx5Min': 1, 'EndIdx5Min': 105120}, 'PntAf1Y2M': {'DistStartToPredDT': 305, 'DistEndToPredDT': 425, 'TimeUnit': 'D', 'StartIdx5Min': 87840, 'EndIdx5Min': 122400}, 'PntAf1Y3M': {'DistStartToPredDT': 275, 'DistEndToPredDT': 455, 'TimeUnit': 'D', 'StartIdx5Min': 79200, 'EndIdx5Min': 131040}}, 'case_id_columns': ['PID', 'ObsDT', 'PInvID', 'RxID'], 'ObsDTName': 'ObsDT', 'PID_ObsDT_columns': ['PID', 'ObsDT']}\n",
      "../_Data/4-Data_CaseSet/TrulicityRx.p\n"
     ]
    },
    {
     "data": {
      "text/plain": [
       "Dataset({\n",
       "    features: ['PID', 'ObsDT', 'PInvID', 'RxID', 'DT', 'drug_name'],\n",
       "    num_rows: 1000\n",
       "})"
      ]
     },
     "execution_count": 3,
     "metadata": {},
     "output_type": "execute_result"
    }
   ],
   "source": [
    "##################################\n",
    "CaseSetName = TriggerCaseMethod\n",
    "case_id_columns = Trigger_tools['case_id_columns']\n",
    "special_columns = Trigger_tools['special_columns']\n",
    "##################################\n",
    "\n",
    "TriggerCasePath = os.path.join(SPACE['DATA_CaseSet'], f'{CaseSetName}.p')\n",
    "cohort_args = load_cohort_args(recfldtkn_config_path, SPACE)\n",
    "cohort_args['ckpd_to_CkpdObsConfig'] = ckpd_to_CkpdObsConfig\n",
    "cohort_args['case_id_columns'] = case_id_columns\n",
    "cohort_args['ObsDTName'] = 'ObsDT'\n",
    "cohort_args['PID_ObsDT_columns'] = [cohort_args['RootID'], cohort_args['ObsDTName']]\n",
    "\n",
    "print(cohort_args)\n",
    "print(TriggerCasePath)\n",
    "\n",
    "df_case = pd.read_pickle(TriggerCasePath) # (1000)\n",
    "df_case = df_case.sample(1000, random_state=0).reset_index(drop=True)\n",
    "ds_case = datasets.Dataset.from_pandas(df_case)\n",
    "ds_case"
   ]
  },
  {
   "cell_type": "markdown",
   "id": "7a80d013",
   "metadata": {},
   "source": [
    "\n",
    "## [Step 2] RO: Record Observation & CasePhi\n"
   ]
  },
  {
   "cell_type": "code",
   "execution_count": 4,
   "id": "3cad5623",
   "metadata": {},
   "outputs": [],
   "source": [
    "###########################\n",
    "ROName_List = ['Rx-ObsPnt-InsCate']\n",
    "name_CasePhi = 'AggMeanFeat'\n",
    "###########################"
   ]
  },
  {
   "cell_type": "code",
   "execution_count": 5,
   "id": "bb6339df",
   "metadata": {},
   "outputs": [
    {
     "name": "stdout",
     "output_type": "stream",
     "text": [
      "ro.Rx-ObsPnt-InsCate_ct.AggMeanFeat\n"
     ]
    }
   ],
   "source": [
    "from recfldtkn.obsname import convert_RONameList_to_COName\n",
    "\n",
    "CaseObsName = convert_RONameList_to_COName(ROName_List, name_CasePhi)\n",
    "print(CaseObsName)"
   ]
  },
  {
   "cell_type": "code",
   "execution_count": 6,
   "id": "aa00899c",
   "metadata": {},
   "outputs": [
    {
     "name": "stdout",
     "output_type": "stream",
     "text": [
      "../_Data/2-Data_CaseObs/ro.Rx-ObsPnt-InsCate_ct.AggMeanFeat\n"
     ]
    }
   ],
   "source": [
    "# part of fetch_caseobs_Phi_tools\n",
    "CO_Folder = os.path.join(SPACE['DATA_CaseObs'], CaseObsName)\n",
    "if not os.path.exists(CO_Folder): os.makedirs(CO_Folder)\n",
    "print(CO_Folder)"
   ]
  },
  {
   "cell_type": "markdown",
   "id": "7478e21b",
   "metadata": {},
   "source": [
    "# [Part 2] Tools for ds_case_obs"
   ]
  },
  {
   "cell_type": "markdown",
   "id": "a56c2a76",
   "metadata": {},
   "source": [
    "## [Step 1] Prepare examples"
   ]
  },
  {
   "cell_type": "code",
   "execution_count": 7,
   "id": "d341d32a",
   "metadata": {},
   "outputs": [
    {
     "name": "stdout",
     "output_type": "stream",
     "text": [
      "{'PID': [1033176, 1009211, 1017193, 1027056, 1014849], 'ObsDT': [Timestamp('2023-09-25 13:31:48.690000'), Timestamp('2023-09-01 19:40:45.612000'), Timestamp('2023-09-08 12:58:32.934000'), Timestamp('2023-07-17 20:54:55.528000'), Timestamp('2023-09-12 01:17:17.377000')], 'PInvID': ['1033176-003', '1009211-001', '1017193-010', '1027056-002', '1014849-017'], 'RxID': ['1033176-003-000', '1009211-001-000', '1017193-010-000', '1027056-002-000', '1014849-017-002'], 'DT': [Timestamp('2023-09-25 13:31:48.690000'), Timestamp('2023-09-01 19:40:45.612000'), Timestamp('2023-09-08 12:58:32.934000'), Timestamp('2023-07-17 20:54:55.528000'), Timestamp('2023-09-12 01:17:17.377000')], 'drug_name': ['Trulicity', 'Trulicity', 'Trulicity', 'Trulicity', 'Trulicity']}\n"
     ]
    }
   ],
   "source": [
    "case_examples = ds_case[:5]\n",
    "print(case_examples)"
   ]
  },
  {
   "cell_type": "code",
   "execution_count": 8,
   "id": "1a140aa9",
   "metadata": {},
   "outputs": [
    {
     "name": "stdout",
     "output_type": "stream",
     "text": [
      "{0: {'PID': 1033176,\n",
      "     'ObsDT': Timestamp('2023-09-25 13:31:48.690000'),\n",
      "     'PInvID': '1033176-003',\n",
      "     'RxID': '1033176-003-000',\n",
      "     'DT': Timestamp('2023-09-25 13:31:48.690000'),\n",
      "     'drug_name': 'Trulicity'},\n",
      " 1: {'PID': 1009211,\n",
      "     'ObsDT': Timestamp('2023-09-01 19:40:45.612000'),\n",
      "     'PInvID': '1009211-001',\n",
      "     'RxID': '1009211-001-000',\n",
      "     'DT': Timestamp('2023-09-01 19:40:45.612000'),\n",
      "     'drug_name': 'Trulicity'},\n",
      " 2: {'PID': 1017193,\n",
      "     'ObsDT': Timestamp('2023-09-08 12:58:32.934000'),\n",
      "     'PInvID': '1017193-010',\n",
      "     'RxID': '1017193-010-000',\n",
      "     'DT': Timestamp('2023-09-08 12:58:32.934000'),\n",
      "     'drug_name': 'Trulicity'},\n",
      " 3: {'PID': 1027056,\n",
      "     'ObsDT': Timestamp('2023-07-17 20:54:55.528000'),\n",
      "     'PInvID': '1027056-002',\n",
      "     'RxID': '1027056-002-000',\n",
      "     'DT': Timestamp('2023-07-17 20:54:55.528000'),\n",
      "     'drug_name': 'Trulicity'},\n",
      " 4: {'PID': 1014849,\n",
      "     'ObsDT': Timestamp('2023-09-12 01:17:17.377000'),\n",
      "     'PInvID': '1014849-017',\n",
      "     'RxID': '1014849-017-002',\n",
      "     'DT': Timestamp('2023-09-12 01:17:17.377000'),\n",
      "     'drug_name': 'Trulicity'}}\n"
     ]
    }
   ],
   "source": [
    "length = len(case_examples[list(case_examples.keys())[0]])\n",
    "case_examples_list = [{k: v[i] for k, v in case_examples.items()} for i in range(length)]\n",
    "idx_to_examples = {i: case_examples_list[i] for i in range(length)}\n",
    "pprint(idx_to_examples, sort_dicts=False)"
   ]
  },
  {
   "cell_type": "code",
   "execution_count": 9,
   "id": "f4515d69",
   "metadata": {},
   "outputs": [
    {
     "data": {
      "text/plain": [
       "{'PID': 1009211,\n",
       " 'ObsDT': Timestamp('2023-09-01 19:40:45.612000'),\n",
       " 'PInvID': '1009211-001',\n",
       " 'RxID': '1009211-001-000',\n",
       " 'DT': Timestamp('2023-09-01 19:40:45.612000'),\n",
       " 'drug_name': 'Trulicity'}"
      ]
     },
     "execution_count": 9,
     "metadata": {},
     "output_type": "execute_result"
    }
   ],
   "source": [
    "case_example = idx_to_examples[1]\n",
    "case_example"
   ]
  },
  {
   "cell_type": "markdown",
   "id": "899b14be",
   "metadata": {},
   "source": [
    "## [Step 2] get_caseobs_id"
   ]
  },
  {
   "cell_type": "code",
   "execution_count": 10,
   "id": "e9c2b544",
   "metadata": {},
   "outputs": [],
   "source": [
    "import inspect\n",
    "#################################################\n",
    "def get_CO_id(case_example, CaseObsName, cohort_args):\n",
    "    RootID = cohort_args['RootID']\n",
    "    ObsDTName = cohort_args['ObsDTName']\n",
    "    PIDValue = case_example[RootID]\n",
    "    ObsDTValue = case_example[ObsDTName].isoformat()\n",
    "    return f'{PIDValue}&{ObsDTValue}'\n",
    "\n",
    "get_CO_id.fn_string = inspect.getsource(get_CO_id)\n",
    "#################################################"
   ]
  },
  {
   "cell_type": "code",
   "execution_count": 11,
   "id": "ac158e3b",
   "metadata": {},
   "outputs": [
    {
     "data": {
      "text/plain": [
       "'1009211&2023-09-01T19:40:45.612000'"
      ]
     },
     "execution_count": 11,
     "metadata": {},
     "output_type": "execute_result"
    }
   ],
   "source": [
    "caseobs_id = get_CO_id(case_example, CaseObsName, cohort_args)\n",
    "caseobs_id # CO_id"
   ]
  },
  {
   "cell_type": "markdown",
   "id": "b2f1a72b",
   "metadata": {},
   "source": [
    "\n",
    "\n",
    "## [Step 3] RO List and CasePhi"
   ]
  },
  {
   "cell_type": "code",
   "execution_count": 12,
   "id": "e4bea33f",
   "metadata": {},
   "outputs": [
    {
     "data": {
      "text/plain": [
       "'AggMeanFeat'"
      ]
     },
     "execution_count": 12,
     "metadata": {},
     "output_type": "execute_result"
    }
   ],
   "source": [
    "name_CasePhi "
   ]
  },
  {
   "cell_type": "code",
   "execution_count": 13,
   "id": "206a0628",
   "metadata": {},
   "outputs": [],
   "source": [
    "## we need to prepare these five arguments.\n",
    "# CaseTkn     # <------- we have this.\n",
    "# cohort_args # <------- we have this.\n",
    "\n",
    "# RecObs_Name \n",
    "# rec_args\n",
    "# column_names # attribute name of R^recordname"
   ]
  },
  {
   "cell_type": "code",
   "execution_count": 14,
   "id": "bad0cfc2",
   "metadata": {},
   "outputs": [
    {
     "name": "stdout",
     "output_type": "stream",
     "text": [
      "['Rx-ObsPnt-InsCate']\n",
      "Rx-ObsPnt-InsCate\n"
     ]
    }
   ],
   "source": [
    "######### RecObs_Name\n",
    "print(ROName_List) # RO_List\n",
    "# Let's focus on one RO\n",
    "ROName = ROName_List[0]\n",
    "print(ROName)"
   ]
  },
  {
   "cell_type": "code",
   "execution_count": 15,
   "id": "60aca5da",
   "metadata": {},
   "outputs": [],
   "source": [
    "# RO = 'Rx-Bf2M-InsCate'\n",
    "# RO = 'Rx-Bf2M'\n",
    "# RO = 'P-Zip3DemoNume'"
   ]
  },
  {
   "cell_type": "markdown",
   "id": "3b5a5b71",
   "metadata": {},
   "source": [
    "## [Step4] RO Information"
   ]
  },
  {
   "cell_type": "code",
   "execution_count": 16,
   "id": "e7ecf801",
   "metadata": {},
   "outputs": [
    {
     "name": "stdout",
     "output_type": "stream",
     "text": [
      "Rx ObsPnt InsCate\n"
     ]
    }
   ],
   "source": [
    "# decompose RO to RecName, CkpdName, FldName (small phi)\n",
    "from recfldtkn.obsname import parse_RecObsName\n",
    "\n",
    "d = parse_RecObsName(ROName, ckpd_to_CkpdObsConfig)\n",
    "RecName = d['RecName']\n",
    "CkpdName = d['CkpdName']\n",
    "FldName = d['FldName']\n",
    "print(RecName, CkpdName, FldName)"
   ]
  },
  {
   "cell_type": "code",
   "execution_count": 17,
   "id": "8ab84af9",
   "metadata": {},
   "outputs": [
    {
     "name": "stdout",
     "output_type": "stream",
     "text": [
      "Rx\n"
     ]
    },
    {
     "data": {
      "text/plain": [
       "['CohortInfo',\n",
       " 'RawInfo',\n",
       " 'RecName',\n",
       " 'RecID',\n",
       " 'RecIDChain',\n",
       " 'RawRecID',\n",
       " 'RecDT',\n",
       " 'ParentRecName',\n",
       " 'attr_cols',\n",
       " 'pypath',\n",
       " 'FldTknInfo',\n",
       " 'RFT_GROUP_SIZE',\n",
       " 'idx_group_size',\n",
       " 'usebucket',\n",
       " 'GROUP_SIZE',\n",
       " 'recfldtkn_config_path',\n",
       " 'yaml_file_path']"
      ]
     },
     "execution_count": 17,
     "metadata": {},
     "output_type": "execute_result"
    }
   ],
   "source": [
    "# load all information about the R^record_name. \n",
    "from recfldtkn.configfn import load_record_args\n",
    "\n",
    "print(RecName)\n",
    "rec_args = load_record_args(RecName, cohort_args)\n",
    "[i for i in rec_args]"
   ]
  },
  {
   "cell_type": "markdown",
   "id": "8a6aa7f7",
   "metadata": {},
   "source": [
    "## [Step 5] Load ds_rec"
   ]
  },
  {
   "cell_type": "code",
   "execution_count": 18,
   "id": "d64f4802",
   "metadata": {},
   "outputs": [],
   "source": [
    "from recfldtkn.loadtools import load_ds_rec_and_info\n",
    "\n",
    "ds_rec, ds_rec_info = load_ds_rec_and_info(RecName, cohort_args)\n",
    "# R^Rx\n",
    "# ROdf # Rx-Bf2M (i, t, Bf2M)"
   ]
  },
  {
   "cell_type": "code",
   "execution_count": 19,
   "id": "4cb89109",
   "metadata": {},
   "outputs": [
    {
     "data": {
      "text/plain": [
       "['PID',\n",
       " 'PInvID',\n",
       " 'RxID',\n",
       " 'prescription_id_encoded',\n",
       " 'DT',\n",
       " 'start_date',\n",
       " 'invitation_date',\n",
       " 'insurance_start_date',\n",
       " 'written_date',\n",
       " 'date_fdb_updated',\n",
       " 'prescriber_npi',\n",
       " 'ncpdp_id',\n",
       " 'pharmacy_name_rx',\n",
       " 'simple_pharmacy_name_rx',\n",
       " 'specialty_pharmacy',\n",
       " 'pharmacy_zip_code_3',\n",
       " 'ndc_id',\n",
       " 'drug_name',\n",
       " 'drug_description',\n",
       " 'generic_id',\n",
       " 'top_200_branded_drugs',\n",
       " 'top_50_generic_drugs',\n",
       " 'brand_source',\n",
       " 'fill_number',\n",
       " 'refills_available',\n",
       " 'quantity_unit',\n",
       " 'quantity',\n",
       " 'days_supply',\n",
       " 'package_size',\n",
       " 'package_units',\n",
       " 'strength',\n",
       " 'strength_units',\n",
       " 'total_package_strength',\n",
       " 'directions',\n",
       " 'delivery_type',\n",
       " 'legend_status',\n",
       " 'show_rems_campaigns',\n",
       " 'show_coupon_campaigns',\n",
       " 'show_educational_campaigns',\n",
       " 'show_internal_campaigns',\n",
       " 'show_target_campaigns',\n",
       " 'show_experimental_campaigns',\n",
       " 'send_refill_reminder_messages',\n",
       " 'send_renewal_reminder_messages',\n",
       " 'supports_hippo_prices',\n",
       " 'supports_hippo_prices65',\n",
       " 'supports_copay_prices',\n",
       " 'supports_hippo_prices_medicare',\n",
       " 'rx_bin',\n",
       " 'rx_pcn',\n",
       " 'dispenser_class',\n",
       " 'primary_dispenser_type',\n",
       " 'campaign_id',\n",
       " 'record_locator_encoded',\n",
       " 'source_id',\n",
       " 'group_id',\n",
       " 'customer_type',\n",
       " 'organization_type',\n",
       " 'plan_name',\n",
       " 'suppliers',\n",
       " 'ther_eq_hierarchy_name',\n",
       " 'ther_eq_parent_name',\n",
       " 'ther_eq_ult_parent_name',\n",
       " 'ther_eq_ult_child_ind',\n",
       " 'ther_eq_ult_parent_etc_id',\n",
       " 'ther_eq_hierarchy_level',\n",
       " 'therapeutic_equivalence_id',\n",
       " 'Rx-CmpCateTkn_wgt',\n",
       " 'Rx-CmpCateTkn_tknidx',\n",
       " 'Rx-InsCateTkn_wgt',\n",
       " 'Rx-InsCateTkn_tknidx',\n",
       " 'Rx-ServiceCateTkn_wgt',\n",
       " 'Rx-ServiceCateTkn_tknidx',\n",
       " 'Rx-SysCateTkn_wgt',\n",
       " 'Rx-SysCateTkn_tknidx',\n",
       " 'Rx-QuantN2CTkn_wgt',\n",
       " 'Rx-QuantN2CTkn_tknidx',\n",
       " 'Rx-QuantNumeTkn_wgt',\n",
       " 'Rx-QuantNumeTkn_tknidx',\n",
       " 'Rx-TherEqCateTkn_wgt',\n",
       " 'Rx-TherEqCateTkn_tknidx',\n",
       " 'Rx-DrugBasicCateTkn_wgt',\n",
       " 'Rx-DrugBasicCateTkn_tknidx',\n",
       " 'Rx-PhmBasicCateTkn_wgt',\n",
       " 'Rx-PhmBasicCateTkn_tknidx',\n",
       " 'Rx-PhmZip3HousingNumeTkn_wgt',\n",
       " 'Rx-PhmZip3HousingNumeTkn_tknidx']"
      ]
     },
     "execution_count": 19,
     "metadata": {},
     "output_type": "execute_result"
    }
   ],
   "source": [
    "######### column_names (or we can all it attribute columns)\n",
    "column_names = ds_rec.column_names # attr_columns + phi_columns\n",
    "column_names\n",
    "# ROdf_ij --(Phi: RecNum)-> COdf_ij "
   ]
  },
  {
   "cell_type": "markdown",
   "id": "87d61f22",
   "metadata": {},
   "source": [
    "## [Step 6] get_selected_columns (attr + phi) from ds_rec"
   ]
  },
  {
   "cell_type": "code",
   "execution_count": 20,
   "id": "f0242f26",
   "metadata": {},
   "outputs": [
    {
     "data": {
      "text/plain": [
       "'Rx-ObsPnt-InsCate'"
      ]
     },
     "execution_count": 20,
     "metadata": {},
     "output_type": "execute_result"
    }
   ],
   "source": [
    "ROName"
   ]
  },
  {
   "cell_type": "code",
   "execution_count": 21,
   "id": "aa9215fc",
   "metadata": {},
   "outputs": [
    {
     "data": {
      "text/plain": [
       "['PID', 'RxID', 'DT']"
      ]
     },
     "execution_count": 21,
     "metadata": {},
     "output_type": "execute_result"
    }
   ],
   "source": [
    "from recfldtkn.obsname import parse_RecObsName\n",
    "# RecName = RecObs_Name.split('-')[0]\n",
    "base_columns = [cohort_args['RootID'], rec_args['RecID'], rec_args['RecDT']]\n",
    "base_columns"
   ]
  },
  {
   "cell_type": "code",
   "execution_count": 22,
   "id": "b8f616fd",
   "metadata": {},
   "outputs": [
    {
     "data": {
      "text/plain": [
       "'Rx-InsCateTkn'"
      ]
     },
     "execution_count": 22,
     "metadata": {},
     "output_type": "execute_result"
    }
   ],
   "source": [
    "\n",
    "RecName = parse_RecObsName(ROName, ckpd_to_CkpdObsConfig)['RecName']\n",
    "FldName = parse_RecObsName(ROName, ckpd_to_CkpdObsConfig)['FldName']\n",
    "RecFldTknName = RecName + '-' + FldName + 'Tkn'\n",
    "# rec_args['FldTknInfo'][RecFldTknName]\n",
    "RecFldTknName"
   ]
  },
  {
   "cell_type": "code",
   "execution_count": 23,
   "id": "a9441803",
   "metadata": {},
   "outputs": [],
   "source": [
    "val_cols = rec_args['FldTknInfo'][RecFldTknName]['value_cols']"
   ]
  },
  {
   "cell_type": "code",
   "execution_count": 24,
   "id": "e191cd8d",
   "metadata": {},
   "outputs": [
    {
     "data": {
      "text/plain": [
       "['PID', 'RxID', 'DT', 'rx_bin', 'rx_pcn', 'plan_name']"
      ]
     },
     "execution_count": 24,
     "metadata": {},
     "output_type": "execute_result"
    }
   ],
   "source": [
    "final_cols = base_columns + val_cols\n",
    "final_cols"
   ]
  },
  {
   "cell_type": "code",
   "execution_count": 25,
   "id": "96122aa4",
   "metadata": {},
   "outputs": [],
   "source": [
    "###############################\n",
    "def get_selected_columns(ROName, column_names, cohort_args, rec_args, CaseTkn):\n",
    "    from recfldtkn.obsname import parse_RecObsName\n",
    "    RecName = parse_RecObsName(ROName, cohort_args['ckpd_to_CkpdObsConfig'])['RecName']\n",
    "    FldName = parse_RecObsName(ROName, cohort_args['ckpd_to_CkpdObsConfig'])['FldName']\n",
    "    base_columns = [cohort_args['RootID'], rec_args['RecID'], rec_args['RecDT']]\n",
    "    \n",
    "    FldName_cols = [i for i in column_names if FldName in i]\n",
    "    if len(FldName_cols) == 0: \n",
    "        parse_RecObsName(ROName)['FldName']\n",
    "        RecFldTknName = RecName + '-' + FldName + 'Tkn'\n",
    "        # rec_args['FldTknInfo'][RecFldTknName]\n",
    "        \n",
    "        val_cols = rec_args['FldTknInfo'][RecFldTknName]['value_cols']\n",
    "        final_cols = base_columns + val_cols\n",
    "    else:\n",
    "        final_cols = base_columns + FldName_cols\n",
    "    return final_cols\n",
    "\n",
    "get_selected_columns.fn_string = inspect.getsource(get_selected_columns)\n",
    "###############################"
   ]
  },
  {
   "cell_type": "code",
   "execution_count": 26,
   "id": "e4c9644d",
   "metadata": {},
   "outputs": [
    {
     "data": {
      "text/plain": [
       "'Rx'"
      ]
     },
     "execution_count": 26,
     "metadata": {},
     "output_type": "execute_result"
    }
   ],
   "source": [
    "RecName"
   ]
  },
  {
   "cell_type": "code",
   "execution_count": 27,
   "id": "d79b86cd",
   "metadata": {},
   "outputs": [
    {
     "data": {
      "text/plain": [
       "['PID', 'RxID', 'DT', 'Rx-InsCateTkn_wgt', 'Rx-InsCateTkn_tknidx']"
      ]
     },
     "execution_count": 27,
     "metadata": {},
     "output_type": "execute_result"
    }
   ],
   "source": [
    "# big question here\n",
    "# if small phi is not applied in the record level\n",
    "# how do we deploy the tools of small phi within this process?\n",
    "get_selected_columns(ROName, column_names, cohort_args, rec_args, name_CasePhi)"
   ]
  },
  {
   "cell_type": "code",
   "execution_count": 28,
   "id": "bf587b85",
   "metadata": {},
   "outputs": [
    {
     "name": "stdout",
     "output_type": "stream",
     "text": [
      "['Rx-ObsPnt-InsCate']\n",
      "AggMeanFeat\n",
      "<function get_selected_columns at 0x18616ff60>\n"
     ]
    }
   ],
   "source": [
    "print(ROName_List)\n",
    "print(name_CasePhi)\n",
    "print(get_selected_columns)"
   ]
  },
  {
   "cell_type": "code",
   "execution_count": 29,
   "id": "e26e9f62",
   "metadata": {},
   "outputs": [
    {
     "name": "stderr",
     "output_type": "stream",
     "text": [
      "[INFO:2024-04-09 12:19:15,435:(configfn.py@110 recfldtkn.configfn)]: file_path in load_fldtkn_args: ../pipeline/config_recfldtkn/Record/Rx.yaml\n"
     ]
    }
   ],
   "source": [
    "# RecObsName_to_RecObsInfo # RO_to_ROinfo\n",
    "\n",
    "from recfldtkn.observer import get_RecObsName_to_RecObsInfo\n",
    "\n",
    "record_to_ds_rec = {}        # set this to empty dictionary, then we will load data from disk\n",
    "record_to_ds_rec_info = {}   # set this to empty dictionary, then we will load data from disk\n",
    "ROName_to_ROInfo = get_RecObsName_to_RecObsInfo(ROName_List, \n",
    "                                                name_CasePhi, \n",
    "                                                get_selected_columns,\n",
    "                                                cohort_args, \n",
    "                                                cohort_args['ckpd_to_CkpdObsConfig'], \n",
    "                                                record_to_ds_rec, \n",
    "                                                record_to_ds_rec_info)\n",
    "    \n",
    "ROName = ROName_List[0] # Rx-Bf2M  \n",
    "ROInfo = ROName_to_ROInfo[ROName] # RxInfo + R^Rx (with necessary columns) + Ckpd + FldTkn (phi)"
   ]
  },
  {
   "cell_type": "code",
   "execution_count": 30,
   "id": "3e1f08ca",
   "metadata": {},
   "outputs": [
    {
     "data": {
      "text/plain": [
       "['rec_args',\n",
       " 'RecName',\n",
       " 'CkpdName',\n",
       " 'CkpdInfo',\n",
       " 'FldName',\n",
       " 'FldTknName',\n",
       " 'FldIdx2Tkn',\n",
       " 'fldtkn_args',\n",
       " 'fld_tokenizer_fn',\n",
       " 'run_fldtkn_on_the_fly',\n",
       " 'ds_rec',\n",
       " 'df_rec_info']"
      ]
     },
     "execution_count": 30,
     "metadata": {},
     "output_type": "execute_result"
    }
   ],
   "source": [
    "[i for i in ROInfo]\n",
    "# pprint(ROInfo)"
   ]
  },
  {
   "cell_type": "code",
   "execution_count": 31,
   "id": "1e859481",
   "metadata": {},
   "outputs": [
    {
     "data": {
      "text/plain": [
       "Dataset({\n",
       "    features: ['PID', 'RxID', 'DT', 'Rx-InsCateTkn_wgt', 'Rx-InsCateTkn_tknidx'],\n",
       "    num_rows: 571656\n",
       "})"
      ]
     },
     "execution_count": 31,
     "metadata": {},
     "output_type": "execute_result"
    }
   ],
   "source": [
    "ROInfo['ds_rec'] # get_selected_columns"
   ]
  },
  {
   "cell_type": "markdown",
   "id": "90366719",
   "metadata": {},
   "source": [
    "## [Step 7] get_CO_vocab"
   ]
  },
  {
   "cell_type": "code",
   "execution_count": 32,
   "id": "2d978997",
   "metadata": {},
   "outputs": [],
   "source": [
    "def get_CO_vocab(RecObsName_to_RecObsInfo):\n",
    "    # phi_list\n",
    "    RecFldName_list = list(set([RecObsInfo['RecName'] + '-' +RecObsInfo['FldName'] \n",
    "                                for RecObsName, RecObsInfo in RecObsName_to_RecObsInfo.items()\n",
    "                                if RecObsInfo['FldName'] is not None ]\n",
    "                                ))\n",
    "    \n",
    "    # print('RecFldName_list----->', RecFldName_list)\n",
    "    # for current version: for any Phi, we only process one or zero phi. \n",
    "    assert len(RecFldName_list) <= 1\n",
    "\n",
    "    ############################ tkn \n",
    "    RecObsName = [i for i in RecObsName_to_RecObsInfo][0]\n",
    "    RecObsInfo = RecObsName_to_RecObsInfo[RecObsName]\n",
    "    idx2tkn = RecObsInfo['FldIdx2Tkn'] + ['NoObs']   \n",
    "    tid2tkn = {tid: tkn for tid, tkn in enumerate(idx2tkn)}\n",
    "    tkn2tid = {tkn: tid for tid, tkn in tid2tkn.items()}\n",
    "    CaseTknVocab = {}\n",
    "    CaseTknVocab['tid'] = {'tid2tkn': tid2tkn, 'tkn2tid': tkn2tid}\n",
    "    CaseTknVocab['wgt'] = {}\n",
    "    ############################\n",
    "    \n",
    "    return CaseTknVocab\n",
    "\n",
    "get_CO_vocab.fn_string = inspect.getsource(get_CO_vocab)"
   ]
  },
  {
   "cell_type": "code",
   "execution_count": 33,
   "id": "5f0067d5",
   "metadata": {},
   "outputs": [
    {
     "name": "stdout",
     "output_type": "stream",
     "text": [
      "{'tid': {'tid2tkn': {0: 'rx_bin_unk',\n",
      "                     1: 'rx_bin_minor',\n",
      "                     2: 'rx_bin_4336.0',\n",
      "                     3: 'rx_bin_610097.0',\n",
      "                     4: 'rx_bin_610014.0',\n",
      "                     5: 'rx_bin_3858.0',\n",
      "                     6: 'rx_bin_15581.0',\n",
      "                     7: 'rx_bin_610502.0',\n",
      "                     8: 'rx_bin_610011.0',\n",
      "                     9: 'rx_bin_11552.0',\n",
      "                     10: 'rx_bin_610494.0',\n",
      "                     11: 'rx_bin_610239.0',\n",
      "                     12: 'rx_bin_610279.0',\n",
      "                     13: 'rx_bin_20115.0',\n",
      "                     14: 'rx_bin_20099.0',\n",
      "                     15: 'rx_bin_17010.0',\n",
      "                     16: 'rx_bin_24251.0',\n",
      "                     17: 'rx_bin_22659.0',\n",
      "                     18: 'rx_bin_12833.0',\n",
      "                     19: 'rx_bin_4915.0',\n",
      "                     20: 'rx_bin_19595.0',\n",
      "                     21: 'rx_bin_1553.0',\n",
      "                     22: 'rx_bin_20107.0',\n",
      "                     23: 'rx_bin_610591.0',\n",
      "                     24: 'rx_bin_610455.0',\n",
      "                     25: 'rx_bin_610602.0',\n",
      "                     26: 'rx_bin_23880.0',\n",
      "                     27: 'rx_bin_10579.0',\n",
      "                     28: 'rx_bin_18902.0',\n",
      "                     29: 'rx_bin_610593.0',\n",
      "                     30: 'rx_bin_12312.0',\n",
      "                     31: 'rx_bin_3585.0',\n",
      "                     32: 'rx_pcn_unk',\n",
      "                     33: 'rx_pcn_minor',\n",
      "                     34: 'rx_pcn_ADV',\n",
      "                     35: 'rx_pcn_9999',\n",
      "                     36: 'rx_pcn_MEDDADV',\n",
      "                     37: 'rx_pcn_A4',\n",
      "                     38: 'rx_pcn_03200000',\n",
      "                     39: 'rx_pcn_MCAIDADV',\n",
      "                     40: 'rx_pcn_00670000',\n",
      "                     41: 'rx_pcn_IRX',\n",
      "                     42: 'rx_pcn_IS',\n",
      "                     43: 'rx_pcn_FEPRX',\n",
      "                     44: 'rx_pcn_MA',\n",
      "                     45: 'rx_pcn_MEDDAET',\n",
      "                     46: 'rx_pcn_WG',\n",
      "                     47: 'rx_pcn_CIMCARE',\n",
      "                     48: 'rx_pcn_BCTX',\n",
      "                     49: 'rx_pcn_OHRXPROD',\n",
      "                     50: 'rx_pcn_6334225',\n",
      "                     51: 'rx_pcn_MEDDPRIME',\n",
      "                     52: 'rx_pcn_FLBC',\n",
      "                     53: 'rx_pcn_TNM',\n",
      "                     54: 'rx_pcn_ASPROD1',\n",
      "                     55: 'rx_pcn_CTRXMEDD',\n",
      "                     56: 'rx_pcn_KYPROD1',\n",
      "                     57: 'rx_pcn_OKA01',\n",
      "                     58: 'rx_pcn_P303018902',\n",
      "                     59: 'rx_pcn_4343',\n",
      "                     60: 'rx_pcn_1215',\n",
      "                     61: 'rx_pcn_01940000',\n",
      "                     62: 'rx_pcn_MASSPROD',\n",
      "                     63: 'rx_pcn_PRX00621',\n",
      "                     64: 'plan_name_unk',\n",
      "                     65: 'plan_name_minor',\n",
      "                     66: 'plan_name_Department of Defense',\n",
      "                     67: 'plan_name_UHCMR MAPD AND MA/RDS',\n",
      "                     68: 'plan_name_CVS|CAREMARK',\n",
      "                     69: 'plan_name_IRXME BB CDH-Y IRXMDTSTR1',\n",
      "                     70: 'plan_name_AETSS BB CDH-N AETMEDD23',\n",
      "                     71: 'plan_name_E23A1 BB CDH-N HPDMEDD',\n",
      "                     72: 'plan_name_UHCMR PDP',\n",
      "                     73: 'plan_name_EXPRESS SCRIPTS',\n",
      "                     74: 'plan_name_OPTUMRX',\n",
      "                     75: 'plan_name_T14 L4Y 10001',\n",
      "                     76: 'plan_name_AMD23 BB CDH-Y AETMEDD23',\n",
      "                     77: 'plan_name_UNITEDHEALTHCARE DUAL COM',\n",
      "                     78: 'plan_name_Careplus D Humana PDP',\n",
      "                     79: 'plan_name_COMMONWEALTH OF KENTUCKY WELLCARE',\n",
      "                     80: 'plan_name_G1K BB CDH-N BBTMPFEPB',\n",
      "                     81: 'plan_name_UPMC',\n",
      "                     82: 'plan_name_DST PHARMACY SOLUTIONS DIRECT',\n",
      "                     83: 'plan_name_MEDICAL RX',\n",
      "                     84: 'plan_name_Gainwell Ohio Medicaid',\n",
      "                     85: 'plan_name_UHC ACIS ENROLLMENTS',\n",
      "                     86: 'plan_name_BMC RETAIL MEDI',\n",
      "                     87: 'plan_name_HP-OHIO',\n",
      "                     88: 'plan_name_2023 Cigna MedD PDP Secure 6T-RTL',\n",
      "                     89: 'plan_name_INDIANA MEDICAID',\n",
      "                     90: 'plan_name_QL TMP Z 30 DAYS RETAIL',\n",
      "                     91: 'plan_name_G1K BB CDH-N BBTMPFEPS',\n",
      "                     92: 'plan_name_BMCHP MA MCD',\n",
      "                     93: 'plan_name_COMMONWEALTH OF KENTUCKY AETNA',\n",
      "                     94: 'plan_name_C23H1 BB CDH-N HPDMEDD',\n",
      "                     95: 'plan_name_INGEN BB CDH-N IRXBAS918',\n",
      "                     96: 'NoObs'},\n",
      "         'tkn2tid': {'rx_bin_unk': 0,\n",
      "                     'rx_bin_minor': 1,\n",
      "                     'rx_bin_4336.0': 2,\n",
      "                     'rx_bin_610097.0': 3,\n",
      "                     'rx_bin_610014.0': 4,\n",
      "                     'rx_bin_3858.0': 5,\n",
      "                     'rx_bin_15581.0': 6,\n",
      "                     'rx_bin_610502.0': 7,\n",
      "                     'rx_bin_610011.0': 8,\n",
      "                     'rx_bin_11552.0': 9,\n",
      "                     'rx_bin_610494.0': 10,\n",
      "                     'rx_bin_610239.0': 11,\n",
      "                     'rx_bin_610279.0': 12,\n",
      "                     'rx_bin_20115.0': 13,\n",
      "                     'rx_bin_20099.0': 14,\n",
      "                     'rx_bin_17010.0': 15,\n",
      "                     'rx_bin_24251.0': 16,\n",
      "                     'rx_bin_22659.0': 17,\n",
      "                     'rx_bin_12833.0': 18,\n",
      "                     'rx_bin_4915.0': 19,\n",
      "                     'rx_bin_19595.0': 20,\n",
      "                     'rx_bin_1553.0': 21,\n",
      "                     'rx_bin_20107.0': 22,\n",
      "                     'rx_bin_610591.0': 23,\n",
      "                     'rx_bin_610455.0': 24,\n",
      "                     'rx_bin_610602.0': 25,\n",
      "                     'rx_bin_23880.0': 26,\n",
      "                     'rx_bin_10579.0': 27,\n",
      "                     'rx_bin_18902.0': 28,\n",
      "                     'rx_bin_610593.0': 29,\n",
      "                     'rx_bin_12312.0': 30,\n",
      "                     'rx_bin_3585.0': 31,\n",
      "                     'rx_pcn_unk': 32,\n",
      "                     'rx_pcn_minor': 33,\n",
      "                     'rx_pcn_ADV': 34,\n",
      "                     'rx_pcn_9999': 35,\n",
      "                     'rx_pcn_MEDDADV': 36,\n",
      "                     'rx_pcn_A4': 37,\n",
      "                     'rx_pcn_03200000': 38,\n",
      "                     'rx_pcn_MCAIDADV': 39,\n",
      "                     'rx_pcn_00670000': 40,\n",
      "                     'rx_pcn_IRX': 41,\n",
      "                     'rx_pcn_IS': 42,\n",
      "                     'rx_pcn_FEPRX': 43,\n",
      "                     'rx_pcn_MA': 44,\n",
      "                     'rx_pcn_MEDDAET': 45,\n",
      "                     'rx_pcn_WG': 46,\n",
      "                     'rx_pcn_CIMCARE': 47,\n",
      "                     'rx_pcn_BCTX': 48,\n",
      "                     'rx_pcn_OHRXPROD': 49,\n",
      "                     'rx_pcn_6334225': 50,\n",
      "                     'rx_pcn_MEDDPRIME': 51,\n",
      "                     'rx_pcn_FLBC': 52,\n",
      "                     'rx_pcn_TNM': 53,\n",
      "                     'rx_pcn_ASPROD1': 54,\n",
      "                     'rx_pcn_CTRXMEDD': 55,\n",
      "                     'rx_pcn_KYPROD1': 56,\n",
      "                     'rx_pcn_OKA01': 57,\n",
      "                     'rx_pcn_P303018902': 58,\n",
      "                     'rx_pcn_4343': 59,\n",
      "                     'rx_pcn_1215': 60,\n",
      "                     'rx_pcn_01940000': 61,\n",
      "                     'rx_pcn_MASSPROD': 62,\n",
      "                     'rx_pcn_PRX00621': 63,\n",
      "                     'plan_name_unk': 64,\n",
      "                     'plan_name_minor': 65,\n",
      "                     'plan_name_Department of Defense': 66,\n",
      "                     'plan_name_UHCMR MAPD AND MA/RDS': 67,\n",
      "                     'plan_name_CVS|CAREMARK': 68,\n",
      "                     'plan_name_IRXME BB CDH-Y IRXMDTSTR1': 69,\n",
      "                     'plan_name_AETSS BB CDH-N AETMEDD23': 70,\n",
      "                     'plan_name_E23A1 BB CDH-N HPDMEDD': 71,\n",
      "                     'plan_name_UHCMR PDP': 72,\n",
      "                     'plan_name_EXPRESS SCRIPTS': 73,\n",
      "                     'plan_name_OPTUMRX': 74,\n",
      "                     'plan_name_T14 L4Y 10001': 75,\n",
      "                     'plan_name_AMD23 BB CDH-Y AETMEDD23': 76,\n",
      "                     'plan_name_UNITEDHEALTHCARE DUAL COM': 77,\n",
      "                     'plan_name_Careplus D Humana PDP': 78,\n",
      "                     'plan_name_COMMONWEALTH OF KENTUCKY WELLCARE': 79,\n",
      "                     'plan_name_G1K BB CDH-N BBTMPFEPB': 80,\n",
      "                     'plan_name_UPMC': 81,\n",
      "                     'plan_name_DST PHARMACY SOLUTIONS DIRECT': 82,\n",
      "                     'plan_name_MEDICAL RX': 83,\n",
      "                     'plan_name_Gainwell Ohio Medicaid': 84,\n",
      "                     'plan_name_UHC ACIS ENROLLMENTS': 85,\n",
      "                     'plan_name_BMC RETAIL MEDI': 86,\n",
      "                     'plan_name_HP-OHIO': 87,\n",
      "                     'plan_name_2023 Cigna MedD PDP Secure 6T-RTL': 88,\n",
      "                     'plan_name_INDIANA MEDICAID': 89,\n",
      "                     'plan_name_QL TMP Z 30 DAYS RETAIL': 90,\n",
      "                     'plan_name_G1K BB CDH-N BBTMPFEPS': 91,\n",
      "                     'plan_name_BMCHP MA MCD': 92,\n",
      "                     'plan_name_COMMONWEALTH OF KENTUCKY AETNA': 93,\n",
      "                     'plan_name_C23H1 BB CDH-N HPDMEDD': 94,\n",
      "                     'plan_name_INGEN BB CDH-N IRXBAS918': 95,\n",
      "                     'NoObs': 96}},\n",
      " 'wgt': {}}\n"
     ]
    }
   ],
   "source": [
    "CO_vocab = get_CO_vocab(ROName_to_ROInfo)\n",
    "pprint(CO_vocab, sort_dicts=False)"
   ]
  },
  {
   "cell_type": "markdown",
   "id": "4701e452",
   "metadata": {},
   "source": [
    "\n",
    "## [Step 8] Fetch ds_rec"
   ]
  },
  {
   "cell_type": "code",
   "execution_count": 34,
   "id": "4666ba8a",
   "metadata": {},
   "outputs": [
    {
     "data": {
      "text/plain": [
       "{'PID': 1014849,\n",
       " 'ObsDT': Timestamp('2023-09-12 01:17:17.377000'),\n",
       " 'PInvID': '1014849-017',\n",
       " 'RxID': '1014849-017-002',\n",
       " 'DT': Timestamp('2023-09-12 01:17:17.377000'),\n",
       " 'drug_name': 'Trulicity'}"
      ]
     },
     "execution_count": 34,
     "metadata": {},
     "output_type": "execute_result"
    }
   ],
   "source": [
    "case_example = idx_to_examples[4]\n",
    "case_example"
   ]
  },
  {
   "cell_type": "code",
   "execution_count": 35,
   "id": "87d8d8f3",
   "metadata": {},
   "outputs": [
    {
     "data": {
      "text/plain": [
       "'Rx-ObsPnt-InsCate'"
      ]
     },
     "execution_count": 35,
     "metadata": {},
     "output_type": "execute_result"
    }
   ],
   "source": [
    "ROName"
   ]
  },
  {
   "cell_type": "code",
   "execution_count": 36,
   "id": "e8144f36",
   "metadata": {},
   "outputs": [
    {
     "name": "stdout",
     "output_type": "stream",
     "text": [
      "{0: {'PID': 1033176,\n",
      "     'ObsDT': Timestamp('2023-09-25 13:31:48.690000'),\n",
      "     'PInvID': '1033176-003',\n",
      "     'RxID': '1033176-003-000',\n",
      "     'DT': Timestamp('2023-09-25 13:31:48.690000'),\n",
      "     'drug_name': 'Trulicity'},\n",
      " 1: {'PID': 1009211,\n",
      "     'ObsDT': Timestamp('2023-09-01 19:40:45.612000'),\n",
      "     'PInvID': '1009211-001',\n",
      "     'RxID': '1009211-001-000',\n",
      "     'DT': Timestamp('2023-09-01 19:40:45.612000'),\n",
      "     'drug_name': 'Trulicity'},\n",
      " 2: {'PID': 1017193,\n",
      "     'ObsDT': Timestamp('2023-09-08 12:58:32.934000'),\n",
      "     'PInvID': '1017193-010',\n",
      "     'RxID': '1017193-010-000',\n",
      "     'DT': Timestamp('2023-09-08 12:58:32.934000'),\n",
      "     'drug_name': 'Trulicity'},\n",
      " 3: {'PID': 1027056,\n",
      "     'ObsDT': Timestamp('2023-07-17 20:54:55.528000'),\n",
      "     'PInvID': '1027056-002',\n",
      "     'RxID': '1027056-002-000',\n",
      "     'DT': Timestamp('2023-07-17 20:54:55.528000'),\n",
      "     'drug_name': 'Trulicity'},\n",
      " 4: {'PID': 1014849,\n",
      "     'ObsDT': Timestamp('2023-09-12 01:17:17.377000'),\n",
      "     'PInvID': '1014849-017',\n",
      "     'RxID': '1014849-017-002',\n",
      "     'DT': Timestamp('2023-09-12 01:17:17.377000'),\n",
      "     'drug_name': 'Trulicity'}}\n"
     ]
    }
   ],
   "source": [
    "pprint(idx_to_examples, sort_dicts=False)"
   ]
  },
  {
   "cell_type": "code",
   "execution_count": 37,
   "id": "503bbbae",
   "metadata": {},
   "outputs": [
    {
     "name": "stdout",
     "output_type": "stream",
     "text": [
      "Rx-ObsPnt-InsCate : ['rec_args', 'RecName', 'CkpdName', 'CkpdInfo', 'FldName', 'FldTknName', 'FldIdx2Tkn', 'fldtkn_args', 'fld_tokenizer_fn', 'run_fldtkn_on_the_fly', 'ds_rec', 'df_rec_info']\n"
     ]
    }
   ],
   "source": [
    "for ROName, ROInfo in ROName_to_ROInfo.items():\n",
    "    print(ROName, ':', [i for i in ROInfo])"
   ]
  },
  {
   "cell_type": "code",
   "execution_count": 38,
   "id": "8733c8d5",
   "metadata": {},
   "outputs": [
    {
     "name": "stdout",
     "output_type": "stream",
     "text": [
      "============ Rx ============\n",
      "{1009211: Dataset({\n",
      "    features: ['PID', 'RxID', 'DT', 'Rx-InsCateTkn_wgt', 'Rx-InsCateTkn_tknidx'],\n",
      "    num_rows: 1\n",
      "}),\n",
      " 1014849: Dataset({\n",
      "    features: ['PID', 'RxID', 'DT', 'Rx-InsCateTkn_wgt', 'Rx-InsCateTkn_tknidx'],\n",
      "    num_rows: 28\n",
      "}),\n",
      " 1017193: Dataset({\n",
      "    features: ['PID', 'RxID', 'DT', 'Rx-InsCateTkn_wgt', 'Rx-InsCateTkn_tknidx'],\n",
      "    num_rows: 22\n",
      "}),\n",
      " 1027056: Dataset({\n",
      "    features: ['PID', 'RxID', 'DT', 'Rx-InsCateTkn_wgt', 'Rx-InsCateTkn_tknidx'],\n",
      "    num_rows: 6\n",
      "}),\n",
      " 1033176: Dataset({\n",
      "    features: ['PID', 'RxID', 'DT', 'Rx-InsCateTkn_wgt', 'Rx-InsCateTkn_tknidx'],\n",
      "    num_rows: 5\n",
      "})}\n"
     ]
    }
   ],
   "source": [
    "# RO_to_ROdf: RecObsName_to_RecObsDS\n",
    "from recfldtkn.observer import CaseObserverTransformer\n",
    "\n",
    "get_Record_P = CaseObserverTransformer.get_Record_P\n",
    "RecName_to_REC_P = get_Record_P(idx_to_examples, ROName_to_ROInfo)\n",
    "for RecName, REC_P in RecName_to_REC_P.items():\n",
    "    print(f'============ {RecName} ============')\n",
    "    pprint(REC_P)"
   ]
  },
  {
   "cell_type": "markdown",
   "id": "747bb7a8",
   "metadata": {},
   "source": [
    "## [Step 9] Fetch ROdf: $R_i^{recname}$"
   ]
  },
  {
   "cell_type": "code",
   "execution_count": 39,
   "id": "7ba386ac",
   "metadata": {},
   "outputs": [
    {
     "name": "stdout",
     "output_type": "stream",
     "text": [
      "\n",
      "====================\n",
      "idx: 0\n",
      "case: {'PID': 1033176, 'ObsDT': Timestamp('2023-09-25 13:31:48.690000'), 'PInvID': '1033176-003', 'RxID': '1033176-003-000', 'DT': Timestamp('2023-09-25 13:31:48.690000'), 'drug_name': 'Trulicity'}\n",
      "ROdf: {'Rx-ObsPnt-InsCate': Dataset({\n",
      "    features: ['PID', 'RxID', 'DT', 'Rx-InsCateTkn_wgt', 'Rx-InsCateTkn_tknidx'],\n",
      "    num_rows: 1\n",
      "})}\n",
      "====================\n",
      "\n",
      "====================\n",
      "idx: 1\n",
      "case: {'PID': 1009211, 'ObsDT': Timestamp('2023-09-01 19:40:45.612000'), 'PInvID': '1009211-001', 'RxID': '1009211-001-000', 'DT': Timestamp('2023-09-01 19:40:45.612000'), 'drug_name': 'Trulicity'}\n",
      "ROdf: {'Rx-ObsPnt-InsCate': Dataset({\n",
      "    features: ['PID', 'RxID', 'DT', 'Rx-InsCateTkn_wgt', 'Rx-InsCateTkn_tknidx'],\n",
      "    num_rows: 1\n",
      "})}\n",
      "====================\n",
      "\n",
      "====================\n",
      "idx: 2\n",
      "case: {'PID': 1017193, 'ObsDT': Timestamp('2023-09-08 12:58:32.934000'), 'PInvID': '1017193-010', 'RxID': '1017193-010-000', 'DT': Timestamp('2023-09-08 12:58:32.934000'), 'drug_name': 'Trulicity'}\n",
      "ROdf: {'Rx-ObsPnt-InsCate': Dataset({\n",
      "    features: ['PID', 'RxID', 'DT', 'Rx-InsCateTkn_wgt', 'Rx-InsCateTkn_tknidx'],\n",
      "    num_rows: 1\n",
      "})}\n",
      "====================\n",
      "\n",
      "====================\n",
      "idx: 3\n",
      "case: {'PID': 1027056, 'ObsDT': Timestamp('2023-07-17 20:54:55.528000'), 'PInvID': '1027056-002', 'RxID': '1027056-002-000', 'DT': Timestamp('2023-07-17 20:54:55.528000'), 'drug_name': 'Trulicity'}\n",
      "ROdf: {'Rx-ObsPnt-InsCate': Dataset({\n",
      "    features: ['PID', 'RxID', 'DT', 'Rx-InsCateTkn_wgt', 'Rx-InsCateTkn_tknidx'],\n",
      "    num_rows: 1\n",
      "})}\n",
      "====================\n",
      "\n",
      "====================\n",
      "idx: 4\n",
      "case: {'PID': 1014849, 'ObsDT': Timestamp('2023-09-12 01:17:17.377000'), 'PInvID': '1014849-017', 'RxID': '1014849-017-002', 'DT': Timestamp('2023-09-12 01:17:17.377000'), 'drug_name': 'Trulicity'}\n",
      "ROdf: {'Rx-ObsPnt-InsCate': Dataset({\n",
      "    features: ['PID', 'RxID', 'DT', 'Rx-InsCateTkn_wgt', 'Rx-InsCateTkn_tknidx'],\n",
      "    num_rows: 5\n",
      "})}\n",
      "====================\n"
     ]
    }
   ],
   "source": [
    "get_idx_to_RecObsName_to_RecObsDS = CaseObserverTransformer.get_idx_to_RecObsName_to_RecObsDS\n",
    "idx_to_ROName_to_ROds = get_idx_to_RecObsName_to_RecObsDS(idx_to_examples, ROName_to_ROInfo, RecName_to_REC_P)\n",
    "\n",
    "for idx, case in idx_to_examples.items():\n",
    "    print('\\n====================')\n",
    "    print('idx:', idx)\n",
    "    print('case:', case)\n",
    "    print('ROdf:', idx_to_ROName_to_ROds[idx]) # R_i^{RecNum, Ckpd}\n",
    "    print('====================')"
   ]
  },
  {
   "cell_type": "code",
   "execution_count": 40,
   "id": "c643c436",
   "metadata": {},
   "outputs": [
    {
     "data": {
      "text/plain": [
       "['Rx-ObsPnt-InsCate']"
      ]
     },
     "execution_count": 40,
     "metadata": {},
     "output_type": "execute_result"
    }
   ],
   "source": [
    "[i for i in ROName_to_ROInfo]"
   ]
  },
  {
   "cell_type": "code",
   "execution_count": 41,
   "id": "6a3cb7c6",
   "metadata": {},
   "outputs": [
    {
     "data": {
      "text/plain": [
       "{'tid': {'tid2tkn': {0: 'rx_bin_unk',\n",
       "   1: 'rx_bin_minor',\n",
       "   2: 'rx_bin_4336.0',\n",
       "   3: 'rx_bin_610097.0',\n",
       "   4: 'rx_bin_610014.0',\n",
       "   5: 'rx_bin_3858.0',\n",
       "   6: 'rx_bin_15581.0',\n",
       "   7: 'rx_bin_610502.0',\n",
       "   8: 'rx_bin_610011.0',\n",
       "   9: 'rx_bin_11552.0',\n",
       "   10: 'rx_bin_610494.0',\n",
       "   11: 'rx_bin_610239.0',\n",
       "   12: 'rx_bin_610279.0',\n",
       "   13: 'rx_bin_20115.0',\n",
       "   14: 'rx_bin_20099.0',\n",
       "   15: 'rx_bin_17010.0',\n",
       "   16: 'rx_bin_24251.0',\n",
       "   17: 'rx_bin_22659.0',\n",
       "   18: 'rx_bin_12833.0',\n",
       "   19: 'rx_bin_4915.0',\n",
       "   20: 'rx_bin_19595.0',\n",
       "   21: 'rx_bin_1553.0',\n",
       "   22: 'rx_bin_20107.0',\n",
       "   23: 'rx_bin_610591.0',\n",
       "   24: 'rx_bin_610455.0',\n",
       "   25: 'rx_bin_610602.0',\n",
       "   26: 'rx_bin_23880.0',\n",
       "   27: 'rx_bin_10579.0',\n",
       "   28: 'rx_bin_18902.0',\n",
       "   29: 'rx_bin_610593.0',\n",
       "   30: 'rx_bin_12312.0',\n",
       "   31: 'rx_bin_3585.0',\n",
       "   32: 'rx_pcn_unk',\n",
       "   33: 'rx_pcn_minor',\n",
       "   34: 'rx_pcn_ADV',\n",
       "   35: 'rx_pcn_9999',\n",
       "   36: 'rx_pcn_MEDDADV',\n",
       "   37: 'rx_pcn_A4',\n",
       "   38: 'rx_pcn_03200000',\n",
       "   39: 'rx_pcn_MCAIDADV',\n",
       "   40: 'rx_pcn_00670000',\n",
       "   41: 'rx_pcn_IRX',\n",
       "   42: 'rx_pcn_IS',\n",
       "   43: 'rx_pcn_FEPRX',\n",
       "   44: 'rx_pcn_MA',\n",
       "   45: 'rx_pcn_MEDDAET',\n",
       "   46: 'rx_pcn_WG',\n",
       "   47: 'rx_pcn_CIMCARE',\n",
       "   48: 'rx_pcn_BCTX',\n",
       "   49: 'rx_pcn_OHRXPROD',\n",
       "   50: 'rx_pcn_6334225',\n",
       "   51: 'rx_pcn_MEDDPRIME',\n",
       "   52: 'rx_pcn_FLBC',\n",
       "   53: 'rx_pcn_TNM',\n",
       "   54: 'rx_pcn_ASPROD1',\n",
       "   55: 'rx_pcn_CTRXMEDD',\n",
       "   56: 'rx_pcn_KYPROD1',\n",
       "   57: 'rx_pcn_OKA01',\n",
       "   58: 'rx_pcn_P303018902',\n",
       "   59: 'rx_pcn_4343',\n",
       "   60: 'rx_pcn_1215',\n",
       "   61: 'rx_pcn_01940000',\n",
       "   62: 'rx_pcn_MASSPROD',\n",
       "   63: 'rx_pcn_PRX00621',\n",
       "   64: 'plan_name_unk',\n",
       "   65: 'plan_name_minor',\n",
       "   66: 'plan_name_Department of Defense',\n",
       "   67: 'plan_name_UHCMR MAPD AND MA/RDS',\n",
       "   68: 'plan_name_CVS|CAREMARK',\n",
       "   69: 'plan_name_IRXME BB CDH-Y IRXMDTSTR1',\n",
       "   70: 'plan_name_AETSS BB CDH-N AETMEDD23',\n",
       "   71: 'plan_name_E23A1 BB CDH-N HPDMEDD',\n",
       "   72: 'plan_name_UHCMR PDP',\n",
       "   73: 'plan_name_EXPRESS SCRIPTS',\n",
       "   74: 'plan_name_OPTUMRX',\n",
       "   75: 'plan_name_T14 L4Y 10001',\n",
       "   76: 'plan_name_AMD23 BB CDH-Y AETMEDD23',\n",
       "   77: 'plan_name_UNITEDHEALTHCARE DUAL COM',\n",
       "   78: 'plan_name_Careplus D Humana PDP',\n",
       "   79: 'plan_name_COMMONWEALTH OF KENTUCKY WELLCARE',\n",
       "   80: 'plan_name_G1K BB CDH-N BBTMPFEPB',\n",
       "   81: 'plan_name_UPMC',\n",
       "   82: 'plan_name_DST PHARMACY SOLUTIONS DIRECT',\n",
       "   83: 'plan_name_MEDICAL RX',\n",
       "   84: 'plan_name_Gainwell Ohio Medicaid',\n",
       "   85: 'plan_name_UHC ACIS ENROLLMENTS',\n",
       "   86: 'plan_name_BMC RETAIL MEDI',\n",
       "   87: 'plan_name_HP-OHIO',\n",
       "   88: 'plan_name_2023 Cigna MedD PDP Secure 6T-RTL',\n",
       "   89: 'plan_name_INDIANA MEDICAID',\n",
       "   90: 'plan_name_QL TMP Z 30 DAYS RETAIL',\n",
       "   91: 'plan_name_G1K BB CDH-N BBTMPFEPS',\n",
       "   92: 'plan_name_BMCHP MA MCD',\n",
       "   93: 'plan_name_COMMONWEALTH OF KENTUCKY AETNA',\n",
       "   94: 'plan_name_C23H1 BB CDH-N HPDMEDD',\n",
       "   95: 'plan_name_INGEN BB CDH-N IRXBAS918',\n",
       "   96: 'NoObs'},\n",
       "  'tkn2tid': {'rx_bin_unk': 0,\n",
       "   'rx_bin_minor': 1,\n",
       "   'rx_bin_4336.0': 2,\n",
       "   'rx_bin_610097.0': 3,\n",
       "   'rx_bin_610014.0': 4,\n",
       "   'rx_bin_3858.0': 5,\n",
       "   'rx_bin_15581.0': 6,\n",
       "   'rx_bin_610502.0': 7,\n",
       "   'rx_bin_610011.0': 8,\n",
       "   'rx_bin_11552.0': 9,\n",
       "   'rx_bin_610494.0': 10,\n",
       "   'rx_bin_610239.0': 11,\n",
       "   'rx_bin_610279.0': 12,\n",
       "   'rx_bin_20115.0': 13,\n",
       "   'rx_bin_20099.0': 14,\n",
       "   'rx_bin_17010.0': 15,\n",
       "   'rx_bin_24251.0': 16,\n",
       "   'rx_bin_22659.0': 17,\n",
       "   'rx_bin_12833.0': 18,\n",
       "   'rx_bin_4915.0': 19,\n",
       "   'rx_bin_19595.0': 20,\n",
       "   'rx_bin_1553.0': 21,\n",
       "   'rx_bin_20107.0': 22,\n",
       "   'rx_bin_610591.0': 23,\n",
       "   'rx_bin_610455.0': 24,\n",
       "   'rx_bin_610602.0': 25,\n",
       "   'rx_bin_23880.0': 26,\n",
       "   'rx_bin_10579.0': 27,\n",
       "   'rx_bin_18902.0': 28,\n",
       "   'rx_bin_610593.0': 29,\n",
       "   'rx_bin_12312.0': 30,\n",
       "   'rx_bin_3585.0': 31,\n",
       "   'rx_pcn_unk': 32,\n",
       "   'rx_pcn_minor': 33,\n",
       "   'rx_pcn_ADV': 34,\n",
       "   'rx_pcn_9999': 35,\n",
       "   'rx_pcn_MEDDADV': 36,\n",
       "   'rx_pcn_A4': 37,\n",
       "   'rx_pcn_03200000': 38,\n",
       "   'rx_pcn_MCAIDADV': 39,\n",
       "   'rx_pcn_00670000': 40,\n",
       "   'rx_pcn_IRX': 41,\n",
       "   'rx_pcn_IS': 42,\n",
       "   'rx_pcn_FEPRX': 43,\n",
       "   'rx_pcn_MA': 44,\n",
       "   'rx_pcn_MEDDAET': 45,\n",
       "   'rx_pcn_WG': 46,\n",
       "   'rx_pcn_CIMCARE': 47,\n",
       "   'rx_pcn_BCTX': 48,\n",
       "   'rx_pcn_OHRXPROD': 49,\n",
       "   'rx_pcn_6334225': 50,\n",
       "   'rx_pcn_MEDDPRIME': 51,\n",
       "   'rx_pcn_FLBC': 52,\n",
       "   'rx_pcn_TNM': 53,\n",
       "   'rx_pcn_ASPROD1': 54,\n",
       "   'rx_pcn_CTRXMEDD': 55,\n",
       "   'rx_pcn_KYPROD1': 56,\n",
       "   'rx_pcn_OKA01': 57,\n",
       "   'rx_pcn_P303018902': 58,\n",
       "   'rx_pcn_4343': 59,\n",
       "   'rx_pcn_1215': 60,\n",
       "   'rx_pcn_01940000': 61,\n",
       "   'rx_pcn_MASSPROD': 62,\n",
       "   'rx_pcn_PRX00621': 63,\n",
       "   'plan_name_unk': 64,\n",
       "   'plan_name_minor': 65,\n",
       "   'plan_name_Department of Defense': 66,\n",
       "   'plan_name_UHCMR MAPD AND MA/RDS': 67,\n",
       "   'plan_name_CVS|CAREMARK': 68,\n",
       "   'plan_name_IRXME BB CDH-Y IRXMDTSTR1': 69,\n",
       "   'plan_name_AETSS BB CDH-N AETMEDD23': 70,\n",
       "   'plan_name_E23A1 BB CDH-N HPDMEDD': 71,\n",
       "   'plan_name_UHCMR PDP': 72,\n",
       "   'plan_name_EXPRESS SCRIPTS': 73,\n",
       "   'plan_name_OPTUMRX': 74,\n",
       "   'plan_name_T14 L4Y 10001': 75,\n",
       "   'plan_name_AMD23 BB CDH-Y AETMEDD23': 76,\n",
       "   'plan_name_UNITEDHEALTHCARE DUAL COM': 77,\n",
       "   'plan_name_Careplus D Humana PDP': 78,\n",
       "   'plan_name_COMMONWEALTH OF KENTUCKY WELLCARE': 79,\n",
       "   'plan_name_G1K BB CDH-N BBTMPFEPB': 80,\n",
       "   'plan_name_UPMC': 81,\n",
       "   'plan_name_DST PHARMACY SOLUTIONS DIRECT': 82,\n",
       "   'plan_name_MEDICAL RX': 83,\n",
       "   'plan_name_Gainwell Ohio Medicaid': 84,\n",
       "   'plan_name_UHC ACIS ENROLLMENTS': 85,\n",
       "   'plan_name_BMC RETAIL MEDI': 86,\n",
       "   'plan_name_HP-OHIO': 87,\n",
       "   'plan_name_2023 Cigna MedD PDP Secure 6T-RTL': 88,\n",
       "   'plan_name_INDIANA MEDICAID': 89,\n",
       "   'plan_name_QL TMP Z 30 DAYS RETAIL': 90,\n",
       "   'plan_name_G1K BB CDH-N BBTMPFEPS': 91,\n",
       "   'plan_name_BMCHP MA MCD': 92,\n",
       "   'plan_name_COMMONWEALTH OF KENTUCKY AETNA': 93,\n",
       "   'plan_name_C23H1 BB CDH-N HPDMEDD': 94,\n",
       "   'plan_name_INGEN BB CDH-N IRXBAS918': 95,\n",
       "   'NoObs': 96}},\n",
       " 'wgt': {}}"
      ]
     },
     "execution_count": 41,
     "metadata": {},
     "output_type": "execute_result"
    }
   ],
   "source": [
    "CO_vocab"
   ]
  },
  {
   "cell_type": "code",
   "execution_count": 42,
   "id": "bd125aef",
   "metadata": {},
   "outputs": [
    {
     "name": "stdout",
     "output_type": "stream",
     "text": [
      "case_example: {'PID': 1027056, 'ObsDT': Timestamp('2023-07-17 20:54:55.528000'), 'PInvID': '1027056-002', 'RxID': '1027056-002-000', 'DT': Timestamp('2023-07-17 20:54:55.528000'), 'drug_name': 'Trulicity'}\n",
      "RO_to_ROdf (RO_ij): {'Rx-ObsPnt-InsCate': Dataset({\n",
      "    features: ['PID', 'RxID', 'DT', 'Rx-InsCateTkn_wgt', 'Rx-InsCateTkn_tknidx'],\n",
      "    num_rows: 1\n",
      "})}\n",
      "['Rx-ObsPnt-InsCate']\n"
     ]
    }
   ],
   "source": [
    "idx = 3\n",
    "case_example = idx_to_examples[idx]\n",
    "print('case_example:', case_example)\n",
    "ROName_to_ROds = idx_to_ROName_to_ROds[idx] # RO_to_ROdf # RO_ij\n",
    "print('RO_to_ROdf (RO_ij):', ROName_to_ROds)\n",
    "print([i for i in ROName_to_ROds])"
   ]
  },
  {
   "cell_type": "markdown",
   "id": "c0576715",
   "metadata": {},
   "source": [
    "# [Step 10]: Develop $\\Phi$. "
   ]
  },
  {
   "cell_type": "code",
   "execution_count": 43,
   "id": "44a787a0",
   "metadata": {},
   "outputs": [
    {
     "data": {
      "text/plain": [
       "{'PID': 1027056,\n",
       " 'ObsDT': Timestamp('2023-07-17 20:54:55.528000'),\n",
       " 'PInvID': '1027056-002',\n",
       " 'RxID': '1027056-002-000',\n",
       " 'DT': Timestamp('2023-07-17 20:54:55.528000'),\n",
       " 'drug_name': 'Trulicity'}"
      ]
     },
     "execution_count": 43,
     "metadata": {},
     "output_type": "execute_result"
    }
   ],
   "source": [
    "case_example"
   ]
  },
  {
   "cell_type": "code",
   "execution_count": 44,
   "id": "dd23b7f1",
   "metadata": {},
   "outputs": [
    {
     "data": {
      "text/plain": [
       "{'Rx-ObsPnt-InsCate': Dataset({\n",
       "     features: ['PID', 'RxID', 'DT', 'Rx-InsCateTkn_wgt', 'Rx-InsCateTkn_tknidx'],\n",
       "     num_rows: 1\n",
       " })}"
      ]
     },
     "execution_count": 44,
     "metadata": {},
     "output_type": "execute_result"
    }
   ],
   "source": [
    "ROName_to_ROds"
   ]
  },
  {
   "cell_type": "code",
   "execution_count": 45,
   "id": "de568f52",
   "metadata": {},
   "outputs": [
    {
     "data": {
      "text/plain": [
       "{'Rx-ObsPnt-InsCate': {'rec_args': {'CohortInfo': {'RawData2023Nov_Trulicity': {'RxBase': {'raw_data_path': '../_Data/0-Data_Raw/2023_11_30_30days_Trulicity/prescription_df_de_identified.csv',\n",
       "      'RawRootID': 'patient_id_encoded',\n",
       "      'RecNumColumn': 'prescription',\n",
       "      'raw_columns': ['patient_id_encoded',\n",
       "       'invitation_id_encoded',\n",
       "       'prescription_id_encoded',\n",
       "       'invitation_date',\n",
       "       'prescriber_npi',\n",
       "       'state_code',\n",
       "       'ncpdp_id',\n",
       "       'pharmacy_name_rx',\n",
       "       'simple_pharmacy_name_rx',\n",
       "       'specialty_pharmacy',\n",
       "       'pharmacy_zip_code_3',\n",
       "       'ndc_id',\n",
       "       'drug_name',\n",
       "       'drug_description',\n",
       "       'generic_id',\n",
       "       'top_200_branded_drugs',\n",
       "       'top_50_generic_drugs',\n",
       "       'brand_source',\n",
       "       'fill_number',\n",
       "       'refills_available',\n",
       "       'quantity',\n",
       "       'days_supply',\n",
       "       'package_size',\n",
       "       'package_units',\n",
       "       'quantity_unit',\n",
       "       'strength',\n",
       "       'strength_units',\n",
       "       'total_package_strength',\n",
       "       'prescription_type',\n",
       "       'directions',\n",
       "       'delivery_type',\n",
       "       'controlled_substance_code',\n",
       "       'show_rems_campaigns',\n",
       "       'show_coupon_campaigns',\n",
       "       'show_educational_campaigns',\n",
       "       'show_internal_campaigns',\n",
       "       'show_target_campaigns',\n",
       "       'show_experimental_campaigns',\n",
       "       'send_refill_reminder_messages',\n",
       "       'send_renewal_reminder_messages',\n",
       "       'supports_hippo_prices',\n",
       "       'supports_hippo_prices65',\n",
       "       'supports_copay_prices',\n",
       "       'supports_hippo_prices_medicare',\n",
       "       'source_id',\n",
       "       'customer_type',\n",
       "       'organization_type',\n",
       "       'suppliers',\n",
       "       'group_id',\n",
       "       'rx_bin',\n",
       "       'rx_pcn',\n",
       "       'legend_status',\n",
       "       'plan_name',\n",
       "       'legal_business_name',\n",
       "       'primary_dispenser_type',\n",
       "       'primary_dispenser_type_code',\n",
       "       'dispenser_class_code',\n",
       "       'dispenser_class',\n",
       "       'secondary_dispenser_type_code',\n",
       "       'tertiary_dispenser_type_code',\n",
       "       'ther_eq_hierarchy_name',\n",
       "       'ther_eq_parent_name',\n",
       "       'ther_eq_ult_parent_name',\n",
       "       'ther_eq_ult_child_ind',\n",
       "       'ther_eq_ult_parent_etc_id',\n",
       "       'ther_eq_hierarchy_level',\n",
       "       'therapeutic_equivalence_id',\n",
       "       'form']}}},\n",
       "   'RawInfo': {'RawTable': {'RawName': 'prescription',\n",
       "     'RawRootID': 'patient_id_encoded',\n",
       "     'raw_columns': ['patient_id_encoded',\n",
       "      'invitation_id_encoded',\n",
       "      'prescription_id_encoded',\n",
       "      'invitation_date',\n",
       "      'prescriber_npi',\n",
       "      'state_code',\n",
       "      'ncpdp_id',\n",
       "      'pharmacy_name_rx',\n",
       "      'simple_pharmacy_name_rx',\n",
       "      'specialty_pharmacy',\n",
       "      'pharmacy_zip_code_3',\n",
       "      'ndc_id',\n",
       "      'drug_name',\n",
       "      'drug_description',\n",
       "      'generic_id',\n",
       "      'top_200_branded_drugs',\n",
       "      'top_50_generic_drugs',\n",
       "      'brand_source',\n",
       "      'fill_number',\n",
       "      'refills_available',\n",
       "      'quantity',\n",
       "      'days_supply',\n",
       "      'package_size',\n",
       "      'package_units',\n",
       "      'quantity_unit',\n",
       "      'strength',\n",
       "      'strength_units',\n",
       "      'total_package_strength',\n",
       "      'prescription_type',\n",
       "      'directions',\n",
       "      'delivery_type',\n",
       "      'controlled_substance_code',\n",
       "      'show_rems_campaigns',\n",
       "      'show_coupon_campaigns',\n",
       "      'show_educational_campaigns',\n",
       "      'show_internal_campaigns',\n",
       "      'show_target_campaigns',\n",
       "      'show_experimental_campaigns',\n",
       "      'send_refill_reminder_messages',\n",
       "      'send_renewal_reminder_messages',\n",
       "      'supports_hippo_prices',\n",
       "      'supports_hippo_prices65',\n",
       "      'supports_copay_prices',\n",
       "      'supports_hippo_prices_medicare',\n",
       "      'source_id',\n",
       "      'customer_type',\n",
       "      'organization_type',\n",
       "      'suppliers',\n",
       "      'group_id',\n",
       "      'rx_bin',\n",
       "      'rx_pcn',\n",
       "      'legend_status',\n",
       "      'plan_name',\n",
       "      'legal_business_name',\n",
       "      'primary_dispenser_type',\n",
       "      'primary_dispenser_type_code',\n",
       "      'dispenser_class_code',\n",
       "      'dispenser_class',\n",
       "      'secondary_dispenser_type_code',\n",
       "      'tertiary_dispenser_type_code',\n",
       "      'ther_eq_hierarchy_name',\n",
       "      'ther_eq_parent_name',\n",
       "      'ther_eq_ult_parent_name',\n",
       "      'ther_eq_ult_child_ind',\n",
       "      'ther_eq_ult_parent_etc_id',\n",
       "      'ther_eq_hierarchy_level',\n",
       "      'therapeutic_equivalence_id',\n",
       "      'form']}},\n",
       "   'RecName': 'Rx',\n",
       "   'RecID': 'RxID',\n",
       "   'RecIDChain': ['PID', 'PInvID', 'RxID'],\n",
       "   'RawRecID': ['prescription_id_encoded'],\n",
       "   'RecDT': 'DT',\n",
       "   'ParentRecName': 'PInv',\n",
       "   'attr_cols': ['PID',\n",
       "    'PInvID',\n",
       "    'RxID',\n",
       "    'prescription_id_encoded',\n",
       "    'DT',\n",
       "    'invitation_date',\n",
       "    'prescriber_npi',\n",
       "    'ncpdp_id',\n",
       "    'pharmacy_name_rx',\n",
       "    'simple_pharmacy_name_rx',\n",
       "    'specialty_pharmacy',\n",
       "    'pharmacy_zip_code_3',\n",
       "    'ndc_id',\n",
       "    'drug_name',\n",
       "    'drug_description',\n",
       "    'generic_id',\n",
       "    'top_200_branded_drugs',\n",
       "    'top_50_generic_drugs',\n",
       "    'brand_source',\n",
       "    'fill_number',\n",
       "    'refills_available',\n",
       "    'quantity_unit',\n",
       "    'quantity',\n",
       "    'days_supply',\n",
       "    'package_size',\n",
       "    'package_units',\n",
       "    'strength',\n",
       "    'strength_units',\n",
       "    'total_package_strength',\n",
       "    'directions',\n",
       "    'delivery_type',\n",
       "    'legend_status',\n",
       "    'show_rems_campaigns',\n",
       "    'show_coupon_campaigns',\n",
       "    'show_educational_campaigns',\n",
       "    'show_internal_campaigns',\n",
       "    'show_target_campaigns',\n",
       "    'show_experimental_campaigns',\n",
       "    'send_refill_reminder_messages',\n",
       "    'send_renewal_reminder_messages',\n",
       "    'supports_hippo_prices',\n",
       "    'supports_hippo_prices65',\n",
       "    'supports_copay_prices',\n",
       "    'supports_hippo_prices_medicare',\n",
       "    'rx_bin',\n",
       "    'rx_pcn',\n",
       "    'dispenser_class',\n",
       "    'primary_dispenser_type',\n",
       "    'source_id',\n",
       "    'group_id',\n",
       "    'customer_type',\n",
       "    'organization_type',\n",
       "    'plan_name',\n",
       "    'suppliers',\n",
       "    'ther_eq_hierarchy_name',\n",
       "    'ther_eq_parent_name',\n",
       "    'ther_eq_ult_parent_name',\n",
       "    'ther_eq_ult_child_ind',\n",
       "    'ther_eq_ult_parent_etc_id',\n",
       "    'ther_eq_hierarchy_level',\n",
       "    'therapeutic_equivalence_id'],\n",
       "   'pypath': '../pipeline/fn_recattr/Rx.py',\n",
       "   'FldTknInfo': {'Rx-BrandCateTkn': {'FldTknName': 'Rx-BrandCateTkn',\n",
       "     'value_cols': ['ndc_id',\n",
       "      'drug_name',\n",
       "      'drug_description',\n",
       "      'generic_id',\n",
       "      'top_200_branded_drugs',\n",
       "      'top_50_generic_drugs',\n",
       "      'brand_source']},\n",
       "    'Rx-CmpCateTkn': {'FldTknName': 'Rx-CmpCateTkn',\n",
       "     'value_cols': ['show_rems_campaigns',\n",
       "      'show_coupon_campaigns',\n",
       "      'show_educational_campaigns',\n",
       "      'show_internal_campaigns',\n",
       "      'show_target_campaigns',\n",
       "      'show_experimental_campaigns']},\n",
       "    'Rx-InsCateTkn': {'FldTknName': 'Rx-InsCateTkn',\n",
       "     'value_cols': ['rx_bin', 'rx_pcn', 'plan_name']},\n",
       "    'Rx-ServiceCateTkn': {'FldTknName': 'Rx-ServiceCateTkn',\n",
       "     'value_cols': ['send_refill_reminder_messages',\n",
       "      'send_renewal_reminder_messages',\n",
       "      'supports_hippo_prices',\n",
       "      'supports_hippo_prices65',\n",
       "      'supports_copay_prices',\n",
       "      'supports_hippo_prices_medicare']},\n",
       "    'Rx-SysCateTkn': {'FldTknName': 'Rx-SysCateTkn',\n",
       "     'value_cols': ['delivery_type',\n",
       "      'legend_status',\n",
       "      'dispenser_class',\n",
       "      'primary_dispenser_type',\n",
       "      'customer_type',\n",
       "      'organization_type',\n",
       "      'suppliers',\n",
       "      'source_id',\n",
       "      'group_id']},\n",
       "    'Rx-QuantN2CTkn': {'FldTknName': 'Rx-QuantN2CTkn',\n",
       "     'value_cols': ['refills_available', 'quantity', 'days_supply']},\n",
       "    'Rx-QuantNumeTkn': {'FldTknName': 'Rx-QuantNumeTkn',\n",
       "     'value_cols': ['refills_available', 'quantity', 'days_supply']},\n",
       "    'Rx-TherEqCateTkn': {'FldTknName': 'Rx-TherEqCateTkn',\n",
       "     'value_cols': ['ther_eq_hierarchy_name',\n",
       "      'ther_eq_parent_name',\n",
       "      'ther_eq_ult_parent_name']},\n",
       "    'Rx-TherEqNumeTkn': {'FldTknName': 'Rx-TherEqNumeTkn',\n",
       "     'value_cols': ['ther_eq_ult_child_ind',\n",
       "      'ther_eq_ult_parent_etc_id',\n",
       "      'ther_eq_hierarchy_level',\n",
       "      'therapeutic_equivalence_id']},\n",
       "    'Rx-DrugBasicNumeTkn': {'FldTknName': 'Rx-DrugBasicNumeTkn',\n",
       "     'value_cols': ['top_200_branded_drugs', 'top_50_generic_drugs']},\n",
       "    'Rx-DrugBasicCateTkn': {'FldTknName': 'Rx-DrugBasicCateTkn',\n",
       "     'value_cols': ['brand_source']},\n",
       "    'Rx-PhmBasicCateTkn': {'FldTknName': 'Rx-PhmBasicCateTkn',\n",
       "     'value_cols': ['pharmacy_name_rx', 'specialty_pharmacy']},\n",
       "    'Rx-PhmZip3HousingNumeTkn': {'FldTknName': 'Rx-PhmZip3HousingNumeTkn',\n",
       "     'value_cols': ['pharmacy_zip_code_3']}},\n",
       "   'RFT_GROUP_SIZE': 5000,\n",
       "   'idx_group_size': 10000,\n",
       "   'usebucket': False,\n",
       "   'GROUP_SIZE': 5000,\n",
       "   'recfldtkn_config_path': '../pipeline/config_recfldtkn/',\n",
       "   'yaml_file_path': '../pipeline/config_recfldtkn/Record/Rx.yaml'},\n",
       "  'RecName': 'Rx',\n",
       "  'CkpdName': 'ObsPnt',\n",
       "  'CkpdInfo': {'DistStartToPredDT': -0.01,\n",
       "   'DistEndToPredDT': 0.01,\n",
       "   'TimeUnit': 'min',\n",
       "   'StartIdx5Min': 0,\n",
       "   'EndIdx5Min': 0},\n",
       "  'FldName': 'InsCate',\n",
       "  'FldTknName': 'Rx-InsCateTkn',\n",
       "  'FldIdx2Tkn': ['rx_bin_unk',\n",
       "   'rx_bin_minor',\n",
       "   'rx_bin_4336.0',\n",
       "   'rx_bin_610097.0',\n",
       "   'rx_bin_610014.0',\n",
       "   'rx_bin_3858.0',\n",
       "   'rx_bin_15581.0',\n",
       "   'rx_bin_610502.0',\n",
       "   'rx_bin_610011.0',\n",
       "   'rx_bin_11552.0',\n",
       "   'rx_bin_610494.0',\n",
       "   'rx_bin_610239.0',\n",
       "   'rx_bin_610279.0',\n",
       "   'rx_bin_20115.0',\n",
       "   'rx_bin_20099.0',\n",
       "   'rx_bin_17010.0',\n",
       "   'rx_bin_24251.0',\n",
       "   'rx_bin_22659.0',\n",
       "   'rx_bin_12833.0',\n",
       "   'rx_bin_4915.0',\n",
       "   'rx_bin_19595.0',\n",
       "   'rx_bin_1553.0',\n",
       "   'rx_bin_20107.0',\n",
       "   'rx_bin_610591.0',\n",
       "   'rx_bin_610455.0',\n",
       "   'rx_bin_610602.0',\n",
       "   'rx_bin_23880.0',\n",
       "   'rx_bin_10579.0',\n",
       "   'rx_bin_18902.0',\n",
       "   'rx_bin_610593.0',\n",
       "   'rx_bin_12312.0',\n",
       "   'rx_bin_3585.0',\n",
       "   'rx_pcn_unk',\n",
       "   'rx_pcn_minor',\n",
       "   'rx_pcn_ADV',\n",
       "   'rx_pcn_9999',\n",
       "   'rx_pcn_MEDDADV',\n",
       "   'rx_pcn_A4',\n",
       "   'rx_pcn_03200000',\n",
       "   'rx_pcn_MCAIDADV',\n",
       "   'rx_pcn_00670000',\n",
       "   'rx_pcn_IRX',\n",
       "   'rx_pcn_IS',\n",
       "   'rx_pcn_FEPRX',\n",
       "   'rx_pcn_MA',\n",
       "   'rx_pcn_MEDDAET',\n",
       "   'rx_pcn_WG',\n",
       "   'rx_pcn_CIMCARE',\n",
       "   'rx_pcn_BCTX',\n",
       "   'rx_pcn_OHRXPROD',\n",
       "   'rx_pcn_6334225',\n",
       "   'rx_pcn_MEDDPRIME',\n",
       "   'rx_pcn_FLBC',\n",
       "   'rx_pcn_TNM',\n",
       "   'rx_pcn_ASPROD1',\n",
       "   'rx_pcn_CTRXMEDD',\n",
       "   'rx_pcn_KYPROD1',\n",
       "   'rx_pcn_OKA01',\n",
       "   'rx_pcn_P303018902',\n",
       "   'rx_pcn_4343',\n",
       "   'rx_pcn_1215',\n",
       "   'rx_pcn_01940000',\n",
       "   'rx_pcn_MASSPROD',\n",
       "   'rx_pcn_PRX00621',\n",
       "   'plan_name_unk',\n",
       "   'plan_name_minor',\n",
       "   'plan_name_Department of Defense',\n",
       "   'plan_name_UHCMR MAPD AND MA/RDS',\n",
       "   'plan_name_CVS|CAREMARK',\n",
       "   'plan_name_IRXME BB CDH-Y IRXMDTSTR1',\n",
       "   'plan_name_AETSS BB CDH-N AETMEDD23',\n",
       "   'plan_name_E23A1 BB CDH-N HPDMEDD',\n",
       "   'plan_name_UHCMR PDP',\n",
       "   'plan_name_EXPRESS SCRIPTS',\n",
       "   'plan_name_OPTUMRX',\n",
       "   'plan_name_T14 L4Y 10001',\n",
       "   'plan_name_AMD23 BB CDH-Y AETMEDD23',\n",
       "   'plan_name_UNITEDHEALTHCARE DUAL COM',\n",
       "   'plan_name_Careplus D Humana PDP',\n",
       "   'plan_name_COMMONWEALTH OF KENTUCKY WELLCARE',\n",
       "   'plan_name_G1K BB CDH-N BBTMPFEPB',\n",
       "   'plan_name_UPMC',\n",
       "   'plan_name_DST PHARMACY SOLUTIONS DIRECT',\n",
       "   'plan_name_MEDICAL RX',\n",
       "   'plan_name_Gainwell Ohio Medicaid',\n",
       "   'plan_name_UHC ACIS ENROLLMENTS',\n",
       "   'plan_name_BMC RETAIL MEDI',\n",
       "   'plan_name_HP-OHIO',\n",
       "   'plan_name_2023 Cigna MedD PDP Secure 6T-RTL',\n",
       "   'plan_name_INDIANA MEDICAID',\n",
       "   'plan_name_QL TMP Z 30 DAYS RETAIL',\n",
       "   'plan_name_G1K BB CDH-N BBTMPFEPS',\n",
       "   'plan_name_BMCHP MA MCD',\n",
       "   'plan_name_COMMONWEALTH OF KENTUCKY AETNA',\n",
       "   'plan_name_C23H1 BB CDH-N HPDMEDD',\n",
       "   'plan_name_INGEN BB CDH-N IRXBAS918'],\n",
       "  'fldtkn_args': {'FldTknName': 'Rx-InsCateTkn',\n",
       "   'value_cols': ['plan_name', 'rx_bin', 'rx_pcn'],\n",
       "   'SPACE': {'DATA_RAW': '../_Data/0-Data_Raw',\n",
       "    'DATA_RFT': '../_Data/1-Data_RFT',\n",
       "    'DATA_EXTERNAL': '../external',\n",
       "    'DATA_CaseObs': '../_Data/2-Data_CaseObs',\n",
       "    'DATA_CaseFeat': '../_Data/3-Data_CaseFeat',\n",
       "    'DATA_CaseSet': '../_Data/4-Data_CaseSet',\n",
       "    'CODE_FN': '../pipeline',\n",
       "    'CODE_RFT': '../pipeline',\n",
       "    'DATA_TASK': '_data',\n",
       "    'MODEL_TASK': '../_Model',\n",
       "    'TaskName': 'EduRxPred',\n",
       "    'WORKSPACE_PATH': '/Users/floydluo/Library/CloudStorage/OneDrive-DRFIRST.COM,INC/Documents - DrFirst-JHU Collaboration Center/DrFirst-Project/2024-DrFirst-v4-SPACE/_DrFirst-AI-EgmPred-WorkSpace'},\n",
       "   'pypath': '../pipeline/fn_fldtkn/Rx_InsCateTkn.py',\n",
       "   'num_proc': 4,\n",
       "   'AttrFnName_to_Config': {'InsCateTkn': {...}},\n",
       "   'derv_attr_cols': [],\n",
       "   'attr_cols': ['PID', 'PInvID', 'RxID', 'plan_name', 'rx_bin', 'rx_pcn'],\n",
       "   'Name': 'Rx-InsCateTkn',\n",
       "   'recfldtkn_config_path': '../pipeline/config_recfldtkn/',\n",
       "   'yaml_file_path': '../pipeline/config_recfldtkn/Record/Rx.yaml',\n",
       "   'ContextDemo': None,\n",
       "   'item_to_configs': {},\n",
       "   'column_to_top_values': {'rx_bin': [4336.0,\n",
       "     610097.0,\n",
       "     610014.0,\n",
       "     3858.0,\n",
       "     15581.0,\n",
       "     610502.0,\n",
       "     610011.0,\n",
       "     11552.0,\n",
       "     610494.0,\n",
       "     610239.0,\n",
       "     610279.0,\n",
       "     20115.0,\n",
       "     20099.0,\n",
       "     17010.0,\n",
       "     24251.0,\n",
       "     22659.0,\n",
       "     12833.0,\n",
       "     4915.0,\n",
       "     19595.0,\n",
       "     1553.0,\n",
       "     20107.0,\n",
       "     610591.0,\n",
       "     610455.0,\n",
       "     610602.0,\n",
       "     23880.0,\n",
       "     10579.0,\n",
       "     18902.0,\n",
       "     610593.0,\n",
       "     12312.0,\n",
       "     3585.0],\n",
       "    'rx_pcn': ['ADV',\n",
       "     '9999',\n",
       "     'MEDDADV',\n",
       "     'A4',\n",
       "     '03200000',\n",
       "     'MCAIDADV',\n",
       "     '00670000',\n",
       "     'IRX',\n",
       "     'IS',\n",
       "     'FEPRX',\n",
       "     'MA',\n",
       "     'MEDDAET',\n",
       "     'WG',\n",
       "     'CIMCARE',\n",
       "     'BCTX',\n",
       "     'OHRXPROD',\n",
       "     '6334225',\n",
       "     'MEDDPRIME',\n",
       "     'FLBC',\n",
       "     'TNM',\n",
       "     'ASPROD1',\n",
       "     'CTRXMEDD',\n",
       "     'KYPROD1',\n",
       "     'OKA01',\n",
       "     'P303018902',\n",
       "     '4343',\n",
       "     '1215',\n",
       "     '01940000',\n",
       "     'MASSPROD',\n",
       "     'PRX00621'],\n",
       "    'plan_name': ['Department of Defense',\n",
       "     'UHCMR MAPD AND MA/RDS',\n",
       "     'CVS|CAREMARK',\n",
       "     'IRXME BB CDH-Y IRXMDTSTR1',\n",
       "     'AETSS BB CDH-N AETMEDD23',\n",
       "     'E23A1 BB CDH-N HPDMEDD',\n",
       "     'UHCMR PDP',\n",
       "     'EXPRESS SCRIPTS',\n",
       "     'OPTUMRX',\n",
       "     'T14 L4Y 10001',\n",
       "     'AMD23 BB CDH-Y AETMEDD23',\n",
       "     'UNITEDHEALTHCARE DUAL COM',\n",
       "     'Careplus D Humana PDP',\n",
       "     'COMMONWEALTH OF KENTUCKY WELLCARE',\n",
       "     'G1K BB CDH-N BBTMPFEPB',\n",
       "     'UPMC',\n",
       "     'DST PHARMACY SOLUTIONS DIRECT',\n",
       "     'MEDICAL RX',\n",
       "     'Gainwell Ohio Medicaid',\n",
       "     'UHC ACIS ENROLLMENTS',\n",
       "     'BMC RETAIL MEDI',\n",
       "     'HP-OHIO',\n",
       "     '2023 Cigna MedD PDP Secure 6T-RTL',\n",
       "     'INDIANA MEDICAID',\n",
       "     'QL TMP Z 30 DAYS RETAIL',\n",
       "     'G1K BB CDH-N BBTMPFEPS',\n",
       "     'BMCHP MA MCD',\n",
       "     'COMMONWEALTH OF KENTUCKY AETNA',\n",
       "     'C23H1 BB CDH-N HPDMEDD',\n",
       "     'INGEN BB CDH-N IRXBAS918']}},\n",
       "  'fld_tokenizer_fn': <function Rx_InsCateTkn.tokenizer_fn(rec, fldtkn_args)>,\n",
       "  'run_fldtkn_on_the_fly': False,\n",
       "  'ds_rec': Dataset({\n",
       "      features: ['PID', 'RxID', 'DT', 'Rx-InsCateTkn_wgt', 'Rx-InsCateTkn_tknidx'],\n",
       "      num_rows: 571656\n",
       "  }),\n",
       "  'df_rec_info':          PID_idx          interval  \\\n",
       "  PID                                  \n",
       "  1000001        0            [0, 0]   \n",
       "  1000002        1            [1, 1]   \n",
       "  1000003        2            [2, 2]   \n",
       "  1000004        3           [3, 10]   \n",
       "  1000005        4          [11, 11]   \n",
       "  ...          ...               ...   \n",
       "  1046204    45498  [571627, 571638]   \n",
       "  1046205    45499  [571639, 571639]   \n",
       "  1046206    45500  [571640, 571642]   \n",
       "  1046208    45501  [571643, 571646]   \n",
       "  1046209    45502  [571647, 571655]   \n",
       "  \n",
       "                                                       dates  \n",
       "  PID                                                         \n",
       "  1000001                       [2023-09-07T18:13:08.746000]  \n",
       "  1000002                       [2023-09-21T23:38:11.348000]  \n",
       "  1000003                       [2023-09-05T16:33:52.699000]  \n",
       "  1000004  [2023-03-23T16:38:45.051000, 2023-04-19T15:47:...  \n",
       "  1000005                       [2023-09-26T20:11:04.040000]  \n",
       "  ...                                                    ...  \n",
       "  1046204  [2023-05-22T13:41:49.538000, 2023-05-22T13:41:...  \n",
       "  1046205                       [2023-09-25T19:53:38.998000]  \n",
       "  1046206  [2023-08-14T19:42:23.213000, 2023-09-11T18:54:...  \n",
       "  1046208  [2023-09-12T16:09:16.572000, 2023-09-12T16:09:...  \n",
       "  1046209  [2023-05-04T13:45:40.707000, 2023-05-04T13:45:...  \n",
       "  \n",
       "  [45503 rows x 3 columns]}}"
      ]
     },
     "execution_count": 45,
     "metadata": {},
     "output_type": "execute_result"
    }
   ],
   "source": [
    "ROName_to_ROInfo"
   ]
  },
  {
   "cell_type": "code",
   "execution_count": 46,
   "id": "3cb53536",
   "metadata": {},
   "outputs": [
    {
     "data": {
      "text/plain": [
       "{'tid': {'tid2tkn': {0: 'rx_bin_unk',\n",
       "   1: 'rx_bin_minor',\n",
       "   2: 'rx_bin_4336.0',\n",
       "   3: 'rx_bin_610097.0',\n",
       "   4: 'rx_bin_610014.0',\n",
       "   5: 'rx_bin_3858.0',\n",
       "   6: 'rx_bin_15581.0',\n",
       "   7: 'rx_bin_610502.0',\n",
       "   8: 'rx_bin_610011.0',\n",
       "   9: 'rx_bin_11552.0',\n",
       "   10: 'rx_bin_610494.0',\n",
       "   11: 'rx_bin_610239.0',\n",
       "   12: 'rx_bin_610279.0',\n",
       "   13: 'rx_bin_20115.0',\n",
       "   14: 'rx_bin_20099.0',\n",
       "   15: 'rx_bin_17010.0',\n",
       "   16: 'rx_bin_24251.0',\n",
       "   17: 'rx_bin_22659.0',\n",
       "   18: 'rx_bin_12833.0',\n",
       "   19: 'rx_bin_4915.0',\n",
       "   20: 'rx_bin_19595.0',\n",
       "   21: 'rx_bin_1553.0',\n",
       "   22: 'rx_bin_20107.0',\n",
       "   23: 'rx_bin_610591.0',\n",
       "   24: 'rx_bin_610455.0',\n",
       "   25: 'rx_bin_610602.0',\n",
       "   26: 'rx_bin_23880.0',\n",
       "   27: 'rx_bin_10579.0',\n",
       "   28: 'rx_bin_18902.0',\n",
       "   29: 'rx_bin_610593.0',\n",
       "   30: 'rx_bin_12312.0',\n",
       "   31: 'rx_bin_3585.0',\n",
       "   32: 'rx_pcn_unk',\n",
       "   33: 'rx_pcn_minor',\n",
       "   34: 'rx_pcn_ADV',\n",
       "   35: 'rx_pcn_9999',\n",
       "   36: 'rx_pcn_MEDDADV',\n",
       "   37: 'rx_pcn_A4',\n",
       "   38: 'rx_pcn_03200000',\n",
       "   39: 'rx_pcn_MCAIDADV',\n",
       "   40: 'rx_pcn_00670000',\n",
       "   41: 'rx_pcn_IRX',\n",
       "   42: 'rx_pcn_IS',\n",
       "   43: 'rx_pcn_FEPRX',\n",
       "   44: 'rx_pcn_MA',\n",
       "   45: 'rx_pcn_MEDDAET',\n",
       "   46: 'rx_pcn_WG',\n",
       "   47: 'rx_pcn_CIMCARE',\n",
       "   48: 'rx_pcn_BCTX',\n",
       "   49: 'rx_pcn_OHRXPROD',\n",
       "   50: 'rx_pcn_6334225',\n",
       "   51: 'rx_pcn_MEDDPRIME',\n",
       "   52: 'rx_pcn_FLBC',\n",
       "   53: 'rx_pcn_TNM',\n",
       "   54: 'rx_pcn_ASPROD1',\n",
       "   55: 'rx_pcn_CTRXMEDD',\n",
       "   56: 'rx_pcn_KYPROD1',\n",
       "   57: 'rx_pcn_OKA01',\n",
       "   58: 'rx_pcn_P303018902',\n",
       "   59: 'rx_pcn_4343',\n",
       "   60: 'rx_pcn_1215',\n",
       "   61: 'rx_pcn_01940000',\n",
       "   62: 'rx_pcn_MASSPROD',\n",
       "   63: 'rx_pcn_PRX00621',\n",
       "   64: 'plan_name_unk',\n",
       "   65: 'plan_name_minor',\n",
       "   66: 'plan_name_Department of Defense',\n",
       "   67: 'plan_name_UHCMR MAPD AND MA/RDS',\n",
       "   68: 'plan_name_CVS|CAREMARK',\n",
       "   69: 'plan_name_IRXME BB CDH-Y IRXMDTSTR1',\n",
       "   70: 'plan_name_AETSS BB CDH-N AETMEDD23',\n",
       "   71: 'plan_name_E23A1 BB CDH-N HPDMEDD',\n",
       "   72: 'plan_name_UHCMR PDP',\n",
       "   73: 'plan_name_EXPRESS SCRIPTS',\n",
       "   74: 'plan_name_OPTUMRX',\n",
       "   75: 'plan_name_T14 L4Y 10001',\n",
       "   76: 'plan_name_AMD23 BB CDH-Y AETMEDD23',\n",
       "   77: 'plan_name_UNITEDHEALTHCARE DUAL COM',\n",
       "   78: 'plan_name_Careplus D Humana PDP',\n",
       "   79: 'plan_name_COMMONWEALTH OF KENTUCKY WELLCARE',\n",
       "   80: 'plan_name_G1K BB CDH-N BBTMPFEPB',\n",
       "   81: 'plan_name_UPMC',\n",
       "   82: 'plan_name_DST PHARMACY SOLUTIONS DIRECT',\n",
       "   83: 'plan_name_MEDICAL RX',\n",
       "   84: 'plan_name_Gainwell Ohio Medicaid',\n",
       "   85: 'plan_name_UHC ACIS ENROLLMENTS',\n",
       "   86: 'plan_name_BMC RETAIL MEDI',\n",
       "   87: 'plan_name_HP-OHIO',\n",
       "   88: 'plan_name_2023 Cigna MedD PDP Secure 6T-RTL',\n",
       "   89: 'plan_name_INDIANA MEDICAID',\n",
       "   90: 'plan_name_QL TMP Z 30 DAYS RETAIL',\n",
       "   91: 'plan_name_G1K BB CDH-N BBTMPFEPS',\n",
       "   92: 'plan_name_BMCHP MA MCD',\n",
       "   93: 'plan_name_COMMONWEALTH OF KENTUCKY AETNA',\n",
       "   94: 'plan_name_C23H1 BB CDH-N HPDMEDD',\n",
       "   95: 'plan_name_INGEN BB CDH-N IRXBAS918',\n",
       "   96: 'NoObs'},\n",
       "  'tkn2tid': {'rx_bin_unk': 0,\n",
       "   'rx_bin_minor': 1,\n",
       "   'rx_bin_4336.0': 2,\n",
       "   'rx_bin_610097.0': 3,\n",
       "   'rx_bin_610014.0': 4,\n",
       "   'rx_bin_3858.0': 5,\n",
       "   'rx_bin_15581.0': 6,\n",
       "   'rx_bin_610502.0': 7,\n",
       "   'rx_bin_610011.0': 8,\n",
       "   'rx_bin_11552.0': 9,\n",
       "   'rx_bin_610494.0': 10,\n",
       "   'rx_bin_610239.0': 11,\n",
       "   'rx_bin_610279.0': 12,\n",
       "   'rx_bin_20115.0': 13,\n",
       "   'rx_bin_20099.0': 14,\n",
       "   'rx_bin_17010.0': 15,\n",
       "   'rx_bin_24251.0': 16,\n",
       "   'rx_bin_22659.0': 17,\n",
       "   'rx_bin_12833.0': 18,\n",
       "   'rx_bin_4915.0': 19,\n",
       "   'rx_bin_19595.0': 20,\n",
       "   'rx_bin_1553.0': 21,\n",
       "   'rx_bin_20107.0': 22,\n",
       "   'rx_bin_610591.0': 23,\n",
       "   'rx_bin_610455.0': 24,\n",
       "   'rx_bin_610602.0': 25,\n",
       "   'rx_bin_23880.0': 26,\n",
       "   'rx_bin_10579.0': 27,\n",
       "   'rx_bin_18902.0': 28,\n",
       "   'rx_bin_610593.0': 29,\n",
       "   'rx_bin_12312.0': 30,\n",
       "   'rx_bin_3585.0': 31,\n",
       "   'rx_pcn_unk': 32,\n",
       "   'rx_pcn_minor': 33,\n",
       "   'rx_pcn_ADV': 34,\n",
       "   'rx_pcn_9999': 35,\n",
       "   'rx_pcn_MEDDADV': 36,\n",
       "   'rx_pcn_A4': 37,\n",
       "   'rx_pcn_03200000': 38,\n",
       "   'rx_pcn_MCAIDADV': 39,\n",
       "   'rx_pcn_00670000': 40,\n",
       "   'rx_pcn_IRX': 41,\n",
       "   'rx_pcn_IS': 42,\n",
       "   'rx_pcn_FEPRX': 43,\n",
       "   'rx_pcn_MA': 44,\n",
       "   'rx_pcn_MEDDAET': 45,\n",
       "   'rx_pcn_WG': 46,\n",
       "   'rx_pcn_CIMCARE': 47,\n",
       "   'rx_pcn_BCTX': 48,\n",
       "   'rx_pcn_OHRXPROD': 49,\n",
       "   'rx_pcn_6334225': 50,\n",
       "   'rx_pcn_MEDDPRIME': 51,\n",
       "   'rx_pcn_FLBC': 52,\n",
       "   'rx_pcn_TNM': 53,\n",
       "   'rx_pcn_ASPROD1': 54,\n",
       "   'rx_pcn_CTRXMEDD': 55,\n",
       "   'rx_pcn_KYPROD1': 56,\n",
       "   'rx_pcn_OKA01': 57,\n",
       "   'rx_pcn_P303018902': 58,\n",
       "   'rx_pcn_4343': 59,\n",
       "   'rx_pcn_1215': 60,\n",
       "   'rx_pcn_01940000': 61,\n",
       "   'rx_pcn_MASSPROD': 62,\n",
       "   'rx_pcn_PRX00621': 63,\n",
       "   'plan_name_unk': 64,\n",
       "   'plan_name_minor': 65,\n",
       "   'plan_name_Department of Defense': 66,\n",
       "   'plan_name_UHCMR MAPD AND MA/RDS': 67,\n",
       "   'plan_name_CVS|CAREMARK': 68,\n",
       "   'plan_name_IRXME BB CDH-Y IRXMDTSTR1': 69,\n",
       "   'plan_name_AETSS BB CDH-N AETMEDD23': 70,\n",
       "   'plan_name_E23A1 BB CDH-N HPDMEDD': 71,\n",
       "   'plan_name_UHCMR PDP': 72,\n",
       "   'plan_name_EXPRESS SCRIPTS': 73,\n",
       "   'plan_name_OPTUMRX': 74,\n",
       "   'plan_name_T14 L4Y 10001': 75,\n",
       "   'plan_name_AMD23 BB CDH-Y AETMEDD23': 76,\n",
       "   'plan_name_UNITEDHEALTHCARE DUAL COM': 77,\n",
       "   'plan_name_Careplus D Humana PDP': 78,\n",
       "   'plan_name_COMMONWEALTH OF KENTUCKY WELLCARE': 79,\n",
       "   'plan_name_G1K BB CDH-N BBTMPFEPB': 80,\n",
       "   'plan_name_UPMC': 81,\n",
       "   'plan_name_DST PHARMACY SOLUTIONS DIRECT': 82,\n",
       "   'plan_name_MEDICAL RX': 83,\n",
       "   'plan_name_Gainwell Ohio Medicaid': 84,\n",
       "   'plan_name_UHC ACIS ENROLLMENTS': 85,\n",
       "   'plan_name_BMC RETAIL MEDI': 86,\n",
       "   'plan_name_HP-OHIO': 87,\n",
       "   'plan_name_2023 Cigna MedD PDP Secure 6T-RTL': 88,\n",
       "   'plan_name_INDIANA MEDICAID': 89,\n",
       "   'plan_name_QL TMP Z 30 DAYS RETAIL': 90,\n",
       "   'plan_name_G1K BB CDH-N BBTMPFEPS': 91,\n",
       "   'plan_name_BMCHP MA MCD': 92,\n",
       "   'plan_name_COMMONWEALTH OF KENTUCKY AETNA': 93,\n",
       "   'plan_name_C23H1 BB CDH-N HPDMEDD': 94,\n",
       "   'plan_name_INGEN BB CDH-N IRXBAS918': 95,\n",
       "   'NoObs': 96}},\n",
       " 'wgt': {}}"
      ]
     },
     "execution_count": 46,
     "metadata": {},
     "output_type": "execute_result"
    }
   ],
   "source": [
    "CO_vocab"
   ]
  },
  {
   "cell_type": "code",
   "execution_count": 47,
   "id": "dced4814",
   "metadata": {},
   "outputs": [
    {
     "data": {
      "text/plain": [
       "'Rx-ObsPnt-InsCate'"
      ]
     },
     "execution_count": 47,
     "metadata": {},
     "output_type": "execute_result"
    }
   ],
   "source": [
    "ROName = list(ROName_to_ROds.keys())[0]\n",
    "ROName"
   ]
  },
  {
   "cell_type": "code",
   "execution_count": 48,
   "id": "96c2c681",
   "metadata": {},
   "outputs": [
    {
     "data": {
      "text/plain": [
       "Dataset({\n",
       "    features: ['PID', 'RxID', 'DT', 'Rx-InsCateTkn_wgt', 'Rx-InsCateTkn_tknidx'],\n",
       "    num_rows: 1\n",
       "})"
      ]
     },
     "execution_count": 48,
     "metadata": {},
     "output_type": "execute_result"
    }
   ],
   "source": [
    "ROds   = ROName_to_ROds[ROName]\n",
    "ROds"
   ]
  },
  {
   "cell_type": "code",
   "execution_count": 49,
   "id": "a3d221bd",
   "metadata": {},
   "outputs": [
    {
     "data": {
      "text/html": [
       "<div>\n",
       "<style scoped>\n",
       "    .dataframe tbody tr th:only-of-type {\n",
       "        vertical-align: middle;\n",
       "    }\n",
       "\n",
       "    .dataframe tbody tr th {\n",
       "        vertical-align: top;\n",
       "    }\n",
       "\n",
       "    .dataframe thead th {\n",
       "        text-align: right;\n",
       "    }\n",
       "</style>\n",
       "<table border=\"1\" class=\"dataframe\">\n",
       "  <thead>\n",
       "    <tr style=\"text-align: right;\">\n",
       "      <th></th>\n",
       "      <th>PID</th>\n",
       "      <th>RxID</th>\n",
       "      <th>DT</th>\n",
       "      <th>Rx-InsCateTkn_wgt</th>\n",
       "      <th>Rx-InsCateTkn_tknidx</th>\n",
       "    </tr>\n",
       "  </thead>\n",
       "  <tbody>\n",
       "    <tr>\n",
       "      <th>0</th>\n",
       "      <td>1027056</td>\n",
       "      <td>1027056-002-000</td>\n",
       "      <td>2023-07-17 20:54:55.528</td>\n",
       "      <td>[1, 1, 1]</td>\n",
       "      <td>[1, 33, 65]</td>\n",
       "    </tr>\n",
       "  </tbody>\n",
       "</table>\n",
       "</div>"
      ],
      "text/plain": [
       "       PID             RxID                      DT Rx-InsCateTkn_wgt  \\\n",
       "0  1027056  1027056-002-000 2023-07-17 20:54:55.528         [1, 1, 1]   \n",
       "\n",
       "  Rx-InsCateTkn_tknidx  \n",
       "0          [1, 33, 65]  "
      ]
     },
     "execution_count": 49,
     "metadata": {},
     "output_type": "execute_result"
    }
   ],
   "source": [
    "if ROds is None:\n",
    "    ROdf = pd.DataFrame()\n",
    "else:\n",
    "    ROdf = ROds.to_pandas()\n",
    "ROdf"
   ]
  },
  {
   "cell_type": "code",
   "execution_count": 50,
   "id": "2e696762",
   "metadata": {},
   "outputs": [],
   "source": [
    "# ROdf = ROds.to_pandas()\n",
    "\n",
    "FldName = parse_RecObsName(ROName, ckpd_to_CkpdObsConfig)['FldName']\n",
    "FldNameTkn = FldName + 'Tkn'"
   ]
  },
  {
   "cell_type": "code",
   "execution_count": 51,
   "id": "e373485c",
   "metadata": {},
   "outputs": [
    {
     "data": {
      "text/plain": [
       "['Rx-InsCateTkn_wgt', 'Rx-InsCateTkn_tknidx']"
      ]
     },
     "execution_count": 51,
     "metadata": {},
     "output_type": "execute_result"
    }
   ],
   "source": [
    "key_list = [i for i in ROdf.columns if FldNameTkn in i]\n",
    "key_list"
   ]
  },
  {
   "cell_type": "code",
   "execution_count": 52,
   "id": "38d9f737",
   "metadata": {},
   "outputs": [
    {
     "data": {
      "text/plain": [
       "'Rx-InsCateTkn_tknidx'"
      ]
     },
     "execution_count": 52,
     "metadata": {},
     "output_type": "execute_result"
    }
   ],
   "source": [
    "tknidx_col = [i for i in key_list if '_tknidx' in i][0]\n",
    "tknidx_col"
   ]
  },
  {
   "cell_type": "code",
   "execution_count": 53,
   "id": "bb576458",
   "metadata": {},
   "outputs": [
    {
     "data": {
      "text/plain": [
       "'Rx-InsCateTkn_wgt'"
      ]
     },
     "execution_count": 53,
     "metadata": {},
     "output_type": "execute_result"
    }
   ],
   "source": [
    "wgt_col = [i for i in key_list if '_wgt' in i][0]\n",
    "wgt_col"
   ]
  },
  {
   "cell_type": "code",
   "execution_count": 54,
   "id": "3e8baafc",
   "metadata": {},
   "outputs": [
    {
     "data": {
      "text/plain": [
       "[1, 33, 65]"
      ]
     },
     "execution_count": 54,
     "metadata": {},
     "output_type": "execute_result"
    }
   ],
   "source": [
    "from recfldtkn.obsname import parse_RecObsName\n",
    "import itertools\n",
    "tknidx_seq = list(itertools.chain(*ROdf[tknidx_col].to_list()))\n",
    "tknidx_seq"
   ]
  },
  {
   "cell_type": "code",
   "execution_count": 55,
   "id": "5699ec11",
   "metadata": {},
   "outputs": [
    {
     "data": {
      "text/plain": [
       "[1, 1, 1]"
      ]
     },
     "execution_count": 55,
     "metadata": {},
     "output_type": "execute_result"
    }
   ],
   "source": [
    "wgt_seq = list(itertools.chain(*ROdf[wgt_col].to_list()))\n",
    "wgt_seq"
   ]
  },
  {
   "cell_type": "code",
   "execution_count": 56,
   "id": "888bea09",
   "metadata": {},
   "outputs": [
    {
     "data": {
      "text/html": [
       "<div>\n",
       "<style scoped>\n",
       "    .dataframe tbody tr th:only-of-type {\n",
       "        vertical-align: middle;\n",
       "    }\n",
       "\n",
       "    .dataframe tbody tr th {\n",
       "        vertical-align: top;\n",
       "    }\n",
       "\n",
       "    .dataframe thead th {\n",
       "        text-align: right;\n",
       "    }\n",
       "</style>\n",
       "<table border=\"1\" class=\"dataframe\">\n",
       "  <thead>\n",
       "    <tr style=\"text-align: right;\">\n",
       "      <th></th>\n",
       "      <th>tknidx</th>\n",
       "      <th>wgt</th>\n",
       "    </tr>\n",
       "  </thead>\n",
       "  <tbody>\n",
       "    <tr>\n",
       "      <th>0</th>\n",
       "      <td>1</td>\n",
       "      <td>1</td>\n",
       "    </tr>\n",
       "    <tr>\n",
       "      <th>1</th>\n",
       "      <td>33</td>\n",
       "      <td>1</td>\n",
       "    </tr>\n",
       "    <tr>\n",
       "      <th>2</th>\n",
       "      <td>65</td>\n",
       "      <td>1</td>\n",
       "    </tr>\n",
       "  </tbody>\n",
       "</table>\n",
       "</div>"
      ],
      "text/plain": [
       "   tknidx  wgt\n",
       "0       1    1\n",
       "1      33    1\n",
       "2      65    1"
      ]
     },
     "execution_count": 56,
     "metadata": {},
     "output_type": "execute_result"
    }
   ],
   "source": [
    "df_feat = pd.DataFrame({'tknidx': tknidx_seq, 'wgt': wgt_seq})\n",
    "df_feat"
   ]
  },
  {
   "cell_type": "code",
   "execution_count": 57,
   "id": "3658043c",
   "metadata": {},
   "outputs": [
    {
     "data": {
      "text/plain": [
       "tknidx\n",
       "1     1\n",
       "33    1\n",
       "65    1\n",
       "Name: count, dtype: int64"
      ]
     },
     "execution_count": 57,
     "metadata": {},
     "output_type": "execute_result"
    }
   ],
   "source": [
    "df_feat['tknidx'].value_counts()"
   ]
  },
  {
   "cell_type": "code",
   "execution_count": 58,
   "id": "720ed1e8",
   "metadata": {},
   "outputs": [
    {
     "data": {
      "text/html": [
       "<div>\n",
       "<style scoped>\n",
       "    .dataframe tbody tr th:only-of-type {\n",
       "        vertical-align: middle;\n",
       "    }\n",
       "\n",
       "    .dataframe tbody tr th {\n",
       "        vertical-align: top;\n",
       "    }\n",
       "\n",
       "    .dataframe thead th {\n",
       "        text-align: right;\n",
       "    }\n",
       "</style>\n",
       "<table border=\"1\" class=\"dataframe\">\n",
       "  <thead>\n",
       "    <tr style=\"text-align: right;\">\n",
       "      <th></th>\n",
       "      <th>tknidx</th>\n",
       "      <th>wgt</th>\n",
       "    </tr>\n",
       "  </thead>\n",
       "  <tbody>\n",
       "    <tr>\n",
       "      <th>0</th>\n",
       "      <td>1</td>\n",
       "      <td>1</td>\n",
       "    </tr>\n",
       "    <tr>\n",
       "      <th>1</th>\n",
       "      <td>33</td>\n",
       "      <td>1</td>\n",
       "    </tr>\n",
       "    <tr>\n",
       "      <th>2</th>\n",
       "      <td>65</td>\n",
       "      <td>1</td>\n",
       "    </tr>\n",
       "  </tbody>\n",
       "</table>\n",
       "</div>"
      ],
      "text/plain": [
       "   tknidx  wgt\n",
       "0       1    1\n",
       "1      33    1\n",
       "2      65    1"
      ]
     },
     "execution_count": 58,
     "metadata": {},
     "output_type": "execute_result"
    }
   ],
   "source": [
    "df_feat = df_feat.groupby('tknidx').sum().reset_index()\n",
    "df_feat"
   ]
  },
  {
   "cell_type": "code",
   "execution_count": 59,
   "id": "669431f4",
   "metadata": {},
   "outputs": [
    {
     "data": {
      "text/plain": [
       "[1, 33, 65]"
      ]
     },
     "execution_count": 59,
     "metadata": {},
     "output_type": "execute_result"
    }
   ],
   "source": [
    "tid = df_feat['tknidx'].to_list()\n",
    "tid"
   ]
  },
  {
   "cell_type": "code",
   "execution_count": 60,
   "id": "5e37ea73",
   "metadata": {},
   "outputs": [
    {
     "data": {
      "text/plain": [
       "[1, 1, 1]"
      ]
     },
     "execution_count": 60,
     "metadata": {},
     "output_type": "execute_result"
    }
   ],
   "source": [
    "wgt = df_feat['wgt'].to_list()\n",
    "wgt"
   ]
  },
  {
   "cell_type": "code",
   "execution_count": 61,
   "id": "7a81f00c",
   "metadata": {},
   "outputs": [
    {
     "data": {
      "text/plain": [
       "{'tid': [1, 33, 65], 'wgt': [1, 1, 1]}"
      ]
     },
     "execution_count": 61,
     "metadata": {},
     "output_type": "execute_result"
    }
   ],
   "source": [
    "CO = {'tid': tid, 'wgt': wgt}\n",
    "CO"
   ]
  },
  {
   "cell_type": "code",
   "execution_count": 62,
   "id": "0f0c818e",
   "metadata": {},
   "outputs": [],
   "source": [
    "def fn_CasePhi(case_example, \n",
    "               ROName_to_ROds, \n",
    "               ROName_to_ROInfo, \n",
    "               CO_vocab, \n",
    "               cohort_args):\n",
    "    \n",
    "    from recfldtkn.obsname import parse_RecObsName\n",
    "    import itertools\n",
    "    \n",
    "    # input: RecObsName_to_RecObsDS, RecObsName_to_RecObsInfo\n",
    "    # output: CaseObservation\n",
    "    assert len(ROName_to_ROds) == 1\n",
    "    \n",
    "    # RO\n",
    "    ROName = list(ROName_to_ROds.keys())[0]\n",
    "    # for RecObsName in RecObsName_to_RecObsDS:\n",
    "    \n",
    "    #############################################\n",
    "    ROds   = ROName_to_ROds[ROName] # dataframe: RecObsName: Rx-bf24.. RecObsDS: the df: record collection\n",
    "    ROInfo = ROName_to_ROInfo[ROName]\n",
    "    \n",
    "    d = {}\n",
    "    if ROds is not None:\n",
    "        ROdf = ROds.to_pandas()\n",
    "        \n",
    "        FldName = parse_RecObsName(ROName, cohort_args['ckpd_to_CkpdObsConfig'])['FldName']\n",
    "        FldNameTkn = FldName + 'Tkn'\n",
    "        \n",
    "        key_list = [i for i in ROdf.columns if FldNameTkn in i]\n",
    "        tknidx_col = [i for i in key_list if '_tknidx' in i][0]\n",
    "        wgt_col = [i for i in key_list if '_wgt' in i][0]\n",
    "        #############################################\n",
    "        tknidx_seq = list(itertools.chain(*ROdf[tknidx_col].to_list()))\n",
    "        wgt_seq = list(itertools.chain(*ROdf[wgt_col].to_list()))\n",
    "        df_feat = pd.DataFrame({'tknidx': tknidx_seq, 'wgt': wgt_seq})\n",
    "        df_feat = df_feat.groupby('tknidx').mean().reset_index()\n",
    "        tid = df_feat['tknidx'].to_list()\n",
    "        wgt = df_feat['wgt'].to_list()\n",
    "        #############################################\n",
    "        CO = {'tid': tid, 'wgt': wgt}\n",
    "\n",
    "    else:\n",
    "        tkn2tid = CO_vocab['tid']['tkn2tid']\n",
    "        # d['NoObs'] = 1\n",
    "        tkn = ['NoObs']\n",
    "        tid = [tkn2tid[i] for i in tkn]\n",
    "        wgt = [1]\n",
    "        CO = {'tid': tid, 'wgt': wgt}\n",
    "    #############################################\n",
    "    return CO\n",
    "\n",
    "fn_CasePhi.fn_string = inspect.getsource(fn_CasePhi)"
   ]
  },
  {
   "cell_type": "code",
   "execution_count": 63,
   "id": "a3602605",
   "metadata": {},
   "outputs": [
    {
     "data": {
      "text/plain": [
       "{'Rx-ObsPnt-InsCate': Dataset({\n",
       "     features: ['PID', 'RxID', 'DT', 'Rx-InsCateTkn_wgt', 'Rx-InsCateTkn_tknidx'],\n",
       "     num_rows: 1\n",
       " })}"
      ]
     },
     "execution_count": 63,
     "metadata": {},
     "output_type": "execute_result"
    }
   ],
   "source": [
    "ROName_to_ROds"
   ]
  },
  {
   "cell_type": "code",
   "execution_count": 64,
   "id": "c921b74d",
   "metadata": {},
   "outputs": [],
   "source": [
    "CO = fn_CasePhi(case_example, ROName_to_ROds, ROName_to_ROInfo, CO_vocab, cohort_args)"
   ]
  },
  {
   "cell_type": "code",
   "execution_count": 65,
   "metadata": {},
   "outputs": [
    {
     "data": {
      "text/plain": [
       "{'tid': [1, 33, 65], 'wgt': [1.0, 1.0, 1.0]}"
      ]
     },
     "execution_count": 65,
     "metadata": {},
     "output_type": "execute_result"
    }
   ],
   "source": [
    "CO"
   ]
  },
  {
   "cell_type": "code",
   "execution_count": 66,
   "id": "29a87e36",
   "metadata": {},
   "outputs": [
    {
     "data": {
      "text/plain": [
       "{'tid': {'tid2tkn': {0: 'rx_bin_unk',\n",
       "   1: 'rx_bin_minor',\n",
       "   2: 'rx_bin_4336.0',\n",
       "   3: 'rx_bin_610097.0',\n",
       "   4: 'rx_bin_610014.0',\n",
       "   5: 'rx_bin_3858.0',\n",
       "   6: 'rx_bin_15581.0',\n",
       "   7: 'rx_bin_610502.0',\n",
       "   8: 'rx_bin_610011.0',\n",
       "   9: 'rx_bin_11552.0',\n",
       "   10: 'rx_bin_610494.0',\n",
       "   11: 'rx_bin_610239.0',\n",
       "   12: 'rx_bin_610279.0',\n",
       "   13: 'rx_bin_20115.0',\n",
       "   14: 'rx_bin_20099.0',\n",
       "   15: 'rx_bin_17010.0',\n",
       "   16: 'rx_bin_24251.0',\n",
       "   17: 'rx_bin_22659.0',\n",
       "   18: 'rx_bin_12833.0',\n",
       "   19: 'rx_bin_4915.0',\n",
       "   20: 'rx_bin_19595.0',\n",
       "   21: 'rx_bin_1553.0',\n",
       "   22: 'rx_bin_20107.0',\n",
       "   23: 'rx_bin_610591.0',\n",
       "   24: 'rx_bin_610455.0',\n",
       "   25: 'rx_bin_610602.0',\n",
       "   26: 'rx_bin_23880.0',\n",
       "   27: 'rx_bin_10579.0',\n",
       "   28: 'rx_bin_18902.0',\n",
       "   29: 'rx_bin_610593.0',\n",
       "   30: 'rx_bin_12312.0',\n",
       "   31: 'rx_bin_3585.0',\n",
       "   32: 'rx_pcn_unk',\n",
       "   33: 'rx_pcn_minor',\n",
       "   34: 'rx_pcn_ADV',\n",
       "   35: 'rx_pcn_9999',\n",
       "   36: 'rx_pcn_MEDDADV',\n",
       "   37: 'rx_pcn_A4',\n",
       "   38: 'rx_pcn_03200000',\n",
       "   39: 'rx_pcn_MCAIDADV',\n",
       "   40: 'rx_pcn_00670000',\n",
       "   41: 'rx_pcn_IRX',\n",
       "   42: 'rx_pcn_IS',\n",
       "   43: 'rx_pcn_FEPRX',\n",
       "   44: 'rx_pcn_MA',\n",
       "   45: 'rx_pcn_MEDDAET',\n",
       "   46: 'rx_pcn_WG',\n",
       "   47: 'rx_pcn_CIMCARE',\n",
       "   48: 'rx_pcn_BCTX',\n",
       "   49: 'rx_pcn_OHRXPROD',\n",
       "   50: 'rx_pcn_6334225',\n",
       "   51: 'rx_pcn_MEDDPRIME',\n",
       "   52: 'rx_pcn_FLBC',\n",
       "   53: 'rx_pcn_TNM',\n",
       "   54: 'rx_pcn_ASPROD1',\n",
       "   55: 'rx_pcn_CTRXMEDD',\n",
       "   56: 'rx_pcn_KYPROD1',\n",
       "   57: 'rx_pcn_OKA01',\n",
       "   58: 'rx_pcn_P303018902',\n",
       "   59: 'rx_pcn_4343',\n",
       "   60: 'rx_pcn_1215',\n",
       "   61: 'rx_pcn_01940000',\n",
       "   62: 'rx_pcn_MASSPROD',\n",
       "   63: 'rx_pcn_PRX00621',\n",
       "   64: 'plan_name_unk',\n",
       "   65: 'plan_name_minor',\n",
       "   66: 'plan_name_Department of Defense',\n",
       "   67: 'plan_name_UHCMR MAPD AND MA/RDS',\n",
       "   68: 'plan_name_CVS|CAREMARK',\n",
       "   69: 'plan_name_IRXME BB CDH-Y IRXMDTSTR1',\n",
       "   70: 'plan_name_AETSS BB CDH-N AETMEDD23',\n",
       "   71: 'plan_name_E23A1 BB CDH-N HPDMEDD',\n",
       "   72: 'plan_name_UHCMR PDP',\n",
       "   73: 'plan_name_EXPRESS SCRIPTS',\n",
       "   74: 'plan_name_OPTUMRX',\n",
       "   75: 'plan_name_T14 L4Y 10001',\n",
       "   76: 'plan_name_AMD23 BB CDH-Y AETMEDD23',\n",
       "   77: 'plan_name_UNITEDHEALTHCARE DUAL COM',\n",
       "   78: 'plan_name_Careplus D Humana PDP',\n",
       "   79: 'plan_name_COMMONWEALTH OF KENTUCKY WELLCARE',\n",
       "   80: 'plan_name_G1K BB CDH-N BBTMPFEPB',\n",
       "   81: 'plan_name_UPMC',\n",
       "   82: 'plan_name_DST PHARMACY SOLUTIONS DIRECT',\n",
       "   83: 'plan_name_MEDICAL RX',\n",
       "   84: 'plan_name_Gainwell Ohio Medicaid',\n",
       "   85: 'plan_name_UHC ACIS ENROLLMENTS',\n",
       "   86: 'plan_name_BMC RETAIL MEDI',\n",
       "   87: 'plan_name_HP-OHIO',\n",
       "   88: 'plan_name_2023 Cigna MedD PDP Secure 6T-RTL',\n",
       "   89: 'plan_name_INDIANA MEDICAID',\n",
       "   90: 'plan_name_QL TMP Z 30 DAYS RETAIL',\n",
       "   91: 'plan_name_G1K BB CDH-N BBTMPFEPS',\n",
       "   92: 'plan_name_BMCHP MA MCD',\n",
       "   93: 'plan_name_COMMONWEALTH OF KENTUCKY AETNA',\n",
       "   94: 'plan_name_C23H1 BB CDH-N HPDMEDD',\n",
       "   95: 'plan_name_INGEN BB CDH-N IRXBAS918',\n",
       "   96: 'NoObs'},\n",
       "  'tkn2tid': {'rx_bin_unk': 0,\n",
       "   'rx_bin_minor': 1,\n",
       "   'rx_bin_4336.0': 2,\n",
       "   'rx_bin_610097.0': 3,\n",
       "   'rx_bin_610014.0': 4,\n",
       "   'rx_bin_3858.0': 5,\n",
       "   'rx_bin_15581.0': 6,\n",
       "   'rx_bin_610502.0': 7,\n",
       "   'rx_bin_610011.0': 8,\n",
       "   'rx_bin_11552.0': 9,\n",
       "   'rx_bin_610494.0': 10,\n",
       "   'rx_bin_610239.0': 11,\n",
       "   'rx_bin_610279.0': 12,\n",
       "   'rx_bin_20115.0': 13,\n",
       "   'rx_bin_20099.0': 14,\n",
       "   'rx_bin_17010.0': 15,\n",
       "   'rx_bin_24251.0': 16,\n",
       "   'rx_bin_22659.0': 17,\n",
       "   'rx_bin_12833.0': 18,\n",
       "   'rx_bin_4915.0': 19,\n",
       "   'rx_bin_19595.0': 20,\n",
       "   'rx_bin_1553.0': 21,\n",
       "   'rx_bin_20107.0': 22,\n",
       "   'rx_bin_610591.0': 23,\n",
       "   'rx_bin_610455.0': 24,\n",
       "   'rx_bin_610602.0': 25,\n",
       "   'rx_bin_23880.0': 26,\n",
       "   'rx_bin_10579.0': 27,\n",
       "   'rx_bin_18902.0': 28,\n",
       "   'rx_bin_610593.0': 29,\n",
       "   'rx_bin_12312.0': 30,\n",
       "   'rx_bin_3585.0': 31,\n",
       "   'rx_pcn_unk': 32,\n",
       "   'rx_pcn_minor': 33,\n",
       "   'rx_pcn_ADV': 34,\n",
       "   'rx_pcn_9999': 35,\n",
       "   'rx_pcn_MEDDADV': 36,\n",
       "   'rx_pcn_A4': 37,\n",
       "   'rx_pcn_03200000': 38,\n",
       "   'rx_pcn_MCAIDADV': 39,\n",
       "   'rx_pcn_00670000': 40,\n",
       "   'rx_pcn_IRX': 41,\n",
       "   'rx_pcn_IS': 42,\n",
       "   'rx_pcn_FEPRX': 43,\n",
       "   'rx_pcn_MA': 44,\n",
       "   'rx_pcn_MEDDAET': 45,\n",
       "   'rx_pcn_WG': 46,\n",
       "   'rx_pcn_CIMCARE': 47,\n",
       "   'rx_pcn_BCTX': 48,\n",
       "   'rx_pcn_OHRXPROD': 49,\n",
       "   'rx_pcn_6334225': 50,\n",
       "   'rx_pcn_MEDDPRIME': 51,\n",
       "   'rx_pcn_FLBC': 52,\n",
       "   'rx_pcn_TNM': 53,\n",
       "   'rx_pcn_ASPROD1': 54,\n",
       "   'rx_pcn_CTRXMEDD': 55,\n",
       "   'rx_pcn_KYPROD1': 56,\n",
       "   'rx_pcn_OKA01': 57,\n",
       "   'rx_pcn_P303018902': 58,\n",
       "   'rx_pcn_4343': 59,\n",
       "   'rx_pcn_1215': 60,\n",
       "   'rx_pcn_01940000': 61,\n",
       "   'rx_pcn_MASSPROD': 62,\n",
       "   'rx_pcn_PRX00621': 63,\n",
       "   'plan_name_unk': 64,\n",
       "   'plan_name_minor': 65,\n",
       "   'plan_name_Department of Defense': 66,\n",
       "   'plan_name_UHCMR MAPD AND MA/RDS': 67,\n",
       "   'plan_name_CVS|CAREMARK': 68,\n",
       "   'plan_name_IRXME BB CDH-Y IRXMDTSTR1': 69,\n",
       "   'plan_name_AETSS BB CDH-N AETMEDD23': 70,\n",
       "   'plan_name_E23A1 BB CDH-N HPDMEDD': 71,\n",
       "   'plan_name_UHCMR PDP': 72,\n",
       "   'plan_name_EXPRESS SCRIPTS': 73,\n",
       "   'plan_name_OPTUMRX': 74,\n",
       "   'plan_name_T14 L4Y 10001': 75,\n",
       "   'plan_name_AMD23 BB CDH-Y AETMEDD23': 76,\n",
       "   'plan_name_UNITEDHEALTHCARE DUAL COM': 77,\n",
       "   'plan_name_Careplus D Humana PDP': 78,\n",
       "   'plan_name_COMMONWEALTH OF KENTUCKY WELLCARE': 79,\n",
       "   'plan_name_G1K BB CDH-N BBTMPFEPB': 80,\n",
       "   'plan_name_UPMC': 81,\n",
       "   'plan_name_DST PHARMACY SOLUTIONS DIRECT': 82,\n",
       "   'plan_name_MEDICAL RX': 83,\n",
       "   'plan_name_Gainwell Ohio Medicaid': 84,\n",
       "   'plan_name_UHC ACIS ENROLLMENTS': 85,\n",
       "   'plan_name_BMC RETAIL MEDI': 86,\n",
       "   'plan_name_HP-OHIO': 87,\n",
       "   'plan_name_2023 Cigna MedD PDP Secure 6T-RTL': 88,\n",
       "   'plan_name_INDIANA MEDICAID': 89,\n",
       "   'plan_name_QL TMP Z 30 DAYS RETAIL': 90,\n",
       "   'plan_name_G1K BB CDH-N BBTMPFEPS': 91,\n",
       "   'plan_name_BMCHP MA MCD': 92,\n",
       "   'plan_name_COMMONWEALTH OF KENTUCKY AETNA': 93,\n",
       "   'plan_name_C23H1 BB CDH-N HPDMEDD': 94,\n",
       "   'plan_name_INGEN BB CDH-N IRXBAS918': 95,\n",
       "   'NoObs': 96}},\n",
       " 'wgt': {}}"
      ]
     },
     "execution_count": 66,
     "metadata": {},
     "output_type": "execute_result"
    }
   ],
   "source": [
    "CO_vocab"
   ]
  },
  {
   "cell_type": "markdown",
   "id": "6d098f89",
   "metadata": {},
   "source": [
    "## Save Files"
   ]
  },
  {
   "cell_type": "code",
   "execution_count": 67,
   "id": "85524f5f",
   "metadata": {},
   "outputs": [
    {
     "data": {
      "text/html": [
       "../pipeline/fn_casephi/phi_AggMeanFeat.py <a href=\"/Users/floydluo/Library/CloudStorage/OneDrive-DRFIRST.COM,INC/Documents - DrFirst-JHU Collaboration Center/DrFirst-Project/2024-DrFirst-v4-SPACE/_DrFirst-AI-EgmPred-WorkSpace/../pipeline/fn_casephi/phi_AggMeanFeat.py\" target=\"_blank\">Open File</a>"
      ],
      "text/plain": [
       "<IPython.core.display.HTML object>"
      ]
     },
     "metadata": {},
     "output_type": "display_data"
    }
   ],
   "source": [
    "from recfldtkn.loadtools import convert_variables_to_pystirng, load_module_variables\n",
    "\n",
    "prefix = ['import pandas as pd', 'import numpy as np']\n",
    "fn_variables = [get_CO_id, get_selected_columns, get_CO_vocab, fn_CasePhi]\n",
    "pycode = convert_variables_to_pystirng(fn_variables = fn_variables, prefix = prefix)\n",
    "pypath = os.path.join(SPACE['CODE_FN'], 'fn_casephi', f'phi_{name_CasePhi}.py')\n",
    "with open(pypath, 'w') as file: file.write(pycode)\n",
    "\n",
    "# Create a HTML link and display it\n",
    "full_path = os.path.join(WORKSPACE_PATH, pypath)\n",
    "display(HTML(f'{pypath} <a href=\"{full_path}\" target=\"_blank\">Open File</a>'))"
   ]
  },
  {
   "cell_type": "markdown",
   "id": "d8ac3fc7",
   "metadata": {},
   "source": [
    "# Application"
   ]
  },
  {
   "cell_type": "code",
   "execution_count": 68,
   "id": "8cf13931",
   "metadata": {},
   "outputs": [
    {
     "data": {
      "text/plain": [
       "'ro.Rx-ObsPnt-InsCate_ct.AggMeanFeat'"
      ]
     },
     "execution_count": 68,
     "metadata": {},
     "output_type": "execute_result"
    }
   ],
   "source": [
    "CaseObsName"
   ]
  },
  {
   "cell_type": "code",
   "execution_count": 69,
   "id": "a0747747",
   "metadata": {},
   "outputs": [
    {
     "name": "stderr",
     "output_type": "stream",
     "text": [
      "[INFO:2024-04-09 12:19:18,763:(configfn.py@110 recfldtkn.configfn)]: file_path in load_fldtkn_args: ../pipeline/config_recfldtkn/Record/Rx.yaml\n"
     ]
    },
    {
     "data": {
      "text/plain": [
       "['RecObsName_List',\n",
       " 'name_CasePhi',\n",
       " 'get_selected_columns',\n",
       " 'CaseObsName',\n",
       " 'ROName_to_ROInfo',\n",
       " 'fn_CasePhi',\n",
       " 'get_CO_id',\n",
       " 'CO_Folder',\n",
       " 'CO_vocab']"
      ]
     },
     "execution_count": 69,
     "metadata": {},
     "output_type": "execute_result"
    }
   ],
   "source": [
    "from recfldtkn.observer import get_CaseObsInfo_for_a_CaseObsName\n",
    "\n",
    "CaseObsInfo = get_CaseObsInfo_for_a_CaseObsName(CaseObsName,\n",
    "                                                SPACE, \n",
    "                                                cohort_args, \n",
    "                                                record_to_ds_rec = {}, \n",
    "                                                record_to_ds_rec_info = {})\n",
    "[i for i in CaseObsInfo]"
   ]
  },
  {
   "cell_type": "code",
   "execution_count": 70,
   "id": "a4810867",
   "metadata": {},
   "outputs": [],
   "source": [
    "import random \n",
    "from pprint import pprint\n",
    "from datetime import datetime \n",
    "from recfldtkn.observer import get_RecObsName_to_RecObsInfo, CaseObserverTransformer\n",
    "\n",
    "\n",
    "ro_to_ROName = {} # leave it empty for now \n",
    "ROName_to_ROInfo = CaseObsInfo['ROName_to_ROInfo']\n",
    "name_CasePhi = CaseObsInfo['name_CasePhi']\n",
    "fn_CasePhi = CaseObsInfo['fn_CasePhi']\n",
    "CO_vocab = CaseObsInfo['CO_vocab']\n",
    "get_CO_id = CaseObsInfo['get_CO_id']\n",
    "CO_Folder = CaseObsInfo['CO_Folder']\n",
    "COids = None \n",
    "use_CO_from_disk = False\n",
    "batch_size = CaseObsInfo.get('batch_size', 1000)\n",
    "\n",
    "fn_caseobs_Phi = CaseObserverTransformer(ro_to_ROName,\n",
    "                                         ROName_to_ROInfo, \n",
    "                                         name_CasePhi, \n",
    "                                         fn_CasePhi, \n",
    "                                         CO_vocab, \n",
    "                                         get_CO_id,\n",
    "                                         cohort_args,\n",
    "                                         CO_Folder, \n",
    "                                         df_case,\n",
    "                                         use_CO_from_disk)"
   ]
  },
  {
   "cell_type": "markdown",
   "id": "79eb01dd",
   "metadata": {},
   "source": [
    "# Check Cache Functions"
   ]
  },
  {
   "cell_type": "code",
   "execution_count": 71,
   "id": "28003f06",
   "metadata": {},
   "outputs": [
    {
     "data": {
      "text/plain": [
       "{}"
      ]
     },
     "execution_count": 71,
     "metadata": {},
     "output_type": "execute_result"
    }
   ],
   "source": [
    "fn_caseobs_Phi.new_COs"
   ]
  },
  {
   "cell_type": "code",
   "execution_count": 72,
   "id": "bd6e55d9",
   "metadata": {},
   "outputs": [
    {
     "data": {
      "application/vnd.jupyter.widget-view+json": {
       "model_id": "4577c0ecaeba4d19b7ee2d04031b2f12",
       "version_major": 2,
       "version_minor": 0
      },
      "text/plain": [
       "Map:   0%|          | 0/1000 [00:00<?, ? examples/s]"
      ]
     },
     "metadata": {},
     "output_type": "display_data"
    },
    {
     "name": "stdout",
     "output_type": "stream",
     "text": [
      "Elipse Time:  0:00:04.148170\n",
      "Dataset({\n",
      "    features: ['PID', 'ObsDT', 'PInvID', 'RxID', 'DT', 'drug_name', 'tid', 'wgt'],\n",
      "    num_rows: 1000\n",
      "})\n"
     ]
    }
   ],
   "source": [
    "start = datetime.now()\n",
    "ds_casetkn = ds_case.map(fn_caseobs_Phi, \n",
    "                         batched = True, \n",
    "                         batch_size= batch_size, \n",
    "                         load_from_cache_file = False, \n",
    "                         new_fingerprint = CaseObsName)\n",
    "end = datetime.now()\n",
    "print('Elipse Time: ', end - start)\n",
    "print(ds_casetkn)"
   ]
  },
  {
   "cell_type": "code",
   "execution_count": 73,
   "id": "1765eb57",
   "metadata": {},
   "outputs": [
    {
     "name": "stdout",
     "output_type": "stream",
     "text": [
      "1000\n"
     ]
    }
   ],
   "source": [
    "print(len(fn_caseobs_Phi.new_COs))"
   ]
  },
  {
   "cell_type": "code",
   "execution_count": 74,
   "id": "de1ef678",
   "metadata": {},
   "outputs": [
    {
     "data": {
      "application/vnd.jupyter.widget-view+json": {
       "model_id": "58dbcb62a42347f2abd2abbb151be6e5",
       "version_major": 2,
       "version_minor": 0
      },
      "text/plain": [
       "Map:   0%|          | 0/1000 [00:00<?, ? examples/s]"
      ]
     },
     "metadata": {},
     "output_type": "display_data"
    },
    {
     "name": "stdout",
     "output_type": "stream",
     "text": [
      "Elipse Time:  0:00:00.027818\n",
      "Dataset({\n",
      "    features: ['PID', 'ObsDT', 'PInvID', 'RxID', 'DT', 'drug_name', 'tid', 'wgt'],\n",
      "    num_rows: 1000\n",
      "})\n"
     ]
    }
   ],
   "source": [
    "start = datetime.now()\n",
    "ds_casetkn = ds_case.map(fn_caseobs_Phi, \n",
    "                         batched = True, \n",
    "                         batch_size= batch_size, \n",
    "                         load_from_cache_file = False, \n",
    "                         new_fingerprint = CaseObsName)\n",
    "end = datetime.now()\n",
    "print('Elipse Time: ', end - start)\n",
    "print(ds_casetkn)"
   ]
  },
  {
   "cell_type": "code",
   "execution_count": 75,
   "id": "9e6ec3e9",
   "metadata": {},
   "outputs": [
    {
     "name": "stdout",
     "output_type": "stream",
     "text": [
      "ro.Rx-ObsPnt-InsCate_ct.AggMeanFeat\n",
      "404\n",
      "{'DT': Timestamp('2023-06-14 03:23:53.558000'),\n",
      " 'ObsDT': Timestamp('2023-06-14 03:23:53.558000'),\n",
      " 'PID': 1010322,\n",
      " 'PInvID': '1010322-007',\n",
      " 'RxID': '1010322-007-011',\n",
      " 'drug_name': 'Trulicity',\n",
      " 'tid': [1, 33, 65],\n",
      " 'wgt': [1.0, 1.0, 1.0]}\n",
      "{'tid': {'tid2tkn': {0: 'rx_bin_unk', 1: 'rx_bin_minor', 2: 'rx_bin_4336.0', 3: 'rx_bin_610097.0', 4: 'rx_bin_610014.0', 5: 'rx_bin_3858.0', 6: 'rx_bin_15581.0', 7: 'rx_bin_610502.0', 8: 'rx_bin_610011.0', 9: 'rx_bin_11552.0', 10: 'rx_bin_610494.0', 11: 'rx_bin_610239.0', 12: 'rx_bin_610279.0', 13: 'rx_bin_20115.0', 14: 'rx_bin_20099.0', 15: 'rx_bin_17010.0', 16: 'rx_bin_24251.0', 17: 'rx_bin_22659.0', 18: 'rx_bin_12833.0', 19: 'rx_bin_4915.0', 20: 'rx_bin_19595.0', 21: 'rx_bin_1553.0', 22: 'rx_bin_20107.0', 23: 'rx_bin_610591.0', 24: 'rx_bin_610455.0', 25: 'rx_bin_610602.0', 26: 'rx_bin_23880.0', 27: 'rx_bin_10579.0', 28: 'rx_bin_18902.0', 29: 'rx_bin_610593.0', 30: 'rx_bin_12312.0', 31: 'rx_bin_3585.0', 32: 'rx_pcn_unk', 33: 'rx_pcn_minor', 34: 'rx_pcn_ADV', 35: 'rx_pcn_9999', 36: 'rx_pcn_MEDDADV', 37: 'rx_pcn_A4', 38: 'rx_pcn_03200000', 39: 'rx_pcn_MCAIDADV', 40: 'rx_pcn_00670000', 41: 'rx_pcn_IRX', 42: 'rx_pcn_IS', 43: 'rx_pcn_FEPRX', 44: 'rx_pcn_MA', 45: 'rx_pcn_MEDDAET', 46: 'rx_pcn_WG', 47: 'rx_pcn_CIMCARE', 48: 'rx_pcn_BCTX', 49: 'rx_pcn_OHRXPROD', 50: 'rx_pcn_6334225', 51: 'rx_pcn_MEDDPRIME', 52: 'rx_pcn_FLBC', 53: 'rx_pcn_TNM', 54: 'rx_pcn_ASPROD1', 55: 'rx_pcn_CTRXMEDD', 56: 'rx_pcn_KYPROD1', 57: 'rx_pcn_OKA01', 58: 'rx_pcn_P303018902', 59: 'rx_pcn_4343', 60: 'rx_pcn_1215', 61: 'rx_pcn_01940000', 62: 'rx_pcn_MASSPROD', 63: 'rx_pcn_PRX00621', 64: 'plan_name_unk', 65: 'plan_name_minor', 66: 'plan_name_Department of Defense', 67: 'plan_name_UHCMR MAPD AND MA/RDS', 68: 'plan_name_CVS|CAREMARK', 69: 'plan_name_IRXME BB CDH-Y IRXMDTSTR1', 70: 'plan_name_AETSS BB CDH-N AETMEDD23', 71: 'plan_name_E23A1 BB CDH-N HPDMEDD', 72: 'plan_name_UHCMR PDP', 73: 'plan_name_EXPRESS SCRIPTS', 74: 'plan_name_OPTUMRX', 75: 'plan_name_T14 L4Y 10001', 76: 'plan_name_AMD23 BB CDH-Y AETMEDD23', 77: 'plan_name_UNITEDHEALTHCARE DUAL COM', 78: 'plan_name_Careplus D Humana PDP', 79: 'plan_name_COMMONWEALTH OF KENTUCKY WELLCARE', 80: 'plan_name_G1K BB CDH-N BBTMPFEPB', 81: 'plan_name_UPMC', 82: 'plan_name_DST PHARMACY SOLUTIONS DIRECT', 83: 'plan_name_MEDICAL RX', 84: 'plan_name_Gainwell Ohio Medicaid', 85: 'plan_name_UHC ACIS ENROLLMENTS', 86: 'plan_name_BMC RETAIL MEDI', 87: 'plan_name_HP-OHIO', 88: 'plan_name_2023 Cigna MedD PDP Secure 6T-RTL', 89: 'plan_name_INDIANA MEDICAID', 90: 'plan_name_QL TMP Z 30 DAYS RETAIL', 91: 'plan_name_G1K BB CDH-N BBTMPFEPS', 92: 'plan_name_BMCHP MA MCD', 93: 'plan_name_COMMONWEALTH OF KENTUCKY AETNA', 94: 'plan_name_C23H1 BB CDH-N HPDMEDD', 95: 'plan_name_INGEN BB CDH-N IRXBAS918', 96: 'NoObs'}, 'tkn2tid': {'rx_bin_unk': 0, 'rx_bin_minor': 1, 'rx_bin_4336.0': 2, 'rx_bin_610097.0': 3, 'rx_bin_610014.0': 4, 'rx_bin_3858.0': 5, 'rx_bin_15581.0': 6, 'rx_bin_610502.0': 7, 'rx_bin_610011.0': 8, 'rx_bin_11552.0': 9, 'rx_bin_610494.0': 10, 'rx_bin_610239.0': 11, 'rx_bin_610279.0': 12, 'rx_bin_20115.0': 13, 'rx_bin_20099.0': 14, 'rx_bin_17010.0': 15, 'rx_bin_24251.0': 16, 'rx_bin_22659.0': 17, 'rx_bin_12833.0': 18, 'rx_bin_4915.0': 19, 'rx_bin_19595.0': 20, 'rx_bin_1553.0': 21, 'rx_bin_20107.0': 22, 'rx_bin_610591.0': 23, 'rx_bin_610455.0': 24, 'rx_bin_610602.0': 25, 'rx_bin_23880.0': 26, 'rx_bin_10579.0': 27, 'rx_bin_18902.0': 28, 'rx_bin_610593.0': 29, 'rx_bin_12312.0': 30, 'rx_bin_3585.0': 31, 'rx_pcn_unk': 32, 'rx_pcn_minor': 33, 'rx_pcn_ADV': 34, 'rx_pcn_9999': 35, 'rx_pcn_MEDDADV': 36, 'rx_pcn_A4': 37, 'rx_pcn_03200000': 38, 'rx_pcn_MCAIDADV': 39, 'rx_pcn_00670000': 40, 'rx_pcn_IRX': 41, 'rx_pcn_IS': 42, 'rx_pcn_FEPRX': 43, 'rx_pcn_MA': 44, 'rx_pcn_MEDDAET': 45, 'rx_pcn_WG': 46, 'rx_pcn_CIMCARE': 47, 'rx_pcn_BCTX': 48, 'rx_pcn_OHRXPROD': 49, 'rx_pcn_6334225': 50, 'rx_pcn_MEDDPRIME': 51, 'rx_pcn_FLBC': 52, 'rx_pcn_TNM': 53, 'rx_pcn_ASPROD1': 54, 'rx_pcn_CTRXMEDD': 55, 'rx_pcn_KYPROD1': 56, 'rx_pcn_OKA01': 57, 'rx_pcn_P303018902': 58, 'rx_pcn_4343': 59, 'rx_pcn_1215': 60, 'rx_pcn_01940000': 61, 'rx_pcn_MASSPROD': 62, 'rx_pcn_PRX00621': 63, 'plan_name_unk': 64, 'plan_name_minor': 65, 'plan_name_Department of Defense': 66, 'plan_name_UHCMR MAPD AND MA/RDS': 67, 'plan_name_CVS|CAREMARK': 68, 'plan_name_IRXME BB CDH-Y IRXMDTSTR1': 69, 'plan_name_AETSS BB CDH-N AETMEDD23': 70, 'plan_name_E23A1 BB CDH-N HPDMEDD': 71, 'plan_name_UHCMR PDP': 72, 'plan_name_EXPRESS SCRIPTS': 73, 'plan_name_OPTUMRX': 74, 'plan_name_T14 L4Y 10001': 75, 'plan_name_AMD23 BB CDH-Y AETMEDD23': 76, 'plan_name_UNITEDHEALTHCARE DUAL COM': 77, 'plan_name_Careplus D Humana PDP': 78, 'plan_name_COMMONWEALTH OF KENTUCKY WELLCARE': 79, 'plan_name_G1K BB CDH-N BBTMPFEPB': 80, 'plan_name_UPMC': 81, 'plan_name_DST PHARMACY SOLUTIONS DIRECT': 82, 'plan_name_MEDICAL RX': 83, 'plan_name_Gainwell Ohio Medicaid': 84, 'plan_name_UHC ACIS ENROLLMENTS': 85, 'plan_name_BMC RETAIL MEDI': 86, 'plan_name_HP-OHIO': 87, 'plan_name_2023 Cigna MedD PDP Secure 6T-RTL': 88, 'plan_name_INDIANA MEDICAID': 89, 'plan_name_QL TMP Z 30 DAYS RETAIL': 90, 'plan_name_G1K BB CDH-N BBTMPFEPS': 91, 'plan_name_BMCHP MA MCD': 92, 'plan_name_COMMONWEALTH OF KENTUCKY AETNA': 93, 'plan_name_C23H1 BB CDH-N HPDMEDD': 94, 'plan_name_INGEN BB CDH-N IRXBAS918': 95, 'NoObs': 96}}, 'wgt': {}}\n"
     ]
    }
   ],
   "source": [
    "print(CaseObsName)\n",
    "random_int = random.randint(0, len(ds_casetkn))\n",
    "print(random_int)\n",
    "pprint(ds_casetkn[random_int])\n",
    "print(CO_vocab)"
   ]
  },
  {
   "cell_type": "code",
   "execution_count": 76,
   "id": "739bb79c",
   "metadata": {},
   "outputs": [
    {
     "data": {
      "text/plain": [
       "{'PID': 1009211,\n",
       " 'ObsDT': Timestamp('2023-09-01 19:40:45.612000'),\n",
       " 'PInvID': '1009211-001',\n",
       " 'RxID': '1009211-001-000',\n",
       " 'DT': Timestamp('2023-09-01 19:40:45.612000'),\n",
       " 'drug_name': 'Trulicity',\n",
       " 'tid': [2, 33, 65],\n",
       " 'wgt': [1.0, 1.0, 1.0]}"
      ]
     },
     "execution_count": 76,
     "metadata": {},
     "output_type": "execute_result"
    }
   ],
   "source": [
    "ds_casetkn[1]"
   ]
  },
  {
   "cell_type": "markdown",
   "id": "dba9f4c7",
   "metadata": {},
   "source": [
    "## Save"
   ]
  },
  {
   "cell_type": "code",
   "execution_count": 77,
   "id": "6b4a3151",
   "metadata": {},
   "outputs": [
    {
     "data": {
      "text/html": [
       "<div>\n",
       "<style scoped>\n",
       "    .dataframe tbody tr th:only-of-type {\n",
       "        vertical-align: middle;\n",
       "    }\n",
       "\n",
       "    .dataframe tbody tr th {\n",
       "        vertical-align: top;\n",
       "    }\n",
       "\n",
       "    .dataframe thead th {\n",
       "        text-align: right;\n",
       "    }\n",
       "</style>\n",
       "<table border=\"1\" class=\"dataframe\">\n",
       "  <thead>\n",
       "    <tr style=\"text-align: right;\">\n",
       "      <th></th>\n",
       "      <th>caseobs_idx_in_data</th>\n",
       "    </tr>\n",
       "    <tr>\n",
       "      <th>caseobs_id</th>\n",
       "      <th></th>\n",
       "    </tr>\n",
       "  </thead>\n",
       "  <tbody>\n",
       "  </tbody>\n",
       "</table>\n",
       "</div>"
      ],
      "text/plain": [
       "Empty DataFrame\n",
       "Columns: [caseobs_idx_in_data]\n",
       "Index: []"
      ]
     },
     "execution_count": 77,
     "metadata": {},
     "output_type": "execute_result"
    }
   ],
   "source": [
    "fn_caseobs_Phi.df_CO_info"
   ]
  },
  {
   "cell_type": "code",
   "execution_count": 78,
   "id": "f9a305c3",
   "metadata": {},
   "outputs": [
    {
     "data": {
      "text/plain": [
       "'../_Data/2-Data_CaseObs/ro.Rx-ObsPnt-InsCate_ct.AggMeanFeat/data'"
      ]
     },
     "execution_count": 78,
     "metadata": {},
     "output_type": "execute_result"
    }
   ],
   "source": [
    "CO_Folder_data = fn_caseobs_Phi.CO_Folder_data \n",
    "CO_Folder_data"
   ]
  },
  {
   "cell_type": "code",
   "execution_count": 79,
   "id": "a4b1c8a9",
   "metadata": {},
   "outputs": [
    {
     "name": "stderr",
     "output_type": "stream",
     "text": [
      "[INFO:2024-04-09 12:19:24,187:(observer.py@691 recfldtkn.observer)]: use_CO_from_disk is false and empty new_COs\n"
     ]
    }
   ],
   "source": [
    "fn_caseobs_Phi.save_new_COs_to_disk(CO_Folder_data)"
   ]
  },
  {
   "cell_type": "code",
   "execution_count": 80,
   "id": "67499595",
   "metadata": {},
   "outputs": [
    {
     "data": {
      "text/html": [
       "<div>\n",
       "<style scoped>\n",
       "    .dataframe tbody tr th:only-of-type {\n",
       "        vertical-align: middle;\n",
       "    }\n",
       "\n",
       "    .dataframe tbody tr th {\n",
       "        vertical-align: top;\n",
       "    }\n",
       "\n",
       "    .dataframe thead th {\n",
       "        text-align: right;\n",
       "    }\n",
       "</style>\n",
       "<table border=\"1\" class=\"dataframe\">\n",
       "  <thead>\n",
       "    <tr style=\"text-align: right;\">\n",
       "      <th></th>\n",
       "      <th>caseobs_idx_in_data</th>\n",
       "    </tr>\n",
       "    <tr>\n",
       "      <th>caseobs_id</th>\n",
       "      <th></th>\n",
       "    </tr>\n",
       "  </thead>\n",
       "  <tbody>\n",
       "  </tbody>\n",
       "</table>\n",
       "</div>"
      ],
      "text/plain": [
       "Empty DataFrame\n",
       "Columns: [caseobs_idx_in_data]\n",
       "Index: []"
      ]
     },
     "execution_count": 80,
     "metadata": {},
     "output_type": "execute_result"
    }
   ],
   "source": [
    "fn_caseobs_Phi.df_CO_info"
   ]
  },
  {
   "cell_type": "code",
   "execution_count": 81,
   "id": "b021c636",
   "metadata": {},
   "outputs": [],
   "source": [
    "fn_caseobs_Phi.ds_CO_data"
   ]
  },
  {
   "cell_type": "markdown",
   "id": "2dca9299",
   "metadata": {},
   "source": [
    "# Save Vocab"
   ]
  },
  {
   "cell_type": "code",
   "execution_count": 82,
   "id": "1224a15e",
   "metadata": {},
   "outputs": [
    {
     "data": {
      "text/plain": [
       "{'tid': {'tid2tkn': {0: 'rx_bin_unk',\n",
       "   1: 'rx_bin_minor',\n",
       "   2: 'rx_bin_4336.0',\n",
       "   3: 'rx_bin_610097.0',\n",
       "   4: 'rx_bin_610014.0',\n",
       "   5: 'rx_bin_3858.0',\n",
       "   6: 'rx_bin_15581.0',\n",
       "   7: 'rx_bin_610502.0',\n",
       "   8: 'rx_bin_610011.0',\n",
       "   9: 'rx_bin_11552.0',\n",
       "   10: 'rx_bin_610494.0',\n",
       "   11: 'rx_bin_610239.0',\n",
       "   12: 'rx_bin_610279.0',\n",
       "   13: 'rx_bin_20115.0',\n",
       "   14: 'rx_bin_20099.0',\n",
       "   15: 'rx_bin_17010.0',\n",
       "   16: 'rx_bin_24251.0',\n",
       "   17: 'rx_bin_22659.0',\n",
       "   18: 'rx_bin_12833.0',\n",
       "   19: 'rx_bin_4915.0',\n",
       "   20: 'rx_bin_19595.0',\n",
       "   21: 'rx_bin_1553.0',\n",
       "   22: 'rx_bin_20107.0',\n",
       "   23: 'rx_bin_610591.0',\n",
       "   24: 'rx_bin_610455.0',\n",
       "   25: 'rx_bin_610602.0',\n",
       "   26: 'rx_bin_23880.0',\n",
       "   27: 'rx_bin_10579.0',\n",
       "   28: 'rx_bin_18902.0',\n",
       "   29: 'rx_bin_610593.0',\n",
       "   30: 'rx_bin_12312.0',\n",
       "   31: 'rx_bin_3585.0',\n",
       "   32: 'rx_pcn_unk',\n",
       "   33: 'rx_pcn_minor',\n",
       "   34: 'rx_pcn_ADV',\n",
       "   35: 'rx_pcn_9999',\n",
       "   36: 'rx_pcn_MEDDADV',\n",
       "   37: 'rx_pcn_A4',\n",
       "   38: 'rx_pcn_03200000',\n",
       "   39: 'rx_pcn_MCAIDADV',\n",
       "   40: 'rx_pcn_00670000',\n",
       "   41: 'rx_pcn_IRX',\n",
       "   42: 'rx_pcn_IS',\n",
       "   43: 'rx_pcn_FEPRX',\n",
       "   44: 'rx_pcn_MA',\n",
       "   45: 'rx_pcn_MEDDAET',\n",
       "   46: 'rx_pcn_WG',\n",
       "   47: 'rx_pcn_CIMCARE',\n",
       "   48: 'rx_pcn_BCTX',\n",
       "   49: 'rx_pcn_OHRXPROD',\n",
       "   50: 'rx_pcn_6334225',\n",
       "   51: 'rx_pcn_MEDDPRIME',\n",
       "   52: 'rx_pcn_FLBC',\n",
       "   53: 'rx_pcn_TNM',\n",
       "   54: 'rx_pcn_ASPROD1',\n",
       "   55: 'rx_pcn_CTRXMEDD',\n",
       "   56: 'rx_pcn_KYPROD1',\n",
       "   57: 'rx_pcn_OKA01',\n",
       "   58: 'rx_pcn_P303018902',\n",
       "   59: 'rx_pcn_4343',\n",
       "   60: 'rx_pcn_1215',\n",
       "   61: 'rx_pcn_01940000',\n",
       "   62: 'rx_pcn_MASSPROD',\n",
       "   63: 'rx_pcn_PRX00621',\n",
       "   64: 'plan_name_unk',\n",
       "   65: 'plan_name_minor',\n",
       "   66: 'plan_name_Department of Defense',\n",
       "   67: 'plan_name_UHCMR MAPD AND MA/RDS',\n",
       "   68: 'plan_name_CVS|CAREMARK',\n",
       "   69: 'plan_name_IRXME BB CDH-Y IRXMDTSTR1',\n",
       "   70: 'plan_name_AETSS BB CDH-N AETMEDD23',\n",
       "   71: 'plan_name_E23A1 BB CDH-N HPDMEDD',\n",
       "   72: 'plan_name_UHCMR PDP',\n",
       "   73: 'plan_name_EXPRESS SCRIPTS',\n",
       "   74: 'plan_name_OPTUMRX',\n",
       "   75: 'plan_name_T14 L4Y 10001',\n",
       "   76: 'plan_name_AMD23 BB CDH-Y AETMEDD23',\n",
       "   77: 'plan_name_UNITEDHEALTHCARE DUAL COM',\n",
       "   78: 'plan_name_Careplus D Humana PDP',\n",
       "   79: 'plan_name_COMMONWEALTH OF KENTUCKY WELLCARE',\n",
       "   80: 'plan_name_G1K BB CDH-N BBTMPFEPB',\n",
       "   81: 'plan_name_UPMC',\n",
       "   82: 'plan_name_DST PHARMACY SOLUTIONS DIRECT',\n",
       "   83: 'plan_name_MEDICAL RX',\n",
       "   84: 'plan_name_Gainwell Ohio Medicaid',\n",
       "   85: 'plan_name_UHC ACIS ENROLLMENTS',\n",
       "   86: 'plan_name_BMC RETAIL MEDI',\n",
       "   87: 'plan_name_HP-OHIO',\n",
       "   88: 'plan_name_2023 Cigna MedD PDP Secure 6T-RTL',\n",
       "   89: 'plan_name_INDIANA MEDICAID',\n",
       "   90: 'plan_name_QL TMP Z 30 DAYS RETAIL',\n",
       "   91: 'plan_name_G1K BB CDH-N BBTMPFEPS',\n",
       "   92: 'plan_name_BMCHP MA MCD',\n",
       "   93: 'plan_name_COMMONWEALTH OF KENTUCKY AETNA',\n",
       "   94: 'plan_name_C23H1 BB CDH-N HPDMEDD',\n",
       "   95: 'plan_name_INGEN BB CDH-N IRXBAS918',\n",
       "   96: 'NoObs'},\n",
       "  'tkn2tid': {'rx_bin_unk': 0,\n",
       "   'rx_bin_minor': 1,\n",
       "   'rx_bin_4336.0': 2,\n",
       "   'rx_bin_610097.0': 3,\n",
       "   'rx_bin_610014.0': 4,\n",
       "   'rx_bin_3858.0': 5,\n",
       "   'rx_bin_15581.0': 6,\n",
       "   'rx_bin_610502.0': 7,\n",
       "   'rx_bin_610011.0': 8,\n",
       "   'rx_bin_11552.0': 9,\n",
       "   'rx_bin_610494.0': 10,\n",
       "   'rx_bin_610239.0': 11,\n",
       "   'rx_bin_610279.0': 12,\n",
       "   'rx_bin_20115.0': 13,\n",
       "   'rx_bin_20099.0': 14,\n",
       "   'rx_bin_17010.0': 15,\n",
       "   'rx_bin_24251.0': 16,\n",
       "   'rx_bin_22659.0': 17,\n",
       "   'rx_bin_12833.0': 18,\n",
       "   'rx_bin_4915.0': 19,\n",
       "   'rx_bin_19595.0': 20,\n",
       "   'rx_bin_1553.0': 21,\n",
       "   'rx_bin_20107.0': 22,\n",
       "   'rx_bin_610591.0': 23,\n",
       "   'rx_bin_610455.0': 24,\n",
       "   'rx_bin_610602.0': 25,\n",
       "   'rx_bin_23880.0': 26,\n",
       "   'rx_bin_10579.0': 27,\n",
       "   'rx_bin_18902.0': 28,\n",
       "   'rx_bin_610593.0': 29,\n",
       "   'rx_bin_12312.0': 30,\n",
       "   'rx_bin_3585.0': 31,\n",
       "   'rx_pcn_unk': 32,\n",
       "   'rx_pcn_minor': 33,\n",
       "   'rx_pcn_ADV': 34,\n",
       "   'rx_pcn_9999': 35,\n",
       "   'rx_pcn_MEDDADV': 36,\n",
       "   'rx_pcn_A4': 37,\n",
       "   'rx_pcn_03200000': 38,\n",
       "   'rx_pcn_MCAIDADV': 39,\n",
       "   'rx_pcn_00670000': 40,\n",
       "   'rx_pcn_IRX': 41,\n",
       "   'rx_pcn_IS': 42,\n",
       "   'rx_pcn_FEPRX': 43,\n",
       "   'rx_pcn_MA': 44,\n",
       "   'rx_pcn_MEDDAET': 45,\n",
       "   'rx_pcn_WG': 46,\n",
       "   'rx_pcn_CIMCARE': 47,\n",
       "   'rx_pcn_BCTX': 48,\n",
       "   'rx_pcn_OHRXPROD': 49,\n",
       "   'rx_pcn_6334225': 50,\n",
       "   'rx_pcn_MEDDPRIME': 51,\n",
       "   'rx_pcn_FLBC': 52,\n",
       "   'rx_pcn_TNM': 53,\n",
       "   'rx_pcn_ASPROD1': 54,\n",
       "   'rx_pcn_CTRXMEDD': 55,\n",
       "   'rx_pcn_KYPROD1': 56,\n",
       "   'rx_pcn_OKA01': 57,\n",
       "   'rx_pcn_P303018902': 58,\n",
       "   'rx_pcn_4343': 59,\n",
       "   'rx_pcn_1215': 60,\n",
       "   'rx_pcn_01940000': 61,\n",
       "   'rx_pcn_MASSPROD': 62,\n",
       "   'rx_pcn_PRX00621': 63,\n",
       "   'plan_name_unk': 64,\n",
       "   'plan_name_minor': 65,\n",
       "   'plan_name_Department of Defense': 66,\n",
       "   'plan_name_UHCMR MAPD AND MA/RDS': 67,\n",
       "   'plan_name_CVS|CAREMARK': 68,\n",
       "   'plan_name_IRXME BB CDH-Y IRXMDTSTR1': 69,\n",
       "   'plan_name_AETSS BB CDH-N AETMEDD23': 70,\n",
       "   'plan_name_E23A1 BB CDH-N HPDMEDD': 71,\n",
       "   'plan_name_UHCMR PDP': 72,\n",
       "   'plan_name_EXPRESS SCRIPTS': 73,\n",
       "   'plan_name_OPTUMRX': 74,\n",
       "   'plan_name_T14 L4Y 10001': 75,\n",
       "   'plan_name_AMD23 BB CDH-Y AETMEDD23': 76,\n",
       "   'plan_name_UNITEDHEALTHCARE DUAL COM': 77,\n",
       "   'plan_name_Careplus D Humana PDP': 78,\n",
       "   'plan_name_COMMONWEALTH OF KENTUCKY WELLCARE': 79,\n",
       "   'plan_name_G1K BB CDH-N BBTMPFEPB': 80,\n",
       "   'plan_name_UPMC': 81,\n",
       "   'plan_name_DST PHARMACY SOLUTIONS DIRECT': 82,\n",
       "   'plan_name_MEDICAL RX': 83,\n",
       "   'plan_name_Gainwell Ohio Medicaid': 84,\n",
       "   'plan_name_UHC ACIS ENROLLMENTS': 85,\n",
       "   'plan_name_BMC RETAIL MEDI': 86,\n",
       "   'plan_name_HP-OHIO': 87,\n",
       "   'plan_name_2023 Cigna MedD PDP Secure 6T-RTL': 88,\n",
       "   'plan_name_INDIANA MEDICAID': 89,\n",
       "   'plan_name_QL TMP Z 30 DAYS RETAIL': 90,\n",
       "   'plan_name_G1K BB CDH-N BBTMPFEPS': 91,\n",
       "   'plan_name_BMCHP MA MCD': 92,\n",
       "   'plan_name_COMMONWEALTH OF KENTUCKY AETNA': 93,\n",
       "   'plan_name_C23H1 BB CDH-N HPDMEDD': 94,\n",
       "   'plan_name_INGEN BB CDH-N IRXBAS918': 95,\n",
       "   'NoObs': 96}},\n",
       " 'wgt': {}}"
      ]
     },
     "execution_count": 82,
     "metadata": {},
     "output_type": "execute_result"
    }
   ],
   "source": [
    "CO_vocab = fn_caseobs_Phi.CO_vocab\n",
    "CO_vocab"
   ]
  },
  {
   "cell_type": "code",
   "execution_count": 83,
   "id": "c7bb5e52",
   "metadata": {},
   "outputs": [
    {
     "data": {
      "text/plain": [
       "'../_Data/2-Data_CaseObs/ro.Rx-ObsPnt-InsCate_ct.AggMeanFeat/vocab.p'"
      ]
     },
     "execution_count": 83,
     "metadata": {},
     "output_type": "execute_result"
    }
   ],
   "source": [
    "CO_Folder_vocab = fn_caseobs_Phi.CO_Folder_vocab\n",
    "CO_Folder_vocab"
   ]
  },
  {
   "cell_type": "code",
   "execution_count": 84,
   "metadata": {},
   "outputs": [
    {
     "data": {
      "text/html": [
       "<div>\n",
       "<style scoped>\n",
       "    .dataframe tbody tr th:only-of-type {\n",
       "        vertical-align: middle;\n",
       "    }\n",
       "\n",
       "    .dataframe tbody tr th {\n",
       "        vertical-align: top;\n",
       "    }\n",
       "\n",
       "    .dataframe thead th {\n",
       "        text-align: right;\n",
       "    }\n",
       "</style>\n",
       "<table border=\"1\" class=\"dataframe\">\n",
       "  <thead>\n",
       "    <tr style=\"text-align: right;\">\n",
       "      <th></th>\n",
       "      <th>ro.Rx-ObsPnt-InsCate_ct.AggMeanFeat</th>\n",
       "    </tr>\n",
       "  </thead>\n",
       "  <tbody>\n",
       "    <tr>\n",
       "      <th>tid</th>\n",
       "      <td>{'tid2tkn': {0: 'rx_bin_unk', 1: 'rx_bin_minor...</td>\n",
       "    </tr>\n",
       "    <tr>\n",
       "      <th>wgt</th>\n",
       "      <td>{}</td>\n",
       "    </tr>\n",
       "  </tbody>\n",
       "</table>\n",
       "</div>"
      ],
      "text/plain": [
       "                   ro.Rx-ObsPnt-InsCate_ct.AggMeanFeat\n",
       "tid  {'tid2tkn': {0: 'rx_bin_unk', 1: 'rx_bin_minor...\n",
       "wgt                                                 {}"
      ]
     },
     "execution_count": 84,
     "metadata": {},
     "output_type": "execute_result"
    }
   ],
   "source": [
    "df_Vocab = pd.DataFrame({CaseObsName: CO_vocab})\n",
    "df_Vocab.to_pickle(CO_Folder_vocab)\n",
    "df_Vocab"
   ]
  },
  {
   "cell_type": "code",
   "execution_count": null,
   "id": "2792e678",
   "metadata": {},
   "outputs": [],
   "source": []
  },
  {
   "cell_type": "code",
   "execution_count": null,
   "id": "aef5e715",
   "metadata": {},
   "outputs": [],
   "source": []
  }
 ],
 "metadata": {
  "kernelspec": {
   "display_name": "Python 3 (ipykernel)",
   "language": "python",
   "name": "python3"
  },
  "language_info": {
   "codemirror_mode": {
    "name": "ipython",
    "version": 3
   },
   "file_extension": ".py",
   "mimetype": "text/x-python",
   "name": "python",
   "nbconvert_exporter": "python",
   "pygments_lexer": "ipython3",
   "version": "3.11.7"
  },
  "toc-autonumbering": true
 },
 "nbformat": 4,
 "nbformat_minor": 5
}
