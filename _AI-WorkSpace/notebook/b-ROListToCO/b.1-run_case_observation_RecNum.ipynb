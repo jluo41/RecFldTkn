{
 "cells": [
  {
   "cell_type": "markdown",
   "id": "881d73c8-f12f-4a9b-a485-996a76289767",
   "metadata": {},
   "source": [
    "# Space"
   ]
  },
  {
   "cell_type": "code",
   "execution_count": 1,
   "id": "3bfe226b",
   "metadata": {},
   "outputs": [
    {
     "name": "stdout",
     "output_type": "stream",
     "text": [
      "/Users/floydluo/Library/CloudStorage/GoogleDrive-junjie.luo.jhu@gmail.com/Shared drives/CDHAI-WellDoc/2024-WellDocTest-SPACE/_WellDoc-AI-CGMGPT-WorkSpace\n",
      "{'CODE_FN': '../pipeline',\n",
      " 'CODE_RFT': '../pipeline',\n",
      " 'DATA_CaseFeat': '../_Data/3-Data_CaseFeat',\n",
      " 'DATA_CaseObs': '../_Data/2-Data_CaseObs',\n",
      " 'DATA_CaseSet': '../_Data/4-Data_CaseSet',\n",
      " 'DATA_RAW': '../_Data/0-Data_Raw',\n",
      " 'DATA_RFT': '../_Data/1-Data_RFT',\n",
      " 'DATA_TASK': 'Data_CGMGPT',\n",
      " 'MODEL_TASK': 'Model_CGMGPT',\n",
      " 'WORKSPACE_PATH': '/Users/floydluo/Library/CloudStorage/GoogleDrive-junjie.luo.jhu@gmail.com/Shared '\n",
      "                   'drives/CDHAI-WellDoc/2024-WellDocTest-SPACE/_WellDoc-AI-CGMGPT-WorkSpace'}\n"
     ]
    }
   ],
   "source": [
    "import os\n",
    "import sys \n",
    "import logging\n",
    "import random\n",
    "import pandas as pd \n",
    "from pprint import pprint \n",
    "from IPython.display import display, HTML\n",
    "\n",
    "# WorkSpace\n",
    "KEY = 'WorkSpace'; WORKSPACE_PATH = os.getcwd().split(KEY)[0] + KEY; print(WORKSPACE_PATH)\n",
    "os.chdir(WORKSPACE_PATH)\n",
    "sys.path.append(WORKSPACE_PATH)\n",
    "\n",
    "# Pipeline Space\n",
    "from proj_space import SPACE\n",
    "SPACE['WORKSPACE_PATH'] = WORKSPACE_PATH\n",
    "sys.path.append(SPACE['CODE_FN'])\n",
    "pprint(SPACE)\n",
    "\n",
    "# Available Packages\n",
    "import argparse\n",
    "import datasets\n",
    "import pandas as pd\n",
    "from datetime import datetime \n",
    "\n",
    "from recfldtkn.ckpd_obs import Ckpd_ObservationS\n",
    "from recfldtkn.configfn import load_cohort_args\n",
    "from recfldtkn.loadtools import load_module_variables, update_args_to_list\n",
    "from recfldtkn.observer import get_RecObsName_to_RecObsInfo, CaseObserverTransformer\n",
    "\n",
    "logger = logging.getLogger(__name__)\n",
    "recfldtkn_config_path = os.path.join(SPACE['CODE_FN'], 'config_recfldtkn/')\n"
   ]
  },
  {
   "cell_type": "markdown",
   "id": "d218a53e",
   "metadata": {},
   "source": [
    "# [Part 1] Get a Caseset: Case Examples"
   ]
  },
  {
   "cell_type": "markdown",
   "metadata": {},
   "source": [
    "## [Step 1]"
   ]
  },
  {
   "cell_type": "code",
   "execution_count": 8,
   "id": "7140db62",
   "metadata": {},
   "outputs": [
    {
     "data": {
      "text/plain": [
       "{'TriggerRecName': 'CGM5Min',\n",
       " 'case_id_columns': ['PID', 'ObsDT'],\n",
       " 'special_columns': ['PID', 'DT_s'],\n",
       " 'convert_TriggerEvent_to_Caseset': <function CGM5MinEntry.convert_TriggerEvent_to_Caseset(ds_rec, case_id_columns, special_columns, base_config)>}"
      ]
     },
     "execution_count": 8,
     "metadata": {},
     "output_type": "execute_result"
    }
   ],
   "source": [
    "from recfldtkn.loadtools import fetch_TriggerEvent_tools\n",
    "\n",
    "####################\n",
    "TriggerCaseMethod = 'CGM5MinEntry'\n",
    "####################\n",
    "\n",
    "Trigger_tools = fetch_TriggerEvent_tools(TriggerCaseMethod, SPACE)\n",
    "Trigger_tools "
   ]
  },
  {
   "cell_type": "code",
   "execution_count": 10,
   "id": "b7aa3287",
   "metadata": {},
   "outputs": [
    {
     "name": "stdout",
     "output_type": "stream",
     "text": [
      "{'CohortInfo': {'RawData2022_CGM': {'cohort_label': 1, 'cohort_name': 'RawData2022_CGM', 'FolderPath': '../_Data/0-Data_Raw/RawData2022_CGM/'}, 'RawData2023_CVSTDCAug': {'cohort_label': 2, 'cohort_name': 'RawData2023_CVSTDCAug', 'FolderPath': '../_Data/0-Data_Raw/RawData2023_CVSTDCAug/'}, 'RawData2023_CVSDeRxAug': {'cohort_label': 3, 'cohort_name': 'RawData2023_CVSDeRxAug', 'FolderPath': '../_Data/0-Data_Raw/RawData2023_CVSDeRxAug/'}}, 'RawRootID': 'PatientID', 'RootID': 'PID', 'RecName': 'PRawRecNum', 'recattr_pyfolder': '../pipeline/fn_recattr/', 'fldtkn_pyfolder': '../pipeline/fn_fldtkn/', 'humanrec_pyfolder': '../pipeline/fn_humanrec/', 'inference_pyfolder': '../pipeline/fn_inference/', 'trigger_pyfolder': '../pipeline/fn_trigger/', 'RecName_to_RFT_GROUP_SIZE': {'CGM5Min': 100, 'Default': 5000}, 'RecName_to_RFT_idx_group_size': {'CGM5Min': 100, 'BGManual': 100, 'Default': 10000}, 'RecName_to_RFT_usebucket': {'CGM5Min': True, 'Default': False}, 'RootIDLength': 6, 'recfldtkn_config_path': '../pipeline/config_recfldtkn/', 'SPACE': {'DATA_RAW': '../_Data/0-Data_Raw', 'DATA_RFT': '../_Data/1-Data_RFT', 'DATA_CaseObs': '../_Data/2-Data_CaseObs', 'DATA_CaseFeat': '../_Data/3-Data_CaseFeat', 'DATA_CaseSet': '../_Data/4-Data_CaseSet', 'CODE_FN': '../pipeline', 'CODE_RFT': '../pipeline', 'DATA_TASK': 'Data_CGMGPT', 'MODEL_TASK': 'Model_CGMGPT', 'WORKSPACE_PATH': '/Users/floydluo/Library/CloudStorage/GoogleDrive-junjie.luo.jhu@gmail.com/Shared drives/CDHAI-WellDoc/2024-WellDocTest-SPACE/_WellDoc-AI-CGMGPT-WorkSpace'}, 'pypath': '../pipeline/fn_humanrec/humanrec.py', 'Ckpd_ObservationS': {'InObs': {'CkpdName': 'InCase', 'DistStartToPredDT': -0.01, 'DistEndToPredDT': 0.01, 'TimeUnit': 'min', 'StartIdx5Min': 0, 'EndIdx5Min': 0}, 'Bf24H': {'CkpdName': 'Bf24H', 'DistStartToPredDT': -24, 'DistEndToPredDT': 0.01, 'TimeUnit': 'H', 'StartIdx5Min': -288, 'EndIdx5Min': 0}, 'Bf1M': {'CkpdName': 'Bf1M', 'DistStartToPredDT': -720, 'DistEndToPredDT': 0.01, 'TimeUnit': 'H', 'StartIdx5Min': -8640, 'EndIdx5Min': 0}, 'Bf1Y': {'CkpdName': 'Bf1Y', 'DistStartToPredDT': -365, 'DistEndToPredDT': -1e-06, 'TimeUnit': 'D', 'StartIdx5Min': -105120, 'EndIdx5Min': -1}, 'Bf1YIn': {'CkpdName': 'Bf1Y', 'DistStartToPredDT': -365, 'DistEndToPredDT': 1e-06, 'TimeUnit': 'D', 'StartIdx5Min': -105120, 'EndIdx5Min': 1}, 'Bf10Y': {'CkpdName': 'Bf10Y', 'DistStartToPredDT': -3650, 'DistEndToPredDT': -1e-06, 'TimeUnit': 'D', 'StartIdx5Min': -1051200, 'EndIdx5Min': 1}, 'Af2H': {'CkpdName': 'Af2H', 'DistStartToPredDT': 1, 'DistEndToPredDT': 121, 'TimeUnit': 'min', 'StartIdx5Min': 1, 'EndIdx5Min': 24}, 'Af1W': {'CkpdName': 'Af1W', 'DistStartToPredDT': 0.0001, 'DistEndToPredDT': 7, 'TimeUnit': 'D', 'StartIdx5Min': 1, 'EndIdx5Min': 2016}, 'Af1Y': {'CkpdName': 'Af1Y', 'DistStartToPredDT': 0.0001, 'DistEndToPredDT': 365, 'TimeUnit': 'D', 'StartIdx5Min': 1, 'EndIdx5Min': 105120}, 'PntAf1Y2M': {'CkpdName': 'PntAf1Y2M', 'DistStartToPredDT': 305, 'DistEndToPredDT': 425, 'TimeUnit': 'D', 'StartIdx5Min': 87840, 'EndIdx5Min': 122400}, 'PntAf1Y3M': {'CkpdName': 'PntAf1Y2M', 'DistStartToPredDT': 275, 'DistEndToPredDT': 455, 'TimeUnit': 'D', 'StartIdx5Min': 79200, 'EndIdx5Min': 131040}}}\n",
      "../_Data/4-Data_CaseSet/CGM5MinEntry.p\n"
     ]
    },
    {
     "data": {
      "text/plain": [
       "Dataset({\n",
       "    features: ['PID', 'ObsDT'],\n",
       "    num_rows: 100\n",
       "})"
      ]
     },
     "execution_count": 10,
     "metadata": {},
     "output_type": "execute_result"
    }
   ],
   "source": [
    "##################################\n",
    "CaseSetName = TriggerCaseMethod\n",
    "case_id_columns = Trigger_tools['case_id_columns']\n",
    "special_columns = Trigger_tools['special_columns']\n",
    "##################################\n",
    "\n",
    "TriggerCasePath = os.path.join(SPACE['DATA_CaseSet'], f'{CaseSetName}.p')\n",
    "cohort_args = load_cohort_args(recfldtkn_config_path, SPACE)\n",
    "cohort_args['Ckpd_ObservationS'] = Ckpd_ObservationS\n",
    "print(cohort_args)\n",
    "print(TriggerCasePath)\n",
    "\n",
    "df_case = pd.read_pickle(TriggerCasePath) # (1000)\n",
    "df_case = df_case.sample(100, random_state=0).reset_index(drop=True)\n",
    "ds_case = datasets.Dataset.from_pandas(df_case)\n",
    "ds_case"
   ]
  },
  {
   "cell_type": "markdown",
   "id": "7a80d013",
   "metadata": {},
   "source": [
    "\n",
    "## [Step 2] RO: Record Observation & CasePhi\n"
   ]
  },
  {
   "cell_type": "code",
   "execution_count": 11,
   "id": "3cad5623",
   "metadata": {},
   "outputs": [],
   "source": [
    "###########################\n",
    "ROName_List = ['CGM5Min-Bf24H']\n",
    "name_CasePhi = 'RecNum'\n",
    "###########################"
   ]
  },
  {
   "cell_type": "code",
   "execution_count": 12,
   "id": "bb6339df",
   "metadata": {},
   "outputs": [
    {
     "name": "stdout",
     "output_type": "stream",
     "text": [
      "ro.CGM5Min-Bf24H_ct.RecNum\n"
     ]
    }
   ],
   "source": [
    "from recfldtkn.obsname import convert_RONameList_to_COName\n",
    "\n",
    "CaseObsName = convert_RONameList_to_COName(ROName_List, name_CasePhi)\n",
    "print(CaseObsName)"
   ]
  },
  {
   "cell_type": "code",
   "execution_count": 13,
   "id": "aa00899c",
   "metadata": {},
   "outputs": [
    {
     "name": "stdout",
     "output_type": "stream",
     "text": [
      "../_Data/2-Data_CaseObs/ro.CGM5Min-Bf24H_ct.RecNum\n"
     ]
    }
   ],
   "source": [
    "# part of fetch_caseobs_Phi_tools\n",
    "CO_Folder = os.path.join(SPACE['DATA_CaseObs'], CaseObsName)\n",
    "if not os.path.exists(CO_Folder): os.makedirs(CO_Folder)\n",
    "print(CO_Folder)"
   ]
  },
  {
   "cell_type": "markdown",
   "metadata": {},
   "source": [
    "# [Part 2] Tools for ds_case_obs"
   ]
  },
  {
   "cell_type": "markdown",
   "id": "a56c2a76",
   "metadata": {},
   "source": [
    "## [Step 1] Prepare examples"
   ]
  },
  {
   "cell_type": "code",
   "execution_count": 14,
   "id": "d341d32a",
   "metadata": {},
   "outputs": [
    {
     "name": "stdout",
     "output_type": "stream",
     "text": [
      "{'PID': [1002840, 1002580, 1004670, 1003564, 1003011], 'ObsDT': [Timestamp('2021-12-07 13:50:00'), Timestamp('2021-11-10 12:15:00'), Timestamp('2021-11-13 06:40:00'), Timestamp('2021-09-15 13:35:00'), Timestamp('2021-10-17 17:15:00')]}\n"
     ]
    }
   ],
   "source": [
    "case_examples = ds_case[:5]\n",
    "print(case_examples)"
   ]
  },
  {
   "cell_type": "code",
   "execution_count": 15,
   "id": "1a140aa9",
   "metadata": {},
   "outputs": [
    {
     "name": "stdout",
     "output_type": "stream",
     "text": [
      "{0: {'PID': 1002840, 'ObsDT': Timestamp('2021-12-07 13:50:00')},\n",
      " 1: {'PID': 1002580, 'ObsDT': Timestamp('2021-11-10 12:15:00')},\n",
      " 2: {'PID': 1004670, 'ObsDT': Timestamp('2021-11-13 06:40:00')},\n",
      " 3: {'PID': 1003564, 'ObsDT': Timestamp('2021-09-15 13:35:00')},\n",
      " 4: {'PID': 1003011, 'ObsDT': Timestamp('2021-10-17 17:15:00')}}\n"
     ]
    }
   ],
   "source": [
    "length = len(case_examples[list(case_examples.keys())[0]])\n",
    "case_examples_list = [{k: v[i] for k, v in case_examples.items()} for i in range(length)]\n",
    "idx_to_examples = {i: case_examples_list[i] for i in range(length)}\n",
    "pprint(idx_to_examples, sort_dicts=False)"
   ]
  },
  {
   "cell_type": "code",
   "execution_count": 16,
   "id": "f4515d69",
   "metadata": {},
   "outputs": [
    {
     "data": {
      "text/plain": [
       "{'PID': 1002840, 'ObsDT': Timestamp('2021-12-07 13:50:00')}"
      ]
     },
     "execution_count": 16,
     "metadata": {},
     "output_type": "execute_result"
    }
   ],
   "source": [
    "case_example = idx_to_examples[0]\n",
    "case_example"
   ]
  },
  {
   "cell_type": "markdown",
   "id": "899b14be",
   "metadata": {},
   "source": [
    "## [Step 2] get_caseobs_id"
   ]
  },
  {
   "cell_type": "code",
   "execution_count": 17,
   "id": "1e8e2708",
   "metadata": {},
   "outputs": [],
   "source": [
    "# InObs - Rx - RecNum = 10\n",
    "\n",
    "# CO_id\n",
    "# CO: RO_RecNUm\n",
    "# CO: PZipInfo COid # PID\n",
    "# CO^{recnum}, CO^{futeduegm}\n",
    "\n",
    "# {'PID': 1020788,\n",
    "#  'ObsDT': Timestamp('2023-09-06 17:41:01.757000'),\n",
    "#  'PInvID': '1020788-000',\n",
    "#  'RxID': '1020788-000-000'} # <--- edu future engagement\n",
    "\n",
    "# {'PID': 1020788,\n",
    "#  'ObsDT': Timestamp('2023-09-06 17:41:01.757000'),\n",
    "#  'PInvID': '1020788-000',\n",
    "#  'RxID': '1020788-000-001'} # <--- edu future engagement"
   ]
  },
  {
   "cell_type": "code",
   "execution_count": 18,
   "id": "e9c2b544",
   "metadata": {},
   "outputs": [],
   "source": [
    "import inspect\n",
    "#################################################\n",
    "def get_CO_id(case_example, CaseObsName):\n",
    "    PIDValue = case_example['PID']\n",
    "    ObsDTValue = case_example['ObsDT'].isoformat()\n",
    "    return f'{PIDValue}&{ObsDTValue}'\n",
    "\n",
    "get_CO_id.fn_string = inspect.getsource(get_CO_id)\n",
    "#################################################"
   ]
  },
  {
   "cell_type": "code",
   "execution_count": 19,
   "id": "ac158e3b",
   "metadata": {},
   "outputs": [
    {
     "data": {
      "text/plain": [
       "'1002840&2021-12-07T13:50:00'"
      ]
     },
     "execution_count": 19,
     "metadata": {},
     "output_type": "execute_result"
    }
   ],
   "source": [
    "caseobs_id = get_CO_id(case_example, CaseObsName)\n",
    "caseobs_id # CO_id"
   ]
  },
  {
   "cell_type": "markdown",
   "id": "b2f1a72b",
   "metadata": {},
   "source": [
    "\n",
    "\n",
    "## [Step 3] RO List and CasePhi"
   ]
  },
  {
   "cell_type": "code",
   "execution_count": 20,
   "id": "e4bea33f",
   "metadata": {},
   "outputs": [
    {
     "data": {
      "text/plain": [
       "'RecNum'"
      ]
     },
     "execution_count": 20,
     "metadata": {},
     "output_type": "execute_result"
    }
   ],
   "source": [
    "name_CasePhi "
   ]
  },
  {
   "cell_type": "code",
   "execution_count": 21,
   "id": "206a0628",
   "metadata": {},
   "outputs": [],
   "source": [
    "## we need to prepare these five arguments.\n",
    "# CaseTkn     # <------- we have this.\n",
    "# cohort_args # <------- we have this.\n",
    "\n",
    "# RecObs_Name \n",
    "# rec_args\n",
    "# column_names # attribute name of R^recordname"
   ]
  },
  {
   "cell_type": "code",
   "execution_count": 22,
   "id": "bad0cfc2",
   "metadata": {},
   "outputs": [
    {
     "name": "stdout",
     "output_type": "stream",
     "text": [
      "['CGM5Min-Bf24H']\n",
      "CGM5Min-Bf24H\n"
     ]
    }
   ],
   "source": [
    "######### RecObs_Name\n",
    "print(ROName_List) # RO_List\n",
    "# Let's focus on one RO\n",
    "ROName = ROName_List[0]\n",
    "print(ROName)"
   ]
  },
  {
   "cell_type": "code",
   "execution_count": 23,
   "id": "60aca5da",
   "metadata": {},
   "outputs": [],
   "source": [
    "# RO = 'Rx-Bf2M-InsCate'\n",
    "# RO = 'Rx-Bf2M'\n",
    "# RO = 'P-Zip3DemoNume'"
   ]
  },
  {
   "cell_type": "markdown",
   "metadata": {},
   "source": [
    "## [Step4] RO Information"
   ]
  },
  {
   "cell_type": "code",
   "execution_count": 24,
   "id": "e7ecf801",
   "metadata": {},
   "outputs": [
    {
     "name": "stdout",
     "output_type": "stream",
     "text": [
      "CGM5Min Bf24H None\n"
     ]
    }
   ],
   "source": [
    "# decompose RO to RecName, CkpdName, FldName (small phi)\n",
    "from recfldtkn.obsname import parse_RecObsName\n",
    "\n",
    "d = parse_RecObsName(ROName)\n",
    "RecName = d['RecName']\n",
    "CkpdName = d['CkpdName']\n",
    "FldName = d['FldName']\n",
    "print(RecName, CkpdName, FldName)"
   ]
  },
  {
   "cell_type": "code",
   "execution_count": 25,
   "id": "8ab84af9",
   "metadata": {},
   "outputs": [
    {
     "name": "stdout",
     "output_type": "stream",
     "text": [
      "CGM5Min\n"
     ]
    },
    {
     "data": {
      "text/plain": [
       "['CohortInfo',\n",
       " 'RecName',\n",
       " 'RecID',\n",
       " 'RecIDChain',\n",
       " 'DTCols',\n",
       " 'RecDT',\n",
       " 'ParentRecName',\n",
       " 'attr_cols',\n",
       " 'FldTknInfo',\n",
       " 'RFT_GROUP_SIZE',\n",
       " 'idx_group_size',\n",
       " 'usebucket',\n",
       " 'GROUP_SIZE',\n",
       " 'pypath',\n",
       " 'recfldtkn_config_path',\n",
       " 'yaml_file_path']"
      ]
     },
     "execution_count": 25,
     "metadata": {},
     "output_type": "execute_result"
    }
   ],
   "source": [
    "# load all information about the R^record_name. \n",
    "from recfldtkn.configfn import load_record_args\n",
    "\n",
    "print(RecName)\n",
    "rec_args = load_record_args(RecName, cohort_args)\n",
    "[i for i in rec_args]"
   ]
  },
  {
   "cell_type": "markdown",
   "metadata": {},
   "source": [
    "## [Step 5] Load ds_rec"
   ]
  },
  {
   "cell_type": "code",
   "execution_count": 26,
   "id": "d64f4802",
   "metadata": {},
   "outputs": [],
   "source": [
    "from recfldtkn.loadtools import load_ds_rec_and_info\n",
    "\n",
    "ds_rec, ds_rec_info = load_ds_rec_and_info(RecName, cohort_args)\n",
    "# R^Rx\n",
    "# ROdf # Rx-Bf2M (i, t, Bf2M)"
   ]
  },
  {
   "cell_type": "code",
   "execution_count": 27,
   "id": "4cb89109",
   "metadata": {},
   "outputs": [
    {
     "data": {
      "text/plain": [
       "['PID',\n",
       " 'PatientID',\n",
       " 'CGM5MinID',\n",
       " 'DT_s',\n",
       " 'BGValue',\n",
       " 'CGM5Min-N2Cin1Tkn_wgt',\n",
       " 'CGM5Min-N2Cin1Tkn_tknidx']"
      ]
     },
     "execution_count": 27,
     "metadata": {},
     "output_type": "execute_result"
    }
   ],
   "source": [
    "######### column_names (or we can all it attribute columns)\n",
    "column_names = ds_rec.column_names # attr_columns + phi_columns\n",
    "column_names\n",
    "# ROdf_ij --(Phi: RecNum)-> COdf_ij "
   ]
  },
  {
   "cell_type": "markdown",
   "metadata": {},
   "source": [
    "## [Step 6] get_selected_columns (attr + phi) from ds_rec"
   ]
  },
  {
   "cell_type": "code",
   "execution_count": 28,
   "id": "96122aa4",
   "metadata": {},
   "outputs": [],
   "source": [
    "###############################\n",
    "def get_selected_columns(RecObs_Name, column_names, cohort_args, rec_args, CaseTkn):\n",
    "    # RecName = RecObs_Name.split('-')[0]\n",
    "    base_columns = [cohort_args['RootID'], rec_args['RecID'], rec_args['RecDT']]\n",
    "    return base_columns\n",
    "\n",
    "get_selected_columns.fn_string = inspect.getsource(get_selected_columns)\n",
    "###############################"
   ]
  },
  {
   "cell_type": "code",
   "execution_count": 29,
   "id": "d79b86cd",
   "metadata": {},
   "outputs": [
    {
     "data": {
      "text/plain": [
       "['PID', 'CGM5MinID', 'DT_s']"
      ]
     },
     "execution_count": 29,
     "metadata": {},
     "output_type": "execute_result"
    }
   ],
   "source": [
    "# big question here\n",
    "# if small phi is not applied in the record level\n",
    "# how do we deploy the tools of small phi within this process?\n",
    "get_selected_columns(ROName, column_names, cohort_args, rec_args, name_CasePhi)"
   ]
  },
  {
   "cell_type": "code",
   "execution_count": 30,
   "id": "bf587b85",
   "metadata": {},
   "outputs": [
    {
     "name": "stdout",
     "output_type": "stream",
     "text": [
      "['CGM5Min-Bf24H']\n",
      "RecNum\n",
      "<function get_selected_columns at 0x7fdcb10a7700>\n"
     ]
    }
   ],
   "source": [
    "print(ROName_List)\n",
    "print(name_CasePhi)\n",
    "print(get_selected_columns)"
   ]
  },
  {
   "cell_type": "code",
   "execution_count": 31,
   "id": "e26e9f62",
   "metadata": {},
   "outputs": [],
   "source": [
    "# RecObsName_to_RecObsInfo # RO_to_ROinfo\n",
    "\n",
    "from recfldtkn.observer import get_RecObsName_to_RecObsInfo\n",
    "\n",
    "record_to_ds_rec = {}        # set this to empty dictionary, then we will load data from disk\n",
    "record_to_ds_rec_info = {}   # set this to empty dictionary, then we will load data from disk\n",
    "ROName_to_ROInfo = get_RecObsName_to_RecObsInfo(ROName_List, \n",
    "                                                name_CasePhi, \n",
    "                                                get_selected_columns,\n",
    "                                                cohort_args, \n",
    "                                                cohort_args['Ckpd_ObservationS'], \n",
    "                                                record_to_ds_rec, \n",
    "                                                record_to_ds_rec_info)\n",
    "    \n",
    "ROName = ROName_List[0] # Rx-Bf2M  \n",
    "ROInfo = ROName_to_ROInfo[ROName] # RxInfo + R^Rx (with necessary columns) + Ckpd + FldTkn (phi)"
   ]
  },
  {
   "cell_type": "code",
   "execution_count": 32,
   "id": "3e1f08ca",
   "metadata": {},
   "outputs": [
    {
     "data": {
      "text/plain": [
       "['rec_args',\n",
       " 'RecName',\n",
       " 'CkpdName',\n",
       " 'CkpdInfo',\n",
       " 'FldName',\n",
       " 'FldTknName',\n",
       " 'FldIdx2Tkn',\n",
       " 'fldtkn_args',\n",
       " 'fld_tokenizer_fn',\n",
       " 'run_fldtkn_on_the_fly',\n",
       " 'ds_rec',\n",
       " 'df_rec_info']"
      ]
     },
     "execution_count": 32,
     "metadata": {},
     "output_type": "execute_result"
    }
   ],
   "source": [
    "[i for i in ROInfo]\n",
    "# pprint(ROInfo)"
   ]
  },
  {
   "cell_type": "code",
   "execution_count": 33,
   "id": "1e859481",
   "metadata": {},
   "outputs": [
    {
     "data": {
      "text/plain": [
       "Dataset({\n",
       "    features: ['PID', 'CGM5MinID', 'DT_s'],\n",
       "    num_rows: 21215912\n",
       "})"
      ]
     },
     "execution_count": 33,
     "metadata": {},
     "output_type": "execute_result"
    }
   ],
   "source": [
    "ROInfo['ds_rec'] # get_selected_columns"
   ]
  },
  {
   "cell_type": "markdown",
   "metadata": {},
   "source": [
    "## [Step 7] get_CO_vocab"
   ]
  },
  {
   "cell_type": "code",
   "execution_count": 34,
   "id": "8cc4153d",
   "metadata": {},
   "outputs": [],
   "source": [
    "import inspect \n",
    "\n",
    "######################################\n",
    "def get_CO_vocab(ROName_to_ROInfo):\n",
    "    # phi_list\n",
    "    RecFldName_list = list(set([RecObsInfo['RecName'] + '-' +RecObsInfo['FldName'] \n",
    "                                for RecObsName, RecObsInfo in ROName_to_ROInfo.items()\n",
    "                                if RecObsInfo['FldName'] is not None ]\n",
    "                                ))\n",
    "    \n",
    "    # print('RecFldName_list----->', RecFldName_list)\n",
    "    # for current version: for any Phi, we only process one or zero phi. \n",
    "    assert len(RecFldName_list) <= 1\n",
    "\n",
    "    ############################\n",
    "    idx2tkn = ['[UNK]', 'recnum', 'recspan']\n",
    "    ############################\n",
    "\n",
    "    tid2tkn = {tid: tkn for tid, tkn in enumerate(idx2tkn)}\n",
    "    tkn2tid = {tkn: tid for tid, tkn in tid2tkn.items()}\n",
    "    CO_vocab = {}\n",
    "    CO_vocab['tid'] = {'tid2tkn': tid2tkn, 'tkn2tid': tkn2tid}\n",
    "    CO_vocab['wgt'] = {}\n",
    "    # SeqType_List = ['tid', 'wgt']\n",
    "    return CO_vocab\n",
    "######################################\n",
    "\n",
    "get_CO_vocab.fn_string = inspect.getsource(get_CO_vocab)\n"
   ]
  },
  {
   "cell_type": "code",
   "execution_count": 35,
   "id": "5f0067d5",
   "metadata": {},
   "outputs": [
    {
     "name": "stdout",
     "output_type": "stream",
     "text": [
      "{'tid': {'tid2tkn': {0: '[UNK]', 1: 'recnum', 2: 'recspan'},\n",
      "         'tkn2tid': {'[UNK]': 0, 'recnum': 1, 'recspan': 2}},\n",
      " 'wgt': {}}\n"
     ]
    }
   ],
   "source": [
    "CO_vocab = get_CO_vocab(ROName_to_ROInfo)\n",
    "pprint(CO_vocab, sort_dicts=False)"
   ]
  },
  {
   "cell_type": "markdown",
   "id": "4701e452",
   "metadata": {},
   "source": [
    "\n",
    "## [Step 8] Fetch ds_rec"
   ]
  },
  {
   "cell_type": "code",
   "execution_count": 36,
   "id": "4666ba8a",
   "metadata": {},
   "outputs": [
    {
     "data": {
      "text/plain": [
       "{'PID': 1003011, 'ObsDT': Timestamp('2021-10-17 17:15:00')}"
      ]
     },
     "execution_count": 36,
     "metadata": {},
     "output_type": "execute_result"
    }
   ],
   "source": [
    "case_example = idx_to_examples[4]\n",
    "case_example"
   ]
  },
  {
   "cell_type": "code",
   "execution_count": 37,
   "id": "87d8d8f3",
   "metadata": {},
   "outputs": [
    {
     "data": {
      "text/plain": [
       "'CGM5Min-Bf24H'"
      ]
     },
     "execution_count": 37,
     "metadata": {},
     "output_type": "execute_result"
    }
   ],
   "source": [
    "ROName"
   ]
  },
  {
   "cell_type": "code",
   "execution_count": 38,
   "id": "e8144f36",
   "metadata": {},
   "outputs": [
    {
     "name": "stdout",
     "output_type": "stream",
     "text": [
      "{0: {'PID': 1002840, 'ObsDT': Timestamp('2021-12-07 13:50:00')},\n",
      " 1: {'PID': 1002580, 'ObsDT': Timestamp('2021-11-10 12:15:00')},\n",
      " 2: {'PID': 1004670, 'ObsDT': Timestamp('2021-11-13 06:40:00')},\n",
      " 3: {'PID': 1003564, 'ObsDT': Timestamp('2021-09-15 13:35:00')},\n",
      " 4: {'PID': 1003011, 'ObsDT': Timestamp('2021-10-17 17:15:00')}}\n"
     ]
    }
   ],
   "source": [
    "pprint(idx_to_examples, sort_dicts=False)"
   ]
  },
  {
   "cell_type": "code",
   "execution_count": 39,
   "id": "503bbbae",
   "metadata": {},
   "outputs": [
    {
     "name": "stdout",
     "output_type": "stream",
     "text": [
      "CGM5Min-Bf24H : ['rec_args', 'RecName', 'CkpdName', 'CkpdInfo', 'FldName', 'FldTknName', 'FldIdx2Tkn', 'fldtkn_args', 'fld_tokenizer_fn', 'run_fldtkn_on_the_fly', 'ds_rec', 'df_rec_info']\n"
     ]
    }
   ],
   "source": [
    "for ROName, ROInfo in ROName_to_ROInfo.items():\n",
    "    print(ROName, ':', [i for i in ROInfo])"
   ]
  },
  {
   "cell_type": "code",
   "execution_count": 40,
   "id": "8733c8d5",
   "metadata": {},
   "outputs": [
    {
     "name": "stdout",
     "output_type": "stream",
     "text": [
      "============ CGM5Min ============\n",
      "{1002580: Dataset({\n",
      "    features: ['PID', 'CGM5MinID', 'DT_s'],\n",
      "    num_rows: 35212\n",
      "}),\n",
      " 1002840: Dataset({\n",
      "    features: ['PID', 'CGM5MinID', 'DT_s'],\n",
      "    num_rows: 47367\n",
      "}),\n",
      " 1003011: Dataset({\n",
      "    features: ['PID', 'CGM5MinID', 'DT_s'],\n",
      "    num_rows: 51200\n",
      "}),\n",
      " 1003564: Dataset({\n",
      "    features: ['PID', 'CGM5MinID', 'DT_s'],\n",
      "    num_rows: 39938\n",
      "}),\n",
      " 1004670: Dataset({\n",
      "    features: ['PID', 'CGM5MinID', 'DT_s'],\n",
      "    num_rows: 20889\n",
      "})}\n"
     ]
    }
   ],
   "source": [
    "# RO_to_ROdf: RecObsName_to_RecObsDS\n",
    "from recfldtkn.observer import CaseObserverTransformer\n",
    "\n",
    "get_Record_P = CaseObserverTransformer.get_Record_P\n",
    "RecName_to_REC_P = get_Record_P(idx_to_examples, ROName_to_ROInfo)\n",
    "for RecName, REC_P in RecName_to_REC_P.items():\n",
    "    print(f'============ {RecName} ============')\n",
    "    pprint(REC_P)"
   ]
  },
  {
   "cell_type": "markdown",
   "metadata": {},
   "source": [
    "## [Step 9] Fetch ROdf: $R_i^{recname}$"
   ]
  },
  {
   "cell_type": "code",
   "execution_count": 41,
   "id": "7ba386ac",
   "metadata": {},
   "outputs": [
    {
     "name": "stdout",
     "output_type": "stream",
     "text": [
      "\n",
      "====================\n",
      "idx: 0\n",
      "case: {'PID': 1002840, 'ObsDT': Timestamp('2021-12-07 13:50:00')}\n",
      "ROdf: {'CGM5Min-Bf24H': Dataset({\n",
      "    features: ['PID', 'CGM5MinID', 'DT_s'],\n",
      "    num_rows: 289\n",
      "})}\n",
      "====================\n",
      "\n",
      "====================\n",
      "idx: 1\n",
      "case: {'PID': 1002580, 'ObsDT': Timestamp('2021-11-10 12:15:00')}\n",
      "ROdf: {'CGM5Min-Bf24H': Dataset({\n",
      "    features: ['PID', 'CGM5MinID', 'DT_s'],\n",
      "    num_rows: 289\n",
      "})}\n",
      "====================\n",
      "\n",
      "====================\n",
      "idx: 2\n",
      "case: {'PID': 1004670, 'ObsDT': Timestamp('2021-11-13 06:40:00')}\n",
      "ROdf: {'CGM5Min-Bf24H': Dataset({\n",
      "    features: ['PID', 'CGM5MinID', 'DT_s'],\n",
      "    num_rows: 252\n",
      "})}\n",
      "====================\n",
      "\n",
      "====================\n",
      "idx: 3\n",
      "case: {'PID': 1003564, 'ObsDT': Timestamp('2021-09-15 13:35:00')}\n",
      "ROdf: {'CGM5Min-Bf24H': Dataset({\n",
      "    features: ['PID', 'CGM5MinID', 'DT_s'],\n",
      "    num_rows: 289\n",
      "})}\n",
      "====================\n",
      "\n",
      "====================\n",
      "idx: 4\n",
      "case: {'PID': 1003011, 'ObsDT': Timestamp('2021-10-17 17:15:00')}\n",
      "ROdf: {'CGM5Min-Bf24H': Dataset({\n",
      "    features: ['PID', 'CGM5MinID', 'DT_s'],\n",
      "    num_rows: 289\n",
      "})}\n",
      "====================\n"
     ]
    }
   ],
   "source": [
    "get_idx_to_RecObsName_to_RecObsDS = CaseObserverTransformer.get_idx_to_RecObsName_to_RecObsDS\n",
    "idx_to_ROName_to_ROds = get_idx_to_RecObsName_to_RecObsDS(idx_to_examples, ROName_to_ROInfo, RecName_to_REC_P)\n",
    "\n",
    "for idx, case in idx_to_examples.items():\n",
    "    print('\\n====================')\n",
    "    print('idx:', idx)\n",
    "    print('case:', case)\n",
    "    print('ROdf:', idx_to_ROName_to_ROds[idx]) # R_i^{RecNum, Ckpd}\n",
    "    print('====================')"
   ]
  },
  {
   "cell_type": "code",
   "execution_count": 42,
   "id": "c643c436",
   "metadata": {},
   "outputs": [
    {
     "data": {
      "text/plain": [
       "['CGM5Min-Bf24H']"
      ]
     },
     "execution_count": 42,
     "metadata": {},
     "output_type": "execute_result"
    }
   ],
   "source": [
    "[i for i in ROName_to_ROInfo]"
   ]
  },
  {
   "cell_type": "code",
   "execution_count": 43,
   "id": "6a3cb7c6",
   "metadata": {},
   "outputs": [
    {
     "data": {
      "text/plain": [
       "{'tid': {'tid2tkn': {0: '[UNK]', 1: 'recnum', 2: 'recspan'},\n",
       "  'tkn2tid': {'[UNK]': 0, 'recnum': 1, 'recspan': 2}},\n",
       " 'wgt': {}}"
      ]
     },
     "execution_count": 43,
     "metadata": {},
     "output_type": "execute_result"
    }
   ],
   "source": [
    "CO_vocab"
   ]
  },
  {
   "cell_type": "code",
   "execution_count": 44,
   "id": "bd125aef",
   "metadata": {},
   "outputs": [
    {
     "name": "stdout",
     "output_type": "stream",
     "text": [
      "case_example: {'PID': 1002580, 'ObsDT': Timestamp('2021-11-10 12:15:00')}\n",
      "RO_to_ROdf (RO_ij): {'CGM5Min-Bf24H': Dataset({\n",
      "    features: ['PID', 'CGM5MinID', 'DT_s'],\n",
      "    num_rows: 289\n",
      "})}\n",
      "['CGM5Min-Bf24H']\n"
     ]
    }
   ],
   "source": [
    "idx = 1\n",
    "case_example = idx_to_examples[idx]\n",
    "print('case_example:', case_example)\n",
    "ROName_to_ROds = idx_to_ROName_to_ROds[idx] # RO_to_ROdf # RO_ij\n",
    "print('RO_to_ROdf (RO_ij):', ROName_to_ROds)\n",
    "print([i for i in ROName_to_ROds])"
   ]
  },
  {
   "cell_type": "markdown",
   "metadata": {},
   "source": [
    "# [Step 10]: Develop $\\Phi$. "
   ]
  },
  {
   "cell_type": "code",
   "execution_count": 45,
   "id": "aa1aacc1",
   "metadata": {},
   "outputs": [],
   "source": [
    "def fn_CasePhi(case_example, \n",
    "               ROName_to_ROds, \n",
    "               ROName_to_ROInfo, \n",
    "               CO_vocab):\n",
    "    \n",
    "    \n",
    "    d = {}\n",
    "    assert len(ROName_to_ROds) == 1\n",
    " \n",
    "    # RO\n",
    "    RO = list(ROName_to_ROds.keys())[0]\n",
    "    # for RecObsName in RecObsName_to_RecObsDS:\n",
    "    \n",
    "    #############################################\n",
    "    ROds   = ROName_to_ROds[RO] # dataframe: RecObsName: Rx-bf24.. RecObsDS: the df: record collection\n",
    "    ROInfo = ROName_to_ROInfo[RO]\n",
    "    \n",
    "    RecDT = ROInfo['rec_args']['RecDT']\n",
    "    if ROds is not None:\n",
    "        DT_s_obs = ROds[ 0][RecDT] # the time of first records\n",
    "        DT_e_obs = ROds[-1][RecDT] # pd.to_datetime(dates[idx_e-1]) # the last one smaller than idx_e\n",
    "        d['recnum'] = len(ROds)\n",
    "        d['recspan'] = (DT_e_obs - DT_s_obs).total_seconds() / 60 # + 5\n",
    "    else:\n",
    "        d['recnum'] = 0\n",
    "        d['recspan'] = 0\n",
    "    #############################################\n",
    "\n",
    "    tkn2tid = CO_vocab['tid']['tkn2tid']\n",
    "    tkn = [i for i in d.keys()]\n",
    "    tid = [tkn2tid[i] for i in tkn]\n",
    "    wgt = [round(d[i], 2) for i in tkn]\n",
    "    CO = {'tid': tid, 'wgt': wgt}\n",
    "    return CO\n",
    "\n",
    "fn_CasePhi.fn_string = inspect.getsource(fn_CasePhi)"
   ]
  },
  {
   "cell_type": "code",
   "execution_count": 46,
   "id": "a3602605",
   "metadata": {},
   "outputs": [
    {
     "data": {
      "text/plain": [
       "{'CGM5Min-Bf24H': Dataset({\n",
       "     features: ['PID', 'CGM5MinID', 'DT_s'],\n",
       "     num_rows: 289\n",
       " })}"
      ]
     },
     "execution_count": 46,
     "metadata": {},
     "output_type": "execute_result"
    }
   ],
   "source": [
    "ROName_to_ROds"
   ]
  },
  {
   "cell_type": "code",
   "execution_count": 47,
   "id": "c921b74d",
   "metadata": {},
   "outputs": [
    {
     "data": {
      "text/plain": [
       "{'tid': [1, 2], 'wgt': [289, 1440.0]}"
      ]
     },
     "execution_count": 47,
     "metadata": {},
     "output_type": "execute_result"
    }
   ],
   "source": [
    "fn_CasePhi(case_example, ROName_to_ROds, ROName_to_ROInfo, CO_vocab)"
   ]
  },
  {
   "cell_type": "code",
   "execution_count": 48,
   "id": "e85b6582",
   "metadata": {},
   "outputs": [
    {
     "data": {
      "text/plain": [
       "1440"
      ]
     },
     "execution_count": 48,
     "metadata": {},
     "output_type": "execute_result"
    }
   ],
   "source": [
    "24 * 60"
   ]
  },
  {
   "cell_type": "code",
   "execution_count": 49,
   "id": "29a87e36",
   "metadata": {},
   "outputs": [
    {
     "data": {
      "text/plain": [
       "{'tid': {'tid2tkn': {0: '[UNK]', 1: 'recnum', 2: 'recspan'},\n",
       "  'tkn2tid': {'[UNK]': 0, 'recnum': 1, 'recspan': 2}},\n",
       " 'wgt': {}}"
      ]
     },
     "execution_count": 49,
     "metadata": {},
     "output_type": "execute_result"
    }
   ],
   "source": [
    "CO_vocab"
   ]
  },
  {
   "cell_type": "markdown",
   "id": "6d098f89",
   "metadata": {},
   "source": [
    "## Save Files"
   ]
  },
  {
   "cell_type": "code",
   "execution_count": 50,
   "id": "85524f5f",
   "metadata": {},
   "outputs": [
    {
     "data": {
      "text/html": [
       "../pipeline/fn_casephi/phi_RecNum.py <a href=\"/Users/floydluo/Library/CloudStorage/GoogleDrive-junjie.luo.jhu@gmail.com/Shared drives/CDHAI-WellDoc/2024-WellDocTest-SPACE/_WellDoc-AI-CGMGPT-WorkSpace/../pipeline/fn_casephi/phi_RecNum.py\" target=\"_blank\">Open File</a>"
      ],
      "text/plain": [
       "<IPython.core.display.HTML object>"
      ]
     },
     "metadata": {},
     "output_type": "display_data"
    }
   ],
   "source": [
    "from recfldtkn.loadtools import convert_variables_to_pystirng, load_module_variables\n",
    "\n",
    "prefix = ['import pandas as pd', 'import numpy as np']\n",
    "fn_variables = [get_CO_id, get_selected_columns, get_CO_vocab, fn_CasePhi]\n",
    "pycode = convert_variables_to_pystirng(fn_variables = fn_variables, prefix = prefix)\n",
    "pypath = os.path.join(SPACE['CODE_FN'], 'fn_casephi', f'phi_{name_CasePhi}.py')\n",
    "with open(pypath, 'w') as file: file.write(pycode)\n",
    "\n",
    "# Create a HTML link and display it\n",
    "full_path = os.path.join(WORKSPACE_PATH, pypath)\n",
    "display(HTML(f'{pypath} <a href=\"{full_path}\" target=\"_blank\">Open File</a>'))"
   ]
  },
  {
   "cell_type": "markdown",
   "id": "d8ac3fc7",
   "metadata": {},
   "source": [
    "# Application"
   ]
  },
  {
   "cell_type": "code",
   "execution_count": 51,
   "id": "8cf13931",
   "metadata": {},
   "outputs": [
    {
     "data": {
      "text/plain": [
       "'ro.CGM5Min-Bf24H_ct.RecNum'"
      ]
     },
     "execution_count": 51,
     "metadata": {},
     "output_type": "execute_result"
    }
   ],
   "source": [
    "CaseObsName"
   ]
  },
  {
   "cell_type": "code",
   "execution_count": 52,
   "id": "a0747747",
   "metadata": {},
   "outputs": [
    {
     "data": {
      "text/plain": [
       "['RecObsName_List',\n",
       " 'name_CasePhi',\n",
       " 'get_selected_columns',\n",
       " 'CaseObsName',\n",
       " 'ROName_to_ROInfo',\n",
       " 'fn_CasePhi',\n",
       " 'get_CO_id',\n",
       " 'CO_Folder',\n",
       " 'CO_vocab']"
      ]
     },
     "execution_count": 52,
     "metadata": {},
     "output_type": "execute_result"
    }
   ],
   "source": [
    "from recfldtkn.observer import get_CaseObsInfo_for_a_CaseObsName\n",
    "\n",
    "CaseObsInfo = get_CaseObsInfo_for_a_CaseObsName(CaseObsName,\n",
    "                                                SPACE, \n",
    "                                                cohort_args, \n",
    "                                                record_to_ds_rec = {}, \n",
    "                                                record_to_ds_rec_info = {})\n",
    "[i for i in CaseObsInfo]"
   ]
  },
  {
   "cell_type": "code",
   "execution_count": 54,
   "id": "a4810867",
   "metadata": {},
   "outputs": [],
   "source": [
    "import random \n",
    "from pprint import pprint\n",
    "from datetime import datetime \n",
    "from recfldtkn.observer import get_RecObsName_to_RecObsInfo, CaseObserverTransformer\n",
    "\n",
    "\n",
    "ro_to_ROName = {} # leave it empty for now \n",
    "ROName_to_ROInfo = CaseObsInfo['ROName_to_ROInfo']\n",
    "name_CasePhi = CaseObsInfo['name_CasePhi']\n",
    "fn_CasePhi = CaseObsInfo['fn_CasePhi']\n",
    "CO_vocab = CaseObsInfo['CO_vocab']\n",
    "get_CO_id = CaseObsInfo['get_CO_id']\n",
    "CO_Folder = CaseObsInfo['CO_Folder']\n",
    "df_case = None \n",
    "use_CO_from_disk = False\n",
    "batch_size = CaseObsInfo.get('batch_size', 1000)\n",
    "\n",
    "fn_caseobs_Phi = CaseObserverTransformer(ro_to_ROName,\n",
    "                                         ROName_to_ROInfo, \n",
    "                                         name_CasePhi, \n",
    "                                         fn_CasePhi, \n",
    "                                         CO_vocab, \n",
    "                                         get_CO_id,\n",
    "                                         CO_Folder, \n",
    "                                         df_case,\n",
    "                                         use_CO_from_disk)"
   ]
  },
  {
   "cell_type": "markdown",
   "id": "79eb01dd",
   "metadata": {},
   "source": [
    "# Check Cache Functions"
   ]
  },
  {
   "cell_type": "code",
   "execution_count": 55,
   "id": "28003f06",
   "metadata": {},
   "outputs": [
    {
     "data": {
      "text/plain": [
       "{}"
      ]
     },
     "execution_count": 55,
     "metadata": {},
     "output_type": "execute_result"
    }
   ],
   "source": [
    "fn_caseobs_Phi.new_COs"
   ]
  },
  {
   "cell_type": "code",
   "execution_count": 56,
   "metadata": {},
   "outputs": [
    {
     "data": {
      "application/vnd.jupyter.widget-view+json": {
       "model_id": "7fc3151f19b740988cf862b3a2ed347a",
       "version_major": 2,
       "version_minor": 0
      },
      "text/plain": [
       "Map:   0%|          | 0/100 [00:00<?, ? examples/s]"
      ]
     },
     "metadata": {},
     "output_type": "display_data"
    },
    {
     "name": "stdout",
     "output_type": "stream",
     "text": [
      "Elipse Time:  0:00:00.380090\n",
      "Dataset({\n",
      "    features: ['PID', 'ObsDT', 'tid', 'wgt'],\n",
      "    num_rows: 100\n",
      "})\n"
     ]
    }
   ],
   "source": [
    "start = datetime.now()\n",
    "ds_casetkn = ds_case.map(fn_caseobs_Phi, \n",
    "                         batched = True, \n",
    "                         batch_size= batch_size, \n",
    "                         load_from_cache_file = False, \n",
    "                         new_fingerprint = CaseObsName)\n",
    "end = datetime.now()\n",
    "print('Elipse Time: ', end - start)\n",
    "print(ds_casetkn)"
   ]
  },
  {
   "cell_type": "code",
   "execution_count": 57,
   "id": "1765eb57",
   "metadata": {},
   "outputs": [
    {
     "name": "stdout",
     "output_type": "stream",
     "text": [
      "100\n"
     ]
    }
   ],
   "source": [
    "print(len(fn_caseobs_Phi.new_COs))"
   ]
  },
  {
   "cell_type": "code",
   "execution_count": 58,
   "id": "de1ef678",
   "metadata": {},
   "outputs": [
    {
     "data": {
      "application/vnd.jupyter.widget-view+json": {
       "model_id": "1bab6523059b46078ad3958b03163bec",
       "version_major": 2,
       "version_minor": 0
      },
      "text/plain": [
       "Map:   0%|          | 0/100 [00:00<?, ? examples/s]"
      ]
     },
     "metadata": {},
     "output_type": "display_data"
    },
    {
     "name": "stdout",
     "output_type": "stream",
     "text": [
      "Elipse Time:  0:00:00.022781\n",
      "Dataset({\n",
      "    features: ['PID', 'ObsDT', 'tid', 'wgt'],\n",
      "    num_rows: 100\n",
      "})\n"
     ]
    }
   ],
   "source": [
    "start = datetime.now()\n",
    "ds_casetkn = ds_case.map(fn_caseobs_Phi, \n",
    "                         batched = True, \n",
    "                         batch_size= batch_size, \n",
    "                         load_from_cache_file = False, \n",
    "                         new_fingerprint = CaseObsName)\n",
    "end = datetime.now()\n",
    "print('Elipse Time: ', end - start)\n",
    "print(ds_casetkn)"
   ]
  },
  {
   "cell_type": "code",
   "execution_count": 59,
   "id": "9e6ec3e9",
   "metadata": {},
   "outputs": [
    {
     "name": "stdout",
     "output_type": "stream",
     "text": [
      "ro.CGM5Min-Bf24H_ct.RecNum\n",
      "28\n",
      "{'ObsDT': Timestamp('2023-05-20 17:35:00'),\n",
      " 'PID': 2000020,\n",
      " 'tid': [1, 2],\n",
      " 'wgt': [289.0, 6305.0]}\n",
      "{'tid': {'tid2tkn': {0: '[UNK]', 1: 'recnum', 2: 'recspan'}, 'tkn2tid': {'[UNK]': 0, 'recnum': 1, 'recspan': 2}}, 'wgt': {}}\n"
     ]
    }
   ],
   "source": [
    "print(CaseObsName)\n",
    "random_int = random.randint(0, len(ds_casetkn))\n",
    "print(random_int)\n",
    "pprint(ds_casetkn[random_int])\n",
    "print(CO_vocab)"
   ]
  },
  {
   "cell_type": "code",
   "execution_count": 61,
   "id": "739bb79c",
   "metadata": {},
   "outputs": [
    {
     "data": {
      "text/plain": [
       "{'PID': 1004917,\n",
       " 'ObsDT': Timestamp('2021-12-07 20:05:00'),\n",
       " 'tid': [1, 2],\n",
       " 'wgt': [289.0, 1440.0]}"
      ]
     },
     "execution_count": 61,
     "metadata": {},
     "output_type": "execute_result"
    }
   ],
   "source": [
    "ds_casetkn[62]"
   ]
  },
  {
   "cell_type": "markdown",
   "id": "dba9f4c7",
   "metadata": {},
   "source": [
    "## Save"
   ]
  },
  {
   "cell_type": "code",
   "execution_count": 62,
   "id": "6b4a3151",
   "metadata": {},
   "outputs": [
    {
     "data": {
      "text/html": [
       "<div>\n",
       "<style scoped>\n",
       "    .dataframe tbody tr th:only-of-type {\n",
       "        vertical-align: middle;\n",
       "    }\n",
       "\n",
       "    .dataframe tbody tr th {\n",
       "        vertical-align: top;\n",
       "    }\n",
       "\n",
       "    .dataframe thead th {\n",
       "        text-align: right;\n",
       "    }\n",
       "</style>\n",
       "<table border=\"1\" class=\"dataframe\">\n",
       "  <thead>\n",
       "    <tr style=\"text-align: right;\">\n",
       "      <th></th>\n",
       "      <th>caseobs_idx_in_data</th>\n",
       "    </tr>\n",
       "    <tr>\n",
       "      <th>caseobs_id</th>\n",
       "      <th></th>\n",
       "    </tr>\n",
       "  </thead>\n",
       "  <tbody>\n",
       "  </tbody>\n",
       "</table>\n",
       "</div>"
      ],
      "text/plain": [
       "Empty DataFrame\n",
       "Columns: [caseobs_idx_in_data]\n",
       "Index: []"
      ]
     },
     "execution_count": 62,
     "metadata": {},
     "output_type": "execute_result"
    }
   ],
   "source": [
    "fn_caseobs_Phi.df_CO_info"
   ]
  },
  {
   "cell_type": "code",
   "execution_count": 63,
   "id": "f9a305c3",
   "metadata": {},
   "outputs": [
    {
     "data": {
      "text/plain": [
       "'../_Data/2-Data_CaseObs/ro.CGM5Min-Bf24H_ct.RecNum/data'"
      ]
     },
     "execution_count": 63,
     "metadata": {},
     "output_type": "execute_result"
    }
   ],
   "source": [
    "CO_Folder_data = fn_caseobs_Phi.CO_Folder_data \n",
    "CO_Folder_data"
   ]
  },
  {
   "cell_type": "code",
   "execution_count": 64,
   "id": "a4b1c8a9",
   "metadata": {},
   "outputs": [
    {
     "name": "stderr",
     "output_type": "stream",
     "text": [
      "[INFO:2024-03-03 01:16:55,328:(observer.py@630 recfldtkn.observer)]: use_CO_from_disk is false and empty new_COs\n"
     ]
    }
   ],
   "source": [
    "fn_caseobs_Phi.save_new_COs_to_disk(CO_Folder_data)"
   ]
  },
  {
   "cell_type": "code",
   "execution_count": 65,
   "id": "67499595",
   "metadata": {},
   "outputs": [
    {
     "data": {
      "text/html": [
       "<div>\n",
       "<style scoped>\n",
       "    .dataframe tbody tr th:only-of-type {\n",
       "        vertical-align: middle;\n",
       "    }\n",
       "\n",
       "    .dataframe tbody tr th {\n",
       "        vertical-align: top;\n",
       "    }\n",
       "\n",
       "    .dataframe thead th {\n",
       "        text-align: right;\n",
       "    }\n",
       "</style>\n",
       "<table border=\"1\" class=\"dataframe\">\n",
       "  <thead>\n",
       "    <tr style=\"text-align: right;\">\n",
       "      <th></th>\n",
       "      <th>caseobs_idx_in_data</th>\n",
       "    </tr>\n",
       "    <tr>\n",
       "      <th>caseobs_id</th>\n",
       "      <th></th>\n",
       "    </tr>\n",
       "  </thead>\n",
       "  <tbody>\n",
       "  </tbody>\n",
       "</table>\n",
       "</div>"
      ],
      "text/plain": [
       "Empty DataFrame\n",
       "Columns: [caseobs_idx_in_data]\n",
       "Index: []"
      ]
     },
     "execution_count": 65,
     "metadata": {},
     "output_type": "execute_result"
    }
   ],
   "source": [
    "fn_caseobs_Phi.df_CO_info"
   ]
  },
  {
   "cell_type": "code",
   "execution_count": 66,
   "id": "b021c636",
   "metadata": {},
   "outputs": [],
   "source": [
    "fn_caseobs_Phi.ds_CO_data"
   ]
  },
  {
   "cell_type": "code",
   "execution_count": 67,
   "id": "d9e27f5f",
   "metadata": {},
   "outputs": [],
   "source": [
    "ds_CO_data, df_CO_info = fn_caseobs_Phi.load_COs_from_disk(CO_Folder_data, COids)"
   ]
  },
  {
   "cell_type": "code",
   "execution_count": 68,
   "id": "8d6a3953",
   "metadata": {},
   "outputs": [],
   "source": [
    "ds_CO_data"
   ]
  },
  {
   "cell_type": "code",
   "execution_count": 69,
   "id": "bfa19905",
   "metadata": {},
   "outputs": [
    {
     "data": {
      "text/html": [
       "<div>\n",
       "<style scoped>\n",
       "    .dataframe tbody tr th:only-of-type {\n",
       "        vertical-align: middle;\n",
       "    }\n",
       "\n",
       "    .dataframe tbody tr th {\n",
       "        vertical-align: top;\n",
       "    }\n",
       "\n",
       "    .dataframe thead th {\n",
       "        text-align: right;\n",
       "    }\n",
       "</style>\n",
       "<table border=\"1\" class=\"dataframe\">\n",
       "  <thead>\n",
       "    <tr style=\"text-align: right;\">\n",
       "      <th></th>\n",
       "      <th>caseobs_idx_in_data</th>\n",
       "    </tr>\n",
       "    <tr>\n",
       "      <th>caseobs_id</th>\n",
       "      <th></th>\n",
       "    </tr>\n",
       "  </thead>\n",
       "  <tbody>\n",
       "  </tbody>\n",
       "</table>\n",
       "</div>"
      ],
      "text/plain": [
       "Empty DataFrame\n",
       "Columns: [caseobs_idx_in_data]\n",
       "Index: []"
      ]
     },
     "execution_count": 69,
     "metadata": {},
     "output_type": "execute_result"
    }
   ],
   "source": [
    "df_CO_info"
   ]
  },
  {
   "cell_type": "markdown",
   "id": "2dca9299",
   "metadata": {},
   "source": [
    "# Save Vocab"
   ]
  },
  {
   "cell_type": "code",
   "execution_count": 70,
   "id": "1224a15e",
   "metadata": {},
   "outputs": [
    {
     "data": {
      "text/plain": [
       "{'tid': {'tid2tkn': {0: '[UNK]', 1: 'recnum', 2: 'recspan'},\n",
       "  'tkn2tid': {'[UNK]': 0, 'recnum': 1, 'recspan': 2}},\n",
       " 'wgt': {}}"
      ]
     },
     "execution_count": 70,
     "metadata": {},
     "output_type": "execute_result"
    }
   ],
   "source": [
    "CO_vocab = fn_caseobs_Phi.CO_vocab\n",
    "CO_vocab"
   ]
  },
  {
   "cell_type": "code",
   "execution_count": 71,
   "id": "c7bb5e52",
   "metadata": {},
   "outputs": [
    {
     "data": {
      "text/plain": [
       "'../_Data/2-Data_CaseObs/ro.CGM5Min-Bf24H_ct.RecNum/vocab.p'"
      ]
     },
     "execution_count": 71,
     "metadata": {},
     "output_type": "execute_result"
    }
   ],
   "source": [
    "CO_Folder_vocab = fn_caseobs_Phi.CO_Folder_vocab\n",
    "CO_Folder_vocab"
   ]
  },
  {
   "cell_type": "code",
   "execution_count": 72,
   "metadata": {},
   "outputs": [
    {
     "data": {
      "text/html": [
       "<div>\n",
       "<style scoped>\n",
       "    .dataframe tbody tr th:only-of-type {\n",
       "        vertical-align: middle;\n",
       "    }\n",
       "\n",
       "    .dataframe tbody tr th {\n",
       "        vertical-align: top;\n",
       "    }\n",
       "\n",
       "    .dataframe thead th {\n",
       "        text-align: right;\n",
       "    }\n",
       "</style>\n",
       "<table border=\"1\" class=\"dataframe\">\n",
       "  <thead>\n",
       "    <tr style=\"text-align: right;\">\n",
       "      <th></th>\n",
       "      <th>ro.CGM5Min-Bf24H_ct.RecNum</th>\n",
       "    </tr>\n",
       "  </thead>\n",
       "  <tbody>\n",
       "    <tr>\n",
       "      <th>tid</th>\n",
       "      <td>{'tid2tkn': {0: '[UNK]', 1: 'recnum', 2: 'recs...</td>\n",
       "    </tr>\n",
       "    <tr>\n",
       "      <th>wgt</th>\n",
       "      <td>{}</td>\n",
       "    </tr>\n",
       "  </tbody>\n",
       "</table>\n",
       "</div>"
      ],
      "text/plain": [
       "                            ro.CGM5Min-Bf24H_ct.RecNum\n",
       "tid  {'tid2tkn': {0: '[UNK]', 1: 'recnum', 2: 'recs...\n",
       "wgt                                                 {}"
      ]
     },
     "execution_count": 72,
     "metadata": {},
     "output_type": "execute_result"
    }
   ],
   "source": [
    "df_Vocab = pd.DataFrame({CaseObsName: CO_vocab})\n",
    "df_Vocab.to_pickle(CO_Folder_vocab)\n",
    "df_Vocab"
   ]
  },
  {
   "cell_type": "code",
   "execution_count": null,
   "id": "2792e678",
   "metadata": {},
   "outputs": [],
   "source": []
  }
 ],
 "metadata": {
  "kernelspec": {
   "display_name": "Python 3 (ipykernel)",
   "language": "python",
   "name": "python3"
  },
  "language_info": {
   "codemirror_mode": {
    "name": "ipython",
    "version": 3
   },
   "file_extension": ".py",
   "mimetype": "text/x-python",
   "name": "python",
   "nbconvert_exporter": "python",
   "pygments_lexer": "ipython3",
   "version": "3.8.8"
  },
  "toc-autonumbering": true
 },
 "nbformat": 4,
 "nbformat_minor": 5
}
