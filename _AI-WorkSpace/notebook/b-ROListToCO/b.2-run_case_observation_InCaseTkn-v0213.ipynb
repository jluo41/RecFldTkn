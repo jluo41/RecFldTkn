{
 "cells": [
  {
   "cell_type": "markdown",
   "id": "881d73c8-f12f-4a9b-a485-996a76289767",
   "metadata": {},
   "source": [
    "# Space"
   ]
  },
  {
   "cell_type": "code",
   "execution_count": 2,
   "id": "3bfe226b",
   "metadata": {},
   "outputs": [
    {
     "name": "stdout",
     "output_type": "stream",
     "text": [
      "/Users/jluo/Desktop/2024-DrFirst-SPACE/_DrFirst-AI-EduRxPred-WorkSpace\n",
      "{'CODE_FN': '../pipeline',\n",
      " 'CODE_RFT': '../pipeline',\n",
      " 'DATA_CaseObs': '../_Data/2-Data_CaseObs',\n",
      " 'DATA_RAW': '../_Data/0-Data_Raw',\n",
      " 'DATA_RFT': '../_Data/1-Data_RFT',\n",
      " 'DATA_TASK': 'Data_EduRxPred',\n",
      " 'MODEL_TASK': 'Model_EduRxPred',\n",
      " 'WORKSPACE_PATH': '/Users/jluo/Desktop/2024-DrFirst-SPACE/_DrFirst-AI-EduRxPred-WorkSpace'}\n"
     ]
    }
   ],
   "source": [
    "import os\n",
    "import sys \n",
    "import logging\n",
    "import random\n",
    "import pandas as pd \n",
    "from pprint import pprint \n",
    "from IPython.display import display, HTML\n",
    "\n",
    "# WorkSpace\n",
    "KEY = 'WorkSpace'; WORKSPACE_PATH = os.getcwd().split(KEY)[0] + KEY; print(WORKSPACE_PATH)\n",
    "os.chdir(WORKSPACE_PATH)\n",
    "sys.path.append(WORKSPACE_PATH)\n",
    "\n",
    "# Pipeline Space\n",
    "from proj_space import SPACE\n",
    "SPACE['WORKSPACE_PATH'] = WORKSPACE_PATH\n",
    "sys.path.append(SPACE['CODE_FN'])\n",
    "pprint(SPACE)\n",
    "\n",
    "# Available Packages\n",
    "import argparse\n",
    "import datasets\n",
    "import pandas as pd\n",
    "from datetime import datetime \n",
    "\n",
    "from recfldtkn.ckpd_obs import Ckpd_ObservationS\n",
    "from recfldtkn.configfn import load_cohort_args\n",
    "from recfldtkn.obsname import convert_RecObsName_and_CaseTkn_to_CaseObsName\n",
    "from recfldtkn.loadtools import load_module_variables, update_args_to_list\n",
    "from recfldtkn.observer import get_RecObsName_to_RecObsInfo, CaseObserverTransformer\n",
    "\n",
    "logger = logging.getLogger(__name__)\n",
    "recfldtkn_config_path = os.path.join(SPACE['CODE_FN'], 'config_recfldtkn/')\n"
   ]
  },
  {
   "cell_type": "markdown",
   "id": "d218a53e",
   "metadata": {},
   "source": [
    "# [Part 1] Get a Caseset: Case Examples"
   ]
  },
  {
   "cell_type": "markdown",
   "metadata": {},
   "source": [
    "## [Step 1]"
   ]
  },
  {
   "cell_type": "code",
   "execution_count": 3,
   "id": "7140db62",
   "metadata": {},
   "outputs": [
    {
     "name": "stdout",
     "output_type": "stream",
     "text": [
      "Data_EduRxPred/CaseFolder/TrulicityRx\n",
      "{'RawRootID': 'patient_id_encoded', 'CohortInfo': {'RawData2023Nov_Trulicity': {'cohort_label': 1, 'cohort_name': 'RawData2023Nov_Trulicity', 'FolderPath': '../_Data/0-Data_Raw/2023_11_30_30days_Trulicity'}}, 'RootID': 'PID', 'RecName': 'PRawRecNum', 'rec_folder': '../_Data/1-Data_RFT/RecAttr/', 'fld_folder': '../_Data/1-Data_RFT/RecAttr/', 'hfds_folder': '../_Data/1-Data_RFT/HfDataset/', 'recattr_pyfolder': '../pipeline/fn_recattr/', 'fldtkn_pyfolder': '../pipeline/fn_fldtkn/', 'humanrec_pyfolder': '../pipeline/fn_humanrec/', 'RecName_to_RFT_GROUP_SIZE': {'Default': 5000}, 'RecName_to_RFT_idx_group_size': {'Default': 10000}, 'RecName_to_RFT_usebucket': {'Default': False}, 'RootIDLength': 6, 'recfldtkn_config_path': '../pipeline/config_recfldtkn/', 'SPACE': {'DATA_RAW': '../_Data/0-Data_Raw', 'DATA_RFT': '../_Data/1-Data_RFT', 'DATA_CaseObs': '../_Data/2-Data_CaseObs', 'CODE_FN': '../pipeline', 'CODE_RFT': '../pipeline', 'DATA_TASK': 'Data_EduRxPred', 'MODEL_TASK': 'Model_EduRxPred', 'WORKSPACE_PATH': '/Users/jluo/Desktop/2024-DrFirst-SPACE/_DrFirst-AI-EduRxPred-WorkSpace'}, 'pypath': '../pipeline/fn_humanrec/humanrec.py', 'Ckpd_ObservationS': {'InObs': {'CkpdName': 'InCase', 'DistStartToPredDT': -0.01, 'DistEndToPredDT': 0.01, 'TimeUnit': 'min', 'StartIdx5Min': 0, 'EndIdx5Min': 0}, 'Bf24H': {'CkpdName': 'Bf24H', 'DistStartToPredDT': -24, 'DistEndToPredDT': 0.01, 'TimeUnit': 'H', 'StartIdx5Min': -288, 'EndIdx5Min': 0}, 'Bf1M': {'CkpdName': 'Bf1M', 'DistStartToPredDT': -720, 'DistEndToPredDT': 0.01, 'TimeUnit': 'H', 'StartIdx5Min': -8640, 'EndIdx5Min': 0}, 'Af2H': {'CkpdName': 'Af2H', 'DistStartToPredDT': 1, 'DistEndToPredDT': 121, 'TimeUnit': 'min', 'StartIdx5Min': 1, 'EndIdx5Min': 24}, 'Af1W': {'CkpdName': 'Af1W', 'DistStartToPredDT': 0.0001, 'DistEndToPredDT': 7, 'TimeUnit': 'D', 'StartIdx5Min': 1, 'EndIdx5Min': 2016}}}\n",
      "0_C1-gF-Ab50\n",
      "Dataset({\n",
      "    features: ['PID', 'ObsDT', 'PInvID', 'RxID'],\n",
      "    num_rows: 40517\n",
      "})\n"
     ]
    }
   ],
   "source": [
    "from recfldtkn.aidstools import get_caseset_to_observe\n",
    "\n",
    "####################\n",
    "caseset_name = 'TrulicityRx'\n",
    "group_id = 0\n",
    "case_id_columns = [\"PID\", \"ObsDT\", 'PInvID', 'RxID']\n",
    "####################\n",
    "\n",
    "CaseFolder = os.path.join(SPACE['DATA_TASK'], 'CaseFolder', caseset_name)\n",
    "print(CaseFolder)\n",
    "cohort_args = load_cohort_args(recfldtkn_config_path, SPACE)\n",
    "cohort_args['Ckpd_ObservationS'] = Ckpd_ObservationS\n",
    "print(cohort_args)\n",
    "\n",
    "group_name, ds_case = get_caseset_to_observe(group_id, CaseFolder, case_id_columns, cohort_args)\n",
    "print(group_name)\n",
    "print(ds_case)"
   ]
  },
  {
   "cell_type": "markdown",
   "id": "7a80d013",
   "metadata": {},
   "source": [
    "\n",
    "## [Step 2] RO: Record Observation & CaseTkn\n"
   ]
  },
  {
   "cell_type": "code",
   "execution_count": 24,
   "id": "bb6339df",
   "metadata": {},
   "outputs": [
    {
     "name": "stdout",
     "output_type": "stream",
     "text": [
      "ro.Rx-InObs-InsCate_ct.InCaseTkn\n"
     ]
    }
   ],
   "source": [
    "from recfldtkn.obsname import convert_RecObsName_and_CaseTkn_to_CaseObsName\n",
    "\n",
    "###########################\n",
    "Record_Observations_List = ['Rx-InObs-InsCate']\n",
    "CaseTkn = 'InCaseTkn'\n",
    "###########################\n",
    "\n",
    "CaseObsName = convert_RecObsName_and_CaseTkn_to_CaseObsName(Record_Observations_List, CaseTkn)\n",
    "# CO_ij\n",
    "print(CaseObsName)"
   ]
  },
  {
   "cell_type": "code",
   "execution_count": 25,
   "id": "aa00899c",
   "metadata": {},
   "outputs": [
    {
     "name": "stdout",
     "output_type": "stream",
     "text": [
      "../_Data/2-Data_CaseObs/ro.Rx-InObs-InsCate_ct.InCaseTkn/data\n",
      "../_Data/2-Data_CaseObs/ro.Rx-InObs-InsCate_ct.InCaseTkn/vocab.p\n"
     ]
    }
   ],
   "source": [
    "CaseObsFolder = os.path.join(SPACE['DATA_CaseObs'], CaseObsName)\n",
    "if not os.path.exists(CaseObsFolder):\n",
    "    os.makedirs(CaseObsFolder)\n",
    "    \n",
    "CaseObsFolder_data = os.path.join(CaseObsFolder, 'data')    \n",
    "CaseObsFolder_vocab = os.path.join(CaseObsFolder, 'vocab.p')\n",
    "\n",
    "print(CaseObsFolder_data) \n",
    "print(CaseObsFolder_vocab)"
   ]
  },
  {
   "cell_type": "markdown",
   "metadata": {},
   "source": [
    "# [Part 2] Tools for ds_case_obs"
   ]
  },
  {
   "cell_type": "markdown",
   "id": "a56c2a76",
   "metadata": {},
   "source": [
    "## [Step 1] Prepare examples"
   ]
  },
  {
   "cell_type": "code",
   "execution_count": 26,
   "id": "d341d32a",
   "metadata": {},
   "outputs": [
    {
     "name": "stdout",
     "output_type": "stream",
     "text": [
      "{'PID': [1024150, 1013126, 1034286, 1012301, 1038570, 1032487, 1042644, 1042660, 1032203, 1009855], 'ObsDT': [Timestamp('2023-11-28 15:55:59.016000'), Timestamp('2023-06-15 02:29:33.640000'), Timestamp('2023-09-29 13:40:46.160000'), Timestamp('2023-06-07 13:23:15.061000'), Timestamp('2023-06-13 15:59:16.918000'), Timestamp('2023-09-01 08:39:11.971000'), Timestamp('2023-04-04 18:46:16.428000'), Timestamp('2023-09-27 17:42:56.103000'), Timestamp('2023-09-21 00:21:53.416000'), Timestamp('2023-05-17 18:14:31.324000')], 'PInvID': ['1024150-007', '1013126-009', '1034286-002', '1012301-008', '1038570-008', '1032487-000', '1042644-001', '1042660-012', '1032203-000', '1009855-003'], 'RxID': ['1024150-007-001', '1013126-009-000', '1034286-002-000', '1012301-008-001', '1038570-008-004', '1032487-000-000', '1042644-001-000', '1042660-012-000', '1032203-000-001', '1009855-003-000']}\n"
     ]
    }
   ],
   "source": [
    "case_examples = ds_case.shuffle(seed=42).select(range(10))[:10]\n",
    "print(case_examples)"
   ]
  },
  {
   "cell_type": "code",
   "execution_count": 27,
   "id": "1a140aa9",
   "metadata": {},
   "outputs": [
    {
     "name": "stdout",
     "output_type": "stream",
     "text": [
      "{0: {'PID': 1024150,\n",
      "     'ObsDT': Timestamp('2023-11-28 15:55:59.016000'),\n",
      "     'PInvID': '1024150-007',\n",
      "     'RxID': '1024150-007-001'},\n",
      " 1: {'PID': 1013126,\n",
      "     'ObsDT': Timestamp('2023-06-15 02:29:33.640000'),\n",
      "     'PInvID': '1013126-009',\n",
      "     'RxID': '1013126-009-000'},\n",
      " 2: {'PID': 1034286,\n",
      "     'ObsDT': Timestamp('2023-09-29 13:40:46.160000'),\n",
      "     'PInvID': '1034286-002',\n",
      "     'RxID': '1034286-002-000'},\n",
      " 3: {'PID': 1012301,\n",
      "     'ObsDT': Timestamp('2023-06-07 13:23:15.061000'),\n",
      "     'PInvID': '1012301-008',\n",
      "     'RxID': '1012301-008-001'},\n",
      " 4: {'PID': 1038570,\n",
      "     'ObsDT': Timestamp('2023-06-13 15:59:16.918000'),\n",
      "     'PInvID': '1038570-008',\n",
      "     'RxID': '1038570-008-004'},\n",
      " 5: {'PID': 1032487,\n",
      "     'ObsDT': Timestamp('2023-09-01 08:39:11.971000'),\n",
      "     'PInvID': '1032487-000',\n",
      "     'RxID': '1032487-000-000'},\n",
      " 6: {'PID': 1042644,\n",
      "     'ObsDT': Timestamp('2023-04-04 18:46:16.428000'),\n",
      "     'PInvID': '1042644-001',\n",
      "     'RxID': '1042644-001-000'},\n",
      " 7: {'PID': 1042660,\n",
      "     'ObsDT': Timestamp('2023-09-27 17:42:56.103000'),\n",
      "     'PInvID': '1042660-012',\n",
      "     'RxID': '1042660-012-000'},\n",
      " 8: {'PID': 1032203,\n",
      "     'ObsDT': Timestamp('2023-09-21 00:21:53.416000'),\n",
      "     'PInvID': '1032203-000',\n",
      "     'RxID': '1032203-000-001'},\n",
      " 9: {'PID': 1009855,\n",
      "     'ObsDT': Timestamp('2023-05-17 18:14:31.324000'),\n",
      "     'PInvID': '1009855-003',\n",
      "     'RxID': '1009855-003-000'}}\n"
     ]
    }
   ],
   "source": [
    "length = len(case_examples[list(case_examples.keys())[0]])\n",
    "case_examples_list = [{k: v[i] for k, v in case_examples.items()} for i in range(length)]\n",
    "idx_to_examples = {i: case_examples_list[i] for i in range(length)}\n",
    "pprint(idx_to_examples, sort_dicts=False)"
   ]
  },
  {
   "cell_type": "code",
   "execution_count": 28,
   "id": "f4515d69",
   "metadata": {},
   "outputs": [
    {
     "data": {
      "text/plain": [
       "{'PID': 1024150,\n",
       " 'ObsDT': Timestamp('2023-11-28 15:55:59.016000'),\n",
       " 'PInvID': '1024150-007',\n",
       " 'RxID': '1024150-007-001'}"
      ]
     },
     "execution_count": 28,
     "metadata": {},
     "output_type": "execute_result"
    }
   ],
   "source": [
    "case_example = idx_to_examples[0]\n",
    "case_example"
   ]
  },
  {
   "cell_type": "markdown",
   "id": "899b14be",
   "metadata": {},
   "source": [
    "## [Step 2] get_caseobs_id"
   ]
  },
  {
   "cell_type": "code",
   "execution_count": 29,
   "id": "1e8e2708",
   "metadata": {},
   "outputs": [],
   "source": [
    "# InObs - Rx - RecNum = 10\n",
    "\n",
    "# CO_id\n",
    "# CO: RO_RecNUm\n",
    "# CO: PZipInfo COid # PID\n",
    "# CO^{recnum}, CO^{futeduegm}\n",
    "\n",
    "# {'PID': 1020788,\n",
    "#  'ObsDT': Timestamp('2023-09-06 17:41:01.757000'),\n",
    "#  'PInvID': '1020788-000',\n",
    "#  'RxID': '1020788-000-000'} # <--- edu future engagement\n",
    "\n",
    "# {'PID': 1020788,\n",
    "#  'ObsDT': Timestamp('2023-09-06 17:41:01.757000'),\n",
    "#  'PInvID': '1020788-000',\n",
    "#  'RxID': '1020788-000-001'} # <--- edu future engagement"
   ]
  },
  {
   "cell_type": "code",
   "execution_count": 30,
   "id": "e9c2b544",
   "metadata": {},
   "outputs": [],
   "source": [
    "import inspect\n",
    "#################################################\n",
    "def get_caseobs_id(case_example, CaseObsName):\n",
    "    RecordName = CaseObsName.split('_')[0].split('-')[0].replace('ro.', '')\n",
    "    RID = RecordName + 'ID'\n",
    "    assert RID in case_example.keys() \n",
    "    RIDVlaue = case_example[RID]\n",
    "    return f'{RID}:{RIDVlaue}'\n",
    "get_caseobs_id.fn_string = inspect.getsource(get_caseobs_id)\n",
    "#################################################"
   ]
  },
  {
   "cell_type": "code",
   "execution_count": 31,
   "id": "ac158e3b",
   "metadata": {},
   "outputs": [
    {
     "data": {
      "text/plain": [
       "'RxID:1024150-007-001'"
      ]
     },
     "execution_count": 31,
     "metadata": {},
     "output_type": "execute_result"
    }
   ],
   "source": [
    "caseobs_id = get_caseobs_id(case_example, CaseObsName)\n",
    "caseobs_id # CO_id"
   ]
  },
  {
   "cell_type": "markdown",
   "id": "b2f1a72b",
   "metadata": {},
   "source": [
    "\n",
    "\n",
    "## [Step 3] RO List and CaseTkn"
   ]
  },
  {
   "cell_type": "code",
   "execution_count": 32,
   "id": "e4bea33f",
   "metadata": {},
   "outputs": [
    {
     "data": {
      "text/plain": [
       "'InCaseTkn'"
      ]
     },
     "execution_count": 32,
     "metadata": {},
     "output_type": "execute_result"
    }
   ],
   "source": [
    "CaseTkn"
   ]
  },
  {
   "cell_type": "code",
   "execution_count": 33,
   "id": "e423b04a",
   "metadata": {},
   "outputs": [],
   "source": [
    "# cohort_args"
   ]
  },
  {
   "cell_type": "code",
   "execution_count": 34,
   "id": "206a0628",
   "metadata": {},
   "outputs": [],
   "source": [
    "## we need to prepare these five arguments.\n",
    "# CaseTkn     # <------- we have this.\n",
    "# cohort_args # <------- we have this.\n",
    "\n",
    "# RecObs_Name \n",
    "# rec_args\n",
    "# column_names # attribute name of R^recordname"
   ]
  },
  {
   "cell_type": "code",
   "execution_count": 35,
   "id": "bad0cfc2",
   "metadata": {},
   "outputs": [
    {
     "name": "stdout",
     "output_type": "stream",
     "text": [
      "['Rx-InObs-InsCate']\n",
      "Rx-InObs-InsCate\n"
     ]
    }
   ],
   "source": [
    "######### RecObs_Name\n",
    "print(Record_Observations_List) # RO_List\n",
    "# Let's focus on one RO\n",
    "RO = Record_Observations_List[0]\n",
    "RecObs_Name = RO\n",
    "print(RecObs_Name)"
   ]
  },
  {
   "cell_type": "code",
   "execution_count": 36,
   "id": "60aca5da",
   "metadata": {},
   "outputs": [],
   "source": [
    "# RO = 'Rx-Bf2M-InsCate'\n",
    "# RO = 'Rx-Bf2M'\n",
    "# RO = 'P-Zip3DemoNume'"
   ]
  },
  {
   "cell_type": "markdown",
   "metadata": {},
   "source": [
    "## [Step4] RO Information"
   ]
  },
  {
   "cell_type": "code",
   "execution_count": 37,
   "id": "e7ecf801",
   "metadata": {},
   "outputs": [
    {
     "name": "stdout",
     "output_type": "stream",
     "text": [
      "Rx InObs InsCate\n"
     ]
    }
   ],
   "source": [
    "# decompose RO to RecName, CkpdName, FldName (small phi)\n",
    "from recfldtkn.obsname import parse_RecObsName\n",
    "\n",
    "d = parse_RecObsName(RecObs_Name)\n",
    "RecName = d['RecName']\n",
    "CkpdName = d['CkpdName']\n",
    "FldName = d['FldName']\n",
    "print(RecName, CkpdName, FldName)"
   ]
  },
  {
   "cell_type": "code",
   "execution_count": 38,
   "id": "8ab84af9",
   "metadata": {},
   "outputs": [
    {
     "name": "stdout",
     "output_type": "stream",
     "text": [
      "Rx\n"
     ]
    },
    {
     "data": {
      "text/plain": [
       "['CohortInfo',\n",
       " 'RecName',\n",
       " 'RecID',\n",
       " 'RecIDChain',\n",
       " 'RawRecID',\n",
       " 'RecDT',\n",
       " 'ParentRecName',\n",
       " 'attr_cols',\n",
       " 'pypath',\n",
       " 'FldTknInfo',\n",
       " 'RFT_GROUP_SIZE',\n",
       " 'idx_group_size',\n",
       " 'usebucket',\n",
       " 'GROUP_SIZE',\n",
       " 'folder',\n",
       " 'rec_folder',\n",
       " 'recfldtkn_config_path',\n",
       " 'yaml_file_path']"
      ]
     },
     "execution_count": 38,
     "metadata": {},
     "output_type": "execute_result"
    }
   ],
   "source": [
    "# load all information about the R^record_name. \n",
    "from recfldtkn.configfn import load_record_args\n",
    "\n",
    "print(RecName)\n",
    "rec_args = load_record_args(RecName, cohort_args)\n",
    "# TODO: interpert each keys in the rec_args. Put them in the miro. \n",
    "[i for i in rec_args]"
   ]
  },
  {
   "cell_type": "code",
   "execution_count": 39,
   "id": "e6d7d6a3",
   "metadata": {},
   "outputs": [],
   "source": [
    "# rec_args['attr_cols']"
   ]
  },
  {
   "cell_type": "markdown",
   "metadata": {},
   "source": [
    "## [Step 5] Load ds_rec"
   ]
  },
  {
   "cell_type": "code",
   "execution_count": 40,
   "id": "d64f4802",
   "metadata": {},
   "outputs": [],
   "source": [
    "from recfldtkn.loadtools import load_ds_rec_and_info\n",
    "\n",
    "ds_rec, ds_rec_info = load_ds_rec_and_info(RecName, cohort_args)\n",
    "\n",
    "# R^Rx\n",
    "# ROdf # Rx-Bf2M (i, t, Bf2M)"
   ]
  },
  {
   "cell_type": "code",
   "execution_count": 41,
   "id": "4cb89109",
   "metadata": {},
   "outputs": [
    {
     "data": {
      "text/plain": [
       "['PID',\n",
       " 'PInvID',\n",
       " 'RxID',\n",
       " 'prescription_id_encoded',\n",
       " 'DT',\n",
       " 'start_date',\n",
       " 'invitation_date',\n",
       " 'insurance_start_date',\n",
       " 'written_date',\n",
       " 'date_fdb_updated',\n",
       " 'prescriber_npi',\n",
       " 'ncpdp_id',\n",
       " 'pharmacy_name_rx',\n",
       " 'simple_pharmacy_name_rx',\n",
       " 'specialty_pharmacy',\n",
       " 'pharmacy_zip_code_3',\n",
       " 'ndc_id',\n",
       " 'drug_name',\n",
       " 'drug_description',\n",
       " 'generic_id',\n",
       " 'top_200_branded_drugs',\n",
       " 'top_50_generic_drugs',\n",
       " 'brand_source',\n",
       " 'fill_number',\n",
       " 'refills_available',\n",
       " 'quantity_unit',\n",
       " 'quantity',\n",
       " 'days_supply',\n",
       " 'package_size',\n",
       " 'package_units',\n",
       " 'strength',\n",
       " 'strength_units',\n",
       " 'total_package_strength',\n",
       " 'directions',\n",
       " 'delivery_type',\n",
       " 'legend_status',\n",
       " 'show_rems_campaigns',\n",
       " 'show_coupon_campaigns',\n",
       " 'show_educational_campaigns',\n",
       " 'show_internal_campaigns',\n",
       " 'show_target_campaigns',\n",
       " 'show_experimental_campaigns',\n",
       " 'send_refill_reminder_messages',\n",
       " 'send_renewal_reminder_messages',\n",
       " 'supports_hippo_prices',\n",
       " 'supports_hippo_prices65',\n",
       " 'supports_copay_prices',\n",
       " 'supports_hippo_prices_medicare',\n",
       " 'rx_bin',\n",
       " 'rx_pcn',\n",
       " 'dispenser_class',\n",
       " 'primary_dispenser_type',\n",
       " 'campaign_id',\n",
       " 'record_locator_encoded',\n",
       " 'source_id',\n",
       " 'group_id',\n",
       " 'customer_type',\n",
       " 'organization_type',\n",
       " 'plan_name',\n",
       " 'suppliers',\n",
       " 'ther_eq_hierarchy_name',\n",
       " 'ther_eq_parent_name',\n",
       " 'ther_eq_ult_parent_name',\n",
       " 'ther_eq_ult_child_ind',\n",
       " 'ther_eq_ult_parent_etc_id',\n",
       " 'ther_eq_hierarchy_level',\n",
       " 'therapeutic_equivalence_id',\n",
       " 'Rx-CmpCateTkn_wgt',\n",
       " 'Rx-CmpCateTkn_tknidx',\n",
       " 'Rx-InsCateTkn_wgt',\n",
       " 'Rx-InsCateTkn_tknidx',\n",
       " 'Rx-ServiceCateTkn_wgt',\n",
       " 'Rx-ServiceCateTkn_tknidx',\n",
       " 'Rx-SysCateTkn_wgt',\n",
       " 'Rx-SysCateTkn_tknidx',\n",
       " 'Rx-QuantN2CTkn_wgt',\n",
       " 'Rx-QuantN2CTkn_tknidx',\n",
       " 'Rx-QuantNumeTkn_wgt',\n",
       " 'Rx-QuantNumeTkn_tknidx',\n",
       " 'Rx-TherEqCateTkn_wgt',\n",
       " 'Rx-TherEqCateTkn_tknidx',\n",
       " 'Rx-DrugBasicCateTkn_wgt',\n",
       " 'Rx-DrugBasicCateTkn_tknidx',\n",
       " 'Rx-PhmBasicCateTkn_wgt',\n",
       " 'Rx-PhmBasicCateTkn_tknidx',\n",
       " 'Rx-PhmZip3HousingNumeTkn_wgt',\n",
       " 'Rx-PhmZip3HousingNumeTkn_tknidx']"
      ]
     },
     "execution_count": 41,
     "metadata": {},
     "output_type": "execute_result"
    }
   ],
   "source": [
    "######### column_names (or we can all it attribute columns)\n",
    "column_names = ds_rec.column_names # attr_columns + phi_columns\n",
    "column_names\n",
    "# ROdf_ij --(Phi: RecNum)-> COdf_ij "
   ]
  },
  {
   "cell_type": "markdown",
   "metadata": {},
   "source": [
    "## [Step 6] get_selected_columns (attr + phi) from ds_rec"
   ]
  },
  {
   "cell_type": "code",
   "execution_count": 46,
   "id": "96122aa4",
   "metadata": {},
   "outputs": [],
   "source": [
    "###############################\n",
    "def get_selected_columns(RecObs_Name, column_names, cohort_args, rec_args, CaseTkn):\n",
    "    from recfldtkn.obsname import parse_RecObsName\n",
    "    \n",
    "    # print(RecName)\n",
    "    if 'RecDT' in rec_args:\n",
    "        base_columns = rec_args['RecIDChain'] + [rec_args['RecDT']]\n",
    "    else:\n",
    "        base_columns = rec_args['RecIDChain']\n",
    "    # print(base_columns)\n",
    "    FldName = parse_RecObsName(RecObs_Name)['FldName']\n",
    "    # print(FldName)\n",
    "    FldNameTkn = FldName + 'Tkn'\n",
    "    key_list = [i for i in column_names if FldNameTkn in i]\n",
    "    # print(key_list)\n",
    "    selected_columns = base_columns + key_list\n",
    "    return selected_columns\n",
    "\n",
    "get_selected_columns.fn_string = inspect.getsource(get_selected_columns)\n",
    "###############################"
   ]
  },
  {
   "cell_type": "code",
   "execution_count": 47,
   "id": "d79b86cd",
   "metadata": {},
   "outputs": [
    {
     "data": {
      "text/plain": [
       "['PID', 'PInvID', 'RxID', 'DT', 'Rx-InsCateTkn_wgt', 'Rx-InsCateTkn_tknidx']"
      ]
     },
     "execution_count": 47,
     "metadata": {},
     "output_type": "execute_result"
    }
   ],
   "source": [
    "# big question here\n",
    "# if small phi is not applied in the record level\n",
    "# how do we deploy the tools of small phi within this process?\n",
    "\n",
    "get_selected_columns(RecObs_Name, column_names, cohort_args, rec_args, CaseTkn)"
   ]
  },
  {
   "cell_type": "code",
   "execution_count": 48,
   "id": "bf587b85",
   "metadata": {},
   "outputs": [
    {
     "name": "stdout",
     "output_type": "stream",
     "text": [
      "['Rx-InObs-InsCate']\n",
      "InCaseTkn\n",
      "<function get_selected_columns at 0x12eeee2a0>\n"
     ]
    }
   ],
   "source": [
    "print(Record_Observations_List)\n",
    "print(CaseTkn)\n",
    "print(get_selected_columns)"
   ]
  },
  {
   "cell_type": "code",
   "execution_count": 49,
   "id": "e26e9f62",
   "metadata": {},
   "outputs": [
    {
     "name": "stdout",
     "output_type": "stream",
     "text": [
      "RecTables_args {'RxBase': {'raw_data_path': '../_Data/0-Data_Raw/inference/prescription_df_de_identified.csv', 'RawRootID': 'patient_id_encoded', 'RecNumColumn': 'prescription', 'raw_columns': ['patient_id_encoded', 'invitation_id_encoded', 'prescription_id_encoded', 'start_date', 'invitation_date', 'updated_date', 'insurance_start_date', 'written_date', 'date_fdb_updated', 'prescriber_npi', 'state_code', 'ncpdp_id', 'pharmacy_name_rx', 'simple_pharmacy_name_rx', 'specialty_pharmacy', 'pharmacy_zip_code_3', 'ndc_id', 'drug_name', 'drug_description', 'generic_id', 'top_200_branded_drugs', 'top_50_generic_drugs', 'brand_source', 'fill_number', 'refills_available', 'quantity', 'days_supply', 'package_size', 'package_units', 'quantity_unit', 'strength', 'strength_units', 'total_package_strength', 'content_id', 'prescription_type', 'directions', 'delivery_type', 'controlled_substance_code', 'campaign_id', 'show_rems_campaigns', 'show_coupon_campaigns', 'show_educational_campaigns', 'show_internal_campaigns', 'show_target_campaigns', 'show_experimental_campaigns', 'send_refill_reminder_messages', 'send_renewal_reminder_messages', 'supports_hippo_prices', 'supports_hippo_prices65', 'supports_copay_prices', 'supports_hippo_prices_medicare', 'source_id', 'record_locator_encoded', 'customer_type', 'organization_type', 'suppliers', 'group_id', 'rx_bin', 'rx_pcn', 'legend_status', 'plan_name', 'legal_business_name', 'primary_dispenser_type', 'primary_dispenser_type_code', 'dispenser_class_code', 'dispenser_class', 'secondary_dispenser_type_code', 'tertiary_dispenser_type_code', 'ther_eq_hierarchy_name', 'ther_eq_parent_name', 'ther_eq_ult_parent_name', 'ther_eq_ult_child_ind', 'ther_eq_ult_parent_etc_id', 'ther_eq_hierarchy_level', 'therapeutic_equivalence_id', 'rxnorm_scd', 'rxnorm_sbd', 'fdb_med_id', 'form']}}\n"
     ]
    }
   ],
   "source": [
    "# RecObsName_to_RecObsInfo # RO_to_ROinfo\n",
    "\n",
    "from recfldtkn.observer import get_RecObsName_to_RecObsInfo\n",
    "\n",
    "# this function is the wrapper of the above cells.\n",
    "# RO_to_ROInfo \n",
    "RecObsName_to_RecObsInfo = get_RecObsName_to_RecObsInfo(Record_Observations_List, \n",
    "                                                        CaseTkn, get_selected_columns, \n",
    "                                                        cohort_args, Ckpd_ObservationS)\n",
    "\n",
    "\n",
    "RO = Record_Observations_List[0] # Rx-Bf2M  \n",
    "ROInfo = RecObsName_to_RecObsInfo[RO] # RxInfo + R^Rx (with necessary columns) + Ckpd + FldTkn (phi)\n"
   ]
  },
  {
   "cell_type": "code",
   "execution_count": 50,
   "id": "3e1f08ca",
   "metadata": {},
   "outputs": [
    {
     "data": {
      "text/plain": [
       "['rec_args',\n",
       " 'RecName',\n",
       " 'CkpdName',\n",
       " 'CkpdInfo',\n",
       " 'FldName',\n",
       " 'FldTknName',\n",
       " 'FldIdx2Tkn',\n",
       " 'ds_rec',\n",
       " 'df_rec_info']"
      ]
     },
     "execution_count": 50,
     "metadata": {},
     "output_type": "execute_result"
    }
   ],
   "source": [
    "[i for i in ROInfo]\n",
    "\n",
    "# pprint(ROInfo)"
   ]
  },
  {
   "cell_type": "code",
   "execution_count": 51,
   "id": "1e859481",
   "metadata": {},
   "outputs": [
    {
     "data": {
      "text/plain": [
       "Dataset({\n",
       "    features: ['PID', 'PInvID', 'RxID', 'DT', 'Rx-InsCateTkn_wgt', 'Rx-InsCateTkn_tknidx'],\n",
       "    num_rows: 571656\n",
       "})"
      ]
     },
     "execution_count": 51,
     "metadata": {},
     "output_type": "execute_result"
    }
   ],
   "source": [
    "ROInfo['ds_rec'] # get_selected_columns"
   ]
  },
  {
   "cell_type": "markdown",
   "metadata": {},
   "source": [
    "## [Step 7] get_casetkn_vocab"
   ]
  },
  {
   "cell_type": "code",
   "execution_count": 62,
   "id": "8cc4153d",
   "metadata": {},
   "outputs": [],
   "source": [
    "import inspect\n",
    "\n",
    "def get_casetkn_vocab(RecObsName_to_RecObsInfo):\n",
    "\n",
    "    RecFldName_list = list(set([RecObsInfo['RecName'] + '-' +RecObsInfo['FldName'] \n",
    "                                for RecObsName, RecObsInfo in RecObsName_to_RecObsInfo.items()\n",
    "                                if RecObsInfo['FldName'] is not None ]\n",
    "                                ))\n",
    "    assert len(RecFldName_list) == 1\n",
    "\n",
    "    ############################ tkn \n",
    "    RecObsName = [i for i in RecObsName_to_RecObsInfo][0]\n",
    "    RecObsInfo = RecObsName_to_RecObsInfo[RecObsName]\n",
    "    idx2tkn = RecObsInfo['FldIdx2Tkn']   \n",
    "    tid2tkn = {tid: tkn for tid, tkn in enumerate(idx2tkn)}\n",
    "    tkn2tid = {tkn: tid for tid, tkn in tid2tkn.items()}\n",
    "    CaseTknVocab = {}\n",
    "    CaseTknVocab['tkn'] = {'tid2tkn': tid2tkn, 'tkn2tid': tkn2tid}\n",
    "    ############################\n",
    "\n",
    "    ############################ 5MinLoc: TODO\n",
    "    return CaseTknVocab\n",
    "\n",
    "get_casetkn_vocab.fn_string = inspect.getsource(get_casetkn_vocab)"
   ]
  },
  {
   "cell_type": "code",
   "execution_count": 63,
   "id": "5f0067d5",
   "metadata": {},
   "outputs": [
    {
     "name": "stdout",
     "output_type": "stream",
     "text": [
      "{'tkn': {'tid2tkn': {0: 'rx_bin_unk',\n",
      "                     1: 'rx_bin_minor',\n",
      "                     2: 'rx_bin_4336.0',\n",
      "                     3: 'rx_bin_610097.0',\n",
      "                     4: 'rx_bin_610014.0',\n",
      "                     5: 'rx_bin_3858.0',\n",
      "                     6: 'rx_bin_15581.0',\n",
      "                     7: 'rx_bin_610502.0',\n",
      "                     8: 'rx_bin_610011.0',\n",
      "                     9: 'rx_bin_11552.0',\n",
      "                     10: 'rx_bin_610494.0',\n",
      "                     11: 'rx_bin_610239.0',\n",
      "                     12: 'rx_bin_610279.0',\n",
      "                     13: 'rx_bin_20115.0',\n",
      "                     14: 'rx_bin_20099.0',\n",
      "                     15: 'rx_bin_17010.0',\n",
      "                     16: 'rx_bin_24251.0',\n",
      "                     17: 'rx_bin_22659.0',\n",
      "                     18: 'rx_bin_12833.0',\n",
      "                     19: 'rx_bin_4915.0',\n",
      "                     20: 'rx_bin_19595.0',\n",
      "                     21: 'rx_bin_1553.0',\n",
      "                     22: 'rx_bin_20107.0',\n",
      "                     23: 'rx_bin_610591.0',\n",
      "                     24: 'rx_bin_610455.0',\n",
      "                     25: 'rx_bin_610602.0',\n",
      "                     26: 'rx_bin_23880.0',\n",
      "                     27: 'rx_bin_10579.0',\n",
      "                     28: 'rx_bin_18902.0',\n",
      "                     29: 'rx_bin_610593.0',\n",
      "                     30: 'rx_bin_12312.0',\n",
      "                     31: 'rx_bin_3585.0',\n",
      "                     32: 'rx_pcn_unk',\n",
      "                     33: 'rx_pcn_minor',\n",
      "                     34: 'rx_pcn_ADV',\n",
      "                     35: 'rx_pcn_9999',\n",
      "                     36: 'rx_pcn_MEDDADV',\n",
      "                     37: 'rx_pcn_A4',\n",
      "                     38: 'rx_pcn_03200000',\n",
      "                     39: 'rx_pcn_MCAIDADV',\n",
      "                     40: 'rx_pcn_00670000',\n",
      "                     41: 'rx_pcn_IRX',\n",
      "                     42: 'rx_pcn_IS',\n",
      "                     43: 'rx_pcn_FEPRX',\n",
      "                     44: 'rx_pcn_MA',\n",
      "                     45: 'rx_pcn_MEDDAET',\n",
      "                     46: 'rx_pcn_WG',\n",
      "                     47: 'rx_pcn_CIMCARE',\n",
      "                     48: 'rx_pcn_BCTX',\n",
      "                     49: 'rx_pcn_OHRXPROD',\n",
      "                     50: 'rx_pcn_6334225',\n",
      "                     51: 'rx_pcn_MEDDPRIME',\n",
      "                     52: 'rx_pcn_FLBC',\n",
      "                     53: 'rx_pcn_TNM',\n",
      "                     54: 'rx_pcn_ASPROD1',\n",
      "                     55: 'rx_pcn_CTRXMEDD',\n",
      "                     56: 'rx_pcn_KYPROD1',\n",
      "                     57: 'rx_pcn_OKA01',\n",
      "                     58: 'rx_pcn_P303018902',\n",
      "                     59: 'rx_pcn_4343',\n",
      "                     60: 'rx_pcn_1215',\n",
      "                     61: 'rx_pcn_01940000',\n",
      "                     62: 'rx_pcn_MASSPROD',\n",
      "                     63: 'rx_pcn_PRX00621',\n",
      "                     64: 'plan_name_unk',\n",
      "                     65: 'plan_name_minor',\n",
      "                     66: 'plan_name_Department of Defense',\n",
      "                     67: 'plan_name_UHCMR MAPD AND MA/RDS',\n",
      "                     68: 'plan_name_CVS|CAREMARK',\n",
      "                     69: 'plan_name_IRXME BB CDH-Y IRXMDTSTR1',\n",
      "                     70: 'plan_name_AETSS BB CDH-N AETMEDD23',\n",
      "                     71: 'plan_name_E23A1 BB CDH-N HPDMEDD',\n",
      "                     72: 'plan_name_UHCMR PDP',\n",
      "                     73: 'plan_name_EXPRESS SCRIPTS',\n",
      "                     74: 'plan_name_OPTUMRX',\n",
      "                     75: 'plan_name_T14 L4Y 10001',\n",
      "                     76: 'plan_name_AMD23 BB CDH-Y AETMEDD23',\n",
      "                     77: 'plan_name_UNITEDHEALTHCARE DUAL COM',\n",
      "                     78: 'plan_name_Careplus D Humana PDP',\n",
      "                     79: 'plan_name_COMMONWEALTH OF KENTUCKY WELLCARE',\n",
      "                     80: 'plan_name_G1K BB CDH-N BBTMPFEPB',\n",
      "                     81: 'plan_name_UPMC',\n",
      "                     82: 'plan_name_DST PHARMACY SOLUTIONS DIRECT',\n",
      "                     83: 'plan_name_MEDICAL RX',\n",
      "                     84: 'plan_name_Gainwell Ohio Medicaid',\n",
      "                     85: 'plan_name_UHC ACIS ENROLLMENTS',\n",
      "                     86: 'plan_name_BMC RETAIL MEDI',\n",
      "                     87: 'plan_name_HP-OHIO',\n",
      "                     88: 'plan_name_2023 Cigna MedD PDP Secure 6T-RTL',\n",
      "                     89: 'plan_name_INDIANA MEDICAID',\n",
      "                     90: 'plan_name_QL TMP Z 30 DAYS RETAIL',\n",
      "                     91: 'plan_name_G1K BB CDH-N BBTMPFEPS',\n",
      "                     92: 'plan_name_BMCHP MA MCD',\n",
      "                     93: 'plan_name_COMMONWEALTH OF KENTUCKY AETNA',\n",
      "                     94: 'plan_name_C23H1 BB CDH-N HPDMEDD',\n",
      "                     95: 'plan_name_INGEN BB CDH-N IRXBAS918'},\n",
      "         'tkn2tid': {'rx_bin_unk': 0,\n",
      "                     'rx_bin_minor': 1,\n",
      "                     'rx_bin_4336.0': 2,\n",
      "                     'rx_bin_610097.0': 3,\n",
      "                     'rx_bin_610014.0': 4,\n",
      "                     'rx_bin_3858.0': 5,\n",
      "                     'rx_bin_15581.0': 6,\n",
      "                     'rx_bin_610502.0': 7,\n",
      "                     'rx_bin_610011.0': 8,\n",
      "                     'rx_bin_11552.0': 9,\n",
      "                     'rx_bin_610494.0': 10,\n",
      "                     'rx_bin_610239.0': 11,\n",
      "                     'rx_bin_610279.0': 12,\n",
      "                     'rx_bin_20115.0': 13,\n",
      "                     'rx_bin_20099.0': 14,\n",
      "                     'rx_bin_17010.0': 15,\n",
      "                     'rx_bin_24251.0': 16,\n",
      "                     'rx_bin_22659.0': 17,\n",
      "                     'rx_bin_12833.0': 18,\n",
      "                     'rx_bin_4915.0': 19,\n",
      "                     'rx_bin_19595.0': 20,\n",
      "                     'rx_bin_1553.0': 21,\n",
      "                     'rx_bin_20107.0': 22,\n",
      "                     'rx_bin_610591.0': 23,\n",
      "                     'rx_bin_610455.0': 24,\n",
      "                     'rx_bin_610602.0': 25,\n",
      "                     'rx_bin_23880.0': 26,\n",
      "                     'rx_bin_10579.0': 27,\n",
      "                     'rx_bin_18902.0': 28,\n",
      "                     'rx_bin_610593.0': 29,\n",
      "                     'rx_bin_12312.0': 30,\n",
      "                     'rx_bin_3585.0': 31,\n",
      "                     'rx_pcn_unk': 32,\n",
      "                     'rx_pcn_minor': 33,\n",
      "                     'rx_pcn_ADV': 34,\n",
      "                     'rx_pcn_9999': 35,\n",
      "                     'rx_pcn_MEDDADV': 36,\n",
      "                     'rx_pcn_A4': 37,\n",
      "                     'rx_pcn_03200000': 38,\n",
      "                     'rx_pcn_MCAIDADV': 39,\n",
      "                     'rx_pcn_00670000': 40,\n",
      "                     'rx_pcn_IRX': 41,\n",
      "                     'rx_pcn_IS': 42,\n",
      "                     'rx_pcn_FEPRX': 43,\n",
      "                     'rx_pcn_MA': 44,\n",
      "                     'rx_pcn_MEDDAET': 45,\n",
      "                     'rx_pcn_WG': 46,\n",
      "                     'rx_pcn_CIMCARE': 47,\n",
      "                     'rx_pcn_BCTX': 48,\n",
      "                     'rx_pcn_OHRXPROD': 49,\n",
      "                     'rx_pcn_6334225': 50,\n",
      "                     'rx_pcn_MEDDPRIME': 51,\n",
      "                     'rx_pcn_FLBC': 52,\n",
      "                     'rx_pcn_TNM': 53,\n",
      "                     'rx_pcn_ASPROD1': 54,\n",
      "                     'rx_pcn_CTRXMEDD': 55,\n",
      "                     'rx_pcn_KYPROD1': 56,\n",
      "                     'rx_pcn_OKA01': 57,\n",
      "                     'rx_pcn_P303018902': 58,\n",
      "                     'rx_pcn_4343': 59,\n",
      "                     'rx_pcn_1215': 60,\n",
      "                     'rx_pcn_01940000': 61,\n",
      "                     'rx_pcn_MASSPROD': 62,\n",
      "                     'rx_pcn_PRX00621': 63,\n",
      "                     'plan_name_unk': 64,\n",
      "                     'plan_name_minor': 65,\n",
      "                     'plan_name_Department of Defense': 66,\n",
      "                     'plan_name_UHCMR MAPD AND MA/RDS': 67,\n",
      "                     'plan_name_CVS|CAREMARK': 68,\n",
      "                     'plan_name_IRXME BB CDH-Y IRXMDTSTR1': 69,\n",
      "                     'plan_name_AETSS BB CDH-N AETMEDD23': 70,\n",
      "                     'plan_name_E23A1 BB CDH-N HPDMEDD': 71,\n",
      "                     'plan_name_UHCMR PDP': 72,\n",
      "                     'plan_name_EXPRESS SCRIPTS': 73,\n",
      "                     'plan_name_OPTUMRX': 74,\n",
      "                     'plan_name_T14 L4Y 10001': 75,\n",
      "                     'plan_name_AMD23 BB CDH-Y AETMEDD23': 76,\n",
      "                     'plan_name_UNITEDHEALTHCARE DUAL COM': 77,\n",
      "                     'plan_name_Careplus D Humana PDP': 78,\n",
      "                     'plan_name_COMMONWEALTH OF KENTUCKY WELLCARE': 79,\n",
      "                     'plan_name_G1K BB CDH-N BBTMPFEPB': 80,\n",
      "                     'plan_name_UPMC': 81,\n",
      "                     'plan_name_DST PHARMACY SOLUTIONS DIRECT': 82,\n",
      "                     'plan_name_MEDICAL RX': 83,\n",
      "                     'plan_name_Gainwell Ohio Medicaid': 84,\n",
      "                     'plan_name_UHC ACIS ENROLLMENTS': 85,\n",
      "                     'plan_name_BMC RETAIL MEDI': 86,\n",
      "                     'plan_name_HP-OHIO': 87,\n",
      "                     'plan_name_2023 Cigna MedD PDP Secure 6T-RTL': 88,\n",
      "                     'plan_name_INDIANA MEDICAID': 89,\n",
      "                     'plan_name_QL TMP Z 30 DAYS RETAIL': 90,\n",
      "                     'plan_name_G1K BB CDH-N BBTMPFEPS': 91,\n",
      "                     'plan_name_BMCHP MA MCD': 92,\n",
      "                     'plan_name_COMMONWEALTH OF KENTUCKY AETNA': 93,\n",
      "                     'plan_name_C23H1 BB CDH-N HPDMEDD': 94,\n",
      "                     'plan_name_INGEN BB CDH-N IRXBAS918': 95}}}\n"
     ]
    }
   ],
   "source": [
    "CaseTknVocab = get_casetkn_vocab(RecObsName_to_RecObsInfo)\n",
    "pprint(CaseTknVocab, sort_dicts=False)"
   ]
  },
  {
   "cell_type": "markdown",
   "id": "4701e452",
   "metadata": {},
   "source": [
    "\n",
    "## [Step 8] Fetch ds_rec"
   ]
  },
  {
   "cell_type": "code",
   "execution_count": 64,
   "id": "4666ba8a",
   "metadata": {},
   "outputs": [
    {
     "data": {
      "text/plain": [
       "{'PID': 1038570,\n",
       " 'ObsDT': Timestamp('2023-06-13 15:59:16.918000'),\n",
       " 'PInvID': '1038570-008',\n",
       " 'RxID': '1038570-008-004'}"
      ]
     },
     "execution_count": 64,
     "metadata": {},
     "output_type": "execute_result"
    }
   ],
   "source": [
    "case_example = idx_to_examples[4]\n",
    "case_example"
   ]
  },
  {
   "cell_type": "code",
   "execution_count": 65,
   "id": "87d8d8f3",
   "metadata": {},
   "outputs": [
    {
     "data": {
      "text/plain": [
       "'Rx-InObs-InsCate'"
      ]
     },
     "execution_count": 65,
     "metadata": {},
     "output_type": "execute_result"
    }
   ],
   "source": [
    "RO"
   ]
  },
  {
   "cell_type": "code",
   "execution_count": 66,
   "id": "8733c8d5",
   "metadata": {},
   "outputs": [
    {
     "name": "stdout",
     "output_type": "stream",
     "text": [
      "{0: {'PID': 1024150,\n",
      "     'ObsDT': Timestamp('2023-11-28 15:55:59.016000'),\n",
      "     'PInvID': '1024150-007',\n",
      "     'RxID': '1024150-007-001'},\n",
      " 1: {'PID': 1013126,\n",
      "     'ObsDT': Timestamp('2023-06-15 02:29:33.640000'),\n",
      "     'PInvID': '1013126-009',\n",
      "     'RxID': '1013126-009-000'},\n",
      " 2: {'PID': 1034286,\n",
      "     'ObsDT': Timestamp('2023-09-29 13:40:46.160000'),\n",
      "     'PInvID': '1034286-002',\n",
      "     'RxID': '1034286-002-000'},\n",
      " 3: {'PID': 1012301,\n",
      "     'ObsDT': Timestamp('2023-06-07 13:23:15.061000'),\n",
      "     'PInvID': '1012301-008',\n",
      "     'RxID': '1012301-008-001'},\n",
      " 4: {'PID': 1038570,\n",
      "     'ObsDT': Timestamp('2023-06-13 15:59:16.918000'),\n",
      "     'PInvID': '1038570-008',\n",
      "     'RxID': '1038570-008-004'},\n",
      " 5: {'PID': 1032487,\n",
      "     'ObsDT': Timestamp('2023-09-01 08:39:11.971000'),\n",
      "     'PInvID': '1032487-000',\n",
      "     'RxID': '1032487-000-000'},\n",
      " 6: {'PID': 1042644,\n",
      "     'ObsDT': Timestamp('2023-04-04 18:46:16.428000'),\n",
      "     'PInvID': '1042644-001',\n",
      "     'RxID': '1042644-001-000'},\n",
      " 7: {'PID': 1042660,\n",
      "     'ObsDT': Timestamp('2023-09-27 17:42:56.103000'),\n",
      "     'PInvID': '1042660-012',\n",
      "     'RxID': '1042660-012-000'},\n",
      " 8: {'PID': 1032203,\n",
      "     'ObsDT': Timestamp('2023-09-21 00:21:53.416000'),\n",
      "     'PInvID': '1032203-000',\n",
      "     'RxID': '1032203-000-001'},\n",
      " 9: {'PID': 1009855,\n",
      "     'ObsDT': Timestamp('2023-05-17 18:14:31.324000'),\n",
      "     'PInvID': '1009855-003',\n",
      "     'RxID': '1009855-003-000'}}\n",
      "{'Rx': {1009855: Dataset({\n",
      "    features: ['PID', 'PInvID', 'RxID', 'DT', 'Rx-InsCateTkn_wgt', 'Rx-InsCateTkn_tknidx'],\n",
      "    num_rows: 12\n",
      "}),\n",
      "        1012301: Dataset({\n",
      "    features: ['PID', 'PInvID', 'RxID', 'DT', 'Rx-InsCateTkn_wgt', 'Rx-InsCateTkn_tknidx'],\n",
      "    num_rows: 30\n",
      "}),\n",
      "        1013126: Dataset({\n",
      "    features: ['PID', 'PInvID', 'RxID', 'DT', 'Rx-InsCateTkn_wgt', 'Rx-InsCateTkn_tknidx'],\n",
      "    num_rows: 31\n",
      "}),\n",
      "        1024150: Dataset({\n",
      "    features: ['PID', 'PInvID', 'RxID', 'DT', 'Rx-InsCateTkn_wgt', 'Rx-InsCateTkn_tknidx'],\n",
      "    num_rows: 10\n",
      "}),\n",
      "        1032203: Dataset({\n",
      "    features: ['PID', 'PInvID', 'RxID', 'DT', 'Rx-InsCateTkn_wgt', 'Rx-InsCateTkn_tknidx'],\n",
      "    num_rows: 2\n",
      "}),\n",
      "        1032487: Dataset({\n",
      "    features: ['PID', 'PInvID', 'RxID', 'DT', 'Rx-InsCateTkn_wgt', 'Rx-InsCateTkn_tknidx'],\n",
      "    num_rows: 1\n",
      "}),\n",
      "        1034286: Dataset({\n",
      "    features: ['PID', 'PInvID', 'RxID', 'DT', 'Rx-InsCateTkn_wgt', 'Rx-InsCateTkn_tknidx'],\n",
      "    num_rows: 1\n",
      "}),\n",
      "        1038570: Dataset({\n",
      "    features: ['PID', 'PInvID', 'RxID', 'DT', 'Rx-InsCateTkn_wgt', 'Rx-InsCateTkn_tknidx'],\n",
      "    num_rows: 54\n",
      "}),\n",
      "        1042644: Dataset({\n",
      "    features: ['PID', 'PInvID', 'RxID', 'DT', 'Rx-InsCateTkn_wgt', 'Rx-InsCateTkn_tknidx'],\n",
      "    num_rows: 20\n",
      "}),\n",
      "        1042660: Dataset({\n",
      "    features: ['PID', 'PInvID', 'RxID', 'DT', 'Rx-InsCateTkn_wgt', 'Rx-InsCateTkn_tknidx'],\n",
      "    num_rows: 17\n",
      "})}}\n"
     ]
    }
   ],
   "source": [
    "# RO_to_ROdf: RecObsName_to_RecObsDS\n",
    "from recfldtkn.observer import get_Record_P\n",
    "\n",
    "pprint(idx_to_examples, sort_dicts=False)\n",
    "\n",
    "RecName_to_REC_P = get_Record_P(idx_to_examples, # a list of cases\n",
    "                                RecObsName_to_RecObsInfo, # RO_to_ROinfo\n",
    "                                )\n",
    "\n",
    "pprint(RecName_to_REC_P) # R_i^{RecName}"
   ]
  },
  {
   "cell_type": "code",
   "execution_count": 67,
   "id": "6b52bb54",
   "metadata": {},
   "outputs": [],
   "source": [
    "# RecName_to_REC_P['Rx'][1020788]"
   ]
  },
  {
   "cell_type": "markdown",
   "metadata": {},
   "source": [
    "## [Step 9] Fetch ROdf: $R_i^{recname}$"
   ]
  },
  {
   "cell_type": "code",
   "execution_count": 68,
   "id": "7ba386ac",
   "metadata": {},
   "outputs": [
    {
     "name": "stdout",
     "output_type": "stream",
     "text": [
      "\n",
      "====================\n",
      "idx: 0\n",
      "case: {'PID': 1024150, 'ObsDT': Timestamp('2023-11-28 15:55:59.016000'), 'PInvID': '1024150-007', 'RxID': '1024150-007-001'}\n",
      "ROdf: {'Rx-InObs-InsCate': Dataset({\n",
      "    features: ['PID', 'PInvID', 'RxID', 'DT', 'Rx-InsCateTkn_wgt', 'Rx-InsCateTkn_tknidx'],\n",
      "    num_rows: 2\n",
      "})}\n",
      "====================\n",
      "\n",
      "====================\n",
      "idx: 1\n",
      "case: {'PID': 1013126, 'ObsDT': Timestamp('2023-06-15 02:29:33.640000'), 'PInvID': '1013126-009', 'RxID': '1013126-009-000'}\n",
      "ROdf: {'Rx-InObs-InsCate': Dataset({\n",
      "    features: ['PID', 'PInvID', 'RxID', 'DT', 'Rx-InsCateTkn_wgt', 'Rx-InsCateTkn_tknidx'],\n",
      "    num_rows: 1\n",
      "})}\n",
      "====================\n",
      "\n",
      "====================\n",
      "idx: 2\n",
      "case: {'PID': 1034286, 'ObsDT': Timestamp('2023-09-29 13:40:46.160000'), 'PInvID': '1034286-002', 'RxID': '1034286-002-000'}\n",
      "ROdf: {'Rx-InObs-InsCate': Dataset({\n",
      "    features: ['PID', 'PInvID', 'RxID', 'DT', 'Rx-InsCateTkn_wgt', 'Rx-InsCateTkn_tknidx'],\n",
      "    num_rows: 1\n",
      "})}\n",
      "====================\n",
      "\n",
      "====================\n",
      "idx: 3\n",
      "case: {'PID': 1012301, 'ObsDT': Timestamp('2023-06-07 13:23:15.061000'), 'PInvID': '1012301-008', 'RxID': '1012301-008-001'}\n",
      "ROdf: {'Rx-InObs-InsCate': Dataset({\n",
      "    features: ['PID', 'PInvID', 'RxID', 'DT', 'Rx-InsCateTkn_wgt', 'Rx-InsCateTkn_tknidx'],\n",
      "    num_rows: 3\n",
      "})}\n",
      "====================\n",
      "\n",
      "====================\n",
      "idx: 4\n",
      "case: {'PID': 1038570, 'ObsDT': Timestamp('2023-06-13 15:59:16.918000'), 'PInvID': '1038570-008', 'RxID': '1038570-008-004'}\n",
      "ROdf: {'Rx-InObs-InsCate': Dataset({\n",
      "    features: ['PID', 'PInvID', 'RxID', 'DT', 'Rx-InsCateTkn_wgt', 'Rx-InsCateTkn_tknidx'],\n",
      "    num_rows: 11\n",
      "})}\n",
      "====================\n",
      "\n",
      "====================\n",
      "idx: 5\n",
      "case: {'PID': 1032487, 'ObsDT': Timestamp('2023-09-01 08:39:11.971000'), 'PInvID': '1032487-000', 'RxID': '1032487-000-000'}\n",
      "ROdf: {'Rx-InObs-InsCate': Dataset({\n",
      "    features: ['PID', 'PInvID', 'RxID', 'DT', 'Rx-InsCateTkn_wgt', 'Rx-InsCateTkn_tknidx'],\n",
      "    num_rows: 1\n",
      "})}\n",
      "====================\n",
      "\n",
      "====================\n",
      "idx: 6\n",
      "case: {'PID': 1042644, 'ObsDT': Timestamp('2023-04-04 18:46:16.428000'), 'PInvID': '1042644-001', 'RxID': '1042644-001-000'}\n",
      "ROdf: {'Rx-InObs-InsCate': Dataset({\n",
      "    features: ['PID', 'PInvID', 'RxID', 'DT', 'Rx-InsCateTkn_wgt', 'Rx-InsCateTkn_tknidx'],\n",
      "    num_rows: 1\n",
      "})}\n",
      "====================\n",
      "\n",
      "====================\n",
      "idx: 7\n",
      "case: {'PID': 1042660, 'ObsDT': Timestamp('2023-09-27 17:42:56.103000'), 'PInvID': '1042660-012', 'RxID': '1042660-012-000'}\n",
      "ROdf: {'Rx-InObs-InsCate': Dataset({\n",
      "    features: ['PID', 'PInvID', 'RxID', 'DT', 'Rx-InsCateTkn_wgt', 'Rx-InsCateTkn_tknidx'],\n",
      "    num_rows: 1\n",
      "})}\n",
      "====================\n",
      "\n",
      "====================\n",
      "idx: 8\n",
      "case: {'PID': 1032203, 'ObsDT': Timestamp('2023-09-21 00:21:53.416000'), 'PInvID': '1032203-000', 'RxID': '1032203-000-001'}\n",
      "ROdf: {'Rx-InObs-InsCate': Dataset({\n",
      "    features: ['PID', 'PInvID', 'RxID', 'DT', 'Rx-InsCateTkn_wgt', 'Rx-InsCateTkn_tknidx'],\n",
      "    num_rows: 2\n",
      "})}\n",
      "====================\n",
      "\n",
      "====================\n",
      "idx: 9\n",
      "case: {'PID': 1009855, 'ObsDT': Timestamp('2023-05-17 18:14:31.324000'), 'PInvID': '1009855-003', 'RxID': '1009855-003-000'}\n",
      "ROdf: {'Rx-InObs-InsCate': Dataset({\n",
      "    features: ['PID', 'PInvID', 'RxID', 'DT', 'Rx-InsCateTkn_wgt', 'Rx-InsCateTkn_tknidx'],\n",
      "    num_rows: 1\n",
      "})}\n",
      "====================\n"
     ]
    }
   ],
   "source": [
    "from recfldtkn.observer import get_idx_to_RecObsName_to_RecObsDS\n",
    "idx_to_RO_to_ROdf = get_idx_to_RecObsName_to_RecObsDS(idx_to_examples, # a list of cases\n",
    "                                                       RecObsName_to_RecObsInfo, # RO_to_ROinfo\n",
    "                                                       RecName_to_REC_P, # R_i^{recname}\n",
    "                                                       )\n",
    "\n",
    "for idx, case in idx_to_examples.items():\n",
    "    print('\\n====================')\n",
    "    print('idx:', idx)\n",
    "    print('case:', case)\n",
    "    print('ROdf:', idx_to_RO_to_ROdf[idx]) # R_i^{RecNum, Ckpd}\n",
    "    print('====================')\n",
    "\n",
    "# RO_list = [RO]\n",
    "    \n",
    "# RO --> {RecName, Ckpd, FldName}\n",
    "#    c_ij ---> R_i&{RecName} ---> RO_ij: R_ij&{RecName, Ckpd, FldName}\n",
    "#    c_ij ---> RO_ij "
   ]
  },
  {
   "cell_type": "code",
   "execution_count": 69,
   "id": "c643c436",
   "metadata": {},
   "outputs": [
    {
     "data": {
      "text/plain": [
       "['Rx-InObs-InsCate']"
      ]
     },
     "execution_count": 69,
     "metadata": {},
     "output_type": "execute_result"
    }
   ],
   "source": [
    "# RO_to_ROInfo: RecObsName_to_RecObsInfo\n",
    "[i for i in RecObsName_to_RecObsInfo]"
   ]
  },
  {
   "cell_type": "code",
   "execution_count": 70,
   "id": "6a3cb7c6",
   "metadata": {},
   "outputs": [
    {
     "data": {
      "text/plain": [
       "{'tkn': {'tid2tkn': {0: 'rx_bin_unk',\n",
       "   1: 'rx_bin_minor',\n",
       "   2: 'rx_bin_4336.0',\n",
       "   3: 'rx_bin_610097.0',\n",
       "   4: 'rx_bin_610014.0',\n",
       "   5: 'rx_bin_3858.0',\n",
       "   6: 'rx_bin_15581.0',\n",
       "   7: 'rx_bin_610502.0',\n",
       "   8: 'rx_bin_610011.0',\n",
       "   9: 'rx_bin_11552.0',\n",
       "   10: 'rx_bin_610494.0',\n",
       "   11: 'rx_bin_610239.0',\n",
       "   12: 'rx_bin_610279.0',\n",
       "   13: 'rx_bin_20115.0',\n",
       "   14: 'rx_bin_20099.0',\n",
       "   15: 'rx_bin_17010.0',\n",
       "   16: 'rx_bin_24251.0',\n",
       "   17: 'rx_bin_22659.0',\n",
       "   18: 'rx_bin_12833.0',\n",
       "   19: 'rx_bin_4915.0',\n",
       "   20: 'rx_bin_19595.0',\n",
       "   21: 'rx_bin_1553.0',\n",
       "   22: 'rx_bin_20107.0',\n",
       "   23: 'rx_bin_610591.0',\n",
       "   24: 'rx_bin_610455.0',\n",
       "   25: 'rx_bin_610602.0',\n",
       "   26: 'rx_bin_23880.0',\n",
       "   27: 'rx_bin_10579.0',\n",
       "   28: 'rx_bin_18902.0',\n",
       "   29: 'rx_bin_610593.0',\n",
       "   30: 'rx_bin_12312.0',\n",
       "   31: 'rx_bin_3585.0',\n",
       "   32: 'rx_pcn_unk',\n",
       "   33: 'rx_pcn_minor',\n",
       "   34: 'rx_pcn_ADV',\n",
       "   35: 'rx_pcn_9999',\n",
       "   36: 'rx_pcn_MEDDADV',\n",
       "   37: 'rx_pcn_A4',\n",
       "   38: 'rx_pcn_03200000',\n",
       "   39: 'rx_pcn_MCAIDADV',\n",
       "   40: 'rx_pcn_00670000',\n",
       "   41: 'rx_pcn_IRX',\n",
       "   42: 'rx_pcn_IS',\n",
       "   43: 'rx_pcn_FEPRX',\n",
       "   44: 'rx_pcn_MA',\n",
       "   45: 'rx_pcn_MEDDAET',\n",
       "   46: 'rx_pcn_WG',\n",
       "   47: 'rx_pcn_CIMCARE',\n",
       "   48: 'rx_pcn_BCTX',\n",
       "   49: 'rx_pcn_OHRXPROD',\n",
       "   50: 'rx_pcn_6334225',\n",
       "   51: 'rx_pcn_MEDDPRIME',\n",
       "   52: 'rx_pcn_FLBC',\n",
       "   53: 'rx_pcn_TNM',\n",
       "   54: 'rx_pcn_ASPROD1',\n",
       "   55: 'rx_pcn_CTRXMEDD',\n",
       "   56: 'rx_pcn_KYPROD1',\n",
       "   57: 'rx_pcn_OKA01',\n",
       "   58: 'rx_pcn_P303018902',\n",
       "   59: 'rx_pcn_4343',\n",
       "   60: 'rx_pcn_1215',\n",
       "   61: 'rx_pcn_01940000',\n",
       "   62: 'rx_pcn_MASSPROD',\n",
       "   63: 'rx_pcn_PRX00621',\n",
       "   64: 'plan_name_unk',\n",
       "   65: 'plan_name_minor',\n",
       "   66: 'plan_name_Department of Defense',\n",
       "   67: 'plan_name_UHCMR MAPD AND MA/RDS',\n",
       "   68: 'plan_name_CVS|CAREMARK',\n",
       "   69: 'plan_name_IRXME BB CDH-Y IRXMDTSTR1',\n",
       "   70: 'plan_name_AETSS BB CDH-N AETMEDD23',\n",
       "   71: 'plan_name_E23A1 BB CDH-N HPDMEDD',\n",
       "   72: 'plan_name_UHCMR PDP',\n",
       "   73: 'plan_name_EXPRESS SCRIPTS',\n",
       "   74: 'plan_name_OPTUMRX',\n",
       "   75: 'plan_name_T14 L4Y 10001',\n",
       "   76: 'plan_name_AMD23 BB CDH-Y AETMEDD23',\n",
       "   77: 'plan_name_UNITEDHEALTHCARE DUAL COM',\n",
       "   78: 'plan_name_Careplus D Humana PDP',\n",
       "   79: 'plan_name_COMMONWEALTH OF KENTUCKY WELLCARE',\n",
       "   80: 'plan_name_G1K BB CDH-N BBTMPFEPB',\n",
       "   81: 'plan_name_UPMC',\n",
       "   82: 'plan_name_DST PHARMACY SOLUTIONS DIRECT',\n",
       "   83: 'plan_name_MEDICAL RX',\n",
       "   84: 'plan_name_Gainwell Ohio Medicaid',\n",
       "   85: 'plan_name_UHC ACIS ENROLLMENTS',\n",
       "   86: 'plan_name_BMC RETAIL MEDI',\n",
       "   87: 'plan_name_HP-OHIO',\n",
       "   88: 'plan_name_2023 Cigna MedD PDP Secure 6T-RTL',\n",
       "   89: 'plan_name_INDIANA MEDICAID',\n",
       "   90: 'plan_name_QL TMP Z 30 DAYS RETAIL',\n",
       "   91: 'plan_name_G1K BB CDH-N BBTMPFEPS',\n",
       "   92: 'plan_name_BMCHP MA MCD',\n",
       "   93: 'plan_name_COMMONWEALTH OF KENTUCKY AETNA',\n",
       "   94: 'plan_name_C23H1 BB CDH-N HPDMEDD',\n",
       "   95: 'plan_name_INGEN BB CDH-N IRXBAS918'},\n",
       "  'tkn2tid': {'rx_bin_unk': 0,\n",
       "   'rx_bin_minor': 1,\n",
       "   'rx_bin_4336.0': 2,\n",
       "   'rx_bin_610097.0': 3,\n",
       "   'rx_bin_610014.0': 4,\n",
       "   'rx_bin_3858.0': 5,\n",
       "   'rx_bin_15581.0': 6,\n",
       "   'rx_bin_610502.0': 7,\n",
       "   'rx_bin_610011.0': 8,\n",
       "   'rx_bin_11552.0': 9,\n",
       "   'rx_bin_610494.0': 10,\n",
       "   'rx_bin_610239.0': 11,\n",
       "   'rx_bin_610279.0': 12,\n",
       "   'rx_bin_20115.0': 13,\n",
       "   'rx_bin_20099.0': 14,\n",
       "   'rx_bin_17010.0': 15,\n",
       "   'rx_bin_24251.0': 16,\n",
       "   'rx_bin_22659.0': 17,\n",
       "   'rx_bin_12833.0': 18,\n",
       "   'rx_bin_4915.0': 19,\n",
       "   'rx_bin_19595.0': 20,\n",
       "   'rx_bin_1553.0': 21,\n",
       "   'rx_bin_20107.0': 22,\n",
       "   'rx_bin_610591.0': 23,\n",
       "   'rx_bin_610455.0': 24,\n",
       "   'rx_bin_610602.0': 25,\n",
       "   'rx_bin_23880.0': 26,\n",
       "   'rx_bin_10579.0': 27,\n",
       "   'rx_bin_18902.0': 28,\n",
       "   'rx_bin_610593.0': 29,\n",
       "   'rx_bin_12312.0': 30,\n",
       "   'rx_bin_3585.0': 31,\n",
       "   'rx_pcn_unk': 32,\n",
       "   'rx_pcn_minor': 33,\n",
       "   'rx_pcn_ADV': 34,\n",
       "   'rx_pcn_9999': 35,\n",
       "   'rx_pcn_MEDDADV': 36,\n",
       "   'rx_pcn_A4': 37,\n",
       "   'rx_pcn_03200000': 38,\n",
       "   'rx_pcn_MCAIDADV': 39,\n",
       "   'rx_pcn_00670000': 40,\n",
       "   'rx_pcn_IRX': 41,\n",
       "   'rx_pcn_IS': 42,\n",
       "   'rx_pcn_FEPRX': 43,\n",
       "   'rx_pcn_MA': 44,\n",
       "   'rx_pcn_MEDDAET': 45,\n",
       "   'rx_pcn_WG': 46,\n",
       "   'rx_pcn_CIMCARE': 47,\n",
       "   'rx_pcn_BCTX': 48,\n",
       "   'rx_pcn_OHRXPROD': 49,\n",
       "   'rx_pcn_6334225': 50,\n",
       "   'rx_pcn_MEDDPRIME': 51,\n",
       "   'rx_pcn_FLBC': 52,\n",
       "   'rx_pcn_TNM': 53,\n",
       "   'rx_pcn_ASPROD1': 54,\n",
       "   'rx_pcn_CTRXMEDD': 55,\n",
       "   'rx_pcn_KYPROD1': 56,\n",
       "   'rx_pcn_OKA01': 57,\n",
       "   'rx_pcn_P303018902': 58,\n",
       "   'rx_pcn_4343': 59,\n",
       "   'rx_pcn_1215': 60,\n",
       "   'rx_pcn_01940000': 61,\n",
       "   'rx_pcn_MASSPROD': 62,\n",
       "   'rx_pcn_PRX00621': 63,\n",
       "   'plan_name_unk': 64,\n",
       "   'plan_name_minor': 65,\n",
       "   'plan_name_Department of Defense': 66,\n",
       "   'plan_name_UHCMR MAPD AND MA/RDS': 67,\n",
       "   'plan_name_CVS|CAREMARK': 68,\n",
       "   'plan_name_IRXME BB CDH-Y IRXMDTSTR1': 69,\n",
       "   'plan_name_AETSS BB CDH-N AETMEDD23': 70,\n",
       "   'plan_name_E23A1 BB CDH-N HPDMEDD': 71,\n",
       "   'plan_name_UHCMR PDP': 72,\n",
       "   'plan_name_EXPRESS SCRIPTS': 73,\n",
       "   'plan_name_OPTUMRX': 74,\n",
       "   'plan_name_T14 L4Y 10001': 75,\n",
       "   'plan_name_AMD23 BB CDH-Y AETMEDD23': 76,\n",
       "   'plan_name_UNITEDHEALTHCARE DUAL COM': 77,\n",
       "   'plan_name_Careplus D Humana PDP': 78,\n",
       "   'plan_name_COMMONWEALTH OF KENTUCKY WELLCARE': 79,\n",
       "   'plan_name_G1K BB CDH-N BBTMPFEPB': 80,\n",
       "   'plan_name_UPMC': 81,\n",
       "   'plan_name_DST PHARMACY SOLUTIONS DIRECT': 82,\n",
       "   'plan_name_MEDICAL RX': 83,\n",
       "   'plan_name_Gainwell Ohio Medicaid': 84,\n",
       "   'plan_name_UHC ACIS ENROLLMENTS': 85,\n",
       "   'plan_name_BMC RETAIL MEDI': 86,\n",
       "   'plan_name_HP-OHIO': 87,\n",
       "   'plan_name_2023 Cigna MedD PDP Secure 6T-RTL': 88,\n",
       "   'plan_name_INDIANA MEDICAID': 89,\n",
       "   'plan_name_QL TMP Z 30 DAYS RETAIL': 90,\n",
       "   'plan_name_G1K BB CDH-N BBTMPFEPS': 91,\n",
       "   'plan_name_BMCHP MA MCD': 92,\n",
       "   'plan_name_COMMONWEALTH OF KENTUCKY AETNA': 93,\n",
       "   'plan_name_C23H1 BB CDH-N HPDMEDD': 94,\n",
       "   'plan_name_INGEN BB CDH-N IRXBAS918': 95}}}"
      ]
     },
     "execution_count": 70,
     "metadata": {},
     "output_type": "execute_result"
    }
   ],
   "source": [
    "CaseTknVocab"
   ]
  },
  {
   "cell_type": "code",
   "execution_count": 71,
   "id": "bd125aef",
   "metadata": {},
   "outputs": [
    {
     "name": "stdout",
     "output_type": "stream",
     "text": [
      "case_example: {'PID': 1042660, 'ObsDT': Timestamp('2023-09-27 17:42:56.103000'), 'PInvID': '1042660-012', 'RxID': '1042660-012-000'}\n",
      "RecObsName_to_RecObsDS (RO_ij): {'Rx-InObs-InsCate': Dataset({\n",
      "    features: ['PID', 'PInvID', 'RxID', 'DT', 'Rx-InsCateTkn_wgt', 'Rx-InsCateTkn_tknidx'],\n",
      "    num_rows: 1\n",
      "})}\n",
      "['Rx-InObs-InsCate']\n",
      "{'tkn': {'tid2tkn': {0: 'rx_bin_unk', 1: 'rx_bin_minor', 2: 'rx_bin_4336.0', 3: 'rx_bin_610097.0', 4: 'rx_bin_610014.0', 5: 'rx_bin_3858.0', 6: 'rx_bin_15581.0', 7: 'rx_bin_610502.0', 8: 'rx_bin_610011.0', 9: 'rx_bin_11552.0', 10: 'rx_bin_610494.0', 11: 'rx_bin_610239.0', 12: 'rx_bin_610279.0', 13: 'rx_bin_20115.0', 14: 'rx_bin_20099.0', 15: 'rx_bin_17010.0', 16: 'rx_bin_24251.0', 17: 'rx_bin_22659.0', 18: 'rx_bin_12833.0', 19: 'rx_bin_4915.0', 20: 'rx_bin_19595.0', 21: 'rx_bin_1553.0', 22: 'rx_bin_20107.0', 23: 'rx_bin_610591.0', 24: 'rx_bin_610455.0', 25: 'rx_bin_610602.0', 26: 'rx_bin_23880.0', 27: 'rx_bin_10579.0', 28: 'rx_bin_18902.0', 29: 'rx_bin_610593.0', 30: 'rx_bin_12312.0', 31: 'rx_bin_3585.0', 32: 'rx_pcn_unk', 33: 'rx_pcn_minor', 34: 'rx_pcn_ADV', 35: 'rx_pcn_9999', 36: 'rx_pcn_MEDDADV', 37: 'rx_pcn_A4', 38: 'rx_pcn_03200000', 39: 'rx_pcn_MCAIDADV', 40: 'rx_pcn_00670000', 41: 'rx_pcn_IRX', 42: 'rx_pcn_IS', 43: 'rx_pcn_FEPRX', 44: 'rx_pcn_MA', 45: 'rx_pcn_MEDDAET', 46: 'rx_pcn_WG', 47: 'rx_pcn_CIMCARE', 48: 'rx_pcn_BCTX', 49: 'rx_pcn_OHRXPROD', 50: 'rx_pcn_6334225', 51: 'rx_pcn_MEDDPRIME', 52: 'rx_pcn_FLBC', 53: 'rx_pcn_TNM', 54: 'rx_pcn_ASPROD1', 55: 'rx_pcn_CTRXMEDD', 56: 'rx_pcn_KYPROD1', 57: 'rx_pcn_OKA01', 58: 'rx_pcn_P303018902', 59: 'rx_pcn_4343', 60: 'rx_pcn_1215', 61: 'rx_pcn_01940000', 62: 'rx_pcn_MASSPROD', 63: 'rx_pcn_PRX00621', 64: 'plan_name_unk', 65: 'plan_name_minor', 66: 'plan_name_Department of Defense', 67: 'plan_name_UHCMR MAPD AND MA/RDS', 68: 'plan_name_CVS|CAREMARK', 69: 'plan_name_IRXME BB CDH-Y IRXMDTSTR1', 70: 'plan_name_AETSS BB CDH-N AETMEDD23', 71: 'plan_name_E23A1 BB CDH-N HPDMEDD', 72: 'plan_name_UHCMR PDP', 73: 'plan_name_EXPRESS SCRIPTS', 74: 'plan_name_OPTUMRX', 75: 'plan_name_T14 L4Y 10001', 76: 'plan_name_AMD23 BB CDH-Y AETMEDD23', 77: 'plan_name_UNITEDHEALTHCARE DUAL COM', 78: 'plan_name_Careplus D Humana PDP', 79: 'plan_name_COMMONWEALTH OF KENTUCKY WELLCARE', 80: 'plan_name_G1K BB CDH-N BBTMPFEPB', 81: 'plan_name_UPMC', 82: 'plan_name_DST PHARMACY SOLUTIONS DIRECT', 83: 'plan_name_MEDICAL RX', 84: 'plan_name_Gainwell Ohio Medicaid', 85: 'plan_name_UHC ACIS ENROLLMENTS', 86: 'plan_name_BMC RETAIL MEDI', 87: 'plan_name_HP-OHIO', 88: 'plan_name_2023 Cigna MedD PDP Secure 6T-RTL', 89: 'plan_name_INDIANA MEDICAID', 90: 'plan_name_QL TMP Z 30 DAYS RETAIL', 91: 'plan_name_G1K BB CDH-N BBTMPFEPS', 92: 'plan_name_BMCHP MA MCD', 93: 'plan_name_COMMONWEALTH OF KENTUCKY AETNA', 94: 'plan_name_C23H1 BB CDH-N HPDMEDD', 95: 'plan_name_INGEN BB CDH-N IRXBAS918'}, 'tkn2tid': {'rx_bin_unk': 0, 'rx_bin_minor': 1, 'rx_bin_4336.0': 2, 'rx_bin_610097.0': 3, 'rx_bin_610014.0': 4, 'rx_bin_3858.0': 5, 'rx_bin_15581.0': 6, 'rx_bin_610502.0': 7, 'rx_bin_610011.0': 8, 'rx_bin_11552.0': 9, 'rx_bin_610494.0': 10, 'rx_bin_610239.0': 11, 'rx_bin_610279.0': 12, 'rx_bin_20115.0': 13, 'rx_bin_20099.0': 14, 'rx_bin_17010.0': 15, 'rx_bin_24251.0': 16, 'rx_bin_22659.0': 17, 'rx_bin_12833.0': 18, 'rx_bin_4915.0': 19, 'rx_bin_19595.0': 20, 'rx_bin_1553.0': 21, 'rx_bin_20107.0': 22, 'rx_bin_610591.0': 23, 'rx_bin_610455.0': 24, 'rx_bin_610602.0': 25, 'rx_bin_23880.0': 26, 'rx_bin_10579.0': 27, 'rx_bin_18902.0': 28, 'rx_bin_610593.0': 29, 'rx_bin_12312.0': 30, 'rx_bin_3585.0': 31, 'rx_pcn_unk': 32, 'rx_pcn_minor': 33, 'rx_pcn_ADV': 34, 'rx_pcn_9999': 35, 'rx_pcn_MEDDADV': 36, 'rx_pcn_A4': 37, 'rx_pcn_03200000': 38, 'rx_pcn_MCAIDADV': 39, 'rx_pcn_00670000': 40, 'rx_pcn_IRX': 41, 'rx_pcn_IS': 42, 'rx_pcn_FEPRX': 43, 'rx_pcn_MA': 44, 'rx_pcn_MEDDAET': 45, 'rx_pcn_WG': 46, 'rx_pcn_CIMCARE': 47, 'rx_pcn_BCTX': 48, 'rx_pcn_OHRXPROD': 49, 'rx_pcn_6334225': 50, 'rx_pcn_MEDDPRIME': 51, 'rx_pcn_FLBC': 52, 'rx_pcn_TNM': 53, 'rx_pcn_ASPROD1': 54, 'rx_pcn_CTRXMEDD': 55, 'rx_pcn_KYPROD1': 56, 'rx_pcn_OKA01': 57, 'rx_pcn_P303018902': 58, 'rx_pcn_4343': 59, 'rx_pcn_1215': 60, 'rx_pcn_01940000': 61, 'rx_pcn_MASSPROD': 62, 'rx_pcn_PRX00621': 63, 'plan_name_unk': 64, 'plan_name_minor': 65, 'plan_name_Department of Defense': 66, 'plan_name_UHCMR MAPD AND MA/RDS': 67, 'plan_name_CVS|CAREMARK': 68, 'plan_name_IRXME BB CDH-Y IRXMDTSTR1': 69, 'plan_name_AETSS BB CDH-N AETMEDD23': 70, 'plan_name_E23A1 BB CDH-N HPDMEDD': 71, 'plan_name_UHCMR PDP': 72, 'plan_name_EXPRESS SCRIPTS': 73, 'plan_name_OPTUMRX': 74, 'plan_name_T14 L4Y 10001': 75, 'plan_name_AMD23 BB CDH-Y AETMEDD23': 76, 'plan_name_UNITEDHEALTHCARE DUAL COM': 77, 'plan_name_Careplus D Humana PDP': 78, 'plan_name_COMMONWEALTH OF KENTUCKY WELLCARE': 79, 'plan_name_G1K BB CDH-N BBTMPFEPB': 80, 'plan_name_UPMC': 81, 'plan_name_DST PHARMACY SOLUTIONS DIRECT': 82, 'plan_name_MEDICAL RX': 83, 'plan_name_Gainwell Ohio Medicaid': 84, 'plan_name_UHC ACIS ENROLLMENTS': 85, 'plan_name_BMC RETAIL MEDI': 86, 'plan_name_HP-OHIO': 87, 'plan_name_2023 Cigna MedD PDP Secure 6T-RTL': 88, 'plan_name_INDIANA MEDICAID': 89, 'plan_name_QL TMP Z 30 DAYS RETAIL': 90, 'plan_name_G1K BB CDH-N BBTMPFEPS': 91, 'plan_name_BMCHP MA MCD': 92, 'plan_name_COMMONWEALTH OF KENTUCKY AETNA': 93, 'plan_name_C23H1 BB CDH-N HPDMEDD': 94, 'plan_name_INGEN BB CDH-N IRXBAS918': 95}}}\n"
     ]
    }
   ],
   "source": [
    "idx = 7\n",
    "\n",
    "case_example = idx_to_examples[idx]\n",
    "print('case_example:', case_example)\n",
    "RecObsName_to_RecObsDS = idx_to_RO_to_ROdf[idx] # RO_to_ROdf # RO_ij\n",
    "print('RecObsName_to_RecObsDS (RO_ij):', RecObsName_to_RecObsDS)\n",
    "print([i for i in RecObsName_to_RecObsInfo])\n",
    "print(CaseTknVocab)"
   ]
  },
  {
   "cell_type": "markdown",
   "metadata": {},
   "source": [
    "## [Step 10]: Develop $\\Phi$. "
   ]
  },
  {
   "cell_type": "code",
   "execution_count": 72,
   "id": "aa1aacc1",
   "metadata": {},
   "outputs": [],
   "source": [
    "def fn_CaseTkn(case_example, \n",
    "               RecObsName_to_RecObsDS, \n",
    "               RecObsName_to_RecObsInfo, \n",
    "               CaseTknVocab):\n",
    "    from recfldtkn.obsname import parse_RecObsName\n",
    "    # input: RecObsName_to_RecObsDS, RecObsName_to_RecObsInfo\n",
    "    # output: CaseObservation\n",
    "    d = {}\n",
    "\n",
    "    ObsDTValue = case_example['ObsDT']\n",
    "\n",
    "    assert len(RecObsName_to_RecObsDS) == 1\n",
    "    RecObsName = [i for i in RecObsName_to_RecObsDS][0]\n",
    "    RecObsDS   = RecObsName_to_RecObsDS[RecObsName]\n",
    "    RecObsInfo = RecObsName_to_RecObsInfo[RecObsName]\n",
    "        \n",
    "    # 1. get a subset of a Record Type: e.g., CGM5Min_Bf24H, with TknIdx.\n",
    "    # further filter\n",
    "    ds_p_ckpd_rec_fld = RecObsDS\n",
    "    df = ds_p_ckpd_rec_fld.to_pandas()\n",
    "    \n",
    "    RecID = RecObsInfo['rec_args']['RecID']\n",
    "    assert RecID in case_example \n",
    "    df = df[df[RecID] == case_example[RecID]].reset_index(drop=True)\n",
    "    assert len(df) == 1\n",
    "    record_dict = df.iloc[0].to_dict()\n",
    "\n",
    "    FldName = parse_RecObsName(RecObsName)['FldName']\n",
    "    FldNameTkn = FldName + 'Tkn'\n",
    "    # print(RecObsName)\n",
    "    # print(df.columns)\n",
    "    # print([i for i in df.columns if FldNameTkn in i])\n",
    "    key_list = [i for i in df.columns if FldNameTkn in i]\n",
    "\n",
    "    record = {k.split('_')[-1]: list(v) for k, v in record_dict.items() if k in key_list}\n",
    "    CaseObservation = {'tid': record['tknidx'], 'wgt': record['wgt']} \n",
    "    \n",
    "    return CaseObservation\n",
    "##################################\n",
    "\n",
    "fn_CaseTkn.fn_string = inspect.getsource(fn_CaseTkn)"
   ]
  },
  {
   "cell_type": "code",
   "execution_count": 73,
   "id": "c921b74d",
   "metadata": {},
   "outputs": [
    {
     "data": {
      "text/plain": [
       "{'tid': [1, 33, 65], 'wgt': [1, 1, 1]}"
      ]
     },
     "execution_count": 73,
     "metadata": {},
     "output_type": "execute_result"
    }
   ],
   "source": [
    "fn_CaseTkn(case_example, # (pi, tij)\n",
    "            RecObsName_to_RecObsDS, # RO_ij^{name, ckpd, \\phi} \n",
    "            RecObsName_to_RecObsInfo, \n",
    "            CaseTknVocab)\n"
   ]
  },
  {
   "cell_type": "markdown",
   "id": "6d098f89",
   "metadata": {},
   "source": [
    "## Save Files"
   ]
  },
  {
   "cell_type": "code",
   "execution_count": 74,
   "id": "85524f5f",
   "metadata": {},
   "outputs": [
    {
     "data": {
      "text/html": [
       "../pipeline/fn_casetkn/casetkn_InCaseTkn.py <a href=\"/Users/jluo/Desktop/2024-DrFirst-SPACE/_DrFirst-AI-EduRxPred-WorkSpace/../pipeline/fn_casetkn/casetkn_InCaseTkn.py\" target=\"_blank\">Open File</a>"
      ],
      "text/plain": [
       "<IPython.core.display.HTML object>"
      ]
     },
     "metadata": {},
     "output_type": "display_data"
    }
   ],
   "source": [
    "from recfldtkn.loadtools import convert_variables_to_pystirng, load_module_variables\n",
    "\n",
    "prefix = ['import pandas as pd', 'import numpy as np']\n",
    "fn_variables = [get_caseobs_id, get_selected_columns, get_casetkn_vocab, fn_CaseTkn]\n",
    "pycode = convert_variables_to_pystirng(fn_variables = fn_variables, prefix = prefix)\n",
    "pypath = os.path.join(SPACE['CODE_FN'], 'fn_casetkn', f'casetkn_{CaseTkn}.py')\n",
    "with open(pypath, 'w') as file: file.write(pycode)\n",
    "\n",
    "# Create a HTML link and display it\n",
    "full_path = os.path.join(WORKSPACE_PATH, pypath)\n",
    "display(HTML(f'{pypath} <a href=\"{full_path}\" target=\"_blank\">Open File</a>'))"
   ]
  },
  {
   "cell_type": "markdown",
   "id": "d8ac3fc7",
   "metadata": {},
   "source": [
    "# Application"
   ]
  },
  {
   "cell_type": "code",
   "execution_count": 75,
   "id": "a0747747",
   "metadata": {},
   "outputs": [
    {
     "name": "stdout",
     "output_type": "stream",
     "text": [
      "RecTables_args {'RxBase': {'raw_data_path': '../_Data/0-Data_Raw/inference/prescription_df_de_identified.csv', 'RawRootID': 'patient_id_encoded', 'RecNumColumn': 'prescription', 'raw_columns': ['patient_id_encoded', 'invitation_id_encoded', 'prescription_id_encoded', 'start_date', 'invitation_date', 'updated_date', 'insurance_start_date', 'written_date', 'date_fdb_updated', 'prescriber_npi', 'state_code', 'ncpdp_id', 'pharmacy_name_rx', 'simple_pharmacy_name_rx', 'specialty_pharmacy', 'pharmacy_zip_code_3', 'ndc_id', 'drug_name', 'drug_description', 'generic_id', 'top_200_branded_drugs', 'top_50_generic_drugs', 'brand_source', 'fill_number', 'refills_available', 'quantity', 'days_supply', 'package_size', 'package_units', 'quantity_unit', 'strength', 'strength_units', 'total_package_strength', 'content_id', 'prescription_type', 'directions', 'delivery_type', 'controlled_substance_code', 'campaign_id', 'show_rems_campaigns', 'show_coupon_campaigns', 'show_educational_campaigns', 'show_internal_campaigns', 'show_target_campaigns', 'show_experimental_campaigns', 'send_refill_reminder_messages', 'send_renewal_reminder_messages', 'supports_hippo_prices', 'supports_hippo_prices65', 'supports_copay_prices', 'supports_hippo_prices_medicare', 'source_id', 'record_locator_encoded', 'customer_type', 'organization_type', 'suppliers', 'group_id', 'rx_bin', 'rx_pcn', 'legend_status', 'plan_name', 'legal_business_name', 'primary_dispenser_type', 'primary_dispenser_type_code', 'dispenser_class_code', 'dispenser_class', 'secondary_dispenser_type_code', 'tertiary_dispenser_type_code', 'ther_eq_hierarchy_name', 'ther_eq_parent_name', 'ther_eq_ult_parent_name', 'ther_eq_ult_child_ind', 'ther_eq_ult_parent_etc_id', 'ther_eq_hierarchy_level', 'therapeutic_equivalence_id', 'rxnorm_scd', 'rxnorm_sbd', 'fdb_med_id', 'form']}}\n"
     ]
    },
    {
     "data": {
      "text/plain": [
       "{}"
      ]
     },
     "execution_count": 75,
     "metadata": {},
     "output_type": "execute_result"
    }
   ],
   "source": [
    "import random \n",
    "from pprint import pprint\n",
    "from datetime import datetime \n",
    "from recfldtkn.observer import get_RecObsName_to_RecObsInfo, CaseObserverTransformer\n",
    "\n",
    "# get_caseobs_id, get_selected_columns, get_casetkn_vocab, fn_CaseTkn\n",
    "batch_size = 100\n",
    "\n",
    "CaseObsName = convert_RecObsName_and_CaseTkn_to_CaseObsName(Record_Observations_List, CaseTkn)\n",
    "RecObsName_to_RecObsInfo = get_RecObsName_to_RecObsInfo(Record_Observations_List, \n",
    "                                                        CaseTkn, get_selected_columns, \n",
    "                                                        cohort_args, Ckpd_ObservationS)\n",
    "fn_caseobs_Phi = CaseObserverTransformer(RecObsName_to_RecObsInfo, \n",
    "                                         CaseTkn, \n",
    "                                         get_casetkn_vocab, \n",
    "                                         fn_CaseTkn, \n",
    "                                         get_caseobs_id, \n",
    "                                         use_caseobs_from_disk = True, \n",
    "                                         CaseObsFolder = CaseObsFolder,\n",
    "                                         caseobs_ids = None\n",
    "                                         )\n",
    "\n",
    "CaseTknVocab = fn_caseobs_Phi.CaseTknVocab # get_casetkn_vocab(RecObsName_to_RecObsInfo)\n",
    "fn_caseobs_Phi.new_calculated_caseobs"
   ]
  },
  {
   "cell_type": "code",
   "execution_count": 76,
   "id": "d21a536a",
   "metadata": {},
   "outputs": [
    {
     "data": {
      "text/plain": [
       "{'InObs': {'CkpdName': 'InCase',\n",
       "  'DistStartToPredDT': -0.01,\n",
       "  'DistEndToPredDT': 0.01,\n",
       "  'TimeUnit': 'min',\n",
       "  'StartIdx5Min': 0,\n",
       "  'EndIdx5Min': 0},\n",
       " 'Bf24H': {'CkpdName': 'Bf24H',\n",
       "  'DistStartToPredDT': -24,\n",
       "  'DistEndToPredDT': 0.01,\n",
       "  'TimeUnit': 'H',\n",
       "  'StartIdx5Min': -288,\n",
       "  'EndIdx5Min': 0},\n",
       " 'Bf1M': {'CkpdName': 'Bf1M',\n",
       "  'DistStartToPredDT': -720,\n",
       "  'DistEndToPredDT': 0.01,\n",
       "  'TimeUnit': 'H',\n",
       "  'StartIdx5Min': -8640,\n",
       "  'EndIdx5Min': 0},\n",
       " 'Af2H': {'CkpdName': 'Af2H',\n",
       "  'DistStartToPredDT': 1,\n",
       "  'DistEndToPredDT': 121,\n",
       "  'TimeUnit': 'min',\n",
       "  'StartIdx5Min': 1,\n",
       "  'EndIdx5Min': 24},\n",
       " 'Af1W': {'CkpdName': 'Af1W',\n",
       "  'DistStartToPredDT': 0.0001,\n",
       "  'DistEndToPredDT': 7,\n",
       "  'TimeUnit': 'D',\n",
       "  'StartIdx5Min': 1,\n",
       "  'EndIdx5Min': 2016}}"
      ]
     },
     "execution_count": 76,
     "metadata": {},
     "output_type": "execute_result"
    }
   ],
   "source": [
    "Ckpd_ObservationS"
   ]
  },
  {
   "cell_type": "code",
   "execution_count": 77,
   "id": "2e5e55d5",
   "metadata": {},
   "outputs": [
    {
     "data": {
      "text/plain": [
       "'ro.Rx-InObs-InsCate_ct.InCaseTkn'"
      ]
     },
     "execution_count": 77,
     "metadata": {},
     "output_type": "execute_result"
    }
   ],
   "source": [
    "CaseObsName"
   ]
  },
  {
   "cell_type": "code",
   "execution_count": 78,
   "id": "2016becf",
   "metadata": {},
   "outputs": [
    {
     "data": {
      "text/plain": [
       "{'Rx-InObs-InsCate': {'rec_args': {'CohortInfo': {'RawData2023Nov_Trulicity': {'RxBase': {'raw_data_path': '../_Data/0-Data_Raw/2023_11_30_30days_Trulicity/prescription_df_de_identified.csv',\n",
       "      'RawRootID': 'patient_id_encoded',\n",
       "      'RecNumColumn': 'prescription',\n",
       "      'raw_columns': ['patient_id_encoded',\n",
       "       'invitation_id_encoded',\n",
       "       'prescription_id_encoded',\n",
       "       'start_date',\n",
       "       'invitation_date',\n",
       "       'updated_date',\n",
       "       'insurance_start_date',\n",
       "       'written_date',\n",
       "       'date_fdb_updated',\n",
       "       'prescriber_npi',\n",
       "       'state_code',\n",
       "       'ncpdp_id',\n",
       "       'pharmacy_name_rx',\n",
       "       'simple_pharmacy_name_rx',\n",
       "       'specialty_pharmacy',\n",
       "       'pharmacy_zip_code_3',\n",
       "       'ndc_id',\n",
       "       'drug_name',\n",
       "       'drug_description',\n",
       "       'generic_id',\n",
       "       'top_200_branded_drugs',\n",
       "       'top_50_generic_drugs',\n",
       "       'brand_source',\n",
       "       'fill_number',\n",
       "       'refills_available',\n",
       "       'quantity',\n",
       "       'days_supply',\n",
       "       'package_size',\n",
       "       'package_units',\n",
       "       'quantity_unit',\n",
       "       'strength',\n",
       "       'strength_units',\n",
       "       'total_package_strength',\n",
       "       'content_id',\n",
       "       'prescription_type',\n",
       "       'directions',\n",
       "       'delivery_type',\n",
       "       'controlled_substance_code',\n",
       "       'campaign_id',\n",
       "       'show_rems_campaigns',\n",
       "       'show_coupon_campaigns',\n",
       "       'show_educational_campaigns',\n",
       "       'show_internal_campaigns',\n",
       "       'show_target_campaigns',\n",
       "       'show_experimental_campaigns',\n",
       "       'send_refill_reminder_messages',\n",
       "       'send_renewal_reminder_messages',\n",
       "       'supports_hippo_prices',\n",
       "       'supports_hippo_prices65',\n",
       "       'supports_copay_prices',\n",
       "       'supports_hippo_prices_medicare',\n",
       "       'source_id',\n",
       "       'record_locator_encoded',\n",
       "       'customer_type',\n",
       "       'organization_type',\n",
       "       'suppliers',\n",
       "       'group_id',\n",
       "       'rx_bin',\n",
       "       'rx_pcn',\n",
       "       'legend_status',\n",
       "       'plan_name',\n",
       "       'legal_business_name',\n",
       "       'primary_dispenser_type',\n",
       "       'primary_dispenser_type_code',\n",
       "       'dispenser_class_code',\n",
       "       'dispenser_class',\n",
       "       'secondary_dispenser_type_code',\n",
       "       'tertiary_dispenser_type_code',\n",
       "       'ther_eq_hierarchy_name',\n",
       "       'ther_eq_parent_name',\n",
       "       'ther_eq_ult_parent_name',\n",
       "       'ther_eq_ult_child_ind',\n",
       "       'ther_eq_ult_parent_etc_id',\n",
       "       'ther_eq_hierarchy_level',\n",
       "       'therapeutic_equivalence_id',\n",
       "       'rxnorm_scd',\n",
       "       'rxnorm_sbd',\n",
       "       'fdb_med_id',\n",
       "       'form']}}},\n",
       "   'RecName': 'Rx',\n",
       "   'RecID': 'RxID',\n",
       "   'RecIDChain': ['PID', 'PInvID', 'RxID'],\n",
       "   'RawRecID': ['prescription_id_encoded'],\n",
       "   'RecDT': 'DT',\n",
       "   'ParentRecName': 'PInv',\n",
       "   'attr_cols': ['PID',\n",
       "    'PInvID',\n",
       "    'RxID',\n",
       "    'prescription_id_encoded',\n",
       "    'DT',\n",
       "    'start_date',\n",
       "    'invitation_date',\n",
       "    'insurance_start_date',\n",
       "    'written_date',\n",
       "    'date_fdb_updated',\n",
       "    'prescriber_npi',\n",
       "    'ncpdp_id',\n",
       "    'pharmacy_name_rx',\n",
       "    'simple_pharmacy_name_rx',\n",
       "    'specialty_pharmacy',\n",
       "    'pharmacy_zip_code_3',\n",
       "    'ndc_id',\n",
       "    'drug_name',\n",
       "    'drug_description',\n",
       "    'generic_id',\n",
       "    'top_200_branded_drugs',\n",
       "    'top_50_generic_drugs',\n",
       "    'brand_source',\n",
       "    'fill_number',\n",
       "    'refills_available',\n",
       "    'quantity_unit',\n",
       "    'quantity',\n",
       "    'days_supply',\n",
       "    'package_size',\n",
       "    'package_units',\n",
       "    'strength',\n",
       "    'strength_units',\n",
       "    'total_package_strength',\n",
       "    'directions',\n",
       "    'delivery_type',\n",
       "    'legend_status',\n",
       "    'show_rems_campaigns',\n",
       "    'show_coupon_campaigns',\n",
       "    'show_educational_campaigns',\n",
       "    'show_internal_campaigns',\n",
       "    'show_target_campaigns',\n",
       "    'show_experimental_campaigns',\n",
       "    'send_refill_reminder_messages',\n",
       "    'send_renewal_reminder_messages',\n",
       "    'supports_hippo_prices',\n",
       "    'supports_hippo_prices65',\n",
       "    'supports_copay_prices',\n",
       "    'supports_hippo_prices_medicare',\n",
       "    'rx_bin',\n",
       "    'rx_pcn',\n",
       "    'dispenser_class',\n",
       "    'primary_dispenser_type',\n",
       "    'campaign_id',\n",
       "    'record_locator_encoded',\n",
       "    'source_id',\n",
       "    'group_id',\n",
       "    'customer_type',\n",
       "    'organization_type',\n",
       "    'plan_name',\n",
       "    'suppliers',\n",
       "    'ther_eq_hierarchy_name',\n",
       "    'ther_eq_parent_name',\n",
       "    'ther_eq_ult_parent_name',\n",
       "    'ther_eq_ult_child_ind',\n",
       "    'ther_eq_ult_parent_etc_id',\n",
       "    'ther_eq_hierarchy_level',\n",
       "    'therapeutic_equivalence_id'],\n",
       "   'pypath': '../pipeline/fn_recattr/Rx.py',\n",
       "   'FldTknInfo': {'Rx-BrandCateTkn': {'FldTknName': 'Rx-BrandCateTkn',\n",
       "     'value_cols': ['ndc_id',\n",
       "      'drug_name',\n",
       "      'drug_description',\n",
       "      'generic_id',\n",
       "      'top_200_branded_drugs',\n",
       "      'top_50_generic_drugs',\n",
       "      'brand_source']},\n",
       "    'Rx-CmpCateTkn': {'FldTknName': 'Rx-CmpCateTkn',\n",
       "     'value_cols': ['show_rems_campaigns',\n",
       "      'show_coupon_campaigns',\n",
       "      'show_educational_campaigns',\n",
       "      'show_internal_campaigns',\n",
       "      'show_target_campaigns',\n",
       "      'show_experimental_campaigns']},\n",
       "    'Rx-InsCateTkn': {'FldTknName': 'Rx-InsCateTkn',\n",
       "     'value_cols': ['rx_bin', 'rx_pcn', 'plan_name']},\n",
       "    'Rx-ServiceCateTkn': {'FldTknName': 'Rx-ServiceCateTkn',\n",
       "     'value_cols': ['send_refill_reminder_messages',\n",
       "      'send_renewal_reminder_messages',\n",
       "      'supports_hippo_prices',\n",
       "      'supports_hippo_prices65',\n",
       "      'supports_copay_prices',\n",
       "      'supports_hippo_prices_medicare']},\n",
       "    'Rx-SysCateTkn': {'FldTknName': 'Rx-SysCateTkn',\n",
       "     'value_cols': ['delivery_type',\n",
       "      'legend_status',\n",
       "      'dispenser_class',\n",
       "      'primary_dispenser_type',\n",
       "      'customer_type',\n",
       "      'organization_type',\n",
       "      'suppliers',\n",
       "      'source_id',\n",
       "      'group_id']},\n",
       "    'Rx-QuantN2CTkn': {'FldTknName': 'Rx-QuantN2CTkn',\n",
       "     'value_cols': ['refills_available', 'quantity', 'days_supply']},\n",
       "    'Rx-QuantNumeTkn': {'FldTknName': 'Rx-QuantNumeTkn',\n",
       "     'value_cols': ['refills_available', 'quantity', 'days_supply']},\n",
       "    'Rx-TherEqCateTkn': {'FldTknName': 'Rx-TherEqCateTkn',\n",
       "     'value_cols': ['ther_eq_hierarchy_name',\n",
       "      'ther_eq_parent_name',\n",
       "      'ther_eq_ult_parent_name']},\n",
       "    'Rx-TherEqNumeTkn': {'FldTknName': 'Rx-TherEqNumeTkn',\n",
       "     'value_cols': ['ther_eq_ult_child_ind',\n",
       "      'ther_eq_ult_parent_etc_id',\n",
       "      'ther_eq_hierarchy_level',\n",
       "      'therapeutic_equivalence_id']},\n",
       "    'Rx-DrugBasicNumeTkn': {'FldTknName': 'Rx-DrugBasicNumeTkn',\n",
       "     'value_cols': ['top_200_branded_drugs', 'top_50_generic_drugs']},\n",
       "    'Rx-DrugBasicCateTkn': {'FldTknName': 'Rx-DrugBasicCateTkn',\n",
       "     'value_cols': ['brand_source']},\n",
       "    'Rx-PhmBasicCateTkn': {'FldTknName': 'Rx-PhmBasicCateTkn',\n",
       "     'value_cols': ['pharmacy_name_rx', 'specialty_pharmacy']},\n",
       "    'Rx-PhmZip3HousingNumeTkn': {'external_source_path': '$DATA_RAW$/ZipInfo/Zip3/National_Housing_Charater-Zip3-HousingNumeTkn.p',\n",
       "     'value_cols': ['pharmacy_zip_code_3']}},\n",
       "   'RFT_GROUP_SIZE': 5000,\n",
       "   'idx_group_size': 10000,\n",
       "   'usebucket': False,\n",
       "   'GROUP_SIZE': 5000,\n",
       "   'folder': '../_Data/1-Data_RFT/RecAttr/',\n",
       "   'rec_folder': '../_Data/1-Data_RFT/RecAttr/',\n",
       "   'recfldtkn_config_path': '../pipeline/config_recfldtkn/',\n",
       "   'yaml_file_path': '../pipeline/config_recfldtkn/Record/Rx.yaml'},\n",
       "  'RecName': 'Rx',\n",
       "  'CkpdName': 'InObs',\n",
       "  'CkpdInfo': {'CkpdName': 'InCase',\n",
       "   'DistStartToPredDT': -0.01,\n",
       "   'DistEndToPredDT': 0.01,\n",
       "   'TimeUnit': 'min',\n",
       "   'StartIdx5Min': 0,\n",
       "   'EndIdx5Min': 0},\n",
       "  'FldName': 'InsCate',\n",
       "  'FldTknName': 'Rx-InsCateTkn',\n",
       "  'FldIdx2Tkn': ['rx_bin_unk',\n",
       "   'rx_bin_minor',\n",
       "   'rx_bin_4336.0',\n",
       "   'rx_bin_610097.0',\n",
       "   'rx_bin_610014.0',\n",
       "   'rx_bin_3858.0',\n",
       "   'rx_bin_15581.0',\n",
       "   'rx_bin_610502.0',\n",
       "   'rx_bin_610011.0',\n",
       "   'rx_bin_11552.0',\n",
       "   'rx_bin_610494.0',\n",
       "   'rx_bin_610239.0',\n",
       "   'rx_bin_610279.0',\n",
       "   'rx_bin_20115.0',\n",
       "   'rx_bin_20099.0',\n",
       "   'rx_bin_17010.0',\n",
       "   'rx_bin_24251.0',\n",
       "   'rx_bin_22659.0',\n",
       "   'rx_bin_12833.0',\n",
       "   'rx_bin_4915.0',\n",
       "   'rx_bin_19595.0',\n",
       "   'rx_bin_1553.0',\n",
       "   'rx_bin_20107.0',\n",
       "   'rx_bin_610591.0',\n",
       "   'rx_bin_610455.0',\n",
       "   'rx_bin_610602.0',\n",
       "   'rx_bin_23880.0',\n",
       "   'rx_bin_10579.0',\n",
       "   'rx_bin_18902.0',\n",
       "   'rx_bin_610593.0',\n",
       "   'rx_bin_12312.0',\n",
       "   'rx_bin_3585.0',\n",
       "   'rx_pcn_unk',\n",
       "   'rx_pcn_minor',\n",
       "   'rx_pcn_ADV',\n",
       "   'rx_pcn_9999',\n",
       "   'rx_pcn_MEDDADV',\n",
       "   'rx_pcn_A4',\n",
       "   'rx_pcn_03200000',\n",
       "   'rx_pcn_MCAIDADV',\n",
       "   'rx_pcn_00670000',\n",
       "   'rx_pcn_IRX',\n",
       "   'rx_pcn_IS',\n",
       "   'rx_pcn_FEPRX',\n",
       "   'rx_pcn_MA',\n",
       "   'rx_pcn_MEDDAET',\n",
       "   'rx_pcn_WG',\n",
       "   'rx_pcn_CIMCARE',\n",
       "   'rx_pcn_BCTX',\n",
       "   'rx_pcn_OHRXPROD',\n",
       "   'rx_pcn_6334225',\n",
       "   'rx_pcn_MEDDPRIME',\n",
       "   'rx_pcn_FLBC',\n",
       "   'rx_pcn_TNM',\n",
       "   'rx_pcn_ASPROD1',\n",
       "   'rx_pcn_CTRXMEDD',\n",
       "   'rx_pcn_KYPROD1',\n",
       "   'rx_pcn_OKA01',\n",
       "   'rx_pcn_P303018902',\n",
       "   'rx_pcn_4343',\n",
       "   'rx_pcn_1215',\n",
       "   'rx_pcn_01940000',\n",
       "   'rx_pcn_MASSPROD',\n",
       "   'rx_pcn_PRX00621',\n",
       "   'plan_name_unk',\n",
       "   'plan_name_minor',\n",
       "   'plan_name_Department of Defense',\n",
       "   'plan_name_UHCMR MAPD AND MA/RDS',\n",
       "   'plan_name_CVS|CAREMARK',\n",
       "   'plan_name_IRXME BB CDH-Y IRXMDTSTR1',\n",
       "   'plan_name_AETSS BB CDH-N AETMEDD23',\n",
       "   'plan_name_E23A1 BB CDH-N HPDMEDD',\n",
       "   'plan_name_UHCMR PDP',\n",
       "   'plan_name_EXPRESS SCRIPTS',\n",
       "   'plan_name_OPTUMRX',\n",
       "   'plan_name_T14 L4Y 10001',\n",
       "   'plan_name_AMD23 BB CDH-Y AETMEDD23',\n",
       "   'plan_name_UNITEDHEALTHCARE DUAL COM',\n",
       "   'plan_name_Careplus D Humana PDP',\n",
       "   'plan_name_COMMONWEALTH OF KENTUCKY WELLCARE',\n",
       "   'plan_name_G1K BB CDH-N BBTMPFEPB',\n",
       "   'plan_name_UPMC',\n",
       "   'plan_name_DST PHARMACY SOLUTIONS DIRECT',\n",
       "   'plan_name_MEDICAL RX',\n",
       "   'plan_name_Gainwell Ohio Medicaid',\n",
       "   'plan_name_UHC ACIS ENROLLMENTS',\n",
       "   'plan_name_BMC RETAIL MEDI',\n",
       "   'plan_name_HP-OHIO',\n",
       "   'plan_name_2023 Cigna MedD PDP Secure 6T-RTL',\n",
       "   'plan_name_INDIANA MEDICAID',\n",
       "   'plan_name_QL TMP Z 30 DAYS RETAIL',\n",
       "   'plan_name_G1K BB CDH-N BBTMPFEPS',\n",
       "   'plan_name_BMCHP MA MCD',\n",
       "   'plan_name_COMMONWEALTH OF KENTUCKY AETNA',\n",
       "   'plan_name_C23H1 BB CDH-N HPDMEDD',\n",
       "   'plan_name_INGEN BB CDH-N IRXBAS918'],\n",
       "  'ds_rec': Dataset({\n",
       "      features: ['PID', 'PInvID', 'RxID', 'DT', 'Rx-InsCateTkn_wgt', 'Rx-InsCateTkn_tknidx'],\n",
       "      num_rows: 571656\n",
       "  }),\n",
       "  'df_rec_info':          PID_idx          interval  \\\n",
       "  PID                                  \n",
       "  1000001        0            [0, 0]   \n",
       "  1000002        1            [1, 1]   \n",
       "  1000003        2            [2, 2]   \n",
       "  1000004        3           [3, 10]   \n",
       "  1000005        4          [11, 11]   \n",
       "  ...          ...               ...   \n",
       "  1046204    45498  [571627, 571638]   \n",
       "  1046205    45499  [571639, 571639]   \n",
       "  1046206    45500  [571640, 571642]   \n",
       "  1046208    45501  [571643, 571646]   \n",
       "  1046209    45502  [571647, 571655]   \n",
       "  \n",
       "                                                       dates  \n",
       "  PID                                                         \n",
       "  1000001                       [2023-09-07T18:13:08.746000]  \n",
       "  1000002                       [2023-09-21T23:38:11.348000]  \n",
       "  1000003                       [2023-09-05T16:33:52.699000]  \n",
       "  1000004  [2023-03-23T16:38:45.051000, 2023-04-19T15:47:...  \n",
       "  1000005                       [2023-09-26T20:11:04.040000]  \n",
       "  ...                                                    ...  \n",
       "  1046204  [2023-05-22T13:41:49.538000, 2023-05-22T13:41:...  \n",
       "  1046205                       [2023-09-25T19:53:38.998000]  \n",
       "  1046206  [2023-08-14T19:42:23.213000, 2023-09-11T18:54:...  \n",
       "  1046208  [2023-09-12T16:09:16.572000, 2023-09-12T16:09:...  \n",
       "  1046209  [2023-05-04T13:45:40.707000, 2023-05-04T13:45:...  \n",
       "  \n",
       "  [45503 rows x 3 columns]}}"
      ]
     },
     "execution_count": 78,
     "metadata": {},
     "output_type": "execute_result"
    }
   ],
   "source": [
    "RecObsName_to_RecObsInfo"
   ]
  },
  {
   "cell_type": "code",
   "execution_count": 79,
   "metadata": {},
   "outputs": [
    {
     "name": "stderr",
     "output_type": "stream",
     "text": [
      "Map: 100%|██████████| 40517/40517 [00:49<00:00, 815.98 examples/s]"
     ]
    },
    {
     "name": "stdout",
     "output_type": "stream",
     "text": [
      "Elipse Time:  0:00:49.662474\n",
      "Dataset({\n",
      "    features: ['PID', 'ObsDT', 'PInvID', 'RxID', 'tid', 'wgt'],\n",
      "    num_rows: 40517\n",
      "})\n"
     ]
    },
    {
     "name": "stderr",
     "output_type": "stream",
     "text": [
      "\n"
     ]
    }
   ],
   "source": [
    "start = datetime.now()\n",
    "ds_casetkn = ds_case.map(fn_caseobs_Phi, \n",
    "                            batched = True, \n",
    "                            batch_size= batch_size, \n",
    "                            load_from_cache_file=False, \n",
    "                            new_fingerprint = CaseObsName)\n",
    "end = datetime.now()\n",
    "print('Elipse Time: ', end - start)\n",
    "print(ds_casetkn)"
   ]
  },
  {
   "cell_type": "code",
   "execution_count": 80,
   "id": "1765eb57",
   "metadata": {},
   "outputs": [
    {
     "name": "stdout",
     "output_type": "stream",
     "text": [
      "40517\n"
     ]
    }
   ],
   "source": [
    "print(len(fn_caseobs_Phi.new_calculated_caseobs))"
   ]
  },
  {
   "cell_type": "code",
   "execution_count": 81,
   "id": "de1ef678",
   "metadata": {},
   "outputs": [
    {
     "name": "stderr",
     "output_type": "stream",
     "text": [
      "Map: 100%|██████████| 40517/40517 [00:01<00:00, 39165.51 examples/s]"
     ]
    },
    {
     "name": "stdout",
     "output_type": "stream",
     "text": [
      "Elipse Time:  0:00:01.036220\n",
      "Dataset({\n",
      "    features: ['PID', 'ObsDT', 'PInvID', 'RxID', 'tid', 'wgt'],\n",
      "    num_rows: 40517\n",
      "})\n"
     ]
    },
    {
     "name": "stderr",
     "output_type": "stream",
     "text": [
      "\n"
     ]
    }
   ],
   "source": [
    "start = datetime.now()\n",
    "ds_casetkn = ds_case.map(fn_caseobs_Phi, \n",
    "                            batched = True, \n",
    "                            batch_size= batch_size, \n",
    "                            load_from_cache_file=False, \n",
    "                            new_fingerprint = CaseObsName)\n",
    "end = datetime.now()\n",
    "print('Elipse Time: ', end - start)\n",
    "print(ds_casetkn)"
   ]
  },
  {
   "cell_type": "code",
   "execution_count": 82,
   "id": "9e6ec3e9",
   "metadata": {},
   "outputs": [
    {
     "name": "stdout",
     "output_type": "stream",
     "text": [
      "ro.Rx-InObs-InsCate_ct.InCaseTkn\n",
      "9769\n",
      "{'ObsDT': Timestamp('2023-03-08 15:44:18.887000'),\n",
      " 'PID': 1011190,\n",
      " 'PInvID': '1011190-001',\n",
      " 'RxID': '1011190-001-001',\n",
      " 'tid': [1, 33, 65],\n",
      " 'wgt': [1, 1, 1]}\n",
      "{'tkn': {'tid2tkn': {0: 'rx_bin_unk', 1: 'rx_bin_minor', 2: 'rx_bin_4336.0', 3: 'rx_bin_610097.0', 4: 'rx_bin_610014.0', 5: 'rx_bin_3858.0', 6: 'rx_bin_15581.0', 7: 'rx_bin_610502.0', 8: 'rx_bin_610011.0', 9: 'rx_bin_11552.0', 10: 'rx_bin_610494.0', 11: 'rx_bin_610239.0', 12: 'rx_bin_610279.0', 13: 'rx_bin_20115.0', 14: 'rx_bin_20099.0', 15: 'rx_bin_17010.0', 16: 'rx_bin_24251.0', 17: 'rx_bin_22659.0', 18: 'rx_bin_12833.0', 19: 'rx_bin_4915.0', 20: 'rx_bin_19595.0', 21: 'rx_bin_1553.0', 22: 'rx_bin_20107.0', 23: 'rx_bin_610591.0', 24: 'rx_bin_610455.0', 25: 'rx_bin_610602.0', 26: 'rx_bin_23880.0', 27: 'rx_bin_10579.0', 28: 'rx_bin_18902.0', 29: 'rx_bin_610593.0', 30: 'rx_bin_12312.0', 31: 'rx_bin_3585.0', 32: 'rx_pcn_unk', 33: 'rx_pcn_minor', 34: 'rx_pcn_ADV', 35: 'rx_pcn_9999', 36: 'rx_pcn_MEDDADV', 37: 'rx_pcn_A4', 38: 'rx_pcn_03200000', 39: 'rx_pcn_MCAIDADV', 40: 'rx_pcn_00670000', 41: 'rx_pcn_IRX', 42: 'rx_pcn_IS', 43: 'rx_pcn_FEPRX', 44: 'rx_pcn_MA', 45: 'rx_pcn_MEDDAET', 46: 'rx_pcn_WG', 47: 'rx_pcn_CIMCARE', 48: 'rx_pcn_BCTX', 49: 'rx_pcn_OHRXPROD', 50: 'rx_pcn_6334225', 51: 'rx_pcn_MEDDPRIME', 52: 'rx_pcn_FLBC', 53: 'rx_pcn_TNM', 54: 'rx_pcn_ASPROD1', 55: 'rx_pcn_CTRXMEDD', 56: 'rx_pcn_KYPROD1', 57: 'rx_pcn_OKA01', 58: 'rx_pcn_P303018902', 59: 'rx_pcn_4343', 60: 'rx_pcn_1215', 61: 'rx_pcn_01940000', 62: 'rx_pcn_MASSPROD', 63: 'rx_pcn_PRX00621', 64: 'plan_name_unk', 65: 'plan_name_minor', 66: 'plan_name_Department of Defense', 67: 'plan_name_UHCMR MAPD AND MA/RDS', 68: 'plan_name_CVS|CAREMARK', 69: 'plan_name_IRXME BB CDH-Y IRXMDTSTR1', 70: 'plan_name_AETSS BB CDH-N AETMEDD23', 71: 'plan_name_E23A1 BB CDH-N HPDMEDD', 72: 'plan_name_UHCMR PDP', 73: 'plan_name_EXPRESS SCRIPTS', 74: 'plan_name_OPTUMRX', 75: 'plan_name_T14 L4Y 10001', 76: 'plan_name_AMD23 BB CDH-Y AETMEDD23', 77: 'plan_name_UNITEDHEALTHCARE DUAL COM', 78: 'plan_name_Careplus D Humana PDP', 79: 'plan_name_COMMONWEALTH OF KENTUCKY WELLCARE', 80: 'plan_name_G1K BB CDH-N BBTMPFEPB', 81: 'plan_name_UPMC', 82: 'plan_name_DST PHARMACY SOLUTIONS DIRECT', 83: 'plan_name_MEDICAL RX', 84: 'plan_name_Gainwell Ohio Medicaid', 85: 'plan_name_UHC ACIS ENROLLMENTS', 86: 'plan_name_BMC RETAIL MEDI', 87: 'plan_name_HP-OHIO', 88: 'plan_name_2023 Cigna MedD PDP Secure 6T-RTL', 89: 'plan_name_INDIANA MEDICAID', 90: 'plan_name_QL TMP Z 30 DAYS RETAIL', 91: 'plan_name_G1K BB CDH-N BBTMPFEPS', 92: 'plan_name_BMCHP MA MCD', 93: 'plan_name_COMMONWEALTH OF KENTUCKY AETNA', 94: 'plan_name_C23H1 BB CDH-N HPDMEDD', 95: 'plan_name_INGEN BB CDH-N IRXBAS918'}, 'tkn2tid': {'rx_bin_unk': 0, 'rx_bin_minor': 1, 'rx_bin_4336.0': 2, 'rx_bin_610097.0': 3, 'rx_bin_610014.0': 4, 'rx_bin_3858.0': 5, 'rx_bin_15581.0': 6, 'rx_bin_610502.0': 7, 'rx_bin_610011.0': 8, 'rx_bin_11552.0': 9, 'rx_bin_610494.0': 10, 'rx_bin_610239.0': 11, 'rx_bin_610279.0': 12, 'rx_bin_20115.0': 13, 'rx_bin_20099.0': 14, 'rx_bin_17010.0': 15, 'rx_bin_24251.0': 16, 'rx_bin_22659.0': 17, 'rx_bin_12833.0': 18, 'rx_bin_4915.0': 19, 'rx_bin_19595.0': 20, 'rx_bin_1553.0': 21, 'rx_bin_20107.0': 22, 'rx_bin_610591.0': 23, 'rx_bin_610455.0': 24, 'rx_bin_610602.0': 25, 'rx_bin_23880.0': 26, 'rx_bin_10579.0': 27, 'rx_bin_18902.0': 28, 'rx_bin_610593.0': 29, 'rx_bin_12312.0': 30, 'rx_bin_3585.0': 31, 'rx_pcn_unk': 32, 'rx_pcn_minor': 33, 'rx_pcn_ADV': 34, 'rx_pcn_9999': 35, 'rx_pcn_MEDDADV': 36, 'rx_pcn_A4': 37, 'rx_pcn_03200000': 38, 'rx_pcn_MCAIDADV': 39, 'rx_pcn_00670000': 40, 'rx_pcn_IRX': 41, 'rx_pcn_IS': 42, 'rx_pcn_FEPRX': 43, 'rx_pcn_MA': 44, 'rx_pcn_MEDDAET': 45, 'rx_pcn_WG': 46, 'rx_pcn_CIMCARE': 47, 'rx_pcn_BCTX': 48, 'rx_pcn_OHRXPROD': 49, 'rx_pcn_6334225': 50, 'rx_pcn_MEDDPRIME': 51, 'rx_pcn_FLBC': 52, 'rx_pcn_TNM': 53, 'rx_pcn_ASPROD1': 54, 'rx_pcn_CTRXMEDD': 55, 'rx_pcn_KYPROD1': 56, 'rx_pcn_OKA01': 57, 'rx_pcn_P303018902': 58, 'rx_pcn_4343': 59, 'rx_pcn_1215': 60, 'rx_pcn_01940000': 61, 'rx_pcn_MASSPROD': 62, 'rx_pcn_PRX00621': 63, 'plan_name_unk': 64, 'plan_name_minor': 65, 'plan_name_Department of Defense': 66, 'plan_name_UHCMR MAPD AND MA/RDS': 67, 'plan_name_CVS|CAREMARK': 68, 'plan_name_IRXME BB CDH-Y IRXMDTSTR1': 69, 'plan_name_AETSS BB CDH-N AETMEDD23': 70, 'plan_name_E23A1 BB CDH-N HPDMEDD': 71, 'plan_name_UHCMR PDP': 72, 'plan_name_EXPRESS SCRIPTS': 73, 'plan_name_OPTUMRX': 74, 'plan_name_T14 L4Y 10001': 75, 'plan_name_AMD23 BB CDH-Y AETMEDD23': 76, 'plan_name_UNITEDHEALTHCARE DUAL COM': 77, 'plan_name_Careplus D Humana PDP': 78, 'plan_name_COMMONWEALTH OF KENTUCKY WELLCARE': 79, 'plan_name_G1K BB CDH-N BBTMPFEPB': 80, 'plan_name_UPMC': 81, 'plan_name_DST PHARMACY SOLUTIONS DIRECT': 82, 'plan_name_MEDICAL RX': 83, 'plan_name_Gainwell Ohio Medicaid': 84, 'plan_name_UHC ACIS ENROLLMENTS': 85, 'plan_name_BMC RETAIL MEDI': 86, 'plan_name_HP-OHIO': 87, 'plan_name_2023 Cigna MedD PDP Secure 6T-RTL': 88, 'plan_name_INDIANA MEDICAID': 89, 'plan_name_QL TMP Z 30 DAYS RETAIL': 90, 'plan_name_G1K BB CDH-N BBTMPFEPS': 91, 'plan_name_BMCHP MA MCD': 92, 'plan_name_COMMONWEALTH OF KENTUCKY AETNA': 93, 'plan_name_C23H1 BB CDH-N HPDMEDD': 94, 'plan_name_INGEN BB CDH-N IRXBAS918': 95}}}\n"
     ]
    }
   ],
   "source": [
    "print(CaseObsName)\n",
    "random_int = random.randint(0, len(ds_casetkn))\n",
    "print(random_int)\n",
    "pprint(ds_casetkn[random_int])\n",
    "print(CaseTknVocab)"
   ]
  },
  {
   "cell_type": "code",
   "execution_count": 83,
   "id": "739bb79c",
   "metadata": {},
   "outputs": [
    {
     "data": {
      "text/plain": [
       "{'PID': 1000924,\n",
       " 'ObsDT': Timestamp('2023-03-15 19:13:21.749000'),\n",
       " 'PInvID': '1000924-001',\n",
       " 'RxID': '1000924-001-000',\n",
       " 'tid': [1, 33, 65],\n",
       " 'wgt': [1, 1, 1]}"
      ]
     },
     "execution_count": 83,
     "metadata": {},
     "output_type": "execute_result"
    }
   ],
   "source": [
    "ds_casetkn[762]"
   ]
  },
  {
   "cell_type": "markdown",
   "id": "dba9f4c7",
   "metadata": {},
   "source": [
    "## Save"
   ]
  },
  {
   "cell_type": "code",
   "execution_count": 84,
   "id": "6b4a3151",
   "metadata": {},
   "outputs": [
    {
     "data": {
      "text/html": [
       "<div>\n",
       "<style scoped>\n",
       "    .dataframe tbody tr th:only-of-type {\n",
       "        vertical-align: middle;\n",
       "    }\n",
       "\n",
       "    .dataframe tbody tr th {\n",
       "        vertical-align: top;\n",
       "    }\n",
       "\n",
       "    .dataframe thead th {\n",
       "        text-align: right;\n",
       "    }\n",
       "</style>\n",
       "<table border=\"1\" class=\"dataframe\">\n",
       "  <thead>\n",
       "    <tr style=\"text-align: right;\">\n",
       "      <th></th>\n",
       "      <th>caseobs_idx_in_data</th>\n",
       "    </tr>\n",
       "    <tr>\n",
       "      <th>caseobs_id</th>\n",
       "      <th></th>\n",
       "    </tr>\n",
       "  </thead>\n",
       "  <tbody>\n",
       "  </tbody>\n",
       "</table>\n",
       "</div>"
      ],
      "text/plain": [
       "Empty DataFrame\n",
       "Columns: [caseobs_idx_in_data]\n",
       "Index: []"
      ]
     },
     "execution_count": 84,
     "metadata": {},
     "output_type": "execute_result"
    }
   ],
   "source": [
    "fn_caseobs_Phi.df_caseobs_info"
   ]
  },
  {
   "cell_type": "code",
   "execution_count": 85,
   "id": "9bce27a3",
   "metadata": {},
   "outputs": [
    {
     "name": "stderr",
     "output_type": "stream",
     "text": [
      "Saving the dataset (1/1 shards): 100%|██████████| 40517/40517 [00:00<00:00, 2611457.78 examples/s]\n"
     ]
    }
   ],
   "source": [
    "fn_caseobs_Phi.save_new_caseobs_to_ds_caseobs()"
   ]
  },
  {
   "cell_type": "code",
   "execution_count": 86,
   "id": "a4b1c8a9",
   "metadata": {},
   "outputs": [
    {
     "data": {
      "text/html": [
       "<div>\n",
       "<style scoped>\n",
       "    .dataframe tbody tr th:only-of-type {\n",
       "        vertical-align: middle;\n",
       "    }\n",
       "\n",
       "    .dataframe tbody tr th {\n",
       "        vertical-align: top;\n",
       "    }\n",
       "\n",
       "    .dataframe thead th {\n",
       "        text-align: right;\n",
       "    }\n",
       "</style>\n",
       "<table border=\"1\" class=\"dataframe\">\n",
       "  <thead>\n",
       "    <tr style=\"text-align: right;\">\n",
       "      <th></th>\n",
       "      <th>caseobs_idx_in_data</th>\n",
       "    </tr>\n",
       "    <tr>\n",
       "      <th>caseobs_id</th>\n",
       "      <th></th>\n",
       "    </tr>\n",
       "  </thead>\n",
       "  <tbody>\n",
       "  </tbody>\n",
       "</table>\n",
       "</div>"
      ],
      "text/plain": [
       "Empty DataFrame\n",
       "Columns: [caseobs_idx_in_data]\n",
       "Index: []"
      ]
     },
     "execution_count": 86,
     "metadata": {},
     "output_type": "execute_result"
    }
   ],
   "source": [
    "fn_caseobs_Phi.df_caseobs_info"
   ]
  },
  {
   "cell_type": "code",
   "execution_count": 87,
   "id": "67499595",
   "metadata": {},
   "outputs": [],
   "source": [
    "fn_caseobs_Phi.ds_caseobs_data"
   ]
  },
  {
   "cell_type": "markdown",
   "id": "2dca9299",
   "metadata": {},
   "source": [
    "# Save Vocab"
   ]
  },
  {
   "cell_type": "code",
   "execution_count": 88,
   "id": "1224a15e",
   "metadata": {},
   "outputs": [
    {
     "data": {
      "text/plain": [
       "{'tkn': {'tid2tkn': {0: 'rx_bin_unk',\n",
       "   1: 'rx_bin_minor',\n",
       "   2: 'rx_bin_4336.0',\n",
       "   3: 'rx_bin_610097.0',\n",
       "   4: 'rx_bin_610014.0',\n",
       "   5: 'rx_bin_3858.0',\n",
       "   6: 'rx_bin_15581.0',\n",
       "   7: 'rx_bin_610502.0',\n",
       "   8: 'rx_bin_610011.0',\n",
       "   9: 'rx_bin_11552.0',\n",
       "   10: 'rx_bin_610494.0',\n",
       "   11: 'rx_bin_610239.0',\n",
       "   12: 'rx_bin_610279.0',\n",
       "   13: 'rx_bin_20115.0',\n",
       "   14: 'rx_bin_20099.0',\n",
       "   15: 'rx_bin_17010.0',\n",
       "   16: 'rx_bin_24251.0',\n",
       "   17: 'rx_bin_22659.0',\n",
       "   18: 'rx_bin_12833.0',\n",
       "   19: 'rx_bin_4915.0',\n",
       "   20: 'rx_bin_19595.0',\n",
       "   21: 'rx_bin_1553.0',\n",
       "   22: 'rx_bin_20107.0',\n",
       "   23: 'rx_bin_610591.0',\n",
       "   24: 'rx_bin_610455.0',\n",
       "   25: 'rx_bin_610602.0',\n",
       "   26: 'rx_bin_23880.0',\n",
       "   27: 'rx_bin_10579.0',\n",
       "   28: 'rx_bin_18902.0',\n",
       "   29: 'rx_bin_610593.0',\n",
       "   30: 'rx_bin_12312.0',\n",
       "   31: 'rx_bin_3585.0',\n",
       "   32: 'rx_pcn_unk',\n",
       "   33: 'rx_pcn_minor',\n",
       "   34: 'rx_pcn_ADV',\n",
       "   35: 'rx_pcn_9999',\n",
       "   36: 'rx_pcn_MEDDADV',\n",
       "   37: 'rx_pcn_A4',\n",
       "   38: 'rx_pcn_03200000',\n",
       "   39: 'rx_pcn_MCAIDADV',\n",
       "   40: 'rx_pcn_00670000',\n",
       "   41: 'rx_pcn_IRX',\n",
       "   42: 'rx_pcn_IS',\n",
       "   43: 'rx_pcn_FEPRX',\n",
       "   44: 'rx_pcn_MA',\n",
       "   45: 'rx_pcn_MEDDAET',\n",
       "   46: 'rx_pcn_WG',\n",
       "   47: 'rx_pcn_CIMCARE',\n",
       "   48: 'rx_pcn_BCTX',\n",
       "   49: 'rx_pcn_OHRXPROD',\n",
       "   50: 'rx_pcn_6334225',\n",
       "   51: 'rx_pcn_MEDDPRIME',\n",
       "   52: 'rx_pcn_FLBC',\n",
       "   53: 'rx_pcn_TNM',\n",
       "   54: 'rx_pcn_ASPROD1',\n",
       "   55: 'rx_pcn_CTRXMEDD',\n",
       "   56: 'rx_pcn_KYPROD1',\n",
       "   57: 'rx_pcn_OKA01',\n",
       "   58: 'rx_pcn_P303018902',\n",
       "   59: 'rx_pcn_4343',\n",
       "   60: 'rx_pcn_1215',\n",
       "   61: 'rx_pcn_01940000',\n",
       "   62: 'rx_pcn_MASSPROD',\n",
       "   63: 'rx_pcn_PRX00621',\n",
       "   64: 'plan_name_unk',\n",
       "   65: 'plan_name_minor',\n",
       "   66: 'plan_name_Department of Defense',\n",
       "   67: 'plan_name_UHCMR MAPD AND MA/RDS',\n",
       "   68: 'plan_name_CVS|CAREMARK',\n",
       "   69: 'plan_name_IRXME BB CDH-Y IRXMDTSTR1',\n",
       "   70: 'plan_name_AETSS BB CDH-N AETMEDD23',\n",
       "   71: 'plan_name_E23A1 BB CDH-N HPDMEDD',\n",
       "   72: 'plan_name_UHCMR PDP',\n",
       "   73: 'plan_name_EXPRESS SCRIPTS',\n",
       "   74: 'plan_name_OPTUMRX',\n",
       "   75: 'plan_name_T14 L4Y 10001',\n",
       "   76: 'plan_name_AMD23 BB CDH-Y AETMEDD23',\n",
       "   77: 'plan_name_UNITEDHEALTHCARE DUAL COM',\n",
       "   78: 'plan_name_Careplus D Humana PDP',\n",
       "   79: 'plan_name_COMMONWEALTH OF KENTUCKY WELLCARE',\n",
       "   80: 'plan_name_G1K BB CDH-N BBTMPFEPB',\n",
       "   81: 'plan_name_UPMC',\n",
       "   82: 'plan_name_DST PHARMACY SOLUTIONS DIRECT',\n",
       "   83: 'plan_name_MEDICAL RX',\n",
       "   84: 'plan_name_Gainwell Ohio Medicaid',\n",
       "   85: 'plan_name_UHC ACIS ENROLLMENTS',\n",
       "   86: 'plan_name_BMC RETAIL MEDI',\n",
       "   87: 'plan_name_HP-OHIO',\n",
       "   88: 'plan_name_2023 Cigna MedD PDP Secure 6T-RTL',\n",
       "   89: 'plan_name_INDIANA MEDICAID',\n",
       "   90: 'plan_name_QL TMP Z 30 DAYS RETAIL',\n",
       "   91: 'plan_name_G1K BB CDH-N BBTMPFEPS',\n",
       "   92: 'plan_name_BMCHP MA MCD',\n",
       "   93: 'plan_name_COMMONWEALTH OF KENTUCKY AETNA',\n",
       "   94: 'plan_name_C23H1 BB CDH-N HPDMEDD',\n",
       "   95: 'plan_name_INGEN BB CDH-N IRXBAS918'},\n",
       "  'tkn2tid': {'rx_bin_unk': 0,\n",
       "   'rx_bin_minor': 1,\n",
       "   'rx_bin_4336.0': 2,\n",
       "   'rx_bin_610097.0': 3,\n",
       "   'rx_bin_610014.0': 4,\n",
       "   'rx_bin_3858.0': 5,\n",
       "   'rx_bin_15581.0': 6,\n",
       "   'rx_bin_610502.0': 7,\n",
       "   'rx_bin_610011.0': 8,\n",
       "   'rx_bin_11552.0': 9,\n",
       "   'rx_bin_610494.0': 10,\n",
       "   'rx_bin_610239.0': 11,\n",
       "   'rx_bin_610279.0': 12,\n",
       "   'rx_bin_20115.0': 13,\n",
       "   'rx_bin_20099.0': 14,\n",
       "   'rx_bin_17010.0': 15,\n",
       "   'rx_bin_24251.0': 16,\n",
       "   'rx_bin_22659.0': 17,\n",
       "   'rx_bin_12833.0': 18,\n",
       "   'rx_bin_4915.0': 19,\n",
       "   'rx_bin_19595.0': 20,\n",
       "   'rx_bin_1553.0': 21,\n",
       "   'rx_bin_20107.0': 22,\n",
       "   'rx_bin_610591.0': 23,\n",
       "   'rx_bin_610455.0': 24,\n",
       "   'rx_bin_610602.0': 25,\n",
       "   'rx_bin_23880.0': 26,\n",
       "   'rx_bin_10579.0': 27,\n",
       "   'rx_bin_18902.0': 28,\n",
       "   'rx_bin_610593.0': 29,\n",
       "   'rx_bin_12312.0': 30,\n",
       "   'rx_bin_3585.0': 31,\n",
       "   'rx_pcn_unk': 32,\n",
       "   'rx_pcn_minor': 33,\n",
       "   'rx_pcn_ADV': 34,\n",
       "   'rx_pcn_9999': 35,\n",
       "   'rx_pcn_MEDDADV': 36,\n",
       "   'rx_pcn_A4': 37,\n",
       "   'rx_pcn_03200000': 38,\n",
       "   'rx_pcn_MCAIDADV': 39,\n",
       "   'rx_pcn_00670000': 40,\n",
       "   'rx_pcn_IRX': 41,\n",
       "   'rx_pcn_IS': 42,\n",
       "   'rx_pcn_FEPRX': 43,\n",
       "   'rx_pcn_MA': 44,\n",
       "   'rx_pcn_MEDDAET': 45,\n",
       "   'rx_pcn_WG': 46,\n",
       "   'rx_pcn_CIMCARE': 47,\n",
       "   'rx_pcn_BCTX': 48,\n",
       "   'rx_pcn_OHRXPROD': 49,\n",
       "   'rx_pcn_6334225': 50,\n",
       "   'rx_pcn_MEDDPRIME': 51,\n",
       "   'rx_pcn_FLBC': 52,\n",
       "   'rx_pcn_TNM': 53,\n",
       "   'rx_pcn_ASPROD1': 54,\n",
       "   'rx_pcn_CTRXMEDD': 55,\n",
       "   'rx_pcn_KYPROD1': 56,\n",
       "   'rx_pcn_OKA01': 57,\n",
       "   'rx_pcn_P303018902': 58,\n",
       "   'rx_pcn_4343': 59,\n",
       "   'rx_pcn_1215': 60,\n",
       "   'rx_pcn_01940000': 61,\n",
       "   'rx_pcn_MASSPROD': 62,\n",
       "   'rx_pcn_PRX00621': 63,\n",
       "   'plan_name_unk': 64,\n",
       "   'plan_name_minor': 65,\n",
       "   'plan_name_Department of Defense': 66,\n",
       "   'plan_name_UHCMR MAPD AND MA/RDS': 67,\n",
       "   'plan_name_CVS|CAREMARK': 68,\n",
       "   'plan_name_IRXME BB CDH-Y IRXMDTSTR1': 69,\n",
       "   'plan_name_AETSS BB CDH-N AETMEDD23': 70,\n",
       "   'plan_name_E23A1 BB CDH-N HPDMEDD': 71,\n",
       "   'plan_name_UHCMR PDP': 72,\n",
       "   'plan_name_EXPRESS SCRIPTS': 73,\n",
       "   'plan_name_OPTUMRX': 74,\n",
       "   'plan_name_T14 L4Y 10001': 75,\n",
       "   'plan_name_AMD23 BB CDH-Y AETMEDD23': 76,\n",
       "   'plan_name_UNITEDHEALTHCARE DUAL COM': 77,\n",
       "   'plan_name_Careplus D Humana PDP': 78,\n",
       "   'plan_name_COMMONWEALTH OF KENTUCKY WELLCARE': 79,\n",
       "   'plan_name_G1K BB CDH-N BBTMPFEPB': 80,\n",
       "   'plan_name_UPMC': 81,\n",
       "   'plan_name_DST PHARMACY SOLUTIONS DIRECT': 82,\n",
       "   'plan_name_MEDICAL RX': 83,\n",
       "   'plan_name_Gainwell Ohio Medicaid': 84,\n",
       "   'plan_name_UHC ACIS ENROLLMENTS': 85,\n",
       "   'plan_name_BMC RETAIL MEDI': 86,\n",
       "   'plan_name_HP-OHIO': 87,\n",
       "   'plan_name_2023 Cigna MedD PDP Secure 6T-RTL': 88,\n",
       "   'plan_name_INDIANA MEDICAID': 89,\n",
       "   'plan_name_QL TMP Z 30 DAYS RETAIL': 90,\n",
       "   'plan_name_G1K BB CDH-N BBTMPFEPS': 91,\n",
       "   'plan_name_BMCHP MA MCD': 92,\n",
       "   'plan_name_COMMONWEALTH OF KENTUCKY AETNA': 93,\n",
       "   'plan_name_C23H1 BB CDH-N HPDMEDD': 94,\n",
       "   'plan_name_INGEN BB CDH-N IRXBAS918': 95}}}"
      ]
     },
     "execution_count": 88,
     "metadata": {},
     "output_type": "execute_result"
    }
   ],
   "source": [
    "CaseTknVocab = fn_caseobs_Phi.CaseTknVocab\n",
    "CaseTknVocab"
   ]
  },
  {
   "cell_type": "code",
   "execution_count": 89,
   "id": "c7bb5e52",
   "metadata": {},
   "outputs": [],
   "source": [
    "pd.DataFrame({CaseObsName: CaseTknVocab}).to_pickle(fn_caseobs_Phi.CaseObsFolder_vocab)"
   ]
  },
  {
   "cell_type": "code",
   "execution_count": null,
   "metadata": {},
   "outputs": [],
   "source": []
  },
  {
   "cell_type": "code",
   "execution_count": null,
   "metadata": {},
   "outputs": [],
   "source": []
  }
 ],
 "metadata": {
  "kernelspec": {
   "display_name": "Python 3 (ipykernel)",
   "language": "python",
   "name": "python3"
  },
  "language_info": {
   "codemirror_mode": {
    "name": "ipython",
    "version": 3
   },
   "file_extension": ".py",
   "mimetype": "text/x-python",
   "name": "python",
   "nbconvert_exporter": "python",
   "pygments_lexer": "ipython3",
   "version": "3.11.7"
  },
  "toc-autonumbering": true
 },
 "nbformat": 4,
 "nbformat_minor": 5
}
