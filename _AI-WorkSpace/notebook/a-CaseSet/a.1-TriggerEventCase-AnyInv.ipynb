{
 "cells": [
  {
   "cell_type": "markdown",
   "id": "881d73c8-f12f-4a9b-a485-996a76289767",
   "metadata": {},
   "source": [
    "\n",
    "# Space"
   ]
  },
  {
   "cell_type": "code",
   "execution_count": 1,
   "id": "c8fa8c69",
   "metadata": {},
   "outputs": [
    {
     "name": "stdout",
     "output_type": "stream",
     "text": [
      "/Users/floydluo/Library/CloudStorage/OneDrive-DRFIRST.COM,INC/Documents - DrFirst-JHU Collaboration Center/DrFirst-Project/2024-DrFirst-v4-SPACE/_DrFirst-AI-EgmPred-WorkSpace\n",
      "{'CODE_FN': '../pipeline',\n",
      " 'CODE_RFT': '../pipeline',\n",
      " 'DATA_CaseFeat': '../_Data/3-Data_CaseFeat',\n",
      " 'DATA_CaseObs': '../_Data/2-Data_CaseObs',\n",
      " 'DATA_CaseSet': '../_Data/4-Data_CaseSet',\n",
      " 'DATA_EXTERNAL': '../external',\n",
      " 'DATA_RAW': '../_Data/0-Data_Raw',\n",
      " 'DATA_RFT': '../_Data/1-Data_RFT',\n",
      " 'DATA_TASK': '_data',\n",
      " 'MODEL_TASK': '../_Model',\n",
      " 'TaskName': 'EduRxPred',\n",
      " 'WORKSPACE_PATH': '/Users/floydluo/Library/CloudStorage/OneDrive-DRFIRST.COM,INC/Documents '\n",
      "                   '- DrFirst-JHU Collaboration '\n",
      "                   'Center/DrFirst-Project/2024-DrFirst-v4-SPACE/_DrFirst-AI-EgmPred-WorkSpace'}\n"
     ]
    }
   ],
   "source": [
    "import os\n",
    "import sys \n",
    "import logging\n",
    "import pandas as pd \n",
    "from pprint import pprint \n",
    "\n",
    "# WorkSpace\n",
    "KEY = 'WorkSpace'; WORKSPACE_PATH = os.getcwd().split(KEY)[0] + KEY; print(WORKSPACE_PATH)\n",
    "os.chdir(WORKSPACE_PATH)\n",
    "sys.path.append(WORKSPACE_PATH)\n",
    "\n",
    "# Pipeline Space\n",
    "from proj_space import SPACE\n",
    "SPACE['WORKSPACE_PATH'] = WORKSPACE_PATH\n",
    "sys.path.append(SPACE['CODE_FN'])\n",
    "pprint(SPACE)\n",
    "\n",
    "# Available Packages\n",
    "import pandas as pd\n",
    "from datetime import datetime \n",
    "\n",
    "logger = logging.getLogger(__name__)\n",
    "recfldtkn_config_path = os.path.join(SPACE['CODE_FN'], 'config_recfldtkn')\n"
   ]
  },
  {
   "cell_type": "markdown",
   "id": "d9e41da4",
   "metadata": {},
   "source": [
    "# Trigger Events"
   ]
  },
  {
   "cell_type": "code",
   "execution_count": 2,
   "id": "a984edb7",
   "metadata": {},
   "outputs": [
    {
     "name": "stdout",
     "output_type": "stream",
     "text": [
      "{'CohortInfo': {'RawData2023Nov_Trulicity': {'cohort_label': 1, 'cohort_name': 'RawData2023Nov_Trulicity', 'FolderPath': '../_Data/0-Data_Raw/2023_11_30_30days_Trulicity'}}, 'RawRootID': 'patient_id_encoded', 'RootID': 'PID', 'RecName': 'PRawRecNum', 'recattr_pyfolder': '../pipeline/fn_recattr/', 'fldtkn_pyfolder': '../pipeline/fn_fldtkn/', 'humanrec_pyfolder': '../pipeline/fn_humanrec/', 'inference_pyfolder': '../pipeline/fn_inference/', 'trigger_pyfolder': '../pipeline/fn_trigger/', 'RecName_Sequence': ['P', 'PInv', 'Rx', 'EgmAuthen', 'EgmCallPharm', 'EgmClick', 'EgmCopay', 'EgmEdu', 'EgmRmd'], 'RecName_to_PrtRecName': {'P': 'None', 'PInv': 'P', 'Rx': 'PInv', 'EgmAuthen': 'PInv', 'EgmCallPharm': 'PInv', 'EgmClick': 'PInv', 'EgmCopay': 'Rx', 'EgmEdu': 'Rx', 'EgmRmd': 'Rx'}, 'RecName_to_RFT_GROUP_SIZE': {'Default': 5000}, 'RecName_to_RFT_idx_group_size': {'Default': 10000}, 'RecName_to_RFT_usebucket': {'Default': False}, 'RootIDLength': 6, 'recfldtkn_config_path': '../pipeline/config_recfldtkn', 'SPACE': {'DATA_RAW': '../_Data/0-Data_Raw', 'DATA_RFT': '../_Data/1-Data_RFT', 'DATA_EXTERNAL': '../external', 'DATA_CaseObs': '../_Data/2-Data_CaseObs', 'DATA_CaseFeat': '../_Data/3-Data_CaseFeat', 'DATA_CaseSet': '../_Data/4-Data_CaseSet', 'CODE_FN': '../pipeline', 'CODE_RFT': '../pipeline', 'DATA_TASK': '_data', 'MODEL_TASK': '../_Model', 'TaskName': 'EduRxPred', 'WORKSPACE_PATH': '/Users/floydluo/Library/CloudStorage/OneDrive-DRFIRST.COM,INC/Documents - DrFirst-JHU Collaboration Center/DrFirst-Project/2024-DrFirst-v4-SPACE/_DrFirst-AI-EgmPred-WorkSpace'}, 'pypath': '../pipeline/fn_humanrec/humanrec.py'}\n"
     ]
    }
   ],
   "source": [
    "import datasets\n",
    "from recfldtkn.loadtools import load_ds_rec_and_info\n",
    "from recfldtkn.configfn import load_cohort_args, load_record_args\n",
    "from recfldtkn.loadtools import convert_variables_to_pystirng, load_module_variables\n",
    "\n",
    "cohort_config = load_cohort_args(recfldtkn_config_path, SPACE)\n",
    "print(cohort_config)"
   ]
  },
  {
   "cell_type": "markdown",
   "id": "c0be18c1",
   "metadata": {},
   "source": [
    "# TriggerCaseMethod: TrulicityRx"
   ]
  },
  {
   "cell_type": "code",
   "execution_count": 3,
   "id": "59770bc4",
   "metadata": {},
   "outputs": [],
   "source": [
    "######################################\n",
    "TriggerCaseMethod = 'AnyInv'\n",
    "######################################\n",
    "\n",
    "#################\n",
    "cohort_label_list = [1]\n",
    "#################\n",
    "\n",
    "\n",
    "##############\n",
    "TriggerRecName = 'PInv' # 'PInv'\n",
    "case_id_columns = [\"PID\", \"ObsDT\", 'PInvID']\n",
    "special_columns = ['PID', 'DT', 'PInvID', 'invitation_type', 'invitation_state', \n",
    "                   ]\n",
    "##############"
   ]
  },
  {
   "cell_type": "code",
   "execution_count": 4,
   "id": "73ee6f26",
   "metadata": {},
   "outputs": [],
   "source": [
    "\n",
    "import inspect\n",
    "\n",
    "def convert_TriggerEvent_to_Caseset(ds_rec, case_id_columns, special_columns, base_config):\n",
    "    ds_case = ds_rec.select_columns(special_columns)\n",
    "    df_case = ds_case.to_pandas()\n",
    "    \n",
    "    # ------------------------------ Filter Cases ------------------------------\n",
    "    # df_case_filter = df_case_raw[df_case_raw['invitation_state'] == 'Delivered'].reset_index(drop=True)\n",
    "    # --------------------------------------------------------------------------\n",
    "\n",
    "    # ------------------------------ Determine the ObsDT ------------------------------\n",
    "    df_case['ObsDT'] = df_case['DT'] # [df_case_raw['drug_name'] == 'Trulicity']\n",
    "    # --------------------------------------------------------------------------\n",
    "\n",
    "    # ------------------------------- Update Column Sequence ------------------------\n",
    "    columns = df_case.columns \n",
    "    columns = case_id_columns + [col for col in columns if col not in case_id_columns]\n",
    "    df_case = df_case[columns].reset_index(drop=True)\n",
    "\n",
    "    return df_case\n",
    "\n",
    "convert_TriggerEvent_to_Caseset.fn_string = inspect.getsource(convert_TriggerEvent_to_Caseset)"
   ]
  },
  {
   "cell_type": "code",
   "execution_count": 5,
   "id": "2bde43a3",
   "metadata": {},
   "outputs": [
    {
     "name": "stdout",
     "output_type": "stream",
     "text": [
      "../pipeline/fn_trigger/AnyInv.py\n"
     ]
    }
   ],
   "source": [
    "prefix = ['import pandas as pd', 'import numpy as np']\n",
    "string_variables = [TriggerRecName]\n",
    "iterative_variables = [case_id_columns, special_columns]\n",
    "fn_variables = [convert_TriggerEvent_to_Caseset]\n",
    "pycode = convert_variables_to_pystirng(string_variables = string_variables, \n",
    "                                       iterative_variables = iterative_variables, \n",
    "                                       fn_variables = fn_variables, prefix = prefix)\n",
    "pypath = os.path.join(cohort_config['trigger_pyfolder'], f'{TriggerCaseMethod}.py')\n",
    "print(pypath)\n",
    "if not os.path.exists(os.path.dirname(pypath)): os.makedirs(os.path.dirname(pypath))\n",
    "with open(pypath, 'w') as file: file.write(pycode)"
   ]
  },
  {
   "cell_type": "code",
   "execution_count": 6,
   "id": "e1bf73a5",
   "metadata": {},
   "outputs": [],
   "source": [
    "pypath = os.path.join(cohort_config['trigger_pyfolder'], f'{TriggerCaseMethod}.py')\n",
    "module = load_module_variables(pypath)\n",
    "\n",
    "######################\n",
    "TriggerRecName = module.TriggerRecName\n",
    "case_id_columns = module.case_id_columns\n",
    "special_columns = module.special_columns\n",
    "convert_TriggerEvent_to_Caseset = module.convert_TriggerEvent_to_Caseset\n",
    "######################"
   ]
  },
  {
   "cell_type": "code",
   "execution_count": 7,
   "id": "56db8208",
   "metadata": {},
   "outputs": [
    {
     "name": "stdout",
     "output_type": "stream",
     "text": [
      "Dataset({\n",
      "    features: ['PID', 'PInvID', 'invitation_id_encoded', 'patient_invitation_id_encoded', 'DT', 'invitation_date', 'invitation_code', 'invitation_type', 'invitation_state', 'workflow_step', 'PInv-InfoTkn_wgt', 'PInv-InfoTkn_tknidx'],\n",
      "    num_rows: 526327\n",
      "})\n"
     ]
    },
    {
     "data": {
      "text/html": [
       "<div>\n",
       "<style scoped>\n",
       "    .dataframe tbody tr th:only-of-type {\n",
       "        vertical-align: middle;\n",
       "    }\n",
       "\n",
       "    .dataframe tbody tr th {\n",
       "        vertical-align: top;\n",
       "    }\n",
       "\n",
       "    .dataframe thead th {\n",
       "        text-align: right;\n",
       "    }\n",
       "</style>\n",
       "<table border=\"1\" class=\"dataframe\">\n",
       "  <thead>\n",
       "    <tr style=\"text-align: right;\">\n",
       "      <th></th>\n",
       "      <th>PID</th>\n",
       "      <th>ObsDT</th>\n",
       "      <th>PInvID</th>\n",
       "      <th>DT</th>\n",
       "      <th>invitation_type</th>\n",
       "      <th>invitation_state</th>\n",
       "    </tr>\n",
       "  </thead>\n",
       "  <tbody>\n",
       "    <tr>\n",
       "      <th>0</th>\n",
       "      <td>1000001</td>\n",
       "      <td>2023-04-07 18:44:16.912</td>\n",
       "      <td>1000001-000</td>\n",
       "      <td>2023-04-07 18:44:16.912</td>\n",
       "      <td>PrescribingEvent</td>\n",
       "      <td>Delivered</td>\n",
       "    </tr>\n",
       "    <tr>\n",
       "      <th>1</th>\n",
       "      <td>1000001</td>\n",
       "      <td>2023-04-08 19:03:59.664</td>\n",
       "      <td>1000001-001</td>\n",
       "      <td>2023-04-08 19:03:59.664</td>\n",
       "      <td>Followup</td>\n",
       "      <td>SMSBlocked</td>\n",
       "    </tr>\n",
       "    <tr>\n",
       "      <th>2</th>\n",
       "      <td>1000001</td>\n",
       "      <td>2023-05-08 16:06:45.254</td>\n",
       "      <td>1000001-002</td>\n",
       "      <td>2023-05-08 16:06:45.254</td>\n",
       "      <td>PrescribingEvent</td>\n",
       "      <td>Ignored</td>\n",
       "    </tr>\n",
       "    <tr>\n",
       "      <th>3</th>\n",
       "      <td>1000001</td>\n",
       "      <td>2023-05-10 16:45:29.112</td>\n",
       "      <td>1000001-003</td>\n",
       "      <td>2023-05-10 16:45:29.112</td>\n",
       "      <td>PrescribingEvent</td>\n",
       "      <td>Ignored</td>\n",
       "    </tr>\n",
       "    <tr>\n",
       "      <th>4</th>\n",
       "      <td>1000001</td>\n",
       "      <td>2023-06-07 11:25:15.721</td>\n",
       "      <td>1000001-004</td>\n",
       "      <td>2023-06-07 11:25:15.721</td>\n",
       "      <td>PrescribingEvent</td>\n",
       "      <td>Ignored</td>\n",
       "    </tr>\n",
       "    <tr>\n",
       "      <th>...</th>\n",
       "      <td>...</td>\n",
       "      <td>...</td>\n",
       "      <td>...</td>\n",
       "      <td>...</td>\n",
       "      <td>...</td>\n",
       "      <td>...</td>\n",
       "    </tr>\n",
       "    <tr>\n",
       "      <th>526322</th>\n",
       "      <td>1046209</td>\n",
       "      <td>2023-07-19 16:24:52.119</td>\n",
       "      <td>1046209-003</td>\n",
       "      <td>2023-07-19 16:24:52.119</td>\n",
       "      <td>Followup</td>\n",
       "      <td>Delivered</td>\n",
       "    </tr>\n",
       "    <tr>\n",
       "      <th>526323</th>\n",
       "      <td>1046209</td>\n",
       "      <td>2023-07-20 15:05:52.683</td>\n",
       "      <td>1046209-004</td>\n",
       "      <td>2023-07-20 15:05:52.683</td>\n",
       "      <td>PrescribingEvent</td>\n",
       "      <td>Delivered</td>\n",
       "    </tr>\n",
       "    <tr>\n",
       "      <th>526324</th>\n",
       "      <td>1046209</td>\n",
       "      <td>2023-09-07 18:10:13.007</td>\n",
       "      <td>1046209-005</td>\n",
       "      <td>2023-09-07 18:10:13.007</td>\n",
       "      <td>PrescribingEvent</td>\n",
       "      <td>Delivered</td>\n",
       "    </tr>\n",
       "    <tr>\n",
       "      <th>526325</th>\n",
       "      <td>1046209</td>\n",
       "      <td>2023-09-08 18:45:17.580</td>\n",
       "      <td>1046209-006</td>\n",
       "      <td>2023-09-08 18:45:17.580</td>\n",
       "      <td>Followup</td>\n",
       "      <td>SMSBlocked</td>\n",
       "    </tr>\n",
       "    <tr>\n",
       "      <th>526326</th>\n",
       "      <td>1046209</td>\n",
       "      <td>2023-11-28 14:38:19.801</td>\n",
       "      <td>1046209-007</td>\n",
       "      <td>2023-11-28 14:38:19.801</td>\n",
       "      <td>PrescribingEvent</td>\n",
       "      <td>Delivered</td>\n",
       "    </tr>\n",
       "  </tbody>\n",
       "</table>\n",
       "<p>526327 rows × 6 columns</p>\n",
       "</div>"
      ],
      "text/plain": [
       "            PID                   ObsDT       PInvID                      DT  \\\n",
       "0       1000001 2023-04-07 18:44:16.912  1000001-000 2023-04-07 18:44:16.912   \n",
       "1       1000001 2023-04-08 19:03:59.664  1000001-001 2023-04-08 19:03:59.664   \n",
       "2       1000001 2023-05-08 16:06:45.254  1000001-002 2023-05-08 16:06:45.254   \n",
       "3       1000001 2023-05-10 16:45:29.112  1000001-003 2023-05-10 16:45:29.112   \n",
       "4       1000001 2023-06-07 11:25:15.721  1000001-004 2023-06-07 11:25:15.721   \n",
       "...         ...                     ...          ...                     ...   \n",
       "526322  1046209 2023-07-19 16:24:52.119  1046209-003 2023-07-19 16:24:52.119   \n",
       "526323  1046209 2023-07-20 15:05:52.683  1046209-004 2023-07-20 15:05:52.683   \n",
       "526324  1046209 2023-09-07 18:10:13.007  1046209-005 2023-09-07 18:10:13.007   \n",
       "526325  1046209 2023-09-08 18:45:17.580  1046209-006 2023-09-08 18:45:17.580   \n",
       "526326  1046209 2023-11-28 14:38:19.801  1046209-007 2023-11-28 14:38:19.801   \n",
       "\n",
       "         invitation_type invitation_state  \n",
       "0       PrescribingEvent        Delivered  \n",
       "1               Followup       SMSBlocked  \n",
       "2       PrescribingEvent          Ignored  \n",
       "3       PrescribingEvent          Ignored  \n",
       "4       PrescribingEvent          Ignored  \n",
       "...                  ...              ...  \n",
       "526322          Followup        Delivered  \n",
       "526323  PrescribingEvent        Delivered  \n",
       "526324  PrescribingEvent        Delivered  \n",
       "526325          Followup       SMSBlocked  \n",
       "526326  PrescribingEvent        Delivered  \n",
       "\n",
       "[526327 rows x 6 columns]"
      ]
     },
     "execution_count": 7,
     "metadata": {},
     "output_type": "execute_result"
    }
   ],
   "source": [
    "############################### ds_rec to df_case ###############################\n",
    "ds_rec, _ = load_ds_rec_and_info(TriggerRecName, cohort_config)\n",
    "print(ds_rec)\n",
    "df_case = convert_TriggerEvent_to_Caseset(ds_rec, case_id_columns, special_columns, cohort_config)\n",
    "df_case"
   ]
  },
  {
   "cell_type": "code",
   "execution_count": 8,
   "id": "b14d2aca",
   "metadata": {},
   "outputs": [],
   "source": [
    "# df_case['invitation_state'].value_counts()"
   ]
  },
  {
   "cell_type": "code",
   "execution_count": 9,
   "id": "d982f3d6",
   "metadata": {},
   "outputs": [
    {
     "name": "stdout",
     "output_type": "stream",
     "text": [
      "../_Data/4-Data_CaseSet/AnyInv.p\n"
     ]
    }
   ],
   "source": [
    "CaseFolder = os.path.join(SPACE['DATA_CaseSet'])\n",
    "\n",
    "if not os.path.exists(CaseFolder): os.makedirs(CaseFolder)\n",
    "path = os.path.join(CaseFolder, f'{TriggerCaseMethod}.p')\n",
    "df_case.to_pickle(path)\n",
    "print(path)"
   ]
  },
  {
   "cell_type": "code",
   "execution_count": null,
   "id": "1419aa14",
   "metadata": {},
   "outputs": [],
   "source": []
  },
  {
   "cell_type": "code",
   "execution_count": null,
   "id": "5d8ddf8f",
   "metadata": {},
   "outputs": [],
   "source": []
  }
 ],
 "metadata": {
  "kernelspec": {
   "display_name": "Python 3 (ipykernel)",
   "language": "python",
   "name": "python3"
  },
  "language_info": {
   "codemirror_mode": {
    "name": "ipython",
    "version": 3
   },
   "file_extension": ".py",
   "mimetype": "text/x-python",
   "name": "python",
   "nbconvert_exporter": "python",
   "pygments_lexer": "ipython3",
   "version": "3.11.7"
  },
  "toc-autonumbering": true
 },
 "nbformat": 4,
 "nbformat_minor": 5
}
