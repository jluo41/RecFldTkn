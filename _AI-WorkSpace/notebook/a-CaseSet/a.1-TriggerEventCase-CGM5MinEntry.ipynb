{
 "cells": [
  {
   "cell_type": "markdown",
   "id": "881d73c8-f12f-4a9b-a485-996a76289767",
   "metadata": {},
   "source": [
    "\n",
    "# Space"
   ]
  },
  {
   "cell_type": "code",
   "execution_count": 1,
   "id": "c8fa8c69",
   "metadata": {},
   "outputs": [
    {
     "name": "stdout",
     "output_type": "stream",
     "text": [
      "g:\\Shared drives\\CDHAI-WellDoc\\2024-WellDocTest-SPACE\\_WellDoc-AI-CGMGPT-WorkSpace\n",
      "{'CODE_FN': '../pipeline',\n",
      " 'CODE_RFT': '../pipeline',\n",
      " 'DATA_CaseFeat': '../_Data/3-Data_CaseFeat',\n",
      " 'DATA_CaseObs': '../_Data/2-Data_CaseObs',\n",
      " 'DATA_CaseSet': '../_Data/4-Data_CaseSet',\n",
      " 'DATA_RAW': '../_Data/0-Data_Raw',\n",
      " 'DATA_RFT': '../_Data/1-Data_RFT',\n",
      " 'DATA_TASK': '../_Data/8-Data_AIDataset',\n",
      " 'MODEL_TASK': '../_Model',\n",
      " 'WORKSPACE_PATH': 'g:\\\\Shared '\n",
      "                   'drives\\\\CDHAI-WellDoc\\\\2024-WellDocTest-SPACE\\\\_WellDoc-AI-CGMGPT-WorkSpace'}\n"
     ]
    }
   ],
   "source": [
    "import os\n",
    "import sys \n",
    "import logging\n",
    "import pandas as pd \n",
    "from pprint import pprint \n",
    "\n",
    "# WorkSpace\n",
    "KEY = 'WorkSpace'; WORKSPACE_PATH = os.getcwd().split(KEY)[0] + KEY; print(WORKSPACE_PATH)\n",
    "os.chdir(WORKSPACE_PATH)\n",
    "sys.path.append(WORKSPACE_PATH)\n",
    "\n",
    "# Pipeline Space\n",
    "from proj_space import SPACE\n",
    "SPACE['WORKSPACE_PATH'] = WORKSPACE_PATH\n",
    "sys.path.append(SPACE['CODE_FN'])\n",
    "pprint(SPACE)\n",
    "\n",
    "# Available Packages\n",
    "import pandas as pd\n",
    "from datetime import datetime \n",
    "\n",
    "logger = logging.getLogger(__name__)\n",
    "recfldtkn_config_path = os.path.join(SPACE['CODE_FN'], 'config_recfldtkn/')\n"
   ]
  },
  {
   "cell_type": "markdown",
   "metadata": {},
   "source": [
    "# Trigger Events"
   ]
  },
  {
   "cell_type": "code",
   "execution_count": 2,
   "metadata": {},
   "outputs": [
    {
     "name": "stdout",
     "output_type": "stream",
     "text": [
      "{'CohortInfo': {'RawData2022_CGM': {'cohort_label': 1, 'cohort_name': 'RawData2022_CGM', 'FolderPath': '../_Data/0-Data_Raw/RawData2022_CGM/'}, 'RawData2023_CVSTDCAug': {'cohort_label': 2, 'cohort_name': 'RawData2023_CVSTDCAug', 'FolderPath': '../_Data/0-Data_Raw/RawData2023_CVSTDCAug/'}, 'RawData2023_CVSDeRxAug': {'cohort_label': 3, 'cohort_name': 'RawData2023_CVSDeRxAug', 'FolderPath': '../_Data/0-Data_Raw/RawData2023_CVSDeRxAug/'}}, 'RawRootID': 'PatientID', 'RootID': 'PID', 'RecName': 'PRawRecNum', 'recattr_pyfolder': '../pipeline/fn_recattr/', 'fldtkn_pyfolder': '../pipeline/fn_fldtkn/', 'humanrec_pyfolder': '../pipeline/fn_humanrec/', 'inference_pyfolder': '../pipeline/fn_inference/', 'trigger_pyfolder': '../pipeline/fn_trigger/', 'RecName_to_RFT_GROUP_SIZE': {'CGM5Min': 100, 'Default': 5000}, 'RecName_to_RFT_idx_group_size': {'CGM5Min': 100, 'BGManual': 100, 'Default': 10000}, 'RecName_to_RFT_usebucket': {'CGM5Min': True, 'Default': False}, 'RootIDLength': 6, 'recfldtkn_config_path': '../pipeline\\\\config_recfldtkn/', 'SPACE': {'DATA_RAW': '../_Data/0-Data_Raw', 'DATA_RFT': '../_Data/1-Data_RFT', 'DATA_CaseObs': '../_Data/2-Data_CaseObs', 'DATA_CaseFeat': '../_Data/3-Data_CaseFeat', 'DATA_CaseSet': '../_Data/4-Data_CaseSet', 'CODE_FN': '../pipeline', 'CODE_RFT': '../pipeline', 'DATA_TASK': '../_Data/8-Data_AIDataset', 'MODEL_TASK': '../_Model', 'WORKSPACE_PATH': 'g:\\\\Shared drives\\\\CDHAI-WellDoc\\\\2024-WellDocTest-SPACE\\\\_WellDoc-AI-CGMGPT-WorkSpace'}, 'pypath': '../pipeline/fn_humanrec/humanrec.py'}\n"
     ]
    }
   ],
   "source": [
    "import datasets\n",
    "from recfldtkn.loadtools import load_ds_rec_and_info\n",
    "from recfldtkn.configfn import load_cohort_args, load_record_args\n",
    "from recfldtkn.loadtools import convert_variables_to_pystirng, load_module_variables\n",
    "\n",
    "base_config = load_cohort_args(recfldtkn_config_path, SPACE)\n",
    "print(base_config)"
   ]
  },
  {
   "cell_type": "code",
   "execution_count": 3,
   "metadata": {},
   "outputs": [],
   "source": [
    "# CaseFolder = os.path.join(SPACE['DATA_TASK'], 'CaseFolder')\n",
    "# print(CaseFolder)"
   ]
  },
  {
   "cell_type": "markdown",
   "metadata": {},
   "source": [
    "# Trigger Case"
   ]
  },
  {
   "cell_type": "code",
   "execution_count": 4,
   "id": "59770bc4",
   "metadata": {},
   "outputs": [],
   "source": [
    "#################\n",
    "cohort_label_list = [1, 2, 3]\n",
    "#################\n",
    "\n",
    "######################################\n",
    "TriggerCaseMethod = 'CGM5MinEntry'\n",
    "######################################\n",
    "\n",
    "TriggerRecName = 'CGM5Min'\n",
    "case_id_columns = [\"PID\", \"ObsDT\"]\n",
    "special_columns = ['PID', 'DT_s']"
   ]
  },
  {
   "cell_type": "code",
   "execution_count": 5,
   "metadata": {},
   "outputs": [],
   "source": [
    "\n",
    "import inspect\n",
    "\n",
    "def convert_TriggerEvent_to_Caseset(ds_rec, case_id_columns, special_columns, base_config):\n",
    "    ds_case = ds_rec.select_columns(special_columns)\n",
    "    df_case_raw = ds_case.to_pandas()\n",
    "    \n",
    "    # ------------------------------ Filter Cases ------------------------------\n",
    "    df_case_filter = df_case_raw # [df_case_raw['invitation_state'] == 'Delivered'].reset_index(drop=True)\n",
    "    # --------------------------------------------------------------------------\n",
    "\n",
    "    # ------------------------------ Determine the ObsDT ------------------------------\n",
    "    df_case_filter['ObsDT'] = df_case_filter['DT_s'] # [df_case_raw['drug_name'] == 'Trulicity']\n",
    "    df_case_filter = df_case_filter.drop(columns = 'DT_s') # .from_pandas(df_case_filter)\n",
    "    # --------------------------------------------------------------------------\n",
    "\n",
    "    # ------------------------------- Update Column Sequence ------------------------\n",
    "    columns = df_case_filter.columns \n",
    "    columns = case_id_columns + [col for col in columns if col not in case_id_columns]\n",
    "    df_case_filter = df_case_filter[columns].reset_index(drop=True)\n",
    "\n",
    "    df_case = df_case_filter\n",
    "    return df_case\n",
    "\n",
    "convert_TriggerEvent_to_Caseset.fn_string = inspect.getsource(convert_TriggerEvent_to_Caseset)"
   ]
  },
  {
   "cell_type": "code",
   "execution_count": 6,
   "id": "2bde43a3",
   "metadata": {},
   "outputs": [
    {
     "name": "stdout",
     "output_type": "stream",
     "text": [
      "../pipeline/fn_trigger/CGM5MinEntry.py\n"
     ]
    }
   ],
   "source": [
    "prefix = ['import pandas as pd', 'import numpy as np']\n",
    "string_variables = [TriggerRecName]\n",
    "iterative_variables = [case_id_columns, special_columns]\n",
    "fn_variables = [convert_TriggerEvent_to_Caseset]\n",
    "pycode = convert_variables_to_pystirng(string_variables = string_variables, \n",
    "                                       iterative_variables = iterative_variables, \n",
    "                                       fn_variables = fn_variables, prefix = prefix)\n",
    "pypath = os.path.join(base_config['trigger_pyfolder'], f'{TriggerCaseMethod}.py')\n",
    "print(pypath)\n",
    "if not os.path.exists(os.path.dirname(pypath)): os.makedirs(os.path.dirname(pypath))\n",
    "with open(pypath, 'w') as file: file.write(pycode)"
   ]
  },
  {
   "cell_type": "code",
   "execution_count": 7,
   "id": "e1bf73a5",
   "metadata": {},
   "outputs": [],
   "source": [
    "pypath = os.path.join(base_config['trigger_pyfolder'], f'{TriggerCaseMethod}.py')\n",
    "module = load_module_variables(pypath)\n",
    "\n",
    "######################\n",
    "TriggerRecName = module.TriggerRecName\n",
    "case_id_columns = module.case_id_columns\n",
    "special_columns = module.special_columns\n",
    "convert_TriggerEvent_to_Caseset = module.convert_TriggerEvent_to_Caseset\n",
    "######################"
   ]
  },
  {
   "cell_type": "code",
   "execution_count": 8,
   "id": "56db8208",
   "metadata": {},
   "outputs": [
    {
     "data": {
      "text/html": [
       "<div>\n",
       "<style scoped>\n",
       "    .dataframe tbody tr th:only-of-type {\n",
       "        vertical-align: middle;\n",
       "    }\n",
       "\n",
       "    .dataframe tbody tr th {\n",
       "        vertical-align: top;\n",
       "    }\n",
       "\n",
       "    .dataframe thead th {\n",
       "        text-align: right;\n",
       "    }\n",
       "</style>\n",
       "<table border=\"1\" class=\"dataframe\">\n",
       "  <thead>\n",
       "    <tr style=\"text-align: right;\">\n",
       "      <th></th>\n",
       "      <th>PID</th>\n",
       "      <th>ObsDT</th>\n",
       "    </tr>\n",
       "  </thead>\n",
       "  <tbody>\n",
       "    <tr>\n",
       "      <th>0</th>\n",
       "      <td>1000006</td>\n",
       "      <td>2021-01-07 06:20:00</td>\n",
       "    </tr>\n",
       "    <tr>\n",
       "      <th>1</th>\n",
       "      <td>1000006</td>\n",
       "      <td>2021-01-07 06:25:00</td>\n",
       "    </tr>\n",
       "    <tr>\n",
       "      <th>2</th>\n",
       "      <td>1000006</td>\n",
       "      <td>2021-01-07 06:30:00</td>\n",
       "    </tr>\n",
       "    <tr>\n",
       "      <th>3</th>\n",
       "      <td>1000006</td>\n",
       "      <td>2021-01-07 06:35:00</td>\n",
       "    </tr>\n",
       "    <tr>\n",
       "      <th>4</th>\n",
       "      <td>1000006</td>\n",
       "      <td>2021-01-07 06:40:00</td>\n",
       "    </tr>\n",
       "    <tr>\n",
       "      <th>...</th>\n",
       "      <td>...</td>\n",
       "      <td>...</td>\n",
       "    </tr>\n",
       "    <tr>\n",
       "      <th>21215907</th>\n",
       "      <td>3000040</td>\n",
       "      <td>2023-06-15 20:25:00</td>\n",
       "    </tr>\n",
       "    <tr>\n",
       "      <th>21215908</th>\n",
       "      <td>3000040</td>\n",
       "      <td>2023-06-15 21:05:00</td>\n",
       "    </tr>\n",
       "    <tr>\n",
       "      <th>21215909</th>\n",
       "      <td>3000040</td>\n",
       "      <td>2023-06-15 21:10:00</td>\n",
       "    </tr>\n",
       "    <tr>\n",
       "      <th>21215910</th>\n",
       "      <td>3000040</td>\n",
       "      <td>2023-06-15 21:15:00</td>\n",
       "    </tr>\n",
       "    <tr>\n",
       "      <th>21215911</th>\n",
       "      <td>3000040</td>\n",
       "      <td>2023-06-15 21:20:00</td>\n",
       "    </tr>\n",
       "  </tbody>\n",
       "</table>\n",
       "<p>21215912 rows × 2 columns</p>\n",
       "</div>"
      ],
      "text/plain": [
       "              PID               ObsDT\n",
       "0         1000006 2021-01-07 06:20:00\n",
       "1         1000006 2021-01-07 06:25:00\n",
       "2         1000006 2021-01-07 06:30:00\n",
       "3         1000006 2021-01-07 06:35:00\n",
       "4         1000006 2021-01-07 06:40:00\n",
       "...           ...                 ...\n",
       "21215907  3000040 2023-06-15 20:25:00\n",
       "21215908  3000040 2023-06-15 21:05:00\n",
       "21215909  3000040 2023-06-15 21:10:00\n",
       "21215910  3000040 2023-06-15 21:15:00\n",
       "21215911  3000040 2023-06-15 21:20:00\n",
       "\n",
       "[21215912 rows x 2 columns]"
      ]
     },
     "execution_count": 8,
     "metadata": {},
     "output_type": "execute_result"
    }
   ],
   "source": [
    "############################### ds_rec to df_case ###############################\n",
    "ds_rec, _ = load_ds_rec_and_info(TriggerRecName, base_config, cohort_label_list)\n",
    "df_case = convert_TriggerEvent_to_Caseset(ds_rec, case_id_columns, special_columns, base_config)\n",
    "df_case"
   ]
  },
  {
   "cell_type": "code",
   "execution_count": 9,
   "id": "8c8ceba4",
   "metadata": {},
   "outputs": [],
   "source": [
    " #  = [1, 2, 3]"
   ]
  },
  {
   "cell_type": "code",
   "execution_count": 10,
   "id": "d982f3d6",
   "metadata": {},
   "outputs": [
    {
     "name": "stdout",
     "output_type": "stream",
     "text": [
      "../_Data/4-Data_CaseSet\\CGM5MinEntry.p\n"
     ]
    }
   ],
   "source": [
    "CaseFolder = os.path.join(SPACE['DATA_CaseSet'])\n",
    "\n",
    "if not os.path.exists(CaseFolder): os.makedirs(CaseFolder)\n",
    "\n",
    "cohort_label_list_str = '_'.join([str(i) for i in cohort_label_list])\n",
    "# path = os.path.join(CaseFolder, f'{TriggerCaseMethod}-{cohort_label_list_str}.p')\n",
    "path = os.path.join(CaseFolder, f'{TriggerCaseMethod}.p')\n",
    "df_case.to_pickle(path)\n",
    "print(path)"
   ]
  },
  {
   "cell_type": "code",
   "execution_count": null,
   "id": "949cc206",
   "metadata": {},
   "outputs": [],
   "source": []
  }
 ],
 "metadata": {
  "kernelspec": {
   "display_name": "Python 3 (ipykernel)",
   "language": "python",
   "name": "python3"
  },
  "language_info": {
   "codemirror_mode": {
    "name": "ipython",
    "version": 3
   },
   "file_extension": ".py",
   "mimetype": "text/x-python",
   "name": "python",
   "nbconvert_exporter": "python",
   "pygments_lexer": "ipython3",
   "version": "3.11.5"
  },
  "toc-autonumbering": true
 },
 "nbformat": 4,
 "nbformat_minor": 5
}
