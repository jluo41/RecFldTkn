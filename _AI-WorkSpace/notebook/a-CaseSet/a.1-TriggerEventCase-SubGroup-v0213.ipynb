{
 "cells": [
  {
   "cell_type": "markdown",
   "id": "881d73c8-f12f-4a9b-a485-996a76289767",
   "metadata": {},
   "source": [
    "\n",
    "# Space"
   ]
  },
  {
   "cell_type": "code",
   "execution_count": 1,
   "id": "c8fa8c69",
   "metadata": {},
   "outputs": [
    {
     "name": "stdout",
     "output_type": "stream",
     "text": [
      "/Users/floydluo/Library/CloudStorage/OneDrive-DRFIRST.COM,INC/Documents - DrFirst-JHU Collaboration Center/DrFirst-Project/2024-DrFirst-v2-SPACE/_DrFirst-AI-EduRxPred-WorkSpace\n",
      "{'CODE_FN': '../pipeline',\n",
      " 'CODE_RFT': '../pipeline',\n",
      " 'DATA_CaseObs': '../_Data/2-Data_CaseObs',\n",
      " 'DATA_RAW': '../_Data/0-Data_Raw',\n",
      " 'DATA_RFT': '../_Data/1-Data_RFT',\n",
      " 'DATA_TASK': 'Data_EduRxPred',\n",
      " 'MODEL_TASK': 'Model_EduRxPred',\n",
      " 'WORKSPACE_PATH': '/Users/floydluo/Library/CloudStorage/OneDrive-DRFIRST.COM,INC/Documents '\n",
      "                   '- DrFirst-JHU Collaboration '\n",
      "                   'Center/DrFirst-Project/2024-DrFirst-v2-SPACE/_DrFirst-AI-EduRxPred-WorkSpace'}\n"
     ]
    }
   ],
   "source": [
    "import os\n",
    "import sys \n",
    "import logging\n",
    "import pandas as pd \n",
    "from pprint import pprint \n",
    "\n",
    "# WorkSpace\n",
    "KEY = 'WorkSpace'; WORKSPACE_PATH = os.getcwd().split(KEY)[0] + KEY; print(WORKSPACE_PATH)\n",
    "os.chdir(WORKSPACE_PATH)\n",
    "sys.path.append(WORKSPACE_PATH)\n",
    "\n",
    "# Pipeline Space\n",
    "from proj_space import SPACE\n",
    "SPACE['WORKSPACE_PATH'] = WORKSPACE_PATH\n",
    "sys.path.append(SPACE['CODE_FN'])\n",
    "pprint(SPACE)\n",
    "\n",
    "# Available Packages\n",
    "import pandas as pd\n",
    "from datetime import datetime \n",
    "\n",
    "logger = logging.getLogger(__name__)\n",
    "recfldtkn_config_path = os.path.join(SPACE['CODE_FN'], 'config_recfldtkn/')\n"
   ]
  },
  {
   "cell_type": "markdown",
   "metadata": {},
   "source": [
    "# Trigger Events"
   ]
  },
  {
   "cell_type": "code",
   "execution_count": 2,
   "metadata": {},
   "outputs": [],
   "source": [
    "###########################\n",
    "TriggerRecName = 'Rx'\n",
    "case_id_columns = [\"PID\", \"ObsDT\", 'PInvID', 'RxID']\n",
    "special_columns = ['PID', 'DT', 'PInvID', 'RxID', 'show_educational_campaigns', 'drug_name', 'ndc_id']\n",
    "###########################"
   ]
  },
  {
   "cell_type": "code",
   "execution_count": 3,
   "metadata": {},
   "outputs": [
    {
     "name": "stdout",
     "output_type": "stream",
     "text": [
      "{'RawRootID': 'patient_id_encoded', 'CohortInfo': {'RawData2023Nov_Trulicity': {'cohort_label': 1, 'cohort_name': 'RawData2023Nov_Trulicity', 'FolderPath': '../_Data/0-Data_Raw/2023_11_30_30days_Trulicity'}}, 'RootID': 'PID', 'RecName': 'PRawRecNum', 'rec_folder': '../_Data/1-Data_RFT/RecAttr/', 'fld_folder': '../_Data/1-Data_RFT/RecAttr/', 'hfds_folder': '../_Data/1-Data_RFT/HfDataset/', 'recattr_pyfolder': '../pipeline/fn_recattr/', 'fldtkn_pyfolder': '../pipeline/fn_fldtkn/', 'humanrec_pyfolder': '../pipeline/fn_humanrec/', 'RecName_to_RFT_GROUP_SIZE': {'Default': 5000}, 'RecName_to_RFT_idx_group_size': {'Default': 10000}, 'RecName_to_RFT_usebucket': {'Default': False}, 'RootIDLength': 6, 'recfldtkn_config_path': '../pipeline/config_recfldtkn/', 'SPACE': {'DATA_RAW': '../_Data/0-Data_Raw', 'DATA_RFT': '../_Data/1-Data_RFT', 'DATA_CaseObs': '../_Data/2-Data_CaseObs', 'CODE_FN': '../pipeline', 'CODE_RFT': '../pipeline', 'DATA_TASK': 'Data_EduRxPred', 'MODEL_TASK': 'Model_EduRxPred', 'WORKSPACE_PATH': '/Users/floydluo/Library/CloudStorage/OneDrive-DRFIRST.COM,INC/Documents - DrFirst-JHU Collaboration Center/DrFirst-Project/2024-DrFirst-v2-SPACE/_DrFirst-AI-EduRxPred-WorkSpace'}, 'pypath': '../pipeline/fn_humanrec/humanrec.py', 'Ckpd_ObservationS': {'InObs': {'CkpdName': 'InCase', 'DistStartToPredDT': -0.01, 'DistEndToPredDT': 0.01, 'TimeUnit': 'min', 'StartIdx5Min': 0, 'EndIdx5Min': 0}, 'Bf24H': {'CkpdName': 'Bf24H', 'DistStartToPredDT': -24, 'DistEndToPredDT': 0.01, 'TimeUnit': 'H', 'StartIdx5Min': -288, 'EndIdx5Min': 0}, 'Bf1M': {'CkpdName': 'Bf1M', 'DistStartToPredDT': -720, 'DistEndToPredDT': 0.01, 'TimeUnit': 'H', 'StartIdx5Min': -8640, 'EndIdx5Min': 0}, 'Af2H': {'CkpdName': 'Af2H', 'DistStartToPredDT': 1, 'DistEndToPredDT': 121, 'TimeUnit': 'min', 'StartIdx5Min': 1, 'EndIdx5Min': 24}, 'Af1W': {'CkpdName': 'Af1W', 'DistStartToPredDT': 0.0001, 'DistEndToPredDT': 7, 'TimeUnit': 'D', 'StartIdx5Min': 1, 'EndIdx5Min': 2016}}}\n"
     ]
    }
   ],
   "source": [
    "import datasets\n",
    "from recfldtkn.loadtools import load_ds_rec_and_info\n",
    "from recfldtkn.configfn import load_cohort_args, load_record_args\n",
    "\n",
    "cohort_args = load_cohort_args(recfldtkn_config_path, SPACE)\n",
    "print(cohort_args)"
   ]
  },
  {
   "cell_type": "code",
   "execution_count": 4,
   "metadata": {},
   "outputs": [
    {
     "name": "stdout",
     "output_type": "stream",
     "text": [
      "Data_EduRxPred/CaseFolder\n"
     ]
    }
   ],
   "source": [
    "CaseFolder = os.path.join(SPACE['DATA_TASK'], 'CaseFolder')\n",
    "print(CaseFolder)"
   ]
  },
  {
   "cell_type": "markdown",
   "metadata": {},
   "source": [
    "# ScopeCaseName: TrulicityRx"
   ]
  },
  {
   "cell_type": "code",
   "execution_count": 5,
   "metadata": {},
   "outputs": [
    {
     "data": {
      "text/html": [
       "<div>\n",
       "<style scoped>\n",
       "    .dataframe tbody tr th:only-of-type {\n",
       "        vertical-align: middle;\n",
       "    }\n",
       "\n",
       "    .dataframe tbody tr th {\n",
       "        vertical-align: top;\n",
       "    }\n",
       "\n",
       "    .dataframe thead th {\n",
       "        text-align: right;\n",
       "    }\n",
       "</style>\n",
       "<table border=\"1\" class=\"dataframe\">\n",
       "  <thead>\n",
       "    <tr style=\"text-align: right;\">\n",
       "      <th></th>\n",
       "      <th>PID</th>\n",
       "      <th>ObsDT</th>\n",
       "      <th>PInvID</th>\n",
       "      <th>RxID</th>\n",
       "      <th>DT</th>\n",
       "      <th>show_educational_campaigns</th>\n",
       "      <th>drug_name</th>\n",
       "      <th>ndc_id</th>\n",
       "    </tr>\n",
       "  </thead>\n",
       "  <tbody>\n",
       "    <tr>\n",
       "      <th>0</th>\n",
       "      <td>1000001</td>\n",
       "      <td>2023-09-07 18:13:08.746</td>\n",
       "      <td>1000001-005</td>\n",
       "      <td>1000001-005-000</td>\n",
       "      <td>2023-09-07 18:13:08.746</td>\n",
       "      <td>True</td>\n",
       "      <td>Trulicity</td>\n",
       "      <td>2143380.0</td>\n",
       "    </tr>\n",
       "    <tr>\n",
       "      <th>1</th>\n",
       "      <td>1000002</td>\n",
       "      <td>2023-09-21 23:38:11.348</td>\n",
       "      <td>1000002-000</td>\n",
       "      <td>1000002-000-000</td>\n",
       "      <td>2023-09-21 23:38:11.348</td>\n",
       "      <td>True</td>\n",
       "      <td>Trulicity</td>\n",
       "      <td>2143380.0</td>\n",
       "    </tr>\n",
       "    <tr>\n",
       "      <th>2</th>\n",
       "      <td>1000003</td>\n",
       "      <td>2023-09-05 16:33:52.699</td>\n",
       "      <td>1000003-000</td>\n",
       "      <td>1000003-000-000</td>\n",
       "      <td>2023-09-05 16:33:52.699</td>\n",
       "      <td>True</td>\n",
       "      <td>Trulicity</td>\n",
       "      <td>2143380.0</td>\n",
       "    </tr>\n",
       "    <tr>\n",
       "      <th>3</th>\n",
       "      <td>1000004</td>\n",
       "      <td>2023-05-09 20:46:13.911</td>\n",
       "      <td>1000004-003</td>\n",
       "      <td>1000004-003-000</td>\n",
       "      <td>2023-05-09 20:46:13.911</td>\n",
       "      <td>None</td>\n",
       "      <td>Trulicity</td>\n",
       "      <td>2143380.0</td>\n",
       "    </tr>\n",
       "    <tr>\n",
       "      <th>4</th>\n",
       "      <td>1000004</td>\n",
       "      <td>2023-09-01 17:07:57.276</td>\n",
       "      <td>1000004-007</td>\n",
       "      <td>1000004-007-000</td>\n",
       "      <td>2023-09-01 17:07:57.276</td>\n",
       "      <td>True</td>\n",
       "      <td>Trulicity</td>\n",
       "      <td>2223680.0</td>\n",
       "    </tr>\n",
       "    <tr>\n",
       "      <th>...</th>\n",
       "      <td>...</td>\n",
       "      <td>...</td>\n",
       "      <td>...</td>\n",
       "      <td>...</td>\n",
       "      <td>...</td>\n",
       "      <td>...</td>\n",
       "      <td>...</td>\n",
       "      <td>...</td>\n",
       "    </tr>\n",
       "    <tr>\n",
       "      <th>101001</th>\n",
       "      <td>1046209</td>\n",
       "      <td>2023-05-04 13:45:40.707</td>\n",
       "      <td>1046209-000</td>\n",
       "      <td>1046209-000-000</td>\n",
       "      <td>2023-05-04 13:45:40.707</td>\n",
       "      <td>None</td>\n",
       "      <td>Trulicity</td>\n",
       "      <td>2143380.0</td>\n",
       "    </tr>\n",
       "    <tr>\n",
       "      <th>101002</th>\n",
       "      <td>1046209</td>\n",
       "      <td>2023-07-18 15:48:38.928</td>\n",
       "      <td>1046209-002</td>\n",
       "      <td>1046209-002-000</td>\n",
       "      <td>2023-07-18 15:48:38.928</td>\n",
       "      <td>True</td>\n",
       "      <td>Trulicity</td>\n",
       "      <td>2143380.0</td>\n",
       "    </tr>\n",
       "    <tr>\n",
       "      <th>101003</th>\n",
       "      <td>1046209</td>\n",
       "      <td>2023-07-20 15:05:52.683</td>\n",
       "      <td>1046209-004</td>\n",
       "      <td>1046209-004-000</td>\n",
       "      <td>2023-07-20 15:05:52.683</td>\n",
       "      <td>True</td>\n",
       "      <td>Trulicity</td>\n",
       "      <td>2143380.0</td>\n",
       "    </tr>\n",
       "    <tr>\n",
       "      <th>101004</th>\n",
       "      <td>1046209</td>\n",
       "      <td>2023-09-07 18:10:13.007</td>\n",
       "      <td>1046209-005</td>\n",
       "      <td>1046209-005-000</td>\n",
       "      <td>2023-09-07 18:10:13.007</td>\n",
       "      <td>True</td>\n",
       "      <td>Trulicity</td>\n",
       "      <td>2143380.0</td>\n",
       "    </tr>\n",
       "    <tr>\n",
       "      <th>101005</th>\n",
       "      <td>1046209</td>\n",
       "      <td>2023-11-28 14:38:19.801</td>\n",
       "      <td>1046209-007</td>\n",
       "      <td>1046209-007-000</td>\n",
       "      <td>2023-11-28 14:38:19.801</td>\n",
       "      <td>True</td>\n",
       "      <td>Trulicity</td>\n",
       "      <td>2143380.0</td>\n",
       "    </tr>\n",
       "  </tbody>\n",
       "</table>\n",
       "<p>101006 rows × 8 columns</p>\n",
       "</div>"
      ],
      "text/plain": [
       "            PID                   ObsDT       PInvID             RxID  \\\n",
       "0       1000001 2023-09-07 18:13:08.746  1000001-005  1000001-005-000   \n",
       "1       1000002 2023-09-21 23:38:11.348  1000002-000  1000002-000-000   \n",
       "2       1000003 2023-09-05 16:33:52.699  1000003-000  1000003-000-000   \n",
       "3       1000004 2023-05-09 20:46:13.911  1000004-003  1000004-003-000   \n",
       "4       1000004 2023-09-01 17:07:57.276  1000004-007  1000004-007-000   \n",
       "...         ...                     ...          ...              ...   \n",
       "101001  1046209 2023-05-04 13:45:40.707  1046209-000  1046209-000-000   \n",
       "101002  1046209 2023-07-18 15:48:38.928  1046209-002  1046209-002-000   \n",
       "101003  1046209 2023-07-20 15:05:52.683  1046209-004  1046209-004-000   \n",
       "101004  1046209 2023-09-07 18:10:13.007  1046209-005  1046209-005-000   \n",
       "101005  1046209 2023-11-28 14:38:19.801  1046209-007  1046209-007-000   \n",
       "\n",
       "                            DT show_educational_campaigns  drug_name  \\\n",
       "0      2023-09-07 18:13:08.746                       True  Trulicity   \n",
       "1      2023-09-21 23:38:11.348                       True  Trulicity   \n",
       "2      2023-09-05 16:33:52.699                       True  Trulicity   \n",
       "3      2023-05-09 20:46:13.911                       None  Trulicity   \n",
       "4      2023-09-01 17:07:57.276                       True  Trulicity   \n",
       "...                        ...                        ...        ...   \n",
       "101001 2023-05-04 13:45:40.707                       None  Trulicity   \n",
       "101002 2023-07-18 15:48:38.928                       True  Trulicity   \n",
       "101003 2023-07-20 15:05:52.683                       True  Trulicity   \n",
       "101004 2023-09-07 18:10:13.007                       True  Trulicity   \n",
       "101005 2023-11-28 14:38:19.801                       True  Trulicity   \n",
       "\n",
       "           ndc_id  \n",
       "0       2143380.0  \n",
       "1       2143380.0  \n",
       "2       2143380.0  \n",
       "3       2143380.0  \n",
       "4       2223680.0  \n",
       "...           ...  \n",
       "101001  2143380.0  \n",
       "101002  2143380.0  \n",
       "101003  2143380.0  \n",
       "101004  2143380.0  \n",
       "101005  2143380.0  \n",
       "\n",
       "[101006 rows x 8 columns]"
      ]
     },
     "execution_count": 5,
     "metadata": {},
     "output_type": "execute_result"
    }
   ],
   "source": [
    "######################################\n",
    "ScopeCaseName = 'TrulicityRx'\n",
    "\n",
    "def convert_trigger_events_to_caseset(TriggerRecName, case_id_columns, special_columns, cohort_args):\n",
    "    # record_args = load_record_args(TriggerRecName, cohort_args)\n",
    "    ds_rec, _ = load_ds_rec_and_info(TriggerRecName, cohort_args)\n",
    "    # ds_rec = ds_rec.rename_column(record_args['RecDT'], 'ObsDT')\n",
    "    # print(ds_rec.head())\n",
    "    ds_case = ds_rec.select_columns(special_columns)\n",
    "    df_case_raw = ds_case.to_pandas()\n",
    "\n",
    "    # ------------------------------ Filter Cases ------------------------------\n",
    "    df_case_filter = df_case_raw[df_case_raw['drug_name'] == 'Trulicity'].reset_index(drop=True)\n",
    "    # --------------------------------------------------------------------------\n",
    "\n",
    "    # ------------------------------ Determine the ObsDT ------------------------------\n",
    "    df_case_filter['ObsDT'] = df_case_filter['DT'] # [df_case_raw['drug_name'] == 'Trulicity']\n",
    "    # --------------------------------------------------------------------------\n",
    "\n",
    "    # ------------------------------- Update Column Sequence ------------------------\n",
    "    columns = df_case_filter.columns \n",
    "    columns = case_id_columns + [col for col in columns if col not in case_id_columns]\n",
    "    df_case_filter = df_case_filter[columns].reset_index(drop=True)\n",
    "\n",
    "    return df_case_filter\n",
    "######################################\n",
    "\n",
    "\n",
    "df_case_filter = convert_trigger_events_to_caseset(TriggerRecName, case_id_columns, special_columns, cohort_args)\n",
    "df_case_filter"
   ]
  },
  {
   "cell_type": "code",
   "execution_count": 6,
   "metadata": {},
   "outputs": [],
   "source": [
    "df_case = df_case_filter"
   ]
  },
  {
   "cell_type": "markdown",
   "metadata": {},
   "source": [
    "# ScopeCaseName: EduCmpRx"
   ]
  },
  {
   "cell_type": "code",
   "execution_count": 7,
   "metadata": {},
   "outputs": [],
   "source": [
    "# ######################################\n",
    "# ScopeCaseName = 'EduCmpRx'\n",
    "\n",
    "# def convert_trigger_events_to_caseset(TriggerRecName, case_id_columns, special_columns, cohort_args):\n",
    "#     record_args = load_record_args(TriggerRecName, cohort_args)\n",
    "#     ds_rec, _ = load_ds_rec_and_info(TriggerRecName, cohort_args)\n",
    "#     ds_case = ds_rec.select_columns(special_columns)\n",
    "#     df_case_raw = ds_case.to_pandas()\n",
    "\n",
    "#     # ------------------------------ Filter Cases ------------------------------\n",
    "#     df_case_filter = df_case_raw[df_case_raw['show_educational_campaigns'] == True].reset_index(drop=True)\n",
    "#     # --------------------------------------------------------------------------\n",
    "\n",
    "#     # ------------------------------ Determine the ObsDT ------------------------------\n",
    "#     df_case_filter['ObsDT'] = df_case_filter['DT'] \n",
    "#     # --------------------------------------------------------------------------\n",
    "\n",
    "#     # ------------------------------- Update Column Sequence ------------------------\n",
    "#     columns = df_case_filter.columns \n",
    "#     columns = case_id_columns + [col for col in columns if col not in case_id_columns]\n",
    "#     df_case_filter = df_case_filter[columns].reset_index(drop=True)\n",
    "    \n",
    "#     return df_case_filter\n",
    "# ######################################\n",
    "\n",
    "# df_case_filter = convert_trigger_events_to_caseset(TriggerRecName, case_id_columns, special_columns, cohort_args)\n",
    "# df_case_filter"
   ]
  },
  {
   "cell_type": "markdown",
   "id": "678e771f",
   "metadata": {},
   "source": [
    "# Case SubGroup"
   ]
  },
  {
   "cell_type": "code",
   "execution_count": 8,
   "id": "3e1457c6",
   "metadata": {},
   "outputs": [
    {
     "data": {
      "text/html": [
       "<div>\n",
       "<style scoped>\n",
       "    .dataframe tbody tr th:only-of-type {\n",
       "        vertical-align: middle;\n",
       "    }\n",
       "\n",
       "    .dataframe tbody tr th {\n",
       "        vertical-align: top;\n",
       "    }\n",
       "\n",
       "    .dataframe thead th {\n",
       "        text-align: right;\n",
       "    }\n",
       "</style>\n",
       "<table border=\"1\" class=\"dataframe\">\n",
       "  <thead>\n",
       "    <tr style=\"text-align: right;\">\n",
       "      <th></th>\n",
       "      <th>PID</th>\n",
       "      <th>patient_gender</th>\n",
       "      <th>patient_age_bucket</th>\n",
       "      <th>patient_zipcode_3</th>\n",
       "      <th>cohort</th>\n",
       "    </tr>\n",
       "  </thead>\n",
       "  <tbody>\n",
       "    <tr>\n",
       "      <th>0</th>\n",
       "      <td>1000001</td>\n",
       "      <td>gM</td>\n",
       "      <td>41-50</td>\n",
       "      <td>494.0</td>\n",
       "      <td>C1</td>\n",
       "    </tr>\n",
       "    <tr>\n",
       "      <th>1</th>\n",
       "      <td>1000002</td>\n",
       "      <td>gF</td>\n",
       "      <td>51-60</td>\n",
       "      <td>350.0</td>\n",
       "      <td>C1</td>\n",
       "    </tr>\n",
       "    <tr>\n",
       "      <th>2</th>\n",
       "      <td>1000003</td>\n",
       "      <td>gF</td>\n",
       "      <td>71-80</td>\n",
       "      <td>213.0</td>\n",
       "      <td>C1</td>\n",
       "    </tr>\n",
       "    <tr>\n",
       "      <th>3</th>\n",
       "      <td>1000004</td>\n",
       "      <td>gF</td>\n",
       "      <td>71-80</td>\n",
       "      <td>497.0</td>\n",
       "      <td>C1</td>\n",
       "    </tr>\n",
       "    <tr>\n",
       "      <th>4</th>\n",
       "      <td>1000005</td>\n",
       "      <td>gF</td>\n",
       "      <td>31-40</td>\n",
       "      <td>859.0</td>\n",
       "      <td>C1</td>\n",
       "    </tr>\n",
       "  </tbody>\n",
       "</table>\n",
       "</div>"
      ],
      "text/plain": [
       "       PID patient_gender patient_age_bucket  patient_zipcode_3 cohort\n",
       "0  1000001             gM              41-50              494.0     C1\n",
       "1  1000002             gF              51-60              350.0     C1\n",
       "2  1000003             gF              71-80              213.0     C1\n",
       "3  1000004             gF              71-80              497.0     C1\n",
       "4  1000005             gF              31-40              859.0     C1"
      ]
     },
     "execution_count": 8,
     "metadata": {},
     "output_type": "execute_result"
    }
   ],
   "source": [
    "# from recfldtkn.datapoint import load_df_data_with_RecName\n",
    "#########################\n",
    "subgroup_columns = ['patient_gender', 'patient_age_bucket', 'patient_zipcode_3']\n",
    "#########################\n",
    "\n",
    "ds_P, _ = load_ds_rec_and_info('P', cohort_args)\n",
    "RootID = 'PID'\n",
    "ds_P = ds_P.select_columns([RootID] + subgroup_columns)\n",
    "df_P = ds_P.to_pandas()\n",
    "\n",
    "df_P['patient_gender'] = df_P['patient_gender'].apply(lambda x: 'g' + str(x) if str(x) != 'U' else 'gNone')\n",
    "# df_P['patient_age_bucket'] = df_P['patient_age_bucket'].apply(lambda x: 'a' + str(x).replace('+', '-').split('-')[0])\n",
    "df_P['cohort'] = df_P[RootID].apply(lambda x: 'C' + str(x)[0])\n",
    "df_P.head()"
   ]
  },
  {
   "cell_type": "code",
   "execution_count": 9,
   "metadata": {},
   "outputs": [
    {
     "data": {
      "text/plain": [
       "patient_gender\n",
       "gF       26122\n",
       "gM       19615\n",
       "gNone       54\n",
       "Name: count, dtype: int64"
      ]
     },
     "execution_count": 9,
     "metadata": {},
     "output_type": "execute_result"
    }
   ],
   "source": [
    "df_P['patient_gender'].value_counts()"
   ]
  },
  {
   "cell_type": "code",
   "execution_count": 10,
   "metadata": {},
   "outputs": [
    {
     "data": {
      "text/plain": [
       "patient_age_group\n",
       "Ab50    33360\n",
       "Bl50    12398\n",
       "None       33\n",
       "Name: count, dtype: int64"
      ]
     },
     "execution_count": 10,
     "metadata": {},
     "output_type": "execute_result"
    }
   ],
   "source": [
    "def get_subgroup_label_of_age(x):\n",
    "    x = str(x).split('-')[0]\n",
    "    if x == 'None':\n",
    "        return 'None' \n",
    "    elif x in ['51', '61', '71', '81+']:\n",
    "        return 'Ab50'\n",
    "    else:\n",
    "        return 'Bl50'\n",
    "\n",
    "df_P['patient_age_group'] = df_P['patient_age_bucket'].apply(lambda x: get_subgroup_label_of_age(x))\n",
    "df_P['patient_age_group'].value_counts()"
   ]
  },
  {
   "cell_type": "code",
   "execution_count": 11,
   "id": "e3c43f70",
   "metadata": {},
   "outputs": [
    {
     "data": {
      "text/html": [
       "<div>\n",
       "<style scoped>\n",
       "    .dataframe tbody tr th:only-of-type {\n",
       "        vertical-align: middle;\n",
       "    }\n",
       "\n",
       "    .dataframe tbody tr th {\n",
       "        vertical-align: top;\n",
       "    }\n",
       "\n",
       "    .dataframe thead th {\n",
       "        text-align: right;\n",
       "    }\n",
       "</style>\n",
       "<table border=\"1\" class=\"dataframe\">\n",
       "  <thead>\n",
       "    <tr style=\"text-align: right;\">\n",
       "      <th></th>\n",
       "      <th>PID</th>\n",
       "      <th>ObsDT</th>\n",
       "      <th>PInvID</th>\n",
       "      <th>RxID</th>\n",
       "      <th>DT</th>\n",
       "      <th>show_educational_campaigns</th>\n",
       "      <th>drug_name</th>\n",
       "      <th>ndc_id</th>\n",
       "      <th>cohort</th>\n",
       "      <th>patient_gender</th>\n",
       "      <th>patient_age_group</th>\n",
       "      <th>patient_age_bucket</th>\n",
       "      <th>patient_zipcode_3</th>\n",
       "    </tr>\n",
       "  </thead>\n",
       "  <tbody>\n",
       "    <tr>\n",
       "      <th>0</th>\n",
       "      <td>1000001</td>\n",
       "      <td>2023-09-07 18:13:08.746</td>\n",
       "      <td>1000001-005</td>\n",
       "      <td>1000001-005-000</td>\n",
       "      <td>2023-09-07 18:13:08.746</td>\n",
       "      <td>True</td>\n",
       "      <td>Trulicity</td>\n",
       "      <td>2143380.0</td>\n",
       "      <td>C1</td>\n",
       "      <td>gM</td>\n",
       "      <td>Bl50</td>\n",
       "      <td>41-50</td>\n",
       "      <td>494.0</td>\n",
       "    </tr>\n",
       "    <tr>\n",
       "      <th>1</th>\n",
       "      <td>1000002</td>\n",
       "      <td>2023-09-21 23:38:11.348</td>\n",
       "      <td>1000002-000</td>\n",
       "      <td>1000002-000-000</td>\n",
       "      <td>2023-09-21 23:38:11.348</td>\n",
       "      <td>True</td>\n",
       "      <td>Trulicity</td>\n",
       "      <td>2143380.0</td>\n",
       "      <td>C1</td>\n",
       "      <td>gF</td>\n",
       "      <td>Ab50</td>\n",
       "      <td>51-60</td>\n",
       "      <td>350.0</td>\n",
       "    </tr>\n",
       "    <tr>\n",
       "      <th>2</th>\n",
       "      <td>1000003</td>\n",
       "      <td>2023-09-05 16:33:52.699</td>\n",
       "      <td>1000003-000</td>\n",
       "      <td>1000003-000-000</td>\n",
       "      <td>2023-09-05 16:33:52.699</td>\n",
       "      <td>True</td>\n",
       "      <td>Trulicity</td>\n",
       "      <td>2143380.0</td>\n",
       "      <td>C1</td>\n",
       "      <td>gF</td>\n",
       "      <td>Ab50</td>\n",
       "      <td>71-80</td>\n",
       "      <td>213.0</td>\n",
       "    </tr>\n",
       "    <tr>\n",
       "      <th>3</th>\n",
       "      <td>1000004</td>\n",
       "      <td>2023-05-09 20:46:13.911</td>\n",
       "      <td>1000004-003</td>\n",
       "      <td>1000004-003-000</td>\n",
       "      <td>2023-05-09 20:46:13.911</td>\n",
       "      <td>None</td>\n",
       "      <td>Trulicity</td>\n",
       "      <td>2143380.0</td>\n",
       "      <td>C1</td>\n",
       "      <td>gF</td>\n",
       "      <td>Ab50</td>\n",
       "      <td>71-80</td>\n",
       "      <td>497.0</td>\n",
       "    </tr>\n",
       "    <tr>\n",
       "      <th>4</th>\n",
       "      <td>1000004</td>\n",
       "      <td>2023-09-01 17:07:57.276</td>\n",
       "      <td>1000004-007</td>\n",
       "      <td>1000004-007-000</td>\n",
       "      <td>2023-09-01 17:07:57.276</td>\n",
       "      <td>True</td>\n",
       "      <td>Trulicity</td>\n",
       "      <td>2223680.0</td>\n",
       "      <td>C1</td>\n",
       "      <td>gF</td>\n",
       "      <td>Ab50</td>\n",
       "      <td>71-80</td>\n",
       "      <td>497.0</td>\n",
       "    </tr>\n",
       "  </tbody>\n",
       "</table>\n",
       "</div>"
      ],
      "text/plain": [
       "       PID                   ObsDT       PInvID             RxID  \\\n",
       "0  1000001 2023-09-07 18:13:08.746  1000001-005  1000001-005-000   \n",
       "1  1000002 2023-09-21 23:38:11.348  1000002-000  1000002-000-000   \n",
       "2  1000003 2023-09-05 16:33:52.699  1000003-000  1000003-000-000   \n",
       "3  1000004 2023-05-09 20:46:13.911  1000004-003  1000004-003-000   \n",
       "4  1000004 2023-09-01 17:07:57.276  1000004-007  1000004-007-000   \n",
       "\n",
       "                       DT show_educational_campaigns  drug_name     ndc_id  \\\n",
       "0 2023-09-07 18:13:08.746                       True  Trulicity  2143380.0   \n",
       "1 2023-09-21 23:38:11.348                       True  Trulicity  2143380.0   \n",
       "2 2023-09-05 16:33:52.699                       True  Trulicity  2143380.0   \n",
       "3 2023-05-09 20:46:13.911                       None  Trulicity  2143380.0   \n",
       "4 2023-09-01 17:07:57.276                       True  Trulicity  2223680.0   \n",
       "\n",
       "  cohort patient_gender patient_age_group patient_age_bucket  \\\n",
       "0     C1             gM              Bl50              41-50   \n",
       "1     C1             gF              Ab50              51-60   \n",
       "2     C1             gF              Ab50              71-80   \n",
       "3     C1             gF              Ab50              71-80   \n",
       "4     C1             gF              Ab50              71-80   \n",
       "\n",
       "   patient_zipcode_3  \n",
       "0              494.0  \n",
       "1              350.0  \n",
       "2              213.0  \n",
       "3              497.0  \n",
       "4              497.0  "
      ]
     },
     "execution_count": 11,
     "metadata": {},
     "output_type": "execute_result"
    }
   ],
   "source": [
    "df_case = pd.merge(df_case, df_P[[RootID, 'cohort', 'patient_gender', 'patient_age_group', 'patient_age_bucket', 'patient_zipcode_3']], how = 'left')\n",
    "df_case.head()"
   ]
  },
  {
   "cell_type": "code",
   "execution_count": 12,
   "metadata": {},
   "outputs": [
    {
     "data": {
      "text/plain": [
       "patient_gender\n",
       "gF       58193\n",
       "gM       42756\n",
       "gNone       57\n",
       "Name: count, dtype: int64"
      ]
     },
     "execution_count": 12,
     "metadata": {},
     "output_type": "execute_result"
    }
   ],
   "source": [
    "df_case['patient_gender'].value_counts()"
   ]
  },
  {
   "cell_type": "markdown",
   "metadata": {},
   "source": [
    "# [Part 2] Two Ways to Seperate Cases\n",
    "\n",
    "1. Case Subgroup Type: \n",
    "2. Case Split Type: Downsample-In/Out-Train/Validation/Test"
   ]
  },
  {
   "cell_type": "markdown",
   "metadata": {},
   "source": [
    "# [Step 1] Subgroups: by Age / Gender / Zipcode / Drug Name"
   ]
  },
  {
   "cell_type": "code",
   "execution_count": 13,
   "id": "b2959d78",
   "metadata": {},
   "outputs": [
    {
     "data": {
      "text/plain": [
       "(101006, 13)"
      ]
     },
     "execution_count": 13,
     "metadata": {},
     "output_type": "execute_result"
    }
   ],
   "source": [
    "df_case.shape"
   ]
  },
  {
   "cell_type": "code",
   "execution_count": 14,
   "metadata": {},
   "outputs": [
    {
     "data": {
      "text/plain": [
       "group\n",
       "C1-gF-Ab50    40517\n",
       "C1-gF-Bl50    17676\n",
       "C1-gM-Ab50    32213\n",
       "C1-gM-Bl50    10543\n",
       "None             57\n",
       "Name: count, dtype: int64"
      ]
     },
     "execution_count": 14,
     "metadata": {},
     "output_type": "execute_result"
    }
   ],
   "source": [
    "##############################\n",
    "df_case['group'] = df_case['cohort'] + '-'  + df_case['patient_gender'] + '-' + df_case['patient_age_group']\n",
    "df_case['group'] = df_case['group'].apply(lambda x: x if 'None' not in x else 'None')\n",
    "##############################\n",
    "\n",
    "df_case['group'].value_counts().sort_index()"
   ]
  },
  {
   "cell_type": "markdown",
   "metadata": {},
   "source": [
    "# ObsDT Distribution"
   ]
  },
  {
   "cell_type": "code",
   "execution_count": 15,
   "metadata": {},
   "outputs": [
    {
     "data": {
      "text/plain": [
       "(Timestamp('2023-03-06 01:14:34.993000'),\n",
       " Timestamp('2023-11-30 18:51:55.732000'))"
      ]
     },
     "execution_count": 15,
     "metadata": {},
     "output_type": "execute_result"
    }
   ],
   "source": [
    "df_case['ObsDT'].min(), df_case['ObsDT'].max()"
   ]
  },
  {
   "cell_type": "code",
   "execution_count": 16,
   "metadata": {},
   "outputs": [
    {
     "name": "stdout",
     "output_type": "stream",
     "text": [
      "2023-11-01 0.06178840860938954\n",
      "2023-10-01 0.13078430984297962\n"
     ]
    }
   ],
   "source": [
    "for d in ['2023-11-01', '2023-10-01']:\n",
    "    s = df_case['ObsDT'] >= pd.to_datetime(d)\n",
    "    print(d, s.mean())"
   ]
  },
  {
   "cell_type": "markdown",
   "id": "577ae177",
   "metadata": {},
   "source": [
    "# Save to SubGroups"
   ]
  },
  {
   "cell_type": "code",
   "execution_count": 18,
   "id": "df63345d",
   "metadata": {},
   "outputs": [
    {
     "data": {
      "text/plain": [
       "{'C1-gF-Ab50': 0, 'C1-gF-Bl50': 1, 'C1-gM-Ab50': 2, 'C1-gM-Bl50': 3, 'None': 4}"
      ]
     },
     "execution_count": 18,
     "metadata": {},
     "output_type": "execute_result"
    }
   ],
   "source": [
    "group_name_list = sorted(list(df_case['group'].unique())) \n",
    "group_name_to_id = {name: i for i, name in enumerate(group_name_list)}\n",
    "group_name_to_id"
   ]
  },
  {
   "cell_type": "code",
   "execution_count": 19,
   "id": "1967687d",
   "metadata": {},
   "outputs": [
    {
     "name": "stdout",
     "output_type": "stream",
     "text": [
      "Data_EduRxPred/CaseFolder/TrulicityRx/0_C1-gF-Ab50.p 40517\n",
      "Data_EduRxPred/CaseFolder/TrulicityRx/1_C1-gF-Bl50.p 17676\n",
      "Data_EduRxPred/CaseFolder/TrulicityRx/2_C1-gM-Ab50.p 32213\n",
      "Data_EduRxPred/CaseFolder/TrulicityRx/3_C1-gM-Bl50.p 10543\n",
      "Data_EduRxPred/CaseFolder/TrulicityRx/4_None.p 57\n"
     ]
    }
   ],
   "source": [
    "case_type = ScopeCaseName\n",
    "\n",
    "for group_name, df_case_group in df_case.groupby('group'):\n",
    "    # df_case_group = df_case_group[case_id_columns].reset_index(drop = True)\n",
    "    df_case_group = df_case_group.reset_index(drop = True)\n",
    "    id = group_name_to_id[group_name]\n",
    "    path = os.path.join(CaseFolder, case_type, f'{id}_{group_name}' + '.p')\n",
    "    if not os.path.exists(os.path.dirname(path)):\n",
    "        os.makedirs(os.path.dirname(path))\n",
    "    print(path, len(df_case_group))\n",
    "    df_case_group.to_pickle(path)\n"
   ]
  },
  {
   "cell_type": "code",
   "execution_count": 20,
   "id": "0ce1a7f0",
   "metadata": {},
   "outputs": [
    {
     "data": {
      "text/html": [
       "<div>\n",
       "<style scoped>\n",
       "    .dataframe tbody tr th:only-of-type {\n",
       "        vertical-align: middle;\n",
       "    }\n",
       "\n",
       "    .dataframe tbody tr th {\n",
       "        vertical-align: top;\n",
       "    }\n",
       "\n",
       "    .dataframe thead th {\n",
       "        text-align: right;\n",
       "    }\n",
       "</style>\n",
       "<table border=\"1\" class=\"dataframe\">\n",
       "  <thead>\n",
       "    <tr style=\"text-align: right;\">\n",
       "      <th></th>\n",
       "      <th>PID</th>\n",
       "      <th>ObsDT</th>\n",
       "      <th>PInvID</th>\n",
       "      <th>RxID</th>\n",
       "      <th>DT</th>\n",
       "      <th>show_educational_campaigns</th>\n",
       "      <th>drug_name</th>\n",
       "      <th>ndc_id</th>\n",
       "      <th>cohort</th>\n",
       "      <th>patient_gender</th>\n",
       "      <th>patient_age_group</th>\n",
       "      <th>patient_age_bucket</th>\n",
       "      <th>patient_zipcode_3</th>\n",
       "      <th>group</th>\n",
       "    </tr>\n",
       "  </thead>\n",
       "  <tbody>\n",
       "    <tr>\n",
       "      <th>0</th>\n",
       "      <td>1000564</td>\n",
       "      <td>2023-07-28 22:00:54.781</td>\n",
       "      <td>1000564-002</td>\n",
       "      <td>1000564-002-000</td>\n",
       "      <td>2023-07-28 22:00:54.781</td>\n",
       "      <td>True</td>\n",
       "      <td>Trulicity</td>\n",
       "      <td>2318201.0</td>\n",
       "      <td>C1</td>\n",
       "      <td>gNone</td>\n",
       "      <td>Ab50</td>\n",
       "      <td>71-80</td>\n",
       "      <td>985.0</td>\n",
       "      <td>None</td>\n",
       "    </tr>\n",
       "    <tr>\n",
       "      <th>1</th>\n",
       "      <td>1000564</td>\n",
       "      <td>2023-09-14 15:03:22.234</td>\n",
       "      <td>1000564-003</td>\n",
       "      <td>1000564-003-000</td>\n",
       "      <td>2023-09-14 15:03:22.234</td>\n",
       "      <td>True</td>\n",
       "      <td>Trulicity</td>\n",
       "      <td>2318280.0</td>\n",
       "      <td>C1</td>\n",
       "      <td>gNone</td>\n",
       "      <td>Ab50</td>\n",
       "      <td>71-80</td>\n",
       "      <td>985.0</td>\n",
       "      <td>None</td>\n",
       "    </tr>\n",
       "    <tr>\n",
       "      <th>2</th>\n",
       "      <td>1000597</td>\n",
       "      <td>2023-03-14 19:47:03.422</td>\n",
       "      <td>1000597-000</td>\n",
       "      <td>1000597-000-000</td>\n",
       "      <td>2023-03-14 19:47:03.422</td>\n",
       "      <td>None</td>\n",
       "      <td>Trulicity</td>\n",
       "      <td>2223601.0</td>\n",
       "      <td>C1</td>\n",
       "      <td>gNone</td>\n",
       "      <td>Ab50</td>\n",
       "      <td>61-70</td>\n",
       "      <td>985.0</td>\n",
       "      <td>None</td>\n",
       "    </tr>\n",
       "    <tr>\n",
       "      <th>3</th>\n",
       "      <td>1000597</td>\n",
       "      <td>2023-04-06 23:56:35.534</td>\n",
       "      <td>1000597-001</td>\n",
       "      <td>1000597-001-000</td>\n",
       "      <td>2023-04-06 23:56:35.534</td>\n",
       "      <td>None</td>\n",
       "      <td>Trulicity</td>\n",
       "      <td>2318201.0</td>\n",
       "      <td>C1</td>\n",
       "      <td>gNone</td>\n",
       "      <td>Ab50</td>\n",
       "      <td>61-70</td>\n",
       "      <td>985.0</td>\n",
       "      <td>None</td>\n",
       "    </tr>\n",
       "    <tr>\n",
       "      <th>4</th>\n",
       "      <td>1000597</td>\n",
       "      <td>2023-05-03 20:54:56.970</td>\n",
       "      <td>1000597-002</td>\n",
       "      <td>1000597-002-000</td>\n",
       "      <td>2023-05-03 20:54:56.970</td>\n",
       "      <td>None</td>\n",
       "      <td>Trulicity</td>\n",
       "      <td>2318201.0</td>\n",
       "      <td>C1</td>\n",
       "      <td>gNone</td>\n",
       "      <td>Ab50</td>\n",
       "      <td>61-70</td>\n",
       "      <td>985.0</td>\n",
       "      <td>None</td>\n",
       "    </tr>\n",
       "  </tbody>\n",
       "</table>\n",
       "</div>"
      ],
      "text/plain": [
       "       PID                   ObsDT       PInvID             RxID  \\\n",
       "0  1000564 2023-07-28 22:00:54.781  1000564-002  1000564-002-000   \n",
       "1  1000564 2023-09-14 15:03:22.234  1000564-003  1000564-003-000   \n",
       "2  1000597 2023-03-14 19:47:03.422  1000597-000  1000597-000-000   \n",
       "3  1000597 2023-04-06 23:56:35.534  1000597-001  1000597-001-000   \n",
       "4  1000597 2023-05-03 20:54:56.970  1000597-002  1000597-002-000   \n",
       "\n",
       "                       DT show_educational_campaigns  drug_name     ndc_id  \\\n",
       "0 2023-07-28 22:00:54.781                       True  Trulicity  2318201.0   \n",
       "1 2023-09-14 15:03:22.234                       True  Trulicity  2318280.0   \n",
       "2 2023-03-14 19:47:03.422                       None  Trulicity  2223601.0   \n",
       "3 2023-04-06 23:56:35.534                       None  Trulicity  2318201.0   \n",
       "4 2023-05-03 20:54:56.970                       None  Trulicity  2318201.0   \n",
       "\n",
       "  cohort patient_gender patient_age_group patient_age_bucket  \\\n",
       "0     C1          gNone              Ab50              71-80   \n",
       "1     C1          gNone              Ab50              71-80   \n",
       "2     C1          gNone              Ab50              61-70   \n",
       "3     C1          gNone              Ab50              61-70   \n",
       "4     C1          gNone              Ab50              61-70   \n",
       "\n",
       "   patient_zipcode_3 group  \n",
       "0              985.0  None  \n",
       "1              985.0  None  \n",
       "2              985.0  None  \n",
       "3              985.0  None  \n",
       "4              985.0  None  "
      ]
     },
     "execution_count": 20,
     "metadata": {},
     "output_type": "execute_result"
    }
   ],
   "source": [
    "df_case_group.head()"
   ]
  },
  {
   "cell_type": "code",
   "execution_count": null,
   "id": "dbbcd1cd",
   "metadata": {},
   "outputs": [],
   "source": []
  },
  {
   "cell_type": "code",
   "execution_count": null,
   "id": "d2b9977f",
   "metadata": {},
   "outputs": [],
   "source": []
  }
 ],
 "metadata": {
  "kernelspec": {
   "display_name": "Python 3 (ipykernel)",
   "language": "python",
   "name": "python3"
  },
  "language_info": {
   "codemirror_mode": {
    "name": "ipython",
    "version": 3
   },
   "file_extension": ".py",
   "mimetype": "text/x-python",
   "name": "python",
   "nbconvert_exporter": "python",
   "pygments_lexer": "ipython3",
   "version": "3.8.8"
  },
  "toc-autonumbering": true
 },
 "nbformat": 4,
 "nbformat_minor": 5
}
