{
 "cells": [
  {
   "cell_type": "markdown",
   "id": "881d73c8-f12f-4a9b-a485-996a76289767",
   "metadata": {},
   "source": [
    "\n",
    "# Space"
   ]
  },
  {
   "cell_type": "code",
   "execution_count": null,
   "id": "c8fa8c69",
   "metadata": {},
   "outputs": [],
   "source": [
    "import os\n",
    "import sys \n",
    "import logging\n",
    "import pandas as pd \n",
    "from pprint import pprint \n",
    "\n",
    "# WorkSpace\n",
    "KEY = 'WorkSpace'; WORKSPACE_PATH = os.getcwd().split(KEY)[0] + KEY; print(WORKSPACE_PATH)\n",
    "os.chdir(WORKSPACE_PATH)\n",
    "sys.path.append(WORKSPACE_PATH)\n",
    "\n",
    "# Pipeline Space\n",
    "from proj_space import SPACE\n",
    "SPACE['WORKSPACE_PATH'] = WORKSPACE_PATH\n",
    "sys.path.append(SPACE['CODE_FN'])\n",
    "pprint(SPACE)\n",
    "\n",
    "# Available Packages\n",
    "import pandas as pd\n",
    "from datetime import datetime \n",
    "\n",
    "logger = logging.getLogger(__name__)\n",
    "recfldtkn_config_path = os.path.join(SPACE['CODE_FN'], 'config_recfldtkn/')\n"
   ]
  },
  {
   "cell_type": "markdown",
   "metadata": {},
   "source": [
    "# Trigger Events"
   ]
  },
  {
   "cell_type": "code",
   "execution_count": null,
   "metadata": {},
   "outputs": [],
   "source": [
    "import datasets\n",
    "from recfldtkn.loadtools import load_ds_rec_and_info\n",
    "from recfldtkn.configfn import load_cohort_args, load_record_args\n",
    "from recfldtkn.loadtools import convert_variables_to_pystirng, load_module_variables\n",
    "\n",
    "base_config = load_cohort_args(recfldtkn_config_path, SPACE)\n",
    "print(base_config)"
   ]
  },
  {
   "cell_type": "code",
   "execution_count": null,
   "metadata": {},
   "outputs": [],
   "source": [
    "# CaseFolder = os.path.join(SPACE['DATA_TASK'], 'CaseFolder')\n",
    "# print(CaseFolder)"
   ]
  },
  {
   "cell_type": "markdown",
   "metadata": {},
   "source": [
    "# Trigger Case"
   ]
  },
  {
   "cell_type": "code",
   "execution_count": null,
   "id": "59770bc4",
   "metadata": {},
   "outputs": [],
   "source": [
    "#################\n",
    "cohort_label_list = [1, 2, 3]\n",
    "#################\n",
    "\n",
    "######################################\n",
    "TriggerCaseMethod = 'CGM5MinEntry'\n",
    "######################################\n",
    "\n",
    "TriggerRecName = 'CGM5Min'\n",
    "case_id_columns = [\"PID\", \"ObsDT\"]\n",
    "special_columns = ['PID', 'DT_s']"
   ]
  },
  {
   "cell_type": "code",
   "execution_count": null,
   "metadata": {},
   "outputs": [],
   "source": [
    "\n",
    "import inspect\n",
    "\n",
    "def convert_TriggerEvent_to_Caseset(ds_rec, case_id_columns, special_columns, base_config):\n",
    "    ds_case = ds_rec.select_columns(special_columns)\n",
    "    df_case_raw = ds_case.to_pandas()\n",
    "    \n",
    "    # ------------------------------ Filter Cases ------------------------------\n",
    "    df_case_filter = df_case_raw # [df_case_raw['invitation_state'] == 'Delivered'].reset_index(drop=True)\n",
    "    # --------------------------------------------------------------------------\n",
    "\n",
    "    # ------------------------------ Determine the ObsDT ------------------------------\n",
    "    df_case_filter['ObsDT'] = df_case_filter['DT_s'] # [df_case_raw['drug_name'] == 'Trulicity']\n",
    "    df_case_filter = df_case_filter.drop(columns = 'DT_s') # .from_pandas(df_case_filter)\n",
    "    # --------------------------------------------------------------------------\n",
    "\n",
    "    # ------------------------------- Update Column Sequence ------------------------\n",
    "    columns = df_case_filter.columns \n",
    "    columns = case_id_columns + [col for col in columns if col not in case_id_columns]\n",
    "    df_case_filter = df_case_filter[columns].reset_index(drop=True)\n",
    "\n",
    "    df_case = df_case_filter\n",
    "    return df_case\n",
    "\n",
    "convert_TriggerEvent_to_Caseset.fn_string = inspect.getsource(convert_TriggerEvent_to_Caseset)"
   ]
  },
  {
   "cell_type": "code",
   "execution_count": null,
   "id": "2bde43a3",
   "metadata": {},
   "outputs": [],
   "source": [
    "prefix = ['import pandas as pd', 'import numpy as np']\n",
    "string_variables = [TriggerRecName]\n",
    "iterative_variables = [case_id_columns, special_columns]\n",
    "fn_variables = [convert_TriggerEvent_to_Caseset]\n",
    "pycode = convert_variables_to_pystirng(string_variables = string_variables, \n",
    "                                       iterative_variables = iterative_variables, \n",
    "                                       fn_variables = fn_variables, prefix = prefix)\n",
    "pypath = os.path.join(base_config['trigger_pyfolder'], f'{TriggerCaseMethod}.py')\n",
    "print(pypath)\n",
    "if not os.path.exists(os.path.dirname(pypath)): os.makedirs(os.path.dirname(pypath))\n",
    "with open(pypath, 'w') as file: file.write(pycode)"
   ]
  },
  {
   "cell_type": "code",
   "execution_count": null,
   "id": "e1bf73a5",
   "metadata": {},
   "outputs": [],
   "source": [
    "pypath = os.path.join(base_config['trigger_pyfolder'], f'{TriggerCaseMethod}.py')\n",
    "module = load_module_variables(pypath)\n",
    "\n",
    "######################\n",
    "TriggerRecName = module.TriggerRecName\n",
    "case_id_columns = module.case_id_columns\n",
    "special_columns = module.special_columns\n",
    "convert_TriggerEvent_to_Caseset = module.convert_TriggerEvent_to_Caseset\n",
    "######################"
   ]
  },
  {
   "cell_type": "code",
   "execution_count": null,
   "id": "56db8208",
   "metadata": {},
   "outputs": [],
   "source": [
    "############################### ds_rec to df_case ###############################\n",
    "ds_rec, _ = load_ds_rec_and_info(TriggerRecName, base_config, cohort_label_list)\n",
    "df_case = convert_TriggerEvent_to_Caseset(ds_rec, case_id_columns, special_columns, base_config)\n",
    "df_case"
   ]
  },
  {
   "cell_type": "code",
   "execution_count": null,
   "id": "8c8ceba4",
   "metadata": {},
   "outputs": [],
   "source": [
    " #  = [1, 2, 3]"
   ]
  },
  {
   "cell_type": "code",
   "execution_count": null,
   "id": "d982f3d6",
   "metadata": {},
   "outputs": [],
   "source": [
    "CaseFolder = os.path.join(SPACE['DATA_CaseSet'])\n",
    "\n",
    "if not os.path.exists(CaseFolder): os.makedirs(CaseFolder)\n",
    "\n",
    "cohort_label_list_str = '_'.join([str(i) for i in cohort_label_list])\n",
    "# path = os.path.join(CaseFolder, f'{TriggerCaseMethod}-{cohort_label_list_str}.p')\n",
    "path = os.path.join(CaseFolder, f'{TriggerCaseMethod}.p')\n",
    "df_case.to_pickle(path)\n",
    "print(path)"
   ]
  },
  {
   "cell_type": "code",
   "execution_count": null,
   "id": "949cc206",
   "metadata": {},
   "outputs": [],
   "source": []
  }
 ],
 "metadata": {
  "kernelspec": {
   "display_name": "Python 3 (ipykernel)",
   "language": "python",
   "name": "python3"
  },
  "language_info": {
   "codemirror_mode": {
    "name": "ipython",
    "version": 3
   },
   "file_extension": ".py",
   "mimetype": "text/x-python",
   "name": "python",
   "nbconvert_exporter": "python",
   "pygments_lexer": "ipython3",
   "version": "3.10.9"
  },
  "toc-autonumbering": true
 },
 "nbformat": 4,
 "nbformat_minor": 5
}
